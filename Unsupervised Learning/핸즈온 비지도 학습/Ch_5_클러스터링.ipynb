{
  "nbformat": 4,
  "nbformat_minor": 0,
  "metadata": {
    "colab": {
      "provenance": [],
      "mount_file_id": "1cF_WFTQDxy89M6UHLX9iBH-rC-uyEJD6",
      "authorship_tag": "ABX9TyOM+w4eSIITIppXAc3sbJIE",
      "include_colab_link": true
    },
    "kernelspec": {
      "name": "python3",
      "display_name": "Python 3"
    },
    "language_info": {
      "name": "python"
    }
  },
  "cells": [
    {
      "cell_type": "markdown",
      "metadata": {
        "id": "view-in-github",
        "colab_type": "text"
      },
      "source": [
        "<a href=\"https://colab.research.google.com/github/namwootree/Basic_Skill/blob/main/Unsupervised%20Learning/%ED%95%B8%EC%A6%88%EC%98%A8%20%EB%B9%84%EC%A7%80%EB%8F%84%20%ED%95%99%EC%8A%B5/Ch_5_%ED%81%B4%EB%9F%AC%EC%8A%A4%ED%84%B0%EB%A7%81.ipynb\" target=\"_parent\"><img src=\"https://colab.research.google.com/assets/colab-badge.svg\" alt=\"Open In Colab\"/></a>"
      ]
    },
    {
      "cell_type": "markdown",
      "source": [
        "# 클러스터링"
      ],
      "metadata": {
        "id": "UVwf9z_5lUSe"
      }
    },
    {
      "cell_type": "markdown",
      "source": [
        "* 유사성을 기반으로 개체를 함께 그룹화\n",
        "* 그룹 내 관측치는 서로 유사하지만 다른 그룹의 관측치와는 다르게 구별되는 구릅을 데이터 셋에서 식별"
      ],
      "metadata": {
        "id": "xw4eMuiflV8H"
      }
    },
    {
      "cell_type": "markdown",
      "source": [
        "# Setting"
      ],
      "metadata": {
        "id": "Vgp2zLFYloqb"
      }
    },
    {
      "cell_type": "markdown",
      "source": [
        "## Install"
      ],
      "metadata": {
        "id": "UdUHFI50mFDB"
      }
    },
    {
      "cell_type": "code",
      "source": [
        "!pip install fastcluster"
      ],
      "metadata": {
        "colab": {
          "base_uri": "https://localhost:8080/"
        },
        "id": "_WLRoSe0mGQs",
        "outputId": "56ff2a5f-58a3-4d7f-b9ee-89e0a21af870"
      },
      "execution_count": 5,
      "outputs": [
        {
          "output_type": "stream",
          "name": "stdout",
          "text": [
            "Looking in indexes: https://pypi.org/simple, https://us-python.pkg.dev/colab-wheels/public/simple/\n",
            "Collecting fastcluster\n",
            "  Downloading fastcluster-1.2.6-cp38-cp38-manylinux_2_5_x86_64.manylinux1_x86_64.manylinux_2_17_x86_64.manylinux2014_x86_64.whl (194 kB)\n",
            "\u001b[K     |████████████████████████████████| 194 kB 5.4 MB/s \n",
            "\u001b[?25hRequirement already satisfied: numpy>=1.9 in /usr/local/lib/python3.8/dist-packages (from fastcluster) (1.21.6)\n",
            "Installing collected packages: fastcluster\n",
            "Successfully installed fastcluster-1.2.6\n"
          ]
        }
      ]
    },
    {
      "cell_type": "code",
      "source": [
        "!pip install hdbscan"
      ],
      "metadata": {
        "colab": {
          "base_uri": "https://localhost:8080/"
        },
        "id": "Z9jrzoyK9yAq",
        "outputId": "02f76c4c-b0fa-400e-bdb0-aa89e9f2da36"
      },
      "execution_count": 50,
      "outputs": [
        {
          "output_type": "stream",
          "name": "stdout",
          "text": [
            "Looking in indexes: https://pypi.org/simple, https://us-python.pkg.dev/colab-wheels/public/simple/\n",
            "Collecting hdbscan\n",
            "  Downloading hdbscan-0.8.29.tar.gz (5.2 MB)\n",
            "\u001b[K     |████████████████████████████████| 5.2 MB 5.0 MB/s \n",
            "\u001b[?25h  Installing build dependencies ... \u001b[?25l\u001b[?25hdone\n",
            "  Getting requirements to build wheel ... \u001b[?25l\u001b[?25hdone\n",
            "    Preparing wheel metadata ... \u001b[?25l\u001b[?25hdone\n",
            "Requirement already satisfied: joblib>=1.0 in /usr/local/lib/python3.8/dist-packages (from hdbscan) (1.2.0)\n",
            "Requirement already satisfied: numpy>=1.20 in /usr/local/lib/python3.8/dist-packages (from hdbscan) (1.21.6)\n",
            "Requirement already satisfied: cython>=0.27 in /usr/local/lib/python3.8/dist-packages (from hdbscan) (0.29.32)\n",
            "Requirement already satisfied: scikit-learn>=0.20 in /usr/local/lib/python3.8/dist-packages (from hdbscan) (1.0.2)\n",
            "Requirement already satisfied: scipy>=1.0 in /usr/local/lib/python3.8/dist-packages (from hdbscan) (1.7.3)\n",
            "Requirement already satisfied: threadpoolctl>=2.0.0 in /usr/local/lib/python3.8/dist-packages (from scikit-learn>=0.20->hdbscan) (3.1.0)\n",
            "Building wheels for collected packages: hdbscan\n",
            "  Building wheel for hdbscan (PEP 517) ... \u001b[?25l\u001b[?25hdone\n",
            "  Created wheel for hdbscan: filename=hdbscan-0.8.29-cp38-cp38-linux_x86_64.whl size=2700868 sha256=cd4d7d1aa5fd3145f950e09e22609f7d5493a000ec595387dfcd18ed148f5f2d\n",
            "  Stored in directory: /root/.cache/pip/wheels/76/06/48/527e038689c581cc9e519c73840efdc7473805149e55bd7ffd\n",
            "Successfully built hdbscan\n",
            "Installing collected packages: hdbscan\n",
            "Successfully installed hdbscan-0.8.29\n"
          ]
        }
      ]
    },
    {
      "cell_type": "markdown",
      "source": [
        "## Library"
      ],
      "metadata": {
        "id": "la5Rt4wElqHB"
      }
    },
    {
      "cell_type": "code",
      "execution_count": 1,
      "metadata": {
        "id": "G5D-Wl9llGro"
      },
      "outputs": [],
      "source": [
        "import numpy as np\n",
        "import pandas as pd\n",
        "import os, time\n",
        "import pickle, gzip"
      ]
    },
    {
      "cell_type": "code",
      "source": [
        "import matplotlib as mpl\n",
        "import matplotlib.pyplot as plt\n",
        "import seaborn as sns\n",
        "color = sns.color_palette()"
      ],
      "metadata": {
        "id": "smwQULn4l3w2"
      },
      "execution_count": 2,
      "outputs": []
    },
    {
      "cell_type": "code",
      "source": [
        "from sklearn.preprocessing import StandardScaler, MinMaxScaler, RobustScaler\n",
        "from sklearn.model_selection import train_test_split \n",
        "from sklearn.metrics import precision_recall_curve, average_precision_score\n",
        "from sklearn.metrics import roc_curve, auc, roc_auc_score"
      ],
      "metadata": {
        "id": "qnx7B2MDl6CT"
      },
      "execution_count": 3,
      "outputs": []
    },
    {
      "cell_type": "code",
      "source": [
        "from sklearn.decomposition import PCA\n",
        "from sklearn.cluster import KMeans\n",
        "import fastcluster\n",
        "from scipy.cluster.hierarchy import dendrogram, cophenet, fcluster\n",
        "from scipy.spatial.distance import pdist\n",
        "from sklearn.cluster import DBSCAN\n",
        "import hdbscan"
      ],
      "metadata": {
        "id": "NU-FvZU_mBO8"
      },
      "execution_count": 51,
      "outputs": []
    },
    {
      "cell_type": "markdown",
      "source": [
        "# Load Data Set"
      ],
      "metadata": {
        "id": "5eMt01QfmLMu"
      }
    },
    {
      "cell_type": "markdown",
      "source": [
        "## Google Drive Mount"
      ],
      "metadata": {
        "id": "_HYSBwdymM3O"
      }
    },
    {
      "cell_type": "code",
      "source": [
        "from google.colab import drive\n",
        "drive.mount('/content/drive')"
      ],
      "metadata": {
        "colab": {
          "base_uri": "https://localhost:8080/"
        },
        "id": "M54TeJtYmDSE",
        "outputId": "e230752e-306b-4d4d-a56b-368d5665e628"
      },
      "execution_count": 7,
      "outputs": [
        {
          "output_type": "stream",
          "name": "stdout",
          "text": [
            "Mounted at /content/drive\n"
          ]
        }
      ]
    },
    {
      "cell_type": "markdown",
      "source": [
        "## Load Train / Val / Test Set"
      ],
      "metadata": {
        "id": "Buk97YQYnDNW"
      }
    },
    {
      "cell_type": "code",
      "source": [
        "file_path = '/content/drive/MyDrive/머신러닝 엔지니어링/핸즈온 비지도 학습/data/mnist.pkl.gz'"
      ],
      "metadata": {
        "id": "6eI6HwkTmQHP"
      },
      "execution_count": 8,
      "outputs": []
    },
    {
      "cell_type": "code",
      "source": [
        "f = gzip.open(file_path, 'rb')\n",
        "train_set, val_set, test_set = pickle.load(f, encoding='latin1')\n",
        "f.close()"
      ],
      "metadata": {
        "id": "3R7c9IBxm0UW"
      },
      "execution_count": 9,
      "outputs": []
    },
    {
      "cell_type": "code",
      "source": [
        "X_train, y_train = train_set[0], train_set[1]\n",
        "X_val, y_val = val_set[0], val_set[1]\n",
        "X_test, y_test = test_set[0], test_set[1]"
      ],
      "metadata": {
        "id": "6KljsakQnB-S"
      },
      "execution_count": 10,
      "outputs": []
    },
    {
      "cell_type": "code",
      "source": [
        "train_index = range(0,len(X_train))\n",
        "\n",
        "val_index = range(len(X_train),\n",
        "                         len(X_train)+len(X_val))\n",
        "\n",
        "test_index = range(len(X_train)+len(X_val),\n",
        "                   len(X_train)+len(X_val)+len(X_test))"
      ],
      "metadata": {
        "id": "vaDZ4Ue4nKhW"
      },
      "execution_count": 12,
      "outputs": []
    },
    {
      "cell_type": "code",
      "source": [
        "X_train = pd.DataFrame(data=X_train,index=train_index)\n",
        "y_train = pd.Series(data=y_train,index=train_index)\n",
        "\n",
        "X_val = pd.DataFrame(data=X_val,index=val_index)\n",
        "y_val = pd.Series(data=y_val,index=val_index)\n",
        "\n",
        "X_test = pd.DataFrame(data=X_test,index=test_index)\n",
        "y_test = pd.Series(data=y_test,index=test_index)"
      ],
      "metadata": {
        "id": "QiPnxNEynXa7"
      },
      "execution_count": 15,
      "outputs": []
    },
    {
      "cell_type": "markdown",
      "source": [
        "# 차원 축소 (PCA)"
      ],
      "metadata": {
        "id": "1Mgejznknmx4"
      }
    },
    {
      "cell_type": "code",
      "source": [
        "n_components = 784\n",
        "whiten = False\n",
        "random_state = 2022"
      ],
      "metadata": {
        "id": "9J3vA3pHndG1"
      },
      "execution_count": 16,
      "outputs": []
    },
    {
      "cell_type": "code",
      "source": [
        "pca = PCA(n_components=n_components, \n",
        "          whiten=whiten,\n",
        "          random_state=random_state)\n",
        "\n",
        "X_train_PCA = pca.fit_transform(X_train)\n",
        "X_train_PCA = pd.DataFrame(data=X_train_PCA, index=train_index)"
      ],
      "metadata": {
        "id": "akogC5Gynsrm"
      },
      "execution_count": 17,
      "outputs": []
    },
    {
      "cell_type": "markdown",
      "source": [
        "# 클러스터링"
      ],
      "metadata": {
        "id": "P--lvEbloAmK"
      }
    },
    {
      "cell_type": "markdown",
      "source": [
        "## k - 평균"
      ],
      "metadata": {
        "id": "YZOc-XDCoCLG"
      }
    },
    {
      "cell_type": "markdown",
      "source": [
        "* 우리가 원하는 굽집 개수인 k를 설정하면, 알고리즘은 각 관측치를 정확히 k개 군집 중 하나에 할당함\n",
        "\n",
        "* 알고리즘은 굽집 내 분산 (관성)을 최소화해 그룹을 최적화함\n",
        "\n",
        "* 즉, 모든 k개 군집별 군집 내 분산의 합이 작아지도록 하는 것\n",
        "\n",
        "* k - 평균 클러스터링은 실행할 때마다 군집 할당 결과가 약간씩 달라질 수 있다\n",
        "\n",
        "* 클러스터링 시작 단계에서 각 관측치를 k개 군집 중 하나에 랜덤하게 할당하기 때문이다\n",
        "\n",
        "* 랜덤 초기화함으로써 클러스터링을 빠르게 수행\n",
        "\n",
        "* 이 랜덤 초기화 후에 각 관측치와 군집의 중심정 또는 중심 간 유클리드 거리를 최소화하도록 관측치를 다른 군집에 재할당한다"
      ],
      "metadata": {
        "id": "izD8kalRoMDl"
      }
    },
    {
      "cell_type": "markdown",
      "source": [
        "### k - 평균 관성"
      ],
      "metadata": {
        "id": "iHmNMF1Qo9AA"
      }
    },
    {
      "cell_type": "code",
      "source": [
        "n_clusters = 10 # 군집의 수\n",
        "n_init = 10 # 초기화 횟수\n",
        "max_iter = 300 # 최대 반복 횟수\n",
        "tol = 0.0001 # 수렴 허용 오차\n",
        "random_state = 2022"
      ],
      "metadata": {
        "id": "Ik60lS5fnv_v"
      },
      "execution_count": 20,
      "outputs": []
    },
    {
      "cell_type": "code",
      "source": [
        "kMeans_inertia = pd.DataFrame(data=[],\n",
        "                              index=range(2,21),\n",
        "                              columns=['inertia'])\n",
        "\n",
        "for n_clusters in range(2,21):\n",
        "\n",
        "    kmeans = KMeans(n_clusters=n_clusters,\n",
        "                    n_init=n_init,\n",
        "                    max_iter=max_iter,\n",
        "                    tol=tol,\n",
        "                    random_state=random_state)\n",
        "    \n",
        "    cutoff = 99 # PCA의 처음 100개만 사용\n",
        "    kmeans.fit(X_train_PCA.loc[:,0:cutoff])\n",
        "    kMeans_inertia.loc[n_clusters] = kmeans.inertia_"
      ],
      "metadata": {
        "id": "sG0p4DylpLxt"
      },
      "execution_count": 21,
      "outputs": []
    },
    {
      "cell_type": "markdown",
      "source": [
        "* 군집의 수가 증가함에 따라 관성이 감소\n",
        "\n",
        "* 군집이 많을수록 각 군집 내 관측치 간 동질성이 커짐"
      ],
      "metadata": {
        "id": "NCpglPrMp6Js"
      }
    },
    {
      "cell_type": "code",
      "source": [
        "kMeans_inertia.plot()"
      ],
      "metadata": {
        "colab": {
          "base_uri": "https://localhost:8080/",
          "height": 294
        },
        "id": "6GesEqL3po2V",
        "outputId": "33e81c35-96d9-4624-a1a3-3a041de161bc"
      },
      "execution_count": 22,
      "outputs": [
        {
          "output_type": "execute_result",
          "data": {
            "text/plain": [
              "<matplotlib.axes._subplots.AxesSubplot at 0x7f6c648d3760>"
            ]
          },
          "metadata": {},
          "execution_count": 22
        },
        {
          "output_type": "display_data",
          "data": {
            "text/plain": [
              "<Figure size 432x288 with 1 Axes>"
            ],
            "image/png": "[encoded data removed]"
          },
          "metadata": {
            "needs_background": "light"
          }
        }
      ]
    },
    {
      "cell_type": "markdown",
      "source": [
        "### 클러스터링 결과 평가"
      ],
      "metadata": {
        "id": "gQ9TG8TqqPc5"
      }
    },
    {
      "cell_type": "code",
      "source": [
        "def analyzeCluster(clusterDF, labelsDF):\n",
        "\n",
        "    # 각 군집의 할당된 관측치 개수를 계산\n",
        "    countByCluster = pd.DataFrame(data=clusterDF['cluster'].value_counts())\n",
        "    countByCluster.reset_index(inplace=True, drop=False)\n",
        "    countByCluster.columns = ['cluster', 'clusterCount']\n",
        "    \n",
        "    # 실제 라벨 배열과 clusterDF와 병합\n",
        "    preds = pd.concat([labelsDF, clusterDF], axis=1)\n",
        "    preds.columns = ['trueLabel', 'cluster']\n",
        "    \n",
        "    # 훈련 셋에 있는 실제 레이블 데이터 개수를 계산\n",
        "    countByLabel = pd.DataFrame(data=preds.groupby('trueLabel').count())\n",
        "    \n",
        "    # 각 군집별 가장 자주 발생하는 숫자의 개수를 저장\n",
        "    countMostFreq = pd.DataFrame(data=preds.groupby('cluster')\\\n",
        "                                 .agg(lambda x : x.value_counts().iloc[0]))\n",
        "    \n",
        "    countMostFreq.reset_index(inplace=True,drop=False)\n",
        "\n",
        "    countMostFreq.columns = ['cluster','countMostFrequent']\n",
        "    \n",
        "    # 군집의 정확도 = 모든 군집별로 가장 자주 발생하는 관측치 개수의 합을 훈련 셋의 총 관측치 개수로 나눈 값\n",
        "    accuracyDF = countMostFreq.merge(countByCluster, left_on=\"cluster\", right_on=\"cluster\")\n",
        "    overallAccuracy = accuracyDF.countMostFrequent.sum() / accuracyDF.clusterCount.sum()\n",
        "    \n",
        "    accuracyByLabel = accuracyDF.countMostFrequent / accuracyDF.clusterCount\n",
        "    \n",
        "    return countByCluster, countByLabel, countMostFreq, accuracyDF, overallAccuracy, accuracyByLabel"
      ],
      "metadata": {
        "id": "v6dielzMp51y"
      },
      "execution_count": 23,
      "outputs": []
    },
    {
      "cell_type": "code",
      "source": [
        "n_clusters = 5\n",
        "n_init = 10\n",
        "max_iter = 300\n",
        "tol = 0.0001\n",
        "random_state = 2022"
      ],
      "metadata": {
        "id": "pEBxDRoqrJsc"
      },
      "execution_count": 24,
      "outputs": []
    },
    {
      "cell_type": "code",
      "source": [
        "kMeans_inertia = pd.DataFrame(data=[],index=range(2,21),\n",
        "                              columns=['inertia'])\n",
        "\n",
        "overallAccuracy_kMeansDF = pd.DataFrame(data=[],\n",
        "                                        index=range(2,21),\n",
        "                                        columns=['overallAccuracy'])"
      ],
      "metadata": {
        "id": "VdQqe_ggr_zj"
      },
      "execution_count": 25,
      "outputs": []
    },
    {
      "cell_type": "code",
      "source": [
        "for n_clusters in range(2,21):\n",
        "\n",
        "    kmeans = KMeans(n_clusters=n_clusters,\n",
        "                    n_init=n_init,\n",
        "                    max_iter=max_iter,\n",
        "                    tol=tol,\n",
        "                    random_state=random_state)\n",
        "\n",
        "    cutoff = 99\n",
        "\n",
        "    kmeans.fit(X_train_PCA.loc[:,0:cutoff])\n",
        "    kMeans_inertia.loc[n_clusters] = kmeans.inertia_\n",
        "\n",
        "    X_train_kmeansClustered = kmeans.predict(X_train_PCA.loc[:, 0:cutoff])\n",
        "    X_train_kmeansClustered = pd.DataFrame(data=X_train_kmeansClustered,\n",
        "                                           index=X_train.index,\n",
        "                                           columns=['cluster'])\n",
        "    \n",
        "    countByCluster_kMeans, countByLabel_kMeans, countMostFreq_kMeans, \\\n",
        "    accuracyDF_kMeans, overallAccuracy_kMeans, accuracyByLabel_kMeans \\\n",
        "    = analyzeCluster(X_train_kmeansClustered, y_train)\n",
        "    \n",
        "    overallAccuracy_kMeansDF.loc[n_clusters] = overallAccuracy_kMeans"
      ],
      "metadata": {
        "id": "3zK2GJ1qt0nq"
      },
      "execution_count": 26,
      "outputs": []
    },
    {
      "cell_type": "code",
      "source": [
        "overallAccuracy_kMeansDF.plot()"
      ],
      "metadata": {
        "colab": {
          "base_uri": "https://localhost:8080/",
          "height": 283
        },
        "id": "5wJqEY0quMty",
        "outputId": "fb7276fa-4d04-42e8-9680-ed7adb139b66"
      },
      "execution_count": 28,
      "outputs": [
        {
          "output_type": "execute_result",
          "data": {
            "text/plain": [
              "<matplotlib.axes._subplots.AxesSubplot at 0x7f6c648190a0>"
            ]
          },
          "metadata": {},
          "execution_count": 28
        },
        {
          "output_type": "display_data",
          "data": {
            "text/plain": [
              "<Figure size 432x288 with 1 Axes>"
            ],
            "image/png": "[encoded data removed]"
          },
          "metadata": {
            "needs_background": "light"
          }
        }
      ]
    },
    {
      "cell_type": "code",
      "source": [
        "accuracyByLabel_kMeans"
      ],
      "metadata": {
        "colab": {
          "base_uri": "https://localhost:8080/"
        },
        "id": "HJAf-b9Au1So",
        "outputId": "337484f3-8e33-4149-bab8-de0a185f0ab5"
      },
      "execution_count": 27,
      "outputs": [
        {
          "output_type": "execute_result",
          "data": {
            "text/plain": [
              "0     0.456813\n",
              "1     0.944000\n",
              "2     0.635368\n",
              "3     0.500539\n",
              "4     0.928705\n",
              "5     0.956995\n",
              "6     0.380286\n",
              "7     0.402020\n",
              "8     0.873804\n",
              "9     0.849296\n",
              "10    0.587485\n",
              "11    0.520331\n",
              "12    0.889807\n",
              "13    0.931747\n",
              "14    0.843784\n",
              "15    0.780089\n",
              "16    0.916667\n",
              "17    0.709954\n",
              "18    0.461870\n",
              "19    0.951499\n",
              "dtype: float64"
            ]
          },
          "metadata": {},
          "execution_count": 27
        }
      ]
    },
    {
      "cell_type": "markdown",
      "source": [
        "### k - 평균과 주성분 개수"
      ],
      "metadata": {
        "id": "iO0-Eojdu2iz"
      }
    },
    {
      "cell_type": "markdown",
      "source": [
        "* 클러스터링 알고리즘이 사용하는 주성분 개수에 따라 군집의 동질성 (정확도)에 어떤 영향을 미치는지 평가"
      ],
      "metadata": {
        "id": "rjiN4JQ3vM6N"
      }
    },
    {
      "cell_type": "code",
      "source": [
        "n_clusters = 20\n",
        "n_init = 10\n",
        "max_iter = 300\n",
        "tol = 0.0001\n",
        "random_state = 2022"
      ],
      "metadata": {
        "id": "JKOVWhlRu1u_"
      },
      "execution_count": 29,
      "outputs": []
    },
    {
      "cell_type": "code",
      "source": [
        "kMeans_inertia = pd.DataFrame(data=[],\n",
        "                              index=[9, 49, 99, 199, 299, 399, 499, 599, 699, 783],\n",
        "                              columns=['inertia'])\n",
        "\n",
        "overallAccuracy_kMeansDF = pd.DataFrame(data=[],\n",
        "                                        index=[9, 49, 99, 199, 299, 399, 499, 599, 699, 783],\n",
        "                                        columns=['overallAccuracy'])"
      ],
      "metadata": {
        "id": "DwdK6ycRvXrK"
      },
      "execution_count": 30,
      "outputs": []
    },
    {
      "cell_type": "code",
      "source": [
        "for cutoffNumber in [9, 49, 99, 199, 299, 399, 499, 599, 699, 783]:\n",
        "\n",
        "    kmeans = KMeans(n_clusters=n_clusters,\n",
        "                    n_init=n_init,\n",
        "                    max_iter=max_iter,\n",
        "                    tol=tol, \n",
        "                    random_state=random_state)\n",
        "    \n",
        "    cutoff = cutoffNumber\n",
        "\n",
        "    kmeans.fit(X_train_PCA.loc[:, 0:cutoff])\n",
        "\n",
        "    kMeans_inertia.loc[cutoff] = kmeans.inertia_\n",
        "    X_train_kmeansClustered = kmeans.predict(X_train_PCA.loc[:,0:cutoff])\n",
        "    X_train_kmeansClustered = pd.DataFrame(data=X_train_kmeansClustered,\n",
        "                                           index=X_train.index,\n",
        "                                           columns=['cluster'])\n",
        "    \n",
        "    countByCluster_kMeans, countByLabel_kMeans, countMostFreq_kMeans, \\\n",
        "    accuracyDF_kMeans, overallAccuracy_kMeans, accuracyByLabel_kMeans \\\n",
        "    = analyzeCluster(X_train_kmeansClustered, y_train)\n",
        "    \n",
        "    overallAccuracy_kMeansDF.loc[cutoff] = overallAccuracy_kMeans"
      ],
      "metadata": {
        "id": "kpnGaMFtvlZD"
      },
      "execution_count": 31,
      "outputs": []
    },
    {
      "cell_type": "code",
      "source": [
        "overallAccuracy_kMeansDF.plot()"
      ],
      "metadata": {
        "colab": {
          "base_uri": "https://localhost:8080/",
          "height": 283
        },
        "id": "8P8cMoCLwC9e",
        "outputId": "141fbfdd-be15-4101-cb1d-04641ab1e2a4"
      },
      "execution_count": 32,
      "outputs": [
        {
          "output_type": "execute_result",
          "data": {
            "text/plain": [
              "<matplotlib.axes._subplots.AxesSubplot at 0x7f6c622dcd30>"
            ]
          },
          "metadata": {},
          "execution_count": 32
        },
        {
          "output_type": "display_data",
          "data": {
            "text/plain": [
              "<Figure size 432x288 with 1 Axes>"
            ],
            "image/png": "[encoded data removed]"
          },
          "metadata": {
            "needs_background": "light"
          }
        }
      ]
    },
    {
      "cell_type": "markdown",
      "source": [
        "## 계층적 클러스터링"
      ],
      "metadata": {
        "id": "LAKLlPDiwk18"
      }
    },
    {
      "cell_type": "markdown",
      "source": [
        "* 특정한 군집의 개수를 사전에 설정하지 않음\n",
        "\n",
        "* 대신 계층적 클러스터링 실행이 종료되면 우리가 원하는 군집의 개수를 선택할 수 있음"
      ],
      "metadata": {
        "id": "Cai2lhOownBV"
      }
    },
    {
      "cell_type": "markdown",
      "source": [
        "* 데이터 셋의 관측치를 사용해 덴드로그램을 만듬\n",
        "\n",
        "* 덴드로그램은 트리 잎이 아래쪽에 있고 나무 줄기가 맨 위에 있는 뒤집힌 트리로 나타낼 수 있다\n",
        "\n",
        "* 맨 아래 잎은 데이터 셋의 개별 인스턴스이디\n",
        "\n",
        "* 계층적 클러스터링은 서로 얼마나 유사한지에 따라 뒤집힌 트리를 수직 위로 이동시키면서 잎을 결합시킨다\n",
        "\n",
        "* 서로 가장 유사한 인스턴스는 더욱 빨리 결합하고 유사하지 않은 인스턴스는 나중에 결합한다\n",
        "\n",
        "* 이러한 과정이 반복되면서 모든 인스턴스는 결국 트리의 단일 줄기를 형성하면서 서로 합쳐진다"
      ],
      "metadata": {
        "id": "JGPfqxdGwzBF"
      }
    },
    {
      "cell_type": "markdown",
      "source": [
        "* 덴드로그램을 보고 트리를 잘나낼 위치를 결정할 수 있다\n",
        "\n",
        "* 더 낮은 곳을 잘라낼수록 개별가지 (군집)가 더 많이 남는다\n",
        "\n",
        "* 군집 수를 줄이려면 덴드로그램에서 더 높은 곳을 자르면 된다"
      ],
      "metadata": {
        "id": "7z8pA46exeP2"
      }
    },
    {
      "cell_type": "markdown",
      "source": [
        "### 병합 계층적 클러스터링"
      ],
      "metadata": {
        "id": "Yu-vgeETxxC6"
      }
    },
    {
      "cell_type": "markdown",
      "source": [
        "* 행렬 Z를 반환함\n",
        "\n",
        "* 데이터 셋의 각 관측치를 단일 포인트 군집으로 처리하고 각 반복 훈련마다 알고리즘은 최소 거리를 가진 두 군집을 병합함\n",
        "\n",
        "* 처음에는 단지 단일 포인트 군집 간 병합을 시도하지만 계속 진행됨에 따라 다른 다중 포인트 군집과 단일 포인트 또는 다중 포인트 군집 간 병합을 함\n",
        "\n",
        "* 결국 이러한 반복 프로세스로 모든 클러스터가 함께 병합돼 뒤집힌 트리의 줄기를 형성함"
      ],
      "metadata": {
        "id": "DYDGnTOCzXQJ"
      }
    },
    {
      "cell_type": "markdown",
      "source": [
        "**method**\n",
        "\n",
        "* 군집 간 거리를 측정하는 방법\n",
        "\n",
        "* single\n",
        "\n",
        "  - 각 군집에 속하는 임의의 개체들 간 거리 중 최단거리\n",
        "\n",
        "* centroid : 중심 연결법\n",
        "\n",
        "  - 각 군집에 중심점 간 거리\n",
        "\n",
        "* median : 중위수 연결법\n",
        "\n",
        "  - 각 군집에 속하는 임의의 객체들 간 거리 중 중위수로 군집 간 거리를 정의\n",
        "\n",
        "* ward \n",
        "\n",
        "  - 각 군집 별로 구성 가능한 모든 분산을 구하고 분산이 가장 적은 군집으로 클러스터링\n",
        "\n",
        "* centroid, median, ward인 경우 metric을 euclidean으로 설정해야 함"
      ],
      "metadata": {
        "id": "bxvjuLc_yIHx"
      }
    },
    {
      "cell_type": "code",
      "source": [
        "cutoff = 99\n",
        "\n",
        "Z = fastcluster.linkage_vector(X_train_PCA.loc[:,0:cutoff],\n",
        "                               method='ward',\n",
        "                               metric='euclidean')\n",
        "\n",
        "\n",
        "Z_dataFrame = pd.DataFrame(data=Z,\n",
        "                           columns=['clusterOne', 'clusterTwo',\n",
        "                                    'distance','newClusterSize'])"
      ],
      "metadata": {
        "id": "VoIPScaTwOHV"
      },
      "execution_count": 33,
      "outputs": []
    },
    {
      "cell_type": "markdown",
      "source": [
        "* clusterOne과 clusterTwo는 각각 단일 포인트 군집 (원본 관측치) 또는 다중 포인트 군집일 수 있으며, 이 두 군집이 서로 상대적인 거리를 고려해 병합되는 과정을 보여줌\n",
        "\n",
        "* 이 상대적인 거리는 세 번째 컬럼인 distance에 표시되며, 이는 클러스터링 알고리즘의 설정 값인 ward 방법과 euclidean 척도에 의해 결정됨"
      ],
      "metadata": {
        "id": "aNo4NiMI1uA9"
      }
    },
    {
      "cell_type": "code",
      "source": [
        "Z_dataFrame.head(15)"
      ],
      "metadata": {
        "colab": {
          "base_uri": "https://localhost:8080/",
          "height": 520
        },
        "id": "oNriyRriz3YQ",
        "outputId": "07fbef6f-e39f-4c02-fabf-4b228bc7d31a"
      },
      "execution_count": 34,
      "outputs": [
        {
          "output_type": "execute_result",
          "data": {
            "text/plain": [
              "    clusterOne  clusterTwo  distance  newClusterSize\n",
              "0      42194.0     43025.0  0.562683             2.0\n",
              "1      28350.0     37674.0  0.590866             2.0\n",
              "2      26696.0     44705.0  0.621506             2.0\n",
              "3      12634.0     32823.0  0.627761             2.0\n",
              "4      24707.0     43151.0  0.637667             2.0\n",
              "5      20465.0     24483.0  0.662558             2.0\n",
              "6        466.0     42098.0  0.664189             2.0\n",
              "7      46542.0     49961.0  0.665520             2.0\n",
              "8       2301.0      5732.0  0.671215             2.0\n",
              "9      37564.0     47668.0  0.675122             2.0\n",
              "10      3375.0     26243.0  0.685797             2.0\n",
              "11     15722.0     30368.0  0.686357             2.0\n",
              "12     21247.0     21575.0  0.694411             2.0\n",
              "13     14900.0     42486.0  0.696769             2.0\n",
              "14     30100.0     41908.0  0.699261             2.0"
            ],
            "text/html": [
              "\n",
              "  <div id=\"df-7ce2c196-fb12-439e-8541-a4b1d62d8a2f\">\n",
              "    <div class=\"colab-df-container\">\n",
              "      <div>\n",
              "<style scoped>\n",
              "    .dataframe tbody tr th:only-of-type {\n",
              "        vertical-align: middle;\n",
              "    }\n",
              "\n",
              "    .dataframe tbody tr th {\n",
              "        vertical-align: top;\n",
              "    }\n",
              "\n",
              "    .dataframe thead th {\n",
              "        text-align: right;\n",
              "    }\n",
              "</style>\n",
              "<table border=\"1\" class=\"dataframe\">\n",
              "  <thead>\n",
              "    <tr style=\"text-align: right;\">\n",
              "      <th></th>\n",
              "      <th>clusterOne</th>\n",
              "      <th>clusterTwo</th>\n",
              "      <th>distance</th>\n",
              "      <th>newClusterSize</th>\n",
              "    </tr>\n",
              "  </thead>\n",
              "  <tbody>\n",
              "    <tr>\n",
              "      <th>0</th>\n",
              "      <td>42194.0</td>\n",
              "      <td>43025.0</td>\n",
              "      <td>0.562683</td>\n",
              "      <td>2.0</td>\n",
              "    </tr>\n",
              "    <tr>\n",
              "      <th>1</th>\n",
              "      <td>28350.0</td>\n",
              "      <td>37674.0</td>\n",
              "      <td>0.590866</td>\n",
              "      <td>2.0</td>\n",
              "    </tr>\n",
              "    <tr>\n",
              "      <th>2</th>\n",
              "      <td>26696.0</td>\n",
              "      <td>44705.0</td>\n",
              "      <td>0.621506</td>\n",
              "      <td>2.0</td>\n",
              "    </tr>\n",
              "    <tr>\n",
              "      <th>3</th>\n",
              "      <td>12634.0</td>\n",
              "      <td>32823.0</td>\n",
              "      <td>0.627761</td>\n",
              "      <td>2.0</td>\n",
              "    </tr>\n",
              "    <tr>\n",
              "      <th>4</th>\n",
              "      <td>24707.0</td>\n",
              "      <td>43151.0</td>\n",
              "      <td>0.637667</td>\n",
              "      <td>2.0</td>\n",
              "    </tr>\n",
              "    <tr>\n",
              "      <th>5</th>\n",
              "      <td>20465.0</td>\n",
              "      <td>24483.0</td>\n",
              "      <td>0.662558</td>\n",
              "      <td>2.0</td>\n",
              "    </tr>\n",
              "    <tr>\n",
              "      <th>6</th>\n",
              "      <td>466.0</td>\n",
              "      <td>42098.0</td>\n",
              "      <td>0.664189</td>\n",
              "      <td>2.0</td>\n",
              "    </tr>\n",
              "    <tr>\n",
              "      <th>7</th>\n",
              "      <td>46542.0</td>\n",
              "      <td>49961.0</td>\n",
              "      <td>0.665520</td>\n",
              "      <td>2.0</td>\n",
              "    </tr>\n",
              "    <tr>\n",
              "      <th>8</th>\n",
              "      <td>2301.0</td>\n",
              "      <td>5732.0</td>\n",
              "      <td>0.671215</td>\n",
              "      <td>2.0</td>\n",
              "    </tr>\n",
              "    <tr>\n",
              "      <th>9</th>\n",
              "      <td>37564.0</td>\n",
              "      <td>47668.0</td>\n",
              "      <td>0.675122</td>\n",
              "      <td>2.0</td>\n",
              "    </tr>\n",
              "    <tr>\n",
              "      <th>10</th>\n",
              "      <td>3375.0</td>\n",
              "      <td>26243.0</td>\n",
              "      <td>0.685797</td>\n",
              "      <td>2.0</td>\n",
              "    </tr>\n",
              "    <tr>\n",
              "      <th>11</th>\n",
              "      <td>15722.0</td>\n",
              "      <td>30368.0</td>\n",
              "      <td>0.686357</td>\n",
              "      <td>2.0</td>\n",
              "    </tr>\n",
              "    <tr>\n",
              "      <th>12</th>\n",
              "      <td>21247.0</td>\n",
              "      <td>21575.0</td>\n",
              "      <td>0.694411</td>\n",
              "      <td>2.0</td>\n",
              "    </tr>\n",
              "    <tr>\n",
              "      <th>13</th>\n",
              "      <td>14900.0</td>\n",
              "      <td>42486.0</td>\n",
              "      <td>0.696769</td>\n",
              "      <td>2.0</td>\n",
              "    </tr>\n",
              "    <tr>\n",
              "      <th>14</th>\n",
              "      <td>30100.0</td>\n",
              "      <td>41908.0</td>\n",
              "      <td>0.699261</td>\n",
              "      <td>2.0</td>\n",
              "    </tr>\n",
              "  </tbody>\n",
              "</table>\n",
              "</div>\n",
              "      <button class=\"colab-df-convert\" onclick=\"convertToInteractive('df-7ce2c196-fb12-439e-8541-a4b1d62d8a2f')\"\n",
              "              title=\"Convert this dataframe to an interactive table.\"\n",
              "              style=\"display:none;\">\n",
              "        \n",
              "  <svg xmlns=\"http://www.w3.org/2000/svg\" height=\"24px\"viewBox=\"0 0 24 24\"\n",
              "       width=\"24px\">\n",
              "    <path d=\"M0 0h24v24H0V0z\" fill=\"none\"/>\n",
              "    <path d=\"M18.56 5.44l.94 2.06.94-2.06 2.06-.94-2.06-.94-.94-2.06-.94 2.06-2.06.94zm-11 1L8.5 8.5l.94-2.06 2.06-.94-2.06-.94L8.5 2.5l-.94 2.06-2.06.94zm10 10l.94 2.06.94-2.06 2.06-.94-2.06-.94-.94-2.06-.94 2.06-2.06.94z\"/><path d=\"M17.41 7.96l-1.37-1.37c-.4-.4-.92-.59-1.43-.59-.52 0-1.04.2-1.43.59L10.3 9.45l-7.72 7.72c-.78.78-.78 2.05 0 2.83L4 21.41c.39.39.9.59 1.41.59.51 0 1.02-.2 1.41-.59l7.78-7.78 2.81-2.81c.8-.78.8-2.07 0-2.86zM5.41 20L4 18.59l7.72-7.72 1.47 1.35L5.41 20z\"/>\n",
              "  </svg>\n",
              "      </button>\n",
              "      \n",
              "  <style>\n",
              "    .colab-df-container {\n",
              "      display:flex;\n",
              "      flex-wrap:wrap;\n",
              "      gap: 12px;\n",
              "    }\n",
              "\n",
              "    .colab-df-convert {\n",
              "      background-color: #E8F0FE;\n",
              "      border: none;\n",
              "      border-radius: 50%;\n",
              "      cursor: pointer;\n",
              "      display: none;\n",
              "      fill: #1967D2;\n",
              "      height: 32px;\n",
              "      padding: 0 0 0 0;\n",
              "      width: 32px;\n",
              "    }\n",
              "\n",
              "    .colab-df-convert:hover {\n",
              "      background-color: #E2EBFA;\n",
              "      box-shadow: 0px 1px 2px rgba(60, 64, 67, 0.3), 0px 1px 3px 1px rgba(60, 64, 67, 0.15);\n",
              "      fill: #174EA6;\n",
              "    }\n",
              "\n",
              "    [theme=dark] .colab-df-convert {\n",
              "      background-color: #3B4455;\n",
              "      fill: #D2E3FC;\n",
              "    }\n",
              "\n",
              "    [theme=dark] .colab-df-convert:hover {\n",
              "      background-color: #434B5C;\n",
              "      box-shadow: 0px 1px 3px 1px rgba(0, 0, 0, 0.15);\n",
              "      filter: drop-shadow(0px 1px 2px rgba(0, 0, 0, 0.3));\n",
              "      fill: #FFFFFF;\n",
              "    }\n",
              "  </style>\n",
              "\n",
              "      <script>\n",
              "        const buttonEl =\n",
              "          document.querySelector('#df-7ce2c196-fb12-439e-8541-a4b1d62d8a2f button.colab-df-convert');\n",
              "        buttonEl.style.display =\n",
              "          google.colab.kernel.accessAllowed ? 'block' : 'none';\n",
              "\n",
              "        async function convertToInteractive(key) {\n",
              "          const element = document.querySelector('#df-7ce2c196-fb12-439e-8541-a4b1d62d8a2f');\n",
              "          const dataTable =\n",
              "            await google.colab.kernel.invokeFunction('convertToInteractive',\n",
              "                                                     [key], {});\n",
              "          if (!dataTable) return;\n",
              "\n",
              "          const docLinkHtml = 'Like what you see? Visit the ' +\n",
              "            '<a target=\"_blank\" href=https://colab.research.google.com/notebooks/data_table.ipynb>data table notebook</a>'\n",
              "            + ' to learn more about interactive tables.';\n",
              "          element.innerHTML = '';\n",
              "          dataTable['output_type'] = 'display_data';\n",
              "          await google.colab.output.renderOutput(dataTable, element);\n",
              "          const docLink = document.createElement('div');\n",
              "          docLink.innerHTML = docLinkHtml;\n",
              "          element.appendChild(docLink);\n",
              "        }\n",
              "      </script>\n",
              "    </div>\n",
              "  </div>\n",
              "  "
            ]
          },
          "metadata": {},
          "execution_count": 34
        }
      ]
    },
    {
      "cell_type": "markdown",
      "source": [
        "* 거리는 단조롭게 증가하고 있다\n",
        "\n",
        "* 즉, 최단 거리 군집이 먼저 병합되고 알고리즘의 모든 점이 덴드로 그램 가장 위에 있는 단일 군집으로 결합될 때까지 다음 최단 거리 군집을 반복적으로 병합"
      ],
      "metadata": {
        "id": "6ZODp_Hb2Hga"
      }
    },
    {
      "cell_type": "code",
      "source": [
        "Z_dataFrame.tail(15)"
      ],
      "metadata": {
        "colab": {
          "base_uri": "https://localhost:8080/",
          "height": 520
        },
        "id": "SjgULJqj1oRm",
        "outputId": "ec76e56c-b1c7-4f2a-c8b8-b12dca3545da"
      },
      "execution_count": 36,
      "outputs": [
        {
          "output_type": "execute_result",
          "data": {
            "text/plain": [
              "       clusterOne  clusterTwo    distance  newClusterSize\n",
              "49984     99974.0     99979.0  185.027875          7744.0\n",
              "49985     99940.0     99975.0  185.345204          5596.0\n",
              "49986     99957.0     99967.0  211.854713          5957.0\n",
              "49987     99938.0     99983.0  215.494823          4846.0\n",
              "49988     99978.0     99984.0  216.760340         11072.0\n",
              "49989     99970.0     99973.0  217.355883          4899.0\n",
              "49990     99969.0     99986.0  225.468314          8270.0\n",
              "49991     99981.0     99982.0  238.845118          9750.0\n",
              "49992     99968.0     99977.0  266.146849          5567.0\n",
              "49993     99985.0     99989.0  270.929469         10495.0\n",
              "49994     99990.0     99991.0  346.840920         18020.0\n",
              "49995     99988.0     99993.0  394.364946         21567.0\n",
              "49996     99987.0     99995.0  425.142319         26413.0\n",
              "49997     99992.0     99994.0  440.148344         23587.0\n",
              "49998     99996.0     99997.0  494.383785         50000.0"
            ],
            "text/html": [
              "\n",
              "  <div id=\"df-a1e78cc6-8c6f-4023-aeb4-47f88aeecd0e\">\n",
              "    <div class=\"colab-df-container\">\n",
              "      <div>\n",
              "<style scoped>\n",
              "    .dataframe tbody tr th:only-of-type {\n",
              "        vertical-align: middle;\n",
              "    }\n",
              "\n",
              "    .dataframe tbody tr th {\n",
              "        vertical-align: top;\n",
              "    }\n",
              "\n",
              "    .dataframe thead th {\n",
              "        text-align: right;\n",
              "    }\n",
              "</style>\n",
              "<table border=\"1\" class=\"dataframe\">\n",
              "  <thead>\n",
              "    <tr style=\"text-align: right;\">\n",
              "      <th></th>\n",
              "      <th>clusterOne</th>\n",
              "      <th>clusterTwo</th>\n",
              "      <th>distance</th>\n",
              "      <th>newClusterSize</th>\n",
              "    </tr>\n",
              "  </thead>\n",
              "  <tbody>\n",
              "    <tr>\n",
              "      <th>49984</th>\n",
              "      <td>99974.0</td>\n",
              "      <td>99979.0</td>\n",
              "      <td>185.027875</td>\n",
              "      <td>7744.0</td>\n",
              "    </tr>\n",
              "    <tr>\n",
              "      <th>49985</th>\n",
              "      <td>99940.0</td>\n",
              "      <td>99975.0</td>\n",
              "      <td>185.345204</td>\n",
              "      <td>5596.0</td>\n",
              "    </tr>\n",
              "    <tr>\n",
              "      <th>49986</th>\n",
              "      <td>99957.0</td>\n",
              "      <td>99967.0</td>\n",
              "      <td>211.854713</td>\n",
              "      <td>5957.0</td>\n",
              "    </tr>\n",
              "    <tr>\n",
              "      <th>49987</th>\n",
              "      <td>99938.0</td>\n",
              "      <td>99983.0</td>\n",
              "      <td>215.494823</td>\n",
              "      <td>4846.0</td>\n",
              "    </tr>\n",
              "    <tr>\n",
              "      <th>49988</th>\n",
              "      <td>99978.0</td>\n",
              "      <td>99984.0</td>\n",
              "      <td>216.760340</td>\n",
              "      <td>11072.0</td>\n",
              "    </tr>\n",
              "    <tr>\n",
              "      <th>49989</th>\n",
              "      <td>99970.0</td>\n",
              "      <td>99973.0</td>\n",
              "      <td>217.355883</td>\n",
              "      <td>4899.0</td>\n",
              "    </tr>\n",
              "    <tr>\n",
              "      <th>49990</th>\n",
              "      <td>99969.0</td>\n",
              "      <td>99986.0</td>\n",
              "      <td>225.468314</td>\n",
              "      <td>8270.0</td>\n",
              "    </tr>\n",
              "    <tr>\n",
              "      <th>49991</th>\n",
              "      <td>99981.0</td>\n",
              "      <td>99982.0</td>\n",
              "      <td>238.845118</td>\n",
              "      <td>9750.0</td>\n",
              "    </tr>\n",
              "    <tr>\n",
              "      <th>49992</th>\n",
              "      <td>99968.0</td>\n",
              "      <td>99977.0</td>\n",
              "      <td>266.146849</td>\n",
              "      <td>5567.0</td>\n",
              "    </tr>\n",
              "    <tr>\n",
              "      <th>49993</th>\n",
              "      <td>99985.0</td>\n",
              "      <td>99989.0</td>\n",
              "      <td>270.929469</td>\n",
              "      <td>10495.0</td>\n",
              "    </tr>\n",
              "    <tr>\n",
              "      <th>49994</th>\n",
              "      <td>99990.0</td>\n",
              "      <td>99991.0</td>\n",
              "      <td>346.840920</td>\n",
              "      <td>18020.0</td>\n",
              "    </tr>\n",
              "    <tr>\n",
              "      <th>49995</th>\n",
              "      <td>99988.0</td>\n",
              "      <td>99993.0</td>\n",
              "      <td>394.364946</td>\n",
              "      <td>21567.0</td>\n",
              "    </tr>\n",
              "    <tr>\n",
              "      <th>49996</th>\n",
              "      <td>99987.0</td>\n",
              "      <td>99995.0</td>\n",
              "      <td>425.142319</td>\n",
              "      <td>26413.0</td>\n",
              "    </tr>\n",
              "    <tr>\n",
              "      <th>49997</th>\n",
              "      <td>99992.0</td>\n",
              "      <td>99994.0</td>\n",
              "      <td>440.148344</td>\n",
              "      <td>23587.0</td>\n",
              "    </tr>\n",
              "    <tr>\n",
              "      <th>49998</th>\n",
              "      <td>99996.0</td>\n",
              "      <td>99997.0</td>\n",
              "      <td>494.383785</td>\n",
              "      <td>50000.0</td>\n",
              "    </tr>\n",
              "  </tbody>\n",
              "</table>\n",
              "</div>\n",
              "      <button class=\"colab-df-convert\" onclick=\"convertToInteractive('df-a1e78cc6-8c6f-4023-aeb4-47f88aeecd0e')\"\n",
              "              title=\"Convert this dataframe to an interactive table.\"\n",
              "              style=\"display:none;\">\n",
              "        \n",
              "  <svg xmlns=\"http://www.w3.org/2000/svg\" height=\"24px\"viewBox=\"0 0 24 24\"\n",
              "       width=\"24px\">\n",
              "    <path d=\"M0 0h24v24H0V0z\" fill=\"none\"/>\n",
              "    <path d=\"M18.56 5.44l.94 2.06.94-2.06 2.06-.94-2.06-.94-.94-2.06-.94 2.06-2.06.94zm-11 1L8.5 8.5l.94-2.06 2.06-.94-2.06-.94L8.5 2.5l-.94 2.06-2.06.94zm10 10l.94 2.06.94-2.06 2.06-.94-2.06-.94-.94-2.06-.94 2.06-2.06.94z\"/><path d=\"M17.41 7.96l-1.37-1.37c-.4-.4-.92-.59-1.43-.59-.52 0-1.04.2-1.43.59L10.3 9.45l-7.72 7.72c-.78.78-.78 2.05 0 2.83L4 21.41c.39.39.9.59 1.41.59.51 0 1.02-.2 1.41-.59l7.78-7.78 2.81-2.81c.8-.78.8-2.07 0-2.86zM5.41 20L4 18.59l7.72-7.72 1.47 1.35L5.41 20z\"/>\n",
              "  </svg>\n",
              "      </button>\n",
              "      \n",
              "  <style>\n",
              "    .colab-df-container {\n",
              "      display:flex;\n",
              "      flex-wrap:wrap;\n",
              "      gap: 12px;\n",
              "    }\n",
              "\n",
              "    .colab-df-convert {\n",
              "      background-color: #E8F0FE;\n",
              "      border: none;\n",
              "      border-radius: 50%;\n",
              "      cursor: pointer;\n",
              "      display: none;\n",
              "      fill: #1967D2;\n",
              "      height: 32px;\n",
              "      padding: 0 0 0 0;\n",
              "      width: 32px;\n",
              "    }\n",
              "\n",
              "    .colab-df-convert:hover {\n",
              "      background-color: #E2EBFA;\n",
              "      box-shadow: 0px 1px 2px rgba(60, 64, 67, 0.3), 0px 1px 3px 1px rgba(60, 64, 67, 0.15);\n",
              "      fill: #174EA6;\n",
              "    }\n",
              "\n",
              "    [theme=dark] .colab-df-convert {\n",
              "      background-color: #3B4455;\n",
              "      fill: #D2E3FC;\n",
              "    }\n",
              "\n",
              "    [theme=dark] .colab-df-convert:hover {\n",
              "      background-color: #434B5C;\n",
              "      box-shadow: 0px 1px 3px 1px rgba(0, 0, 0, 0.15);\n",
              "      filter: drop-shadow(0px 1px 2px rgba(0, 0, 0, 0.3));\n",
              "      fill: #FFFFFF;\n",
              "    }\n",
              "  </style>\n",
              "\n",
              "      <script>\n",
              "        const buttonEl =\n",
              "          document.querySelector('#df-a1e78cc6-8c6f-4023-aeb4-47f88aeecd0e button.colab-df-convert');\n",
              "        buttonEl.style.display =\n",
              "          google.colab.kernel.accessAllowed ? 'block' : 'none';\n",
              "\n",
              "        async function convertToInteractive(key) {\n",
              "          const element = document.querySelector('#df-a1e78cc6-8c6f-4023-aeb4-47f88aeecd0e');\n",
              "          const dataTable =\n",
              "            await google.colab.kernel.invokeFunction('convertToInteractive',\n",
              "                                                     [key], {});\n",
              "          if (!dataTable) return;\n",
              "\n",
              "          const docLinkHtml = 'Like what you see? Visit the ' +\n",
              "            '<a target=\"_blank\" href=https://colab.research.google.com/notebooks/data_table.ipynb>data table notebook</a>'\n",
              "            + ' to learn more about interactive tables.';\n",
              "          element.innerHTML = '';\n",
              "          dataTable['output_type'] = 'display_data';\n",
              "          await google.colab.output.renderOutput(dataTable, element);\n",
              "          const docLink = document.createElement('div');\n",
              "          docLink.innerHTML = docLinkHtml;\n",
              "          element.appendChild(docLink);\n",
              "        }\n",
              "      </script>\n",
              "    </div>\n",
              "  </div>\n",
              "  "
            ]
          },
          "metadata": {},
          "execution_count": 36
        }
      ]
    },
    {
      "cell_type": "markdown",
      "source": [
        "### 클러스터링 결과 평가하기"
      ],
      "metadata": {
        "id": "RBqS5LKo2hiw"
      }
    },
    {
      "cell_type": "code",
      "source": [
        "distance_threshold = 160\n",
        "\n",
        "clusters = fcluster(Z, distance_threshold, criterion='distance')\n",
        "X_train_hierClustered = pd.DataFrame(data=clusters,\n",
        "                                     index=X_train_PCA.index,\n",
        "                                     columns=['cluster'])"
      ],
      "metadata": {
        "id": "qTJ1rN-A1rJe"
      },
      "execution_count": 37,
      "outputs": []
    },
    {
      "cell_type": "code",
      "source": [
        "print(\"Number of distinct clusters: \", \n",
        "      len(X_train_hierClustered['cluster'].unique()))"
      ],
      "metadata": {
        "colab": {
          "base_uri": "https://localhost:8080/"
        },
        "id": "qaSW-Ur_24Ub",
        "outputId": "7ae2b37d-1033-4d76-a3da-d1f2a86384f3"
      },
      "execution_count": 38,
      "outputs": [
        {
          "output_type": "stream",
          "name": "stdout",
          "text": [
            "Number of distinct clusters:  20\n"
          ]
        }
      ]
    },
    {
      "cell_type": "code",
      "source": [
        "countByCluster_hierClust, countByLabel_hierClust, \\\n",
        "countMostFreq_hierClust, accuracyDF_hierClust, \\\n",
        "overallAccuracy_hierClust, accuracyByLabel_hierClust \\\n",
        "= analyzeCluster(X_train_hierClustered, y_train)\n",
        "\n",
        "print(\"Overall accuracy from hierarchical clustering: \",\n",
        "      overallAccuracy_hierClust)"
      ],
      "metadata": {
        "colab": {
          "base_uri": "https://localhost:8080/"
        },
        "id": "_GBgDo5D286u",
        "outputId": "39387ca9-8916-48f8-939e-0026cc0eff78"
      },
      "execution_count": 39,
      "outputs": [
        {
          "output_type": "stream",
          "name": "stdout",
          "text": [
            "Overall accuracy from hierarchical clustering:  0.76882\n"
          ]
        }
      ]
    },
    {
      "cell_type": "code",
      "source": [
        "accuracyByLabel_hierClust"
      ],
      "metadata": {
        "colab": {
          "base_uri": "https://localhost:8080/"
        },
        "id": "LBkMR9rj3E7o",
        "outputId": "0b4d6a2a-64a0-4090-fa44-1869d92b087d"
      },
      "execution_count": 40,
      "outputs": [
        {
          "output_type": "execute_result",
          "data": {
            "text/plain": [
              "0     0.987962\n",
              "1     0.983727\n",
              "2     0.988998\n",
              "3     0.597356\n",
              "4     0.678642\n",
              "5     0.442478\n",
              "6     0.950033\n",
              "7     0.829060\n",
              "8     0.976062\n",
              "9     0.986141\n",
              "10    0.990183\n",
              "11    0.992183\n",
              "12    0.971033\n",
              "13    0.554273\n",
              "14    0.553617\n",
              "15    0.720183\n",
              "16    0.538891\n",
              "17    0.484590\n",
              "18    0.957732\n",
              "19    0.977310\n",
              "dtype: float64"
            ]
          },
          "metadata": {},
          "execution_count": 40
        }
      ]
    },
    {
      "cell_type": "markdown",
      "source": [
        "## DBSCAN"
      ],
      "metadata": {
        "id": "ZM-mqMCA4ysi"
      }
    },
    {
      "cell_type": "markdown",
      "source": [
        "* 데이터 포인트의 밀도에 따라 그룹화\n",
        "\n",
        "* 밀접하게 묶인 포인트를 함께 그룹화\n",
        "\n",
        "  - 밀접하게 묶인 : 특정 거리 내에 존재해야 하는 데이터의 최소 개수로 정의\n",
        "\n",
        "* 만약 어떤 데이터 포인트가 여러 군집의 특정 거리 내에 있으면 그 포인트는 그 중에서 가장 밀도가 높은 군집과 그룹화한다\n",
        "\n",
        "* 그리고 다른 군집의 특정 거리 내에 있지 않는 인스턴스는 모두 이상치로 표시\n",
        "\n",
        "* DBSCAN에서는 데이터 포인트에 이상치가 명시적으로 지정되고 클러스터링에서 제외된다\n",
        "\n",
        "* 이로 인해 DBSCAN은 다른 클러스터링 알고리즘에 비해 데이터의 이상치 떄문에 일반적으로 발생하는 왜곡이 훨씬 적다\n",
        "\n",
        "* 군집 수를 미리 설정할 필요가 없다"
      ],
      "metadata": {
        "id": "w3mbqrsM40GX"
      }
    },
    {
      "cell_type": "markdown",
      "source": [
        "* eps (최대 거리)\n",
        "\n",
        "  - eps가 너무 낮게 설정되면 같은 이웃으로 고려할 포인트가 없울 수 있다\n",
        "  - 이렇게 되면 모든 포인트가 클러스터링되지 않은 상태로 남아 있게 된다\n",
        "  - eps가 너무 높게 설정되면 대부분 포인트가 클러스터링돼 소수의 포인트만 클러스터링되지 않은 상태로 남아 데이터 셋에 있는 이상치를 효과적으로 분류할 수 있다\n",
        "\n",
        "* min_samples\n",
        "\n",
        "  - 포인트 군집이 되기 위해 eps 거리 내에 포인트가 얼마나 많아야 하는지를 설정\n",
        "\n",
        "  - 밀접하게 위치한 포인트들이 최소 샘플 수 이상 존재하면 소위 중심정으로부터 eps 거리 내에 있는 다른 포인트는 해당 군집의 다른 군집의 일부가 된다\n",
        "\n",
        "  - 일반적으로 최소 샘플 수가 증가하면 군집 수가 증가한다"
      ],
      "metadata": {
        "id": "auxGWbKR6wPc"
      }
    },
    {
      "cell_type": "code",
      "source": [
        "eps = 3\n",
        "min_samples = 5\n",
        "leaf_size = 30\n",
        "n_jobs = 1"
      ],
      "metadata": {
        "id": "IBiCkcQ13TAf"
      },
      "execution_count": 41,
      "outputs": []
    },
    {
      "cell_type": "code",
      "source": [
        "db = DBSCAN(eps=eps,\n",
        "            min_samples=min_samples,\n",
        "            leaf_size=leaf_size, \n",
        "            n_jobs=n_jobs)"
      ],
      "metadata": {
        "id": "UdWk0uaG7_LO"
      },
      "execution_count": 44,
      "outputs": []
    },
    {
      "cell_type": "code",
      "source": [
        "cutoff = 99\n",
        "\n",
        "X_train_PCA_dbscanClustered = db.fit_predict(X_train_PCA.loc[:, 0:cutoff])\n",
        "X_train_PCA_dbscanClustered = pd.DataFrame(data=X_train_PCA_dbscanClustered,\n",
        "                                           index=X_train.index,\n",
        "                                           columns=['cluster'])\n",
        "\n",
        "countByCluster_dbscan, countByLabel_dbscan, countMostFreq_dbscan, \\\n",
        "accuracyDF_dbscan, overallAccuracy_dbscan, accuracyByLabel_dbscan \\\n",
        "= analyzeCluster(X_train_PCA_dbscanClustered, y_train)\n",
        "\n",
        "print(overallAccuracy_dbscan)"
      ],
      "metadata": {
        "colab": {
          "base_uri": "https://localhost:8080/"
        },
        "id": "C_2eoDIK8H-9",
        "outputId": "31a3fecd-d536-451d-b534-3a71e325b2a7"
      },
      "execution_count": 45,
      "outputs": [
        {
          "output_type": "stream",
          "name": "stdout",
          "text": [
            "0.242\n"
          ]
        }
      ]
    },
    {
      "cell_type": "code",
      "source": [
        "print(\"Overall accuracy from DBSCAN: \",overallAccuracy_dbscan)"
      ],
      "metadata": {
        "colab": {
          "base_uri": "https://localhost:8080/"
        },
        "id": "VCfWQLQm8PCs",
        "outputId": "8ee1a420-1ac5-49d6-d101-9f9aa80841f9"
      },
      "execution_count": 46,
      "outputs": [
        {
          "output_type": "stream",
          "name": "stdout",
          "text": [
            "Overall accuracy from DBSCAN:  0.242\n"
          ]
        }
      ]
    },
    {
      "cell_type": "code",
      "source": [
        "print(\"Cluster results for DBSCAN\")\n",
        "countByCluster_dbscan"
      ],
      "metadata": {
        "colab": {
          "base_uri": "https://localhost:8080/",
          "height": 441
        },
        "id": "ZhVwM_be8TEp",
        "outputId": "0aab4169-e30b-4a38-ec72-0887c6f6a33b"
      },
      "execution_count": 47,
      "outputs": [
        {
          "output_type": "stream",
          "name": "stdout",
          "text": [
            "Cluster results for DBSCAN\n"
          ]
        },
        {
          "output_type": "execute_result",
          "data": {
            "text/plain": [
              "    cluster  clusterCount\n",
              "0        -1         39575\n",
              "1         0          8885\n",
              "2         8           720\n",
              "3         5            92\n",
              "4        18            51\n",
              "..      ...           ...\n",
              "95       85             4\n",
              "96       57             4\n",
              "97       92             4\n",
              "98       54             3\n",
              "99       96             3\n",
              "\n",
              "[100 rows x 2 columns]"
            ],
            "text/html": [
              "\n",
              "  <div id=\"df-c7226f77-dd11-4e88-a5e2-997cd948bacf\">\n",
              "    <div class=\"colab-df-container\">\n",
              "      <div>\n",
              "<style scoped>\n",
              "    .dataframe tbody tr th:only-of-type {\n",
              "        vertical-align: middle;\n",
              "    }\n",
              "\n",
              "    .dataframe tbody tr th {\n",
              "        vertical-align: top;\n",
              "    }\n",
              "\n",
              "    .dataframe thead th {\n",
              "        text-align: right;\n",
              "    }\n",
              "</style>\n",
              "<table border=\"1\" class=\"dataframe\">\n",
              "  <thead>\n",
              "    <tr style=\"text-align: right;\">\n",
              "      <th></th>\n",
              "      <th>cluster</th>\n",
              "      <th>clusterCount</th>\n",
              "    </tr>\n",
              "  </thead>\n",
              "  <tbody>\n",
              "    <tr>\n",
              "      <th>0</th>\n",
              "      <td>-1</td>\n",
              "      <td>39575</td>\n",
              "    </tr>\n",
              "    <tr>\n",
              "      <th>1</th>\n",
              "      <td>0</td>\n",
              "      <td>8885</td>\n",
              "    </tr>\n",
              "    <tr>\n",
              "      <th>2</th>\n",
              "      <td>8</td>\n",
              "      <td>720</td>\n",
              "    </tr>\n",
              "    <tr>\n",
              "      <th>3</th>\n",
              "      <td>5</td>\n",
              "      <td>92</td>\n",
              "    </tr>\n",
              "    <tr>\n",
              "      <th>4</th>\n",
              "      <td>18</td>\n",
              "      <td>51</td>\n",
              "    </tr>\n",
              "    <tr>\n",
              "      <th>...</th>\n",
              "      <td>...</td>\n",
              "      <td>...</td>\n",
              "    </tr>\n",
              "    <tr>\n",
              "      <th>95</th>\n",
              "      <td>85</td>\n",
              "      <td>4</td>\n",
              "    </tr>\n",
              "    <tr>\n",
              "      <th>96</th>\n",
              "      <td>57</td>\n",
              "      <td>4</td>\n",
              "    </tr>\n",
              "    <tr>\n",
              "      <th>97</th>\n",
              "      <td>92</td>\n",
              "      <td>4</td>\n",
              "    </tr>\n",
              "    <tr>\n",
              "      <th>98</th>\n",
              "      <td>54</td>\n",
              "      <td>3</td>\n",
              "    </tr>\n",
              "    <tr>\n",
              "      <th>99</th>\n",
              "      <td>96</td>\n",
              "      <td>3</td>\n",
              "    </tr>\n",
              "  </tbody>\n",
              "</table>\n",
              "<p>100 rows × 2 columns</p>\n",
              "</div>\n",
              "      <button class=\"colab-df-convert\" onclick=\"convertToInteractive('df-c7226f77-dd11-4e88-a5e2-997cd948bacf')\"\n",
              "              title=\"Convert this dataframe to an interactive table.\"\n",
              "              style=\"display:none;\">\n",
              "        \n",
              "  <svg xmlns=\"http://www.w3.org/2000/svg\" height=\"24px\"viewBox=\"0 0 24 24\"\n",
              "       width=\"24px\">\n",
              "    <path d=\"M0 0h24v24H0V0z\" fill=\"none\"/>\n",
              "    <path d=\"M18.56 5.44l.94 2.06.94-2.06 2.06-.94-2.06-.94-.94-2.06-.94 2.06-2.06.94zm-11 1L8.5 8.5l.94-2.06 2.06-.94-2.06-.94L8.5 2.5l-.94 2.06-2.06.94zm10 10l.94 2.06.94-2.06 2.06-.94-2.06-.94-.94-2.06-.94 2.06-2.06.94z\"/><path d=\"M17.41 7.96l-1.37-1.37c-.4-.4-.92-.59-1.43-.59-.52 0-1.04.2-1.43.59L10.3 9.45l-7.72 7.72c-.78.78-.78 2.05 0 2.83L4 21.41c.39.39.9.59 1.41.59.51 0 1.02-.2 1.41-.59l7.78-7.78 2.81-2.81c.8-.78.8-2.07 0-2.86zM5.41 20L4 18.59l7.72-7.72 1.47 1.35L5.41 20z\"/>\n",
              "  </svg>\n",
              "      </button>\n",
              "      \n",
              "  <style>\n",
              "    .colab-df-container {\n",
              "      display:flex;\n",
              "      flex-wrap:wrap;\n",
              "      gap: 12px;\n",
              "    }\n",
              "\n",
              "    .colab-df-convert {\n",
              "      background-color: #E8F0FE;\n",
              "      border: none;\n",
              "      border-radius: 50%;\n",
              "      cursor: pointer;\n",
              "      display: none;\n",
              "      fill: #1967D2;\n",
              "      height: 32px;\n",
              "      padding: 0 0 0 0;\n",
              "      width: 32px;\n",
              "    }\n",
              "\n",
              "    .colab-df-convert:hover {\n",
              "      background-color: #E2EBFA;\n",
              "      box-shadow: 0px 1px 2px rgba(60, 64, 67, 0.3), 0px 1px 3px 1px rgba(60, 64, 67, 0.15);\n",
              "      fill: #174EA6;\n",
              "    }\n",
              "\n",
              "    [theme=dark] .colab-df-convert {\n",
              "      background-color: #3B4455;\n",
              "      fill: #D2E3FC;\n",
              "    }\n",
              "\n",
              "    [theme=dark] .colab-df-convert:hover {\n",
              "      background-color: #434B5C;\n",
              "      box-shadow: 0px 1px 3px 1px rgba(0, 0, 0, 0.15);\n",
              "      filter: drop-shadow(0px 1px 2px rgba(0, 0, 0, 0.3));\n",
              "      fill: #FFFFFF;\n",
              "    }\n",
              "  </style>\n",
              "\n",
              "      <script>\n",
              "        const buttonEl =\n",
              "          document.querySelector('#df-c7226f77-dd11-4e88-a5e2-997cd948bacf button.colab-df-convert');\n",
              "        buttonEl.style.display =\n",
              "          google.colab.kernel.accessAllowed ? 'block' : 'none';\n",
              "\n",
              "        async function convertToInteractive(key) {\n",
              "          const element = document.querySelector('#df-c7226f77-dd11-4e88-a5e2-997cd948bacf');\n",
              "          const dataTable =\n",
              "            await google.colab.kernel.invokeFunction('convertToInteractive',\n",
              "                                                     [key], {});\n",
              "          if (!dataTable) return;\n",
              "\n",
              "          const docLinkHtml = 'Like what you see? Visit the ' +\n",
              "            '<a target=\"_blank\" href=https://colab.research.google.com/notebooks/data_table.ipynb>data table notebook</a>'\n",
              "            + ' to learn more about interactive tables.';\n",
              "          element.innerHTML = '';\n",
              "          dataTable['output_type'] = 'display_data';\n",
              "          await google.colab.output.renderOutput(dataTable, element);\n",
              "          const docLink = document.createElement('div');\n",
              "          docLink.innerHTML = docLinkHtml;\n",
              "          element.appendChild(docLink);\n",
              "        }\n",
              "      </script>\n",
              "    </div>\n",
              "  </div>\n",
              "  "
            ]
          },
          "metadata": {},
          "execution_count": 47
        }
      ]
    },
    {
      "cell_type": "markdown",
      "source": [
        "## HDBSCAN"
      ],
      "metadata": {
        "id": "cjqXx2zw8xJ2"
      }
    },
    {
      "cell_type": "markdown",
      "source": [
        "* 밀도를 기반으로 그룹화하고, 앞에서 소개한 계층적 클러스터링처럼 거리를 기준으로 밀도 기반 군집을 반복적으로 연결한다"
      ],
      "metadata": {
        "id": "qv3j8a279Zb1"
      }
    },
    {
      "cell_type": "code",
      "source": [
        "min_cluster_size = 30\n",
        "min_samples = None\n",
        "alpha = 1.0\n",
        "cluster_selection_method = 'eom'"
      ],
      "metadata": {
        "id": "mJetup198XN7"
      },
      "execution_count": 48,
      "outputs": []
    },
    {
      "cell_type": "code",
      "source": [
        "hdb = hdbscan.HDBSCAN(min_cluster_size=min_cluster_size,\n",
        "                      min_samples=min_samples,\n",
        "                      alpha=alpha,\n",
        "                      cluster_selection_method=cluster_selection_method)\n",
        "\n",
        "cutoff = 10\n",
        "X_train_PCA_hdbscanClustered = hdb.fit_predict(X_train_PCA.loc[:, 0:cutoff])\n",
        "\n",
        "X_train_PCA_hdbscanClustered = pd.DataFrame(data=X_train_PCA_hdbscanClustered,\n",
        "                                            index=X_train.index,\n",
        "                                            columns=['cluster'])\n",
        "\n",
        "countByCluster_hdbscan, countByLabel_hdbscan, \\\n",
        "countMostFreq_hdbscan, accuracyDF_hdbscan, \\\n",
        "overallAccuracy_hdbscan, accuracyByLabel_hdbscan \\\n",
        "= analyzeCluster(X_train_PCA_hdbscanClustered, y_train)"
      ],
      "metadata": {
        "id": "qP2Julp19uIX"
      },
      "execution_count": 52,
      "outputs": []
    },
    {
      "cell_type": "code",
      "source": [
        "print(\"Overall accuracy from HDBSCAN: \",overallAccuracy_hdbscan)"
      ],
      "metadata": {
        "colab": {
          "base_uri": "https://localhost:8080/"
        },
        "id": "qK-ln7BY-Go_",
        "outputId": "df86cd25-f9ed-4124-8dbd-b012a1f7aa90"
      },
      "execution_count": 53,
      "outputs": [
        {
          "output_type": "stream",
          "name": "stdout",
          "text": [
            "Overall accuracy from HDBSCAN:  0.24694\n"
          ]
        }
      ]
    },
    {
      "cell_type": "code",
      "source": [
        "print(\"Cluster results for HDBSCAN\")\n",
        "countByCluster_hdbscan"
      ],
      "metadata": {
        "colab": {
          "base_uri": "https://localhost:8080/",
          "height": 349
        },
        "id": "7VFFkQuf-Iv0",
        "outputId": "d6663047-7613-4d04-aab7-22c3c71ce8d2"
      },
      "execution_count": 54,
      "outputs": [
        {
          "output_type": "stream",
          "name": "stdout",
          "text": [
            "Cluster results for HDBSCAN\n"
          ]
        },
        {
          "output_type": "execute_result",
          "data": {
            "text/plain": [
              "   cluster  clusterCount\n",
              "0       -1         42569\n",
              "1        4          5140\n",
              "2        6           943\n",
              "3        0           605\n",
              "4        7           294\n",
              "5        3           252\n",
              "6        1           119\n",
              "7        5            45\n",
              "8        2            33"
            ],
            "text/html": [
              "\n",
              "  <div id=\"df-e1ebc959-1638-4ab6-b508-1084e50f65c9\">\n",
              "    <div class=\"colab-df-container\">\n",
              "      <div>\n",
              "<style scoped>\n",
              "    .dataframe tbody tr th:only-of-type {\n",
              "        vertical-align: middle;\n",
              "    }\n",
              "\n",
              "    .dataframe tbody tr th {\n",
              "        vertical-align: top;\n",
              "    }\n",
              "\n",
              "    .dataframe thead th {\n",
              "        text-align: right;\n",
              "    }\n",
              "</style>\n",
              "<table border=\"1\" class=\"dataframe\">\n",
              "  <thead>\n",
              "    <tr style=\"text-align: right;\">\n",
              "      <th></th>\n",
              "      <th>cluster</th>\n",
              "      <th>clusterCount</th>\n",
              "    </tr>\n",
              "  </thead>\n",
              "  <tbody>\n",
              "    <tr>\n",
              "      <th>0</th>\n",
              "      <td>-1</td>\n",
              "      <td>42569</td>\n",
              "    </tr>\n",
              "    <tr>\n",
              "      <th>1</th>\n",
              "      <td>4</td>\n",
              "      <td>5140</td>\n",
              "    </tr>\n",
              "    <tr>\n",
              "      <th>2</th>\n",
              "      <td>6</td>\n",
              "      <td>943</td>\n",
              "    </tr>\n",
              "    <tr>\n",
              "      <th>3</th>\n",
              "      <td>0</td>\n",
              "      <td>605</td>\n",
              "    </tr>\n",
              "    <tr>\n",
              "      <th>4</th>\n",
              "      <td>7</td>\n",
              "      <td>294</td>\n",
              "    </tr>\n",
              "    <tr>\n",
              "      <th>5</th>\n",
              "      <td>3</td>\n",
              "      <td>252</td>\n",
              "    </tr>\n",
              "    <tr>\n",
              "      <th>6</th>\n",
              "      <td>1</td>\n",
              "      <td>119</td>\n",
              "    </tr>\n",
              "    <tr>\n",
              "      <th>7</th>\n",
              "      <td>5</td>\n",
              "      <td>45</td>\n",
              "    </tr>\n",
              "    <tr>\n",
              "      <th>8</th>\n",
              "      <td>2</td>\n",
              "      <td>33</td>\n",
              "    </tr>\n",
              "  </tbody>\n",
              "</table>\n",
              "</div>\n",
              "      <button class=\"colab-df-convert\" onclick=\"convertToInteractive('df-e1ebc959-1638-4ab6-b508-1084e50f65c9')\"\n",
              "              title=\"Convert this dataframe to an interactive table.\"\n",
              "              style=\"display:none;\">\n",
              "        \n",
              "  <svg xmlns=\"http://www.w3.org/2000/svg\" height=\"24px\"viewBox=\"0 0 24 24\"\n",
              "       width=\"24px\">\n",
              "    <path d=\"M0 0h24v24H0V0z\" fill=\"none\"/>\n",
              "    <path d=\"M18.56 5.44l.94 2.06.94-2.06 2.06-.94-2.06-.94-.94-2.06-.94 2.06-2.06.94zm-11 1L8.5 8.5l.94-2.06 2.06-.94-2.06-.94L8.5 2.5l-.94 2.06-2.06.94zm10 10l.94 2.06.94-2.06 2.06-.94-2.06-.94-.94-2.06-.94 2.06-2.06.94z\"/><path d=\"M17.41 7.96l-1.37-1.37c-.4-.4-.92-.59-1.43-.59-.52 0-1.04.2-1.43.59L10.3 9.45l-7.72 7.72c-.78.78-.78 2.05 0 2.83L4 21.41c.39.39.9.59 1.41.59.51 0 1.02-.2 1.41-.59l7.78-7.78 2.81-2.81c.8-.78.8-2.07 0-2.86zM5.41 20L4 18.59l7.72-7.72 1.47 1.35L5.41 20z\"/>\n",
              "  </svg>\n",
              "      </button>\n",
              "      \n",
              "  <style>\n",
              "    .colab-df-container {\n",
              "      display:flex;\n",
              "      flex-wrap:wrap;\n",
              "      gap: 12px;\n",
              "    }\n",
              "\n",
              "    .colab-df-convert {\n",
              "      background-color: #E8F0FE;\n",
              "      border: none;\n",
              "      border-radius: 50%;\n",
              "      cursor: pointer;\n",
              "      display: none;\n",
              "      fill: #1967D2;\n",
              "      height: 32px;\n",
              "      padding: 0 0 0 0;\n",
              "      width: 32px;\n",
              "    }\n",
              "\n",
              "    .colab-df-convert:hover {\n",
              "      background-color: #E2EBFA;\n",
              "      box-shadow: 0px 1px 2px rgba(60, 64, 67, 0.3), 0px 1px 3px 1px rgba(60, 64, 67, 0.15);\n",
              "      fill: #174EA6;\n",
              "    }\n",
              "\n",
              "    [theme=dark] .colab-df-convert {\n",
              "      background-color: #3B4455;\n",
              "      fill: #D2E3FC;\n",
              "    }\n",
              "\n",
              "    [theme=dark] .colab-df-convert:hover {\n",
              "      background-color: #434B5C;\n",
              "      box-shadow: 0px 1px 3px 1px rgba(0, 0, 0, 0.15);\n",
              "      filter: drop-shadow(0px 1px 2px rgba(0, 0, 0, 0.3));\n",
              "      fill: #FFFFFF;\n",
              "    }\n",
              "  </style>\n",
              "\n",
              "      <script>\n",
              "        const buttonEl =\n",
              "          document.querySelector('#df-e1ebc959-1638-4ab6-b508-1084e50f65c9 button.colab-df-convert');\n",
              "        buttonEl.style.display =\n",
              "          google.colab.kernel.accessAllowed ? 'block' : 'none';\n",
              "\n",
              "        async function convertToInteractive(key) {\n",
              "          const element = document.querySelector('#df-e1ebc959-1638-4ab6-b508-1084e50f65c9');\n",
              "          const dataTable =\n",
              "            await google.colab.kernel.invokeFunction('convertToInteractive',\n",
              "                                                     [key], {});\n",
              "          if (!dataTable) return;\n",
              "\n",
              "          const docLinkHtml = 'Like what you see? Visit the ' +\n",
              "            '<a target=\"_blank\" href=https://colab.research.google.com/notebooks/data_table.ipynb>data table notebook</a>'\n",
              "            + ' to learn more about interactive tables.';\n",
              "          element.innerHTML = '';\n",
              "          dataTable['output_type'] = 'display_data';\n",
              "          await google.colab.output.renderOutput(dataTable, element);\n",
              "          const docLink = document.createElement('div');\n",
              "          docLink.innerHTML = docLinkHtml;\n",
              "          element.appendChild(docLink);\n",
              "        }\n",
              "      </script>\n",
              "    </div>\n",
              "  </div>\n",
              "  "
            ]
          },
          "metadata": {},
          "execution_count": 54
        }
      ]
    }
  ]
}