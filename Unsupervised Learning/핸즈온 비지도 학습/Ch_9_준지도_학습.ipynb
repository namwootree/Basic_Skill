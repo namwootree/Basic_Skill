{
  "nbformat": 4,
  "nbformat_minor": 0,
  "metadata": {
    "colab": {
      "provenance": [],
      "authorship_tag": "ABX9TyMMLu3w/wTG+PGCd0LaqR7e",
      "include_colab_link": true
    },
    "kernelspec": {
      "name": "python3",
      "display_name": "Python 3"
    },
    "language_info": {
      "name": "python"
    }
  },
  "cells": [
    {
      "cell_type": "markdown",
      "metadata": {
        "id": "view-in-github",
        "colab_type": "text"
      },
      "source": [
        "<a href=\"https://colab.research.google.com/github/namwootree/Basic_Skill/blob/main/Unsupervised%20Learning/%ED%95%B8%EC%A6%88%EC%98%A8%20%EB%B9%84%EC%A7%80%EB%8F%84%20%ED%95%99%EC%8A%B5/Ch_9_%EC%A4%80%EC%A7%80%EB%8F%84_%ED%95%99%EC%8A%B5.ipynb\" target=\"_parent\"><img src=\"https://colab.research.google.com/assets/colab-badge.svg\" alt=\"Open In Colab\"/></a>"
      ]
    },
    {
      "cell_type": "markdown",
      "source": [
        "# 준지도 학습"
      ],
      "metadata": {
        "id": "AVkw9noUT1ZP"
      }
    },
    {
      "cell_type": "markdown",
      "source": [
        "* 지도 학습과 비지도 학습의 장점을 도두 가진다\n",
        "\n",
        "* 레이블이 약간만 있어도 데이터 셋의 구조를 파악하고 레이블이 지정하지 않은 관측치에 레이블이 지정할 수 있다"
      ],
      "metadata": {
        "id": "_H8GfFyeUPik"
      }
    },
    {
      "cell_type": "markdown",
      "source": [
        "# Setting"
      ],
      "metadata": {
        "id": "3kInyIoTUaef"
      }
    },
    {
      "cell_type": "markdown",
      "source": [
        "## Library"
      ],
      "metadata": {
        "id": "LeX0B4LvUi5D"
      }
    },
    {
      "cell_type": "code",
      "execution_count": 1,
      "metadata": {
        "id": "xd1VofkPTpY-"
      },
      "outputs": [],
      "source": [
        "import numpy as np\n",
        "import pandas as pd\n",
        "import os, time, re\n",
        "import pickle, gzip"
      ]
    },
    {
      "cell_type": "code",
      "source": [
        "import matplotlib as mpl\n",
        "import matplotlib.pyplot as plt\n",
        "import seaborn as sns\n",
        "color = sns.color_palette()"
      ],
      "metadata": {
        "id": "el53NwCYUlgw"
      },
      "execution_count": 2,
      "outputs": []
    },
    {
      "cell_type": "code",
      "source": [
        "from sklearn.preprocessing import StandardScaler, LabelEncoder\n",
        "from sklearn.model_selection import train_test_split \n",
        "from sklearn.model_selection import StratifiedKFold \n",
        "from sklearn.metrics import log_loss\n",
        "from sklearn.metrics import precision_recall_curve, average_precision_score\n",
        "from sklearn.metrics import roc_curve, auc, roc_auc_score"
      ],
      "metadata": {
        "id": "b0xy1CEBUoJe"
      },
      "execution_count": 3,
      "outputs": []
    },
    {
      "cell_type": "code",
      "source": [
        "import lightgbm as lgb"
      ],
      "metadata": {
        "id": "NLFmHdHUUt8c"
      },
      "execution_count": 4,
      "outputs": []
    },
    {
      "cell_type": "code",
      "source": [
        "import tensorflow as tf\n",
        "import keras\n",
        "from keras import backend as K\n",
        "from keras.models import Sequential, Model\n",
        "from keras.layers import Activation, Dense, Dropout\n",
        "from keras.layers import BatchNormalization, Input, Lambda\n",
        "from keras import regularizers\n",
        "from keras.losses import mse, binary_crossentropy"
      ],
      "metadata": {
        "id": "Vkz3fLcdUvPj"
      },
      "execution_count": 5,
      "outputs": []
    },
    {
      "cell_type": "markdown",
      "source": [
        "# Load Data Set"
      ],
      "metadata": {
        "id": "t281323FUyLn"
      }
    },
    {
      "cell_type": "markdown",
      "source": [
        "## Googel Drive Mount"
      ],
      "metadata": {
        "id": "9IE5fkZwUzim"
      }
    },
    {
      "cell_type": "code",
      "source": [
        "from google.colab import drive\n",
        "drive.mount('/content/drive')"
      ],
      "metadata": {
        "colab": {
          "base_uri": "https://localhost:8080/"
        },
        "id": "nr25Udg2UwgM",
        "outputId": "65f620d7-24e4-43f4-ec3c-b51561dab0d9"
      },
      "execution_count": 6,
      "outputs": [
        {
          "output_type": "stream",
          "name": "stdout",
          "text": [
            "Mounted at /content/drive\n"
          ]
        }
      ]
    },
    {
      "cell_type": "markdown",
      "source": [
        "## Load Credit Card Data Set"
      ],
      "metadata": {
        "id": "Ie4eIwz_VA1A"
      }
    },
    {
      "cell_type": "code",
      "source": [
        "path_credit_card = '/content/drive/MyDrive/머신러닝 엔지니어링/핸즈온 비지도 학습/data/creditcard.csv'\n",
        "\n",
        "data = pd.read_csv(path_credit_card)\n",
        "data.head()"
      ],
      "metadata": {
        "colab": {
          "base_uri": "https://localhost:8080/",
          "height": 299
        },
        "id": "SqLXKzy2U6G4",
        "outputId": "33d2ef98-4214-47d5-f95b-80cd0fb2788e"
      },
      "execution_count": 7,
      "outputs": [
        {
          "output_type": "execute_result",
          "data": {
            "text/plain": [
              "   Time        V1        V2        V3        V4        V5        V6        V7  \\\n",
              "0   0.0 -1.359807 -0.072781  2.536347  1.378155 -0.338321  0.462388  0.239599   \n",
              "1   0.0  1.191857  0.266151  0.166480  0.448154  0.060018 -0.082361 -0.078803   \n",
              "2   1.0 -1.358354 -1.340163  1.773209  0.379780 -0.503198  1.800499  0.791461   \n",
              "3   1.0 -0.966272 -0.185226  1.792993 -0.863291 -0.010309  1.247203  0.237609   \n",
              "4   2.0 -1.158233  0.877737  1.548718  0.403034 -0.407193  0.095921  0.592941   \n",
              "\n",
              "         V8        V9  ...       V21       V22       V23       V24       V25  \\\n",
              "0  0.098698  0.363787  ... -0.018307  0.277838 -0.110474  0.066928  0.128539   \n",
              "1  0.085102 -0.255425  ... -0.225775 -0.638672  0.101288 -0.339846  0.167170   \n",
              "2  0.247676 -1.514654  ...  0.247998  0.771679  0.909412 -0.689281 -0.327642   \n",
              "3  0.377436 -1.387024  ... -0.108300  0.005274 -0.190321 -1.175575  0.647376   \n",
              "4 -0.270533  0.817739  ... -0.009431  0.798278 -0.137458  0.141267 -0.206010   \n",
              "\n",
              "        V26       V27       V28  Amount  Class  \n",
              "0 -0.189115  0.133558 -0.021053  149.62      0  \n",
              "1  0.125895 -0.008983  0.014724    2.69      0  \n",
              "2 -0.139097 -0.055353 -0.059752  378.66      0  \n",
              "3 -0.221929  0.062723  0.061458  123.50      0  \n",
              "4  0.502292  0.219422  0.215153   69.99      0  \n",
              "\n",
              "[5 rows x 31 columns]"
            ],
            "text/html": [
              "\n",
              "  <div id=\"df-39cc882a-6c93-42fa-8fda-e0693d938457\">\n",
              "    <div class=\"colab-df-container\">\n",
              "      <div>\n",
              "<style scoped>\n",
              "    .dataframe tbody tr th:only-of-type {\n",
              "        vertical-align: middle;\n",
              "    }\n",
              "\n",
              "    .dataframe tbody tr th {\n",
              "        vertical-align: top;\n",
              "    }\n",
              "\n",
              "    .dataframe thead th {\n",
              "        text-align: right;\n",
              "    }\n",
              "</style>\n",
              "<table border=\"1\" class=\"dataframe\">\n",
              "  <thead>\n",
              "    <tr style=\"text-align: right;\">\n",
              "      <th></th>\n",
              "      <th>Time</th>\n",
              "      <th>V1</th>\n",
              "      <th>V2</th>\n",
              "      <th>V3</th>\n",
              "      <th>V4</th>\n",
              "      <th>V5</th>\n",
              "      <th>V6</th>\n",
              "      <th>V7</th>\n",
              "      <th>V8</th>\n",
              "      <th>V9</th>\n",
              "      <th>...</th>\n",
              "      <th>V21</th>\n",
              "      <th>V22</th>\n",
              "      <th>V23</th>\n",
              "      <th>V24</th>\n",
              "      <th>V25</th>\n",
              "      <th>V26</th>\n",
              "      <th>V27</th>\n",
              "      <th>V28</th>\n",
              "      <th>Amount</th>\n",
              "      <th>Class</th>\n",
              "    </tr>\n",
              "  </thead>\n",
              "  <tbody>\n",
              "    <tr>\n",
              "      <th>0</th>\n",
              "      <td>0.0</td>\n",
              "      <td>-1.359807</td>\n",
              "      <td>-0.072781</td>\n",
              "      <td>2.536347</td>\n",
              "      <td>1.378155</td>\n",
              "      <td>-0.338321</td>\n",
              "      <td>0.462388</td>\n",
              "      <td>0.239599</td>\n",
              "      <td>0.098698</td>\n",
              "      <td>0.363787</td>\n",
              "      <td>...</td>\n",
              "      <td>-0.018307</td>\n",
              "      <td>0.277838</td>\n",
              "      <td>-0.110474</td>\n",
              "      <td>0.066928</td>\n",
              "      <td>0.128539</td>\n",
              "      <td>-0.189115</td>\n",
              "      <td>0.133558</td>\n",
              "      <td>-0.021053</td>\n",
              "      <td>149.62</td>\n",
              "      <td>0</td>\n",
              "    </tr>\n",
              "    <tr>\n",
              "      <th>1</th>\n",
              "      <td>0.0</td>\n",
              "      <td>1.191857</td>\n",
              "      <td>0.266151</td>\n",
              "      <td>0.166480</td>\n",
              "      <td>0.448154</td>\n",
              "      <td>0.060018</td>\n",
              "      <td>-0.082361</td>\n",
              "      <td>-0.078803</td>\n",
              "      <td>0.085102</td>\n",
              "      <td>-0.255425</td>\n",
              "      <td>...</td>\n",
              "      <td>-0.225775</td>\n",
              "      <td>-0.638672</td>\n",
              "      <td>0.101288</td>\n",
              "      <td>-0.339846</td>\n",
              "      <td>0.167170</td>\n",
              "      <td>0.125895</td>\n",
              "      <td>-0.008983</td>\n",
              "      <td>0.014724</td>\n",
              "      <td>2.69</td>\n",
              "      <td>0</td>\n",
              "    </tr>\n",
              "    <tr>\n",
              "      <th>2</th>\n",
              "      <td>1.0</td>\n",
              "      <td>-1.358354</td>\n",
              "      <td>-1.340163</td>\n",
              "      <td>1.773209</td>\n",
              "      <td>0.379780</td>\n",
              "      <td>-0.503198</td>\n",
              "      <td>1.800499</td>\n",
              "      <td>0.791461</td>\n",
              "      <td>0.247676</td>\n",
              "      <td>-1.514654</td>\n",
              "      <td>...</td>\n",
              "      <td>0.247998</td>\n",
              "      <td>0.771679</td>\n",
              "      <td>0.909412</td>\n",
              "      <td>-0.689281</td>\n",
              "      <td>-0.327642</td>\n",
              "      <td>-0.139097</td>\n",
              "      <td>-0.055353</td>\n",
              "      <td>-0.059752</td>\n",
              "      <td>378.66</td>\n",
              "      <td>0</td>\n",
              "    </tr>\n",
              "    <tr>\n",
              "      <th>3</th>\n",
              "      <td>1.0</td>\n",
              "      <td>-0.966272</td>\n",
              "      <td>-0.185226</td>\n",
              "      <td>1.792993</td>\n",
              "      <td>-0.863291</td>\n",
              "      <td>-0.010309</td>\n",
              "      <td>1.247203</td>\n",
              "      <td>0.237609</td>\n",
              "      <td>0.377436</td>\n",
              "      <td>-1.387024</td>\n",
              "      <td>...</td>\n",
              "      <td>-0.108300</td>\n",
              "      <td>0.005274</td>\n",
              "      <td>-0.190321</td>\n",
              "      <td>-1.175575</td>\n",
              "      <td>0.647376</td>\n",
              "      <td>-0.221929</td>\n",
              "      <td>0.062723</td>\n",
              "      <td>0.061458</td>\n",
              "      <td>123.50</td>\n",
              "      <td>0</td>\n",
              "    </tr>\n",
              "    <tr>\n",
              "      <th>4</th>\n",
              "      <td>2.0</td>\n",
              "      <td>-1.158233</td>\n",
              "      <td>0.877737</td>\n",
              "      <td>1.548718</td>\n",
              "      <td>0.403034</td>\n",
              "      <td>-0.407193</td>\n",
              "      <td>0.095921</td>\n",
              "      <td>0.592941</td>\n",
              "      <td>-0.270533</td>\n",
              "      <td>0.817739</td>\n",
              "      <td>...</td>\n",
              "      <td>-0.009431</td>\n",
              "      <td>0.798278</td>\n",
              "      <td>-0.137458</td>\n",
              "      <td>0.141267</td>\n",
              "      <td>-0.206010</td>\n",
              "      <td>0.502292</td>\n",
              "      <td>0.219422</td>\n",
              "      <td>0.215153</td>\n",
              "      <td>69.99</td>\n",
              "      <td>0</td>\n",
              "    </tr>\n",
              "  </tbody>\n",
              "</table>\n",
              "<p>5 rows × 31 columns</p>\n",
              "</div>\n",
              "      <button class=\"colab-df-convert\" onclick=\"convertToInteractive('df-39cc882a-6c93-42fa-8fda-e0693d938457')\"\n",
              "              title=\"Convert this dataframe to an interactive table.\"\n",
              "              style=\"display:none;\">\n",
              "        \n",
              "  <svg xmlns=\"http://www.w3.org/2000/svg\" height=\"24px\"viewBox=\"0 0 24 24\"\n",
              "       width=\"24px\">\n",
              "    <path d=\"M0 0h24v24H0V0z\" fill=\"none\"/>\n",
              "    <path d=\"M18.56 5.44l.94 2.06.94-2.06 2.06-.94-2.06-.94-.94-2.06-.94 2.06-2.06.94zm-11 1L8.5 8.5l.94-2.06 2.06-.94-2.06-.94L8.5 2.5l-.94 2.06-2.06.94zm10 10l.94 2.06.94-2.06 2.06-.94-2.06-.94-.94-2.06-.94 2.06-2.06.94z\"/><path d=\"M17.41 7.96l-1.37-1.37c-.4-.4-.92-.59-1.43-.59-.52 0-1.04.2-1.43.59L10.3 9.45l-7.72 7.72c-.78.78-.78 2.05 0 2.83L4 21.41c.39.39.9.59 1.41.59.51 0 1.02-.2 1.41-.59l7.78-7.78 2.81-2.81c.8-.78.8-2.07 0-2.86zM5.41 20L4 18.59l7.72-7.72 1.47 1.35L5.41 20z\"/>\n",
              "  </svg>\n",
              "      </button>\n",
              "      \n",
              "  <style>\n",
              "    .colab-df-container {\n",
              "      display:flex;\n",
              "      flex-wrap:wrap;\n",
              "      gap: 12px;\n",
              "    }\n",
              "\n",
              "    .colab-df-convert {\n",
              "      background-color: #E8F0FE;\n",
              "      border: none;\n",
              "      border-radius: 50%;\n",
              "      cursor: pointer;\n",
              "      display: none;\n",
              "      fill: #1967D2;\n",
              "      height: 32px;\n",
              "      padding: 0 0 0 0;\n",
              "      width: 32px;\n",
              "    }\n",
              "\n",
              "    .colab-df-convert:hover {\n",
              "      background-color: #E2EBFA;\n",
              "      box-shadow: 0px 1px 2px rgba(60, 64, 67, 0.3), 0px 1px 3px 1px rgba(60, 64, 67, 0.15);\n",
              "      fill: #174EA6;\n",
              "    }\n",
              "\n",
              "    [theme=dark] .colab-df-convert {\n",
              "      background-color: #3B4455;\n",
              "      fill: #D2E3FC;\n",
              "    }\n",
              "\n",
              "    [theme=dark] .colab-df-convert:hover {\n",
              "      background-color: #434B5C;\n",
              "      box-shadow: 0px 1px 3px 1px rgba(0, 0, 0, 0.15);\n",
              "      filter: drop-shadow(0px 1px 2px rgba(0, 0, 0, 0.3));\n",
              "      fill: #FFFFFF;\n",
              "    }\n",
              "  </style>\n",
              "\n",
              "      <script>\n",
              "        const buttonEl =\n",
              "          document.querySelector('#df-39cc882a-6c93-42fa-8fda-e0693d938457 button.colab-df-convert');\n",
              "        buttonEl.style.display =\n",
              "          google.colab.kernel.accessAllowed ? 'block' : 'none';\n",
              "\n",
              "        async function convertToInteractive(key) {\n",
              "          const element = document.querySelector('#df-39cc882a-6c93-42fa-8fda-e0693d938457');\n",
              "          const dataTable =\n",
              "            await google.colab.kernel.invokeFunction('convertToInteractive',\n",
              "                                                     [key], {});\n",
              "          if (!dataTable) return;\n",
              "\n",
              "          const docLinkHtml = 'Like what you see? Visit the ' +\n",
              "            '<a target=\"_blank\" href=https://colab.research.google.com/notebooks/data_table.ipynb>data table notebook</a>'\n",
              "            + ' to learn more about interactive tables.';\n",
              "          element.innerHTML = '';\n",
              "          dataTable['output_type'] = 'display_data';\n",
              "          await google.colab.output.renderOutput(dataTable, element);\n",
              "          const docLink = document.createElement('div');\n",
              "          docLink.innerHTML = docLinkHtml;\n",
              "          element.appendChild(docLink);\n",
              "        }\n",
              "      </script>\n",
              "    </div>\n",
              "  </div>\n",
              "  "
            ]
          },
          "metadata": {},
          "execution_count": 7
        }
      ]
    },
    {
      "cell_type": "markdown",
      "source": [
        "# Preprocessing"
      ],
      "metadata": {
        "id": "tIejAeMiVHmm"
      }
    },
    {
      "cell_type": "markdown",
      "source": [
        "## Split X / y"
      ],
      "metadata": {
        "id": "uz8xikPQVQMx"
      }
    },
    {
      "cell_type": "code",
      "source": [
        "X = data.copy().drop(['Class','Time'],axis=1)\n",
        "y = data['Class'].copy()"
      ],
      "metadata": {
        "id": "spJkL8BJVEpc"
      },
      "execution_count": 8,
      "outputs": []
    },
    {
      "cell_type": "markdown",
      "source": [
        "## Scalering"
      ],
      "metadata": {
        "id": "snmpENsaVSv7"
      }
    },
    {
      "cell_type": "code",
      "source": [
        "featuresToScale = X.columns\n",
        "sX = StandardScaler(copy=True, with_mean=True, with_std=True)\n",
        "X.loc[:,featuresToScale] = sX.fit_transform(X[featuresToScale])"
      ],
      "metadata": {
        "id": "fuvcwaROVSCx"
      },
      "execution_count": 9,
      "outputs": []
    },
    {
      "cell_type": "markdown",
      "source": [
        "## Split Train / Test Set"
      ],
      "metadata": {
        "id": "M4vLEggSVZON"
      }
    },
    {
      "cell_type": "code",
      "source": [
        "X_train, X_test, y_train, y_test = train_test_split(X, y,\n",
        "                                                    test_size=0.33,\n",
        "                                                    random_state=2022,\n",
        "                                                    stratify=y)"
      ],
      "metadata": {
        "id": "T6VjoBqbVYM8"
      },
      "execution_count": 10,
      "outputs": []
    },
    {
      "cell_type": "markdown",
      "source": [
        "## Remove Labeled Data Set"
      ],
      "metadata": {
        "id": "D0hn_gtgVrS3"
      }
    },
    {
      "cell_type": "markdown",
      "source": [
        "* 일부 레이블이 있는 데이터 셋을 어떻게 활용하는지 시뮬레이션하기 위해 사기 거래의 90%를 훈련 셋에서 제외\n",
        "\n",
        "* 현실 세계에서 사기 발생률은 매우 낮다"
      ],
      "metadata": {
        "id": "eQKRhJuhV1pz"
      }
    },
    {
      "cell_type": "code",
      "source": [
        "toDrop = y_train[y_train==1].sample(frac=0.90, random_state=2022)\n",
        "X_train.drop(labels=toDrop.index,inplace=True)\n",
        "y_train.drop(labels=toDrop.index,inplace=True)"
      ],
      "metadata": {
        "id": "gOZUfHNxViQP"
      },
      "execution_count": 11,
      "outputs": []
    },
    {
      "cell_type": "markdown",
      "source": [
        "# Modeling"
      ],
      "metadata": {
        "id": "-8xbzyVNWI0P"
      }
    },
    {
      "cell_type": "markdown",
      "source": [
        "## 평가 함수 및 그래프 함수 정의"
      ],
      "metadata": {
        "id": "XremyWWeWNG7"
      }
    },
    {
      "cell_type": "markdown",
      "source": [
        "### 평가 함수"
      ],
      "metadata": {
        "id": "u9NNJsS1WPsM"
      }
    },
    {
      "cell_type": "code",
      "source": [
        "def anomalyScores(originalDF, reducedDF):\n",
        "\n",
        "    loss = np.sum((np.array(originalDF) - np.array(reducedDF))**2, axis=1)\n",
        "    loss = pd.Series(data=loss,index=originalDF.index)\n",
        "    loss = (loss-np.min(loss))/(np.max(loss)-np.min(loss))\n",
        "    \n",
        "    return loss"
      ],
      "metadata": {
        "id": "-f-qI_ZGV0yj"
      },
      "execution_count": 12,
      "outputs": []
    },
    {
      "cell_type": "markdown",
      "source": [
        "### 그래프 함수"
      ],
      "metadata": {
        "id": "eIgDa8JWWR0i"
      }
    },
    {
      "cell_type": "code",
      "source": [
        "def plotResults(trueLabels, anomalyScores, returnPreds = False):\n",
        "\n",
        "    preds = pd.concat([trueLabels, anomalyScores], axis=1)\n",
        "    preds.columns = ['trueLabel', 'anomalyScore']\n",
        "    precision, recall, thresholds = precision_recall_curve(preds['trueLabel'], \n",
        "                                                           preds['anomalyScore'])\n",
        "    \n",
        "    average_precision = average_precision_score(preds['trueLabel'],\n",
        "                                                preds['anomalyScore'])\n",
        "    \n",
        "    plt.step(recall, precision, color='k', alpha=0.7, where='post')\n",
        "    plt.fill_between(recall, precision, step='post', alpha=0.3, color='k')\n",
        "\n",
        "    plt.xlabel('Recall')\n",
        "    plt.ylabel('Precision')\n",
        "    plt.ylim([0.0, 1.05])\n",
        "    plt.xlim([0.0, 1.0])\n",
        "    \n",
        "    plt.title('Precision-Recall curve: Average Precision = {0:0.2f}'.format(average_precision))\n",
        "\n",
        "    fpr, tpr, thresholds = roc_curve(preds['trueLabel'], \n",
        "                                     preds['anomalyScore'])\n",
        "    areaUnderROC = auc(fpr, tpr)\n",
        "\n",
        "    plt.figure()\n",
        "    plt.plot(fpr, tpr, color='r', lw=2, label='ROC curve')\n",
        "    plt.plot([0, 1], [0, 1], color='k', lw=2, linestyle='--')\n",
        "    plt.xlim([0.0, 1.0])\n",
        "    plt.ylim([0.0, 1.05])\n",
        "    plt.xlabel('False Positive Rate')\n",
        "    plt.ylabel('True Positive Rate')\n",
        "    plt.title('Receiver operating characteristic: Area under the curve = {0:0.2f}'.format(areaUnderROC))\n",
        "    plt.legend(loc=\"lower right\")\n",
        "    plt.show()\n",
        "    \n",
        "    if returnPreds==True:\n",
        "        return preds, average_precision"
      ],
      "metadata": {
        "id": "3sUHdLcqWVub"
      },
      "execution_count": 13,
      "outputs": []
    },
    {
      "cell_type": "markdown",
      "source": [
        "### 특정 재현율 임계점별 정밀도를 평가 함수"
      ],
      "metadata": {
        "id": "6Yc79M5LWxQU"
      }
    },
    {
      "cell_type": "code",
      "source": [
        "def precisionAnalysis(df, column, threshold):\n",
        "    df.sort_values(by=column, ascending=False, inplace=True)\n",
        "    threshold_value = threshold*df.trueLabel.sum()\n",
        "    i = 0\n",
        "    j = 0\n",
        "    while i < threshold_value+1:\n",
        "        if df.iloc[j][\"trueLabel\"]==1:\n",
        "            i += 1\n",
        "        j += 1\n",
        "    return df, i/j"
      ],
      "metadata": {
        "id": "dyKiyTbDWhY8"
      },
      "execution_count": 14,
      "outputs": []
    },
    {
      "cell_type": "markdown",
      "source": [
        "## KFold"
      ],
      "metadata": {
        "id": "7TPB225TW8uw"
      }
    },
    {
      "cell_type": "code",
      "source": [
        "k_fold = StratifiedKFold(n_splits=5,\n",
        "                         shuffle=True,\n",
        "                         random_state=2022)"
      ],
      "metadata": {
        "id": "mDerSWKTW-22"
      },
      "execution_count": 15,
      "outputs": []
    },
    {
      "cell_type": "markdown",
      "source": [
        "## 지도 학습 모델"
      ],
      "metadata": {
        "id": "qBfQdi1VW3nK"
      }
    },
    {
      "cell_type": "code",
      "source": [
        "params_lightGB = {\n",
        "    'task': 'train',\n",
        "    'application':'binary',\n",
        "    'num_class':1,\n",
        "    'boosting': 'gbdt',\n",
        "    'objective': 'binary',\n",
        "    'metric': 'binary_logloss',\n",
        "    'metric_freq':50,\n",
        "    'is_training_metric':False,\n",
        "    'max_depth':4,\n",
        "    'num_leaves': 31,\n",
        "    'learning_rate': 0.01,\n",
        "    'feature_fraction': 1.0,\n",
        "    'bagging_fraction': 1.0,\n",
        "    'bagging_freq': 0,\n",
        "    'bagging_seed': 2018,\n",
        "    'verbose': 0,\n",
        "    'num_threads':16\n",
        "}"
      ],
      "metadata": {
        "id": "n2IHrHb7W1aA"
      },
      "execution_count": 16,
      "outputs": []
    },
    {
      "cell_type": "code",
      "source": [
        "trainingScores = []\n",
        "cvScores = []\n",
        "predictionsBasedOnKFolds = pd.DataFrame(data=[],\n",
        "                                        index=y_train.index,\n",
        "                                        columns=['prediction'])\n",
        "\n",
        "for train_index, cv_index in k_fold.split(np.zeros(len(X_train)), y_train.ravel()):\n",
        "\n",
        "    X_train_fold, X_cv_fold = X_train.iloc[train_index,:], X_train.iloc[cv_index,:]\n",
        "    y_train_fold, y_cv_fold = y_train.iloc[train_index], y_train.iloc[cv_index]\n",
        "    \n",
        "    lgb_train = lgb.Dataset(X_train_fold, y_train_fold)\n",
        "    lgb_eval = lgb.Dataset(X_cv_fold, y_cv_fold, reference=lgb_train)\n",
        "\n",
        "    gbm = lgb.train(params_lightGB,\n",
        "                    lgb_train,\n",
        "                    num_boost_round=2000,\n",
        "                    valid_sets=lgb_eval,\n",
        "                    early_stopping_rounds=200,\n",
        "                    verbose_eval=100)\n",
        "    \n",
        "    loglossTraining = log_loss(y_train_fold, gbm.predict(X_train_fold, num_iteration=gbm.best_iteration))\n",
        "    trainingScores.append(loglossTraining)\n",
        "    \n",
        "    predictionsBasedOnKFolds.loc[X_cv_fold.index,'prediction'] = gbm.predict(X_cv_fold, num_iteration=gbm.best_iteration) \n",
        "    loglossCV = log_loss(y_cv_fold, predictionsBasedOnKFolds.loc[X_cv_fold.index,'prediction'])\n",
        "    cvScores.append(loglossCV)\n",
        "    \n",
        "    print('Training Log Loss: ', loglossTraining)\n",
        "    print('CV Log Loss: ', loglossCV)\n",
        "    \n",
        "loglossLightGBMGradientBoosting = log_loss(y_train, predictionsBasedOnKFolds.loc[:,'prediction'])\n",
        "print('LightGBM Gradient Boosting Log Loss: ', loglossLightGBMGradientBoosting)"
      ],
      "metadata": {
        "colab": {
          "base_uri": "https://localhost:8080/"
        },
        "id": "0K6ckGJTXEJ-",
        "outputId": "767b1422-6582-4cec-f39d-6e3bdcff36e3"
      },
      "execution_count": 19,
      "outputs": [
        {
          "output_type": "stream",
          "name": "stdout",
          "text": [
            "Training until validation scores don't improve for 200 rounds.\n",
            "[100]\tvalid_0's binary_logloss: 0.00348359\n",
            "[200]\tvalid_0's binary_logloss: 0.00332539\n",
            "[300]\tvalid_0's binary_logloss: 0.00323184\n",
            "[400]\tvalid_0's binary_logloss: 0.00314083\n",
            "[500]\tvalid_0's binary_logloss: 0.0030502\n",
            "[600]\tvalid_0's binary_logloss: 0.00297133\n",
            "[700]\tvalid_0's binary_logloss: 0.00288834\n",
            "[800]\tvalid_0's binary_logloss: 0.00281122\n",
            "[900]\tvalid_0's binary_logloss: 0.00275335\n",
            "[1000]\tvalid_0's binary_logloss: 0.00269991\n",
            "[1100]\tvalid_0's binary_logloss: 0.00264214\n",
            "[1200]\tvalid_0's binary_logloss: 0.00258963\n",
            "[1300]\tvalid_0's binary_logloss: 0.0025512\n",
            "[1400]\tvalid_0's binary_logloss: 0.00253424\n",
            "[1500]\tvalid_0's binary_logloss: 0.00252154\n",
            "[1600]\tvalid_0's binary_logloss: 0.00251441\n",
            "[1700]\tvalid_0's binary_logloss: 0.00251194\n",
            "[1800]\tvalid_0's binary_logloss: 0.00250888\n",
            "[1900]\tvalid_0's binary_logloss: 0.00250661\n",
            "[2000]\tvalid_0's binary_logloss: 0.00250459\n",
            "Did not meet early stopping. Best iteration is:\n",
            "[1999]\tvalid_0's binary_logloss: 0.00250453\n",
            "Training Log Loss:  1.9255635429687132e-08\n",
            "CV Log Loss:  0.0025045312924698096\n",
            "Training until validation scores don't improve for 200 rounds.\n",
            "[100]\tvalid_0's binary_logloss: 0.00064356\n",
            "[200]\tvalid_0's binary_logloss: 0.000581401\n",
            "[300]\tvalid_0's binary_logloss: 0.000554629\n",
            "[400]\tvalid_0's binary_logloss: 0.000559599\n",
            "[500]\tvalid_0's binary_logloss: 0.000570488\n",
            "Early stopping, best iteration is:\n",
            "[345]\tvalid_0's binary_logloss: 0.000551643\n",
            "Training Log Loss:  2.5244092512706098e-05\n",
            "CV Log Loss:  0.0005516434949769729\n",
            "Training until validation scores don't improve for 200 rounds.\n",
            "[100]\tvalid_0's binary_logloss: 0.00197837\n",
            "[200]\tvalid_0's binary_logloss: 0.00191531\n",
            "[300]\tvalid_0's binary_logloss: 0.00190964\n",
            "[400]\tvalid_0's binary_logloss: 0.00190455\n",
            "[500]\tvalid_0's binary_logloss: 0.0019246\n",
            "[600]\tvalid_0's binary_logloss: 0.00194411\n",
            "Early stopping, best iteration is:\n",
            "[408]\tvalid_0's binary_logloss: 0.00190442\n",
            "Training Log Loss:  9.595238143754705e-06\n",
            "CV Log Loss:  0.0019044402885528729\n",
            "Training until validation scores don't improve for 200 rounds.\n",
            "[100]\tvalid_0's binary_logloss: 0.00461333\n",
            "[200]\tvalid_0's binary_logloss: 0.00447109\n",
            "Early stopping, best iteration is:\n",
            "[1]\tvalid_0's binary_logloss: 0.00300153\n",
            "Training Log Loss:  0.0018426668951601432\n",
            "CV Log Loss:  0.003001530454665263\n",
            "Training until validation scores don't improve for 200 rounds.\n",
            "[100]\tvalid_0's binary_logloss: 0.00267546\n",
            "[200]\tvalid_0's binary_logloss: 0.00251204\n",
            "[300]\tvalid_0's binary_logloss: 0.00245868\n",
            "[400]\tvalid_0's binary_logloss: 0.00242013\n",
            "[500]\tvalid_0's binary_logloss: 0.00241297\n",
            "[600]\tvalid_0's binary_logloss: 0.0023435\n",
            "[700]\tvalid_0's binary_logloss: 0.00230841\n",
            "[800]\tvalid_0's binary_logloss: 0.00225697\n",
            "[900]\tvalid_0's binary_logloss: 0.00223206\n",
            "[1000]\tvalid_0's binary_logloss: 0.00222613\n",
            "[1100]\tvalid_0's binary_logloss: 0.00222418\n",
            "[1200]\tvalid_0's binary_logloss: 0.00221053\n",
            "[1300]\tvalid_0's binary_logloss: 0.00221746\n",
            "[1400]\tvalid_0's binary_logloss: 0.00220838\n",
            "[1500]\tvalid_0's binary_logloss: 0.00221168\n",
            "[1600]\tvalid_0's binary_logloss: 0.00221495\n",
            "Early stopping, best iteration is:\n",
            "[1429]\tvalid_0's binary_logloss: 0.00220695\n",
            "Training Log Loss:  2.784782375138661e-08\n",
            "CV Log Loss:  0.002206949438641079\n",
            "LightGBM Gradient Boosting Log Loss:  0.002033813005912734\n"
          ]
        }
      ]
    },
    {
      "cell_type": "code",
      "source": [
        "preds, average_precision = plotResults(y_train, predictionsBasedOnKFolds.loc[:,'prediction'], True)"
      ],
      "metadata": {
        "colab": {
          "base_uri": "https://localhost:8080/",
          "height": 573
        },
        "id": "v5nhyCtBXY7x",
        "outputId": "5ff668f1-0a17-4b60-dd78-c2a2b23744fa"
      },
      "execution_count": 20,
      "outputs": [
        {
          "output_type": "display_data",
          "data": {
            "text/plain": [
              "<Figure size 432x288 with 1 Axes>"
            ],
            "image/png": "[encoded data removed]"
          },
          "metadata": {
            "needs_background": "light"
          }
        },
        {
          "output_type": "display_data",
          "data": {
            "text/plain": [
              "<Figure size 432x288 with 1 Axes>"
            ],
            "image/png": "[encoded data removed]"
          },
          "metadata": {
            "needs_background": "light"
          }
        }
      ]
    },
    {
      "cell_type": "code",
      "source": [
        "predictions = pd.Series(data=gbm.predict(X_test, num_iteration=gbm.best_iteration), index=X_test.index)\n",
        "preds, average_precision = plotResults(y_test, predictions, True)"
      ],
      "metadata": {
        "colab": {
          "base_uri": "https://localhost:8080/",
          "height": 573
        },
        "id": "pGsvKowmXzBg",
        "outputId": "2afb6338-82b6-484e-8ebd-20dd85c29b8b"
      },
      "execution_count": 21,
      "outputs": [
        {
          "output_type": "display_data",
          "data": {
            "text/plain": [
              "<Figure size 432x288 with 1 Axes>"
            ],
            "image/png": "[encoded data removed]"
          },
          "metadata": {
            "needs_background": "light"
          }
        },
        {
          "output_type": "display_data",
          "data": {
            "text/plain": [
              "<Figure size 432x288 with 1 Axes>"
            ],
            "image/png": "[encoded data removed]"
          },
          "metadata": {
            "needs_background": "light"
          }
        }
      ]
    },
    {
      "cell_type": "code",
      "source": [
        "preds, precision = precisionAnalysis(preds, \"anomalyScore\", 0.75)\n",
        "print(\"Precision at 75% recall\", precision)"
      ],
      "metadata": {
        "colab": {
          "base_uri": "https://localhost:8080/"
        },
        "id": "GE75K7TbX4eu",
        "outputId": "5214efe0-c758-4c52-fcb6-4ddfb2eccefb"
      },
      "execution_count": 22,
      "outputs": [
        {
          "output_type": "stream",
          "name": "stdout",
          "text": [
            "Precision at 75% recall 0.917910447761194\n"
          ]
        }
      ]
    },
    {
      "cell_type": "markdown",
      "source": [
        "## 비지도 학습"
      ],
      "metadata": {
        "id": "VALCsA1AYOaK"
      }
    },
    {
      "cell_type": "markdown",
      "source": [
        "### 오버 샘플링"
      ],
      "metadata": {
        "id": "SNuFpeWFYU0A"
      }
    },
    {
      "cell_type": "code",
      "source": [
        "oversample_multiplier = 100\n",
        "\n",
        "X_train_original = X_train.copy()\n",
        "y_train_original = y_train.copy()\n",
        "X_test_original = X_test.copy()\n",
        "y_test_original = y_test.copy()\n",
        "\n",
        "X_train_oversampled = X_train.copy()\n",
        "y_train_oversampled = y_train.copy()\n",
        "X_train_oversampled = X_train_oversampled.append([X_train_oversampled[y_train==1]]*oversample_multiplier, \n",
        "                                                 ignore_index=False)\n",
        "y_train_oversampled = y_train_oversampled.append([y_train_oversampled[y_train==1]]*oversample_multiplier,\n",
        "                                                 ignore_index=False)\n",
        "\n",
        "X_train = X_train_oversampled.copy()\n",
        "y_train = y_train_oversampled.copy()"
      ],
      "metadata": {
        "id": "CH_i_8VzX7BE"
      },
      "execution_count": 23,
      "outputs": []
    },
    {
      "cell_type": "markdown",
      "source": [
        "### 모델 생성"
      ],
      "metadata": {
        "id": "I2jMftfKYt0s"
      }
    },
    {
      "cell_type": "code",
      "source": [
        "model = Sequential()\n",
        "\n",
        "model.add(Dense(units=40, activation='linear',\n",
        "                activity_regularizer=regularizers.l1(10e-5),\n",
        "                input_dim=29,name='hidden_layer'))\n",
        "\n",
        "model.add(Dropout(0.02))\n",
        "\n",
        "model.add(Dense(units=29, activation='linear'))"
      ],
      "metadata": {
        "id": "jj88rDPJYnXG"
      },
      "execution_count": 24,
      "outputs": []
    },
    {
      "cell_type": "markdown",
      "source": [
        "### 모델 컴파일"
      ],
      "metadata": {
        "id": "_eng7SdWYziZ"
      }
    },
    {
      "cell_type": "code",
      "source": [
        "model.compile(optimizer='adam',\n",
        "              loss='mean_squared_error',\n",
        "              metrics=['accuracy'])"
      ],
      "metadata": {
        "id": "nzvQXDc_Yyhl"
      },
      "execution_count": 25,
      "outputs": []
    },
    {
      "cell_type": "markdown",
      "source": [
        "### 모델 학습"
      ],
      "metadata": {
        "id": "L82b3MzRY3wL"
      }
    },
    {
      "cell_type": "code",
      "source": [
        "num_epochs = 5\n",
        "batch_size = 32\n",
        "\n",
        "history = model.fit(x=X_train, y=X_train,\n",
        "                    epochs=num_epochs,\n",
        "                    batch_size=batch_size,\n",
        "                    shuffle=True,\n",
        "                    validation_split=0.20,\n",
        "                    verbose=1)"
      ],
      "metadata": {
        "colab": {
          "base_uri": "https://localhost:8080/"
        },
        "id": "WjDsXXwBY1v1",
        "outputId": "fdf30528-fb0a-4a7a-92a5-d74c605f1890"
      },
      "execution_count": 26,
      "outputs": [
        {
          "output_type": "stream",
          "name": "stdout",
          "text": [
            "Epoch 1/5\n",
            "4846/4846 [==============================] - 19s 4ms/step - loss: 0.0703 - accuracy: 0.8672 - val_loss: 0.0206 - val_accuracy: 0.9679\n",
            "Epoch 2/5\n",
            "4846/4846 [==============================] - 17s 3ms/step - loss: 0.0185 - accuracy: 0.9253 - val_loss: 0.0440 - val_accuracy: 0.9823\n",
            "Epoch 3/5\n",
            "4846/4846 [==============================] - 12s 2ms/step - loss: 0.0169 - accuracy: 0.9267 - val_loss: 0.0386 - val_accuracy: 0.9766\n",
            "Epoch 4/5\n",
            "4846/4846 [==============================] - 11s 2ms/step - loss: 0.0174 - accuracy: 0.9267 - val_loss: 0.0385 - val_accuracy: 0.9624\n",
            "Epoch 5/5\n",
            "4846/4846 [==============================] - 10s 2ms/step - loss: 0.0173 - accuracy: 0.9272 - val_loss: 0.0173 - val_accuracy: 0.9762\n"
          ]
        }
      ]
    },
    {
      "cell_type": "code",
      "source": [
        "predictionsTrain = model.predict(X_train_original, verbose=1)\n",
        "anomalyScoresAETrain = anomalyScores(X_train_original, predictionsTrain)\n",
        "preds, average_precision = plotResults(y_train_original, anomalyScoresAETrain, True)"
      ],
      "metadata": {
        "colab": {
          "base_uri": "https://localhost:8080/",
          "height": 591
        },
        "id": "I82LYIw2Y42Z",
        "outputId": "335da4e1-f526-4dc8-c969-df61d6ac07f5"
      },
      "execution_count": 27,
      "outputs": [
        {
          "output_type": "stream",
          "name": "stdout",
          "text": [
            "5954/5954 [==============================] - 7s 1ms/step\n"
          ]
        },
        {
          "output_type": "display_data",
          "data": {
            "text/plain": [
              "<Figure size 432x288 with 1 Axes>"
            ],
            "image/png": "[encoded data removed]"
          },
          "metadata": {
            "needs_background": "light"
          }
        },
        {
          "output_type": "display_data",
          "data": {
            "text/plain": [
              "<Figure size 432x288 with 1 Axes>"
            ],
            "image/png": "[encoded data removed]"
          },
          "metadata": {
            "needs_background": "light"
          }
        }
      ]
    },
    {
      "cell_type": "code",
      "source": [
        "predictions = model.predict(X_test, verbose=1)\n",
        "anomalyScoresAE = anomalyScores(X_test, predictions)\n",
        "preds, average_precision = plotResults(y_test, anomalyScoresAE, True)"
      ],
      "metadata": {
        "colab": {
          "base_uri": "https://localhost:8080/",
          "height": 591
        },
        "id": "nu4X_-bGY99j",
        "outputId": "6be1dc8b-2991-4902-bedb-6246120b7b73"
      },
      "execution_count": 28,
      "outputs": [
        {
          "output_type": "stream",
          "name": "stdout",
          "text": [
            "2938/2938 [==============================] - 5s 2ms/step\n"
          ]
        },
        {
          "output_type": "display_data",
          "data": {
            "text/plain": [
              "<Figure size 432x288 with 1 Axes>"
            ],
            "image/png": "[encoded data removed]"
          },
          "metadata": {
            "needs_background": "light"
          }
        },
        {
          "output_type": "display_data",
          "data": {
            "text/plain": [
              "<Figure size 432x288 with 1 Axes>"
            ],
            "image/png": "[encoded data removed]"
          },
          "metadata": {
            "needs_background": "light"
          }
        }
      ]
    },
    {
      "cell_type": "markdown",
      "source": [
        "## 준지도 학습"
      ],
      "metadata": {
        "id": "-ZVyx9TfZZZy"
      }
    },
    {
      "cell_type": "code",
      "source": [
        "layer_name = 'hidden_layer'\n",
        "\n",
        "intermediate_layer_model = Model(inputs=model.input, outputs=model.get_layer(layer_name).output)\n",
        "intermediate_output_train = intermediate_layer_model.predict(X_train_original)\n",
        "intermediate_output_test = intermediate_layer_model.predict(X_test_original)"
      ],
      "metadata": {
        "colab": {
          "base_uri": "https://localhost:8080/"
        },
        "id": "xeONlYgXZQt-",
        "outputId": "b7f5f018-466a-4dd6-8b7c-42ab04b3f561"
      },
      "execution_count": 33,
      "outputs": [
        {
          "output_type": "stream",
          "name": "stdout",
          "text": [
            "5954/5954 [==============================] - 7s 1ms/step\n",
            "2938/2938 [==============================] - 3s 1ms/step\n"
          ]
        }
      ]
    },
    {
      "cell_type": "code",
      "source": [
        "intermediate_output_trainDF = pd.DataFrame(data=intermediate_output_train,index=X_train_original.index)\n",
        "intermediate_output_testDF = pd.DataFrame(data=intermediate_output_test,index=X_test_original.index)"
      ],
      "metadata": {
        "id": "FWx8ZG3eZ5Ej"
      },
      "execution_count": 34,
      "outputs": []
    },
    {
      "cell_type": "code",
      "source": [
        "X_train = X_train_original.merge(intermediate_output_trainDF, left_index=True,right_index=True)\n",
        "X_test = X_test_original.merge(intermediate_output_testDF, left_index=True,right_index=True)\n",
        "y_train = y_train_original.copy()"
      ],
      "metadata": {
        "id": "P4qnHg-1aFNx"
      },
      "execution_count": 35,
      "outputs": []
    },
    {
      "cell_type": "code",
      "source": [
        "trainingScores = []\n",
        "cvScores = []\n",
        "predictionsBasedOnKFolds = pd.DataFrame(data=[],\n",
        "                                        index=y_train.index,\n",
        "                                        columns=['prediction'])\n",
        "\n",
        "for train_index, cv_index in k_fold.split(np.zeros(len(X_train)), y_train.ravel()):\n",
        "\n",
        "    X_train_fold, X_cv_fold = X_train.iloc[train_index,:], X_train.iloc[cv_index,:]\n",
        "    y_train_fold, y_cv_fold = y_train.iloc[train_index], y_train.iloc[cv_index]\n",
        "    \n",
        "    lgb_train = lgb.Dataset(X_train_fold, y_train_fold)\n",
        "    lgb_eval = lgb.Dataset(X_cv_fold, y_cv_fold, reference=lgb_train)\n",
        "    gbm = lgb.train(params_lightGB,\n",
        "                    lgb_train,\n",
        "                    num_boost_round=5000,\n",
        "                    valid_sets=lgb_eval, \n",
        "                    early_stopping_rounds=200,\n",
        "                    verbose_eval=200)\n",
        "    \n",
        "    loglossTraining = log_loss(y_train_fold, \n",
        "                                gbm.predict(X_train_fold,\n",
        "                                num_iteration=gbm.best_iteration))\n",
        "    \n",
        "    trainingScores.append(loglossTraining)\n",
        "    \n",
        "    predictionsBasedOnKFolds.loc[X_cv_fold.index,'prediction'] = gbm.predict(X_cv_fold, num_iteration=gbm.best_iteration) \n",
        "    loglossCV = log_loss(y_cv_fold, predictionsBasedOnKFolds.loc[X_cv_fold.index,'prediction'])\n",
        "    cvScores.append(loglossCV)\n",
        "    \n",
        "    print('Training Log Loss: ', loglossTraining)\n",
        "    print('CV Log Loss: ', loglossCV)\n",
        "    \n",
        "loglossLightGBMGradientBoosting = log_loss(y_train, predictionsBasedOnKFolds.loc[:,'prediction'])\n",
        "print('LightGBM Gradient Boosting Log Loss: ', loglossLightGBMGradientBoosting)"
      ],
      "metadata": {
        "colab": {
          "base_uri": "https://localhost:8080/"
        },
        "id": "fzmqv0eRaK8D",
        "outputId": "29955b8f-2efb-49aa-9842-32beb945a9e8"
      },
      "execution_count": 37,
      "outputs": [
        {
          "output_type": "stream",
          "name": "stdout",
          "text": [
            "Training until validation scores don't improve for 200 rounds.\n",
            "[200]\tvalid_0's binary_logloss: 0.00105886\n",
            "[400]\tvalid_0's binary_logloss: 0.000954942\n",
            "[600]\tvalid_0's binary_logloss: 0.000920697\n",
            "[800]\tvalid_0's binary_logloss: 0.000831685\n",
            "[1000]\tvalid_0's binary_logloss: 0.000762906\n",
            "[1200]\tvalid_0's binary_logloss: 0.000725082\n",
            "[1400]\tvalid_0's binary_logloss: 0.000718955\n",
            "[1600]\tvalid_0's binary_logloss: 0.000714497\n",
            "[1800]\tvalid_0's binary_logloss: 0.000716232\n",
            "Early stopping, best iteration is:\n",
            "[1647]\tvalid_0's binary_logloss: 0.000713984\n",
            "Training Log Loss:  1.9237714617980228e-08\n",
            "CV Log Loss:  0.0007139843274720846\n",
            "Training until validation scores don't improve for 200 rounds.\n",
            "[200]\tvalid_0's binary_logloss: 0.00541523\n",
            "Early stopping, best iteration is:\n",
            "[1]\tvalid_0's binary_logloss: 0.00109891\n",
            "Training Log Loss:  0.002255401458952048\n",
            "CV Log Loss:  0.0010989106778324725\n",
            "Training until validation scores don't improve for 200 rounds.\n",
            "[200]\tvalid_0's binary_logloss: 0.00128406\n",
            "[400]\tvalid_0's binary_logloss: 0.00130804\n",
            "Early stopping, best iteration is:\n",
            "[248]\tvalid_0's binary_logloss: 0.00127693\n",
            "Training Log Loss:  4.156091835823365e-05\n",
            "CV Log Loss:  0.0012769287032791104\n",
            "Training until validation scores don't improve for 200 rounds.\n",
            "[200]\tvalid_0's binary_logloss: 0.00188503\n",
            "[400]\tvalid_0's binary_logloss: 0.00180714\n",
            "[600]\tvalid_0's binary_logloss: 0.00176219\n",
            "[800]\tvalid_0's binary_logloss: 0.00172836\n",
            "[1000]\tvalid_0's binary_logloss: 0.0017024\n",
            "[1200]\tvalid_0's binary_logloss: 0.00166891\n",
            "[1400]\tvalid_0's binary_logloss: 0.00165734\n",
            "[1600]\tvalid_0's binary_logloss: 0.00165594\n",
            "Early stopping, best iteration is:\n",
            "[1548]\tvalid_0's binary_logloss: 0.00165562\n",
            "Training Log Loss:  1.760460410356896e-08\n",
            "CV Log Loss:  0.0016556212679328236\n",
            "Training until validation scores don't improve for 200 rounds.\n",
            "[200]\tvalid_0's binary_logloss: 0.000867529\n",
            "[400]\tvalid_0's binary_logloss: 0.00094119\n",
            "Early stopping, best iteration is:\n",
            "[216]\tvalid_0's binary_logloss: 0.00086409\n",
            "Training Log Loss:  4.784516402459776e-05\n",
            "CV Log Loss:  0.0008640903643330447\n",
            "LightGBM Gradient Boosting Log Loss:  0.001121905620063926\n"
          ]
        }
      ]
    },
    {
      "cell_type": "code",
      "source": [
        "preds, average_precision = plotResults(y_train, predictionsBasedOnKFolds.loc[:,'prediction'], True)"
      ],
      "metadata": {
        "colab": {
          "base_uri": "https://localhost:8080/",
          "height": 573
        },
        "id": "5f36gvmTabvq",
        "outputId": "c5af8c28-a622-4f43-fdcc-742d8d9d9df0"
      },
      "execution_count": 38,
      "outputs": [
        {
          "output_type": "display_data",
          "data": {
            "text/plain": [
              "<Figure size 432x288 with 1 Axes>"
            ],
            "image/png": "[encoded data removed]"
          },
          "metadata": {
            "needs_background": "light"
          }
        },
        {
          "output_type": "display_data",
          "data": {
            "text/plain": [
              "<Figure size 432x288 with 1 Axes>"
            ],
            "image/png": "[encoded data removed]"
          },
          "metadata": {
            "needs_background": "light"
          }
        }
      ]
    },
    {
      "cell_type": "code",
      "source": [
        "predictions = pd.Series(data=gbm.predict(X_test, \n",
        "                                         num_iteration=gbm.best_iteration),index=X_test.index)\n",
        "preds, average_precision = plotResults(y_test, predictions, True)"
      ],
      "metadata": {
        "colab": {
          "base_uri": "https://localhost:8080/",
          "height": 573
        },
        "id": "JM6B07r7anQL",
        "outputId": "bfe7d6c0-7198-4a24-a24f-eab93db82a00"
      },
      "execution_count": 39,
      "outputs": [
        {
          "output_type": "display_data",
          "data": {
            "text/plain": [
              "<Figure size 432x288 with 1 Axes>"
            ],
            "image/png": "[encoded data removed]"
          },
          "metadata": {
            "needs_background": "light"
          }
        },
        {
          "output_type": "display_data",
          "data": {
            "text/plain": [
              "<Figure size 432x288 with 1 Axes>"
            ],
            "image/png": "[encoded data removed]"
          },
          "metadata": {
            "needs_background": "light"
          }
        }
      ]
    },
    {
      "cell_type": "code",
      "source": [
        "preds, precision = precisionAnalysis(preds, \"anomalyScore\", 0.75)\n",
        "print(precision)"
      ],
      "metadata": {
        "colab": {
          "base_uri": "https://localhost:8080/"
        },
        "id": "KxWcHxWFaqR3",
        "outputId": "869abb52-d5b7-4a7b-e571-216e13c6d8d5"
      },
      "execution_count": 40,
      "outputs": [
        {
          "output_type": "stream",
          "name": "stdout",
          "text": [
            "0.06392931392931393\n"
          ]
        }
      ]
    },
    {
      "cell_type": "code",
      "source": [
        "featuresImportance = pd.DataFrame(data=list(gbm.feature_importance()), \n",
        "                                  index=X_train.columns,columns=['featImportance'])\n",
        "featuresImportance = featuresImportance/featuresImportance.sum()\n",
        "featuresImportance.sort_values(by='featImportance', ascending=False,inplace=True)\n",
        "featuresImportance"
      ],
      "metadata": {
        "colab": {
          "base_uri": "https://localhost:8080/",
          "height": 424
        },
        "id": "u_WMeNEcart1",
        "outputId": "392b3a63-17f8-4821-91db-b8818015ef13"
      },
      "execution_count": 41,
      "outputs": [
        {
          "output_type": "execute_result",
          "data": {
            "text/plain": [
              "     featImportance\n",
              "V27        0.090724\n",
              "13         0.055386\n",
              "16         0.053007\n",
              "V13        0.052667\n",
              "30         0.050629\n",
              "..              ...\n",
              "33         0.000000\n",
              "12         0.000000\n",
              "V5         0.000000\n",
              "9          0.000000\n",
              "V3         0.000000\n",
              "\n",
              "[69 rows x 1 columns]"
            ],
            "text/html": [
              "\n",
              "  <div id=\"df-f8b4a428-a271-4ac6-b229-2b2f1c811aff\">\n",
              "    <div class=\"colab-df-container\">\n",
              "      <div>\n",
              "<style scoped>\n",
              "    .dataframe tbody tr th:only-of-type {\n",
              "        vertical-align: middle;\n",
              "    }\n",
              "\n",
              "    .dataframe tbody tr th {\n",
              "        vertical-align: top;\n",
              "    }\n",
              "\n",
              "    .dataframe thead th {\n",
              "        text-align: right;\n",
              "    }\n",
              "</style>\n",
              "<table border=\"1\" class=\"dataframe\">\n",
              "  <thead>\n",
              "    <tr style=\"text-align: right;\">\n",
              "      <th></th>\n",
              "      <th>featImportance</th>\n",
              "    </tr>\n",
              "  </thead>\n",
              "  <tbody>\n",
              "    <tr>\n",
              "      <th>V27</th>\n",
              "      <td>0.090724</td>\n",
              "    </tr>\n",
              "    <tr>\n",
              "      <th>13</th>\n",
              "      <td>0.055386</td>\n",
              "    </tr>\n",
              "    <tr>\n",
              "      <th>16</th>\n",
              "      <td>0.053007</td>\n",
              "    </tr>\n",
              "    <tr>\n",
              "      <th>V13</th>\n",
              "      <td>0.052667</td>\n",
              "    </tr>\n",
              "    <tr>\n",
              "      <th>30</th>\n",
              "      <td>0.050629</td>\n",
              "    </tr>\n",
              "    <tr>\n",
              "      <th>...</th>\n",
              "      <td>...</td>\n",
              "    </tr>\n",
              "    <tr>\n",
              "      <th>33</th>\n",
              "      <td>0.000000</td>\n",
              "    </tr>\n",
              "    <tr>\n",
              "      <th>12</th>\n",
              "      <td>0.000000</td>\n",
              "    </tr>\n",
              "    <tr>\n",
              "      <th>V5</th>\n",
              "      <td>0.000000</td>\n",
              "    </tr>\n",
              "    <tr>\n",
              "      <th>9</th>\n",
              "      <td>0.000000</td>\n",
              "    </tr>\n",
              "    <tr>\n",
              "      <th>V3</th>\n",
              "      <td>0.000000</td>\n",
              "    </tr>\n",
              "  </tbody>\n",
              "</table>\n",
              "<p>69 rows × 1 columns</p>\n",
              "</div>\n",
              "      <button class=\"colab-df-convert\" onclick=\"convertToInteractive('df-f8b4a428-a271-4ac6-b229-2b2f1c811aff')\"\n",
              "              title=\"Convert this dataframe to an interactive table.\"\n",
              "              style=\"display:none;\">\n",
              "        \n",
              "  <svg xmlns=\"http://www.w3.org/2000/svg\" height=\"24px\"viewBox=\"0 0 24 24\"\n",
              "       width=\"24px\">\n",
              "    <path d=\"M0 0h24v24H0V0z\" fill=\"none\"/>\n",
              "    <path d=\"M18.56 5.44l.94 2.06.94-2.06 2.06-.94-2.06-.94-.94-2.06-.94 2.06-2.06.94zm-11 1L8.5 8.5l.94-2.06 2.06-.94-2.06-.94L8.5 2.5l-.94 2.06-2.06.94zm10 10l.94 2.06.94-2.06 2.06-.94-2.06-.94-.94-2.06-.94 2.06-2.06.94z\"/><path d=\"M17.41 7.96l-1.37-1.37c-.4-.4-.92-.59-1.43-.59-.52 0-1.04.2-1.43.59L10.3 9.45l-7.72 7.72c-.78.78-.78 2.05 0 2.83L4 21.41c.39.39.9.59 1.41.59.51 0 1.02-.2 1.41-.59l7.78-7.78 2.81-2.81c.8-.78.8-2.07 0-2.86zM5.41 20L4 18.59l7.72-7.72 1.47 1.35L5.41 20z\"/>\n",
              "  </svg>\n",
              "      </button>\n",
              "      \n",
              "  <style>\n",
              "    .colab-df-container {\n",
              "      display:flex;\n",
              "      flex-wrap:wrap;\n",
              "      gap: 12px;\n",
              "    }\n",
              "\n",
              "    .colab-df-convert {\n",
              "      background-color: #E8F0FE;\n",
              "      border: none;\n",
              "      border-radius: 50%;\n",
              "      cursor: pointer;\n",
              "      display: none;\n",
              "      fill: #1967D2;\n",
              "      height: 32px;\n",
              "      padding: 0 0 0 0;\n",
              "      width: 32px;\n",
              "    }\n",
              "\n",
              "    .colab-df-convert:hover {\n",
              "      background-color: #E2EBFA;\n",
              "      box-shadow: 0px 1px 2px rgba(60, 64, 67, 0.3), 0px 1px 3px 1px rgba(60, 64, 67, 0.15);\n",
              "      fill: #174EA6;\n",
              "    }\n",
              "\n",
              "    [theme=dark] .colab-df-convert {\n",
              "      background-color: #3B4455;\n",
              "      fill: #D2E3FC;\n",
              "    }\n",
              "\n",
              "    [theme=dark] .colab-df-convert:hover {\n",
              "      background-color: #434B5C;\n",
              "      box-shadow: 0px 1px 3px 1px rgba(0, 0, 0, 0.15);\n",
              "      filter: drop-shadow(0px 1px 2px rgba(0, 0, 0, 0.3));\n",
              "      fill: #FFFFFF;\n",
              "    }\n",
              "  </style>\n",
              "\n",
              "      <script>\n",
              "        const buttonEl =\n",
              "          document.querySelector('#df-f8b4a428-a271-4ac6-b229-2b2f1c811aff button.colab-df-convert');\n",
              "        buttonEl.style.display =\n",
              "          google.colab.kernel.accessAllowed ? 'block' : 'none';\n",
              "\n",
              "        async function convertToInteractive(key) {\n",
              "          const element = document.querySelector('#df-f8b4a428-a271-4ac6-b229-2b2f1c811aff');\n",
              "          const dataTable =\n",
              "            await google.colab.kernel.invokeFunction('convertToInteractive',\n",
              "                                                     [key], {});\n",
              "          if (!dataTable) return;\n",
              "\n",
              "          const docLinkHtml = 'Like what you see? Visit the ' +\n",
              "            '<a target=\"_blank\" href=https://colab.research.google.com/notebooks/data_table.ipynb>data table notebook</a>'\n",
              "            + ' to learn more about interactive tables.';\n",
              "          element.innerHTML = '';\n",
              "          dataTable['output_type'] = 'display_data';\n",
              "          await google.colab.output.renderOutput(dataTable, element);\n",
              "          const docLink = document.createElement('div');\n",
              "          docLink.innerHTML = docLinkHtml;\n",
              "          element.appendChild(docLink);\n",
              "        }\n",
              "      </script>\n",
              "    </div>\n",
              "  </div>\n",
              "  "
            ]
          },
          "metadata": {},
          "execution_count": 41
        }
      ]
    }
  ]
}