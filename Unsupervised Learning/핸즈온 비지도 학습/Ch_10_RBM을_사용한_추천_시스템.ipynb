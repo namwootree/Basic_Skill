{
  "nbformat": 4,
  "nbformat_minor": 0,
  "metadata": {
    "colab": {
      "provenance": [],
      "authorship_tag": "ABX9TyPZV3smJER4r0FCpseWwMwy",
      "include_colab_link": true
    },
    "kernelspec": {
      "name": "python3",
      "display_name": "Python 3"
    },
    "language_info": {
      "name": "python"
    }
  },
  "cells": [
    {
      "cell_type": "markdown",
      "metadata": {
        "id": "view-in-github",
        "colab_type": "text"
      },
      "source": [
        "<a href=\"https://colab.research.google.com/github/namwootree/Basic_Skill/blob/main/Unsupervised%20Learning/%ED%95%B8%EC%A6%88%EC%98%A8%20%EB%B9%84%EC%A7%80%EB%8F%84%20%ED%95%99%EC%8A%B5/Ch_10_RBM%EC%9D%84_%EC%82%AC%EC%9A%A9%ED%95%9C_%EC%B6%94%EC%B2%9C_%EC%8B%9C%EC%8A%A4%ED%85%9C.ipynb\" target=\"_parent\"><img src=\"https://colab.research.google.com/assets/colab-badge.svg\" alt=\"Open In Colab\"/></a>"
      ]
    },
    {
      "cell_type": "markdown",
      "source": [
        "# 생성적 비지도 학습 모델"
      ],
      "metadata": {
        "id": "BKyEMQzS8A4P"
      }
    },
    {
      "cell_type": "markdown",
      "source": [
        "* 원본 데이터에서 확률 분포를 학습하고 새로운 데이터를 추론하기 위해 사용"
      ],
      "metadata": {
        "id": "hlSaawuL8EFn"
      }
    },
    {
      "cell_type": "markdown",
      "source": [
        "# 볼츠만 머신"
      ],
      "metadata": {
        "id": "k6exMfIm8OTV"
      }
    },
    {
      "cell_type": "markdown",
      "source": [
        "* 제약이 없는 유형의 볼츠만 머신은 입력층과 하나 또는 여러 개의 은닉층이 있는 신경망으로 구성된다\n",
        "\n",
        "* 신경망의 뉴런 또는 유닛은 훈련 중에 공급되는 데 데이터와 볼츠만 머신이 최소화하려는 비용 함수를 기반으로 활성화할지 여부에 확률적 결정을 내린다\n",
        "\n",
        "* 이러한 훈련을 통해 데이터 존재하는 복잡하고 내재된 관계 및 패턴을 모델링 하는 데 도움이 되는 특징이 있다\n",
        "\n"
      ],
      "metadata": {
        "id": "bm0gG8U88Pmh"
      }
    },
    {
      "cell_type": "markdown",
      "source": [
        "# 제한된 볼츠만 머신"
      ],
      "metadata": {
        "id": "fBEfs7y08vhE"
      }
    },
    {
      "cell_type": "markdown",
      "source": [
        "* 입력층과 단 하나의 은닉층을 가지고, 다른 층의 뉴련과는 연결되지만 동일한 계층 내 뉴련끼리는 연결되지 않도록 뉴런 간 연결을 제한한 방법\n",
        "\n",
        "* 즉, 가시층 내 뉴런들 간 연결 및 은닉층 내 뉴련들 간 연결이 없다"
      ],
      "metadata": {
        "id": "i7e2jwXh81rQ"
      }
    },
    {
      "cell_type": "markdown",
      "source": [
        "# 추천 시스템"
      ],
      "metadata": {
        "id": "QqIiXAm29QB6"
      }
    },
    {
      "cell_type": "markdown",
      "source": [
        "* 추천 시스템에는 협업 필터링 추천 시스템과 콘텐츠 기반 필터링 추천 시스템이라는 두 가지 주요 유형이 있다\n",
        "\n",
        "* 협업 필터링\n",
        "\n",
        "  - 사용자의 과거 행위와 해당 사용자와 유사한 다른 사용자의 행위를 기반으로 추천 시스템을 구축\n",
        "  - 또한 사용자가 명확한 관심을 표현한 적이 없더라도 사용자가 관심을 가질 수 있는 아이템을 예측할 수 있다\n",
        "\n",
        "* 콘텐츠 기반 필터링\n",
        "\n",
        "  - 아이템의 고유한 속성을 학습해 유사한 속성을 가진 다른 아이템을 추천하는 것"
      ],
      "metadata": {
        "id": "LAQ1iSMo9RSc"
      }
    },
    {
      "cell_type": "markdown",
      "source": [
        "# 협업 필터링"
      ],
      "metadata": {
        "id": "VTvKpi6u9yZr"
      }
    },
    {
      "cell_type": "markdown",
      "source": [
        "* 일반적으로 아이템의 고유한 속성을 학습하는 것은 어려운 작업이기 떄무에 콘텐츠 기반 필터링은 널리 사용하지 않는다\n",
        "\n",
        "* 이보다 사용자 행동 및 선호도 정보를 많이 수집 및 분석하고 이를 기반으로 예측하는 것이 훨씬 쉽다"
      ],
      "metadata": {
        "id": "AYmytXiA9z26"
      }
    },
    {
      "cell_type": "markdown",
      "source": [
        "* 협업 필터링은 아이템 자체에 대한 속성 지식이 필요하지 않는다\n",
        "\n",
        "* 오히려 협업 필터링은 과거에 동일한 사용자가 미래에도 동일할 것이고 사용자 선호도는 시간이 지남에 따라 안정적으로 유지된다고 가정한다\n",
        "\n",
        "* 또한 협업 필터링은 명시적 데이터에 의존할 필요가 없다\n",
        "\n",
        "* 오히려 사용자가 특정 아이템을 보거나 클릭하는 시간 및 빈도와 같은 암시적 데이터로 작동할 수  있다"
      ],
      "metadata": {
        "id": "QHwkIRW4-GvK"
      }
    },
    {
      "cell_type": "markdown",
      "source": [
        "* 그러나 협업 필터링도 어려운 점이 존재\n",
        "\n",
        "  - 좋은 추천을 만들기 위해서는 사용자 데이터가 많이 필요하다\n",
        "  - 계산이 매우 복잡하다\n",
        "  - 데이터셋이 일반적으로 매우 희소하다"
      ],
      "metadata": {
        "id": "k4QIVJaO-nbI"
      }
    },
    {
      "cell_type": "markdown",
      "source": [
        "# Setting"
      ],
      "metadata": {
        "id": "AwnEb0Ia-44t"
      }
    },
    {
      "cell_type": "markdown",
      "source": [
        "## Library"
      ],
      "metadata": {
        "id": "pJGjnVfL-6LU"
      }
    },
    {
      "cell_type": "code",
      "execution_count": 1,
      "metadata": {
        "id": "aDcGrnNE73D0"
      },
      "outputs": [],
      "source": [
        "import numpy as np\n",
        "import pandas as pd\n",
        "import os, time, re\n",
        "import pickle, gzip, datetime\n",
        "from datetime import datetime"
      ]
    },
    {
      "cell_type": "code",
      "source": [
        "import matplotlib as mpl\n",
        "import matplotlib.pyplot as plt\n",
        "import seaborn as sns\n",
        "color = sns.color_palette()"
      ],
      "metadata": {
        "id": "Jc-ZihS2-9CB"
      },
      "execution_count": 2,
      "outputs": []
    },
    {
      "cell_type": "code",
      "source": [
        "from sklearn.preprocessing import StandardScaler, LabelEncoder\n",
        "from sklearn.model_selection import train_test_split \n",
        "from sklearn.model_selection import StratifiedKFold \n",
        "from sklearn.metrics import log_loss\n",
        "from sklearn.metrics import precision_recall_curve, average_precision_score\n",
        "from sklearn.metrics import roc_curve, auc, roc_auc_score, mean_squared_error"
      ],
      "metadata": {
        "id": "aA5Lxr9j-_Oh"
      },
      "execution_count": 3,
      "outputs": []
    },
    {
      "cell_type": "code",
      "source": [
        "import lightgbm as lgb"
      ],
      "metadata": {
        "id": "tXH4BliF_E8x"
      },
      "execution_count": 4,
      "outputs": []
    },
    {
      "cell_type": "code",
      "source": [
        "import tensorflow.compat.v1 as tf\n",
        "import keras\n",
        "from keras import backend as K\n",
        "from keras.models import Sequential, Model\n",
        "from keras.layers import Activation, Dense, Dropout\n",
        "from keras.layers import BatchNormalization, Input, Lambda\n",
        "from keras.layers import Embedding, Flatten, dot\n",
        "from keras import regularizers\n",
        "from keras.losses import mse, binary_crossentropy"
      ],
      "metadata": {
        "id": "14t0kjkj_GLA"
      },
      "execution_count": 70,
      "outputs": []
    },
    {
      "cell_type": "markdown",
      "source": [
        "# Load Data Set"
      ],
      "metadata": {
        "id": "oIkMLgWY_d0X"
      }
    },
    {
      "cell_type": "markdown",
      "source": [
        "## Google Drive Mount"
      ],
      "metadata": {
        "id": "hGqOcoR4_e4G"
      }
    },
    {
      "cell_type": "code",
      "source": [
        "from google.colab import drive\n",
        "drive.mount('/content/drive')"
      ],
      "metadata": {
        "colab": {
          "base_uri": "https://localhost:8080/"
        },
        "id": "59NFQ9TF_Hf3",
        "outputId": "14fbc24a-5eec-44e0-e1a7-990a9b9bacc4"
      },
      "execution_count": 6,
      "outputs": [
        {
          "output_type": "stream",
          "name": "stdout",
          "text": [
            "Mounted at /content/drive\n"
          ]
        }
      ]
    },
    {
      "cell_type": "markdown",
      "source": [
        "## load Rating Data Set"
      ],
      "metadata": {
        "id": "aQF1VO5r_4m4"
      }
    },
    {
      "cell_type": "code",
      "source": [
        "path_rating = '/content/drive/MyDrive/머신러닝 엔지니어링/핸즈온 비지도 학습/data/ml-20m/ratings.csv'\n",
        "\n",
        "ratingDF = pd.read_csv(path_rating)"
      ],
      "metadata": {
        "id": "8eqYwxXf_im8"
      },
      "execution_count": 7,
      "outputs": []
    },
    {
      "cell_type": "code",
      "source": [
        "ratingDF.head()"
      ],
      "metadata": {
        "colab": {
          "base_uri": "https://localhost:8080/",
          "height": 206
        },
        "id": "BYYxOxuiA6nQ",
        "outputId": "3944b8a1-b0ce-405d-b71a-fe34641fd174"
      },
      "execution_count": 8,
      "outputs": [
        {
          "output_type": "execute_result",
          "data": {
            "text/plain": [
              "   userId  movieId  rating   timestamp\n",
              "0       1        2     3.5  1112486027\n",
              "1       1       29     3.5  1112484676\n",
              "2       1       32     3.5  1112484819\n",
              "3       1       47     3.5  1112484727\n",
              "4       1       50     3.5  1112484580"
            ],
            "text/html": [
              "\n",
              "  <div id=\"df-202cd565-ccde-4dde-be72-4ff02c57d53e\">\n",
              "    <div class=\"colab-df-container\">\n",
              "      <div>\n",
              "<style scoped>\n",
              "    .dataframe tbody tr th:only-of-type {\n",
              "        vertical-align: middle;\n",
              "    }\n",
              "\n",
              "    .dataframe tbody tr th {\n",
              "        vertical-align: top;\n",
              "    }\n",
              "\n",
              "    .dataframe thead th {\n",
              "        text-align: right;\n",
              "    }\n",
              "</style>\n",
              "<table border=\"1\" class=\"dataframe\">\n",
              "  <thead>\n",
              "    <tr style=\"text-align: right;\">\n",
              "      <th></th>\n",
              "      <th>userId</th>\n",
              "      <th>movieId</th>\n",
              "      <th>rating</th>\n",
              "      <th>timestamp</th>\n",
              "    </tr>\n",
              "  </thead>\n",
              "  <tbody>\n",
              "    <tr>\n",
              "      <th>0</th>\n",
              "      <td>1</td>\n",
              "      <td>2</td>\n",
              "      <td>3.5</td>\n",
              "      <td>1112486027</td>\n",
              "    </tr>\n",
              "    <tr>\n",
              "      <th>1</th>\n",
              "      <td>1</td>\n",
              "      <td>29</td>\n",
              "      <td>3.5</td>\n",
              "      <td>1112484676</td>\n",
              "    </tr>\n",
              "    <tr>\n",
              "      <th>2</th>\n",
              "      <td>1</td>\n",
              "      <td>32</td>\n",
              "      <td>3.5</td>\n",
              "      <td>1112484819</td>\n",
              "    </tr>\n",
              "    <tr>\n",
              "      <th>3</th>\n",
              "      <td>1</td>\n",
              "      <td>47</td>\n",
              "      <td>3.5</td>\n",
              "      <td>1112484727</td>\n",
              "    </tr>\n",
              "    <tr>\n",
              "      <th>4</th>\n",
              "      <td>1</td>\n",
              "      <td>50</td>\n",
              "      <td>3.5</td>\n",
              "      <td>1112484580</td>\n",
              "    </tr>\n",
              "  </tbody>\n",
              "</table>\n",
              "</div>\n",
              "      <button class=\"colab-df-convert\" onclick=\"convertToInteractive('df-202cd565-ccde-4dde-be72-4ff02c57d53e')\"\n",
              "              title=\"Convert this dataframe to an interactive table.\"\n",
              "              style=\"display:none;\">\n",
              "        \n",
              "  <svg xmlns=\"http://www.w3.org/2000/svg\" height=\"24px\"viewBox=\"0 0 24 24\"\n",
              "       width=\"24px\">\n",
              "    <path d=\"M0 0h24v24H0V0z\" fill=\"none\"/>\n",
              "    <path d=\"M18.56 5.44l.94 2.06.94-2.06 2.06-.94-2.06-.94-.94-2.06-.94 2.06-2.06.94zm-11 1L8.5 8.5l.94-2.06 2.06-.94-2.06-.94L8.5 2.5l-.94 2.06-2.06.94zm10 10l.94 2.06.94-2.06 2.06-.94-2.06-.94-.94-2.06-.94 2.06-2.06.94z\"/><path d=\"M17.41 7.96l-1.37-1.37c-.4-.4-.92-.59-1.43-.59-.52 0-1.04.2-1.43.59L10.3 9.45l-7.72 7.72c-.78.78-.78 2.05 0 2.83L4 21.41c.39.39.9.59 1.41.59.51 0 1.02-.2 1.41-.59l7.78-7.78 2.81-2.81c.8-.78.8-2.07 0-2.86zM5.41 20L4 18.59l7.72-7.72 1.47 1.35L5.41 20z\"/>\n",
              "  </svg>\n",
              "      </button>\n",
              "      \n",
              "  <style>\n",
              "    .colab-df-container {\n",
              "      display:flex;\n",
              "      flex-wrap:wrap;\n",
              "      gap: 12px;\n",
              "    }\n",
              "\n",
              "    .colab-df-convert {\n",
              "      background-color: #E8F0FE;\n",
              "      border: none;\n",
              "      border-radius: 50%;\n",
              "      cursor: pointer;\n",
              "      display: none;\n",
              "      fill: #1967D2;\n",
              "      height: 32px;\n",
              "      padding: 0 0 0 0;\n",
              "      width: 32px;\n",
              "    }\n",
              "\n",
              "    .colab-df-convert:hover {\n",
              "      background-color: #E2EBFA;\n",
              "      box-shadow: 0px 1px 2px rgba(60, 64, 67, 0.3), 0px 1px 3px 1px rgba(60, 64, 67, 0.15);\n",
              "      fill: #174EA6;\n",
              "    }\n",
              "\n",
              "    [theme=dark] .colab-df-convert {\n",
              "      background-color: #3B4455;\n",
              "      fill: #D2E3FC;\n",
              "    }\n",
              "\n",
              "    [theme=dark] .colab-df-convert:hover {\n",
              "      background-color: #434B5C;\n",
              "      box-shadow: 0px 1px 3px 1px rgba(0, 0, 0, 0.15);\n",
              "      filter: drop-shadow(0px 1px 2px rgba(0, 0, 0, 0.3));\n",
              "      fill: #FFFFFF;\n",
              "    }\n",
              "  </style>\n",
              "\n",
              "      <script>\n",
              "        const buttonEl =\n",
              "          document.querySelector('#df-202cd565-ccde-4dde-be72-4ff02c57d53e button.colab-df-convert');\n",
              "        buttonEl.style.display =\n",
              "          google.colab.kernel.accessAllowed ? 'block' : 'none';\n",
              "\n",
              "        async function convertToInteractive(key) {\n",
              "          const element = document.querySelector('#df-202cd565-ccde-4dde-be72-4ff02c57d53e');\n",
              "          const dataTable =\n",
              "            await google.colab.kernel.invokeFunction('convertToInteractive',\n",
              "                                                     [key], {});\n",
              "          if (!dataTable) return;\n",
              "\n",
              "          const docLinkHtml = 'Like what you see? Visit the ' +\n",
              "            '<a target=\"_blank\" href=https://colab.research.google.com/notebooks/data_table.ipynb>data table notebook</a>'\n",
              "            + ' to learn more about interactive tables.';\n",
              "          element.innerHTML = '';\n",
              "          dataTable['output_type'] = 'display_data';\n",
              "          await google.colab.output.renderOutput(dataTable, element);\n",
              "          const docLink = document.createElement('div');\n",
              "          docLink.innerHTML = docLinkHtml;\n",
              "          element.appendChild(docLink);\n",
              "        }\n",
              "      </script>\n",
              "    </div>\n",
              "  </div>\n",
              "  "
            ]
          },
          "metadata": {},
          "execution_count": 8
        }
      ]
    },
    {
      "cell_type": "markdown",
      "source": [
        "# Preprocessing"
      ],
      "metadata": {
        "id": "4IwPElh_AGN1"
      }
    },
    {
      "cell_type": "markdown",
      "source": [
        "## 데이터 유형 변경"
      ],
      "metadata": {
        "id": "cJ0OXMZ2BDNG"
      }
    },
    {
      "cell_type": "code",
      "source": [
        "ratingDF.userId = ratingDF.userId.astype(str).astype(int)\n",
        "ratingDF.movieId = ratingDF.movieId.astype(str).astype(int)\n",
        "ratingDF.rating = ratingDF.rating.astype(str).astype(float)\n",
        "ratingDF.timestamp = ratingDF.timestamp.apply(lambda x: datetime.utcfromtimestamp(x).strftime('%Y-%m-%d %H:%M:%S'))"
      ],
      "metadata": {
        "id": "PEzcM-tfAHpa"
      },
      "execution_count": 9,
      "outputs": []
    },
    {
      "cell_type": "markdown",
      "source": [
        "## 전체 데이터 셋에 대한 요약 통계"
      ],
      "metadata": {
        "id": "c1rbek8zBFLZ"
      }
    },
    {
      "cell_type": "code",
      "source": [
        "n_users = ratingDF.userId.unique().shape[0]\n",
        "n_movies = ratingDF.movieId.unique().shape[0]\n",
        "n_ratings = len(ratingDF)\n",
        "avg_ratings_per_user = n_ratings/n_users\n",
        "\n",
        "print('Number of unique users: ', n_users)\n",
        "print('Number of unique movies: ', n_movies)\n",
        "print('Number of total ratings: ', n_ratings)\n",
        "print('Average number of ratings per user: ', avg_ratings_per_user)"
      ],
      "metadata": {
        "colab": {
          "base_uri": "https://localhost:8080/"
        },
        "id": "6tDtbvSWAtsa",
        "outputId": "c7988436-61a8-4556-df8b-1fdc8b8c7874"
      },
      "execution_count": 10,
      "outputs": [
        {
          "output_type": "stream",
          "name": "stdout",
          "text": [
            "Number of unique users:  138493\n",
            "Number of unique movies:  26744\n",
            "Number of total ratings:  20000263\n",
            "Average number of ratings per user:  144.4135299257002\n"
          ]
        }
      ]
    },
    {
      "cell_type": "markdown",
      "source": [
        "## 상위 1000개 영화 추출로 데이터 셋 크기 축소"
      ],
      "metadata": {
        "id": "mHqyVxp1BaPR"
      }
    },
    {
      "cell_type": "code",
      "source": [
        "movieIndex = ratingDF.groupby(\"movieId\")\\\n",
        "             .count()\\\n",
        "             .sort_values(by=\"rating\",\n",
        "                          ascending=False)[0:1000].index\n",
        "\n",
        "ratingDFX2 = ratingDF[ratingDF.movieId.isin(movieIndex)]\n",
        "ratingDFX2.count()"
      ],
      "metadata": {
        "colab": {
          "base_uri": "https://localhost:8080/"
        },
        "id": "SGQePXcoBHbm",
        "outputId": "1b32f4e1-4a5b-4478-c4f0-009db47c627d"
      },
      "execution_count": 11,
      "outputs": [
        {
          "output_type": "execute_result",
          "data": {
            "text/plain": [
              "userId       12840344\n",
              "movieId      12840344\n",
              "rating       12840344\n",
              "timestamp    12840344\n",
              "dtype: int64"
            ]
          },
          "metadata": {},
          "execution_count": 11
        }
      ]
    },
    {
      "cell_type": "markdown",
      "source": [
        "## 사용자 1000명 샘플링으로 데이터 셋 크기 축소"
      ],
      "metadata": {
        "id": "lYqgcb7OBjJM"
      }
    },
    {
      "cell_type": "code",
      "source": [
        "userIndex = ratingDFX2.groupby(\"userId\")\\\n",
        "            .count()\\\n",
        "            .sort_values(by=\"rating\", ascending=False)\\\n",
        "            .sample(n=1000, random_state=2022).index\n",
        "\n",
        "ratingDFX3 = ratingDFX2[ratingDFX2.userId.isin(userIndex)]\n",
        "ratingDFX3.count()"
      ],
      "metadata": {
        "colab": {
          "base_uri": "https://localhost:8080/"
        },
        "id": "WCjEYEGGBeGY",
        "outputId": "2d6e31c2-0776-4d46-f994-407f641446cc"
      },
      "execution_count": 12,
      "outputs": [
        {
          "output_type": "execute_result",
          "data": {
            "text/plain": [
              "userId       91128\n",
              "movieId      91128\n",
              "rating       91128\n",
              "timestamp    91128\n",
              "dtype: int64"
            ]
          },
          "metadata": {},
          "execution_count": 12
        }
      ]
    },
    {
      "cell_type": "markdown",
      "source": [
        "## 영화 ID 다시 인덱싱"
      ],
      "metadata": {
        "id": "AagqxlSZBz0H"
      }
    },
    {
      "cell_type": "code",
      "source": [
        "movies = ratingDFX3.movieId.unique()\n",
        "moviesDF = pd.DataFrame(data=movies,columns=['originalMovieId'])\n",
        "moviesDF['newMovieId'] = moviesDF.index+1\n",
        "moviesDF.head()"
      ],
      "metadata": {
        "colab": {
          "base_uri": "https://localhost:8080/",
          "height": 206
        },
        "id": "L7GBnqjLByPF",
        "outputId": "e3478eae-ff67-4bf0-d197-e74e7aa08b29"
      },
      "execution_count": 13,
      "outputs": [
        {
          "output_type": "execute_result",
          "data": {
            "text/plain": [
              "   originalMovieId  newMovieId\n",
              "0              203           1\n",
              "1              318           2\n",
              "2              356           3\n",
              "3              508           4\n",
              "4              527           5"
            ],
            "text/html": [
              "\n",
              "  <div id=\"df-133b45b0-d3c5-4677-909c-721025b5cd11\">\n",
              "    <div class=\"colab-df-container\">\n",
              "      <div>\n",
              "<style scoped>\n",
              "    .dataframe tbody tr th:only-of-type {\n",
              "        vertical-align: middle;\n",
              "    }\n",
              "\n",
              "    .dataframe tbody tr th {\n",
              "        vertical-align: top;\n",
              "    }\n",
              "\n",
              "    .dataframe thead th {\n",
              "        text-align: right;\n",
              "    }\n",
              "</style>\n",
              "<table border=\"1\" class=\"dataframe\">\n",
              "  <thead>\n",
              "    <tr style=\"text-align: right;\">\n",
              "      <th></th>\n",
              "      <th>originalMovieId</th>\n",
              "      <th>newMovieId</th>\n",
              "    </tr>\n",
              "  </thead>\n",
              "  <tbody>\n",
              "    <tr>\n",
              "      <th>0</th>\n",
              "      <td>203</td>\n",
              "      <td>1</td>\n",
              "    </tr>\n",
              "    <tr>\n",
              "      <th>1</th>\n",
              "      <td>318</td>\n",
              "      <td>2</td>\n",
              "    </tr>\n",
              "    <tr>\n",
              "      <th>2</th>\n",
              "      <td>356</td>\n",
              "      <td>3</td>\n",
              "    </tr>\n",
              "    <tr>\n",
              "      <th>3</th>\n",
              "      <td>508</td>\n",
              "      <td>4</td>\n",
              "    </tr>\n",
              "    <tr>\n",
              "      <th>4</th>\n",
              "      <td>527</td>\n",
              "      <td>5</td>\n",
              "    </tr>\n",
              "  </tbody>\n",
              "</table>\n",
              "</div>\n",
              "      <button class=\"colab-df-convert\" onclick=\"convertToInteractive('df-133b45b0-d3c5-4677-909c-721025b5cd11')\"\n",
              "              title=\"Convert this dataframe to an interactive table.\"\n",
              "              style=\"display:none;\">\n",
              "        \n",
              "  <svg xmlns=\"http://www.w3.org/2000/svg\" height=\"24px\"viewBox=\"0 0 24 24\"\n",
              "       width=\"24px\">\n",
              "    <path d=\"M0 0h24v24H0V0z\" fill=\"none\"/>\n",
              "    <path d=\"M18.56 5.44l.94 2.06.94-2.06 2.06-.94-2.06-.94-.94-2.06-.94 2.06-2.06.94zm-11 1L8.5 8.5l.94-2.06 2.06-.94-2.06-.94L8.5 2.5l-.94 2.06-2.06.94zm10 10l.94 2.06.94-2.06 2.06-.94-2.06-.94-.94-2.06-.94 2.06-2.06.94z\"/><path d=\"M17.41 7.96l-1.37-1.37c-.4-.4-.92-.59-1.43-.59-.52 0-1.04.2-1.43.59L10.3 9.45l-7.72 7.72c-.78.78-.78 2.05 0 2.83L4 21.41c.39.39.9.59 1.41.59.51 0 1.02-.2 1.41-.59l7.78-7.78 2.81-2.81c.8-.78.8-2.07 0-2.86zM5.41 20L4 18.59l7.72-7.72 1.47 1.35L5.41 20z\"/>\n",
              "  </svg>\n",
              "      </button>\n",
              "      \n",
              "  <style>\n",
              "    .colab-df-container {\n",
              "      display:flex;\n",
              "      flex-wrap:wrap;\n",
              "      gap: 12px;\n",
              "    }\n",
              "\n",
              "    .colab-df-convert {\n",
              "      background-color: #E8F0FE;\n",
              "      border: none;\n",
              "      border-radius: 50%;\n",
              "      cursor: pointer;\n",
              "      display: none;\n",
              "      fill: #1967D2;\n",
              "      height: 32px;\n",
              "      padding: 0 0 0 0;\n",
              "      width: 32px;\n",
              "    }\n",
              "\n",
              "    .colab-df-convert:hover {\n",
              "      background-color: #E2EBFA;\n",
              "      box-shadow: 0px 1px 2px rgba(60, 64, 67, 0.3), 0px 1px 3px 1px rgba(60, 64, 67, 0.15);\n",
              "      fill: #174EA6;\n",
              "    }\n",
              "\n",
              "    [theme=dark] .colab-df-convert {\n",
              "      background-color: #3B4455;\n",
              "      fill: #D2E3FC;\n",
              "    }\n",
              "\n",
              "    [theme=dark] .colab-df-convert:hover {\n",
              "      background-color: #434B5C;\n",
              "      box-shadow: 0px 1px 3px 1px rgba(0, 0, 0, 0.15);\n",
              "      filter: drop-shadow(0px 1px 2px rgba(0, 0, 0, 0.3));\n",
              "      fill: #FFFFFF;\n",
              "    }\n",
              "  </style>\n",
              "\n",
              "      <script>\n",
              "        const buttonEl =\n",
              "          document.querySelector('#df-133b45b0-d3c5-4677-909c-721025b5cd11 button.colab-df-convert');\n",
              "        buttonEl.style.display =\n",
              "          google.colab.kernel.accessAllowed ? 'block' : 'none';\n",
              "\n",
              "        async function convertToInteractive(key) {\n",
              "          const element = document.querySelector('#df-133b45b0-d3c5-4677-909c-721025b5cd11');\n",
              "          const dataTable =\n",
              "            await google.colab.kernel.invokeFunction('convertToInteractive',\n",
              "                                                     [key], {});\n",
              "          if (!dataTable) return;\n",
              "\n",
              "          const docLinkHtml = 'Like what you see? Visit the ' +\n",
              "            '<a target=\"_blank\" href=https://colab.research.google.com/notebooks/data_table.ipynb>data table notebook</a>'\n",
              "            + ' to learn more about interactive tables.';\n",
              "          element.innerHTML = '';\n",
              "          dataTable['output_type'] = 'display_data';\n",
              "          await google.colab.output.renderOutput(dataTable, element);\n",
              "          const docLink = document.createElement('div');\n",
              "          docLink.innerHTML = docLinkHtml;\n",
              "          element.appendChild(docLink);\n",
              "        }\n",
              "      </script>\n",
              "    </div>\n",
              "  </div>\n",
              "  "
            ]
          },
          "metadata": {},
          "execution_count": 13
        }
      ]
    },
    {
      "cell_type": "markdown",
      "source": [
        "## 사용자 ID 다시 인덱싱"
      ],
      "metadata": {
        "id": "371u1xLCB3rj"
      }
    },
    {
      "cell_type": "code",
      "source": [
        "users = ratingDFX3.userId.unique()\n",
        "usersDF = pd.DataFrame(data=users,columns=['originalUserId'])\n",
        "usersDF['newUserId'] = usersDF.index+1\n",
        "usersDF.head()"
      ],
      "metadata": {
        "colab": {
          "base_uri": "https://localhost:8080/",
          "height": 206
        },
        "id": "XVlJjuQEB2T9",
        "outputId": "b27cc27d-9c59-4c2b-a2f4-0381942727e7"
      },
      "execution_count": 14,
      "outputs": [
        {
          "output_type": "execute_result",
          "data": {
            "text/plain": [
              "   originalUserId  newUserId\n",
              "0             213          1\n",
              "1             283          2\n",
              "2             304          3\n",
              "3             345          4\n",
              "4             392          5"
            ],
            "text/html": [
              "\n",
              "  <div id=\"df-473c551d-1d9c-4711-b41f-fa9eebd8b9dd\">\n",
              "    <div class=\"colab-df-container\">\n",
              "      <div>\n",
              "<style scoped>\n",
              "    .dataframe tbody tr th:only-of-type {\n",
              "        vertical-align: middle;\n",
              "    }\n",
              "\n",
              "    .dataframe tbody tr th {\n",
              "        vertical-align: top;\n",
              "    }\n",
              "\n",
              "    .dataframe thead th {\n",
              "        text-align: right;\n",
              "    }\n",
              "</style>\n",
              "<table border=\"1\" class=\"dataframe\">\n",
              "  <thead>\n",
              "    <tr style=\"text-align: right;\">\n",
              "      <th></th>\n",
              "      <th>originalUserId</th>\n",
              "      <th>newUserId</th>\n",
              "    </tr>\n",
              "  </thead>\n",
              "  <tbody>\n",
              "    <tr>\n",
              "      <th>0</th>\n",
              "      <td>213</td>\n",
              "      <td>1</td>\n",
              "    </tr>\n",
              "    <tr>\n",
              "      <th>1</th>\n",
              "      <td>283</td>\n",
              "      <td>2</td>\n",
              "    </tr>\n",
              "    <tr>\n",
              "      <th>2</th>\n",
              "      <td>304</td>\n",
              "      <td>3</td>\n",
              "    </tr>\n",
              "    <tr>\n",
              "      <th>3</th>\n",
              "      <td>345</td>\n",
              "      <td>4</td>\n",
              "    </tr>\n",
              "    <tr>\n",
              "      <th>4</th>\n",
              "      <td>392</td>\n",
              "      <td>5</td>\n",
              "    </tr>\n",
              "  </tbody>\n",
              "</table>\n",
              "</div>\n",
              "      <button class=\"colab-df-convert\" onclick=\"convertToInteractive('df-473c551d-1d9c-4711-b41f-fa9eebd8b9dd')\"\n",
              "              title=\"Convert this dataframe to an interactive table.\"\n",
              "              style=\"display:none;\">\n",
              "        \n",
              "  <svg xmlns=\"http://www.w3.org/2000/svg\" height=\"24px\"viewBox=\"0 0 24 24\"\n",
              "       width=\"24px\">\n",
              "    <path d=\"M0 0h24v24H0V0z\" fill=\"none\"/>\n",
              "    <path d=\"M18.56 5.44l.94 2.06.94-2.06 2.06-.94-2.06-.94-.94-2.06-.94 2.06-2.06.94zm-11 1L8.5 8.5l.94-2.06 2.06-.94-2.06-.94L8.5 2.5l-.94 2.06-2.06.94zm10 10l.94 2.06.94-2.06 2.06-.94-2.06-.94-.94-2.06-.94 2.06-2.06.94z\"/><path d=\"M17.41 7.96l-1.37-1.37c-.4-.4-.92-.59-1.43-.59-.52 0-1.04.2-1.43.59L10.3 9.45l-7.72 7.72c-.78.78-.78 2.05 0 2.83L4 21.41c.39.39.9.59 1.41.59.51 0 1.02-.2 1.41-.59l7.78-7.78 2.81-2.81c.8-.78.8-2.07 0-2.86zM5.41 20L4 18.59l7.72-7.72 1.47 1.35L5.41 20z\"/>\n",
              "  </svg>\n",
              "      </button>\n",
              "      \n",
              "  <style>\n",
              "    .colab-df-container {\n",
              "      display:flex;\n",
              "      flex-wrap:wrap;\n",
              "      gap: 12px;\n",
              "    }\n",
              "\n",
              "    .colab-df-convert {\n",
              "      background-color: #E8F0FE;\n",
              "      border: none;\n",
              "      border-radius: 50%;\n",
              "      cursor: pointer;\n",
              "      display: none;\n",
              "      fill: #1967D2;\n",
              "      height: 32px;\n",
              "      padding: 0 0 0 0;\n",
              "      width: 32px;\n",
              "    }\n",
              "\n",
              "    .colab-df-convert:hover {\n",
              "      background-color: #E2EBFA;\n",
              "      box-shadow: 0px 1px 2px rgba(60, 64, 67, 0.3), 0px 1px 3px 1px rgba(60, 64, 67, 0.15);\n",
              "      fill: #174EA6;\n",
              "    }\n",
              "\n",
              "    [theme=dark] .colab-df-convert {\n",
              "      background-color: #3B4455;\n",
              "      fill: #D2E3FC;\n",
              "    }\n",
              "\n",
              "    [theme=dark] .colab-df-convert:hover {\n",
              "      background-color: #434B5C;\n",
              "      box-shadow: 0px 1px 3px 1px rgba(0, 0, 0, 0.15);\n",
              "      filter: drop-shadow(0px 1px 2px rgba(0, 0, 0, 0.3));\n",
              "      fill: #FFFFFF;\n",
              "    }\n",
              "  </style>\n",
              "\n",
              "      <script>\n",
              "        const buttonEl =\n",
              "          document.querySelector('#df-473c551d-1d9c-4711-b41f-fa9eebd8b9dd button.colab-df-convert');\n",
              "        buttonEl.style.display =\n",
              "          google.colab.kernel.accessAllowed ? 'block' : 'none';\n",
              "\n",
              "        async function convertToInteractive(key) {\n",
              "          const element = document.querySelector('#df-473c551d-1d9c-4711-b41f-fa9eebd8b9dd');\n",
              "          const dataTable =\n",
              "            await google.colab.kernel.invokeFunction('convertToInteractive',\n",
              "                                                     [key], {});\n",
              "          if (!dataTable) return;\n",
              "\n",
              "          const docLinkHtml = 'Like what you see? Visit the ' +\n",
              "            '<a target=\"_blank\" href=https://colab.research.google.com/notebooks/data_table.ipynb>data table notebook</a>'\n",
              "            + ' to learn more about interactive tables.';\n",
              "          element.innerHTML = '';\n",
              "          dataTable['output_type'] = 'display_data';\n",
              "          await google.colab.output.renderOutput(dataTable, element);\n",
              "          const docLink = document.createElement('div');\n",
              "          docLink.innerHTML = docLinkHtml;\n",
              "          element.appendChild(docLink);\n",
              "        }\n",
              "      </script>\n",
              "    </div>\n",
              "  </div>\n",
              "  "
            ]
          },
          "metadata": {},
          "execution_count": 14
        }
      ]
    },
    {
      "cell_type": "markdown",
      "source": [
        "## 새롭게 병합된 데이터프레임 생성 "
      ],
      "metadata": {
        "id": "Q2fHQducB8fo"
      }
    },
    {
      "cell_type": "code",
      "source": [
        "ratingDFX3 = ratingDFX3.merge(moviesDF,\n",
        "                              left_on='movieId',\n",
        "                              right_on='originalMovieId')\n",
        "\n",
        "ratingDFX3.drop(labels='originalMovieId',\n",
        "                axis=1,\n",
        "                inplace=True)\n",
        "\n",
        "ratingDFX3 = ratingDFX3.merge(usersDF,\n",
        "                              left_on='userId',\n",
        "                              right_on='originalUserId')\n",
        "\n",
        "ratingDFX3.drop(labels='originalUserId', axis=1, inplace=True)"
      ],
      "metadata": {
        "id": "xb89IvU5B6AR"
      },
      "execution_count": 15,
      "outputs": []
    },
    {
      "cell_type": "code",
      "source": [
        "ratingDFX3.head()"
      ],
      "metadata": {
        "colab": {
          "base_uri": "https://localhost:8080/",
          "height": 206
        },
        "id": "o4amkvUqCHVW",
        "outputId": "c7b92b43-02b6-4a1c-cf60-125a81c93ed3"
      },
      "execution_count": 16,
      "outputs": [
        {
          "output_type": "execute_result",
          "data": {
            "text/plain": [
              "   userId  movieId  rating            timestamp  newMovieId  newUserId\n",
              "0     213      203     5.0  2013-11-16 11:26:56           1          1\n",
              "1     213      318     5.0  2013-11-16 11:33:08           2          1\n",
              "2     213      356     5.0  2013-11-16 11:43:00           3          1\n",
              "3     213      508     5.0  2013-11-16 11:44:18           4          1\n",
              "4     213      527     5.0  2013-11-16 11:33:14           5          1"
            ],
            "text/html": [
              "\n",
              "  <div id=\"df-056b9d93-be7d-4a1d-954b-df59af4fc5f7\">\n",
              "    <div class=\"colab-df-container\">\n",
              "      <div>\n",
              "<style scoped>\n",
              "    .dataframe tbody tr th:only-of-type {\n",
              "        vertical-align: middle;\n",
              "    }\n",
              "\n",
              "    .dataframe tbody tr th {\n",
              "        vertical-align: top;\n",
              "    }\n",
              "\n",
              "    .dataframe thead th {\n",
              "        text-align: right;\n",
              "    }\n",
              "</style>\n",
              "<table border=\"1\" class=\"dataframe\">\n",
              "  <thead>\n",
              "    <tr style=\"text-align: right;\">\n",
              "      <th></th>\n",
              "      <th>userId</th>\n",
              "      <th>movieId</th>\n",
              "      <th>rating</th>\n",
              "      <th>timestamp</th>\n",
              "      <th>newMovieId</th>\n",
              "      <th>newUserId</th>\n",
              "    </tr>\n",
              "  </thead>\n",
              "  <tbody>\n",
              "    <tr>\n",
              "      <th>0</th>\n",
              "      <td>213</td>\n",
              "      <td>203</td>\n",
              "      <td>5.0</td>\n",
              "      <td>2013-11-16 11:26:56</td>\n",
              "      <td>1</td>\n",
              "      <td>1</td>\n",
              "    </tr>\n",
              "    <tr>\n",
              "      <th>1</th>\n",
              "      <td>213</td>\n",
              "      <td>318</td>\n",
              "      <td>5.0</td>\n",
              "      <td>2013-11-16 11:33:08</td>\n",
              "      <td>2</td>\n",
              "      <td>1</td>\n",
              "    </tr>\n",
              "    <tr>\n",
              "      <th>2</th>\n",
              "      <td>213</td>\n",
              "      <td>356</td>\n",
              "      <td>5.0</td>\n",
              "      <td>2013-11-16 11:43:00</td>\n",
              "      <td>3</td>\n",
              "      <td>1</td>\n",
              "    </tr>\n",
              "    <tr>\n",
              "      <th>3</th>\n",
              "      <td>213</td>\n",
              "      <td>508</td>\n",
              "      <td>5.0</td>\n",
              "      <td>2013-11-16 11:44:18</td>\n",
              "      <td>4</td>\n",
              "      <td>1</td>\n",
              "    </tr>\n",
              "    <tr>\n",
              "      <th>4</th>\n",
              "      <td>213</td>\n",
              "      <td>527</td>\n",
              "      <td>5.0</td>\n",
              "      <td>2013-11-16 11:33:14</td>\n",
              "      <td>5</td>\n",
              "      <td>1</td>\n",
              "    </tr>\n",
              "  </tbody>\n",
              "</table>\n",
              "</div>\n",
              "      <button class=\"colab-df-convert\" onclick=\"convertToInteractive('df-056b9d93-be7d-4a1d-954b-df59af4fc5f7')\"\n",
              "              title=\"Convert this dataframe to an interactive table.\"\n",
              "              style=\"display:none;\">\n",
              "        \n",
              "  <svg xmlns=\"http://www.w3.org/2000/svg\" height=\"24px\"viewBox=\"0 0 24 24\"\n",
              "       width=\"24px\">\n",
              "    <path d=\"M0 0h24v24H0V0z\" fill=\"none\"/>\n",
              "    <path d=\"M18.56 5.44l.94 2.06.94-2.06 2.06-.94-2.06-.94-.94-2.06-.94 2.06-2.06.94zm-11 1L8.5 8.5l.94-2.06 2.06-.94-2.06-.94L8.5 2.5l-.94 2.06-2.06.94zm10 10l.94 2.06.94-2.06 2.06-.94-2.06-.94-.94-2.06-.94 2.06-2.06.94z\"/><path d=\"M17.41 7.96l-1.37-1.37c-.4-.4-.92-.59-1.43-.59-.52 0-1.04.2-1.43.59L10.3 9.45l-7.72 7.72c-.78.78-.78 2.05 0 2.83L4 21.41c.39.39.9.59 1.41.59.51 0 1.02-.2 1.41-.59l7.78-7.78 2.81-2.81c.8-.78.8-2.07 0-2.86zM5.41 20L4 18.59l7.72-7.72 1.47 1.35L5.41 20z\"/>\n",
              "  </svg>\n",
              "      </button>\n",
              "      \n",
              "  <style>\n",
              "    .colab-df-container {\n",
              "      display:flex;\n",
              "      flex-wrap:wrap;\n",
              "      gap: 12px;\n",
              "    }\n",
              "\n",
              "    .colab-df-convert {\n",
              "      background-color: #E8F0FE;\n",
              "      border: none;\n",
              "      border-radius: 50%;\n",
              "      cursor: pointer;\n",
              "      display: none;\n",
              "      fill: #1967D2;\n",
              "      height: 32px;\n",
              "      padding: 0 0 0 0;\n",
              "      width: 32px;\n",
              "    }\n",
              "\n",
              "    .colab-df-convert:hover {\n",
              "      background-color: #E2EBFA;\n",
              "      box-shadow: 0px 1px 2px rgba(60, 64, 67, 0.3), 0px 1px 3px 1px rgba(60, 64, 67, 0.15);\n",
              "      fill: #174EA6;\n",
              "    }\n",
              "\n",
              "    [theme=dark] .colab-df-convert {\n",
              "      background-color: #3B4455;\n",
              "      fill: #D2E3FC;\n",
              "    }\n",
              "\n",
              "    [theme=dark] .colab-df-convert:hover {\n",
              "      background-color: #434B5C;\n",
              "      box-shadow: 0px 1px 3px 1px rgba(0, 0, 0, 0.15);\n",
              "      filter: drop-shadow(0px 1px 2px rgba(0, 0, 0, 0.3));\n",
              "      fill: #FFFFFF;\n",
              "    }\n",
              "  </style>\n",
              "\n",
              "      <script>\n",
              "        const buttonEl =\n",
              "          document.querySelector('#df-056b9d93-be7d-4a1d-954b-df59af4fc5f7 button.colab-df-convert');\n",
              "        buttonEl.style.display =\n",
              "          google.colab.kernel.accessAllowed ? 'block' : 'none';\n",
              "\n",
              "        async function convertToInteractive(key) {\n",
              "          const element = document.querySelector('#df-056b9d93-be7d-4a1d-954b-df59af4fc5f7');\n",
              "          const dataTable =\n",
              "            await google.colab.kernel.invokeFunction('convertToInteractive',\n",
              "                                                     [key], {});\n",
              "          if (!dataTable) return;\n",
              "\n",
              "          const docLinkHtml = 'Like what you see? Visit the ' +\n",
              "            '<a target=\"_blank\" href=https://colab.research.google.com/notebooks/data_table.ipynb>data table notebook</a>'\n",
              "            + ' to learn more about interactive tables.';\n",
              "          element.innerHTML = '';\n",
              "          dataTable['output_type'] = 'display_data';\n",
              "          await google.colab.output.renderOutput(dataTable, element);\n",
              "          const docLink = document.createElement('div');\n",
              "          docLink.innerHTML = docLinkHtml;\n",
              "          element.appendChild(docLink);\n",
              "        }\n",
              "      </script>\n",
              "    </div>\n",
              "  </div>\n",
              "  "
            ]
          },
          "metadata": {},
          "execution_count": 16
        }
      ]
    },
    {
      "cell_type": "markdown",
      "source": [
        "## 축소된 데이터셋의 요약 통계 계산"
      ],
      "metadata": {
        "id": "S-8nXsaCCKEh"
      }
    },
    {
      "cell_type": "code",
      "source": [
        "n_users = ratingDFX3.userId.unique().shape[0]\n",
        "n_movies = ratingDFX3.movieId.unique().shape[0]\n",
        "n_ratings = len(ratingDFX3)\n",
        "avg_ratings_per_user = n_ratings/n_users\n",
        "\n",
        "print('Number of unique users: ', n_users)\n",
        "print('Number of unique movies: ', n_movies)\n",
        "print('Number of total ratings: ', n_ratings)\n",
        "print('Average number of ratings per user: ', avg_ratings_per_user)"
      ],
      "metadata": {
        "colab": {
          "base_uri": "https://localhost:8080/"
        },
        "id": "t6AV7_xFCI39",
        "outputId": "37d77cad-2943-43b9-9952-1314a7fa4fe5"
      },
      "execution_count": 17,
      "outputs": [
        {
          "output_type": "stream",
          "name": "stdout",
          "text": [
            "Number of unique users:  1000\n",
            "Number of unique movies:  1000\n",
            "Number of total ratings:  91128\n",
            "Average number of ratings per user:  91.128\n"
          ]
        }
      ]
    },
    {
      "cell_type": "markdown",
      "source": [
        "## Split Train / Val / Test Set"
      ],
      "metadata": {
        "id": "Q3buwseLCa7r"
      }
    },
    {
      "cell_type": "code",
      "source": [
        "X_train, X_test = train_test_split(ratingDFX3, test_size=0.10,\n",
        "                                   shuffle=True, \n",
        "                                   random_state=2022)\n",
        "\n",
        "X_validation, X_test = train_test_split(X_test,\n",
        "                                        test_size=0.50,\n",
        "                                        shuffle=True,\n",
        "                                        random_state=2022)"
      ],
      "metadata": {
        "id": "kSoUWEJsCMkT"
      },
      "execution_count": 18,
      "outputs": []
    },
    {
      "cell_type": "code",
      "source": [
        "print('Size of train set: ', len(X_train))\n",
        "print('Size of validation set: ', len(X_validation))\n",
        "print('Size of test set: ', len(X_test))"
      ],
      "metadata": {
        "colab": {
          "base_uri": "https://localhost:8080/"
        },
        "id": "-Mm0eYZ4CjKP",
        "outputId": "7d868254-7b49-458f-dd57-81b726fae637"
      },
      "execution_count": 19,
      "outputs": [
        {
          "output_type": "stream",
          "name": "stdout",
          "text": [
            "Size of train set:  82015\n",
            "Size of validation set:  4556\n",
            "Size of test set:  4557\n"
          ]
        }
      ]
    },
    {
      "cell_type": "markdown",
      "source": [
        "# Modeling"
      ],
      "metadata": {
        "id": "sHvnY9RxC1RD"
      }
    },
    {
      "cell_type": "markdown",
      "source": [
        "## 훈련을 위한 평점 행렬 생성"
      ],
      "metadata": {
        "id": "2BlJxsnWC2PZ"
      }
    },
    {
      "cell_type": "markdown",
      "source": [
        "* m x n 행렬 (m : 사용자 / n : 영화)\n",
        "\n",
        "* 사용자가 극히 일부만 평가하기 때문에 이 행렬은 희소하게 채워진 행렬이 됨"
      ],
      "metadata": {
        "id": "f1yUkVMkDkIn"
      }
    },
    {
      "cell_type": "code",
      "source": [
        "ratings_train = np.zeros((n_users, n_movies))\n",
        "\n",
        "for row in X_train.itertuples():\n",
        "    ratings_train[row[6]-1, row[5]-1] = row[3]"
      ],
      "metadata": {
        "id": "qIZte-3jClZM"
      },
      "execution_count": 28,
      "outputs": []
    },
    {
      "cell_type": "code",
      "source": [
        "print(ratings_train.shape)\n",
        "ratings_train"
      ],
      "metadata": {
        "colab": {
          "base_uri": "https://localhost:8080/"
        },
        "id": "qAHxgB1RC8ub",
        "outputId": "47f92a4b-fa6a-4053-d3aa-a8a5883f394e"
      },
      "execution_count": 30,
      "outputs": [
        {
          "output_type": "stream",
          "name": "stdout",
          "text": [
            "(1000, 1000)\n"
          ]
        },
        {
          "output_type": "execute_result",
          "data": {
            "text/plain": [
              "array([[5. , 5. , 0. , ..., 0. , 0. , 0. ],\n",
              "       [0. , 5. , 5. , ..., 0. , 0. , 0. ],\n",
              "       [0. , 4.5, 5. , ..., 0. , 0. , 0. ],\n",
              "       ...,\n",
              "       [0. , 0. , 0. , ..., 0. , 0. , 0. ],\n",
              "       [0. , 0. , 5. , ..., 0. , 0. , 0. ],\n",
              "       [0. , 0. , 0. , ..., 0. , 0. , 0. ]])"
            ]
          },
          "metadata": {},
          "execution_count": 30
        }
      ]
    },
    {
      "cell_type": "code",
      "source": [
        "# 훈련 평점 행렬 희소성 계산\n",
        "sparsity = float(len(ratings_train.nonzero()[0]))\n",
        "sparsity /= (ratings_train.shape[0] * ratings_train.shape[1])\n",
        "sparsity *= 100\n",
        "print('Sparsity: {:4.2f}%'.format(sparsity))"
      ],
      "metadata": {
        "colab": {
          "base_uri": "https://localhost:8080/"
        },
        "id": "gEkH7tMbC9tH",
        "outputId": "62e227fe-41e4-42c2-f5c0-599d63595726"
      },
      "execution_count": 31,
      "outputs": [
        {
          "output_type": "stream",
          "name": "stdout",
          "text": [
            "Sparsity: 8.20%\n"
          ]
        }
      ]
    },
    {
      "cell_type": "markdown",
      "source": [
        "## 검증 & 테스트를 위한 평점 행렬 생성"
      ],
      "metadata": {
        "id": "DPsE9RwWEArU"
      }
    },
    {
      "cell_type": "code",
      "source": [
        "# 검증을 위한 평점 행렬 생성\n",
        "ratings_validation = np.zeros((n_users, n_movies))\n",
        "for row in X_validation.itertuples():\n",
        "    ratings_validation[row[6]-1, row[5]-1] = row[3]"
      ],
      "metadata": {
        "id": "sob-Iy9QD9fZ"
      },
      "execution_count": 32,
      "outputs": []
    },
    {
      "cell_type": "code",
      "source": [
        "# 검증 평점 행렬의 희소성 계산\n",
        "sparsity = float(len(ratings_validation.nonzero()[0]))\n",
        "sparsity /= (ratings_validation.shape[0] * ratings_validation.shape[1])\n",
        "sparsity *= 100\n",
        "print('Sparsity: {:4.2f}%'.format(sparsity))"
      ],
      "metadata": {
        "colab": {
          "base_uri": "https://localhost:8080/"
        },
        "id": "_iQ8IfK4EM13",
        "outputId": "50e07073-ac2f-45aa-d5e3-0535f8c82b99"
      },
      "execution_count": 34,
      "outputs": [
        {
          "output_type": "stream",
          "name": "stdout",
          "text": [
            "Sparsity: 0.46%\n"
          ]
        }
      ]
    },
    {
      "cell_type": "code",
      "source": [
        "# 테스트를 위한 평점 행렬 생성\n",
        "ratings_test = np.zeros((n_users, n_movies))\n",
        "for row in X_test.itertuples():\n",
        "    ratings_test[row[6]-1, row[5]-1] = row[3]"
      ],
      "metadata": {
        "id": "nR5sIbFaEF7e"
      },
      "execution_count": 33,
      "outputs": []
    },
    {
      "cell_type": "markdown",
      "source": [
        "## 단순 평균 평점 3.5로 예측 할당한 경우 베이스라인으로 MSE 계산"
      ],
      "metadata": {
        "id": "BvOH8WcSEbdU"
      }
    },
    {
      "cell_type": "code",
      "source": [
        "# 실제 평점 벡터\n",
        "actual_validation = ratings_validation[ratings_validation.nonzero()].flatten()"
      ],
      "metadata": {
        "id": "ysk77PkAEHxI"
      },
      "execution_count": 35,
      "outputs": []
    },
    {
      "cell_type": "code",
      "source": [
        "# 검증셋으로 평균 평점 3.5로 예측한 후 MSE 계산\n",
        "pred_validation = np.zeros((len(X_validation),1))\n",
        "pred_validation[pred_validation==0] = 3.5\n",
        "\n",
        "naive_prediction = mean_squared_error(pred_validation, actual_validation)\n",
        "print('Mean squared error using naive prediction:', naive_prediction)"
      ],
      "metadata": {
        "colab": {
          "base_uri": "https://localhost:8080/"
        },
        "id": "TQa-8Yp5Ekmq",
        "outputId": "a58fd77a-e0a7-4f66-c96a-4bf774f0db23"
      },
      "execution_count": 36,
      "outputs": [
        {
          "output_type": "stream",
          "name": "stdout",
          "text": [
            "Mean squared error using naive prediction: 1.0267778753292363\n"
          ]
        }
      ]
    },
    {
      "cell_type": "markdown",
      "source": [
        "## 사용자의 평균 평점 (사용자가 다른 모든 영화에 대해 평가한 평점의 평균값)을 기반으로 영화에 대한 사용자의 평점을 예측"
      ],
      "metadata": {
        "id": "Z1QHOtlnE1sp"
      }
    },
    {
      "cell_type": "code",
      "source": [
        "ratings_validation_prediction = np.zeros((n_users, n_movies))\n",
        "\n",
        "i = 0\n",
        "\n",
        "for row in ratings_train:\n",
        "    ratings_validation_prediction[i][ratings_validation_prediction[i]==0] = np.mean(row[row>0])\n",
        "    i += 1\n",
        "\n",
        "pred_validation = ratings_validation_prediction[ratings_validation.nonzero()].flatten()\n",
        "\n",
        "user_average = mean_squared_error(pred_validation, actual_validation)\n",
        "print('Mean squared error using user average:', user_average)"
      ],
      "metadata": {
        "colab": {
          "base_uri": "https://localhost:8080/"
        },
        "id": "TFggP25sEu8Z",
        "outputId": "c15545da-dd90-4b4d-f74e-48231d93e72b"
      },
      "execution_count": 37,
      "outputs": [
        {
          "output_type": "stream",
          "name": "stdout",
          "text": [
            "Mean squared error using user average: 0.8513987038815439\n"
          ]
        }
      ]
    },
    {
      "cell_type": "markdown",
      "source": [
        "## 행렬 인수분해"
      ],
      "metadata": {
        "id": "L8HJmi3rFQQB"
      }
    },
    {
      "cell_type": "markdown",
      "source": [
        "* 사용자-아이템 행렬을 두 개의 저차원 행렬의 곱으로 분해\n",
        "\n",
        "* 사용자는 더 낮은 차원의 잠재 공간에 표현되며 아이템도 마찬가지이다"
      ],
      "metadata": {
        "id": "jKgD5waMFWC7"
      }
    },
    {
      "cell_type": "markdown",
      "source": [
        "* 사용자-아이템 행렬을 사용자 m명과 아이템 n개가 있는 R이라고 가정\n",
        "\n",
        "* 행렬 인수분해는 두 개의 저차원 행렬인 H와 W를 생성\n",
        "\n",
        "  - H : m 사용자 * k 잠재 요인 행렬\n",
        "  - W : k 잠재 요인 * n 아이템 행렬\n",
        "\n",
        "* 평점은 행렬 곱셉에 의해 계산 : R = H * W\n",
        "\n",
        "* 잠재 요인 k의 개수에 따라 모델의 수용량이 결정된다\n",
        "  \n",
        "  - k 값이 클수록 모델의 수용량이 커진다\n",
        "  - k 값을 높이면 사용자에 대한 평정 예측의 개인화는 향상시킬 수 있지만 모델이 데이터를 과대적합하게 될 수 있다\n"
      ],
      "metadata": {
        "id": "DkjfP8_lFish"
      }
    },
    {
      "cell_type": "markdown",
      "source": [
        "### 잠재 요인이 1개일 때"
      ],
      "metadata": {
        "id": "v0sSbMR-GYTS"
      }
    },
    {
      "cell_type": "markdown",
      "source": [
        "* 입력은 사용자 임베딩을 위한 1차원 벡터와 영화 임베딩을 위한 1차원 벡터이다\n",
        "\n",
        "* 하나의 잠재 공간에 이러한 입력 벡터를 임베딩하고, 이를 1차원 배열로 변환한다\n",
        "\n",
        "* 출력 벡터 프로덕션을 생성하기 위해, 영화 벡터와 사용자 벡터의 내적을 구한다"
      ],
      "metadata": {
        "id": "8QkQ0--YGkl_"
      }
    },
    {
      "cell_type": "code",
      "source": [
        "n_latent_factors = 1\n",
        "\n",
        "user_input = Input(shape=[1], name='user')\n",
        "\n",
        "user_embedding = Embedding(input_dim=n_users + 1,\n",
        "                           output_dim=n_latent_factors, \n",
        "                           name='user_embedding')(user_input)\n",
        "\n",
        "user_vec = Flatten(name='flatten_users')(user_embedding)\n",
        "\n",
        "movie_input = Input(shape=[1], name='movie')\n",
        "\n",
        "movie_input = Input(shape=[1], name='movie')\n",
        "movie_embedding = Embedding(input_dim=n_movies + 1, \n",
        "                            output_dim=n_latent_factors,\n",
        "                            name='movie_embedding')(movie_input)\n",
        "\n",
        "movie_vec = Flatten(name='flatten_movies')(movie_embedding)\n",
        "\n",
        "product = dot([movie_vec, user_vec], axes=1)\n",
        "\n",
        "model = Model(inputs=[user_input, movie_input], outputs=product)"
      ],
      "metadata": {
        "id": "zUhLfdHuFKo_"
      },
      "execution_count": 38,
      "outputs": []
    },
    {
      "cell_type": "code",
      "source": [
        "model.compile('adam', 'mean_squared_error')"
      ],
      "metadata": {
        "id": "laqeFjbdHIsF"
      },
      "execution_count": 39,
      "outputs": []
    },
    {
      "cell_type": "code",
      "source": [
        "history = model.fit(x=[X_train.newUserId, X_train.newMovieId], \n",
        "                    y=X_train.rating, epochs=100,\n",
        "                    validation_data=([X_validation.newUserId,\n",
        "                                      X_validation.newMovieId],\n",
        "                                     X_validation.rating),\n",
        "                    verbose=1)"
      ],
      "metadata": {
        "colab": {
          "base_uri": "https://localhost:8080/"
        },
        "id": "TAgLkF-aHKTJ",
        "outputId": "656a0dcd-30de-4b2f-f1df-1ab8ca6a74cf"
      },
      "execution_count": 40,
      "outputs": [
        {
          "output_type": "stream",
          "name": "stdout",
          "text": [
            "Epoch 1/100\n",
            "2563/2563 [==============================] - 6s 2ms/step - loss: 13.8662 - val_loss: 12.3237\n",
            "Epoch 2/100\n",
            "2563/2563 [==============================] - 5s 2ms/step - loss: 9.3477 - val_loss: 6.7635\n",
            "Epoch 3/100\n",
            "2563/2563 [==============================] - 8s 3ms/step - loss: 4.6984 - val_loss: 3.4004\n",
            "Epoch 4/100\n",
            "2563/2563 [==============================] - 5s 2ms/step - loss: 2.5200 - val_loss: 2.0372\n",
            "Epoch 5/100\n",
            "2563/2563 [==============================] - 5s 2ms/step - loss: 1.5974 - val_loss: 1.3815\n",
            "Epoch 6/100\n",
            "2563/2563 [==============================] - 5s 2ms/step - loss: 1.1491 - val_loss: 1.0574\n",
            "Epoch 7/100\n",
            "2563/2563 [==============================] - 5s 2ms/step - loss: 0.9299 - val_loss: 0.8976\n",
            "Epoch 8/100\n",
            "2563/2563 [==============================] - 5s 2ms/step - loss: 0.8212 - val_loss: 0.8174\n",
            "Epoch 9/100\n",
            "2563/2563 [==============================] - 5s 2ms/step - loss: 0.7661 - val_loss: 0.7737\n",
            "Epoch 10/100\n",
            "2563/2563 [==============================] - 5s 2ms/step - loss: 0.7380 - val_loss: 0.7504\n",
            "Epoch 11/100\n",
            "2563/2563 [==============================] - 5s 2ms/step - loss: 0.7231 - val_loss: 0.7374\n",
            "Epoch 12/100\n",
            "2563/2563 [==============================] - 5s 2ms/step - loss: 0.7156 - val_loss: 0.7291\n",
            "Epoch 13/100\n",
            "2563/2563 [==============================] - 5s 2ms/step - loss: 0.7111 - val_loss: 0.7253\n",
            "Epoch 14/100\n",
            "2563/2563 [==============================] - 5s 2ms/step - loss: 0.7088 - val_loss: 0.7238\n",
            "Epoch 15/100\n",
            "2563/2563 [==============================] - 5s 2ms/step - loss: 0.7074 - val_loss: 0.7226\n",
            "Epoch 16/100\n",
            "2563/2563 [==============================] - 5s 2ms/step - loss: 0.7064 - val_loss: 0.7207\n",
            "Epoch 17/100\n",
            "2563/2563 [==============================] - 5s 2ms/step - loss: 0.7059 - val_loss: 0.7221\n",
            "Epoch 18/100\n",
            "2563/2563 [==============================] - 5s 2ms/step - loss: 0.7055 - val_loss: 0.7213\n",
            "Epoch 19/100\n",
            "2563/2563 [==============================] - 5s 2ms/step - loss: 0.7054 - val_loss: 0.7217\n",
            "Epoch 20/100\n",
            "2563/2563 [==============================] - 5s 2ms/step - loss: 0.7052 - val_loss: 0.7222\n",
            "Epoch 21/100\n",
            "2563/2563 [==============================] - 5s 2ms/step - loss: 0.7052 - val_loss: 0.7220\n",
            "Epoch 22/100\n",
            "2563/2563 [==============================] - 6s 2ms/step - loss: 0.7051 - val_loss: 0.7215\n",
            "Epoch 23/100\n",
            "2563/2563 [==============================] - 5s 2ms/step - loss: 0.7051 - val_loss: 0.7226\n",
            "Epoch 24/100\n",
            "2563/2563 [==============================] - 5s 2ms/step - loss: 0.7051 - val_loss: 0.7216\n",
            "Epoch 25/100\n",
            "2563/2563 [==============================] - 5s 2ms/step - loss: 0.7052 - val_loss: 0.7227\n",
            "Epoch 26/100\n",
            "2563/2563 [==============================] - 5s 2ms/step - loss: 0.7051 - val_loss: 0.7227\n",
            "Epoch 27/100\n",
            "2563/2563 [==============================] - 5s 2ms/step - loss: 0.7051 - val_loss: 0.7230\n",
            "Epoch 28/100\n",
            "2563/2563 [==============================] - 5s 2ms/step - loss: 0.7049 - val_loss: 0.7233\n",
            "Epoch 29/100\n",
            "2563/2563 [==============================] - 5s 2ms/step - loss: 0.7053 - val_loss: 0.7229\n",
            "Epoch 30/100\n",
            "2563/2563 [==============================] - 5s 2ms/step - loss: 0.7051 - val_loss: 0.7211\n",
            "Epoch 31/100\n",
            "2563/2563 [==============================] - 5s 2ms/step - loss: 0.7050 - val_loss: 0.7215\n",
            "Epoch 32/100\n",
            "2563/2563 [==============================] - 5s 2ms/step - loss: 0.7052 - val_loss: 0.7228\n",
            "Epoch 33/100\n",
            "2563/2563 [==============================] - 5s 2ms/step - loss: 0.7050 - val_loss: 0.7218\n",
            "Epoch 34/100\n",
            "2563/2563 [==============================] - 5s 2ms/step - loss: 0.7050 - val_loss: 0.7210\n",
            "Epoch 35/100\n",
            "2563/2563 [==============================] - 5s 2ms/step - loss: 0.7052 - val_loss: 0.7226\n",
            "Epoch 36/100\n",
            "2563/2563 [==============================] - 5s 2ms/step - loss: 0.7051 - val_loss: 0.7225\n",
            "Epoch 37/100\n",
            "2563/2563 [==============================] - 5s 2ms/step - loss: 0.7050 - val_loss: 0.7221\n",
            "Epoch 38/100\n",
            "2563/2563 [==============================] - 5s 2ms/step - loss: 0.7052 - val_loss: 0.7235\n",
            "Epoch 39/100\n",
            "2563/2563 [==============================] - 5s 2ms/step - loss: 0.7052 - val_loss: 0.7232\n",
            "Epoch 40/100\n",
            "2563/2563 [==============================] - 5s 2ms/step - loss: 0.7050 - val_loss: 0.7241\n",
            "Epoch 41/100\n",
            "2563/2563 [==============================] - 5s 2ms/step - loss: 0.7050 - val_loss: 0.7241\n",
            "Epoch 42/100\n",
            "2563/2563 [==============================] - 5s 2ms/step - loss: 0.7052 - val_loss: 0.7241\n",
            "Epoch 43/100\n",
            "2563/2563 [==============================] - 5s 2ms/step - loss: 0.7051 - val_loss: 0.7231\n",
            "Epoch 44/100\n",
            "2563/2563 [==============================] - 5s 2ms/step - loss: 0.7051 - val_loss: 0.7213\n",
            "Epoch 45/100\n",
            "2563/2563 [==============================] - 5s 2ms/step - loss: 0.7051 - val_loss: 0.7216\n",
            "Epoch 46/100\n",
            "2563/2563 [==============================] - 5s 2ms/step - loss: 0.7050 - val_loss: 0.7221\n",
            "Epoch 47/100\n",
            "2563/2563 [==============================] - 5s 2ms/step - loss: 0.7052 - val_loss: 0.7230\n",
            "Epoch 48/100\n",
            "2563/2563 [==============================] - 5s 2ms/step - loss: 0.7050 - val_loss: 0.7232\n",
            "Epoch 49/100\n",
            "2563/2563 [==============================] - 5s 2ms/step - loss: 0.7051 - val_loss: 0.7232\n",
            "Epoch 50/100\n",
            "2563/2563 [==============================] - 5s 2ms/step - loss: 0.7053 - val_loss: 0.7228\n",
            "Epoch 51/100\n",
            "2563/2563 [==============================] - 5s 2ms/step - loss: 0.7051 - val_loss: 0.7215\n",
            "Epoch 52/100\n",
            "2563/2563 [==============================] - 5s 2ms/step - loss: 0.7050 - val_loss: 0.7224\n",
            "Epoch 53/100\n",
            "2563/2563 [==============================] - 5s 2ms/step - loss: 0.7051 - val_loss: 0.7220\n",
            "Epoch 54/100\n",
            "2563/2563 [==============================] - 5s 2ms/step - loss: 0.7050 - val_loss: 0.7220\n",
            "Epoch 55/100\n",
            "2563/2563 [==============================] - 5s 2ms/step - loss: 0.7052 - val_loss: 0.7236\n",
            "Epoch 56/100\n",
            "2563/2563 [==============================] - 5s 2ms/step - loss: 0.7050 - val_loss: 0.7233\n",
            "Epoch 57/100\n",
            "2563/2563 [==============================] - 5s 2ms/step - loss: 0.7052 - val_loss: 0.7244\n",
            "Epoch 58/100\n",
            "2563/2563 [==============================] - 5s 2ms/step - loss: 0.7049 - val_loss: 0.7230\n",
            "Epoch 59/100\n",
            "2563/2563 [==============================] - 5s 2ms/step - loss: 0.7051 - val_loss: 0.7228\n",
            "Epoch 60/100\n",
            "2563/2563 [==============================] - 5s 2ms/step - loss: 0.7050 - val_loss: 0.7237\n",
            "Epoch 61/100\n",
            "2563/2563 [==============================] - 5s 2ms/step - loss: 0.7052 - val_loss: 0.7230\n",
            "Epoch 62/100\n",
            "2563/2563 [==============================] - 5s 2ms/step - loss: 0.7052 - val_loss: 0.7226\n",
            "Epoch 63/100\n",
            "2563/2563 [==============================] - 5s 2ms/step - loss: 0.7052 - val_loss: 0.7220\n",
            "Epoch 64/100\n",
            "2563/2563 [==============================] - 5s 2ms/step - loss: 0.7051 - val_loss: 0.7226\n",
            "Epoch 65/100\n",
            "2563/2563 [==============================] - 5s 2ms/step - loss: 0.7051 - val_loss: 0.7223\n",
            "Epoch 66/100\n",
            "2563/2563 [==============================] - 5s 2ms/step - loss: 0.7051 - val_loss: 0.7236\n",
            "Epoch 67/100\n",
            "2563/2563 [==============================] - 5s 2ms/step - loss: 0.7051 - val_loss: 0.7230\n",
            "Epoch 68/100\n",
            "2563/2563 [==============================] - 5s 2ms/step - loss: 0.7050 - val_loss: 0.7233\n",
            "Epoch 69/100\n",
            "2563/2563 [==============================] - 5s 2ms/step - loss: 0.7051 - val_loss: 0.7238\n",
            "Epoch 70/100\n",
            "2563/2563 [==============================] - 5s 2ms/step - loss: 0.7051 - val_loss: 0.7241\n",
            "Epoch 71/100\n",
            "2563/2563 [==============================] - 5s 2ms/step - loss: 0.7050 - val_loss: 0.7223\n",
            "Epoch 72/100\n",
            "2563/2563 [==============================] - 5s 2ms/step - loss: 0.7052 - val_loss: 0.7216\n",
            "Epoch 73/100\n",
            "2563/2563 [==============================] - 5s 2ms/step - loss: 0.7051 - val_loss: 0.7235\n",
            "Epoch 74/100\n",
            "2563/2563 [==============================] - 5s 2ms/step - loss: 0.7052 - val_loss: 0.7223\n",
            "Epoch 75/100\n",
            "2563/2563 [==============================] - 5s 2ms/step - loss: 0.7051 - val_loss: 0.7230\n",
            "Epoch 76/100\n",
            "2563/2563 [==============================] - 5s 2ms/step - loss: 0.7050 - val_loss: 0.7226\n",
            "Epoch 77/100\n",
            "2563/2563 [==============================] - 5s 2ms/step - loss: 0.7050 - val_loss: 0.7221\n",
            "Epoch 78/100\n",
            "2563/2563 [==============================] - 5s 2ms/step - loss: 0.7052 - val_loss: 0.7215\n",
            "Epoch 79/100\n",
            "2563/2563 [==============================] - 5s 2ms/step - loss: 0.7051 - val_loss: 0.7222\n",
            "Epoch 80/100\n",
            "2563/2563 [==============================] - 5s 2ms/step - loss: 0.7051 - val_loss: 0.7230\n",
            "Epoch 81/100\n",
            "2563/2563 [==============================] - 5s 2ms/step - loss: 0.7051 - val_loss: 0.7232\n",
            "Epoch 82/100\n",
            "2563/2563 [==============================] - 5s 2ms/step - loss: 0.7052 - val_loss: 0.7236\n",
            "Epoch 83/100\n",
            "2563/2563 [==============================] - 5s 2ms/step - loss: 0.7050 - val_loss: 0.7231\n",
            "Epoch 84/100\n",
            "2563/2563 [==============================] - 5s 2ms/step - loss: 0.7051 - val_loss: 0.7226\n",
            "Epoch 85/100\n",
            "2563/2563 [==============================] - 5s 2ms/step - loss: 0.7050 - val_loss: 0.7228\n",
            "Epoch 86/100\n",
            "2563/2563 [==============================] - 5s 2ms/step - loss: 0.7051 - val_loss: 0.7225\n",
            "Epoch 87/100\n",
            "2563/2563 [==============================] - 5s 2ms/step - loss: 0.7051 - val_loss: 0.7220\n",
            "Epoch 88/100\n",
            "2563/2563 [==============================] - 5s 2ms/step - loss: 0.7052 - val_loss: 0.7228\n",
            "Epoch 89/100\n",
            "2563/2563 [==============================] - 5s 2ms/step - loss: 0.7051 - val_loss: 0.7232\n",
            "Epoch 90/100\n",
            "2563/2563 [==============================] - 5s 2ms/step - loss: 0.7051 - val_loss: 0.7232\n",
            "Epoch 91/100\n",
            "2563/2563 [==============================] - 5s 2ms/step - loss: 0.7051 - val_loss: 0.7229\n",
            "Epoch 92/100\n",
            "2563/2563 [==============================] - 5s 2ms/step - loss: 0.7051 - val_loss: 0.7234\n",
            "Epoch 93/100\n",
            "2563/2563 [==============================] - 5s 2ms/step - loss: 0.7050 - val_loss: 0.7227\n",
            "Epoch 94/100\n",
            "2563/2563 [==============================] - 5s 2ms/step - loss: 0.7051 - val_loss: 0.7227\n",
            "Epoch 95/100\n",
            "2563/2563 [==============================] - 5s 2ms/step - loss: 0.7052 - val_loss: 0.7229\n",
            "Epoch 96/100\n",
            "2563/2563 [==============================] - 5s 2ms/step - loss: 0.7051 - val_loss: 0.7223\n",
            "Epoch 97/100\n",
            "2563/2563 [==============================] - 5s 2ms/step - loss: 0.7051 - val_loss: 0.7221\n",
            "Epoch 98/100\n",
            "2563/2563 [==============================] - 10s 4ms/step - loss: 0.7051 - val_loss: 0.7225\n",
            "Epoch 99/100\n",
            "2563/2563 [==============================] - 5s 2ms/step - loss: 0.7050 - val_loss: 0.7227\n",
            "Epoch 100/100\n",
            "2563/2563 [==============================] - 5s 2ms/step - loss: 0.7051 - val_loss: 0.7219\n"
          ]
        }
      ]
    },
    {
      "cell_type": "code",
      "source": [
        "pd.Series(history.history['val_loss'][10:]).plot(logy=False)\n",
        "plt.xlabel(\"Epoch\")\n",
        "plt.ylabel(\"Validation Error\")\n",
        "print('Minimum MSE: ', min(history.history['val_loss']))"
      ],
      "metadata": {
        "colab": {
          "base_uri": "https://localhost:8080/",
          "height": 297
        },
        "id": "-f1AH6LsHVFh",
        "outputId": "23712c6b-7a53-4441-bc4e-5298739ab16c"
      },
      "execution_count": 41,
      "outputs": [
        {
          "output_type": "stream",
          "name": "stdout",
          "text": [
            "Minimum MSE:  0.7207103371620178\n"
          ]
        },
        {
          "output_type": "display_data",
          "data": {
            "text/plain": [
              "<Figure size 432x288 with 1 Axes>"
            ],
            "image/png": "[encoded data removed]"
          },
          "metadata": {
            "needs_background": "light"
          }
        }
      ]
    },
    {
      "cell_type": "markdown",
      "source": [
        "## 세개의 잠재요인 가진 행렬 인수분해를 사용한 추천 시스템"
      ],
      "metadata": {
        "id": "eBPaR3PfJZKa"
      }
    },
    {
      "cell_type": "code",
      "source": [
        "n_latent_factors = 3\n",
        "\n",
        "user_input = Input(shape=[1], name='user')\n",
        "\n",
        "user_embedding = Embedding(input_dim=n_users + 1, \n",
        "                           output_dim=n_latent_factors, \n",
        "                           embeddings_regularizer=regularizers.l1(10e-7), \n",
        "                           name='user_embedding')(user_input)\n",
        "\n",
        "user_vec = Flatten(name='flatten_users')(user_embedding)\n",
        "\n",
        "movie_input = Input(shape=[1], name='movie')\n",
        "\n",
        "movie_embedding = Embedding(input_dim=n_movies + 1, \n",
        "                            output_dim=n_latent_factors, \n",
        "                            embeddings_regularizer=regularizers.l1(10e-7), \n",
        "                            name='movie_embedding')(movie_input)\n",
        "\n",
        "movie_vec = Flatten(name='flatten_movies')(movie_embedding)\n",
        "\n",
        "product = dot([movie_vec, user_vec], axes=1)\n",
        "\n",
        "model = Model(inputs=[user_input, movie_input], outputs=product)"
      ],
      "metadata": {
        "id": "ZyY5TX0eJV8e"
      },
      "execution_count": 42,
      "outputs": []
    },
    {
      "cell_type": "code",
      "source": [
        "model.compile('adam', 'mean_squared_error')"
      ],
      "metadata": {
        "id": "B475bTwQJnSL"
      },
      "execution_count": 43,
      "outputs": []
    },
    {
      "cell_type": "code",
      "source": [
        "history = model.fit(x=[X_train.newUserId, X_train.newMovieId], \n",
        "                    y=X_train.rating,\n",
        "                    epochs=100, \n",
        "                    validation_data=([X_validation.newUserId, \n",
        "                                      X_validation.newMovieId],\n",
        "                                      X_validation.rating),\n",
        "                    verbose=1)"
      ],
      "metadata": {
        "colab": {
          "base_uri": "https://localhost:8080/"
        },
        "id": "KMbQQs2DJni0",
        "outputId": "aa5102f3-21e6-4396-bc4e-79fd73e77fe8"
      },
      "execution_count": 44,
      "outputs": [
        {
          "output_type": "stream",
          "name": "stdout",
          "text": [
            "Epoch 1/100\n",
            "2563/2563 [==============================] - 8s 3ms/step - loss: 12.0046 - val_loss: 7.4526\n",
            "Epoch 2/100\n",
            "2563/2563 [==============================] - 6s 2ms/step - loss: 4.1416 - val_loss: 2.4087\n",
            "Epoch 3/100\n",
            "2563/2563 [==============================] - 7s 3ms/step - loss: 1.6532 - val_loss: 1.2541\n",
            "Epoch 4/100\n",
            "2563/2563 [==============================] - 8s 3ms/step - loss: 1.0127 - val_loss: 0.9045\n",
            "Epoch 5/100\n",
            "2563/2563 [==============================] - 9s 3ms/step - loss: 0.8159 - val_loss: 0.7928\n",
            "Epoch 6/100\n",
            "2563/2563 [==============================] - 6s 3ms/step - loss: 0.7530 - val_loss: 0.7489\n",
            "Epoch 7/100\n",
            "2563/2563 [==============================] - 6s 2ms/step - loss: 0.7325 - val_loss: 0.7384\n",
            "Epoch 8/100\n",
            "2563/2563 [==============================] - 7s 3ms/step - loss: 0.7249 - val_loss: 0.7326\n",
            "Epoch 9/100\n",
            "2563/2563 [==============================] - 6s 2ms/step - loss: 0.7225 - val_loss: 0.7297\n",
            "Epoch 10/100\n",
            "2563/2563 [==============================] - 7s 3ms/step - loss: 0.7209 - val_loss: 0.7306\n",
            "Epoch 11/100\n",
            "2563/2563 [==============================] - 7s 3ms/step - loss: 0.7202 - val_loss: 0.7323\n",
            "Epoch 12/100\n",
            "2563/2563 [==============================] - 6s 3ms/step - loss: 0.7199 - val_loss: 0.7298\n",
            "Epoch 13/100\n",
            "2563/2563 [==============================] - 6s 2ms/step - loss: 0.7197 - val_loss: 0.7297\n",
            "Epoch 14/100\n",
            "2563/2563 [==============================] - 6s 2ms/step - loss: 0.7196 - val_loss: 0.7301\n",
            "Epoch 15/100\n",
            "2563/2563 [==============================] - 6s 2ms/step - loss: 0.7193 - val_loss: 0.7303\n",
            "Epoch 16/100\n",
            "2563/2563 [==============================] - 6s 2ms/step - loss: 0.7191 - val_loss: 0.7295\n",
            "Epoch 17/100\n",
            "2563/2563 [==============================] - 6s 2ms/step - loss: 0.7195 - val_loss: 0.7299\n",
            "Epoch 18/100\n",
            "2563/2563 [==============================] - 6s 2ms/step - loss: 0.7193 - val_loss: 0.7310\n",
            "Epoch 19/100\n",
            "2563/2563 [==============================] - 8s 3ms/step - loss: 0.7190 - val_loss: 0.7318\n",
            "Epoch 20/100\n",
            "2563/2563 [==============================] - 14s 6ms/step - loss: 0.7189 - val_loss: 0.7302\n",
            "Epoch 21/100\n",
            "2563/2563 [==============================] - 14s 5ms/step - loss: 0.7189 - val_loss: 0.7305\n",
            "Epoch 22/100\n",
            "2563/2563 [==============================] - 9s 3ms/step - loss: 0.7184 - val_loss: 0.7302\n",
            "Epoch 23/100\n",
            "2563/2563 [==============================] - 6s 2ms/step - loss: 0.7181 - val_loss: 0.7312\n",
            "Epoch 24/100\n",
            "2563/2563 [==============================] - 9s 3ms/step - loss: 0.7179 - val_loss: 0.7323\n",
            "Epoch 25/100\n",
            "2563/2563 [==============================] - 8s 3ms/step - loss: 0.7177 - val_loss: 0.7336\n",
            "Epoch 26/100\n",
            "2563/2563 [==============================] - 12s 5ms/step - loss: 0.7173 - val_loss: 0.7320\n",
            "Epoch 27/100\n",
            "2563/2563 [==============================] - 7s 3ms/step - loss: 0.7167 - val_loss: 0.7314\n",
            "Epoch 28/100\n",
            "2563/2563 [==============================] - 7s 3ms/step - loss: 0.7162 - val_loss: 0.7307\n",
            "Epoch 29/100\n",
            "2563/2563 [==============================] - 8s 3ms/step - loss: 0.7154 - val_loss: 0.7292\n",
            "Epoch 30/100\n",
            "2563/2563 [==============================] - 8s 3ms/step - loss: 0.7142 - val_loss: 0.7297\n",
            "Epoch 31/100\n",
            "2563/2563 [==============================] - 8s 3ms/step - loss: 0.7133 - val_loss: 0.7255\n",
            "Epoch 32/100\n",
            "2563/2563 [==============================] - 6s 2ms/step - loss: 0.7118 - val_loss: 0.7267\n",
            "Epoch 33/100\n",
            "2563/2563 [==============================] - 6s 2ms/step - loss: 0.7100 - val_loss: 0.7259\n",
            "Epoch 34/100\n",
            "2563/2563 [==============================] - 6s 2ms/step - loss: 0.7083 - val_loss: 0.7245\n",
            "Epoch 35/100\n",
            "2563/2563 [==============================] - 7s 3ms/step - loss: 0.7059 - val_loss: 0.7238\n",
            "Epoch 36/100\n",
            "2563/2563 [==============================] - 6s 2ms/step - loss: 0.7030 - val_loss: 0.7201\n",
            "Epoch 37/100\n",
            "2563/2563 [==============================] - 6s 2ms/step - loss: 0.7000 - val_loss: 0.7186\n",
            "Epoch 38/100\n",
            "2563/2563 [==============================] - 6s 2ms/step - loss: 0.6959 - val_loss: 0.7165\n",
            "Epoch 39/100\n",
            "2563/2563 [==============================] - 6s 2ms/step - loss: 0.6922 - val_loss: 0.7144\n",
            "Epoch 40/100\n",
            "2563/2563 [==============================] - 6s 2ms/step - loss: 0.6876 - val_loss: 0.7114\n",
            "Epoch 41/100\n",
            "2563/2563 [==============================] - 6s 2ms/step - loss: 0.6832 - val_loss: 0.7079\n",
            "Epoch 42/100\n",
            "2563/2563 [==============================] - 6s 2ms/step - loss: 0.6783 - val_loss: 0.7063\n",
            "Epoch 43/100\n",
            "2563/2563 [==============================] - 6s 2ms/step - loss: 0.6737 - val_loss: 0.7043\n",
            "Epoch 44/100\n",
            "2563/2563 [==============================] - 6s 2ms/step - loss: 0.6689 - val_loss: 0.7021\n",
            "Epoch 45/100\n",
            "2563/2563 [==============================] - 6s 2ms/step - loss: 0.6641 - val_loss: 0.6970\n",
            "Epoch 46/100\n",
            "2563/2563 [==============================] - 6s 2ms/step - loss: 0.6602 - val_loss: 0.6969\n",
            "Epoch 47/100\n",
            "2563/2563 [==============================] - 6s 2ms/step - loss: 0.6562 - val_loss: 0.6969\n",
            "Epoch 48/100\n",
            "2563/2563 [==============================] - 6s 2ms/step - loss: 0.6529 - val_loss: 0.6927\n",
            "Epoch 49/100\n",
            "2563/2563 [==============================] - 6s 2ms/step - loss: 0.6492 - val_loss: 0.6935\n",
            "Epoch 50/100\n",
            "2563/2563 [==============================] - 6s 2ms/step - loss: 0.6464 - val_loss: 0.6879\n",
            "Epoch 51/100\n",
            "2563/2563 [==============================] - 6s 2ms/step - loss: 0.6437 - val_loss: 0.6889\n",
            "Epoch 52/100\n",
            "2563/2563 [==============================] - 6s 2ms/step - loss: 0.6409 - val_loss: 0.6906\n",
            "Epoch 53/100\n",
            "2563/2563 [==============================] - 6s 2ms/step - loss: 0.6382 - val_loss: 0.6888\n",
            "Epoch 54/100\n",
            "2563/2563 [==============================] - 6s 2ms/step - loss: 0.6364 - val_loss: 0.6855\n",
            "Epoch 55/100\n",
            "2563/2563 [==============================] - 6s 2ms/step - loss: 0.6343 - val_loss: 0.6859\n",
            "Epoch 56/100\n",
            "2563/2563 [==============================] - 6s 2ms/step - loss: 0.6323 - val_loss: 0.6870\n",
            "Epoch 57/100\n",
            "2563/2563 [==============================] - 6s 2ms/step - loss: 0.6304 - val_loss: 0.6867\n",
            "Epoch 58/100\n",
            "2563/2563 [==============================] - 6s 2ms/step - loss: 0.6289 - val_loss: 0.6870\n",
            "Epoch 59/100\n",
            "2563/2563 [==============================] - 6s 2ms/step - loss: 0.6274 - val_loss: 0.6860\n",
            "Epoch 60/100\n",
            "2563/2563 [==============================] - 6s 2ms/step - loss: 0.6260 - val_loss: 0.6872\n",
            "Epoch 61/100\n",
            "2563/2563 [==============================] - 6s 2ms/step - loss: 0.6247 - val_loss: 0.6860\n",
            "Epoch 62/100\n",
            "2563/2563 [==============================] - 6s 2ms/step - loss: 0.6236 - val_loss: 0.6843\n",
            "Epoch 63/100\n",
            "2563/2563 [==============================] - 6s 2ms/step - loss: 0.6220 - val_loss: 0.6865\n",
            "Epoch 64/100\n",
            "2563/2563 [==============================] - 6s 2ms/step - loss: 0.6214 - val_loss: 0.6866\n",
            "Epoch 65/100\n",
            "2563/2563 [==============================] - 6s 2ms/step - loss: 0.6204 - val_loss: 0.6856\n",
            "Epoch 66/100\n",
            "2563/2563 [==============================] - 6s 2ms/step - loss: 0.6193 - val_loss: 0.6855\n",
            "Epoch 67/100\n",
            "2563/2563 [==============================] - 6s 2ms/step - loss: 0.6186 - val_loss: 0.6863\n",
            "Epoch 68/100\n",
            "2563/2563 [==============================] - 6s 2ms/step - loss: 0.6178 - val_loss: 0.6867\n",
            "Epoch 69/100\n",
            "2563/2563 [==============================] - 6s 2ms/step - loss: 0.6168 - val_loss: 0.6890\n",
            "Epoch 70/100\n",
            "2563/2563 [==============================] - 6s 2ms/step - loss: 0.6163 - val_loss: 0.6859\n",
            "Epoch 71/100\n",
            "2563/2563 [==============================] - 6s 2ms/step - loss: 0.6155 - val_loss: 0.6860\n",
            "Epoch 72/100\n",
            "2563/2563 [==============================] - 6s 2ms/step - loss: 0.6150 - val_loss: 0.6868\n",
            "Epoch 73/100\n",
            "2563/2563 [==============================] - 6s 2ms/step - loss: 0.6142 - val_loss: 0.6870\n",
            "Epoch 74/100\n",
            "2563/2563 [==============================] - 6s 2ms/step - loss: 0.6140 - val_loss: 0.6876\n",
            "Epoch 75/100\n",
            "2563/2563 [==============================] - 6s 2ms/step - loss: 0.6133 - val_loss: 0.6874\n",
            "Epoch 76/100\n",
            "2563/2563 [==============================] - 6s 2ms/step - loss: 0.6130 - val_loss: 0.6895\n",
            "Epoch 77/100\n",
            "2563/2563 [==============================] - 7s 3ms/step - loss: 0.6122 - val_loss: 0.6888\n",
            "Epoch 78/100\n",
            "2563/2563 [==============================] - 6s 3ms/step - loss: 0.6118 - val_loss: 0.6867\n",
            "Epoch 79/100\n",
            "2563/2563 [==============================] - 6s 2ms/step - loss: 0.6114 - val_loss: 0.6890\n",
            "Epoch 80/100\n",
            "2563/2563 [==============================] - 6s 2ms/step - loss: 0.6109 - val_loss: 0.6890\n",
            "Epoch 81/100\n",
            "2563/2563 [==============================] - 6s 2ms/step - loss: 0.6103 - val_loss: 0.6900\n",
            "Epoch 82/100\n",
            "2563/2563 [==============================] - 6s 2ms/step - loss: 0.6100 - val_loss: 0.6887\n",
            "Epoch 83/100\n",
            "2563/2563 [==============================] - 6s 2ms/step - loss: 0.6097 - val_loss: 0.6912\n",
            "Epoch 84/100\n",
            "2563/2563 [==============================] - 6s 2ms/step - loss: 0.6096 - val_loss: 0.6888\n",
            "Epoch 85/100\n",
            "2563/2563 [==============================] - 6s 2ms/step - loss: 0.6091 - val_loss: 0.6897\n",
            "Epoch 86/100\n",
            "2563/2563 [==============================] - 6s 2ms/step - loss: 0.6087 - val_loss: 0.6916\n",
            "Epoch 87/100\n",
            "2563/2563 [==============================] - 6s 2ms/step - loss: 0.6085 - val_loss: 0.6908\n",
            "Epoch 88/100\n",
            "2563/2563 [==============================] - 6s 2ms/step - loss: 0.6082 - val_loss: 0.6886\n",
            "Epoch 89/100\n",
            "2563/2563 [==============================] - 6s 2ms/step - loss: 0.6076 - val_loss: 0.6906\n",
            "Epoch 90/100\n",
            "2563/2563 [==============================] - 6s 2ms/step - loss: 0.6075 - val_loss: 0.6922\n",
            "Epoch 91/100\n",
            "2563/2563 [==============================] - 6s 2ms/step - loss: 0.6073 - val_loss: 0.6923\n",
            "Epoch 92/100\n",
            "2563/2563 [==============================] - 6s 2ms/step - loss: 0.6069 - val_loss: 0.6934\n",
            "Epoch 93/100\n",
            "2563/2563 [==============================] - 6s 2ms/step - loss: 0.6068 - val_loss: 0.6937\n",
            "Epoch 94/100\n",
            "2563/2563 [==============================] - 6s 2ms/step - loss: 0.6064 - val_loss: 0.6919\n",
            "Epoch 95/100\n",
            "2563/2563 [==============================] - 6s 2ms/step - loss: 0.6064 - val_loss: 0.6944\n",
            "Epoch 96/100\n",
            "2563/2563 [==============================] - 6s 2ms/step - loss: 0.6061 - val_loss: 0.6928\n",
            "Epoch 97/100\n",
            "2563/2563 [==============================] - 6s 2ms/step - loss: 0.6058 - val_loss: 0.6945\n",
            "Epoch 98/100\n",
            "2563/2563 [==============================] - 6s 2ms/step - loss: 0.6056 - val_loss: 0.6931\n",
            "Epoch 99/100\n",
            "2563/2563 [==============================] - 6s 2ms/step - loss: 0.6057 - val_loss: 0.6924\n",
            "Epoch 100/100\n",
            "2563/2563 [==============================] - 6s 2ms/step - loss: 0.6052 - val_loss: 0.6936\n"
          ]
        }
      ]
    },
    {
      "cell_type": "code",
      "source": [
        "pd.Series(history.history['val_loss'][10:]).plot(logy=False)\n",
        "plt.xlabel(\"Epoch\")\n",
        "plt.ylabel(\"Validation Error\")\n",
        "print('Minimum MSE: ', min(history.history['val_loss']))"
      ],
      "metadata": {
        "colab": {
          "base_uri": "https://localhost:8080/",
          "height": 297
        },
        "id": "ecBvZ_NwJsh5",
        "outputId": "4d74bc3b-abb4-42ba-8db9-bf4b00d86500"
      },
      "execution_count": 45,
      "outputs": [
        {
          "output_type": "stream",
          "name": "stdout",
          "text": [
            "Minimum MSE:  0.6843380928039551\n"
          ]
        },
        {
          "output_type": "display_data",
          "data": {
            "text/plain": [
              "<Figure size 432x288 with 1 Axes>"
            ],
            "image/png": "[encoded data removed]"
          },
          "metadata": {
            "needs_background": "light"
          }
        }
      ]
    },
    {
      "cell_type": "markdown",
      "source": [
        "## 다섯개의 잠재요인 가진 행렬 인수분해를 사용한 추천 사스템"
      ],
      "metadata": {
        "id": "LHnVKFRgKMLu"
      }
    },
    {
      "cell_type": "code",
      "source": [
        "n_latent_factors = 5\n",
        "\n",
        "user_input = Input(shape=[1], name='user')\n",
        "\n",
        "user_embedding = Embedding(input_dim=n_users + 1, \n",
        "                           output_dim=n_latent_factors, \n",
        "                           embeddings_regularizer=regularizers.l1(10e-7), \n",
        "                           name='user_embedding')(user_input)\n",
        "\n",
        "user_vec = Flatten(name='flatten_users')(user_embedding)\n",
        "\n",
        "movie_input = Input(shape=[1], name='movie')\n",
        "\n",
        "movie_embedding = Embedding(input_dim=n_movies + 1, \n",
        "                            output_dim=n_latent_factors, \n",
        "                            embeddings_regularizer=regularizers.l1(10e-7), \n",
        "                            name='movie_embedding')(movie_input)\n",
        "\n",
        "movie_vec = Flatten(name='flatten_movies')(movie_embedding)\n",
        "\n",
        "product = dot([movie_vec, user_vec], axes=1)\n",
        "\n",
        "model = Model(inputs=[user_input, movie_input], outputs=product)"
      ],
      "metadata": {
        "id": "Q5Sc11mJJx0m"
      },
      "execution_count": 46,
      "outputs": []
    },
    {
      "cell_type": "code",
      "source": [
        "model.compile('adam', 'mean_squared_error')"
      ],
      "metadata": {
        "id": "tr9wA5taKYnC"
      },
      "execution_count": 47,
      "outputs": []
    },
    {
      "cell_type": "code",
      "source": [
        "history = model.fit(x=[X_train.newUserId, X_train.newMovieId],\n",
        "                    y=X_train.rating,\n",
        "                    epochs=100, \n",
        "                    validation_data=([X_validation.newUserId, \n",
        "                                      X_validation.newMovieId],\n",
        "                                      X_validation.rating), \n",
        "                    verbose=1)"
      ],
      "metadata": {
        "colab": {
          "base_uri": "https://localhost:8080/"
        },
        "id": "UIh3X-7TKZ1r",
        "outputId": "52b1b3ea-c5e0-4382-b6fe-6e7906f92d58"
      },
      "execution_count": 48,
      "outputs": [
        {
          "output_type": "stream",
          "name": "stdout",
          "text": [
            "Epoch 1/100\n",
            "2563/2563 [==============================] - 9s 3ms/step - loss: 11.1079 - val_loss: 5.3200\n",
            "Epoch 2/100\n",
            "2563/2563 [==============================] - 8s 3ms/step - loss: 2.7706 - val_loss: 1.6059\n",
            "Epoch 3/100\n",
            "2563/2563 [==============================] - 8s 3ms/step - loss: 1.1582 - val_loss: 0.9442\n",
            "Epoch 4/100\n",
            "2563/2563 [==============================] - 8s 3ms/step - loss: 0.8303 - val_loss: 0.7934\n",
            "Epoch 5/100\n",
            "2563/2563 [==============================] - 9s 4ms/step - loss: 0.7536 - val_loss: 0.7497\n",
            "Epoch 6/100\n",
            "2563/2563 [==============================] - 7s 3ms/step - loss: 0.7348 - val_loss: 0.7383\n",
            "Epoch 7/100\n",
            "2563/2563 [==============================] - 8s 3ms/step - loss: 0.7288 - val_loss: 0.7400\n",
            "Epoch 8/100\n",
            "2563/2563 [==============================] - 6s 2ms/step - loss: 0.7275 - val_loss: 0.7362\n",
            "Epoch 9/100\n",
            "2563/2563 [==============================] - 6s 2ms/step - loss: 0.7265 - val_loss: 0.7331\n",
            "Epoch 10/100\n",
            "2563/2563 [==============================] - 6s 2ms/step - loss: 0.7257 - val_loss: 0.7331\n",
            "Epoch 11/100\n",
            "2563/2563 [==============================] - 6s 2ms/step - loss: 0.7254 - val_loss: 0.7322\n",
            "Epoch 12/100\n",
            "2563/2563 [==============================] - 6s 2ms/step - loss: 0.7248 - val_loss: 0.7369\n",
            "Epoch 13/100\n",
            "2563/2563 [==============================] - 6s 2ms/step - loss: 0.7241 - val_loss: 0.7343\n",
            "Epoch 14/100\n",
            "2563/2563 [==============================] - 6s 2ms/step - loss: 0.7226 - val_loss: 0.7301\n",
            "Epoch 15/100\n",
            "2563/2563 [==============================] - 6s 2ms/step - loss: 0.7212 - val_loss: 0.7312\n",
            "Epoch 16/100\n",
            "2563/2563 [==============================] - 6s 2ms/step - loss: 0.7196 - val_loss: 0.7283\n",
            "Epoch 17/100\n",
            "2563/2563 [==============================] - 6s 2ms/step - loss: 0.7169 - val_loss: 0.7271\n",
            "Epoch 18/100\n",
            "2563/2563 [==============================] - 6s 2ms/step - loss: 0.7137 - val_loss: 0.7233\n",
            "Epoch 19/100\n",
            "2563/2563 [==============================] - 6s 2ms/step - loss: 0.7091 - val_loss: 0.7242\n",
            "Epoch 20/100\n",
            "2563/2563 [==============================] - 6s 2ms/step - loss: 0.7044 - val_loss: 0.7184\n",
            "Epoch 21/100\n",
            "2563/2563 [==============================] - 13s 5ms/step - loss: 0.6981 - val_loss: 0.7139\n",
            "Epoch 22/100\n",
            "2563/2563 [==============================] - 8s 3ms/step - loss: 0.6922 - val_loss: 0.7080\n",
            "Epoch 23/100\n",
            "2563/2563 [==============================] - 7s 3ms/step - loss: 0.6847 - val_loss: 0.7044\n",
            "Epoch 24/100\n",
            "2563/2563 [==============================] - 8s 3ms/step - loss: 0.6783 - val_loss: 0.6996\n",
            "Epoch 25/100\n",
            "2563/2563 [==============================] - 11s 4ms/step - loss: 0.6716 - val_loss: 0.6928\n",
            "Epoch 26/100\n",
            "2563/2563 [==============================] - 8s 3ms/step - loss: 0.6654 - val_loss: 0.6910\n",
            "Epoch 27/100\n",
            "2563/2563 [==============================] - 7s 3ms/step - loss: 0.6596 - val_loss: 0.6924\n",
            "Epoch 28/100\n",
            "2563/2563 [==============================] - 8s 3ms/step - loss: 0.6542 - val_loss: 0.6848\n",
            "Epoch 29/100\n",
            "2563/2563 [==============================] - 9s 3ms/step - loss: 0.6488 - val_loss: 0.6822\n",
            "Epoch 30/100\n",
            "2563/2563 [==============================] - 7s 3ms/step - loss: 0.6438 - val_loss: 0.6835\n",
            "Epoch 31/100\n",
            "2563/2563 [==============================] - 8s 3ms/step - loss: 0.6378 - val_loss: 0.6822\n",
            "Epoch 32/100\n",
            "2563/2563 [==============================] - 9s 3ms/step - loss: 0.6333 - val_loss: 0.6801\n",
            "Epoch 33/100\n",
            "2563/2563 [==============================] - 7s 3ms/step - loss: 0.6280 - val_loss: 0.6809\n",
            "Epoch 34/100\n",
            "2563/2563 [==============================] - 8s 3ms/step - loss: 0.6229 - val_loss: 0.6768\n",
            "Epoch 35/100\n",
            "2563/2563 [==============================] - 9s 3ms/step - loss: 0.6179 - val_loss: 0.6796\n",
            "Epoch 36/100\n",
            "2563/2563 [==============================] - 10s 4ms/step - loss: 0.6129 - val_loss: 0.6791\n",
            "Epoch 37/100\n",
            "2563/2563 [==============================] - 9s 4ms/step - loss: 0.6083 - val_loss: 0.6768\n",
            "Epoch 38/100\n",
            "2563/2563 [==============================] - 13s 5ms/step - loss: 0.6038 - val_loss: 0.6780\n",
            "Epoch 39/100\n",
            "2563/2563 [==============================] - 13s 5ms/step - loss: 0.5997 - val_loss: 0.6779\n",
            "Epoch 40/100\n",
            "2563/2563 [==============================] - 11s 4ms/step - loss: 0.5958 - val_loss: 0.6812\n",
            "Epoch 41/100\n",
            "2563/2563 [==============================] - 10s 4ms/step - loss: 0.5917 - val_loss: 0.6839\n",
            "Epoch 42/100\n",
            "2563/2563 [==============================] - 10s 4ms/step - loss: 0.5885 - val_loss: 0.6839\n",
            "Epoch 43/100\n",
            "2563/2563 [==============================] - 6s 2ms/step - loss: 0.5855 - val_loss: 0.6833\n",
            "Epoch 44/100\n",
            "2563/2563 [==============================] - 9s 3ms/step - loss: 0.5823 - val_loss: 0.6833\n",
            "Epoch 45/100\n",
            "2563/2563 [==============================] - 8s 3ms/step - loss: 0.5795 - val_loss: 0.6886\n",
            "Epoch 46/100\n",
            "2563/2563 [==============================] - 8s 3ms/step - loss: 0.5772 - val_loss: 0.6857\n",
            "Epoch 47/100\n",
            "2563/2563 [==============================] - 8s 3ms/step - loss: 0.5747 - val_loss: 0.6896\n",
            "Epoch 48/100\n",
            "2563/2563 [==============================] - 9s 4ms/step - loss: 0.5728 - val_loss: 0.6904\n",
            "Epoch 49/100\n",
            "2563/2563 [==============================] - 9s 4ms/step - loss: 0.5707 - val_loss: 0.6935\n",
            "Epoch 50/100\n",
            "2563/2563 [==============================] - 6s 2ms/step - loss: 0.5683 - val_loss: 0.6965\n",
            "Epoch 51/100\n",
            "2563/2563 [==============================] - 8s 3ms/step - loss: 0.5668 - val_loss: 0.6947\n",
            "Epoch 52/100\n",
            "2563/2563 [==============================] - 6s 2ms/step - loss: 0.5651 - val_loss: 0.6983\n",
            "Epoch 53/100\n",
            "2563/2563 [==============================] - 8s 3ms/step - loss: 0.5635 - val_loss: 0.6985\n",
            "Epoch 54/100\n",
            "2563/2563 [==============================] - 11s 4ms/step - loss: 0.5618 - val_loss: 0.7019\n",
            "Epoch 55/100\n",
            "2563/2563 [==============================] - 8s 3ms/step - loss: 0.5607 - val_loss: 0.7020\n",
            "Epoch 56/100\n",
            "2563/2563 [==============================] - 9s 3ms/step - loss: 0.5596 - val_loss: 0.7016\n",
            "Epoch 57/100\n",
            "2563/2563 [==============================] - 6s 2ms/step - loss: 0.5580 - val_loss: 0.7030\n",
            "Epoch 58/100\n",
            "2563/2563 [==============================] - 6s 2ms/step - loss: 0.5569 - val_loss: 0.7045\n",
            "Epoch 59/100\n",
            "2563/2563 [==============================] - 9s 4ms/step - loss: 0.5554 - val_loss: 0.7035\n",
            "Epoch 60/100\n",
            "2563/2563 [==============================] - 6s 2ms/step - loss: 0.5547 - val_loss: 0.7088\n",
            "Epoch 61/100\n",
            "2563/2563 [==============================] - 7s 3ms/step - loss: 0.5538 - val_loss: 0.7124\n",
            "Epoch 62/100\n",
            "2563/2563 [==============================] - 6s 2ms/step - loss: 0.5527 - val_loss: 0.7097\n",
            "Epoch 63/100\n",
            "2563/2563 [==============================] - 6s 2ms/step - loss: 0.5516 - val_loss: 0.7144\n",
            "Epoch 64/100\n",
            "2563/2563 [==============================] - 6s 2ms/step - loss: 0.5510 - val_loss: 0.7130\n",
            "Epoch 65/100\n",
            "2563/2563 [==============================] - 6s 2ms/step - loss: 0.5503 - val_loss: 0.7114\n",
            "Epoch 66/100\n",
            "2563/2563 [==============================] - 6s 2ms/step - loss: 0.5493 - val_loss: 0.7176\n",
            "Epoch 67/100\n",
            "2563/2563 [==============================] - 9s 4ms/step - loss: 0.5485 - val_loss: 0.7188\n",
            "Epoch 68/100\n",
            "2563/2563 [==============================] - 9s 3ms/step - loss: 0.5481 - val_loss: 0.7180\n",
            "Epoch 69/100\n",
            "2563/2563 [==============================] - 5s 2ms/step - loss: 0.5469 - val_loss: 0.7192\n",
            "Epoch 70/100\n",
            "2563/2563 [==============================] - 7s 3ms/step - loss: 0.5462 - val_loss: 0.7215\n",
            "Epoch 71/100\n",
            "2563/2563 [==============================] - 8s 3ms/step - loss: 0.5455 - val_loss: 0.7235\n",
            "Epoch 72/100\n",
            "2563/2563 [==============================] - 7s 3ms/step - loss: 0.5450 - val_loss: 0.7216\n",
            "Epoch 73/100\n",
            "2563/2563 [==============================] - 8s 3ms/step - loss: 0.5444 - val_loss: 0.7258\n",
            "Epoch 74/100\n",
            "2563/2563 [==============================] - 6s 2ms/step - loss: 0.5438 - val_loss: 0.7243\n",
            "Epoch 75/100\n",
            "2563/2563 [==============================] - 6s 2ms/step - loss: 0.5434 - val_loss: 0.7265\n",
            "Epoch 76/100\n",
            "2563/2563 [==============================] - 6s 2ms/step - loss: 0.5429 - val_loss: 0.7290\n",
            "Epoch 77/100\n",
            "2563/2563 [==============================] - 6s 2ms/step - loss: 0.5420 - val_loss: 0.7288\n",
            "Epoch 78/100\n",
            "2563/2563 [==============================] - 6s 2ms/step - loss: 0.5420 - val_loss: 0.7333\n",
            "Epoch 79/100\n",
            "2563/2563 [==============================] - 6s 2ms/step - loss: 0.5414 - val_loss: 0.7343\n",
            "Epoch 80/100\n",
            "2563/2563 [==============================] - 6s 2ms/step - loss: 0.5408 - val_loss: 0.7338\n",
            "Epoch 81/100\n",
            "2563/2563 [==============================] - 6s 2ms/step - loss: 0.5403 - val_loss: 0.7324\n",
            "Epoch 82/100\n",
            "2563/2563 [==============================] - 7s 3ms/step - loss: 0.5404 - val_loss: 0.7349\n",
            "Epoch 83/100\n",
            "2563/2563 [==============================] - 8s 3ms/step - loss: 0.5396 - val_loss: 0.7391\n",
            "Epoch 84/100\n",
            "2563/2563 [==============================] - 9s 3ms/step - loss: 0.5393 - val_loss: 0.7367\n",
            "Epoch 85/100\n",
            "2563/2563 [==============================] - 6s 2ms/step - loss: 0.5389 - val_loss: 0.7347\n",
            "Epoch 86/100\n",
            "2563/2563 [==============================] - 6s 2ms/step - loss: 0.5385 - val_loss: 0.7378\n",
            "Epoch 87/100\n",
            "2563/2563 [==============================] - 6s 2ms/step - loss: 0.5384 - val_loss: 0.7404\n",
            "Epoch 88/100\n",
            "2563/2563 [==============================] - 6s 2ms/step - loss: 0.5377 - val_loss: 0.7421\n",
            "Epoch 89/100\n",
            "2563/2563 [==============================] - 6s 2ms/step - loss: 0.5375 - val_loss: 0.7445\n",
            "Epoch 90/100\n",
            "2563/2563 [==============================] - 6s 2ms/step - loss: 0.5373 - val_loss: 0.7431\n",
            "Epoch 91/100\n",
            "2563/2563 [==============================] - 9s 3ms/step - loss: 0.5370 - val_loss: 0.7421\n",
            "Epoch 92/100\n",
            "2563/2563 [==============================] - 8s 3ms/step - loss: 0.5364 - val_loss: 0.7426\n",
            "Epoch 93/100\n",
            "2563/2563 [==============================] - 8s 3ms/step - loss: 0.5362 - val_loss: 0.7453\n",
            "Epoch 94/100\n",
            "2563/2563 [==============================] - 6s 2ms/step - loss: 0.5362 - val_loss: 0.7456\n",
            "Epoch 95/100\n",
            "2563/2563 [==============================] - 6s 2ms/step - loss: 0.5358 - val_loss: 0.7515\n",
            "Epoch 96/100\n",
            "2563/2563 [==============================] - 8s 3ms/step - loss: 0.5354 - val_loss: 0.7489\n",
            "Epoch 97/100\n",
            "2563/2563 [==============================] - 8s 3ms/step - loss: 0.5352 - val_loss: 0.7516\n",
            "Epoch 98/100\n",
            "2563/2563 [==============================] - 6s 2ms/step - loss: 0.5352 - val_loss: 0.7512\n",
            "Epoch 99/100\n",
            "2563/2563 [==============================] - 6s 2ms/step - loss: 0.5345 - val_loss: 0.7498\n",
            "Epoch 100/100\n",
            "2563/2563 [==============================] - 7s 3ms/step - loss: 0.5349 - val_loss: 0.7554\n"
          ]
        }
      ]
    },
    {
      "cell_type": "code",
      "source": [
        "pd.Series(history.history['val_loss'][10:]).plot(logy=False)\n",
        "plt.xlabel(\"Epoch\")\n",
        "plt.ylabel(\"Validation Error\")\n",
        "print('Minimum MSE: ', min(history.history['val_loss']))"
      ],
      "metadata": {
        "colab": {
          "base_uri": "https://localhost:8080/",
          "height": 297
        },
        "id": "XAJsAvuSKjt6",
        "outputId": "d75c52de-2fe0-4cc9-e000-4f2d4faf4c40"
      },
      "execution_count": 49,
      "outputs": [
        {
          "output_type": "stream",
          "name": "stdout",
          "text": [
            "Minimum MSE:  0.676782488822937\n"
          ]
        },
        {
          "output_type": "display_data",
          "data": {
            "text/plain": [
              "<Figure size 432x288 with 1 Axes>"
            ],
            "image/png": "[encoded data removed]"
          },
          "metadata": {
            "needs_background": "light"
          }
        }
      ]
    }
  ]
}