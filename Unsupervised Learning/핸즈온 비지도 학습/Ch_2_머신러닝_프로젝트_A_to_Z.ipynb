{
  "nbformat": 4,
  "nbformat_minor": 0,
  "metadata": {
    "colab": {
      "provenance": [],
      "authorship_tag": "ABX9TyNimopCKsWNg2TKh1U9u026",
      "include_colab_link": true
    },
    "kernelspec": {
      "name": "python3",
      "display_name": "Python 3"
    },
    "language_info": {
      "name": "python"
    }
  },
  "cells": [
    {
      "cell_type": "markdown",
      "metadata": {
        "id": "view-in-github",
        "colab_type": "text"
      },
      "source": [
        "<a href=\"https://colab.research.google.com/github/namwootree/Basic_Skill/blob/main/Unsupervised%20Learning/%ED%95%B8%EC%A6%88%EC%98%A8%20%EB%B9%84%EC%A7%80%EB%8F%84%20%ED%95%99%EC%8A%B5/Ch_2_%EB%A8%B8%EC%8B%A0%EB%9F%AC%EB%8B%9D_%ED%94%84%EB%A1%9C%EC%A0%9D%ED%8A%B8_A_to_Z.ipynb\" target=\"_parent\"><img src=\"https://colab.research.google.com/assets/colab-badge.svg\" alt=\"Open In Colab\"/></a>"
      ]
    },
    {
      "cell_type": "markdown",
      "source": [
        "# Setting"
      ],
      "metadata": {
        "id": "OY0OQIg4IccI"
      }
    },
    {
      "cell_type": "markdown",
      "source": [
        "## Google Drive Mount"
      ],
      "metadata": {
        "id": "qAt_iddcVuTV"
      }
    },
    {
      "cell_type": "code",
      "source": [
        "from google.colab import drive\n",
        "drive.mount('/content/drive')"
      ],
      "metadata": {
        "colab": {
          "base_uri": "https://localhost:8080/"
        },
        "id": "4rqiFHasVwWF",
        "outputId": "091ee032-2c26-4c03-cb3e-f76568be64fb"
      },
      "execution_count": null,
      "outputs": [
        {
          "output_type": "stream",
          "name": "stdout",
          "text": [
            "Mounted at /content/drive\n"
          ]
        }
      ]
    },
    {
      "cell_type": "markdown",
      "source": [
        "## Library"
      ],
      "metadata": {
        "id": "Bf5tO2a7Kskd"
      }
    },
    {
      "cell_type": "code",
      "source": [
        "import numpy as np\n",
        "import pandas as pd\n",
        "import os"
      ],
      "metadata": {
        "id": "e5UV_wvLKuOT"
      },
      "execution_count": null,
      "outputs": []
    },
    {
      "cell_type": "code",
      "source": [
        "import matplotlib as mpl\n",
        "import matplotlib.pyplot as plt\n",
        "import seaborn as sns\n",
        "color = sns.color_palette()"
      ],
      "metadata": {
        "id": "O4sqeEAnLEjp"
      },
      "execution_count": null,
      "outputs": []
    },
    {
      "cell_type": "code",
      "source": [
        "from sklearn.preprocessing import StandardScaler, MinMaxScaler, RobustScaler\n",
        "from scipy.stats import pearsonr\n",
        "from sklearn.model_selection import train_test_split, StratifiedKFold\n",
        "from sklearn.metrics import log_loss\n",
        "from sklearn.metrics import precision_recall_curve, average_precision_score\n",
        "from sklearn.metrics import roc_curve, auc, roc_auc_score\n",
        "from sklearn.metrics import confusion_matrix, classification_report"
      ],
      "metadata": {
        "id": "GpvtIl-6LNJ7"
      },
      "execution_count": null,
      "outputs": []
    },
    {
      "cell_type": "code",
      "source": [
        "from sklearn.linear_model import LogisticRegression\n",
        "from sklearn.ensemble import RandomForestClassifier\n",
        "import xgboost as xgb\n",
        "import lightgbm as lgb"
      ],
      "metadata": {
        "id": "Kcb5nQhxNyjs"
      },
      "execution_count": null,
      "outputs": []
    },
    {
      "cell_type": "markdown",
      "source": [
        "# Load Data Set"
      ],
      "metadata": {
        "id": "gfAo0p2xOJAr"
      }
    },
    {
      "cell_type": "code",
      "source": [
        "file_path = '/content/drive/MyDrive/머신러닝 엔지니어링/핸즈온 비지도 학습/data/creditcard.csv'\n",
        "\n",
        "data = pd.read_csv(file_path)"
      ],
      "metadata": {
        "id": "CFqwTdXXOqHE"
      },
      "execution_count": null,
      "outputs": []
    },
    {
      "cell_type": "code",
      "source": [
        "data.head()"
      ],
      "metadata": {
        "colab": {
          "base_uri": "https://localhost:8080/",
          "height": 299
        },
        "id": "bfWDZdDjWE-U",
        "outputId": "541c1924-16db-4e9d-8e8c-975ab99a0c33"
      },
      "execution_count": null,
      "outputs": [
        {
          "output_type": "execute_result",
          "data": {
            "text/plain": [
              "   Time        V1        V2        V3        V4        V5        V6        V7  \\\n",
              "0   0.0 -1.359807 -0.072781  2.536347  1.378155 -0.338321  0.462388  0.239599   \n",
              "1   0.0  1.191857  0.266151  0.166480  0.448154  0.060018 -0.082361 -0.078803   \n",
              "2   1.0 -1.358354 -1.340163  1.773209  0.379780 -0.503198  1.800499  0.791461   \n",
              "3   1.0 -0.966272 -0.185226  1.792993 -0.863291 -0.010309  1.247203  0.237609   \n",
              "4   2.0 -1.158233  0.877737  1.548718  0.403034 -0.407193  0.095921  0.592941   \n",
              "\n",
              "         V8        V9  ...       V21       V22       V23       V24       V25  \\\n",
              "0  0.098698  0.363787  ... -0.018307  0.277838 -0.110474  0.066928  0.128539   \n",
              "1  0.085102 -0.255425  ... -0.225775 -0.638672  0.101288 -0.339846  0.167170   \n",
              "2  0.247676 -1.514654  ...  0.247998  0.771679  0.909412 -0.689281 -0.327642   \n",
              "3  0.377436 -1.387024  ... -0.108300  0.005274 -0.190321 -1.175575  0.647376   \n",
              "4 -0.270533  0.817739  ... -0.009431  0.798278 -0.137458  0.141267 -0.206010   \n",
              "\n",
              "        V26       V27       V28  Amount  Class  \n",
              "0 -0.189115  0.133558 -0.021053  149.62      0  \n",
              "1  0.125895 -0.008983  0.014724    2.69      0  \n",
              "2 -0.139097 -0.055353 -0.059752  378.66      0  \n",
              "3 -0.221929  0.062723  0.061458  123.50      0  \n",
              "4  0.502292  0.219422  0.215153   69.99      0  \n",
              "\n",
              "[5 rows x 31 columns]"
            ],
            "text/html": [
              "\n",
              "  <div id=\"df-0bc3bb76-244d-4a67-a8ea-77a18a67b2e1\">\n",
              "    <div class=\"colab-df-container\">\n",
              "      <div>\n",
              "<style scoped>\n",
              "    .dataframe tbody tr th:only-of-type {\n",
              "        vertical-align: middle;\n",
              "    }\n",
              "\n",
              "    .dataframe tbody tr th {\n",
              "        vertical-align: top;\n",
              "    }\n",
              "\n",
              "    .dataframe thead th {\n",
              "        text-align: right;\n",
              "    }\n",
              "</style>\n",
              "<table border=\"1\" class=\"dataframe\">\n",
              "  <thead>\n",
              "    <tr style=\"text-align: right;\">\n",
              "      <th></th>\n",
              "      <th>Time</th>\n",
              "      <th>V1</th>\n",
              "      <th>V2</th>\n",
              "      <th>V3</th>\n",
              "      <th>V4</th>\n",
              "      <th>V5</th>\n",
              "      <th>V6</th>\n",
              "      <th>V7</th>\n",
              "      <th>V8</th>\n",
              "      <th>V9</th>\n",
              "      <th>...</th>\n",
              "      <th>V21</th>\n",
              "      <th>V22</th>\n",
              "      <th>V23</th>\n",
              "      <th>V24</th>\n",
              "      <th>V25</th>\n",
              "      <th>V26</th>\n",
              "      <th>V27</th>\n",
              "      <th>V28</th>\n",
              "      <th>Amount</th>\n",
              "      <th>Class</th>\n",
              "    </tr>\n",
              "  </thead>\n",
              "  <tbody>\n",
              "    <tr>\n",
              "      <th>0</th>\n",
              "      <td>0.0</td>\n",
              "      <td>-1.359807</td>\n",
              "      <td>-0.072781</td>\n",
              "      <td>2.536347</td>\n",
              "      <td>1.378155</td>\n",
              "      <td>-0.338321</td>\n",
              "      <td>0.462388</td>\n",
              "      <td>0.239599</td>\n",
              "      <td>0.098698</td>\n",
              "      <td>0.363787</td>\n",
              "      <td>...</td>\n",
              "      <td>-0.018307</td>\n",
              "      <td>0.277838</td>\n",
              "      <td>-0.110474</td>\n",
              "      <td>0.066928</td>\n",
              "      <td>0.128539</td>\n",
              "      <td>-0.189115</td>\n",
              "      <td>0.133558</td>\n",
              "      <td>-0.021053</td>\n",
              "      <td>149.62</td>\n",
              "      <td>0</td>\n",
              "    </tr>\n",
              "    <tr>\n",
              "      <th>1</th>\n",
              "      <td>0.0</td>\n",
              "      <td>1.191857</td>\n",
              "      <td>0.266151</td>\n",
              "      <td>0.166480</td>\n",
              "      <td>0.448154</td>\n",
              "      <td>0.060018</td>\n",
              "      <td>-0.082361</td>\n",
              "      <td>-0.078803</td>\n",
              "      <td>0.085102</td>\n",
              "      <td>-0.255425</td>\n",
              "      <td>...</td>\n",
              "      <td>-0.225775</td>\n",
              "      <td>-0.638672</td>\n",
              "      <td>0.101288</td>\n",
              "      <td>-0.339846</td>\n",
              "      <td>0.167170</td>\n",
              "      <td>0.125895</td>\n",
              "      <td>-0.008983</td>\n",
              "      <td>0.014724</td>\n",
              "      <td>2.69</td>\n",
              "      <td>0</td>\n",
              "    </tr>\n",
              "    <tr>\n",
              "      <th>2</th>\n",
              "      <td>1.0</td>\n",
              "      <td>-1.358354</td>\n",
              "      <td>-1.340163</td>\n",
              "      <td>1.773209</td>\n",
              "      <td>0.379780</td>\n",
              "      <td>-0.503198</td>\n",
              "      <td>1.800499</td>\n",
              "      <td>0.791461</td>\n",
              "      <td>0.247676</td>\n",
              "      <td>-1.514654</td>\n",
              "      <td>...</td>\n",
              "      <td>0.247998</td>\n",
              "      <td>0.771679</td>\n",
              "      <td>0.909412</td>\n",
              "      <td>-0.689281</td>\n",
              "      <td>-0.327642</td>\n",
              "      <td>-0.139097</td>\n",
              "      <td>-0.055353</td>\n",
              "      <td>-0.059752</td>\n",
              "      <td>378.66</td>\n",
              "      <td>0</td>\n",
              "    </tr>\n",
              "    <tr>\n",
              "      <th>3</th>\n",
              "      <td>1.0</td>\n",
              "      <td>-0.966272</td>\n",
              "      <td>-0.185226</td>\n",
              "      <td>1.792993</td>\n",
              "      <td>-0.863291</td>\n",
              "      <td>-0.010309</td>\n",
              "      <td>1.247203</td>\n",
              "      <td>0.237609</td>\n",
              "      <td>0.377436</td>\n",
              "      <td>-1.387024</td>\n",
              "      <td>...</td>\n",
              "      <td>-0.108300</td>\n",
              "      <td>0.005274</td>\n",
              "      <td>-0.190321</td>\n",
              "      <td>-1.175575</td>\n",
              "      <td>0.647376</td>\n",
              "      <td>-0.221929</td>\n",
              "      <td>0.062723</td>\n",
              "      <td>0.061458</td>\n",
              "      <td>123.50</td>\n",
              "      <td>0</td>\n",
              "    </tr>\n",
              "    <tr>\n",
              "      <th>4</th>\n",
              "      <td>2.0</td>\n",
              "      <td>-1.158233</td>\n",
              "      <td>0.877737</td>\n",
              "      <td>1.548718</td>\n",
              "      <td>0.403034</td>\n",
              "      <td>-0.407193</td>\n",
              "      <td>0.095921</td>\n",
              "      <td>0.592941</td>\n",
              "      <td>-0.270533</td>\n",
              "      <td>0.817739</td>\n",
              "      <td>...</td>\n",
              "      <td>-0.009431</td>\n",
              "      <td>0.798278</td>\n",
              "      <td>-0.137458</td>\n",
              "      <td>0.141267</td>\n",
              "      <td>-0.206010</td>\n",
              "      <td>0.502292</td>\n",
              "      <td>0.219422</td>\n",
              "      <td>0.215153</td>\n",
              "      <td>69.99</td>\n",
              "      <td>0</td>\n",
              "    </tr>\n",
              "  </tbody>\n",
              "</table>\n",
              "<p>5 rows × 31 columns</p>\n",
              "</div>\n",
              "      <button class=\"colab-df-convert\" onclick=\"convertToInteractive('df-0bc3bb76-244d-4a67-a8ea-77a18a67b2e1')\"\n",
              "              title=\"Convert this dataframe to an interactive table.\"\n",
              "              style=\"display:none;\">\n",
              "        \n",
              "  <svg xmlns=\"http://www.w3.org/2000/svg\" height=\"24px\"viewBox=\"0 0 24 24\"\n",
              "       width=\"24px\">\n",
              "    <path d=\"M0 0h24v24H0V0z\" fill=\"none\"/>\n",
              "    <path d=\"M18.56 5.44l.94 2.06.94-2.06 2.06-.94-2.06-.94-.94-2.06-.94 2.06-2.06.94zm-11 1L8.5 8.5l.94-2.06 2.06-.94-2.06-.94L8.5 2.5l-.94 2.06-2.06.94zm10 10l.94 2.06.94-2.06 2.06-.94-2.06-.94-.94-2.06-.94 2.06-2.06.94z\"/><path d=\"M17.41 7.96l-1.37-1.37c-.4-.4-.92-.59-1.43-.59-.52 0-1.04.2-1.43.59L10.3 9.45l-7.72 7.72c-.78.78-.78 2.05 0 2.83L4 21.41c.39.39.9.59 1.41.59.51 0 1.02-.2 1.41-.59l7.78-7.78 2.81-2.81c.8-.78.8-2.07 0-2.86zM5.41 20L4 18.59l7.72-7.72 1.47 1.35L5.41 20z\"/>\n",
              "  </svg>\n",
              "      </button>\n",
              "      \n",
              "  <style>\n",
              "    .colab-df-container {\n",
              "      display:flex;\n",
              "      flex-wrap:wrap;\n",
              "      gap: 12px;\n",
              "    }\n",
              "\n",
              "    .colab-df-convert {\n",
              "      background-color: #E8F0FE;\n",
              "      border: none;\n",
              "      border-radius: 50%;\n",
              "      cursor: pointer;\n",
              "      display: none;\n",
              "      fill: #1967D2;\n",
              "      height: 32px;\n",
              "      padding: 0 0 0 0;\n",
              "      width: 32px;\n",
              "    }\n",
              "\n",
              "    .colab-df-convert:hover {\n",
              "      background-color: #E2EBFA;\n",
              "      box-shadow: 0px 1px 2px rgba(60, 64, 67, 0.3), 0px 1px 3px 1px rgba(60, 64, 67, 0.15);\n",
              "      fill: #174EA6;\n",
              "    }\n",
              "\n",
              "    [theme=dark] .colab-df-convert {\n",
              "      background-color: #3B4455;\n",
              "      fill: #D2E3FC;\n",
              "    }\n",
              "\n",
              "    [theme=dark] .colab-df-convert:hover {\n",
              "      background-color: #434B5C;\n",
              "      box-shadow: 0px 1px 3px 1px rgba(0, 0, 0, 0.15);\n",
              "      filter: drop-shadow(0px 1px 2px rgba(0, 0, 0, 0.3));\n",
              "      fill: #FFFFFF;\n",
              "    }\n",
              "  </style>\n",
              "\n",
              "      <script>\n",
              "        const buttonEl =\n",
              "          document.querySelector('#df-0bc3bb76-244d-4a67-a8ea-77a18a67b2e1 button.colab-df-convert');\n",
              "        buttonEl.style.display =\n",
              "          google.colab.kernel.accessAllowed ? 'block' : 'none';\n",
              "\n",
              "        async function convertToInteractive(key) {\n",
              "          const element = document.querySelector('#df-0bc3bb76-244d-4a67-a8ea-77a18a67b2e1');\n",
              "          const dataTable =\n",
              "            await google.colab.kernel.invokeFunction('convertToInteractive',\n",
              "                                                     [key], {});\n",
              "          if (!dataTable) return;\n",
              "\n",
              "          const docLinkHtml = 'Like what you see? Visit the ' +\n",
              "            '<a target=\"_blank\" href=https://colab.research.google.com/notebooks/data_table.ipynb>data table notebook</a>'\n",
              "            + ' to learn more about interactive tables.';\n",
              "          element.innerHTML = '';\n",
              "          dataTable['output_type'] = 'display_data';\n",
              "          await google.colab.output.renderOutput(dataTable, element);\n",
              "          const docLink = document.createElement('div');\n",
              "          docLink.innerHTML = docLinkHtml;\n",
              "          element.appendChild(docLink);\n",
              "        }\n",
              "      </script>\n",
              "    </div>\n",
              "  </div>\n",
              "  "
            ]
          },
          "metadata": {},
          "execution_count": 7
        }
      ]
    },
    {
      "cell_type": "markdown",
      "source": [
        "# DDA"
      ],
      "metadata": {
        "id": "147Rs6oJWW1V"
      }
    },
    {
      "cell_type": "markdown",
      "source": [
        "## 데이터 개요"
      ],
      "metadata": {
        "id": "c2CHPgOaWwY1"
      }
    },
    {
      "cell_type": "code",
      "source": [
        "data.shape"
      ],
      "metadata": {
        "colab": {
          "base_uri": "https://localhost:8080/"
        },
        "id": "VnA6UgTlW4fo",
        "outputId": "3e512585-d206-4e16-f104-5e85db1a9fde"
      },
      "execution_count": null,
      "outputs": [
        {
          "output_type": "execute_result",
          "data": {
            "text/plain": [
              "(284807, 31)"
            ]
          },
          "metadata": {},
          "execution_count": 8
        }
      ]
    },
    {
      "cell_type": "code",
      "source": [
        "data.describe()"
      ],
      "metadata": {
        "colab": {
          "base_uri": "https://localhost:8080/",
          "height": 428
        },
        "id": "VcdP6WvaWF4G",
        "outputId": "86d68d4c-2ece-451c-8491-e7c29f58108a"
      },
      "execution_count": null,
      "outputs": [
        {
          "output_type": "execute_result",
          "data": {
            "text/plain": [
              "                Time            V1            V2            V3            V4  \\\n",
              "count  284807.000000  2.848070e+05  2.848070e+05  2.848070e+05  2.848070e+05   \n",
              "mean    94813.859575  1.168375e-15  3.416908e-16 -1.379537e-15  2.074095e-15   \n",
              "std     47488.145955  1.958696e+00  1.651309e+00  1.516255e+00  1.415869e+00   \n",
              "min         0.000000 -5.640751e+01 -7.271573e+01 -4.832559e+01 -5.683171e+00   \n",
              "25%     54201.500000 -9.203734e-01 -5.985499e-01 -8.903648e-01 -8.486401e-01   \n",
              "50%     84692.000000  1.810880e-02  6.548556e-02  1.798463e-01 -1.984653e-02   \n",
              "75%    139320.500000  1.315642e+00  8.037239e-01  1.027196e+00  7.433413e-01   \n",
              "max    172792.000000  2.454930e+00  2.205773e+01  9.382558e+00  1.687534e+01   \n",
              "\n",
              "                 V5            V6            V7            V8            V9  \\\n",
              "count  2.848070e+05  2.848070e+05  2.848070e+05  2.848070e+05  2.848070e+05   \n",
              "mean   9.604066e-16  1.487313e-15 -5.556467e-16  1.213481e-16 -2.406331e-15   \n",
              "std    1.380247e+00  1.332271e+00  1.237094e+00  1.194353e+00  1.098632e+00   \n",
              "min   -1.137433e+02 -2.616051e+01 -4.355724e+01 -7.321672e+01 -1.343407e+01   \n",
              "25%   -6.915971e-01 -7.682956e-01 -5.540759e-01 -2.086297e-01 -6.430976e-01   \n",
              "50%   -5.433583e-02 -2.741871e-01  4.010308e-02  2.235804e-02 -5.142873e-02   \n",
              "75%    6.119264e-01  3.985649e-01  5.704361e-01  3.273459e-01  5.971390e-01   \n",
              "max    3.480167e+01  7.330163e+01  1.205895e+02  2.000721e+01  1.559499e+01   \n",
              "\n",
              "       ...           V21           V22           V23           V24  \\\n",
              "count  ...  2.848070e+05  2.848070e+05  2.848070e+05  2.848070e+05   \n",
              "mean   ...  1.654067e-16 -3.568593e-16  2.578648e-16  4.473266e-15   \n",
              "std    ...  7.345240e-01  7.257016e-01  6.244603e-01  6.056471e-01   \n",
              "min    ... -3.483038e+01 -1.093314e+01 -4.480774e+01 -2.836627e+00   \n",
              "25%    ... -2.283949e-01 -5.423504e-01 -1.618463e-01 -3.545861e-01   \n",
              "50%    ... -2.945017e-02  6.781943e-03 -1.119293e-02  4.097606e-02   \n",
              "75%    ...  1.863772e-01  5.285536e-01  1.476421e-01  4.395266e-01   \n",
              "max    ...  2.720284e+01  1.050309e+01  2.252841e+01  4.584549e+00   \n",
              "\n",
              "                V25           V26           V27           V28         Amount  \\\n",
              "count  2.848070e+05  2.848070e+05  2.848070e+05  2.848070e+05  284807.000000   \n",
              "mean   5.340915e-16  1.683437e-15 -3.660091e-16 -1.227390e-16      88.349619   \n",
              "std    5.212781e-01  4.822270e-01  4.036325e-01  3.300833e-01     250.120109   \n",
              "min   -1.029540e+01 -2.604551e+00 -2.256568e+01 -1.543008e+01       0.000000   \n",
              "25%   -3.171451e-01 -3.269839e-01 -7.083953e-02 -5.295979e-02       5.600000   \n",
              "50%    1.659350e-02 -5.213911e-02  1.342146e-03  1.124383e-02      22.000000   \n",
              "75%    3.507156e-01  2.409522e-01  9.104512e-02  7.827995e-02      77.165000   \n",
              "max    7.519589e+00  3.517346e+00  3.161220e+01  3.384781e+01   25691.160000   \n",
              "\n",
              "               Class  \n",
              "count  284807.000000  \n",
              "mean        0.001727  \n",
              "std         0.041527  \n",
              "min         0.000000  \n",
              "25%         0.000000  \n",
              "50%         0.000000  \n",
              "75%         0.000000  \n",
              "max         1.000000  \n",
              "\n",
              "[8 rows x 31 columns]"
            ],
            "text/html": [
              "\n",
              "  <div id=\"df-20642115-a762-458b-ac46-9179436dd509\">\n",
              "    <div class=\"colab-df-container\">\n",
              "      <div>\n",
              "<style scoped>\n",
              "    .dataframe tbody tr th:only-of-type {\n",
              "        vertical-align: middle;\n",
              "    }\n",
              "\n",
              "    .dataframe tbody tr th {\n",
              "        vertical-align: top;\n",
              "    }\n",
              "\n",
              "    .dataframe thead th {\n",
              "        text-align: right;\n",
              "    }\n",
              "</style>\n",
              "<table border=\"1\" class=\"dataframe\">\n",
              "  <thead>\n",
              "    <tr style=\"text-align: right;\">\n",
              "      <th></th>\n",
              "      <th>Time</th>\n",
              "      <th>V1</th>\n",
              "      <th>V2</th>\n",
              "      <th>V3</th>\n",
              "      <th>V4</th>\n",
              "      <th>V5</th>\n",
              "      <th>V6</th>\n",
              "      <th>V7</th>\n",
              "      <th>V8</th>\n",
              "      <th>V9</th>\n",
              "      <th>...</th>\n",
              "      <th>V21</th>\n",
              "      <th>V22</th>\n",
              "      <th>V23</th>\n",
              "      <th>V24</th>\n",
              "      <th>V25</th>\n",
              "      <th>V26</th>\n",
              "      <th>V27</th>\n",
              "      <th>V28</th>\n",
              "      <th>Amount</th>\n",
              "      <th>Class</th>\n",
              "    </tr>\n",
              "  </thead>\n",
              "  <tbody>\n",
              "    <tr>\n",
              "      <th>count</th>\n",
              "      <td>284807.000000</td>\n",
              "      <td>2.848070e+05</td>\n",
              "      <td>2.848070e+05</td>\n",
              "      <td>2.848070e+05</td>\n",
              "      <td>2.848070e+05</td>\n",
              "      <td>2.848070e+05</td>\n",
              "      <td>2.848070e+05</td>\n",
              "      <td>2.848070e+05</td>\n",
              "      <td>2.848070e+05</td>\n",
              "      <td>2.848070e+05</td>\n",
              "      <td>...</td>\n",
              "      <td>2.848070e+05</td>\n",
              "      <td>2.848070e+05</td>\n",
              "      <td>2.848070e+05</td>\n",
              "      <td>2.848070e+05</td>\n",
              "      <td>2.848070e+05</td>\n",
              "      <td>2.848070e+05</td>\n",
              "      <td>2.848070e+05</td>\n",
              "      <td>2.848070e+05</td>\n",
              "      <td>284807.000000</td>\n",
              "      <td>284807.000000</td>\n",
              "    </tr>\n",
              "    <tr>\n",
              "      <th>mean</th>\n",
              "      <td>94813.859575</td>\n",
              "      <td>1.168375e-15</td>\n",
              "      <td>3.416908e-16</td>\n",
              "      <td>-1.379537e-15</td>\n",
              "      <td>2.074095e-15</td>\n",
              "      <td>9.604066e-16</td>\n",
              "      <td>1.487313e-15</td>\n",
              "      <td>-5.556467e-16</td>\n",
              "      <td>1.213481e-16</td>\n",
              "      <td>-2.406331e-15</td>\n",
              "      <td>...</td>\n",
              "      <td>1.654067e-16</td>\n",
              "      <td>-3.568593e-16</td>\n",
              "      <td>2.578648e-16</td>\n",
              "      <td>4.473266e-15</td>\n",
              "      <td>5.340915e-16</td>\n",
              "      <td>1.683437e-15</td>\n",
              "      <td>-3.660091e-16</td>\n",
              "      <td>-1.227390e-16</td>\n",
              "      <td>88.349619</td>\n",
              "      <td>0.001727</td>\n",
              "    </tr>\n",
              "    <tr>\n",
              "      <th>std</th>\n",
              "      <td>47488.145955</td>\n",
              "      <td>1.958696e+00</td>\n",
              "      <td>1.651309e+00</td>\n",
              "      <td>1.516255e+00</td>\n",
              "      <td>1.415869e+00</td>\n",
              "      <td>1.380247e+00</td>\n",
              "      <td>1.332271e+00</td>\n",
              "      <td>1.237094e+00</td>\n",
              "      <td>1.194353e+00</td>\n",
              "      <td>1.098632e+00</td>\n",
              "      <td>...</td>\n",
              "      <td>7.345240e-01</td>\n",
              "      <td>7.257016e-01</td>\n",
              "      <td>6.244603e-01</td>\n",
              "      <td>6.056471e-01</td>\n",
              "      <td>5.212781e-01</td>\n",
              "      <td>4.822270e-01</td>\n",
              "      <td>4.036325e-01</td>\n",
              "      <td>3.300833e-01</td>\n",
              "      <td>250.120109</td>\n",
              "      <td>0.041527</td>\n",
              "    </tr>\n",
              "    <tr>\n",
              "      <th>min</th>\n",
              "      <td>0.000000</td>\n",
              "      <td>-5.640751e+01</td>\n",
              "      <td>-7.271573e+01</td>\n",
              "      <td>-4.832559e+01</td>\n",
              "      <td>-5.683171e+00</td>\n",
              "      <td>-1.137433e+02</td>\n",
              "      <td>-2.616051e+01</td>\n",
              "      <td>-4.355724e+01</td>\n",
              "      <td>-7.321672e+01</td>\n",
              "      <td>-1.343407e+01</td>\n",
              "      <td>...</td>\n",
              "      <td>-3.483038e+01</td>\n",
              "      <td>-1.093314e+01</td>\n",
              "      <td>-4.480774e+01</td>\n",
              "      <td>-2.836627e+00</td>\n",
              "      <td>-1.029540e+01</td>\n",
              "      <td>-2.604551e+00</td>\n",
              "      <td>-2.256568e+01</td>\n",
              "      <td>-1.543008e+01</td>\n",
              "      <td>0.000000</td>\n",
              "      <td>0.000000</td>\n",
              "    </tr>\n",
              "    <tr>\n",
              "      <th>25%</th>\n",
              "      <td>54201.500000</td>\n",
              "      <td>-9.203734e-01</td>\n",
              "      <td>-5.985499e-01</td>\n",
              "      <td>-8.903648e-01</td>\n",
              "      <td>-8.486401e-01</td>\n",
              "      <td>-6.915971e-01</td>\n",
              "      <td>-7.682956e-01</td>\n",
              "      <td>-5.540759e-01</td>\n",
              "      <td>-2.086297e-01</td>\n",
              "      <td>-6.430976e-01</td>\n",
              "      <td>...</td>\n",
              "      <td>-2.283949e-01</td>\n",
              "      <td>-5.423504e-01</td>\n",
              "      <td>-1.618463e-01</td>\n",
              "      <td>-3.545861e-01</td>\n",
              "      <td>-3.171451e-01</td>\n",
              "      <td>-3.269839e-01</td>\n",
              "      <td>-7.083953e-02</td>\n",
              "      <td>-5.295979e-02</td>\n",
              "      <td>5.600000</td>\n",
              "      <td>0.000000</td>\n",
              "    </tr>\n",
              "    <tr>\n",
              "      <th>50%</th>\n",
              "      <td>84692.000000</td>\n",
              "      <td>1.810880e-02</td>\n",
              "      <td>6.548556e-02</td>\n",
              "      <td>1.798463e-01</td>\n",
              "      <td>-1.984653e-02</td>\n",
              "      <td>-5.433583e-02</td>\n",
              "      <td>-2.741871e-01</td>\n",
              "      <td>4.010308e-02</td>\n",
              "      <td>2.235804e-02</td>\n",
              "      <td>-5.142873e-02</td>\n",
              "      <td>...</td>\n",
              "      <td>-2.945017e-02</td>\n",
              "      <td>6.781943e-03</td>\n",
              "      <td>-1.119293e-02</td>\n",
              "      <td>4.097606e-02</td>\n",
              "      <td>1.659350e-02</td>\n",
              "      <td>-5.213911e-02</td>\n",
              "      <td>1.342146e-03</td>\n",
              "      <td>1.124383e-02</td>\n",
              "      <td>22.000000</td>\n",
              "      <td>0.000000</td>\n",
              "    </tr>\n",
              "    <tr>\n",
              "      <th>75%</th>\n",
              "      <td>139320.500000</td>\n",
              "      <td>1.315642e+00</td>\n",
              "      <td>8.037239e-01</td>\n",
              "      <td>1.027196e+00</td>\n",
              "      <td>7.433413e-01</td>\n",
              "      <td>6.119264e-01</td>\n",
              "      <td>3.985649e-01</td>\n",
              "      <td>5.704361e-01</td>\n",
              "      <td>3.273459e-01</td>\n",
              "      <td>5.971390e-01</td>\n",
              "      <td>...</td>\n",
              "      <td>1.863772e-01</td>\n",
              "      <td>5.285536e-01</td>\n",
              "      <td>1.476421e-01</td>\n",
              "      <td>4.395266e-01</td>\n",
              "      <td>3.507156e-01</td>\n",
              "      <td>2.409522e-01</td>\n",
              "      <td>9.104512e-02</td>\n",
              "      <td>7.827995e-02</td>\n",
              "      <td>77.165000</td>\n",
              "      <td>0.000000</td>\n",
              "    </tr>\n",
              "    <tr>\n",
              "      <th>max</th>\n",
              "      <td>172792.000000</td>\n",
              "      <td>2.454930e+00</td>\n",
              "      <td>2.205773e+01</td>\n",
              "      <td>9.382558e+00</td>\n",
              "      <td>1.687534e+01</td>\n",
              "      <td>3.480167e+01</td>\n",
              "      <td>7.330163e+01</td>\n",
              "      <td>1.205895e+02</td>\n",
              "      <td>2.000721e+01</td>\n",
              "      <td>1.559499e+01</td>\n",
              "      <td>...</td>\n",
              "      <td>2.720284e+01</td>\n",
              "      <td>1.050309e+01</td>\n",
              "      <td>2.252841e+01</td>\n",
              "      <td>4.584549e+00</td>\n",
              "      <td>7.519589e+00</td>\n",
              "      <td>3.517346e+00</td>\n",
              "      <td>3.161220e+01</td>\n",
              "      <td>3.384781e+01</td>\n",
              "      <td>25691.160000</td>\n",
              "      <td>1.000000</td>\n",
              "    </tr>\n",
              "  </tbody>\n",
              "</table>\n",
              "<p>8 rows × 31 columns</p>\n",
              "</div>\n",
              "      <button class=\"colab-df-convert\" onclick=\"convertToInteractive('df-20642115-a762-458b-ac46-9179436dd509')\"\n",
              "              title=\"Convert this dataframe to an interactive table.\"\n",
              "              style=\"display:none;\">\n",
              "        \n",
              "  <svg xmlns=\"http://www.w3.org/2000/svg\" height=\"24px\"viewBox=\"0 0 24 24\"\n",
              "       width=\"24px\">\n",
              "    <path d=\"M0 0h24v24H0V0z\" fill=\"none\"/>\n",
              "    <path d=\"M18.56 5.44l.94 2.06.94-2.06 2.06-.94-2.06-.94-.94-2.06-.94 2.06-2.06.94zm-11 1L8.5 8.5l.94-2.06 2.06-.94-2.06-.94L8.5 2.5l-.94 2.06-2.06.94zm10 10l.94 2.06.94-2.06 2.06-.94-2.06-.94-.94-2.06-.94 2.06-2.06.94z\"/><path d=\"M17.41 7.96l-1.37-1.37c-.4-.4-.92-.59-1.43-.59-.52 0-1.04.2-1.43.59L10.3 9.45l-7.72 7.72c-.78.78-.78 2.05 0 2.83L4 21.41c.39.39.9.59 1.41.59.51 0 1.02-.2 1.41-.59l7.78-7.78 2.81-2.81c.8-.78.8-2.07 0-2.86zM5.41 20L4 18.59l7.72-7.72 1.47 1.35L5.41 20z\"/>\n",
              "  </svg>\n",
              "      </button>\n",
              "      \n",
              "  <style>\n",
              "    .colab-df-container {\n",
              "      display:flex;\n",
              "      flex-wrap:wrap;\n",
              "      gap: 12px;\n",
              "    }\n",
              "\n",
              "    .colab-df-convert {\n",
              "      background-color: #E8F0FE;\n",
              "      border: none;\n",
              "      border-radius: 50%;\n",
              "      cursor: pointer;\n",
              "      display: none;\n",
              "      fill: #1967D2;\n",
              "      height: 32px;\n",
              "      padding: 0 0 0 0;\n",
              "      width: 32px;\n",
              "    }\n",
              "\n",
              "    .colab-df-convert:hover {\n",
              "      background-color: #E2EBFA;\n",
              "      box-shadow: 0px 1px 2px rgba(60, 64, 67, 0.3), 0px 1px 3px 1px rgba(60, 64, 67, 0.15);\n",
              "      fill: #174EA6;\n",
              "    }\n",
              "\n",
              "    [theme=dark] .colab-df-convert {\n",
              "      background-color: #3B4455;\n",
              "      fill: #D2E3FC;\n",
              "    }\n",
              "\n",
              "    [theme=dark] .colab-df-convert:hover {\n",
              "      background-color: #434B5C;\n",
              "      box-shadow: 0px 1px 3px 1px rgba(0, 0, 0, 0.15);\n",
              "      filter: drop-shadow(0px 1px 2px rgba(0, 0, 0, 0.3));\n",
              "      fill: #FFFFFF;\n",
              "    }\n",
              "  </style>\n",
              "\n",
              "      <script>\n",
              "        const buttonEl =\n",
              "          document.querySelector('#df-20642115-a762-458b-ac46-9179436dd509 button.colab-df-convert');\n",
              "        buttonEl.style.display =\n",
              "          google.colab.kernel.accessAllowed ? 'block' : 'none';\n",
              "\n",
              "        async function convertToInteractive(key) {\n",
              "          const element = document.querySelector('#df-20642115-a762-458b-ac46-9179436dd509');\n",
              "          const dataTable =\n",
              "            await google.colab.kernel.invokeFunction('convertToInteractive',\n",
              "                                                     [key], {});\n",
              "          if (!dataTable) return;\n",
              "\n",
              "          const docLinkHtml = 'Like what you see? Visit the ' +\n",
              "            '<a target=\"_blank\" href=https://colab.research.google.com/notebooks/data_table.ipynb>data table notebook</a>'\n",
              "            + ' to learn more about interactive tables.';\n",
              "          element.innerHTML = '';\n",
              "          dataTable['output_type'] = 'display_data';\n",
              "          await google.colab.output.renderOutput(dataTable, element);\n",
              "          const docLink = document.createElement('div');\n",
              "          docLink.innerHTML = docLinkHtml;\n",
              "          element.appendChild(docLink);\n",
              "        }\n",
              "      </script>\n",
              "    </div>\n",
              "  </div>\n",
              "  "
            ]
          },
          "metadata": {},
          "execution_count": 9
        }
      ]
    },
    {
      "cell_type": "code",
      "source": [
        "data.columns"
      ],
      "metadata": {
        "colab": {
          "base_uri": "https://localhost:8080/"
        },
        "id": "lnO9xjKIWOCo",
        "outputId": "692b3b22-5533-4d0e-9017-2a5dcb763a08"
      },
      "execution_count": null,
      "outputs": [
        {
          "output_type": "execute_result",
          "data": {
            "text/plain": [
              "Index(['Time', 'V1', 'V2', 'V3', 'V4', 'V5', 'V6', 'V7', 'V8', 'V9', 'V10',\n",
              "       'V11', 'V12', 'V13', 'V14', 'V15', 'V16', 'V17', 'V18', 'V19', 'V20',\n",
              "       'V21', 'V22', 'V23', 'V24', 'V25', 'V26', 'V27', 'V28', 'Amount',\n",
              "       'Class'],\n",
              "      dtype='object')"
            ]
          },
          "metadata": {},
          "execution_count": 10
        }
      ]
    },
    {
      "cell_type": "code",
      "source": [
        "data['Class'].value_counts()"
      ],
      "metadata": {
        "colab": {
          "base_uri": "https://localhost:8080/"
        },
        "id": "TQC4GAkCWRkv",
        "outputId": "2be19b00-ac8d-423b-e350-d7a791abe99d"
      },
      "execution_count": null,
      "outputs": [
        {
          "output_type": "execute_result",
          "data": {
            "text/plain": [
              "0    284315\n",
              "1       492\n",
              "Name: Class, dtype: int64"
            ]
          },
          "metadata": {},
          "execution_count": 11
        }
      ]
    },
    {
      "cell_type": "markdown",
      "source": [
        "## 결측치 확인"
      ],
      "metadata": {
        "id": "UoYnarnhWtD_"
      }
    },
    {
      "cell_type": "code",
      "source": [
        "data.isnull().sum()"
      ],
      "metadata": {
        "colab": {
          "base_uri": "https://localhost:8080/"
        },
        "id": "wSRRWHMnWfjA",
        "outputId": "402984b8-2e06-43f0-8a42-4c45f955035d"
      },
      "execution_count": null,
      "outputs": [
        {
          "output_type": "execute_result",
          "data": {
            "text/plain": [
              "Time      0\n",
              "V1        0\n",
              "V2        0\n",
              "V3        0\n",
              "V4        0\n",
              "V5        0\n",
              "V6        0\n",
              "V7        0\n",
              "V8        0\n",
              "V9        0\n",
              "V10       0\n",
              "V11       0\n",
              "V12       0\n",
              "V13       0\n",
              "V14       0\n",
              "V15       0\n",
              "V16       0\n",
              "V17       0\n",
              "V18       0\n",
              "V19       0\n",
              "V20       0\n",
              "V21       0\n",
              "V22       0\n",
              "V23       0\n",
              "V24       0\n",
              "V25       0\n",
              "V26       0\n",
              "V27       0\n",
              "V28       0\n",
              "Amount    0\n",
              "Class     0\n",
              "dtype: int64"
            ]
          },
          "metadata": {},
          "execution_count": 12
        }
      ]
    },
    {
      "cell_type": "markdown",
      "source": [
        "## 데이터 고유값 확인"
      ],
      "metadata": {
        "id": "FVLss75IW2nE"
      }
    },
    {
      "cell_type": "code",
      "source": [
        "data.apply(lambda x : len(x.unique()))"
      ],
      "metadata": {
        "colab": {
          "base_uri": "https://localhost:8080/"
        },
        "id": "dmdrpjPjWqC3",
        "outputId": "69eba527-3221-44a1-9f54-400126599133"
      },
      "execution_count": null,
      "outputs": [
        {
          "output_type": "execute_result",
          "data": {
            "text/plain": [
              "Time      124592\n",
              "V1        275663\n",
              "V2        275663\n",
              "V3        275663\n",
              "V4        275663\n",
              "V5        275663\n",
              "V6        275663\n",
              "V7        275663\n",
              "V8        275663\n",
              "V9        275663\n",
              "V10       275663\n",
              "V11       275663\n",
              "V12       275663\n",
              "V13       275663\n",
              "V14       275663\n",
              "V15       275663\n",
              "V16       275663\n",
              "V17       275663\n",
              "V18       275663\n",
              "V19       275663\n",
              "V20       275663\n",
              "V21       275663\n",
              "V22       275663\n",
              "V23       275663\n",
              "V24       275663\n",
              "V25       275663\n",
              "V26       275663\n",
              "V27       275663\n",
              "V28       275663\n",
              "Amount     32767\n",
              "Class          2\n",
              "dtype: int64"
            ]
          },
          "metadata": {},
          "execution_count": 13
        }
      ]
    },
    {
      "cell_type": "markdown",
      "source": [
        "# 표준화"
      ],
      "metadata": {
        "id": "zBJAVYR0XF4g"
      }
    },
    {
      "cell_type": "code",
      "source": [
        "X = data.copy().drop(columns='Class')\n",
        "y = data['Class'].copy()"
      ],
      "metadata": {
        "id": "tm_FBm44W9QE"
      },
      "execution_count": null,
      "outputs": []
    },
    {
      "cell_type": "code",
      "source": [
        "Features2Scale = X.drop(columns='Time').columns\n",
        "scaler = StandardScaler(copy=True)\n",
        "X.loc[:,Features2Scale] = scaler.fit_transform(X[Features2Scale])"
      ],
      "metadata": {
        "id": "_OHkihN3XPLB"
      },
      "execution_count": null,
      "outputs": []
    },
    {
      "cell_type": "code",
      "source": [
        "X.describe()"
      ],
      "metadata": {
        "colab": {
          "base_uri": "https://localhost:8080/",
          "height": 411
        },
        "id": "wAfbhPzgXsaI",
        "outputId": "3a66c433-4769-4ebd-9063-7ab65268ce15"
      },
      "execution_count": null,
      "outputs": [
        {
          "output_type": "execute_result",
          "data": {
            "text/plain": [
              "                Time            V1            V2            V3            V4  \\\n",
              "count  284807.000000  2.848070e+05  2.848070e+05  2.848070e+05  2.848070e+05   \n",
              "mean    94813.859575 -1.506872e-17 -9.580116e-18 -8.622104e-17 -5.189230e-18   \n",
              "std     47488.145955  1.000002e+00  1.000002e+00  1.000002e+00  1.000002e+00   \n",
              "min         0.000000 -2.879855e+01 -4.403529e+01 -3.187173e+01 -4.013919e+00   \n",
              "25%     54201.500000 -4.698918e-01 -3.624707e-01 -5.872142e-01 -5.993788e-01   \n",
              "50%     84692.000000  9.245351e-03  3.965683e-02  1.186124e-01 -1.401724e-02   \n",
              "75%    139320.500000  6.716939e-01  4.867202e-01  6.774569e-01  5.250082e-01   \n",
              "max    172792.000000  1.253351e+00  1.335775e+01  6.187993e+00  1.191874e+01   \n",
              "\n",
              "                 V5            V6            V7            V8            V9  \\\n",
              "count  2.848070e+05  2.848070e+05  2.848070e+05  2.848070e+05  2.848070e+05   \n",
              "mean   3.832046e-17  9.979288e-18  1.237432e-17 -3.193372e-18  7.234983e-19   \n",
              "std    1.000002e+00  1.000002e+00  1.000002e+00  1.000002e+00  1.000002e+00   \n",
              "min   -8.240810e+01 -1.963606e+01 -3.520940e+01 -6.130252e+01 -1.222802e+01   \n",
              "25%   -5.010686e-01 -5.766822e-01 -4.478860e-01 -1.746805e-01 -5.853631e-01   \n",
              "50%   -3.936682e-02 -2.058046e-01  3.241723e-02  1.871982e-02 -4.681169e-02   \n",
              "75%    4.433465e-01  2.991625e-01  4.611107e-01  2.740785e-01  5.435305e-01   \n",
              "max    2.521413e+01  5.502015e+01  9.747824e+01  1.675153e+01  1.419494e+01   \n",
              "\n",
              "       ...           V20           V21           V22           V23  \\\n",
              "count  ...  2.848070e+05  2.848070e+05  2.848070e+05  2.848070e+05   \n",
              "mean   ... -1.247411e-18 -3.642440e-18  3.193372e-18  8.781773e-18   \n",
              "std    ...  1.000002e+00  1.000002e+00  1.000002e+00  1.000002e+00   \n",
              "min    ... -7.069146e+01 -4.741907e+01 -1.506565e+01 -7.175446e+01   \n",
              "25%    ... -2.746334e-01 -3.109433e-01 -7.473476e-01 -2.591784e-01   \n",
              "50%    ... -8.104705e-02 -4.009429e-02  9.345377e-03 -1.792420e-02   \n",
              "75%    ...  1.725733e-01  2.537392e-01  7.283360e-01  2.364319e-01   \n",
              "max    ...  5.113464e+01  3.703471e+01  1.447304e+01  3.607668e+01   \n",
              "\n",
              "                V24           V25           V26           V27           V28  \\\n",
              "count  2.848070e+05  2.848070e+05  2.848070e+05  2.848070e+05  2.848070e+05   \n",
              "mean   9.580116e-18 -5.029561e-17  5.887780e-18  2.444925e-18 -7.908585e-18   \n",
              "std    1.000002e+00  1.000002e+00  1.000002e+00  1.000002e+00  1.000002e+00   \n",
              "min   -4.683638e+00 -1.975033e+01 -5.401098e+00 -5.590660e+01 -4.674612e+01   \n",
              "25%   -5.854676e-01 -6.084001e-01 -6.780717e-01 -1.755053e-01 -1.604440e-01   \n",
              "50%    6.765678e-02  3.183240e-02 -1.081217e-01  3.325174e-03  3.406368e-02   \n",
              "75%    7.257153e-01  6.728006e-01  4.996663e-01  2.255648e-01  2.371526e-01   \n",
              "max    7.569684e+00  1.442532e+01  7.293975e+00  7.831940e+01  1.025434e+02   \n",
              "\n",
              "             Amount  \n",
              "count  2.848070e+05  \n",
              "mean   2.913952e-17  \n",
              "std    1.000002e+00  \n",
              "min   -3.532294e-01  \n",
              "25%   -3.308401e-01  \n",
              "50%   -2.652715e-01  \n",
              "75%   -4.471707e-02  \n",
              "max    1.023622e+02  \n",
              "\n",
              "[8 rows x 30 columns]"
            ],
            "text/html": [
              "\n",
              "  <div id=\"df-fde1c9f4-e06a-4969-bde7-937bb1376f11\">\n",
              "    <div class=\"colab-df-container\">\n",
              "      <div>\n",
              "<style scoped>\n",
              "    .dataframe tbody tr th:only-of-type {\n",
              "        vertical-align: middle;\n",
              "    }\n",
              "\n",
              "    .dataframe tbody tr th {\n",
              "        vertical-align: top;\n",
              "    }\n",
              "\n",
              "    .dataframe thead th {\n",
              "        text-align: right;\n",
              "    }\n",
              "</style>\n",
              "<table border=\"1\" class=\"dataframe\">\n",
              "  <thead>\n",
              "    <tr style=\"text-align: right;\">\n",
              "      <th></th>\n",
              "      <th>Time</th>\n",
              "      <th>V1</th>\n",
              "      <th>V2</th>\n",
              "      <th>V3</th>\n",
              "      <th>V4</th>\n",
              "      <th>V5</th>\n",
              "      <th>V6</th>\n",
              "      <th>V7</th>\n",
              "      <th>V8</th>\n",
              "      <th>V9</th>\n",
              "      <th>...</th>\n",
              "      <th>V20</th>\n",
              "      <th>V21</th>\n",
              "      <th>V22</th>\n",
              "      <th>V23</th>\n",
              "      <th>V24</th>\n",
              "      <th>V25</th>\n",
              "      <th>V26</th>\n",
              "      <th>V27</th>\n",
              "      <th>V28</th>\n",
              "      <th>Amount</th>\n",
              "    </tr>\n",
              "  </thead>\n",
              "  <tbody>\n",
              "    <tr>\n",
              "      <th>count</th>\n",
              "      <td>284807.000000</td>\n",
              "      <td>2.848070e+05</td>\n",
              "      <td>2.848070e+05</td>\n",
              "      <td>2.848070e+05</td>\n",
              "      <td>2.848070e+05</td>\n",
              "      <td>2.848070e+05</td>\n",
              "      <td>2.848070e+05</td>\n",
              "      <td>2.848070e+05</td>\n",
              "      <td>2.848070e+05</td>\n",
              "      <td>2.848070e+05</td>\n",
              "      <td>...</td>\n",
              "      <td>2.848070e+05</td>\n",
              "      <td>2.848070e+05</td>\n",
              "      <td>2.848070e+05</td>\n",
              "      <td>2.848070e+05</td>\n",
              "      <td>2.848070e+05</td>\n",
              "      <td>2.848070e+05</td>\n",
              "      <td>2.848070e+05</td>\n",
              "      <td>2.848070e+05</td>\n",
              "      <td>2.848070e+05</td>\n",
              "      <td>2.848070e+05</td>\n",
              "    </tr>\n",
              "    <tr>\n",
              "      <th>mean</th>\n",
              "      <td>94813.859575</td>\n",
              "      <td>-1.506872e-17</td>\n",
              "      <td>-9.580116e-18</td>\n",
              "      <td>-8.622104e-17</td>\n",
              "      <td>-5.189230e-18</td>\n",
              "      <td>3.832046e-17</td>\n",
              "      <td>9.979288e-18</td>\n",
              "      <td>1.237432e-17</td>\n",
              "      <td>-3.193372e-18</td>\n",
              "      <td>7.234983e-19</td>\n",
              "      <td>...</td>\n",
              "      <td>-1.247411e-18</td>\n",
              "      <td>-3.642440e-18</td>\n",
              "      <td>3.193372e-18</td>\n",
              "      <td>8.781773e-18</td>\n",
              "      <td>9.580116e-18</td>\n",
              "      <td>-5.029561e-17</td>\n",
              "      <td>5.887780e-18</td>\n",
              "      <td>2.444925e-18</td>\n",
              "      <td>-7.908585e-18</td>\n",
              "      <td>2.913952e-17</td>\n",
              "    </tr>\n",
              "    <tr>\n",
              "      <th>std</th>\n",
              "      <td>47488.145955</td>\n",
              "      <td>1.000002e+00</td>\n",
              "      <td>1.000002e+00</td>\n",
              "      <td>1.000002e+00</td>\n",
              "      <td>1.000002e+00</td>\n",
              "      <td>1.000002e+00</td>\n",
              "      <td>1.000002e+00</td>\n",
              "      <td>1.000002e+00</td>\n",
              "      <td>1.000002e+00</td>\n",
              "      <td>1.000002e+00</td>\n",
              "      <td>...</td>\n",
              "      <td>1.000002e+00</td>\n",
              "      <td>1.000002e+00</td>\n",
              "      <td>1.000002e+00</td>\n",
              "      <td>1.000002e+00</td>\n",
              "      <td>1.000002e+00</td>\n",
              "      <td>1.000002e+00</td>\n",
              "      <td>1.000002e+00</td>\n",
              "      <td>1.000002e+00</td>\n",
              "      <td>1.000002e+00</td>\n",
              "      <td>1.000002e+00</td>\n",
              "    </tr>\n",
              "    <tr>\n",
              "      <th>min</th>\n",
              "      <td>0.000000</td>\n",
              "      <td>-2.879855e+01</td>\n",
              "      <td>-4.403529e+01</td>\n",
              "      <td>-3.187173e+01</td>\n",
              "      <td>-4.013919e+00</td>\n",
              "      <td>-8.240810e+01</td>\n",
              "      <td>-1.963606e+01</td>\n",
              "      <td>-3.520940e+01</td>\n",
              "      <td>-6.130252e+01</td>\n",
              "      <td>-1.222802e+01</td>\n",
              "      <td>...</td>\n",
              "      <td>-7.069146e+01</td>\n",
              "      <td>-4.741907e+01</td>\n",
              "      <td>-1.506565e+01</td>\n",
              "      <td>-7.175446e+01</td>\n",
              "      <td>-4.683638e+00</td>\n",
              "      <td>-1.975033e+01</td>\n",
              "      <td>-5.401098e+00</td>\n",
              "      <td>-5.590660e+01</td>\n",
              "      <td>-4.674612e+01</td>\n",
              "      <td>-3.532294e-01</td>\n",
              "    </tr>\n",
              "    <tr>\n",
              "      <th>25%</th>\n",
              "      <td>54201.500000</td>\n",
              "      <td>-4.698918e-01</td>\n",
              "      <td>-3.624707e-01</td>\n",
              "      <td>-5.872142e-01</td>\n",
              "      <td>-5.993788e-01</td>\n",
              "      <td>-5.010686e-01</td>\n",
              "      <td>-5.766822e-01</td>\n",
              "      <td>-4.478860e-01</td>\n",
              "      <td>-1.746805e-01</td>\n",
              "      <td>-5.853631e-01</td>\n",
              "      <td>...</td>\n",
              "      <td>-2.746334e-01</td>\n",
              "      <td>-3.109433e-01</td>\n",
              "      <td>-7.473476e-01</td>\n",
              "      <td>-2.591784e-01</td>\n",
              "      <td>-5.854676e-01</td>\n",
              "      <td>-6.084001e-01</td>\n",
              "      <td>-6.780717e-01</td>\n",
              "      <td>-1.755053e-01</td>\n",
              "      <td>-1.604440e-01</td>\n",
              "      <td>-3.308401e-01</td>\n",
              "    </tr>\n",
              "    <tr>\n",
              "      <th>50%</th>\n",
              "      <td>84692.000000</td>\n",
              "      <td>9.245351e-03</td>\n",
              "      <td>3.965683e-02</td>\n",
              "      <td>1.186124e-01</td>\n",
              "      <td>-1.401724e-02</td>\n",
              "      <td>-3.936682e-02</td>\n",
              "      <td>-2.058046e-01</td>\n",
              "      <td>3.241723e-02</td>\n",
              "      <td>1.871982e-02</td>\n",
              "      <td>-4.681169e-02</td>\n",
              "      <td>...</td>\n",
              "      <td>-8.104705e-02</td>\n",
              "      <td>-4.009429e-02</td>\n",
              "      <td>9.345377e-03</td>\n",
              "      <td>-1.792420e-02</td>\n",
              "      <td>6.765678e-02</td>\n",
              "      <td>3.183240e-02</td>\n",
              "      <td>-1.081217e-01</td>\n",
              "      <td>3.325174e-03</td>\n",
              "      <td>3.406368e-02</td>\n",
              "      <td>-2.652715e-01</td>\n",
              "    </tr>\n",
              "    <tr>\n",
              "      <th>75%</th>\n",
              "      <td>139320.500000</td>\n",
              "      <td>6.716939e-01</td>\n",
              "      <td>4.867202e-01</td>\n",
              "      <td>6.774569e-01</td>\n",
              "      <td>5.250082e-01</td>\n",
              "      <td>4.433465e-01</td>\n",
              "      <td>2.991625e-01</td>\n",
              "      <td>4.611107e-01</td>\n",
              "      <td>2.740785e-01</td>\n",
              "      <td>5.435305e-01</td>\n",
              "      <td>...</td>\n",
              "      <td>1.725733e-01</td>\n",
              "      <td>2.537392e-01</td>\n",
              "      <td>7.283360e-01</td>\n",
              "      <td>2.364319e-01</td>\n",
              "      <td>7.257153e-01</td>\n",
              "      <td>6.728006e-01</td>\n",
              "      <td>4.996663e-01</td>\n",
              "      <td>2.255648e-01</td>\n",
              "      <td>2.371526e-01</td>\n",
              "      <td>-4.471707e-02</td>\n",
              "    </tr>\n",
              "    <tr>\n",
              "      <th>max</th>\n",
              "      <td>172792.000000</td>\n",
              "      <td>1.253351e+00</td>\n",
              "      <td>1.335775e+01</td>\n",
              "      <td>6.187993e+00</td>\n",
              "      <td>1.191874e+01</td>\n",
              "      <td>2.521413e+01</td>\n",
              "      <td>5.502015e+01</td>\n",
              "      <td>9.747824e+01</td>\n",
              "      <td>1.675153e+01</td>\n",
              "      <td>1.419494e+01</td>\n",
              "      <td>...</td>\n",
              "      <td>5.113464e+01</td>\n",
              "      <td>3.703471e+01</td>\n",
              "      <td>1.447304e+01</td>\n",
              "      <td>3.607668e+01</td>\n",
              "      <td>7.569684e+00</td>\n",
              "      <td>1.442532e+01</td>\n",
              "      <td>7.293975e+00</td>\n",
              "      <td>7.831940e+01</td>\n",
              "      <td>1.025434e+02</td>\n",
              "      <td>1.023622e+02</td>\n",
              "    </tr>\n",
              "  </tbody>\n",
              "</table>\n",
              "<p>8 rows × 30 columns</p>\n",
              "</div>\n",
              "      <button class=\"colab-df-convert\" onclick=\"convertToInteractive('df-fde1c9f4-e06a-4969-bde7-937bb1376f11')\"\n",
              "              title=\"Convert this dataframe to an interactive table.\"\n",
              "              style=\"display:none;\">\n",
              "        \n",
              "  <svg xmlns=\"http://www.w3.org/2000/svg\" height=\"24px\"viewBox=\"0 0 24 24\"\n",
              "       width=\"24px\">\n",
              "    <path d=\"M0 0h24v24H0V0z\" fill=\"none\"/>\n",
              "    <path d=\"M18.56 5.44l.94 2.06.94-2.06 2.06-.94-2.06-.94-.94-2.06-.94 2.06-2.06.94zm-11 1L8.5 8.5l.94-2.06 2.06-.94-2.06-.94L8.5 2.5l-.94 2.06-2.06.94zm10 10l.94 2.06.94-2.06 2.06-.94-2.06-.94-.94-2.06-.94 2.06-2.06.94z\"/><path d=\"M17.41 7.96l-1.37-1.37c-.4-.4-.92-.59-1.43-.59-.52 0-1.04.2-1.43.59L10.3 9.45l-7.72 7.72c-.78.78-.78 2.05 0 2.83L4 21.41c.39.39.9.59 1.41.59.51 0 1.02-.2 1.41-.59l7.78-7.78 2.81-2.81c.8-.78.8-2.07 0-2.86zM5.41 20L4 18.59l7.72-7.72 1.47 1.35L5.41 20z\"/>\n",
              "  </svg>\n",
              "      </button>\n",
              "      \n",
              "  <style>\n",
              "    .colab-df-container {\n",
              "      display:flex;\n",
              "      flex-wrap:wrap;\n",
              "      gap: 12px;\n",
              "    }\n",
              "\n",
              "    .colab-df-convert {\n",
              "      background-color: #E8F0FE;\n",
              "      border: none;\n",
              "      border-radius: 50%;\n",
              "      cursor: pointer;\n",
              "      display: none;\n",
              "      fill: #1967D2;\n",
              "      height: 32px;\n",
              "      padding: 0 0 0 0;\n",
              "      width: 32px;\n",
              "    }\n",
              "\n",
              "    .colab-df-convert:hover {\n",
              "      background-color: #E2EBFA;\n",
              "      box-shadow: 0px 1px 2px rgba(60, 64, 67, 0.3), 0px 1px 3px 1px rgba(60, 64, 67, 0.15);\n",
              "      fill: #174EA6;\n",
              "    }\n",
              "\n",
              "    [theme=dark] .colab-df-convert {\n",
              "      background-color: #3B4455;\n",
              "      fill: #D2E3FC;\n",
              "    }\n",
              "\n",
              "    [theme=dark] .colab-df-convert:hover {\n",
              "      background-color: #434B5C;\n",
              "      box-shadow: 0px 1px 3px 1px rgba(0, 0, 0, 0.15);\n",
              "      filter: drop-shadow(0px 1px 2px rgba(0, 0, 0, 0.3));\n",
              "      fill: #FFFFFF;\n",
              "    }\n",
              "  </style>\n",
              "\n",
              "      <script>\n",
              "        const buttonEl =\n",
              "          document.querySelector('#df-fde1c9f4-e06a-4969-bde7-937bb1376f11 button.colab-df-convert');\n",
              "        buttonEl.style.display =\n",
              "          google.colab.kernel.accessAllowed ? 'block' : 'none';\n",
              "\n",
              "        async function convertToInteractive(key) {\n",
              "          const element = document.querySelector('#df-fde1c9f4-e06a-4969-bde7-937bb1376f11');\n",
              "          const dataTable =\n",
              "            await google.colab.kernel.invokeFunction('convertToInteractive',\n",
              "                                                     [key], {});\n",
              "          if (!dataTable) return;\n",
              "\n",
              "          const docLinkHtml = 'Like what you see? Visit the ' +\n",
              "            '<a target=\"_blank\" href=https://colab.research.google.com/notebooks/data_table.ipynb>data table notebook</a>'\n",
              "            + ' to learn more about interactive tables.';\n",
              "          element.innerHTML = '';\n",
              "          dataTable['output_type'] = 'display_data';\n",
              "          await google.colab.output.renderOutput(dataTable, element);\n",
              "          const docLink = document.createElement('div');\n",
              "          docLink.innerHTML = docLinkHtml;\n",
              "          element.appendChild(docLink);\n",
              "        }\n",
              "      </script>\n",
              "    </div>\n",
              "  </div>\n",
              "  "
            ]
          },
          "metadata": {},
          "execution_count": 16
        }
      ]
    },
    {
      "cell_type": "markdown",
      "source": [
        "# 시각화"
      ],
      "metadata": {
        "id": "eDLloagUZPCh"
      }
    },
    {
      "cell_type": "markdown",
      "source": [
        "## 상관계수"
      ],
      "metadata": {
        "id": "ra1LazGacXAf"
      }
    },
    {
      "cell_type": "code",
      "source": [
        "sns.heatmap(X.corr())"
      ],
      "metadata": {
        "colab": {
          "base_uri": "https://localhost:8080/",
          "height": 302
        },
        "id": "Qh8_tdqIZNpv",
        "outputId": "6af22d91-6de4-404b-8523-83ce8fedbf3e"
      },
      "execution_count": null,
      "outputs": [
        {
          "output_type": "execute_result",
          "data": {
            "text/plain": [
              "<matplotlib.axes._subplots.AxesSubplot at 0x7fb81c5fba90>"
            ]
          },
          "metadata": {},
          "execution_count": 17
        },
        {
          "output_type": "display_data",
          "data": {
            "text/plain": [
              "<Figure size 432x288 with 2 Axes>"
            ],
            "image/png": "[encoded data removed]"
          },
          "metadata": {
            "needs_background": "light"
          }
        }
      ]
    },
    {
      "cell_type": "markdown",
      "source": [
        "## 데이터 불균형"
      ],
      "metadata": {
        "id": "PCjUrZEVcYec"
      }
    },
    {
      "cell_type": "code",
      "source": [
        "count_class = pd.DataFrame(data['Class'].value_counts()).T\n",
        "count_class_ratio = count_class.apply(lambda x : x / len(data))\n",
        "\n",
        "ax = sns.barplot(data=count_class_ratio)\n",
        "ax.set_title('Frequency Percentage by Class')\n",
        "ax.set_xlabel('Class')\n",
        "ax.set_ylabel('Frequency Percentage')"
      ],
      "metadata": {
        "colab": {
          "base_uri": "https://localhost:8080/",
          "height": 313
        },
        "id": "gEnoKMzNaZdc",
        "outputId": "297a2162-99f4-489d-d68f-4c35120d8bfe"
      },
      "execution_count": null,
      "outputs": [
        {
          "output_type": "execute_result",
          "data": {
            "text/plain": [
              "Text(0, 0.5, 'Frequency Percentage')"
            ]
          },
          "metadata": {},
          "execution_count": 18
        },
        {
          "output_type": "display_data",
          "data": {
            "text/plain": [
              "<Figure size 432x288 with 1 Axes>"
            ],
            "image/png": "[encoded data removed]"
          },
          "metadata": {
            "needs_background": "light"
          }
        }
      ]
    },
    {
      "cell_type": "markdown",
      "source": [
        "# 모델링"
      ],
      "metadata": {
        "id": "UutTnuClcbza"
      }
    },
    {
      "cell_type": "markdown",
      "source": [
        "## Train / Test Data set"
      ],
      "metadata": {
        "id": "hYrs4tL-eEna"
      }
    },
    {
      "cell_type": "code",
      "source": [
        "X_train, X_test, y_train, y_test = train_test_split(X, y,\n",
        "                                                    test_size=0.33,\n",
        "                                                    stratify=y,\n",
        "                                                    random_state=2022)"
      ],
      "metadata": {
        "id": "D4bQEmxXZ4HW"
      },
      "execution_count": null,
      "outputs": []
    },
    {
      "cell_type": "code",
      "source": [
        "print(X_train.shape)\n",
        "print(X_test.shape)\n",
        "print(y_train.shape)\n",
        "print(y_test.shape)"
      ],
      "metadata": {
        "colab": {
          "base_uri": "https://localhost:8080/"
        },
        "id": "ZzV6Mi9Sduiz",
        "outputId": "9892d9bd-81b1-4f77-a9d4-87281ebce385"
      },
      "execution_count": null,
      "outputs": [
        {
          "output_type": "stream",
          "name": "stdout",
          "text": [
            "(190820, 30)\n",
            "(93987, 30)\n",
            "(190820,)\n",
            "(93987,)\n"
          ]
        }
      ]
    },
    {
      "cell_type": "markdown",
      "source": [
        "## Stratified KFold"
      ],
      "metadata": {
        "id": "O0t2qcRFeJeJ"
      }
    },
    {
      "cell_type": "code",
      "source": [
        "KFold = StratifiedKFold(n_splits=5, shuffle=True, random_state=2022)"
      ],
      "metadata": {
        "id": "zKEPIVvYd_m0"
      },
      "execution_count": null,
      "outputs": []
    },
    {
      "cell_type": "markdown",
      "source": [
        "## 재귀 함수"
      ],
      "metadata": {
        "id": "plg70DXSm4TS"
      }
    },
    {
      "cell_type": "code",
      "source": [
        "def train_model(model):\n",
        "\n",
        "  predictionsBasedOnKFolds = pd.DataFrame(data=[],\n",
        "                                          index=y_train.index,columns=[0,1])\n",
        "\n",
        "  trainingScores = []\n",
        "  cvScores = []\n",
        "\n",
        "  model = model\n",
        "\n",
        "  num_fold = 0\n",
        "\n",
        "  for train_index, cv_index in KFold.split(np.zeros(len(X_train)) ,y_train.ravel()):\n",
        "\n",
        "      X_train_fold, X_cv_fold = X_train.iloc[train_index,:], X_train.iloc[cv_index,:]\n",
        "      y_train_fold, y_cv_fold = y_train.iloc[train_index], y_train.iloc[cv_index]\n",
        "      \n",
        "      model.fit(X_train_fold, y_train_fold)\n",
        "\n",
        "      loglossTraining = log_loss(y_train_fold, \n",
        "                                model.predict_proba(X_train_fold)[:,1])\n",
        "      \n",
        "      trainingScores.append(loglossTraining)\n",
        "      \n",
        "      predictionsBasedOnKFolds.loc[X_cv_fold.index,:] = model.predict_proba(X_cv_fold) \n",
        "\n",
        "      loglossCV = log_loss(y_cv_fold, \n",
        "                          predictionsBasedOnKFolds.loc[X_cv_fold.index,1])\n",
        "      \n",
        "      cvScores.append(loglossCV)\n",
        "\n",
        "      print(f'\\nFold Num : {num_fold}\\n')\n",
        "      \n",
        "      print('Training Log Loss: ', loglossTraining)\n",
        "      print('CV Log Loss: ', loglossCV)\n",
        "\n",
        "      num_fold += 1\n",
        "      \n",
        "  logloss = log_loss(y_train, predictionsBasedOnKFolds.loc[:,1])\n",
        "\n",
        "  print(f'\\nLog Loss : {logloss}\\n')\n",
        "\n",
        "  dict_result = {'train log loss':trainingScores, 'cv log loss':cvScores}\n",
        "  df_result = pd.DataFrame(dict_result)\n",
        "\n",
        "  sns.lineplot(data=df_result)\n",
        "  plt.show()\n",
        "\n",
        "  return model, trainingScores, cvScores, predictionsBasedOnKFolds"
      ],
      "metadata": {
        "id": "bNhZqCiZm6Qs"
      },
      "execution_count": null,
      "outputs": []
    },
    {
      "cell_type": "code",
      "source": [
        "def ROC_Curve(predictionsBasedOnKFolds):\n",
        "  preds = pd.concat([y_train,predictionsBasedOnKFolds.loc[:,1]], axis=1)\n",
        "  preds.columns = ['trueLabel','prediction']\n",
        "  predictionsBasedOnKFolds = preds.copy()\n",
        "\n",
        "  precision, recall, thresholds = precision_recall_curve(preds['trueLabel'],\n",
        "                                                       preds['prediction'])\n",
        "  \n",
        "  average_precision = average_precision_score(preds['trueLabel'],\n",
        "                                            preds['prediction'])\n",
        "  \n",
        "  plt.step(recall, precision, color='k', alpha=0.7, where='post')\n",
        "  plt.fill_between(recall, precision, step='post', alpha=0.3, color='k')\n",
        "\n",
        "  plt.xlabel('Recall')\n",
        "  plt.ylabel('Precision')\n",
        "  plt.ylim([0.0, 1.05])\n",
        "  plt.xlim([0.0, 1.0])\n",
        "\n",
        "  plt.title('Precision-Recall curve: Average Precision = {0:0.2f}'.format(\n",
        "            average_precision))\n",
        "  \n",
        "  plt.show()\n",
        "\n",
        "  fpr, tpr, thresholds = roc_curve(preds['trueLabel'],preds['prediction'])\n",
        "  areaUnderROC = auc(fpr, tpr)\n",
        "\n",
        "  plt.figure()\n",
        "  plt.plot(fpr, tpr, color='r', lw=2, label='ROC curve')\n",
        "  plt.plot([0, 1], [0, 1], color='k', lw=2, linestyle='--')\n",
        "  plt.xlim([0.0, 1.0])\n",
        "  plt.ylim([0.0, 1.05])\n",
        "  plt.xlabel('False Positive Rate')\n",
        "  plt.ylabel('True Positive Rate')\n",
        "  plt.title('Receiver operating characteristic: \\\n",
        "            Area under the curve = {0:0.2f}'.format(areaUnderROC))\n",
        "  plt.legend(loc=\"lower right\")\n",
        "  plt.show()"
      ],
      "metadata": {
        "id": "b8xOgg-XofdK"
      },
      "execution_count": null,
      "outputs": []
    },
    {
      "cell_type": "markdown",
      "source": [
        "## 로지스틱 회귀"
      ],
      "metadata": {
        "id": "EAIUaMdpl0Ec"
      }
    },
    {
      "cell_type": "markdown",
      "source": [
        "### 하이퍼파라미터 설정"
      ],
      "metadata": {
        "id": "TMqVfEBMedDr"
      }
    },
    {
      "cell_type": "code",
      "source": [
        "params = {\n",
        "    'penalty':'l2',\n",
        "    'C':1.0,\n",
        "    'class_weight':'balanced',\n",
        "    'random_state':2022,\n",
        "    'solver':'liblinear'\n",
        "}"
      ],
      "metadata": {
        "id": "or0y9lCpeZhl"
      },
      "execution_count": null,
      "outputs": []
    },
    {
      "cell_type": "code",
      "source": [
        "logReg = LogisticRegression(**params)"
      ],
      "metadata": {
        "id": "wYAtc3Yvew4g"
      },
      "execution_count": null,
      "outputs": []
    },
    {
      "cell_type": "markdown",
      "source": [
        "### 모델 훈련"
      ],
      "metadata": {
        "id": "VX9-dxcWe-eV"
      }
    },
    {
      "cell_type": "code",
      "source": [
        "logReg, trainingScores, cvScores, predictionsBasedOnKFoldsLogisticRegression = train_model(logReg)"
      ],
      "metadata": {
        "colab": {
          "base_uri": "https://localhost:8080/",
          "height": 764
        },
        "id": "WfKH33VUnhwT",
        "outputId": "57f3a2fd-1928-4cc7-9ac4-382a261f290e"
      },
      "execution_count": null,
      "outputs": [
        {
          "output_type": "stream",
          "name": "stdout",
          "text": [
            "\n",
            "Fold Num : 0\n",
            "\n",
            "Training Log Loss:  0.09839308835254075\n",
            "CV Log Loss:  0.10055683484607718\n",
            "\n",
            "Fold Num : 1\n",
            "\n",
            "Training Log Loss:  0.11072169086468958\n",
            "CV Log Loss:  0.10600489054131258\n",
            "\n",
            "Fold Num : 2\n",
            "\n",
            "Training Log Loss:  0.10767747110413665\n",
            "CV Log Loss:  0.11145414371481409\n",
            "\n",
            "Fold Num : 3\n",
            "\n",
            "Training Log Loss:  0.09703330707004298\n",
            "CV Log Loss:  0.09250518419187248\n",
            "\n",
            "Fold Num : 4\n",
            "\n",
            "Training Log Loss:  0.0973737497143742\n",
            "CV Log Loss:  0.1041293625976699\n",
            "\n",
            "Log Loss : 0.10293008317834927\n",
            "\n"
          ]
        },
        {
          "output_type": "display_data",
          "data": {
            "text/plain": [
              "<Figure size 432x288 with 1 Axes>"
            ],
            "image/png": "[encoded data removed]"
          },
          "metadata": {
            "needs_background": "light"
          }
        }
      ]
    },
    {
      "cell_type": "markdown",
      "source": [
        "### 평가 지표"
      ],
      "metadata": {
        "id": "RDIAWAFujybf"
      }
    },
    {
      "cell_type": "code",
      "source": [
        "ROC_Curve(predictionsBasedOnKFoldsLogisticRegression)"
      ],
      "metadata": {
        "colab": {
          "base_uri": "https://localhost:8080/",
          "height": 573
        },
        "id": "9uB8fXlqoiyb",
        "outputId": "f3d8c76d-6627-4471-b220-f7091ed333a3"
      },
      "execution_count": null,
      "outputs": [
        {
          "output_type": "display_data",
          "data": {
            "text/plain": [
              "<Figure size 432x288 with 1 Axes>"
            ],
            "image/png": "[encoded data removed]"
          },
          "metadata": {
            "needs_background": "light"
          }
        },
        {
          "output_type": "display_data",
          "data": {
            "text/plain": [
              "<Figure size 432x288 with 1 Axes>"
            ],
            "image/png": "[encoded data removed]"
          },
          "metadata": {
            "needs_background": "light"
          }
        }
      ]
    },
    {
      "cell_type": "markdown",
      "source": [
        "## 랜덤 포레스트"
      ],
      "metadata": {
        "id": "D_lCJWMol-Gf"
      }
    },
    {
      "cell_type": "markdown",
      "source": [
        "### 하이퍼 파라미터 설정"
      ],
      "metadata": {
        "id": "iCZDTp30mBTE"
      }
    },
    {
      "cell_type": "code",
      "source": [
        "params = {\n",
        "    'n_estimators':10,\n",
        "    'max_features':'auto',\n",
        "    'max_depth':None,\n",
        "    'min_samples_split':2,\n",
        "    'min_samples_leaf':1,\n",
        "    'min_weight_fraction_leaf':0.0,\n",
        "    'max_leaf_nodes':None,\n",
        "    'bootstrap':True,\n",
        "    'oob_score':False,\n",
        "    'random_state':2022,\n",
        "    'class_weight':'balanced'\n",
        "}"
      ],
      "metadata": {
        "id": "XzzH1GozllB9"
      },
      "execution_count": null,
      "outputs": []
    },
    {
      "cell_type": "code",
      "source": [
        "RFC = RandomForestClassifier(**params)"
      ],
      "metadata": {
        "id": "5-rzZ8u2mph6"
      },
      "execution_count": null,
      "outputs": []
    },
    {
      "cell_type": "markdown",
      "source": [
        "### 모델 훈련"
      ],
      "metadata": {
        "id": "eZNzN6cApFF7"
      }
    },
    {
      "cell_type": "code",
      "source": [
        "RFC, trainingScores, cvScores, predictionsBasedOnKFoldsRandomForests = train_model(RFC)"
      ],
      "metadata": {
        "colab": {
          "base_uri": "https://localhost:8080/",
          "height": 764
        },
        "id": "bE5k6bk9mxLS",
        "outputId": "8760406c-3aa2-48a2-8eee-a9861bcde66d"
      },
      "execution_count": null,
      "outputs": [
        {
          "output_type": "stream",
          "name": "stdout",
          "text": [
            "\n",
            "Fold Num : 0\n",
            "\n",
            "Training Log Loss:  0.0004092330581893481\n",
            "CV Log Loss:  0.010075418344035055\n",
            "\n",
            "Fold Num : 1\n",
            "\n",
            "Training Log Loss:  0.0004469069746501158\n",
            "CV Log Loss:  0.005365227447236179\n",
            "\n",
            "Fold Num : 2\n",
            "\n",
            "Training Log Loss:  0.00041263740331328683\n",
            "CV Log Loss:  0.009905961137116281\n",
            "\n",
            "Fold Num : 3\n",
            "\n",
            "Training Log Loss:  0.0003913144945438703\n",
            "CV Log Loss:  0.013584236242116575\n",
            "\n",
            "Fold Num : 4\n",
            "\n",
            "Training Log Loss:  0.00040718446809675894\n",
            "CV Log Loss:  0.016345449170458288\n",
            "\n",
            "Log Loss : 0.011055258468192474\n",
            "\n"
          ]
        },
        {
          "output_type": "display_data",
          "data": {
            "text/plain": [
              "<Figure size 432x288 with 1 Axes>"
            ],
            "image/png": "[encoded data removed]"
          },
          "metadata": {
            "needs_background": "light"
          }
        }
      ]
    },
    {
      "cell_type": "markdown",
      "source": [
        "### 평가 지표"
      ],
      "metadata": {
        "id": "wt-r6aibpHND"
      }
    },
    {
      "cell_type": "code",
      "source": [
        "ROC_Curve(predictionsBasedOnKFoldsRandomForests)"
      ],
      "metadata": {
        "colab": {
          "base_uri": "https://localhost:8080/",
          "height": 573
        },
        "id": "XBNlyTGDpGXm",
        "outputId": "13a38503-379b-4dad-f4cc-3622367530b7"
      },
      "execution_count": null,
      "outputs": [
        {
          "output_type": "display_data",
          "data": {
            "text/plain": [
              "<Figure size 432x288 with 1 Axes>"
            ],
            "image/png": "[encoded data removed]"
          },
          "metadata": {
            "needs_background": "light"
          }
        },
        {
          "output_type": "display_data",
          "data": {
            "text/plain": [
              "<Figure size 432x288 with 1 Axes>"
            ],
            "image/png": "[encoded data removed]"
          },
          "metadata": {
            "needs_background": "light"
          }
        }
      ]
    },
    {
      "cell_type": "markdown",
      "source": [
        "## XGB"
      ],
      "metadata": {
        "id": "H_uYqaqSpPJh"
      }
    },
    {
      "cell_type": "markdown",
      "source": [
        "### 하이퍼 파라미터 설정"
      ],
      "metadata": {
        "id": "gJJi5hQQpYkL"
      }
    },
    {
      "cell_type": "code",
      "source": [
        "params = {\n",
        "    'nthread':16, # 코어 수\n",
        "    'learning rate': 0.3, # 학습률 : 범위 (0 ~ 1) , 디폴트 0.3\n",
        "    'gamma': 0, # 감마 : 범위 (0 ~ 무한대) , 디폴트 0\n",
        "        # 이 값이 높으면 복잡성이 감소(편향 증가, 변동 감소) \n",
        "    'max_depth': 6, # max_depth : 범위 (1 ~ 무한대) , 디폴트 6 ## 트리의 최대 깊이\n",
        "    'min_child_weight': 1, # min_child_weight : 범위 (0 ~ 무한대) , 디폴트 1 ## 자식노드에 필요한 가중치의 최소 합계\n",
        "    'max_delta_step': 0, # max_delta_step : 범위 (0 ~ 무한대) ,  디폴트 0 ## 각 트리의 가중치 추정을 위한 최대 델타 단계\n",
        "    'subsample': 1.0, # subsample : 범위 (0 ~ 1) , 디폴트 1\n",
        "        # 훈련 데이터의 샘플링 비율\n",
        "    'colsample_bytree': 1.0, # colsample_bytree : 범위 (0 ~ 1) , 디폴트 1\n",
        "        # 훈련 피쳐의 샘플링 비율\n",
        "    'objective':'binary:logistic',\n",
        "    'num_class':1,\n",
        "    'eval_metric':'logloss',\n",
        "    'seed':2018,\n",
        "    'silent':1\n",
        "}"
      ],
      "metadata": {
        "id": "s3wJRDUNpMJN"
      },
      "execution_count": null,
      "outputs": []
    },
    {
      "cell_type": "code",
      "source": [
        "xgbClass = xgb.XGBRFClassifier(**params)"
      ],
      "metadata": {
        "id": "ABe2-qkBpbBo"
      },
      "execution_count": null,
      "outputs": []
    },
    {
      "cell_type": "markdown",
      "source": [
        "### 모델 훈련"
      ],
      "metadata": {
        "id": "kYaDNOG8psw4"
      }
    },
    {
      "cell_type": "code",
      "source": [
        "xgbClass, trainingScores, cvScores, predictionsBasedOnKFoldsXGBoostGradientBoosting = train_model(xgbClass)"
      ],
      "metadata": {
        "colab": {
          "base_uri": "https://localhost:8080/",
          "height": 764
        },
        "id": "Iwxd6wnfprEl",
        "outputId": "92b3dce3-0ed8-4e32-eb75-0173ab45f736"
      },
      "execution_count": null,
      "outputs": [
        {
          "output_type": "stream",
          "name": "stdout",
          "text": [
            "\n",
            "Fold Num : 0\n",
            "\n",
            "Training Log Loss:  0.12785296392370438\n",
            "CV Log Loss:  0.12810867586644564\n",
            "\n",
            "Fold Num : 1\n",
            "\n",
            "Training Log Loss:  0.12796790680004005\n",
            "CV Log Loss:  0.12781376745777667\n",
            "\n",
            "Fold Num : 2\n",
            "\n",
            "Training Log Loss:  0.1279246756044029\n",
            "CV Log Loss:  0.12796583086416163\n",
            "\n",
            "Fold Num : 3\n",
            "\n",
            "Training Log Loss:  0.1278491648625258\n",
            "CV Log Loss:  0.12817064329369918\n",
            "\n",
            "Fold Num : 4\n",
            "\n",
            "Training Log Loss:  0.12777906627996627\n",
            "CV Log Loss:  0.12854839569328635\n",
            "\n",
            "Log Loss : 0.1281214626350739\n",
            "\n"
          ]
        },
        {
          "output_type": "display_data",
          "data": {
            "text/plain": [
              "<Figure size 432x288 with 1 Axes>"
            ],
            "image/png": "[encoded data removed]"
          },
          "metadata": {
            "needs_background": "light"
          }
        }
      ]
    },
    {
      "cell_type": "markdown",
      "source": [
        "### 평가 지표"
      ],
      "metadata": {
        "id": "4EjV0hYzpv6S"
      }
    },
    {
      "cell_type": "code",
      "source": [
        "ROC_Curve(predictionsBasedOnKFoldsXGBoostGradientBoosting)"
      ],
      "metadata": {
        "colab": {
          "base_uri": "https://localhost:8080/",
          "height": 573
        },
        "id": "GjOyPTXIpvgX",
        "outputId": "ac78dea1-b6dc-4cc5-9302-d8e768448471"
      },
      "execution_count": null,
      "outputs": [
        {
          "output_type": "display_data",
          "data": {
            "text/plain": [
              "<Figure size 432x288 with 1 Axes>"
            ],
            "image/png": "[encoded data removed]"
          },
          "metadata": {
            "needs_background": "light"
          }
        },
        {
          "output_type": "display_data",
          "data": {
            "text/plain": [
              "<Figure size 432x288 with 1 Axes>"
            ],
            "image/png": "[encoded data removed]"
          },
          "metadata": {
            "needs_background": "light"
          }
        }
      ]
    },
    {
      "cell_type": "markdown",
      "source": [
        "## LGBM"
      ],
      "metadata": {
        "id": "0-eFCHsMqNzC"
      }
    },
    {
      "cell_type": "markdown",
      "source": [
        "### 하이퍼 파라미터 설정"
      ],
      "metadata": {
        "id": "FoJaEAE9qeV-"
      }
    },
    {
      "cell_type": "code",
      "source": [
        "params = {\n",
        "    'task': 'train',\n",
        "    'application':'binary',\n",
        "    'num_class':1,\n",
        "    'boosting': 'gbdt',\n",
        "    'objective': 'binary',\n",
        "    'metric': 'binary_logloss',\n",
        "    'metric_freq':50,\n",
        "    'is_training_metric':False,\n",
        "    'max_depth':4,\n",
        "    'num_leaves': 31,\n",
        "    'learning_rate': 0.01,\n",
        "    'feature_fraction': 1.0,\n",
        "    'bagging_fraction': 1.0,\n",
        "    'bagging_freq': 0,\n",
        "    'bagging_seed': 2018,\n",
        "    'verbose': 0,\n",
        "    'num_threads':16\n",
        "}"
      ],
      "metadata": {
        "id": "lGgQrOoPpzlK"
      },
      "execution_count": null,
      "outputs": []
    },
    {
      "cell_type": "code",
      "source": [
        "lgbmClass = lgb.LGBMClassifier(**params)"
      ],
      "metadata": {
        "id": "CbybE48AqiE3"
      },
      "execution_count": null,
      "outputs": []
    },
    {
      "cell_type": "code",
      "source": [
        "lgbmClass, trainingScores, cvScores, predictionsTestSetLightGBMGradientBoosting = train_model(lgbmClass)"
      ],
      "metadata": {
        "colab": {
          "base_uri": "https://localhost:8080/",
          "height": 764
        },
        "id": "iq9lKAK1qx3n",
        "outputId": "6ed26f94-02ec-4cc8-ad69-0a9a3ddb756f"
      },
      "execution_count": null,
      "outputs": [
        {
          "output_type": "stream",
          "name": "stdout",
          "text": [
            "\n",
            "Fold Num : 0\n",
            "\n",
            "Training Log Loss:  0.002670473859663606\n",
            "CV Log Loss:  0.0038708284766890734\n",
            "\n",
            "Fold Num : 1\n",
            "\n",
            "Training Log Loss:  0.0029363119708156454\n",
            "CV Log Loss:  0.002689231230626997\n",
            "\n",
            "Fold Num : 2\n",
            "\n",
            "Training Log Loss:  0.0028151463691946385\n",
            "CV Log Loss:  0.0030797848252452306\n",
            "\n",
            "Fold Num : 3\n",
            "\n",
            "Training Log Loss:  0.0026034934831715667\n",
            "CV Log Loss:  0.0039452370073659445\n",
            "\n",
            "Fold Num : 4\n",
            "\n",
            "Training Log Loss:  0.0024301516904667152\n",
            "CV Log Loss:  0.005033205465922407\n",
            "\n",
            "Log Loss : 0.0037236574011699306\n",
            "\n"
          ]
        },
        {
          "output_type": "display_data",
          "data": {
            "text/plain": [
              "<Figure size 432x288 with 1 Axes>"
            ],
            "image/png": "[encoded data removed]"
          },
          "metadata": {
            "needs_background": "light"
          }
        }
      ]
    },
    {
      "cell_type": "markdown",
      "source": [
        "### 평가 지표"
      ],
      "metadata": {
        "id": "n6P9qc_Yq9M_"
      }
    },
    {
      "cell_type": "code",
      "source": [
        "ROC_Curve(predictionsTestSetLightGBMGradientBoosting)"
      ],
      "metadata": {
        "colab": {
          "base_uri": "https://localhost:8080/",
          "height": 573
        },
        "id": "snJswS_Eq-bb",
        "outputId": "a448ab9a-9339-4e16-d19b-f2374528c736"
      },
      "execution_count": null,
      "outputs": [
        {
          "output_type": "display_data",
          "data": {
            "text/plain": [
              "<Figure size 432x288 with 1 Axes>"
            ],
            "image/png": "[encoded data removed]"
          },
          "metadata": {
            "needs_background": "light"
          }
        },
        {
          "output_type": "display_data",
          "data": {
            "text/plain": [
              "<Figure size 432x288 with 1 Axes>"
            ],
            "image/png": "[encoded data removed]"
          },
          "metadata": {
            "needs_background": "light"
          }
        }
      ]
    },
    {
      "cell_type": "markdown",
      "source": [
        "## 테스트 셋에서의 4가지 모델 평가"
      ],
      "metadata": {
        "id": "segKRUMgsAsu"
      }
    },
    {
      "cell_type": "code",
      "source": [
        "predictionsTestSetLogisticRegression = \\\n",
        "    pd.DataFrame(data=[],index=y_test.index,columns=['prediction'])\n",
        "predictionsTestSetLogisticRegression.loc[:,'prediction'] = \\\n",
        "    logReg.predict_proba(X_test)[:,1]\n",
        "logLossTestSetLogisticRegression = \\\n",
        "    log_loss(y_test, predictionsTestSetLogisticRegression)"
      ],
      "metadata": {
        "id": "B9A7XN17r71Y"
      },
      "execution_count": null,
      "outputs": []
    },
    {
      "cell_type": "code",
      "source": [
        "predictionsTestSetRandomForests = \\\n",
        "    pd.DataFrame(data=[],index=y_test.index,columns=['prediction'])\n",
        "predictionsTestSetRandomForests.loc[:,'prediction'] = \\\n",
        "    RFC.predict_proba(X_test)[:,1]\n",
        "logLossTestSetRandomForests = \\\n",
        "    log_loss(y_test, predictionsTestSetRandomForests)"
      ],
      "metadata": {
        "id": "P6r_DZIisRMa"
      },
      "execution_count": null,
      "outputs": []
    },
    {
      "cell_type": "code",
      "source": [
        "predictionsTestSetXGBoostGradientBoosting = \\\n",
        "    pd.DataFrame(data=[],index=y_test.index,columns=['prediction'])\n",
        "predictionsTestSetXGBoostGradientBoosting.loc[:,'prediction'] = \\\n",
        "    xgbClass.predict(X_test)\n",
        "logLossTestSetXGBoostGradientBoosting = \\\n",
        "    log_loss(y_test, predictionsTestSetXGBoostGradientBoosting)"
      ],
      "metadata": {
        "id": "VcxKGnJxtQTE"
      },
      "execution_count": null,
      "outputs": []
    },
    {
      "cell_type": "code",
      "source": [
        "predictionsTestSetLightGBMGradientBoosting = \\\n",
        "    pd.DataFrame(data=[],index=y_test.index,columns=['prediction'])\n",
        "predictionsTestSetLightGBMGradientBoosting.loc[:,'prediction'] = \\\n",
        "    lgbmClass.predict(X_test)\n",
        "logLossTestSetLightGBMGradientBoosting = \\\n",
        "    log_loss(y_test, predictionsTestSetLightGBMGradientBoosting)"
      ],
      "metadata": {
        "id": "8TR4FGaotRuE"
      },
      "execution_count": null,
      "outputs": []
    },
    {
      "cell_type": "code",
      "source": [
        "print(\"Log Loss of Logistic Regression on Test Set: \", \\\n",
        "          logLossTestSetLogisticRegression)\n",
        "print(\"Log Loss of Random Forests on Test Set: \", \\\n",
        "          logLossTestSetRandomForests)\n",
        "print(\"Log Loss of XGBoost Gradient Boosting on Test Set: \", \\\n",
        "          logLossTestSetXGBoostGradientBoosting)\n",
        "print(\"Log Loss of LightGBM Gradient Boosting on Test Set: \", \\\n",
        "          logLossTestSetLightGBMGradientBoosting)"
      ],
      "metadata": {
        "colab": {
          "base_uri": "https://localhost:8080/"
        },
        "id": "5ISLeDl3tTBm",
        "outputId": "a0ef394c-8f93-410a-8e84-3d41d09409ed"
      },
      "execution_count": null,
      "outputs": [
        {
          "output_type": "stream",
          "name": "stdout",
          "text": [
            "Log Loss of Logistic Regression on Test Set:  0.09784806118957143\n",
            "Log Loss of Random Forests on Test Set:  0.01129851531848502\n",
            "Log Loss of XGBoost Gradient Boosting on Test Set:  0.020211755848035827\n",
            "Log Loss of LightGBM Gradient Boosting on Test Set:  0.022049119364187447\n"
          ]
        }
      ]
    },
    {
      "cell_type": "code",
      "source": [
        "def test_ROC_Curve(predictionsTestSet):\n",
        "  precision, recall, thresholds = \\\n",
        "      precision_recall_curve(y_test,predictionsTestSet)\n",
        "  average_precision = \\\n",
        "      average_precision_score(y_test,predictionsTestSet)\n",
        "\n",
        "  plt.step(recall, precision, color='k', alpha=0.7, where='post')\n",
        "  plt.fill_between(recall, precision, step='post', alpha=0.3, color='k')\n",
        "\n",
        "  plt.xlabel('Recall')\n",
        "  plt.ylabel('Precision')\n",
        "  plt.ylim([0.0, 1.05])\n",
        "  plt.xlim([0.0, 1.0])\n",
        "\n",
        "  plt.title('Precision-Recall curve: Average Precision = {0:0.2f}'.format(\n",
        "            average_precision))\n",
        "\n",
        "  fpr, tpr, thresholds = roc_curve(y_test,predictionsTestSet)\n",
        "  areaUnderROC = auc(fpr, tpr)\n",
        "\n",
        "  plt.figure()\n",
        "  plt.plot(fpr, tpr, color='r', lw=2, label='ROC curve')\n",
        "  plt.plot([0, 1], [0, 1], color='k', lw=2, linestyle='--')\n",
        "  plt.xlim([0.0, 1.0])\n",
        "  plt.ylim([0.0, 1.05])\n",
        "  plt.xlabel('False Positive Rate')\n",
        "  plt.ylabel('True Positive Rate')\n",
        "  plt.title('Receiver operating characteristic: \\\n",
        "  Area under the curve = {0:0.2f}'.format(areaUnderROC))\n",
        "  plt.legend(loc=\"lower right\")\n",
        "  plt.show()"
      ],
      "metadata": {
        "id": "Z5MYhG2tuoam"
      },
      "execution_count": null,
      "outputs": []
    },
    {
      "cell_type": "code",
      "source": [
        "test_ROC_Curve(predictionsTestSetLogisticRegression)"
      ],
      "metadata": {
        "colab": {
          "base_uri": "https://localhost:8080/",
          "height": 573
        },
        "id": "NJH4y9Z3u4QC",
        "outputId": "45851a9f-a763-473a-d7ee-8be91b139d07"
      },
      "execution_count": null,
      "outputs": [
        {
          "output_type": "display_data",
          "data": {
            "text/plain": [
              "<Figure size 432x288 with 1 Axes>"
            ],
            "image/png": "[encoded data removed]"
          },
          "metadata": {
            "needs_background": "light"
          }
        },
        {
          "output_type": "display_data",
          "data": {
            "text/plain": [
              "<Figure size 432x288 with 1 Axes>"
            ],
            "image/png": "[encoded data removed]"
          },
          "metadata": {
            "needs_background": "light"
          }
        }
      ]
    },
    {
      "cell_type": "code",
      "source": [
        "test_ROC_Curve(predictionsTestSetRandomForests)"
      ],
      "metadata": {
        "colab": {
          "base_uri": "https://localhost:8080/",
          "height": 573
        },
        "id": "kfiEKsl4u6qs",
        "outputId": "c79ce0fd-83c2-4db1-a0a0-cce504c5b291"
      },
      "execution_count": null,
      "outputs": [
        {
          "output_type": "display_data",
          "data": {
            "text/plain": [
              "<Figure size 432x288 with 1 Axes>"
            ],
            "image/png": "[encoded data removed]"
          },
          "metadata": {
            "needs_background": "light"
          }
        },
        {
          "output_type": "display_data",
          "data": {
            "text/plain": [
              "<Figure size 432x288 with 1 Axes>"
            ],
            "image/png": "[encoded data removed]"
          },
          "metadata": {
            "needs_background": "light"
          }
        }
      ]
    },
    {
      "cell_type": "code",
      "source": [
        "test_ROC_Curve(predictionsTestSetXGBoostGradientBoosting)"
      ],
      "metadata": {
        "colab": {
          "base_uri": "https://localhost:8080/",
          "height": 573
        },
        "id": "RHFYo89xu-OJ",
        "outputId": "503780c4-59e7-4d72-e8c1-2cb4caaf12cf"
      },
      "execution_count": null,
      "outputs": [
        {
          "output_type": "display_data",
          "data": {
            "text/plain": [
              "<Figure size 432x288 with 1 Axes>"
            ],
            "image/png": "[encoded data removed]"
          },
          "metadata": {
            "needs_background": "light"
          }
        },
        {
          "output_type": "display_data",
          "data": {
            "text/plain": [
              "<Figure size 432x288 with 1 Axes>"
            ],
            "image/png": "[encoded data removed]"
          },
          "metadata": {
            "needs_background": "light"
          }
        }
      ]
    },
    {
      "cell_type": "code",
      "source": [
        "test_ROC_Curve(predictionsTestSetLightGBMGradientBoosting)"
      ],
      "metadata": {
        "colab": {
          "base_uri": "https://localhost:8080/",
          "height": 573
        },
        "id": "IxR4L-H_vC24",
        "outputId": "fb924f3b-31ce-445c-b676-105a85c59a4b"
      },
      "execution_count": null,
      "outputs": [
        {
          "output_type": "display_data",
          "data": {
            "text/plain": [
              "<Figure size 432x288 with 1 Axes>"
            ],
            "image/png": "[encoded data removed]"
          },
          "metadata": {
            "needs_background": "light"
          }
        },
        {
          "output_type": "display_data",
          "data": {
            "text/plain": [
              "<Figure size 432x288 with 1 Axes>"
            ],
            "image/png": "[encoded data removed]"
          },
          "metadata": {
            "needs_background": "light"
          }
        }
      ]
    }
  ]
}