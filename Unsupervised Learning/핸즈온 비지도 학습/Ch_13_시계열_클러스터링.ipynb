{
  "nbformat": 4,
  "nbformat_minor": 0,
  "metadata": {
    "colab": {
      "provenance": [],
      "authorship_tag": "ABX9TyNKnvVGGpFMJ5ShCs0k9eHR",
      "include_colab_link": true
    },
    "kernelspec": {
      "name": "python3",
      "display_name": "Python 3"
    },
    "language_info": {
      "name": "python"
    }
  },
  "cells": [
    {
      "cell_type": "markdown",
      "metadata": {
        "id": "view-in-github",
        "colab_type": "text"
      },
      "source": [
        "<a href=\"https://colab.research.google.com/github/namwootree/Basic_Skill/blob/main/Unsupervised%20Learning/%ED%95%B8%EC%A6%88%EC%98%A8%20%EB%B9%84%EC%A7%80%EB%8F%84%20%ED%95%99%EC%8A%B5/Ch_13_%EC%8B%9C%EA%B3%84%EC%97%B4_%ED%81%B4%EB%9F%AC%EC%8A%A4%ED%84%B0%EB%A7%81.ipynb\" target=\"_parent\"><img src=\"https://colab.research.google.com/assets/colab-badge.svg\" alt=\"Open In Colab\"/></a>"
      ]
    },
    {
      "cell_type": "markdown",
      "source": [
        "# 시계열 클러스터링 접근 방법"
      ],
      "metadata": {
        "id": "tWt4b_vPxPHT"
      }
    },
    {
      "cell_type": "markdown",
      "source": [
        "* 시계열 클러스터링에 대한 어떤 접근 방법이든 이러한 유형의 왜곡을 처리해야 한다\n",
        "\n",
        "* 클러스터링은 공간에서 데이터 포인트가 다른 데이터 포인트에 얼마나 가까운지 판단하기 위해 거리 척도에 의존했고, 이를 통해 유사한 데이터들이 서로 구별되면서 동질한 군집으로 함께 그룹화될 수 있다\n",
        "\n",
        "* 시계열 클러스터링도 이와 유사하게 작동하지만 진폭, 주기, 위상 이동, 수직 이동의 사소한 차이에 관계없이 유사한 시계열 데이터가 그룹화되도록 이동 및 스케일링에 불변하는 거리 척도가 필요하다"
      ],
      "metadata": {
        "id": "ypPN1hWWxRdF"
      }
    },
    {
      "cell_type": "markdown",
      "source": [
        "# k - Shape"
      ],
      "metadata": {
        "id": "Ci6aM1YGx7oN"
      }
    },
    {
      "cell_type": "markdown",
      "source": [
        "* 스케일링 및 이동에 불변하는 거리 척도를 사용해 시계열 시퀀스를 비교하면서 형상을 유지한다\n",
        "\n",
        "* 특히, k - Shape는 표준화된 버전의 교차 상관관계를 사용해 군집 중심을 계산한 다음, 모든 반복에서 이런 군집에 시계열 할달ㅇ을 업데이트한다\n",
        "\n",
        "* k - Shape는 스케일링 및 이동에 불변하는 것 외에도 도메인에 독립적이며, 확장 가능하고 최소한의 파라미터 튜닝을 요구\n",
        "\n",
        "* k - Shape의 반복적인 개선 절차는 시퀀스 수에 따라 선형적으로 확장된다"
      ],
      "metadata": {
        "id": "6HASTZwTx9RB"
      }
    },
    {
      "cell_type": "markdown",
      "source": [
        "# Setting"
      ],
      "metadata": {
        "id": "8Cs-Z2hmzowO"
      }
    },
    {
      "cell_type": "markdown",
      "source": [
        "## Install"
      ],
      "metadata": {
        "id": "jRl0RELVz5mV"
      }
    },
    {
      "cell_type": "code",
      "source": [
        "!pip install kshape"
      ],
      "metadata": {
        "colab": {
          "base_uri": "https://localhost:8080/"
        },
        "id": "16Fjzsvoz7GU",
        "outputId": "9abd1046-b25c-491d-9639-7e3a65164295"
      },
      "execution_count": 5,
      "outputs": [
        {
          "output_type": "stream",
          "name": "stdout",
          "text": [
            "Looking in indexes: https://pypi.org/simple, https://us-python.pkg.dev/colab-wheels/public/simple/\n",
            "Collecting kshape\n",
            "  Downloading kshape-1.0.3-py3-none-any.whl (5.5 kB)\n",
            "Requirement already satisfied: numpy in /usr/local/lib/python3.8/dist-packages (from kshape) (1.21.6)\n",
            "Installing collected packages: kshape\n",
            "Successfully installed kshape-1.0.3\n"
          ]
        }
      ]
    },
    {
      "cell_type": "code",
      "source": [
        "!pip install tslearn"
      ],
      "metadata": {
        "colab": {
          "base_uri": "https://localhost:8080/"
        },
        "id": "FJjHyTfy0L66",
        "outputId": "e74583fd-abcc-4267-a323-fd1c1e3c5a0c"
      },
      "execution_count": 7,
      "outputs": [
        {
          "output_type": "stream",
          "name": "stdout",
          "text": [
            "Looking in indexes: https://pypi.org/simple, https://us-python.pkg.dev/colab-wheels/public/simple/\n",
            "Collecting tslearn\n",
            "  Downloading tslearn-0.5.2-cp38-cp38-manylinux_2_5_x86_64.manylinux1_x86_64.manylinux_2_12_x86_64.manylinux2010_x86_64.whl (875 kB)\n",
            "\u001b[K     |████████████████████████████████| 875 kB 29.6 MB/s \n",
            "\u001b[?25hRequirement already satisfied: numba in /usr/local/lib/python3.8/dist-packages (from tslearn) (0.56.4)\n",
            "Requirement already satisfied: joblib in /usr/local/lib/python3.8/dist-packages (from tslearn) (1.2.0)\n",
            "Requirement already satisfied: scipy in /usr/local/lib/python3.8/dist-packages (from tslearn) (1.7.3)\n",
            "Requirement already satisfied: numpy in /usr/local/lib/python3.8/dist-packages (from tslearn) (1.21.6)\n",
            "Requirement already satisfied: scikit-learn in /usr/local/lib/python3.8/dist-packages (from tslearn) (1.0.2)\n",
            "Requirement already satisfied: Cython in /usr/local/lib/python3.8/dist-packages (from tslearn) (0.29.32)\n",
            "Requirement already satisfied: importlib-metadata in /usr/local/lib/python3.8/dist-packages (from numba->tslearn) (5.1.0)\n",
            "Requirement already satisfied: llvmlite<0.40,>=0.39.0dev0 in /usr/local/lib/python3.8/dist-packages (from numba->tslearn) (0.39.1)\n",
            "Requirement already satisfied: setuptools in /usr/local/lib/python3.8/dist-packages (from numba->tslearn) (57.4.0)\n",
            "Requirement already satisfied: zipp>=0.5 in /usr/local/lib/python3.8/dist-packages (from importlib-metadata->numba->tslearn) (3.11.0)\n",
            "Requirement already satisfied: threadpoolctl>=2.0.0 in /usr/local/lib/python3.8/dist-packages (from scikit-learn->tslearn) (3.1.0)\n",
            "Installing collected packages: tslearn\n",
            "Successfully installed tslearn-0.5.2\n"
          ]
        }
      ]
    },
    {
      "cell_type": "code",
      "source": [
        "!pip install hdbscan"
      ],
      "metadata": {
        "colab": {
          "base_uri": "https://localhost:8080/"
        },
        "id": "Gh5mZkaY0w6m",
        "outputId": "6efb56ae-eaed-49cb-c9a0-27e523e15d95"
      },
      "execution_count": 10,
      "outputs": [
        {
          "output_type": "stream",
          "name": "stdout",
          "text": [
            "Looking in indexes: https://pypi.org/simple, https://us-python.pkg.dev/colab-wheels/public/simple/\n",
            "Collecting hdbscan\n",
            "  Downloading hdbscan-0.8.29.tar.gz (5.2 MB)\n",
            "\u001b[K     |████████████████████████████████| 5.2 MB 30.0 MB/s \n",
            "\u001b[?25h  Installing build dependencies ... \u001b[?25l\u001b[?25hdone\n",
            "  Getting requirements to build wheel ... \u001b[?25l\u001b[?25hdone\n",
            "    Preparing wheel metadata ... \u001b[?25l\u001b[?25hdone\n",
            "Requirement already satisfied: scikit-learn>=0.20 in /usr/local/lib/python3.8/dist-packages (from hdbscan) (1.0.2)\n",
            "Requirement already satisfied: numpy>=1.20 in /usr/local/lib/python3.8/dist-packages (from hdbscan) (1.21.6)\n",
            "Requirement already satisfied: cython>=0.27 in /usr/local/lib/python3.8/dist-packages (from hdbscan) (0.29.32)\n",
            "Requirement already satisfied: scipy>=1.0 in /usr/local/lib/python3.8/dist-packages (from hdbscan) (1.7.3)\n",
            "Requirement already satisfied: joblib>=1.0 in /usr/local/lib/python3.8/dist-packages (from hdbscan) (1.2.0)\n",
            "Requirement already satisfied: threadpoolctl>=2.0.0 in /usr/local/lib/python3.8/dist-packages (from scikit-learn>=0.20->hdbscan) (3.1.0)\n",
            "Building wheels for collected packages: hdbscan\n",
            "hdbscan\n",
            "  Building wheel for hdbscan (PEP 517) ... \u001b[?25l\u001b[?25hdone\n",
            "  Created wheel for hdbscan: filename=hdbscan-0.8.29-cp38-cp38-linux_x86_64.whl size=2700871 sha256=c833940dbf648955296f1c1a7c953096203b3b34303390dfa80c8a6abf0e7de3\n",
            "  Stored in directory: /root/.cache/pip/wheels/76/06/48/527e038689c581cc9e519c73840efdc7473805149e55bd7ffd\n",
            "Successfully built hdbscan\n",
            "Installing collected packages: hdbscan\n",
            "Successfully installed hdbscan-0.8.29\n"
          ]
        }
      ]
    },
    {
      "cell_type": "markdown",
      "source": [
        "## Library"
      ],
      "metadata": {
        "id": "11-uAZYuzrf5"
      }
    },
    {
      "cell_type": "code",
      "execution_count": 1,
      "metadata": {
        "id": "zmxIHyC7wwUU"
      },
      "outputs": [],
      "source": [
        "import numpy as np\n",
        "import pandas as pd\n",
        "import os, time, re\n",
        "import pickle, gzip, datetime\n",
        "from os import listdir, walk\n",
        "from os.path import isfile, join"
      ]
    },
    {
      "cell_type": "code",
      "source": [
        "import matplotlib as mpl\n",
        "from mpl_toolkits.axes_grid1 import Grid\n",
        "import matplotlib.pyplot as plt\n",
        "import seaborn as sns\n",
        "color = sns.color_palette()"
      ],
      "metadata": {
        "id": "WKOHDa15ztDZ"
      },
      "execution_count": 2,
      "outputs": []
    },
    {
      "cell_type": "code",
      "source": [
        "from sklearn.preprocessing import StandardScaler, LabelEncoder\n",
        "from sklearn.model_selection import train_test_split \n",
        "from sklearn.model_selection import StratifiedKFold \n",
        "from sklearn.metrics import log_loss, accuracy_score\n",
        "from sklearn.metrics import precision_recall_curve, average_precision_score\n",
        "from sklearn.metrics import roc_curve, auc, roc_auc_score, mean_squared_error\n",
        "from keras.utils import to_categorical\n",
        "from sklearn.metrics import adjusted_rand_score\n",
        "import random"
      ],
      "metadata": {
        "id": "7kOi7_gKzwxb"
      },
      "execution_count": 3,
      "outputs": []
    },
    {
      "cell_type": "code",
      "source": [
        "from kshape.core import kshape, zscore\n",
        "import tslearn\n",
        "from tslearn.utils import to_time_series_dataset\n",
        "from tslearn.clustering import KShape\n",
        "from tslearn.preprocessing import TimeSeriesScalerMeanVariance\n",
        "from tslearn.clustering import TimeSeriesKMeans\n",
        "import hdbscan"
      ],
      "metadata": {
        "id": "C2K2Z0Tbz2AZ"
      },
      "execution_count": 11,
      "outputs": []
    },
    {
      "cell_type": "code",
      "source": [
        "import tensorflow as tf\n",
        "import keras\n",
        "from keras import backend as K\n",
        "from keras.models import Sequential, Model\n",
        "from keras.layers import Activation, Dense, Dropout, Flatten, Conv2D, MaxPool2D\n",
        "from keras.layers import LeakyReLU, Reshape, UpSampling2D, Conv2DTranspose\n",
        "from keras.layers import BatchNormalization, Input, Lambda\n",
        "from keras.layers import Embedding, Flatten, dot\n",
        "from keras import regularizers\n",
        "from keras.losses import mse, binary_crossentropy\n",
        "from IPython.display import SVG\n",
        "from keras.utils.vis_utils import model_to_dot\n",
        "from keras.optimizers import Adam, RMSprop"
      ],
      "metadata": {
        "id": "fsIHAEMWz3kT"
      },
      "execution_count": 13,
      "outputs": []
    },
    {
      "cell_type": "markdown",
      "source": [
        "# ECGFiveDays"
      ],
      "metadata": {
        "id": "XnqqDcm45u69"
      }
    },
    {
      "cell_type": "markdown",
      "source": [
        "## Load Data Set"
      ],
      "metadata": {
        "id": "MkYrB0QU15Vk"
      }
    },
    {
      "cell_type": "markdown",
      "source": [
        "### Google Drive Mount"
      ],
      "metadata": {
        "id": "eRnzMzK-16i9"
      }
    },
    {
      "cell_type": "code",
      "source": [
        "from google.colab import drive\n",
        "drive.mount('/content/drive')"
      ],
      "metadata": {
        "colab": {
          "base_uri": "https://localhost:8080/"
        },
        "id": "YGTrRNzW1FlB",
        "outputId": "c93f1195-47f3-41ce-f558-6795f87d6cae"
      },
      "execution_count": 14,
      "outputs": [
        {
          "output_type": "stream",
          "name": "stdout",
          "text": [
            "Mounted at /content/drive\n"
          ]
        }
      ]
    },
    {
      "cell_type": "code",
      "source": [
        "path_ECG_train = '/content/drive/MyDrive/머신러닝 엔지니어링/핸즈온 비지도 학습/data/UCR_TS_Archive_2015/ECGFiveDays/ECGFiveDays_TRAIN'\n",
        "path_ECG_test = '/content/drive/MyDrive/머신러닝 엔지니어링/핸즈온 비지도 학습/data/UCR_TS_Archive_2015/ECGFiveDays/ECGFiveDays_TEST'"
      ],
      "metadata": {
        "id": "WmRV9B9O1-6S"
      },
      "execution_count": 15,
      "outputs": []
    },
    {
      "cell_type": "code",
      "source": [
        "data_train = np.loadtxt(path_ECG_train, delimiter=',')\n",
        "\n",
        "X_train = to_time_series_dataset(data_train[:, 1:])\n",
        "y_train = data_train[:, 0].astype(np.int)"
      ],
      "metadata": {
        "colab": {
          "base_uri": "https://localhost:8080/"
        },
        "id": "iq6sBDmJ3H-s",
        "outputId": "602e7277-b125-4435-d0d3-453fecdc654e"
      },
      "execution_count": 16,
      "outputs": [
        {
          "output_type": "stream",
          "name": "stderr",
          "text": [
            "<ipython-input-16-3daf5883f6c6>:4: DeprecationWarning: `np.int` is a deprecated alias for the builtin `int`. To silence this warning, use `int` by itself. Doing this will not modify any behavior and is safe. When replacing `np.int`, you may wish to use e.g. `np.int64` or `np.int32` to specify the precision. If you wish to review your current use, check the release note link for additional information.\n",
            "Deprecated in NumPy 1.20; for more details and guidance: https://numpy.org/devdocs/release/1.20.0-notes.html#deprecations\n",
            "  y_train = data_train[:, 0].astype(np.int)\n"
          ]
        }
      ]
    },
    {
      "cell_type": "code",
      "source": [
        "data_test = np.loadtxt(path_ECG_test, delimiter=',')\n",
        "\n",
        "X_test = to_time_series_dataset(data_test[:, 1:])\n",
        "y_test = data_test[:, 0].astype(np.int)"
      ],
      "metadata": {
        "colab": {
          "base_uri": "https://localhost:8080/"
        },
        "id": "xbps0PLz3Io2",
        "outputId": "4b118517-9603-453b-9c1a-60e28cb918a7"
      },
      "execution_count": 17,
      "outputs": [
        {
          "output_type": "stream",
          "name": "stderr",
          "text": [
            "<ipython-input-17-158c71e3bd1b>:4: DeprecationWarning: `np.int` is a deprecated alias for the builtin `int`. To silence this warning, use `int` by itself. Doing this will not modify any behavior and is safe. When replacing `np.int`, you may wish to use e.g. `np.int64` or `np.int32` to specify the precision. If you wish to review your current use, check the release note link for additional information.\n",
            "Deprecated in NumPy 1.20; for more details and guidance: https://numpy.org/devdocs/release/1.20.0-notes.html#deprecations\n",
            "  y_test = data_test[:, 0].astype(np.int)\n"
          ]
        }
      ]
    },
    {
      "cell_type": "markdown",
      "source": [
        "## DDA"
      ],
      "metadata": {
        "id": "FTSYZzv73YHj"
      }
    },
    {
      "cell_type": "code",
      "source": [
        "print(\"Number of time series:\", len(data_train))\n",
        "print(\"Number of unique classes:\", len(np.unique(data_train[:,0])))\n",
        "print(\"Time series length:\", len(data_train[0,1:]))"
      ],
      "metadata": {
        "colab": {
          "base_uri": "https://localhost:8080/"
        },
        "id": "p0GLFvUu3Sxf",
        "outputId": "05935b3a-152a-4544-ad29-4c9578d0a14b"
      },
      "execution_count": 18,
      "outputs": [
        {
          "output_type": "stream",
          "name": "stdout",
          "text": [
            "Number of time series: 23\n",
            "Number of unique classes: 2\n",
            "Time series length: 136\n"
          ]
        }
      ]
    },
    {
      "cell_type": "code",
      "source": [
        "print(\"Number of time series in class 1.0:\", \n",
        "      len(data_train[data_train[:,0]==1.0]))\n",
        "\n",
        "print(\"Number of time series in class 2.0:\", \n",
        "      len(data_train[data_train[:,0]==2.0]))"
      ],
      "metadata": {
        "colab": {
          "base_uri": "https://localhost:8080/"
        },
        "id": "SUZaF5SA3Vgf",
        "outputId": "e8c939ec-02d7-4187-e948-76908ced4783"
      },
      "execution_count": 19,
      "outputs": [
        {
          "output_type": "stream",
          "name": "stdout",
          "text": [
            "Number of time series in class 1.0: 14\n",
            "Number of time series in class 2.0: 9\n"
          ]
        }
      ]
    },
    {
      "cell_type": "code",
      "source": [
        "for i in range(0,10):\n",
        "    if data_train[i,0]==1.0:\n",
        "        print(\"Plot \",i,\" Class \",data_train[i,0])\n",
        "        plt.plot(data_train[i])\n",
        "        plt.show()"
      ],
      "metadata": {
        "colab": {
          "base_uri": "https://localhost:8080/",
          "height": 1000
        },
        "id": "_Vp6BiaJ3fMp",
        "outputId": "25cb3bc0-d93b-42a6-900f-b7e21c7c61b8"
      },
      "execution_count": 24,
      "outputs": [
        {
          "output_type": "stream",
          "name": "stdout",
          "text": [
            "Plot  0  Class  1.0\n"
          ]
        },
        {
          "output_type": "display_data",
          "data": {
            "text/plain": [
              "<Figure size 432x288 with 1 Axes>"
            ],
            "image/png": "[encoded data removed]"
          },
          "metadata": {
            "needs_background": "light"
          }
        },
        {
          "output_type": "stream",
          "name": "stdout",
          "text": [
            "Plot  1  Class  1.0\n"
          ]
        },
        {
          "output_type": "display_data",
          "data": {
            "text/plain": [
              "<Figure size 432x288 with 1 Axes>"
            ],
            "image/png": "[encoded data removed]"
          },
          "metadata": {
            "needs_background": "light"
          }
        },
        {
          "output_type": "stream",
          "name": "stdout",
          "text": [
            "Plot  4  Class  1.0\n"
          ]
        },
        {
          "output_type": "display_data",
          "data": {
            "text/plain": [
              "<Figure size 432x288 with 1 Axes>"
            ],
            "image/png": "[encoded data removed]"
          },
          "metadata": {
            "needs_background": "light"
          }
        },
        {
          "output_type": "stream",
          "name": "stdout",
          "text": [
            "Plot  7  Class  1.0\n"
          ]
        },
        {
          "output_type": "display_data",
          "data": {
            "text/plain": [
              "<Figure size 432x288 with 1 Axes>"
            ],
            "image/png": "[encoded data removed]"
          },
          "metadata": {
            "needs_background": "light"
          }
        },
        {
          "output_type": "stream",
          "name": "stdout",
          "text": [
            "Plot  9  Class  1.0\n"
          ]
        },
        {
          "output_type": "display_data",
          "data": {
            "text/plain": [
              "<Figure size 432x288 with 1 Axes>"
            ],
            "image/png": "[encoded data removed]"
          },
          "metadata": {
            "needs_background": "light"
          }
        }
      ]
    },
    {
      "cell_type": "code",
      "source": [
        "for i in range(0,10):\n",
        "    if data_train[i,0]==2.0:\n",
        "        print(\"Plot \",i,\" Class \",data_train[i,0])\n",
        "        plt.plot(data_train[i])\n",
        "        plt.show()"
      ],
      "metadata": {
        "colab": {
          "base_uri": "https://localhost:8080/",
          "height": 1000
        },
        "id": "gMa2cm723hin",
        "outputId": "ac756072-a526-49bc-8bb1-c67b99044b23"
      },
      "execution_count": 25,
      "outputs": [
        {
          "output_type": "stream",
          "name": "stdout",
          "text": [
            "Plot  2  Class  2.0\n"
          ]
        },
        {
          "output_type": "display_data",
          "data": {
            "text/plain": [
              "<Figure size 432x288 with 1 Axes>"
            ],
            "image/png": "[encoded data removed]"
          },
          "metadata": {
            "needs_background": "light"
          }
        },
        {
          "output_type": "stream",
          "name": "stdout",
          "text": [
            "Plot  3  Class  2.0\n"
          ]
        },
        {
          "output_type": "display_data",
          "data": {
            "text/plain": [
              "<Figure size 432x288 with 1 Axes>"
            ],
            "image/png": "[encoded data removed]"
          },
          "metadata": {
            "needs_background": "light"
          }
        },
        {
          "output_type": "stream",
          "name": "stdout",
          "text": [
            "Plot  5  Class  2.0\n"
          ]
        },
        {
          "output_type": "display_data",
          "data": {
            "text/plain": [
              "<Figure size 432x288 with 1 Axes>"
            ],
            "image/png": "[encoded data removed]"
          },
          "metadata": {
            "needs_background": "light"
          }
        },
        {
          "output_type": "stream",
          "name": "stdout",
          "text": [
            "Plot  6  Class  2.0\n"
          ]
        },
        {
          "output_type": "display_data",
          "data": {
            "text/plain": [
              "<Figure size 432x288 with 1 Axes>"
            ],
            "image/png": "[encoded data removed]"
          },
          "metadata": {
            "needs_background": "light"
          }
        },
        {
          "output_type": "stream",
          "name": "stdout",
          "text": [
            "Plot  8  Class  2.0\n"
          ]
        },
        {
          "output_type": "display_data",
          "data": {
            "text/plain": [
              "<Figure size 432x288 with 1 Axes>"
            ],
            "image/png": "[encoded data removed]"
          },
          "metadata": {
            "needs_background": "light"
          }
        }
      ]
    },
    {
      "cell_type": "markdown",
      "source": [
        "## 스케링링"
      ],
      "metadata": {
        "id": "aZJ6YHTd4UfO"
      }
    },
    {
      "cell_type": "code",
      "source": [
        "X_train = TimeSeriesScalerMeanVariance(mu=0., std=1.).fit_transform(X_train)\n",
        "X_test = TimeSeriesScalerMeanVariance(mu=0., std=1.).fit_transform(X_test)"
      ],
      "metadata": {
        "id": "XfioH-W-3uyy"
      },
      "execution_count": 27,
      "outputs": []
    },
    {
      "cell_type": "markdown",
      "source": [
        "## k - Shape"
      ],
      "metadata": {
        "id": "jxz_3Fo84uI_"
      }
    },
    {
      "cell_type": "code",
      "source": [
        "ks = KShape(n_clusters=2, max_iter=100, n_init=100,verbose=0)\n",
        "ks.fit(X_train)"
      ],
      "metadata": {
        "colab": {
          "base_uri": "https://localhost:8080/"
        },
        "id": "DgL18Rka4bF6",
        "outputId": "aef81b2d-f699-45a9-bd11-5f40db35e4fc"
      },
      "execution_count": 28,
      "outputs": [
        {
          "output_type": "execute_result",
          "data": {
            "text/plain": [
              "KShape(n_clusters=2, n_init=100, verbose=0)"
            ]
          },
          "metadata": {},
          "execution_count": 28
        }
      ]
    },
    {
      "cell_type": "markdown",
      "source": [
        "### 수정된 Rand 지수"
      ],
      "metadata": {
        "id": "qszVdpXk42un"
      }
    },
    {
      "cell_type": "markdown",
      "source": [
        "* 우연히 그룹화된 성분에 대한 조정된 두 데이터 군집 간 유사도 척도\n",
        "\n",
        "* 직관적으로 Rand 지수는 예측 군집과 실제 군집 사이의 군집 할당에서 일치하는 개수를 측정한다\n",
        "\n",
        "* 모델의 수정된 Rand 지수 값이 0.0에 가까운 경우 순전히 무작위로 군집을 할당한 것이다\n",
        "\n",
        "* 반대로 모델의 수정된 Rand 지수 값이 1.0에 가까운 경우 예측 군집과 실제 군집이 정확하게 일치한 것이다"
      ],
      "metadata": {
        "id": "WMvRAJT347So"
      }
    },
    {
      "cell_type": "code",
      "source": [
        "# 훈련 셋의 예측값 생성 및 수정된 Rand 지수 계산\n",
        "preds = ks.predict(X_train)\n",
        "ars = adjusted_rand_score(data_train[:,0],preds)\n",
        "print(\"Adjusted Rand Index:\", ars)"
      ],
      "metadata": {
        "colab": {
          "base_uri": "https://localhost:8080/"
        },
        "id": "rs5cHgpA4yPg",
        "outputId": "2d42c982-5812-4438-ac20-95ad069587c0"
      },
      "execution_count": 30,
      "outputs": [
        {
          "output_type": "stream",
          "name": "stdout",
          "text": [
            "Adjusted Rand Index: 0.668041237113402\n"
          ]
        }
      ]
    },
    {
      "cell_type": "code",
      "source": [
        "# 테스트 셋의 예측값 생성 및 수정된 Rand 지수 계산\n",
        "preds_test = ks.predict(X_test)\n",
        "ars = adjusted_rand_score(data_test[:,0],preds_test)\n",
        "print(\"Adjusted Rand Index on Test Set:\", ars)"
      ],
      "metadata": {
        "colab": {
          "base_uri": "https://localhost:8080/"
        },
        "id": "Q1D_jZ1G5Yko",
        "outputId": "680888bc-511a-4765-a551-16938771e3d5"
      },
      "execution_count": 31,
      "outputs": [
        {
          "output_type": "stream",
          "name": "stdout",
          "text": [
            "Adjusted Rand Index on Test Set: 0.0013631814413340424\n"
          ]
        }
      ]
    },
    {
      "cell_type": "markdown",
      "source": [
        "# ECG5000"
      ],
      "metadata": {
        "id": "gFhaOrep532d"
      }
    },
    {
      "cell_type": "markdown",
      "source": [
        "## Load Data Set"
      ],
      "metadata": {
        "id": "--rfEwuh6_Sh"
      }
    },
    {
      "cell_type": "code",
      "source": [
        "path_ECG_train = '/content/drive/MyDrive/머신러닝 엔지니어링/핸즈온 비지도 학습/data/UCR_TS_Archive_2015/ECG5000/ECG5000_TRAIN'\n",
        "path_ECG_test = '/content/drive/MyDrive/머신러닝 엔지니어링/핸즈온 비지도 학습/data/UCR_TS_Archive_2015/ECG5000/ECG5000_TEST'"
      ],
      "metadata": {
        "id": "gHz5D-wE5dRq"
      },
      "execution_count": 32,
      "outputs": []
    },
    {
      "cell_type": "code",
      "source": [
        "data_train = np.loadtxt(path_ECG_train, delimiter=',')\n",
        "data_test = np.loadtxt(path_ECG_test, delimiter=',')"
      ],
      "metadata": {
        "id": "3PDIYQ5b6ixS"
      },
      "execution_count": 33,
      "outputs": []
    },
    {
      "cell_type": "code",
      "source": [
        "data_joined = np.concatenate([data_train,data_test], axis=0)"
      ],
      "metadata": {
        "id": "1wxRuYUT6wpf"
      },
      "execution_count": 34,
      "outputs": []
    },
    {
      "cell_type": "code",
      "source": [
        "data_train, data_test = train_test_split(data_joined, \n",
        "                                         test_size=0.20, \n",
        "                                         random_state=2022)"
      ],
      "metadata": {
        "id": "RCr60yKP61Wp"
      },
      "execution_count": 35,
      "outputs": []
    },
    {
      "cell_type": "code",
      "source": [
        "X_train = to_time_series_dataset(data_train[:, 1:])\n",
        "y_train = data_train[:, 0].astype(np.int)\n",
        "X_test = to_time_series_dataset(data_test[:, 1:])\n",
        "y_test = data_test[:, 0].astype(np.int)"
      ],
      "metadata": {
        "colab": {
          "base_uri": "https://localhost:8080/"
        },
        "id": "ZurINiDX66oo",
        "outputId": "8684bc5a-0825-4ce3-f388-763c3544bf89"
      },
      "execution_count": 36,
      "outputs": [
        {
          "output_type": "stream",
          "name": "stderr",
          "text": [
            "<ipython-input-36-61fa4f6705bc>:2: DeprecationWarning: `np.int` is a deprecated alias for the builtin `int`. To silence this warning, use `int` by itself. Doing this will not modify any behavior and is safe. When replacing `np.int`, you may wish to use e.g. `np.int64` or `np.int32` to specify the precision. If you wish to review your current use, check the release note link for additional information.\n",
            "Deprecated in NumPy 1.20; for more details and guidance: https://numpy.org/devdocs/release/1.20.0-notes.html#deprecations\n",
            "  y_train = data_train[:, 0].astype(np.int)\n",
            "<ipython-input-36-61fa4f6705bc>:4: DeprecationWarning: `np.int` is a deprecated alias for the builtin `int`. To silence this warning, use `int` by itself. Doing this will not modify any behavior and is safe. When replacing `np.int`, you may wish to use e.g. `np.int64` or `np.int32` to specify the precision. If you wish to review your current use, check the release note link for additional information.\n",
            "Deprecated in NumPy 1.20; for more details and guidance: https://numpy.org/devdocs/release/1.20.0-notes.html#deprecations\n",
            "  y_test = data_test[:, 0].astype(np.int)\n"
          ]
        }
      ]
    },
    {
      "cell_type": "markdown",
      "source": [
        "## DDA"
      ],
      "metadata": {
        "id": "BhKZXiua7N07"
      }
    },
    {
      "cell_type": "code",
      "source": [
        "print(\"Number of time series:\", len(data_train))\n",
        "print(\"Number of unique classes:\", len(np.unique(data_train[:,0])))\n",
        "print(\"Time series length:\", len(data_train[0,1:]))"
      ],
      "metadata": {
        "colab": {
          "base_uri": "https://localhost:8080/"
        },
        "id": "9tETLzVn6-sk",
        "outputId": "61a085ea-6562-4a55-cc81-2e4a170230bf"
      },
      "execution_count": 37,
      "outputs": [
        {
          "output_type": "stream",
          "name": "stdout",
          "text": [
            "Number of time series: 4000\n",
            "Number of unique classes: 5\n",
            "Time series length: 140\n"
          ]
        }
      ]
    },
    {
      "cell_type": "code",
      "source": [
        "print(\"Number of time series in class 1.0:\", \n",
        "      len(data_train[data_train[:,0]==1.0]))\n",
        "\n",
        "print(\"Number of time series in class 2.0:\", \n",
        "      len(data_train[data_train[:,0]==2.0]))\n",
        "\n",
        "print(\"Number of time series in class 3.0:\", \n",
        "      len(data_train[data_train[:,0]==3.0]))\n",
        "\n",
        "print(\"Number of time series in class 4.0:\", \n",
        "      len(data_train[data_train[:,0]==4.0]))\n",
        "\n",
        "print(\"Number of time series in class 5.0:\", \n",
        "      len(data_train[data_train[:,0]==5.0]))"
      ],
      "metadata": {
        "colab": {
          "base_uri": "https://localhost:8080/"
        },
        "id": "_vG3fV8Z8vjf",
        "outputId": "f350ed70-65ff-43ca-a4a1-1fa5c98cf790"
      },
      "execution_count": 38,
      "outputs": [
        {
          "output_type": "stream",
          "name": "stdout",
          "text": [
            "Number of time series in class 1.0: 2333\n",
            "Number of time series in class 2.0: 1410\n",
            "Number of time series in class 3.0: 80\n",
            "Number of time series in class 4.0: 161\n",
            "Number of time series in class 5.0: 16\n"
          ]
        }
      ]
    },
    {
      "cell_type": "code",
      "source": [
        "for j in np.unique(data_train[:,0]):\n",
        "    dataPlot = data_train[data_train[:,0]==j]\n",
        "    cnt = len(dataPlot)\n",
        "    dataPlot = dataPlot[:,1:].mean(axis=0)\n",
        "    print(\" Class \",j,\" Count \",cnt)\n",
        "    plt.plot(dataPlot)\n",
        "    plt.show()"
      ],
      "metadata": {
        "colab": {
          "base_uri": "https://localhost:8080/",
          "height": 1000
        },
        "id": "iysfqPGp8xDn",
        "outputId": "59ce236c-c61a-4661-e80a-9ec869bd7528"
      },
      "execution_count": 39,
      "outputs": [
        {
          "output_type": "stream",
          "name": "stdout",
          "text": [
            " Class  1.0  Count  2333\n"
          ]
        },
        {
          "output_type": "display_data",
          "data": {
            "text/plain": [
              "<Figure size 432x288 with 1 Axes>"
            ],
            "image/png": "[encoded data removed]"
          },
          "metadata": {
            "needs_background": "light"
          }
        },
        {
          "output_type": "stream",
          "name": "stdout",
          "text": [
            " Class  2.0  Count  1410\n"
          ]
        },
        {
          "output_type": "display_data",
          "data": {
            "text/plain": [
              "<Figure size 432x288 with 1 Axes>"
            ],
            "image/png": "[encoded data removed]"
          },
          "metadata": {
            "needs_background": "light"
          }
        },
        {
          "output_type": "stream",
          "name": "stdout",
          "text": [
            " Class  3.0  Count  80\n"
          ]
        },
        {
          "output_type": "display_data",
          "data": {
            "text/plain": [
              "<Figure size 432x288 with 1 Axes>"
            ],
            "image/png": "[encoded data removed]"
          },
          "metadata": {
            "needs_background": "light"
          }
        },
        {
          "output_type": "stream",
          "name": "stdout",
          "text": [
            " Class  4.0  Count  161\n"
          ]
        },
        {
          "output_type": "display_data",
          "data": {
            "text/plain": [
              "<Figure size 432x288 with 1 Axes>"
            ],
            "image/png": "[encoded data removed]"
          },
          "metadata": {
            "needs_background": "light"
          }
        },
        {
          "output_type": "stream",
          "name": "stdout",
          "text": [
            " Class  5.0  Count  16\n"
          ]
        },
        {
          "output_type": "display_data",
          "data": {
            "text/plain": [
              "<Figure size 432x288 with 1 Axes>"
            ],
            "image/png": "[encoded data removed]"
          },
          "metadata": {
            "needs_background": "light"
          }
        }
      ]
    },
    {
      "cell_type": "markdown",
      "source": [
        "## 스케일링"
      ],
      "metadata": {
        "id": "h-gT-yGU85h2"
      }
    },
    {
      "cell_type": "code",
      "source": [
        "X_train = TimeSeriesScalerMeanVariance(mu=0., std=1.).fit_transform(X_train)\n",
        "X_test = TimeSeriesScalerMeanVariance(mu=0., std=1.).fit_transform(X_test)"
      ],
      "metadata": {
        "id": "IiDNujLS813R"
      },
      "execution_count": 40,
      "outputs": []
    },
    {
      "cell_type": "markdown",
      "source": [
        "## k - Shape"
      ],
      "metadata": {
        "id": "nbDhR_LV8_CE"
      }
    },
    {
      "cell_type": "code",
      "source": [
        "ks = KShape(n_clusters=5, max_iter=100, n_init=10,verbose=1,random_state=2022)\n",
        "ks.fit(X_train)"
      ],
      "metadata": {
        "colab": {
          "base_uri": "https://localhost:8080/"
        },
        "id": "duI2NsHE886-",
        "outputId": "c4736a14-ad69-4afe-a107-6e7f62c35d46"
      },
      "execution_count": 42,
      "outputs": [
        {
          "output_type": "stream",
          "name": "stdout",
          "text": [
            "Init 1\n",
            "0.017 --> 0.017 --> \n",
            "Init 2\n",
            "0.015 --> 0.015 --> \n",
            "Init 3\n",
            "0.016 --> 0.016 --> 0.017 --> \n",
            "Init 4\n",
            "0.018 --> 0.018 --> 0.017 --> 0.018 --> \n",
            "Init 5\n",
            "0.018 --> 0.017 --> 0.017 --> \n",
            "Init 6\n",
            "0.035 --> 0.020 --> 0.016 --> 0.016 --> \n",
            "Init 7\n",
            "0.015 --> 0.014 --> 0.014 --> \n",
            "Init 8\n",
            "0.016 --> 0.015 --> 0.016 --> \n",
            "Init 9\n",
            "0.014 --> 0.014 --> \n",
            "Init 10\n",
            "0.016 --> 0.017 --> \n"
          ]
        },
        {
          "output_type": "execute_result",
          "data": {
            "text/plain": [
              "KShape(n_clusters=5, n_init=10, random_state=2022, verbose=1)"
            ]
          },
          "metadata": {},
          "execution_count": 42
        }
      ]
    },
    {
      "cell_type": "markdown",
      "source": [
        "## 수정된 Rand 지수"
      ],
      "metadata": {
        "id": "6TkuEDZd9e6u"
      }
    },
    {
      "cell_type": "code",
      "source": [
        "# 훈련 셋에 대한 예측값 생성 및 수정된 Rand 지수 계산\n",
        "preds = ks.predict(X_train)\n",
        "ars = adjusted_rand_score(data_train[:,0],preds)\n",
        "print(\"Adjusted Rand Index on Training Set:\", ars)"
      ],
      "metadata": {
        "colab": {
          "base_uri": "https://localhost:8080/"
        },
        "id": "vipayY_R9DSc",
        "outputId": "352ac79a-e690-4c7f-df30-730f65c9b4ac"
      },
      "execution_count": 44,
      "outputs": [
        {
          "output_type": "stream",
          "name": "stdout",
          "text": [
            "Adjusted Rand Index on Training Set: 0.45300355956290145\n"
          ]
        }
      ]
    },
    {
      "cell_type": "code",
      "source": [
        "# 테스트 셋에 대한 예측값 생성 및 수정된 Rand 지수 계산\n",
        "preds_test = ks.predict(X_test)\n",
        "ars = adjusted_rand_score(data_test[:,0],preds_test)\n",
        "print(\"Adjusted Rand Index on Test Set:\", ars)"
      ],
      "metadata": {
        "colab": {
          "base_uri": "https://localhost:8080/"
        },
        "id": "Euy7p7R29hfp",
        "outputId": "1479161a-af32-46e9-e840-576a16b2de0e"
      },
      "execution_count": 45,
      "outputs": [
        {
          "output_type": "stream",
          "name": "stdout",
          "text": [
            "Adjusted Rand Index on Test Set: 0.46701335238549235\n"
          ]
        }
      ]
    },
    {
      "cell_type": "markdown",
      "source": [
        "## 군집별 적합도 검정"
      ],
      "metadata": {
        "id": "dPDvRnVI9xYu"
      }
    },
    {
      "cell_type": "code",
      "source": [
        "preds_test = np.hstack((preds_test.reshape(1000,1),\n",
        "                        data_test[:,0].reshape(1000,1)))\n",
        "\n",
        "preds_test = pd.DataFrame(data=preds_test)\n",
        "preds_test = preds_test.rename(columns={0: 'prediction', 1: 'actual'})"
      ],
      "metadata": {
        "id": "GrwsCCmZ9mb6"
      },
      "execution_count": 46,
      "outputs": []
    },
    {
      "cell_type": "code",
      "source": [
        "counter = 0\n",
        "for i in np.sort(preds_test.prediction.unique()):\n",
        "\n",
        "    print(\"Predicted Cluster \", i)\n",
        "    print(preds_test.actual[preds_test.prediction==i].value_counts())\n",
        "    print()\n",
        "\n",
        "    cnt = preds_test.actual[preds_test.prediction==i].value_counts().iloc[1:].sum()\n",
        "    counter = counter + cnt\n",
        "    \n",
        "print(\"Count of Non-Primary Points: \", counter)"
      ],
      "metadata": {
        "colab": {
          "base_uri": "https://localhost:8080/"
        },
        "id": "aJ45AO3x92_P",
        "outputId": "75f9522a-5011-49ee-8006-778797d7deb8"
      },
      "execution_count": 47,
      "outputs": [
        {
          "output_type": "stream",
          "name": "stdout",
          "text": [
            "Predicted Cluster  0.0\n",
            "1.0    84\n",
            "2.0     8\n",
            "3.0     4\n",
            "4.0     1\n",
            "5.0     1\n",
            "Name: actual, dtype: int64\n",
            "\n",
            "Predicted Cluster  1.0\n",
            "1.0    330\n",
            "3.0      2\n",
            "5.0      1\n",
            "4.0      1\n",
            "Name: actual, dtype: int64\n",
            "\n",
            "Predicted Cluster  2.0\n",
            "2.0    317\n",
            "4.0     12\n",
            "1.0      8\n",
            "3.0      8\n",
            "5.0      4\n",
            "Name: actual, dtype: int64\n",
            "\n",
            "Predicted Cluster  3.0\n",
            "2.0    31\n",
            "4.0    17\n",
            "1.0     7\n",
            "5.0     1\n",
            "Name: actual, dtype: int64\n",
            "\n",
            "Predicted Cluster  4.0\n",
            "1.0    157\n",
            "3.0      2\n",
            "4.0      2\n",
            "5.0      1\n",
            "2.0      1\n",
            "Name: actual, dtype: int64\n",
            "\n",
            "Count of Non-Primary Points:  81\n"
          ]
        }
      ]
    },
    {
      "cell_type": "markdown",
      "source": [
        "## 시계열 k - 평균"
      ],
      "metadata": {
        "id": "tyD8xt0M-ORX"
      }
    },
    {
      "cell_type": "code",
      "source": [
        "km = TimeSeriesKMeans(n_clusters=5,\n",
        "                      max_iter=100,\n",
        "                      n_init=100,\n",
        "                      metric=\"euclidean\",\n",
        "                      verbose=1,\n",
        "                      random_state=2022)\n",
        "km.fit(X_train)"
      ],
      "metadata": {
        "colab": {
          "base_uri": "https://localhost:8080/"
        },
        "id": "niHzkbp7-DQm",
        "outputId": "6f57b2b8-63c3-4ffc-a50e-d60376a8ac76"
      },
      "execution_count": 48,
      "outputs": [
        {
          "output_type": "stream",
          "name": "stdout",
          "text": [
            "Init 1\n",
            "35.465 --> 25.232 --> 24.645 --> 24.426 --> 24.328 --> 24.284 --> 24.268 --> 24.262 --> 24.257 --> 24.255 --> 24.254 --> 24.253 --> 24.252 --> 24.252 --> 24.251 --> 24.250 --> 24.250 --> 24.250 --> 24.250 --> 24.250 --> \n",
            "Init 2\n",
            "34.736 --> 26.448 --> 25.633 --> 24.923 --> 24.563 --> 24.435 --> 24.377 --> 24.331 --> 24.297 --> 24.279 --> 24.269 --> 24.266 --> 24.264 --> 24.262 --> 24.260 --> 24.259 --> 24.258 --> 24.258 --> 24.257 --> 24.257 --> 24.257 --> 24.256 --> 24.256 --> 24.255 --> 24.255 --> 24.255 --> 24.254 --> 24.254 --> 24.254 --> 24.254 --> \n",
            "Init 3\n",
            "36.609 --> 25.450 --> 24.969 --> 24.786 --> 24.691 --> 24.626 --> 24.585 --> 24.559 --> 24.540 --> 24.517 --> 24.494 --> 24.471 --> 24.441 --> 24.413 --> 24.377 --> 24.346 --> 24.318 --> 24.305 --> 24.295 --> 24.286 --> 24.277 --> 24.266 --> 24.255 --> 24.246 --> 24.239 --> 24.232 --> 24.229 --> 24.228 --> 24.227 --> 24.227 --> 24.227 --> 24.226 --> 24.226 --> 24.226 --> 24.226 --> 24.226 --> 24.226 --> \n",
            "Init 4\n",
            "32.347 --> 24.732 --> 24.497 --> 24.373 --> 24.308 --> 24.279 --> 24.266 --> 24.261 --> 24.256 --> 24.253 --> 24.252 --> 24.252 --> 24.251 --> 24.250 --> 24.250 --> 24.250 --> 24.250 --> 24.250 --> \n",
            "Init 5\n",
            "37.922 --> 25.288 --> 24.949 --> 24.863 --> 24.748 --> 24.595 --> 24.442 --> 24.365 --> 24.309 --> 24.283 --> 24.268 --> 24.260 --> 24.247 --> 24.240 --> 24.235 --> 24.232 --> 24.229 --> 24.227 --> 24.227 --> 24.226 --> 24.226 --> 24.226 --> 24.226 --> 24.226 --> \n",
            "Init 6\n",
            "36.814 --> 26.237 --> 25.469 --> 25.067 --> 24.945 --> 24.896 --> 24.878 --> 24.868 --> 24.865 --> 24.862 --> 24.859 --> 24.855 --> 24.854 --> 24.853 --> 24.852 --> 24.852 --> 24.852 --> \n",
            "Init 7\n",
            "34.304 --> 25.941 --> 25.437 --> 25.187 --> 25.098 --> 25.071 --> 25.049 --> 25.040 --> 25.033 --> 25.026 --> 25.014 --> 24.974 --> 24.844 --> 24.677 --> 24.580 --> 24.474 --> 24.402 --> 24.364 --> 24.342 --> 24.331 --> 24.318 --> 24.306 --> 24.283 --> 24.265 --> 24.259 --> 24.257 --> 24.257 --> 24.256 --> 24.255 --> 24.254 --> 24.254 --> 24.254 --> 24.254 --> 24.254 --> 24.254 --> \n",
            "Init 8\n",
            "37.929 --> 25.273 --> 24.900 --> 24.803 --> 24.766 --> 24.756 --> 24.749 --> 24.745 --> 24.736 --> 24.718 --> 24.688 --> 24.684 --> 24.683 --> 24.683 --> 24.683 --> 24.683 --> 24.683 --> \n",
            "Init 9\n",
            "38.321 --> 25.711 --> 25.329 --> 25.022 --> 24.754 --> 24.568 --> 24.441 --> 24.348 --> 24.282 --> 24.254 --> 24.242 --> 24.237 --> 24.234 --> 24.230 --> 24.229 --> 24.229 --> 24.228 --> 24.228 --> 24.228 --> 24.228 --> 24.228 --> 24.228 --> 24.227 --> 24.227 --> 24.227 --> 24.227 --> 24.227 --> 24.227 --> 24.227 --> 24.227 --> \n",
            "Init 10\n",
            "37.859 --> 27.739 --> 27.419 --> 27.109 --> 26.748 --> 26.535 --> 26.384 --> 26.159 --> 25.536 --> 25.102 --> 25.037 --> 25.029 --> 25.025 --> 25.023 --> 25.022 --> 25.021 --> 25.020 --> 25.019 --> 25.019 --> 25.018 --> 25.018 --> 25.017 --> 25.016 --> 25.016 --> 25.016 --> 25.016 --> 25.015 --> 25.015 --> 25.015 --> 25.015 --> 25.015 --> 25.015 --> \n",
            "Init 11\n",
            "33.375 --> 25.817 --> 25.437 --> 25.341 --> 25.330 --> 25.329 --> 25.328 --> 25.327 --> 25.325 --> 25.325 --> 25.325 --> 25.325 --> 25.325 --> 25.325 --> 25.325 --> 25.325 --> 25.325 --> 25.325 --> \n",
            "Init 12\n",
            "33.008 --> 25.310 --> 25.023 --> 24.958 --> 24.935 --> 24.925 --> 24.919 --> 24.915 --> 24.911 --> 24.908 --> 24.906 --> 24.905 --> 24.902 --> 24.900 --> 24.900 --> 24.899 --> 24.899 --> 24.898 --> 24.898 --> 24.898 --> 24.898 --> 24.898 --> 24.898 --> 24.898 --> 24.898 --> \n",
            "Init 13\n",
            "34.841 --> 26.397 --> 25.226 --> 25.019 --> 24.970 --> 24.944 --> 24.929 --> 24.923 --> 24.918 --> 24.915 --> 24.914 --> 24.913 --> 24.912 --> 24.912 --> 24.912 --> 24.912 --> 24.912 --> 24.911 --> 24.911 --> 24.911 --> 24.910 --> 24.910 --> 24.910 --> 24.909 --> 24.909 --> 24.909 --> 24.909 --> 24.909 --> \n",
            "Init 14\n",
            "39.478 --> 25.608 --> 25.449 --> 25.365 --> 25.278 --> 25.133 --> 24.994 --> 24.929 --> 24.908 --> 24.898 --> 24.894 --> 24.889 --> 24.884 --> 24.879 --> 24.875 --> 24.873 --> 24.872 --> 24.872 --> 24.871 --> 24.871 --> 24.871 --> \n",
            "Init 15\n",
            "34.678 --> 25.854 --> 25.403 --> 24.986 --> 24.442 --> 24.272 --> 24.243 --> 24.235 --> 24.231 --> 24.229 --> 24.228 --> 24.228 --> 24.228 --> 24.228 --> 24.228 --> 24.228 --> 24.228 --> 24.227 --> 24.227 --> 24.227 --> 24.227 --> 24.227 --> 24.227 --> 24.227 --> 24.227 --> 24.227 --> 24.227 --> \n",
            "Init 16\n",
            "35.899 --> 25.475 --> 24.598 --> 24.437 --> 24.371 --> 24.344 --> 24.332 --> 24.321 --> 24.306 --> 24.282 --> 24.265 --> 24.257 --> 24.256 --> 24.255 --> 24.255 --> 24.254 --> 24.254 --> 24.254 --> 24.254 --> \n",
            "Init 17\n",
            "34.172 --> 26.337 --> 25.339 --> 25.151 --> 25.080 --> 25.051 --> 25.034 --> 25.024 --> 25.020 --> 25.018 --> 25.017 --> 25.016 --> 25.016 --> 25.016 --> 25.016 --> 25.015 --> 25.015 --> 25.015 --> 25.015 --> 25.015 --> 25.015 --> \n",
            "Init 18\n",
            "35.724 --> 26.861 --> 26.079 --> 25.932 --> 25.844 --> 25.776 --> 25.700 --> 25.584 --> 25.432 --> 25.240 --> 25.131 --> 25.073 --> 25.043 --> 25.029 --> 25.023 --> 25.019 --> 25.017 --> 25.016 --> 25.016 --> 25.016 --> 25.015 --> 25.015 --> 25.015 --> 25.015 --> \n",
            "Init 19\n",
            "33.680 --> 25.142 --> 24.963 --> 24.893 --> 24.855 --> 24.838 --> 24.831 --> 24.829 --> 24.827 --> 24.823 --> 24.818 --> 24.813 --> 24.810 --> 24.808 --> 24.807 --> 24.806 --> 24.806 --> 24.806 --> 24.806 --> \n",
            "Init 20\n",
            "33.994 --> 25.468 --> 25.265 --> 25.113 --> 25.020 --> 24.985 --> 24.967 --> 24.957 --> 24.949 --> 24.943 --> 24.938 --> 24.933 --> 24.929 --> 24.926 --> 24.925 --> 24.922 --> 24.921 --> 24.920 --> 24.920 --> 24.920 --> 24.920 --> 24.920 --> 24.920 --> 24.919 --> 24.919 --> 24.919 --> 24.919 --> \n",
            "Init 21\n",
            "37.322 --> 27.000 --> 25.987 --> 25.550 --> 25.381 --> 25.336 --> 25.312 --> 25.302 --> 25.289 --> 25.274 --> 25.246 --> 25.221 --> 25.194 --> 25.166 --> 25.113 --> 24.954 --> 24.636 --> 24.438 --> 24.345 --> 24.310 --> 24.295 --> 24.286 --> 24.272 --> 24.255 --> 24.239 --> 24.231 --> 24.228 --> 24.227 --> 24.227 --> 24.227 --> 24.227 --> 24.227 --> 24.227 --> 24.227 --> 24.227 --> 24.227 --> \n",
            "Init 22\n",
            "32.811 --> 26.397 --> 26.077 --> 25.729 --> 25.470 --> 25.359 --> 25.268 --> 25.191 --> 25.088 --> 24.975 --> 24.844 --> 24.729 --> 24.638 --> 24.558 --> 24.457 --> 24.373 --> 24.307 --> 24.279 --> 24.267 --> 24.262 --> 24.261 --> 24.260 --> 24.259 --> 24.258 --> 24.258 --> 24.257 --> 24.257 --> 24.256 --> 24.256 --> 24.255 --> 24.255 --> 24.255 --> 24.254 --> 24.254 --> 24.254 --> 24.254 --> 24.254 --> \n",
            "Init 23\n",
            "34.827 --> 27.041 --> 26.507 --> 26.256 --> 26.094 --> 25.722 --> 24.891 --> 24.319 --> 24.261 --> 24.255 --> 24.254 --> 24.253 --> 24.252 --> 24.252 --> 24.251 --> 24.251 --> 24.250 --> 24.250 --> 24.250 --> 24.250 --> 24.250 --> \n",
            "Init 24\n",
            "33.258 --> 24.699 --> 24.403 --> 24.312 --> 24.285 --> 24.272 --> 24.264 --> 24.262 --> 24.259 --> 24.258 --> 24.257 --> 24.256 --> 24.256 --> 24.255 --> 24.254 --> 24.254 --> 24.253 --> 24.253 --> 24.253 --> 24.253 --> 24.253 --> 24.253 --> \n",
            "Init 25\n",
            "35.268 --> 25.411 --> 25.071 --> 24.802 --> 24.534 --> 24.386 --> 24.330 --> 24.303 --> 24.293 --> 24.281 --> 24.266 --> 24.245 --> 24.235 --> 24.230 --> 24.229 --> 24.228 --> 24.228 --> 24.227 --> 24.227 --> 24.227 --> 24.227 --> 24.227 --> 24.227 --> 24.227 --> 24.227 --> \n",
            "Init 26\n",
            "34.863 --> 25.019 --> 24.742 --> 24.638 --> 24.569 --> 24.543 --> 24.530 --> 24.522 --> 24.512 --> 24.500 --> 24.483 --> 24.468 --> 24.447 --> 24.421 --> 24.391 --> 24.361 --> 24.333 --> 24.314 --> 24.303 --> 24.294 --> 24.286 --> 24.277 --> 24.268 --> 24.258 --> 24.251 --> 24.242 --> 24.235 --> 24.231 --> 24.229 --> 24.228 --> 24.228 --> 24.227 --> 24.227 --> 24.227 --> 24.227 --> 24.227 --> 24.227 --> 24.227 --> 24.227 --> 24.227 --> \n",
            "Init 27\n",
            "35.520 --> 25.260 --> 24.501 --> 24.346 --> 24.301 --> 24.286 --> 24.272 --> 24.261 --> 24.257 --> 24.254 --> 24.251 --> 24.250 --> 24.250 --> 24.250 --> 24.250 --> \n",
            "Init 28\n",
            "42.849 --> 28.650 --> 28.037 --> 27.763 --> 27.620 --> 27.518 --> 27.447 --> 27.411 --> 27.387 --> 27.367 --> 27.345 --> 27.325 --> 27.306 --> 27.285 --> 27.262 --> 27.244 --> 27.221 --> 27.186 --> 27.135 --> 27.083 --> 27.032 --> 26.959 --> 26.769 --> 26.520 --> 26.429 --> 26.398 --> 26.365 --> 26.331 --> 26.296 --> 26.275 --> 26.261 --> 26.236 --> 26.208 --> 26.192 --> 26.185 --> 26.178 --> 26.163 --> 26.119 --> 25.973 --> 25.557 --> 25.078 --> 24.974 --> 24.943 --> 24.932 --> 24.923 --> 24.916 --> 24.912 --> 24.909 --> 24.906 --> 24.904 --> 24.901 --> 24.900 --> 24.899 --> 24.898 --> 24.898 --> 24.898 --> 24.898 --> 24.898 --> 24.898 --> 24.898 --> 24.898 --> 24.898 --> \n",
            "Init 29\n",
            "37.033 --> 25.855 --> 25.444 --> 25.299 --> 25.225 --> 25.185 --> 25.155 --> 25.126 --> 25.109 --> 25.098 --> 25.092 --> 25.090 --> 25.084 --> 25.075 --> 25.056 --> 25.046 --> 25.039 --> 25.034 --> 25.026 --> 25.012 --> 24.971 --> 24.832 --> 24.672 --> 24.575 --> 24.465 --> 24.395 --> 24.360 --> 24.340 --> 24.327 --> 24.314 --> 24.298 --> 24.275 --> 24.261 --> 24.258 --> 24.257 --> 24.257 --> 24.256 --> 24.255 --> 24.254 --> 24.254 --> 24.254 --> 24.254 --> 24.254 --> 24.254 --> \n",
            "Init 30\n",
            "32.619 --> 25.225 --> 24.923 --> 24.696 --> 24.557 --> 24.476 --> 24.420 --> 24.369 --> 24.318 --> 24.285 --> 24.273 --> 24.266 --> 24.265 --> 24.263 --> 24.261 --> 24.260 --> 24.258 --> 24.258 --> 24.257 --> 24.257 --> 24.257 --> 24.256 --> 24.256 --> 24.255 --> 24.255 --> 24.255 --> 24.254 --> 24.254 --> 24.254 --> 24.254 --> \n",
            "Init 31\n",
            "33.954 --> 25.892 --> 25.625 --> 25.543 --> 25.492 --> 25.446 --> 25.336 --> 25.023 --> 24.790 --> 24.651 --> 24.579 --> 24.534 --> 24.500 --> 24.464 --> 24.418 --> 24.372 --> 24.334 --> 24.312 --> 24.301 --> 24.292 --> 24.283 --> 24.273 --> 24.265 --> 24.256 --> 24.247 --> 24.239 --> 24.233 --> 24.230 --> 24.229 --> 24.229 --> 24.228 --> 24.228 --> 24.227 --> 24.227 --> 24.227 --> 24.227 --> \n",
            "Init 32\n",
            "39.879 --> 27.807 --> 27.226 --> 27.004 --> 26.836 --> 26.557 --> 26.436 --> 26.403 --> 26.369 --> 26.334 --> 26.297 --> 26.275 --> 26.261 --> 26.236 --> 26.208 --> 26.192 --> 26.185 --> 26.178 --> 26.163 --> 26.119 --> 25.973 --> 25.557 --> 25.078 --> 24.974 --> 24.943 --> 24.932 --> 24.923 --> 24.916 --> 24.912 --> 24.909 --> 24.906 --> 24.904 --> 24.901 --> 24.900 --> 24.899 --> 24.898 --> 24.898 --> 24.898 --> 24.898 --> 24.898 --> 24.898 --> 24.898 --> 24.898 --> 24.898 --> \n",
            "Init 33\n",
            "37.509 --> 25.533 --> 25.233 --> 25.140 --> 25.084 --> 25.063 --> 25.050 --> 25.041 --> 25.036 --> 25.032 --> 25.028 --> 25.026 --> 25.024 --> 25.022 --> 25.021 --> 25.020 --> 25.019 --> 25.018 --> 25.018 --> 25.017 --> 25.016 --> 25.016 --> 25.016 --> 25.015 --> 25.015 --> 25.015 --> 25.015 --> 25.015 --> 25.015 --> 25.015 --> \n",
            "Init 34\n",
            "31.820 --> 25.540 --> 25.025 --> 24.789 --> 24.692 --> 24.644 --> 24.614 --> 24.595 --> 24.577 --> 24.559 --> 24.533 --> 24.509 --> 24.489 --> 24.472 --> 24.450 --> 24.424 --> 24.395 --> 24.365 --> 24.336 --> 24.315 --> 24.304 --> 24.294 --> 24.286 --> 24.277 --> 24.268 --> 24.258 --> 24.251 --> 24.242 --> 24.235 --> 24.231 --> 24.229 --> 24.228 --> 24.228 --> 24.227 --> 24.227 --> 24.227 --> 24.227 --> 24.227 --> 24.227 --> 24.227 --> 24.227 --> 24.227 --> \n",
            "Init 35\n",
            "37.483 --> 26.065 --> 25.455 --> 25.344 --> 25.238 --> 25.095 --> 25.004 --> 24.969 --> 24.953 --> 24.943 --> 24.935 --> 24.925 --> 24.920 --> 24.916 --> 24.914 --> 24.913 --> 24.913 --> 24.912 --> 24.912 --> 24.912 --> 24.912 --> 24.912 --> 24.912 --> 24.912 --> 24.911 --> 24.911 --> 24.911 --> 24.910 --> 24.910 --> 24.910 --> 24.909 --> 24.909 --> 24.909 --> 24.909 --> \n",
            "Init 36\n",
            "35.978 --> 26.293 --> 25.536 --> 24.981 --> 24.918 --> 24.905 --> 24.897 --> 24.892 --> 24.889 --> 24.887 --> 24.885 --> 24.882 --> 24.880 --> 24.877 --> 24.876 --> 24.874 --> 24.873 --> 24.873 --> 24.873 --> 24.872 --> 24.871 --> 24.871 --> 24.871 --> 24.871 --> \n",
            "Init 37\n",
            "37.130 --> 26.395 --> 26.066 --> 25.897 --> 25.784 --> 25.720 --> 25.593 --> 25.390 --> 25.127 --> 24.978 --> 24.916 --> 24.898 --> 24.885 --> 24.876 --> 24.869 --> 24.865 --> 24.863 --> 24.859 --> 24.856 --> 24.854 --> 24.853 --> 24.852 --> 24.852 --> 24.852 --> 24.852 --> \n",
            "Init 38\n",
            "35.491 --> 26.537 --> 25.909 --> 25.616 --> 25.412 --> 25.278 --> 25.202 --> 25.154 --> 25.111 --> 25.081 --> 25.061 --> 25.049 --> 25.042 --> 25.036 --> 25.032 --> 25.029 --> 25.026 --> 25.024 --> 25.022 --> 25.020 --> 25.019 --> 25.018 --> 25.018 --> 25.017 --> 25.016 --> 25.016 --> 25.016 --> 25.015 --> 25.015 --> 25.015 --> 25.015 --> 25.015 --> 25.015 --> 25.015 --> \n",
            "Init 39\n",
            "34.228 --> 27.821 --> 26.575 --> 25.314 --> 24.944 --> 24.797 --> 24.727 --> 24.693 --> 24.684 --> 24.683 --> 24.683 --> 24.683 --> 24.683 --> \n",
            "Init 40\n",
            "36.998 --> 26.462 --> 25.640 --> 25.227 --> 25.116 --> 25.079 --> 25.047 --> 25.019 --> 24.980 --> 24.845 --> 24.676 --> 24.579 --> 24.469 --> 24.400 --> 24.362 --> 24.342 --> 24.330 --> 24.318 --> 24.304 --> 24.281 --> 24.265 --> 24.259 --> 24.258 --> 24.257 --> 24.256 --> 24.255 --> 24.254 --> 24.254 --> 24.254 --> 24.254 --> 24.254 --> 24.254 --> \n",
            "Init 41\n",
            "33.534 --> 25.876 --> 25.567 --> 25.374 --> 25.205 --> 25.014 --> 24.930 --> 24.901 --> 24.885 --> 24.876 --> 24.868 --> 24.864 --> 24.861 --> 24.858 --> 24.855 --> 24.853 --> 24.852 --> 24.852 --> 24.852 --> 24.852 --> 24.852 --> \n",
            "Init 42\n",
            "32.205 --> 26.360 --> 25.343 --> 25.067 --> 24.988 --> 24.957 --> 24.937 --> 24.927 --> 24.919 --> 24.913 --> 24.909 --> 24.906 --> 24.903 --> 24.900 --> 24.899 --> 24.899 --> 24.899 --> 24.898 --> 24.898 --> 24.898 --> 24.898 --> 24.898 --> 24.898 --> \n",
            "Init 43\n",
            "33.070 --> 26.752 --> 26.524 --> 26.358 --> 26.205 --> 26.042 --> 25.822 --> 25.469 --> 25.128 --> 24.939 --> 24.815 --> 24.737 --> 24.693 --> 24.685 --> 24.683 --> 24.683 --> 24.683 --> \n",
            "Init 44\n",
            "40.527 --> 25.966 --> 25.416 --> 25.028 --> 24.614 --> 24.403 --> 24.313 --> 24.289 --> 24.275 --> 24.268 --> 24.263 --> 24.261 --> 24.259 --> 24.259 --> 24.258 --> 24.257 --> 24.257 --> 24.257 --> 24.256 --> 24.256 --> 24.255 --> 24.255 --> 24.255 --> 24.254 --> 24.254 --> 24.254 --> 24.254 --> 24.254 --> \n",
            "Init 45\n",
            "33.704 --> 26.067 --> 25.689 --> 25.482 --> 25.330 --> 25.230 --> 25.160 --> 25.115 --> 25.080 --> 25.052 --> 25.039 --> 25.032 --> 25.028 --> 25.025 --> 25.023 --> 25.022 --> 25.021 --> 25.020 --> 25.020 --> 25.019 --> 25.018 --> 25.018 --> 25.017 --> 25.017 --> 25.016 --> 25.016 --> 25.016 --> 25.015 --> 25.015 --> 25.015 --> 25.015 --> 25.015 --> 25.015 --> \n",
            "Init 46\n",
            "34.448 --> 25.639 --> 25.212 --> 25.039 --> 24.978 --> 24.945 --> 24.929 --> 24.920 --> 24.915 --> 24.912 --> 24.911 --> 24.910 --> 24.910 --> 24.910 --> 24.910 --> \n",
            "Init 47\n",
            "36.350 --> 25.534 --> 25.272 --> 25.180 --> 25.126 --> 25.083 --> 25.057 --> 25.040 --> 25.031 --> 25.027 --> 25.024 --> 25.023 --> 25.022 --> 25.021 --> 25.020 --> 25.019 --> 25.019 --> 25.018 --> 25.018 --> 25.017 --> 25.016 --> 25.016 --> 25.016 --> 25.016 --> 25.015 --> 25.015 --> 25.015 --> 25.015 --> 25.015 --> 25.015 --> \n",
            "Init 48\n",
            "36.266 --> 26.611 --> 25.922 --> 25.579 --> 25.283 --> 24.938 --> 24.628 --> 24.482 --> 24.436 --> 24.414 --> 24.400 --> 24.387 --> 24.366 --> 24.344 --> 24.323 --> 24.309 --> 24.292 --> 24.274 --> 24.261 --> 24.257 --> 24.256 --> 24.256 --> 24.256 --> 24.255 --> 24.254 --> 24.254 --> 24.254 --> 24.254 --> \n",
            "Init 49\n",
            "39.079 --> 25.720 --> 25.100 --> 24.933 --> 24.882 --> 24.861 --> 24.855 --> 24.853 --> 24.852 --> 24.851 --> 24.851 --> 24.851 --> 24.851 --> \n",
            "Init 50\n",
            "38.173 --> 26.728 --> 25.061 --> 24.496 --> 24.399 --> 24.349 --> 24.317 --> 24.293 --> 24.279 --> 24.265 --> 24.255 --> 24.247 --> 24.239 --> 24.232 --> 24.230 --> 24.229 --> 24.228 --> 24.227 --> 24.227 --> 24.227 --> 24.227 --> 24.227 --> 24.227 --> 24.227 --> 24.227 --> 24.227 --> 24.227 --> \n",
            "Init 51\n",
            "34.294 --> 26.316 --> 25.968 --> 25.709 --> 25.617 --> 25.542 --> 25.496 --> 25.464 --> 25.446 --> 25.433 --> 25.427 --> 25.423 --> 25.421 --> 25.420 --> 25.419 --> 25.417 --> 25.415 --> 25.411 --> 25.405 --> 25.392 --> 25.370 --> 25.342 --> 25.297 --> 25.227 --> 25.126 --> 25.030 --> 24.973 --> 24.935 --> 24.918 --> 24.908 --> 24.899 --> 24.890 --> 24.886 --> 24.882 --> 24.880 --> 24.877 --> 24.874 --> 24.872 --> 24.870 --> 24.868 --> 24.868 --> 24.867 --> 24.866 --> 24.866 --> \n",
            "Init 52\n",
            "36.845 --> 25.430 --> 25.091 --> 24.986 --> 24.934 --> 24.914 --> 24.904 --> 24.902 --> 24.900 --> 24.900 --> 24.900 --> 24.899 --> 24.899 --> 24.899 --> \n",
            "Init 53\n",
            "32.227 --> 25.486 --> 25.063 --> 24.881 --> 24.744 --> 24.644 --> 24.560 --> 24.460 --> 24.375 --> 24.308 --> 24.278 --> 24.267 --> 24.262 --> 24.260 --> 24.259 --> 24.259 --> 24.258 --> 24.257 --> 24.257 --> 24.257 --> 24.256 --> 24.256 --> 24.255 --> 24.255 --> 24.255 --> 24.254 --> 24.254 --> 24.254 --> 24.254 --> 24.254 --> \n",
            "Init 54\n",
            "37.925 --> 26.471 --> 25.476 --> 24.612 --> 24.379 --> 24.315 --> 24.294 --> 24.279 --> 24.260 --> 24.246 --> 24.235 --> 24.231 --> 24.229 --> 24.229 --> 24.228 --> 24.227 --> 24.227 --> 24.227 --> 24.227 --> 24.227 --> 24.227 --> 24.227 --> 24.227 --> \n",
            "Init 55\n",
            "38.644 --> 26.413 --> 25.857 --> 25.689 --> 25.593 --> 25.523 --> 25.452 --> 25.393 --> 25.337 --> 25.260 --> 25.119 --> 24.986 --> 24.929 --> 24.910 --> 24.899 --> 24.894 --> 24.889 --> 24.882 --> 24.875 --> 24.871 --> 24.871 --> 24.871 --> 24.871 --> 24.871 --> \n",
            "Init 56\n",
            "36.899 --> 27.097 --> 26.879 --> 26.797 --> 26.685 --> 26.421 --> 25.879 --> 25.263 --> 24.827 --> 24.387 --> 24.281 --> 24.256 --> 24.244 --> 24.237 --> 24.233 --> 24.230 --> 24.228 --> 24.227 --> 24.227 --> 24.227 --> 24.227 --> 24.227 --> 24.226 --> 24.226 --> 24.226 --> 24.226 --> \n",
            "Init 57\n",
            "33.425 --> 26.687 --> 26.343 --> 26.255 --> 26.215 --> 26.196 --> 26.190 --> 26.183 --> 26.171 --> 26.138 --> 26.042 --> 25.719 --> 25.171 --> 24.991 --> 24.951 --> 24.938 --> 24.929 --> 24.921 --> 24.914 --> 24.910 --> 24.906 --> 24.904 --> 24.902 --> 24.900 --> 24.899 --> 24.898 --> 24.898 --> 24.898 --> 24.898 --> 24.898 --> 24.898 --> 24.898 --> 24.898 --> 24.898 --> \n",
            "Init 58\n",
            "34.770 --> 25.119 --> 24.947 --> 24.870 --> 24.753 --> 24.691 --> 24.684 --> 24.683 --> 24.683 --> 24.683 --> 24.683 --> 24.683 --> \n",
            "Init 59\n",
            "36.572 --> 26.193 --> 25.774 --> 25.604 --> 25.500 --> 25.417 --> 25.352 --> 25.269 --> 25.128 --> 24.991 --> 24.929 --> 24.913 --> 24.906 --> 24.900 --> 24.897 --> 24.894 --> 24.893 --> 24.890 --> 24.887 --> 24.884 --> 24.880 --> 24.877 --> 24.875 --> 24.874 --> 24.872 --> 24.871 --> 24.871 --> 24.871 --> 24.871 --> 24.871 --> \n",
            "Init 60\n",
            "38.026 --> 27.258 --> 26.752 --> 26.221 --> 25.485 --> 25.095 --> 24.992 --> 24.949 --> 24.930 --> 24.922 --> 24.917 --> 24.913 --> 24.908 --> 24.905 --> 24.903 --> 24.901 --> 24.900 --> 24.899 --> 24.899 --> 24.899 --> 24.899 --> 24.899 --> \n",
            "Init 61\n",
            "35.973 --> 26.004 --> 25.419 --> 25.044 --> 24.858 --> 24.760 --> 24.714 --> 24.693 --> 24.687 --> 24.684 --> 24.683 --> 24.683 --> 24.683 --> 24.683 --> 24.683 --> \n",
            "Init 62\n",
            "41.179 --> 25.541 --> 24.645 --> 24.389 --> 24.354 --> 24.349 --> 24.348 --> 24.348 --> 24.348 --> 24.348 --> 24.347 --> 24.346 --> 24.346 --> 24.346 --> 24.346 --> 24.346 --> \n",
            "Init 63\n",
            "34.351 --> 25.038 --> 24.830 --> 24.633 --> 24.475 --> 24.401 --> 24.347 --> 24.315 --> 24.300 --> 24.290 --> 24.279 --> 24.268 --> 24.261 --> 24.256 --> 24.253 --> 24.251 --> 24.250 --> 24.250 --> 24.250 --> \n",
            "Init 64\n",
            "36.362 --> 25.421 --> 24.880 --> 24.646 --> 24.485 --> 24.386 --> 24.327 --> 24.300 --> 24.278 --> 24.264 --> 24.260 --> 24.259 --> 24.257 --> 24.256 --> 24.255 --> 24.254 --> 24.254 --> 24.254 --> 24.254 --> 24.254 --> 24.254 --> \n",
            "Init 65\n",
            "37.720 --> 26.981 --> 26.234 --> 25.854 --> 25.555 --> 25.350 --> 24.988 --> 24.790 --> 24.681 --> 24.634 --> 24.607 --> 24.589 --> 24.571 --> 24.545 --> 24.513 --> 24.485 --> 24.463 --> 24.438 --> 24.414 --> 24.382 --> 24.353 --> 24.326 --> 24.311 --> 24.301 --> 24.292 --> 24.284 --> 24.274 --> 24.267 --> 24.258 --> 24.249 --> 24.241 --> 24.234 --> 24.230 --> 24.229 --> 24.228 --> 24.228 --> 24.227 --> 24.227 --> 24.227 --> 24.227 --> 24.227 --> 24.227 --> 24.227 --> 24.227 --> 24.227 --> \n",
            "Init 66\n",
            "35.475 --> 26.170 --> 25.343 --> 25.156 --> 25.087 --> 25.047 --> 25.031 --> 25.023 --> 25.014 --> 25.003 --> 24.991 --> 24.976 --> 24.958 --> 24.943 --> 24.934 --> 24.925 --> 24.919 --> 24.915 --> 24.915 --> 24.914 --> 24.914 --> 24.914 --> 24.914 --> 24.914 --> 24.914 --> 24.914 --> 24.912 --> 24.911 --> 24.909 --> 24.908 --> 24.907 --> 24.907 --> 24.906 --> 24.906 --> 24.906 --> 24.906 --> 24.906 --> 24.906 --> 24.906 --> 24.906 --> 24.906 --> 24.906 --> \n",
            "Init 67\n",
            "32.847 --> 26.070 --> 25.728 --> 25.542 --> 25.356 --> 25.200 --> 25.103 --> 25.051 --> 25.021 --> 25.010 --> 25.002 --> 24.996 --> 24.993 --> 24.991 --> 24.987 --> 24.982 --> 24.973 --> 24.965 --> 24.954 --> 24.944 --> 24.935 --> 24.927 --> 24.919 --> 24.916 --> 24.914 --> 24.913 --> 24.913 --> 24.912 --> 24.912 --> 24.912 --> 24.912 --> 24.912 --> 24.912 --> 24.912 --> 24.911 --> 24.911 --> 24.911 --> 24.910 --> 24.910 --> 24.910 --> 24.909 --> 24.909 --> 24.909 --> 24.909 --> 24.909 --> \n",
            "Init 68\n",
            "37.200 --> 25.801 --> 25.516 --> 25.375 --> 25.282 --> 25.200 --> 25.156 --> 25.132 --> 25.120 --> 25.107 --> 25.096 --> 25.086 --> 25.075 --> 25.056 --> 25.031 --> 25.006 --> 24.985 --> 24.969 --> 24.960 --> 24.951 --> 24.945 --> 24.941 --> 24.936 --> 24.932 --> 24.928 --> 24.926 --> 24.923 --> 24.922 --> 24.920 --> 24.920 --> 24.920 --> 24.920 --> 24.920 --> 24.920 --> 24.919 --> 24.919 --> 24.918 --> 24.917 --> 24.915 --> 24.913 --> 24.911 --> 24.909 --> 24.907 --> 24.907 --> 24.907 --> 24.906 --> 24.906 --> 24.906 --> 24.905 --> 24.904 --> 24.904 --> 24.904 --> 24.903 --> 24.902 --> 24.902 --> 24.901 --> 24.899 --> 24.897 --> 24.894 --> 24.890 --> 24.886 --> 24.882 --> 24.879 --> 24.878 --> 24.877 --> 24.876 --> 24.875 --> 24.873 --> 24.873 --> 24.872 --> 24.872 --> 24.871 --> 24.871 --> 24.871 --> \n",
            "Init 69\n",
            "32.452 --> 24.768 --> 24.445 --> 24.337 --> 24.293 --> 24.276 --> 24.270 --> 24.264 --> 24.262 --> 24.260 --> 24.259 --> 24.258 --> 24.258 --> 24.257 --> 24.257 --> 24.257 --> 24.256 --> 24.256 --> 24.255 --> 24.255 --> 24.255 --> 24.254 --> 24.254 --> 24.254 --> 24.254 --> \n",
            "Init 70\n",
            "33.274 --> 26.343 --> 25.852 --> 25.480 --> 25.266 --> 25.149 --> 25.076 --> 25.031 --> 24.998 --> 24.977 --> 24.961 --> 24.938 --> 24.920 --> 24.905 --> 24.896 --> 24.891 --> 24.886 --> 24.883 --> 24.879 --> 24.875 --> 24.874 --> 24.872 --> 24.871 --> 24.871 --> 24.870 --> 24.870 --> 24.870 --> 24.870 --> 24.870 --> 24.870 --> \n",
            "Init 71\n",
            "38.073 --> 25.191 --> 24.472 --> 24.346 --> 24.311 --> 24.293 --> 24.277 --> 24.266 --> 24.262 --> 24.258 --> 24.254 --> 24.251 --> 24.250 --> 24.250 --> 24.250 --> \n",
            "Init 72\n",
            "33.609 --> 25.358 --> 25.019 --> 24.936 --> 24.909 --> 24.899 --> 24.897 --> 24.897 --> 24.896 --> 24.893 --> 24.890 --> 24.887 --> 24.885 --> 24.882 --> 24.878 --> 24.873 --> 24.867 --> 24.859 --> 24.854 --> 24.849 --> 24.842 --> 24.838 --> 24.836 --> 24.835 --> 24.834 --> 24.834 --> 24.833 --> 24.833 --> 24.833 --> 24.833 --> 24.833 --> 24.833 --> 24.833 --> 24.833 --> 24.833 --> 24.833 --> \n",
            "Init 73\n",
            "35.707 --> 24.988 --> 24.750 --> 24.702 --> 24.689 --> 24.685 --> 24.683 --> 24.683 --> 24.683 --> 24.683 --> 24.683 --> \n",
            "Init 74\n",
            "30.877 --> 24.732 --> 24.476 --> 24.379 --> 24.321 --> 24.286 --> 24.275 --> 24.266 --> 24.264 --> 24.261 --> 24.259 --> 24.259 --> 24.258 --> 24.257 --> 24.257 --> 24.257 --> 24.256 --> 24.256 --> 24.255 --> 24.255 --> 24.255 --> 24.254 --> 24.254 --> 24.254 --> 24.254 --> \n",
            "Init 75\n",
            "33.419 --> 25.255 --> 24.815 --> 24.713 --> 24.697 --> 24.692 --> 24.689 --> 24.688 --> 24.687 --> 24.684 --> 24.683 --> 24.683 --> 24.683 --> 24.683 --> 24.683 --> \n",
            "Init 76\n",
            "34.955 --> 25.425 --> 25.220 --> 25.130 --> 25.059 --> 25.012 --> 24.979 --> 24.945 --> 24.925 --> 24.915 --> 24.913 --> 24.912 --> 24.911 --> 24.911 --> 24.911 --> 24.911 --> 24.911 --> 24.910 --> 24.909 --> 24.908 --> 24.907 --> 24.905 --> 24.903 --> 24.902 --> 24.902 --> 24.901 --> 24.901 --> 24.901 --> 24.901 --> \n",
            "Init 77\n",
            "35.078 --> 25.459 --> 24.994 --> 24.770 --> 24.653 --> 24.591 --> 24.562 --> 24.546 --> 24.534 --> 24.525 --> 24.514 --> 24.502 --> 24.484 --> 24.469 --> 24.448 --> 24.422 --> 24.392 --> 24.361 --> 24.334 --> 24.314 --> 24.303 --> 24.294 --> 24.286 --> 24.277 --> 24.268 --> 24.258 --> 24.251 --> 24.242 --> 24.235 --> 24.231 --> 24.229 --> 24.228 --> 24.228 --> 24.227 --> 24.227 --> 24.227 --> 24.227 --> 24.227 --> 24.227 --> 24.227 --> 24.227 --> 24.227 --> \n",
            "Init 78\n",
            "36.468 --> 25.590 --> 25.283 --> 25.181 --> 25.140 --> 25.113 --> 25.092 --> 25.069 --> 25.049 --> 25.021 --> 24.997 --> 24.980 --> 24.968 --> 24.958 --> 24.949 --> 24.943 --> 24.938 --> 24.933 --> 24.929 --> 24.926 --> 24.925 --> 24.922 --> 24.921 --> 24.920 --> 24.920 --> 24.920 --> 24.920 --> 24.920 --> 24.920 --> 24.919 --> 24.919 --> 24.919 --> 24.919 --> \n",
            "Init 79\n",
            "33.669 --> 25.674 --> 25.158 --> 25.024 --> 24.985 --> 24.967 --> 24.952 --> 24.940 --> 24.930 --> 24.923 --> 24.918 --> 24.915 --> 24.914 --> 24.913 --> 24.913 --> 24.913 --> 24.912 --> 24.912 --> 24.912 --> 24.912 --> 24.911 --> 24.911 --> 24.911 --> 24.910 --> 24.910 --> 24.910 --> 24.909 --> 24.909 --> 24.909 --> 24.909 --> 24.909 --> \n",
            "Init 80\n",
            "33.533 --> 26.134 --> 25.709 --> 25.370 --> 24.991 --> 24.669 --> 24.491 --> 24.393 --> 24.346 --> 24.331 --> 24.317 --> 24.303 --> 24.279 --> 24.264 --> 24.258 --> 24.257 --> 24.257 --> 24.256 --> 24.255 --> 24.254 --> 24.254 --> 24.254 --> 24.254 --> 24.254 --> 24.254 --> \n",
            "Init 81\n",
            "32.895 --> 25.324 --> 24.829 --> 24.712 --> 24.689 --> 24.683 --> 24.683 --> 24.683 --> 24.683 --> 24.683 --> 24.683 --> \n",
            "Init 82\n",
            "35.163 --> 27.361 --> 25.898 --> 25.196 --> 24.932 --> 24.820 --> 24.777 --> 24.755 --> 24.744 --> 24.731 --> 24.705 --> 24.685 --> 24.683 --> 24.683 --> 24.683 --> 24.683 --> 24.683 --> \n",
            "Init 83\n",
            "35.369 --> 24.720 --> 24.483 --> 24.392 --> 24.326 --> 24.292 --> 24.276 --> 24.265 --> 24.263 --> 24.261 --> 24.259 --> 24.258 --> 24.257 --> 24.255 --> 24.255 --> 24.255 --> 24.254 --> 24.254 --> 24.254 --> 24.254 --> \n",
            "Init 84\n",
            "36.022 --> 25.882 --> 25.540 --> 25.494 --> 25.460 --> 25.441 --> 25.432 --> 25.427 --> 25.423 --> 25.421 --> 25.420 --> 25.419 --> 25.419 --> 25.419 --> 25.419 --> 25.419 --> 25.419 --> 25.419 --> \n",
            "Init 85\n",
            "37.362 --> 27.195 --> 26.419 --> 25.517 --> 24.958 --> 24.671 --> 24.497 --> 24.410 --> 24.366 --> 24.341 --> 24.328 --> 24.315 --> 24.299 --> 24.276 --> 24.262 --> 24.258 --> 24.257 --> 24.257 --> 24.256 --> 24.255 --> 24.254 --> 24.254 --> 24.254 --> 24.254 --> 24.254 --> 24.254 --> \n",
            "Init 86\n",
            "33.886 --> 25.521 --> 25.226 --> 25.138 --> 25.112 --> 25.098 --> 25.085 --> 25.075 --> 25.059 --> 25.032 --> 25.006 --> 24.986 --> 24.971 --> 24.961 --> 24.951 --> 24.945 --> 24.941 --> 24.936 --> 24.932 --> 24.928 --> 24.926 --> 24.923 --> 24.922 --> 24.920 --> 24.920 --> 24.920 --> 24.920 --> 24.920 --> 24.920 --> 24.919 --> 24.919 --> 24.918 --> 24.917 --> 24.915 --> 24.913 --> 24.911 --> 24.909 --> 24.907 --> 24.907 --> 24.907 --> 24.906 --> 24.906 --> 24.906 --> 24.905 --> 24.904 --> 24.904 --> 24.904 --> 24.903 --> 24.902 --> 24.902 --> 24.901 --> 24.899 --> 24.897 --> 24.894 --> 24.890 --> 24.886 --> 24.882 --> 24.879 --> 24.878 --> 24.877 --> 24.876 --> 24.875 --> 24.873 --> 24.873 --> 24.872 --> 24.872 --> 24.871 --> 24.871 --> 24.871 --> \n",
            "Init 87\n",
            "35.724 --> 27.179 --> 26.223 --> 25.925 --> 25.274 --> 24.565 --> 24.375 --> 24.324 --> 24.300 --> 24.279 --> 24.258 --> 24.241 --> 24.231 --> 24.229 --> 24.227 --> 24.227 --> 24.227 --> 24.227 --> 24.227 --> 24.227 --> 24.227 --> 24.227 --> \n",
            "Init 88\n",
            "37.374 --> 25.270 --> 25.056 --> 24.997 --> 24.962 --> 24.938 --> 24.910 --> 24.887 --> 24.862 --> 24.850 --> 24.843 --> 24.839 --> 24.838 --> 24.837 --> 24.836 --> 24.835 --> 24.835 --> 24.835 --> 24.835 --> 24.835 --> 24.835 --> 24.835 --> 24.835 --> 24.835 --> 24.835 --> 24.835 --> \n",
            "Init 89\n",
            "33.131 --> 24.817 --> 24.452 --> 24.321 --> 24.277 --> 24.258 --> 24.253 --> 24.251 --> 24.251 --> 24.250 --> 24.250 --> 24.250 --> 24.250 --> 24.250 --> \n",
            "Init 90\n",
            "34.108 --> 25.268 --> 24.736 --> 24.482 --> 24.375 --> 24.315 --> 24.285 --> 24.269 --> 24.260 --> 24.248 --> 24.241 --> 24.236 --> 24.233 --> 24.229 --> 24.228 --> 24.227 --> 24.227 --> 24.227 --> 24.226 --> 24.226 --> 24.226 --> 24.226 --> \n",
            "Init 91\n",
            "34.970 --> 26.552 --> 26.211 --> 25.950 --> 25.693 --> 25.451 --> 25.270 --> 25.182 --> 25.130 --> 25.105 --> 25.094 --> 25.086 --> 25.074 --> 25.055 --> 25.046 --> 25.039 --> 25.033 --> 25.026 --> 25.012 --> 24.971 --> 24.832 --> 24.672 --> 24.575 --> 24.465 --> 24.395 --> 24.360 --> 24.340 --> 24.327 --> 24.314 --> 24.298 --> 24.275 --> 24.261 --> 24.258 --> 24.257 --> 24.257 --> 24.256 --> 24.255 --> 24.254 --> 24.254 --> 24.254 --> 24.254 --> 24.254 --> 24.254 --> \n",
            "Init 92\n",
            "33.860 --> 25.639 --> 25.335 --> 25.139 --> 24.995 --> 24.927 --> 24.912 --> 24.908 --> 24.906 --> 24.904 --> 24.903 --> 24.902 --> 24.902 --> 24.902 --> 24.901 --> 24.901 --> 24.899 --> 24.896 --> 24.894 --> 24.892 --> 24.888 --> 24.884 --> 24.881 --> 24.879 --> 24.878 --> 24.877 --> 24.876 --> 24.875 --> 24.874 --> 24.873 --> 24.873 --> 24.872 --> 24.871 --> 24.871 --> 24.871 --> 24.871 --> \n",
            "Init 93\n",
            "33.324 --> 25.915 --> 25.484 --> 25.294 --> 25.206 --> 25.154 --> 25.118 --> 25.092 --> 25.069 --> 25.050 --> 25.038 --> 25.033 --> 25.027 --> 25.014 --> 24.972 --> 24.837 --> 24.676 --> 24.579 --> 24.474 --> 24.402 --> 24.364 --> 24.342 --> 24.331 --> 24.318 --> 24.306 --> 24.283 --> 24.265 --> 24.259 --> 24.257 --> 24.257 --> 24.256 --> 24.255 --> 24.254 --> 24.254 --> 24.254 --> 24.254 --> 24.254 --> 24.254 --> \n",
            "Init 94\n",
            "33.885 --> 25.342 --> 25.128 --> 25.051 --> 25.017 --> 24.986 --> 24.963 --> 24.949 --> 24.941 --> 24.933 --> 24.926 --> 24.925 --> 24.925 --> 24.925 --> 24.924 --> 24.923 --> 24.921 --> 24.918 --> 24.915 --> 24.912 --> 24.909 --> 24.908 --> 24.907 --> 24.907 --> 24.906 --> 24.906 --> 24.906 --> 24.906 --> 24.906 --> \n",
            "Init 95\n",
            "34.649 --> 26.065 --> 25.423 --> 25.194 --> 25.081 --> 25.039 --> 25.029 --> 25.026 --> 25.023 --> 25.022 --> 25.021 --> 25.020 --> 25.019 --> 25.019 --> 25.018 --> 25.018 --> 25.017 --> 25.016 --> 25.016 --> 25.016 --> 25.016 --> 25.015 --> 25.015 --> 25.015 --> 25.015 --> 25.015 --> 25.015 --> \n",
            "Init 96\n",
            "34.590 --> 25.978 --> 25.614 --> 25.500 --> 25.422 --> 25.340 --> 25.227 --> 24.979 --> 24.528 --> 24.346 --> 24.317 --> 24.297 --> 24.280 --> 24.264 --> 24.253 --> 24.241 --> 24.233 --> 24.230 --> 24.228 --> 24.227 --> 24.227 --> 24.227 --> 24.226 --> 24.226 --> 24.226 --> 24.226 --> 24.226 --> 24.226 --> \n",
            "Init 97\n",
            "32.068 --> 25.714 --> 25.370 --> 25.247 --> 25.161 --> 25.099 --> 25.065 --> 25.048 --> 25.033 --> 25.019 --> 24.992 --> 24.903 --> 24.720 --> 24.606 --> 24.502 --> 24.418 --> 24.377 --> 24.353 --> 24.334 --> 24.321 --> 24.309 --> 24.289 --> 24.268 --> 24.259 --> 24.258 --> 24.257 --> 24.256 --> 24.255 --> 24.255 --> 24.254 --> 24.254 --> 24.254 --> 24.254 --> 24.254 --> \n",
            "Init 98\n",
            "35.025 --> 26.230 --> 25.781 --> 25.596 --> 25.482 --> 25.338 --> 25.165 --> 25.017 --> 24.957 --> 24.937 --> 24.924 --> 24.918 --> 24.911 --> 24.904 --> 24.901 --> 24.899 --> 24.898 --> 24.898 --> 24.898 --> 24.898 --> 24.898 --> 24.898 --> 24.898 --> 24.898 --> \n",
            "Init 99\n",
            "35.472 --> 26.999 --> 26.680 --> 26.530 --> 26.440 --> 26.394 --> 26.362 --> 26.326 --> 26.302 --> 26.285 --> 26.271 --> 26.259 --> 26.248 --> 26.239 --> 26.233 --> 26.230 --> 26.227 --> 26.225 --> 26.223 --> 26.221 --> 26.217 --> 26.206 --> 26.186 --> 26.155 --> 26.078 --> 25.935 --> 25.605 --> 25.292 --> 25.072 --> 24.956 --> 24.894 --> 24.867 --> 24.858 --> 24.853 --> 24.851 --> 24.850 --> 24.850 --> 24.850 --> 24.850 --> 24.850 --> \n",
            "Init 100\n",
            "33.747 --> 25.851 --> 25.341 --> 25.099 --> 24.966 --> 24.903 --> 24.870 --> 24.856 --> 24.852 --> 24.851 --> 24.851 --> 24.851 --> \n"
          ]
        },
        {
          "output_type": "execute_result",
          "data": {
            "text/plain": [
              "TimeSeriesKMeans(max_iter=100, n_clusters=5, n_init=100, random_state=2022,\n",
              "                 verbose=1)"
            ]
          },
          "metadata": {},
          "execution_count": 48
        }
      ]
    },
    {
      "cell_type": "code",
      "source": [
        "# 훈련 셋에 대한 예측값 생성 및 수정된 Rand 지수를 사용한 평가\n",
        "preds = km.predict(X_train)\n",
        "ars = adjusted_rand_score(data_train[:,0],preds)\n",
        "print(\"Adjusted Rand Index of Time Series k-Means on Training Set:\", ars)"
      ],
      "metadata": {
        "colab": {
          "base_uri": "https://localhost:8080/"
        },
        "id": "mRQ1x1qe-pNE",
        "outputId": "22a56769-837e-4e09-e1dd-7189f1136f56"
      },
      "execution_count": 49,
      "outputs": [
        {
          "output_type": "stream",
          "name": "stdout",
          "text": [
            "Adjusted Rand Index of Time Series k-Means on Training Set: 0.5038220789593691\n"
          ]
        }
      ]
    },
    {
      "cell_type": "code",
      "source": [
        "# 테스트 셋에 대한 예측값 생성 및 수정된 Rand 지수를 사용한 평가\n",
        "preds_test = km.predict(X_test)\n",
        "ars = adjusted_rand_score(data_test[:,0],preds_test)\n",
        "print(\"Adjusted Rand Index of Time Series k-Means on Test Set:\", ars)"
      ],
      "metadata": {
        "colab": {
          "base_uri": "https://localhost:8080/"
        },
        "id": "1wAl_CGDAfr8",
        "outputId": "d3c077cd-25b9-4a27-a48e-3db1dd7da252"
      },
      "execution_count": 50,
      "outputs": [
        {
          "output_type": "stream",
          "name": "stdout",
          "text": [
            "Adjusted Rand Index of Time Series k-Means on Test Set: 0.4981689037079987\n"
          ]
        }
      ]
    },
    {
      "cell_type": "markdown",
      "source": [
        "## HDBCAN"
      ],
      "metadata": {
        "id": "WQhviDilAjrZ"
      }
    },
    {
      "cell_type": "code",
      "source": [
        "min_cluster_size = 5\n",
        "min_samples = None\n",
        "alpha = 1.0\n",
        "cluster_selection_method = 'eom'\n",
        "prediction_data = True"
      ],
      "metadata": {
        "id": "5fwyMFvPAg7m"
      },
      "execution_count": 51,
      "outputs": []
    },
    {
      "cell_type": "code",
      "source": [
        "hdb = hdbscan.HDBSCAN(min_cluster_size=min_cluster_size,\n",
        "                      min_samples=min_samples,\n",
        "                      alpha=alpha,\n",
        "                      cluster_selection_method=cluster_selection_method,\n",
        "                      prediction_data=prediction_data)"
      ],
      "metadata": {
        "id": "4yyQeW0nAozl"
      },
      "execution_count": 52,
      "outputs": []
    },
    {
      "cell_type": "code",
      "source": [
        "# 훈련 모델 및 테스트 셋에 대한 평가\n",
        "preds = hdb.fit_predict(X_train.reshape(4000,140))\n",
        "ars = adjusted_rand_score(data_train[:,0],preds)\n",
        "print(\"Adjusted Rand Index on Training Set:\", ars)"
      ],
      "metadata": {
        "colab": {
          "base_uri": "https://localhost:8080/"
        },
        "id": "mpZlMdHXAwAa",
        "outputId": "f3dcb0c0-6111-4092-a27e-6dd8de149506"
      },
      "execution_count": 53,
      "outputs": [
        {
          "output_type": "stream",
          "name": "stdout",
          "text": [
            "Adjusted Rand Index on Training Set: 0.7632276348317126\n"
          ]
        }
      ]
    },
    {
      "cell_type": "code",
      "source": [
        "# 테스트 셋에 대한 예측값 생성 및 평가\n",
        "preds_test = hdbscan.prediction.approximate_predict(hdb, X_test.reshape(1000,140))\n",
        "ars = adjusted_rand_score(data_test[:,0],preds_test[0])\n",
        "print(\"Adjusted Rand Index on Test Set:\", ars)"
      ],
      "metadata": {
        "colab": {
          "base_uri": "https://localhost:8080/"
        },
        "id": "rxeLoMtlAxi4",
        "outputId": "319c1116-9c1a-40c5-a732-13778702f24c"
      },
      "execution_count": 54,
      "outputs": [
        {
          "output_type": "stream",
          "name": "stdout",
          "text": [
            "Adjusted Rand Index on Test Set: 0.7506690137977234\n"
          ]
        }
      ]
    },
    {
      "cell_type": "markdown",
      "source": [
        "# 시계열 클러스터링 알고리즘 비교"
      ],
      "metadata": {
        "id": "pJ1tE5vaA9fu"
      }
    },
    {
      "cell_type": "code",
      "source": [
        "current_path = os.getcwd()\n",
        "file = os.path.sep.join(['',\n",
        "                         'drive',\n",
        "                         'MyDrive',\n",
        "                         '머신러닝 엔지니어링',\n",
        "                         '핸즈온 비지도 학습',\n",
        "                         'data',\n",
        "                         'UCR_TS_Archive_2015',\n",
        "                         ''])\n",
        "\n",
        "mypath = current_path + file\n",
        "\n",
        "print(mypath)"
      ],
      "metadata": {
        "colab": {
          "base_uri": "https://localhost:8080/"
        },
        "id": "hPlphDZ4A1VE",
        "outputId": "1ee995b5-c31b-4750-b3f8-efae70247b43"
      },
      "execution_count": 68,
      "outputs": [
        {
          "output_type": "stream",
          "name": "stdout",
          "text": [
            "/content/drive/MyDrive/머신러닝 엔지니어링/핸즈온 비지도 학습/data/UCR_TS_Archive_2015/\n"
          ]
        }
      ]
    },
    {
      "cell_type": "code",
      "source": [
        "d = []\n",
        "f = []\n",
        "\n",
        "for (dirpath, dirnames, filenames) in walk(mypath):\n",
        "\n",
        "  for i in dirnames:\n",
        "\n",
        "    newpath = os.path.sep.join([mypath, i, ''])\n",
        "    onlyfiles = [f for f in listdir(newpath) if isfile(join(newpath, f))]\n",
        "    f.extend(onlyfiles)\n",
        "  \n",
        "  d.extend(dirnames)\n",
        "  break"
      ],
      "metadata": {
        "id": "gmBF1iKYB0vi"
      },
      "execution_count": 70,
      "outputs": []
    },
    {
      "cell_type": "code",
      "source": [
        "class ElapsedTimer(object):\n",
        "  \n",
        "    def __init__(self):\n",
        "\n",
        "        self.start_time = time.time()\n",
        "\n",
        "    def elapsed(self,sec):\n",
        "\n",
        "        if sec < 60:\n",
        "            return str(sec) + \" sec\"\n",
        "        elif sec < (60 * 60):\n",
        "            return str(sec / 60) + \" min\"\n",
        "        else:\n",
        "            return str(sec / (60 * 60)) + \" hr\"\n",
        "\n",
        "    def elapsed_time(self):\n",
        "      \n",
        "        print(\"Elapsed: %s \" % self.elapsed(time.time() - self.start_time))\n",
        "        return (time.time() - self.start_time)"
      ],
      "metadata": {
        "id": "mfFuqpayDwBc"
      },
      "execution_count": 76,
      "outputs": []
    },
    {
      "cell_type": "markdown",
      "source": [
        "## k - Shape"
      ],
      "metadata": {
        "id": "jAn5fPBGDW3Q"
      }
    },
    {
      "cell_type": "code",
      "source": [
        "kShapeDF = pd.DataFrame(data=[],\n",
        "                        index=[v for v in d],\n",
        "                        columns=[\"Train ARS\",\"Test ARS\"])"
      ],
      "metadata": {
        "id": "r636_2xfBsPc"
      },
      "execution_count": 77,
      "outputs": []
    },
    {
      "cell_type": "code",
      "source": [
        "timer = ElapsedTimer()\n",
        "\n",
        "cnt = 0\n",
        "\n",
        "for i in d:\n",
        "    cnt += 1\n",
        "    print(\"Dataset \", cnt)\n",
        "    newpath = os.path.sep.join([mypath, i, \"\"])\n",
        "    onlyfiles = [f for f in listdir(newpath) if isfile(join(newpath, f))]\n",
        "    j = onlyfiles[0]\n",
        "    k = onlyfiles[1]\n",
        "    data_train = np.loadtxt(newpath+j, delimiter=\",\")\n",
        "    data_test = np.loadtxt(newpath+k, delimiter=\",\")\n",
        "\n",
        "    data_joined = np.concatenate((data_train,data_test),axis=0)\n",
        "    data_train, data_test = train_test_split(data_joined, \\\n",
        "                                        test_size=0.20, random_state=2019)\n",
        "\n",
        "    X_train = to_time_series_dataset(data_train[:, 1:])\n",
        "    y_train = data_train[:, 0].astype(np.int)\n",
        "    X_test = to_time_series_dataset(data_test[:, 1:])\n",
        "    y_test = data_test[:, 0].astype(np.int)\n",
        "    \n",
        "    X_train = TimeSeriesScalerMeanVariance(mu=0., std=1.) \\\n",
        "                                .fit_transform(X_train)\n",
        "    X_test = TimeSeriesScalerMeanVariance(mu=0., std=1.) \\\n",
        "                                .fit_transform(X_test)\n",
        "    \n",
        "    classes = len(np.unique(data_train[:,0]))\n",
        "    ks = KShape(n_clusters=classes, max_iter=10, n_init=3,verbose=0)\n",
        "    ks.fit(X_train)\n",
        "\n",
        "    print(i)\n",
        "    preds = ks.predict(X_train)\n",
        "    ars = adjusted_rand_score(data_train[:,0],preds)\n",
        "    print(\"Adjusted Rand Index on Training Set:\", ars)\n",
        "    kShapeDF.loc[i,\"Train ARS\"] = ars\n",
        "    \n",
        "    preds_test = ks.predict(X_test)\n",
        "    ars = adjusted_rand_score(data_test[:,0],preds_test)\n",
        "    print(\"Adjusted Rand Index on Test Set:\", ars)\n",
        "    kShapeDF.loc[i,\"Test ARS\"] = ars\n",
        "    \n",
        "kShapeTime = timer.elapsed_time()"
      ],
      "metadata": {
        "colab": {
          "base_uri": "https://localhost:8080/",
          "height": 997
        },
        "id": "lE7pNetaDKPk",
        "outputId": "31d9f712-493f-45f3-e86f-10a4e98eb145"
      },
      "execution_count": 78,
      "outputs": [
        {
          "output_type": "stream",
          "name": "stdout",
          "text": [
            "Dataset  1\n"
          ]
        },
        {
          "output_type": "stream",
          "name": "stderr",
          "text": [
            "<ipython-input-78-a1f65e818a89>:20: DeprecationWarning: `np.int` is a deprecated alias for the builtin `int`. To silence this warning, use `int` by itself. Doing this will not modify any behavior and is safe. When replacing `np.int`, you may wish to use e.g. `np.int64` or `np.int32` to specify the precision. If you wish to review your current use, check the release note link for additional information.\n",
            "Deprecated in NumPy 1.20; for more details and guidance: https://numpy.org/devdocs/release/1.20.0-notes.html#deprecations\n",
            "  y_train = data_train[:, 0].astype(np.int)\n",
            "<ipython-input-78-a1f65e818a89>:22: DeprecationWarning: `np.int` is a deprecated alias for the builtin `int`. To silence this warning, use `int` by itself. Doing this will not modify any behavior and is safe. When replacing `np.int`, you may wish to use e.g. `np.int64` or `np.int32` to specify the precision. If you wish to review your current use, check the release note link for additional information.\n",
            "Deprecated in NumPy 1.20; for more details and guidance: https://numpy.org/devdocs/release/1.20.0-notes.html#deprecations\n",
            "  y_test = data_test[:, 0].astype(np.int)\n"
          ]
        },
        {
          "output_type": "stream",
          "name": "stdout",
          "text": [
            "HandOutlines\n",
            "Adjusted Rand Index on Training Set: 0.1989281211626428\n",
            "Adjusted Rand Index on Test Set: 0.17072528248490174\n",
            "Dataset  2\n"
          ]
        },
        {
          "output_type": "stream",
          "name": "stderr",
          "text": [
            "<ipython-input-78-a1f65e818a89>:20: DeprecationWarning: `np.int` is a deprecated alias for the builtin `int`. To silence this warning, use `int` by itself. Doing this will not modify any behavior and is safe. When replacing `np.int`, you may wish to use e.g. `np.int64` or `np.int32` to specify the precision. If you wish to review your current use, check the release note link for additional information.\n",
            "Deprecated in NumPy 1.20; for more details and guidance: https://numpy.org/devdocs/release/1.20.0-notes.html#deprecations\n",
            "  y_train = data_train[:, 0].astype(np.int)\n",
            "<ipython-input-78-a1f65e818a89>:22: DeprecationWarning: `np.int` is a deprecated alias for the builtin `int`. To silence this warning, use `int` by itself. Doing this will not modify any behavior and is safe. When replacing `np.int`, you may wish to use e.g. `np.int64` or `np.int32` to specify the precision. If you wish to review your current use, check the release note link for additional information.\n",
            "Deprecated in NumPy 1.20; for more details and guidance: https://numpy.org/devdocs/release/1.20.0-notes.html#deprecations\n",
            "  y_test = data_test[:, 0].astype(np.int)\n"
          ]
        },
        {
          "output_type": "stream",
          "name": "stdout",
          "text": [
            "LargeKitchenAppliances\n",
            "Adjusted Rand Index on Training Set: 0.2582128432300119\n",
            "Adjusted Rand Index on Test Set: 0.17146763997093142\n",
            "Dataset  3\n"
          ]
        },
        {
          "output_type": "stream",
          "name": "stderr",
          "text": [
            "<ipython-input-78-a1f65e818a89>:20: DeprecationWarning: `np.int` is a deprecated alias for the builtin `int`. To silence this warning, use `int` by itself. Doing this will not modify any behavior and is safe. When replacing `np.int`, you may wish to use e.g. `np.int64` or `np.int32` to specify the precision. If you wish to review your current use, check the release note link for additional information.\n",
            "Deprecated in NumPy 1.20; for more details and guidance: https://numpy.org/devdocs/release/1.20.0-notes.html#deprecations\n",
            "  y_train = data_train[:, 0].astype(np.int)\n",
            "<ipython-input-78-a1f65e818a89>:22: DeprecationWarning: `np.int` is a deprecated alias for the builtin `int`. To silence this warning, use `int` by itself. Doing this will not modify any behavior and is safe. When replacing `np.int`, you may wish to use e.g. `np.int64` or `np.int32` to specify the precision. If you wish to review your current use, check the release note link for additional information.\n",
            "Deprecated in NumPy 1.20; for more details and guidance: https://numpy.org/devdocs/release/1.20.0-notes.html#deprecations\n",
            "  y_test = data_test[:, 0].astype(np.int)\n"
          ]
        },
        {
          "output_type": "error",
          "ename": "KeyboardInterrupt",
          "evalue": "ignored",
          "traceback": [
            "\u001b[0;31m---------------------------------------------------------------------------\u001b[0m",
            "\u001b[0;31mKeyboardInterrupt\u001b[0m                         Traceback (most recent call last)",
            "\u001b[0;32m<ipython-input-78-a1f65e818a89>\u001b[0m in \u001b[0;36m<module>\u001b[0;34m\u001b[0m\n\u001b[1;32m     29\u001b[0m     \u001b[0mclasses\u001b[0m \u001b[0;34m=\u001b[0m \u001b[0mlen\u001b[0m\u001b[0;34m(\u001b[0m\u001b[0mnp\u001b[0m\u001b[0;34m.\u001b[0m\u001b[0munique\u001b[0m\u001b[0;34m(\u001b[0m\u001b[0mdata_train\u001b[0m\u001b[0;34m[\u001b[0m\u001b[0;34m:\u001b[0m\u001b[0;34m,\u001b[0m\u001b[0;36m0\u001b[0m\u001b[0;34m]\u001b[0m\u001b[0;34m)\u001b[0m\u001b[0;34m)\u001b[0m\u001b[0;34m\u001b[0m\u001b[0;34m\u001b[0m\u001b[0m\n\u001b[1;32m     30\u001b[0m     \u001b[0mks\u001b[0m \u001b[0;34m=\u001b[0m \u001b[0mKShape\u001b[0m\u001b[0;34m(\u001b[0m\u001b[0mn_clusters\u001b[0m\u001b[0;34m=\u001b[0m\u001b[0mclasses\u001b[0m\u001b[0;34m,\u001b[0m \u001b[0mmax_iter\u001b[0m\u001b[0;34m=\u001b[0m\u001b[0;36m10\u001b[0m\u001b[0;34m,\u001b[0m \u001b[0mn_init\u001b[0m\u001b[0;34m=\u001b[0m\u001b[0;36m3\u001b[0m\u001b[0;34m,\u001b[0m\u001b[0mverbose\u001b[0m\u001b[0;34m=\u001b[0m\u001b[0;36m0\u001b[0m\u001b[0;34m)\u001b[0m\u001b[0;34m\u001b[0m\u001b[0;34m\u001b[0m\u001b[0m\n\u001b[0;32m---> 31\u001b[0;31m     \u001b[0mks\u001b[0m\u001b[0;34m.\u001b[0m\u001b[0mfit\u001b[0m\u001b[0;34m(\u001b[0m\u001b[0mX_train\u001b[0m\u001b[0;34m)\u001b[0m\u001b[0;34m\u001b[0m\u001b[0;34m\u001b[0m\u001b[0m\n\u001b[0m\u001b[1;32m     32\u001b[0m \u001b[0;34m\u001b[0m\u001b[0m\n\u001b[1;32m     33\u001b[0m     \u001b[0mprint\u001b[0m\u001b[0;34m(\u001b[0m\u001b[0mi\u001b[0m\u001b[0;34m)\u001b[0m\u001b[0;34m\u001b[0m\u001b[0;34m\u001b[0m\u001b[0m\n",
            "\u001b[0;32m/usr/local/lib/python3.8/dist-packages/tslearn/clustering/kshape.py\u001b[0m in \u001b[0;36mfit\u001b[0;34m(self, X, y)\u001b[0m\n\u001b[1;32m    233\u001b[0m                     \u001b[0mprint\u001b[0m\u001b[0;34m(\u001b[0m\u001b[0;34m\"Init %d\"\u001b[0m \u001b[0;34m%\u001b[0m \u001b[0;34m(\u001b[0m\u001b[0mn_successful\u001b[0m \u001b[0;34m+\u001b[0m \u001b[0;36m1\u001b[0m\u001b[0;34m)\u001b[0m\u001b[0;34m)\u001b[0m\u001b[0;34m\u001b[0m\u001b[0;34m\u001b[0m\u001b[0m\n\u001b[1;32m    234\u001b[0m                 \u001b[0mn_attempts\u001b[0m \u001b[0;34m+=\u001b[0m \u001b[0;36m1\u001b[0m\u001b[0;34m\u001b[0m\u001b[0;34m\u001b[0m\u001b[0m\n\u001b[0;32m--> 235\u001b[0;31m                 \u001b[0mself\u001b[0m\u001b[0;34m.\u001b[0m\u001b[0m_fit_one_init\u001b[0m\u001b[0;34m(\u001b[0m\u001b[0mX_\u001b[0m\u001b[0;34m,\u001b[0m \u001b[0mrs\u001b[0m\u001b[0;34m)\u001b[0m\u001b[0;34m\u001b[0m\u001b[0;34m\u001b[0m\u001b[0m\n\u001b[0m\u001b[1;32m    236\u001b[0m                 \u001b[0;32mif\u001b[0m \u001b[0mself\u001b[0m\u001b[0;34m.\u001b[0m\u001b[0minertia_\u001b[0m \u001b[0;34m<\u001b[0m \u001b[0mmin_inertia\u001b[0m\u001b[0;34m:\u001b[0m\u001b[0;34m\u001b[0m\u001b[0;34m\u001b[0m\u001b[0m\n\u001b[1;32m    237\u001b[0m                     \u001b[0mbest_correct_centroids\u001b[0m \u001b[0;34m=\u001b[0m \u001b[0mself\u001b[0m\u001b[0;34m.\u001b[0m\u001b[0mcluster_centers_\u001b[0m\u001b[0;34m.\u001b[0m\u001b[0mcopy\u001b[0m\u001b[0;34m(\u001b[0m\u001b[0;34m)\u001b[0m\u001b[0;34m\u001b[0m\u001b[0;34m\u001b[0m\u001b[0m\n",
            "\u001b[0;32m/usr/local/lib/python3.8/dist-packages/tslearn/clustering/kshape.py\u001b[0m in \u001b[0;36m_fit_one_init\u001b[0;34m(self, X, rs)\u001b[0m\n\u001b[1;32m    173\u001b[0m         \u001b[0;32mfor\u001b[0m \u001b[0mit\u001b[0m \u001b[0;32min\u001b[0m \u001b[0mrange\u001b[0m\u001b[0;34m(\u001b[0m\u001b[0mself\u001b[0m\u001b[0;34m.\u001b[0m\u001b[0mmax_iter\u001b[0m\u001b[0;34m)\u001b[0m\u001b[0;34m:\u001b[0m\u001b[0;34m\u001b[0m\u001b[0;34m\u001b[0m\u001b[0m\n\u001b[1;32m    174\u001b[0m             \u001b[0mold_cluster_centers\u001b[0m \u001b[0;34m=\u001b[0m \u001b[0mself\u001b[0m\u001b[0;34m.\u001b[0m\u001b[0mcluster_centers_\u001b[0m\u001b[0;34m.\u001b[0m\u001b[0mcopy\u001b[0m\u001b[0;34m(\u001b[0m\u001b[0;34m)\u001b[0m\u001b[0;34m\u001b[0m\u001b[0;34m\u001b[0m\u001b[0m\n\u001b[0;32m--> 175\u001b[0;31m             \u001b[0mself\u001b[0m\u001b[0;34m.\u001b[0m\u001b[0m_update_centroids\u001b[0m\u001b[0;34m(\u001b[0m\u001b[0mX\u001b[0m\u001b[0;34m)\u001b[0m\u001b[0;34m\u001b[0m\u001b[0;34m\u001b[0m\u001b[0m\n\u001b[0m\u001b[1;32m    176\u001b[0m             \u001b[0mself\u001b[0m\u001b[0;34m.\u001b[0m\u001b[0m_assign\u001b[0m\u001b[0;34m(\u001b[0m\u001b[0mX\u001b[0m\u001b[0;34m)\u001b[0m\u001b[0;34m\u001b[0m\u001b[0;34m\u001b[0m\u001b[0m\n\u001b[1;32m    177\u001b[0m             \u001b[0;32mif\u001b[0m \u001b[0mself\u001b[0m\u001b[0;34m.\u001b[0m\u001b[0mverbose\u001b[0m\u001b[0;34m:\u001b[0m\u001b[0;34m\u001b[0m\u001b[0;34m\u001b[0m\u001b[0m\n",
            "\u001b[0;32m/usr/local/lib/python3.8/dist-packages/tslearn/clustering/kshape.py\u001b[0m in \u001b[0;36m_update_centroids\u001b[0;34m(self, X)\u001b[0m\n\u001b[1;32m    139\u001b[0m     \u001b[0;32mdef\u001b[0m \u001b[0m_update_centroids\u001b[0m\u001b[0;34m(\u001b[0m\u001b[0mself\u001b[0m\u001b[0;34m,\u001b[0m \u001b[0mX\u001b[0m\u001b[0;34m)\u001b[0m\u001b[0;34m:\u001b[0m\u001b[0;34m\u001b[0m\u001b[0;34m\u001b[0m\u001b[0m\n\u001b[1;32m    140\u001b[0m         \u001b[0;32mfor\u001b[0m \u001b[0mk\u001b[0m \u001b[0;32min\u001b[0m \u001b[0mrange\u001b[0m\u001b[0;34m(\u001b[0m\u001b[0mself\u001b[0m\u001b[0;34m.\u001b[0m\u001b[0mn_clusters\u001b[0m\u001b[0;34m)\u001b[0m\u001b[0;34m:\u001b[0m\u001b[0;34m\u001b[0m\u001b[0;34m\u001b[0m\u001b[0m\n\u001b[0;32m--> 141\u001b[0;31m             \u001b[0mself\u001b[0m\u001b[0;34m.\u001b[0m\u001b[0mcluster_centers_\u001b[0m\u001b[0;34m[\u001b[0m\u001b[0mk\u001b[0m\u001b[0;34m]\u001b[0m \u001b[0;34m=\u001b[0m \u001b[0mself\u001b[0m\u001b[0;34m.\u001b[0m\u001b[0m_shape_extraction\u001b[0m\u001b[0;34m(\u001b[0m\u001b[0mX\u001b[0m\u001b[0;34m,\u001b[0m \u001b[0mk\u001b[0m\u001b[0;34m)\u001b[0m\u001b[0;34m\u001b[0m\u001b[0;34m\u001b[0m\u001b[0m\n\u001b[0m\u001b[1;32m    142\u001b[0m         self.cluster_centers_ = TimeSeriesScalerMeanVariance(\n\u001b[1;32m    143\u001b[0m             mu=0., std=1.).fit_transform(self.cluster_centers_)\n",
            "\u001b[0;32m/usr/local/lib/python3.8/dist-packages/tslearn/clustering/kshape.py\u001b[0m in \u001b[0;36m_shape_extraction\u001b[0;34m(self, X, k)\u001b[0m\n\u001b[1;32m    118\u001b[0m     \u001b[0;32mdef\u001b[0m \u001b[0m_shape_extraction\u001b[0m\u001b[0;34m(\u001b[0m\u001b[0mself\u001b[0m\u001b[0;34m,\u001b[0m \u001b[0mX\u001b[0m\u001b[0;34m,\u001b[0m \u001b[0mk\u001b[0m\u001b[0;34m)\u001b[0m\u001b[0;34m:\u001b[0m\u001b[0;34m\u001b[0m\u001b[0;34m\u001b[0m\u001b[0m\n\u001b[1;32m    119\u001b[0m         \u001b[0msz\u001b[0m \u001b[0;34m=\u001b[0m \u001b[0mX\u001b[0m\u001b[0;34m.\u001b[0m\u001b[0mshape\u001b[0m\u001b[0;34m[\u001b[0m\u001b[0;36m1\u001b[0m\u001b[0;34m]\u001b[0m\u001b[0;34m\u001b[0m\u001b[0;34m\u001b[0m\u001b[0m\n\u001b[0;32m--> 120\u001b[0;31m         Xp = y_shifted_sbd_vec(self.cluster_centers_[k], X[self.labels_ == k],\n\u001b[0m\u001b[1;32m    121\u001b[0m                                \u001b[0mnorm_ref\u001b[0m\u001b[0;34m=\u001b[0m\u001b[0;34m-\u001b[0m\u001b[0;36m1\u001b[0m\u001b[0;34m,\u001b[0m\u001b[0;34m\u001b[0m\u001b[0;34m\u001b[0m\u001b[0m\n\u001b[1;32m    122\u001b[0m                                norms_dataset=self.norms_[self.labels_ == k])\n",
            "\u001b[0;32mtslearn/metrics/cycc.pyx\u001b[0m in \u001b[0;36mtslearn.metrics.cycc.y_shifted_sbd_vec\u001b[0;34m()\u001b[0m\n",
            "\u001b[0;32mtslearn/metrics/cycc.pyx\u001b[0m in \u001b[0;36mtslearn.metrics.cycc.normalized_cc\u001b[0;34m()\u001b[0m\n",
            "\u001b[0;32m<__array_function__ internals>\u001b[0m in \u001b[0;36mfft\u001b[0;34m(*args, **kwargs)\u001b[0m\n",
            "\u001b[0;32m/usr/local/lib/python3.8/dist-packages/numpy/fft/_pocketfft.py\u001b[0m in \u001b[0;36mfft\u001b[0;34m(a, n, axis, norm)\u001b[0m\n\u001b[1;32m    213\u001b[0m         \u001b[0mn\u001b[0m \u001b[0;34m=\u001b[0m \u001b[0ma\u001b[0m\u001b[0;34m.\u001b[0m\u001b[0mshape\u001b[0m\u001b[0;34m[\u001b[0m\u001b[0maxis\u001b[0m\u001b[0;34m]\u001b[0m\u001b[0;34m\u001b[0m\u001b[0;34m\u001b[0m\u001b[0m\n\u001b[1;32m    214\u001b[0m     \u001b[0minv_norm\u001b[0m \u001b[0;34m=\u001b[0m \u001b[0m_get_forward_norm\u001b[0m\u001b[0;34m(\u001b[0m\u001b[0mn\u001b[0m\u001b[0;34m,\u001b[0m \u001b[0mnorm\u001b[0m\u001b[0;34m)\u001b[0m\u001b[0;34m\u001b[0m\u001b[0;34m\u001b[0m\u001b[0m\n\u001b[0;32m--> 215\u001b[0;31m     \u001b[0moutput\u001b[0m \u001b[0;34m=\u001b[0m \u001b[0m_raw_fft\u001b[0m\u001b[0;34m(\u001b[0m\u001b[0ma\u001b[0m\u001b[0;34m,\u001b[0m \u001b[0mn\u001b[0m\u001b[0;34m,\u001b[0m \u001b[0maxis\u001b[0m\u001b[0;34m,\u001b[0m \u001b[0;32mFalse\u001b[0m\u001b[0;34m,\u001b[0m \u001b[0;32mTrue\u001b[0m\u001b[0;34m,\u001b[0m \u001b[0minv_norm\u001b[0m\u001b[0;34m)\u001b[0m\u001b[0;34m\u001b[0m\u001b[0;34m\u001b[0m\u001b[0m\n\u001b[0m\u001b[1;32m    216\u001b[0m     \u001b[0;32mreturn\u001b[0m \u001b[0moutput\u001b[0m\u001b[0;34m\u001b[0m\u001b[0;34m\u001b[0m\u001b[0m\n\u001b[1;32m    217\u001b[0m \u001b[0;34m\u001b[0m\u001b[0m\n",
            "\u001b[0;32m/usr/local/lib/python3.8/dist-packages/numpy/fft/_pocketfft.py\u001b[0m in \u001b[0;36m_raw_fft\u001b[0;34m(a, n, axis, is_real, is_forward, inv_norm)\u001b[0m\n\u001b[1;32m     71\u001b[0m     \u001b[0;32melse\u001b[0m\u001b[0;34m:\u001b[0m\u001b[0;34m\u001b[0m\u001b[0;34m\u001b[0m\u001b[0m\n\u001b[1;32m     72\u001b[0m         \u001b[0ma\u001b[0m \u001b[0;34m=\u001b[0m \u001b[0mswapaxes\u001b[0m\u001b[0;34m(\u001b[0m\u001b[0ma\u001b[0m\u001b[0;34m,\u001b[0m \u001b[0maxis\u001b[0m\u001b[0;34m,\u001b[0m \u001b[0;34m-\u001b[0m\u001b[0;36m1\u001b[0m\u001b[0;34m)\u001b[0m\u001b[0;34m\u001b[0m\u001b[0;34m\u001b[0m\u001b[0m\n\u001b[0;32m---> 73\u001b[0;31m         \u001b[0mr\u001b[0m \u001b[0;34m=\u001b[0m \u001b[0mpfi\u001b[0m\u001b[0;34m.\u001b[0m\u001b[0mexecute\u001b[0m\u001b[0;34m(\u001b[0m\u001b[0ma\u001b[0m\u001b[0;34m,\u001b[0m \u001b[0mis_real\u001b[0m\u001b[0;34m,\u001b[0m \u001b[0mis_forward\u001b[0m\u001b[0;34m,\u001b[0m \u001b[0mfct\u001b[0m\u001b[0;34m)\u001b[0m\u001b[0;34m\u001b[0m\u001b[0;34m\u001b[0m\u001b[0m\n\u001b[0m\u001b[1;32m     74\u001b[0m         \u001b[0mr\u001b[0m \u001b[0;34m=\u001b[0m \u001b[0mswapaxes\u001b[0m\u001b[0;34m(\u001b[0m\u001b[0mr\u001b[0m\u001b[0;34m,\u001b[0m \u001b[0maxis\u001b[0m\u001b[0;34m,\u001b[0m \u001b[0;34m-\u001b[0m\u001b[0;36m1\u001b[0m\u001b[0;34m)\u001b[0m\u001b[0;34m\u001b[0m\u001b[0;34m\u001b[0m\u001b[0m\n\u001b[1;32m     75\u001b[0m     \u001b[0;32mreturn\u001b[0m \u001b[0mr\u001b[0m\u001b[0;34m\u001b[0m\u001b[0;34m\u001b[0m\u001b[0m\n",
            "\u001b[0;31mKeyboardInterrupt\u001b[0m: "
          ]
        }
      ]
    },
    {
      "cell_type": "markdown",
      "source": [
        "## k - 평균"
      ],
      "metadata": {
        "id": "tr1H0i3FD2er"
      }
    },
    {
      "cell_type": "code",
      "source": [
        "kMeansDF = pd.DataFrame(data=[],\n",
        "                        index=[v for v in d], \n",
        "                        columns=[\"Train ARS\",\"Test ARS\"])"
      ],
      "metadata": {
        "id": "lG1SeltYEBN6"
      },
      "execution_count": null,
      "outputs": []
    },
    {
      "cell_type": "code",
      "source": [
        "timer = ElapsedTimer()\n",
        "\n",
        "cnt = 0\n",
        "\n",
        "for i in d:\n",
        "    cnt += 1\n",
        "    print(\"Dataset \", cnt)\n",
        "    newpath = os.path.sep.join([mypath, i, \"\"])\n",
        "    onlyfiles = [f for f in listdir(newpath) if isfile(join(newpath, f))]\n",
        "    j = onlyfiles[0]\n",
        "    k = onlyfiles[1]\n",
        "    data_train = np.loadtxt(newpath+j, delimiter=\",\")\n",
        "    data_test = np.loadtxt(newpath+k, delimiter=\",\")\n",
        "\n",
        "    data_joined = np.concatenate((data_train,data_test),axis=0)\n",
        "    data_train, data_test = train_test_split(data_joined, \\\n",
        "                                        test_size=0.20, random_state=2019)\n",
        "\n",
        "    X_train = to_time_series_dataset(data_train[:, 1:])\n",
        "    y_train = data_train[:, 0].astype(np.int)\n",
        "    X_test = to_time_series_dataset(data_test[:, 1:])\n",
        "    y_test = data_test[:, 0].astype(np.int)\n",
        "    \n",
        "    X_train = TimeSeriesScalerMeanVariance(mu=0., std=1.) \\\n",
        "                                    .fit_transform(X_train)\n",
        "    X_test = TimeSeriesScalerMeanVariance(mu=0., std=1.) \\\n",
        "                                    .fit_transform(X_test)\n",
        "    \n",
        "    classes = len(np.unique(data_train[:,0]))\n",
        "    km = TimeSeriesKMeans(n_clusters=5, max_iter=10, n_init=10, \\\n",
        "                          metric=\"euclidean\", verbose=0, random_state=2019)\n",
        "    km.fit(X_train)\n",
        "\n",
        "    print(i)\n",
        "    preds = km.predict(X_train)\n",
        "    ars = adjusted_rand_score(data_train[:,0],preds)\n",
        "    print(\"Adjusted Rand Index on Training Set:\", ars)\n",
        "    kMeansDF.loc[i,\"Train ARS\"] = ars\n",
        "    \n",
        "    preds_test = km.predict(X_test)\n",
        "    ars = adjusted_rand_score(data_test[:,0],preds_test)\n",
        "    print(\"Adjusted Rand Index on Test Set:\", ars)\n",
        "    kMeansDF.loc[i,\"Test ARS\"] = ars\n",
        "    \n",
        "kMeansTime = timer.elapsed_time()"
      ],
      "metadata": {
        "id": "HFNVisAgDcOc"
      },
      "execution_count": null,
      "outputs": []
    },
    {
      "cell_type": "markdown",
      "source": [
        "## HDBSCAN"
      ],
      "metadata": {
        "id": "mp2JEvIXE4BT"
      }
    },
    {
      "cell_type": "code",
      "source": [
        "hdbscanDF = pd.DataFrame(data=[],\n",
        "                         index=[v for v in d],\n",
        "                         columns=[\"Train ARS\",\"Test ARS\"])"
      ],
      "metadata": {
        "id": "EnJPkQlTD6V_"
      },
      "execution_count": null,
      "outputs": []
    },
    {
      "cell_type": "code",
      "source": [
        "timer = ElapsedTimer()\n",
        "\n",
        "cnt = 0\n",
        "\n",
        "for i in d:\n",
        "    cnt += 1\n",
        "    print(\"Dataset \", cnt)\n",
        "    newpath = os.path.sep.join([mypath, i, \"\"])\n",
        "    onlyfiles = [f for f in listdir(newpath) if isfile(join(newpath, f))]\n",
        "    j = onlyfiles[0]\n",
        "    k = onlyfiles[1]\n",
        "    data_train = np.loadtxt(newpath+j, delimiter=\",\")\n",
        "    data_test = np.loadtxt(newpath+k, delimiter=\",\")\n",
        "\n",
        "    data_joined = np.concatenate((data_train,data_test),axis=0)\n",
        "    data_train, data_test = train_test_split(data_joined, \\\n",
        "                                    test_size=0.20, random_state=2019)\n",
        "\n",
        "    X_train = data_train[:, 1:]\n",
        "    y_train = data_train[:, 0].astype(np.int)\n",
        "    X_test = data_test[:, 1:]\n",
        "    y_test = data_test[:, 0].astype(np.int)\n",
        "    \n",
        "    X_train = TimeSeriesScalerMeanVariance(mu=0., std=1.) \\\n",
        "                                    .fit_transform(X_train)\n",
        "    X_test = TimeSeriesScalerMeanVariance(mu=0., std=1.)  \\\n",
        "                                    .fit_transform(X_test)\n",
        "    \n",
        "    classes = len(np.unique(data_train[:,0]))\n",
        "    min_cluster_size = 5\n",
        "    min_samples = None\n",
        "    alpha = 1.0\n",
        "    cluster_selection_method = 'eom'\n",
        "    prediction_data = True\n",
        "\n",
        "    hdb = hdbscan.HDBSCAN(min_cluster_size=min_cluster_size, \\\n",
        "                          min_samples=min_samples, alpha=alpha, \\\n",
        "                          cluster_selection_method= \\\n",
        "                              cluster_selection_method, \\\n",
        "                          prediction_data=prediction_data)\n",
        "\n",
        "    print(i)\n",
        "    preds = hdb.fit_predict(X_train.reshape(X_train.shape[0], \\\n",
        "                                            X_train.shape[1]))\n",
        "    ars = adjusted_rand_score(data_train[:,0],preds)\n",
        "    print(\"Adjusted Rand Index on Training Set:\", ars)\n",
        "    hdbscanDF.loc[i,\"Train ARS\"] = ars\n",
        "    \n",
        "    preds_test = hdbscan.prediction.approximate_predict(hdb, \n",
        "                            X_test.reshape(X_test.shape[0], \\\n",
        "                                           X_test.shape[1]))\n",
        "    ars = adjusted_rand_score(data_test[:,0],preds_test[0])\n",
        "    print(\"Adjusted Rand Index on Test Set:\", ars)\n",
        "    hdbscanDF.loc[i,\"Test ARS\"] = ars\n",
        "    \n",
        "hdbscanTime = timer.elapsed_time()"
      ],
      "metadata": {
        "id": "h8sR0pCcE8eE"
      },
      "execution_count": null,
      "outputs": []
    },
    {
      "cell_type": "markdown",
      "source": [
        "## 세가지 실험에 대한 모두 비교"
      ],
      "metadata": {
        "id": "RTymHZ9AFCxv"
      }
    },
    {
      "cell_type": "code",
      "source": [
        "print(\"k-Shape Results\")\n",
        "kShapeDF.mean()"
      ],
      "metadata": {
        "id": "fhV1COFeFE0Y"
      },
      "execution_count": null,
      "outputs": []
    },
    {
      "cell_type": "code",
      "source": [
        "print(\"k-Means Results\")\n",
        "kMeansDF.mean()"
      ],
      "metadata": {
        "id": "jc9jfe9tFG6m"
      },
      "execution_count": null,
      "outputs": []
    },
    {
      "cell_type": "code",
      "source": [
        "print(\"HDBSCAN Results\")\n",
        "hdbscanDF.mean()"
      ],
      "metadata": {
        "id": "Gs39-RGfFIST"
      },
      "execution_count": null,
      "outputs": []
    },
    {
      "cell_type": "code",
      "source": [
        "# 모든 데이터 셋별 세가지 알고리즘을 적용한 수정된 Rand 지수 상위 순위 계산\n",
        "timeSeriesClusteringDF = pd.DataFrame(data=[],index=kShapeDF.index, \\\n",
        "                            columns=[\"kShapeTest\", \\\n",
        "                                    \"kMeansTest\", \\\n",
        "                                    \"hdbscanTest\"])\n",
        "\n",
        "timeSeriesClusteringDF.kShapeTest = kShapeDF[\"Test ARS\"]\n",
        "timeSeriesClusteringDF.kMeansTest = kMeansDF[\"Test ARS\"]\n",
        "timeSeriesClusteringDF.hdbscanTest = hdbscanDF[\"Test ARS\"]\n",
        "\n",
        "tscResults = timeSeriesClusteringDF.copy()\n",
        "\n",
        "for i in range(0,len(tscResults)):\n",
        "    maxValue = tscResults.iloc[i].max()\n",
        "    tscResults.iloc[i][tscResults.iloc[i]==maxValue]=1\n",
        "    minValue = tscResults .iloc[i].min()\n",
        "    tscResults.iloc[i][tscResults.iloc[i]==minValue]=-1\n",
        "    medianValue = tscResults.iloc[i].median()\n",
        "    tscResults.iloc[i][tscResults.iloc[i]==medianValue]=0"
      ],
      "metadata": {
        "id": "cRwhx-07FKIh"
      },
      "execution_count": null,
      "outputs": []
    },
    {
      "cell_type": "code",
      "source": [
        "tscResultsDF = pd.DataFrame(data=np.zeros((3,3)), \\\n",
        "                index=[\"firstPlace\",\"secondPlace\",\"thirdPlace\"], \\\n",
        "                columns=[\"kShape\", \"kMeans\",\"hdbscan\"])\n",
        "tscResultsDF.loc[\"firstPlace\",:] = tscResults[tscResults==1].count().values\n",
        "tscResultsDF.loc[\"secondPlace\",:] = tscResults[tscResults==0].count().values\n",
        "tscResultsDF.loc[\"thirdPlace\",:] = tscResults[tscResults==-1].count().values\n",
        "tscResultsDF"
      ],
      "metadata": {
        "id": "AE9Fj3HuFL92"
      },
      "execution_count": null,
      "outputs": []
    }
  ]
}