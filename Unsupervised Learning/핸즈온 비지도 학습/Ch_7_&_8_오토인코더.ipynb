{
  "nbformat": 4,
  "nbformat_minor": 0,
  "metadata": {
    "colab": {
      "provenance": [],
      "authorship_tag": "ABX9TyOHu13rU3F5i2aWZW4purzJ",
      "include_colab_link": true
    },
    "kernelspec": {
      "name": "python3",
      "display_name": "Python 3"
    },
    "language_info": {
      "name": "python"
    },
    "accelerator": "GPU",
    "gpuClass": "standard"
  },
  "cells": [
    {
      "cell_type": "markdown",
      "metadata": {
        "id": "view-in-github",
        "colab_type": "text"
      },
      "source": [
        "<a href=\"https://colab.research.google.com/github/namwootree/Basic_Skill/blob/main/Unsupervised%20Learning/%ED%95%B8%EC%A6%88%EC%98%A8%20%EB%B9%84%EC%A7%80%EB%8F%84%20%ED%95%99%EC%8A%B5/Ch_7_%26_8_%EC%98%A4%ED%86%A0%EC%9D%B8%EC%BD%94%EB%8D%94.ipynb\" target=\"_parent\"><img src=\"https://colab.research.google.com/assets/colab-badge.svg\" alt=\"Open In Colab\"/></a>"
      ]
    },
    {
      "cell_type": "markdown",
      "source": [
        "# Auto Encoder"
      ],
      "metadata": {
        "id": "z5ipz8JNk5i0"
      }
    },
    {
      "cell_type": "markdown",
      "source": [
        "## 피처 추출"
      ],
      "metadata": {
        "id": "08XOJWpJlWbL"
      }
    },
    {
      "cell_type": "markdown",
      "source": [
        "* 비지도 학습이 탁월한 영역 중 하나는 피처 추출이다\n",
        "\n",
        "* 피처 추출은 원본 피처셋에서 새로운 피처 표현을 생성하는 데 사용한다\n",
        "\n",
        "* 새로운 피처 표현은 학습된 표현이라고 하며 지도 학습 문제에서 예측 성능을 향상시키는 데 사용"
      ],
      "metadata": {
        "id": "SWRVU6Mik-xf"
      }
    },
    {
      "cell_type": "markdown",
      "source": [
        "## 오토인코더 : 인코더와 디코더"
      ],
      "metadata": {
        "id": "8AARxVr6liGU"
      }
    },
    {
      "cell_type": "markdown",
      "source": [
        "* 오토인코더는 인코더와 디코더 두 부분으로 구성된다\n",
        "\n",
        "* 인코더 : 입력 피처셋을 표현 학습을 통해 다른 표현으로 변환\n",
        "\n",
        "* 디코더 : 새로 학습한 표현을 원본 형식으로 변환"
      ],
      "metadata": {
        "id": "vUUjQiivll_m"
      }
    },
    {
      "cell_type": "markdown",
      "source": [
        "* 오토인코더는 원본 피처와 관측치를 기억 (항등 함수) 하지 않음\n",
        "\n",
        "* 오토인코더는 새로 학습한 표현을 사용해 가능한 한 원본 관측치에 가깝게 (하지만 정확하지 않게) 근사해야 한다\n",
        "\n",
        "* 오토인코더에는 제약이 있기 때문에 데이터의 내재적 구조를 추출해 원본 데이터의 핵심 특성을 학습하게 된다\n",
        "\n",
        "* 제약은 오토인코더가 중요한 정보는 추출하고 중요하지 않은 정보는 무시하는 것을 지능적으로 선택하도록 강제한다"
      ],
      "metadata": {
        "id": "G8ugZZUplzI4"
      }
    },
    {
      "cell_type": "markdown",
      "source": [
        "## 과소완전 오토인코더"
      ],
      "metadata": {
        "id": "Szrut-cymsax"
      }
    },
    {
      "cell_type": "markdown",
      "source": [
        "* 인코더 함수의 출력인 h를 원본 관측치 x보다 더 작은 차원으로 제한하여 x를 정확히 복사하지 않고 x의 핵심 특성만 학습하도록 한다\n",
        "\n",
        "* 인코더의 차원 수가 원본 입력 차원 수보다 작다\n",
        "\n",
        "* 이러한 방식으로 제약을 받으면, 오토인코더는 디코더가 인코더의 출력을 사용해 관측치를 재구성한 후 재구성 오차가 가능한 한 작도록 손실 함수를 최소화하려고 한다\n",
        "\n",
        "* 인코더의 출력은 원본 입력보다 크기가 작다. 그러나 디코더의 출력은 재구성된 원본 데이터이므로 원본 입력과 동일한 개수의 차원을 갖는다"
      ],
      "metadata": {
        "id": "i1EScLJamwho"
      }
    },
    {
      "cell_type": "markdown",
      "source": [
        "## 과대완전 오토인코더"
      ],
      "metadata": {
        "id": "RRck4N8cnukX"
      }
    },
    {
      "cell_type": "markdown",
      "source": [
        "* 인코더가 원본 입력 차원보다 더 많은 수의 차원으로 표현을 학습하면 오토인코더는 과대완전으로 간주한다\n",
        "\n",
        "* 이러한 오토인코더는 단순히 원본 관측치를 복사하기 때문에 오토인코더의 관소완전 방식으로 원본 분포에 대한 정보를 효율적이고 함축적으로 추출하도록 강요받지 않는다\n",
        "\n",
        "* 불필요하게 복잡한 함수를 학습하는 것에 대해 신경망에 불이익을 주는 일종의 정규화를 사용한다면 과대완전 오토인코더는 차원 축소 및 자동 피처 엔지니어링에 성공적으로 사용할 수 있다"
      ],
      "metadata": {
        "id": "vp08D_AlnyiO"
      }
    },
    {
      "cell_type": "markdown",
      "source": [
        "## 고밀도 VS 희소 오토인코더"
      ],
      "metadata": {
        "id": "jhbFMAXtoY8V"
      }
    },
    {
      "cell_type": "markdown",
      "source": [
        "* 고밀도 (일반) 오토인코더 : 소수의 피처들을 원본 데이터에서 추출된 가장 핵심적인 정보를 갖는 고밀도 최종 행렬을 출력\n",
        "\n",
        "* 희소 오토인코더 : 오토인코더가 학습하는 피처에 추출 정보가 더 잘 분배되도록 희소한 최종 행렬을 출력\n",
        "\n",
        "  - 이를 위해서는 오토인코더의 일부로 재구성 오차뿐만 아니라 오토인코더가 최종 행렬의 희소성을 고려하도록 희소성 패널티를 포함시켜야 한다\n",
        "\n",
        "  - 은닉층은 소수의 유닛만 동시에 활성화된다는 제약을 극복하기 위해 원본 피처의 수보다 더 많은 유닛을 가지기 때문이다\n",
        "\n",
        "  - 이러한 방식으로 정의하면 희소 오토인코더는 더 많은 0 값이 포함된 최종 행렬을 출력하고 추출된 정보는 학습된 피처에 더 잘 분배될 것이다"
      ],
      "metadata": {
        "id": "bs7NTONhocd5"
      }
    },
    {
      "cell_type": "markdown",
      "source": [
        "## 노이즈 제거 오토인코더"
      ],
      "metadata": {
        "id": "6rnLg67ApW1d"
      }
    },
    {
      "cell_type": "markdown",
      "source": [
        "* 경우에 따라 우리가 설계한 오토인코더가 데이터 노이즈를 더 적극적으로 무시하도록 할 수 있다\n",
        "\n",
        "* 특히 원본 데이터가 어느 정도 손상됐다고 의심되는 경우 더욱 그렇다\n",
        "\n",
        "* 노이즈 제거 오토인코더 : 손상된 데이터를 입력으로 사용하고 손상되지 않은 원래 데이터를 가능한 한 최상으로 출력하도록 훈련"
      ],
      "metadata": {
        "id": "SEkkkCRmps2e"
      }
    },
    {
      "cell_type": "markdown",
      "source": [
        "## 변분 오토인코더"
      ],
      "metadata": {
        "id": "BtfKcotlqBla"
      }
    },
    {
      "cell_type": "markdown",
      "source": [
        "* 하나의 벡터 대신 두 개의 벡터 (평균 벡터 뮤, 표준 편차 벡터 시그마)를 출력\n",
        "\n",
        "* 이 두 벡터는 뮤와 시그마의 i번째 요소가 i번째 랜덤 변수의 평균 및 표준 편차에 대응하도록 랜덤 변수를 형성\n",
        "\n",
        "* 변분 오토인코더는 인코더를 통해 이러한 확률적 출력을 형성함으로써 입력 데이터에서 학습한 내용을 기반으로 연속 공간에서 샘플링할 수 있다\n",
        "\n",
        "* 변분 오토인코더는 훈련된 케이스에 국한하지 않고, 비록 이전에 정확히 유사한 케이스를 본 적이 없더라도 새로운 케이스를 일반화하고 출력할 수 있다"
      ],
      "metadata": {
        "id": "aGG4YKdcqUJx"
      }
    },
    {
      "cell_type": "markdown",
      "source": [
        "# Setting"
      ],
      "metadata": {
        "id": "RrWoQLBprTf1"
      }
    },
    {
      "cell_type": "markdown",
      "source": [
        "## Library"
      ],
      "metadata": {
        "id": "qBbTRgIhrYZP"
      }
    },
    {
      "cell_type": "code",
      "execution_count": 1,
      "metadata": {
        "id": "wONoPasHkfGt"
      },
      "outputs": [],
      "source": [
        "import numpy as np\n",
        "import pandas as pd\n",
        "import os, time, re\n",
        "import pickle, gzip"
      ]
    },
    {
      "cell_type": "code",
      "source": [
        "import matplotlib as mpl\n",
        "import matplotlib.pyplot as plt\n",
        "import seaborn as sns\n",
        "color = sns.color_palette()"
      ],
      "metadata": {
        "id": "wqDorLw-raJW"
      },
      "execution_count": 2,
      "outputs": []
    },
    {
      "cell_type": "code",
      "source": [
        "from sklearn.preprocessing import StandardScaler, LabelEncoder\n",
        "from sklearn.model_selection import train_test_split \n",
        "from sklearn.model_selection import StratifiedKFold \n",
        "from sklearn.metrics import log_loss\n",
        "from sklearn.metrics import precision_recall_curve, average_precision_score\n",
        "from sklearn.metrics import roc_curve, auc, roc_auc_score"
      ],
      "metadata": {
        "id": "6XskS6ZNrci6"
      },
      "execution_count": 4,
      "outputs": []
    },
    {
      "cell_type": "code",
      "source": [
        "import lightgbm as lgb"
      ],
      "metadata": {
        "id": "srS-TMIgrjVU"
      },
      "execution_count": 5,
      "outputs": []
    },
    {
      "cell_type": "code",
      "source": [
        "import tensorflow as tf\n",
        "import keras\n",
        "from keras import backend as K\n",
        "from keras.models import Sequential, Model\n",
        "from keras.layers import Activation, Dense, Dropout\n",
        "from keras.layers import BatchNormalization, Input, Lambda\n",
        "from keras import regularizers\n",
        "from keras.losses import mse, binary_crossentropy"
      ],
      "metadata": {
        "id": "hEaLYzE0rnpH"
      },
      "execution_count": 6,
      "outputs": []
    },
    {
      "cell_type": "markdown",
      "source": [
        "# Load Data Set"
      ],
      "metadata": {
        "id": "sB_Ub8msrq7E"
      }
    },
    {
      "cell_type": "code",
      "source": [
        "from google.colab import drive\n",
        "drive.mount('/content/drive')"
      ],
      "metadata": {
        "colab": {
          "base_uri": "https://localhost:8080/"
        },
        "id": "Qd08ysWnrpH5",
        "outputId": "46a254dc-6dd8-4bcf-9670-976bdf9293ff"
      },
      "execution_count": 7,
      "outputs": [
        {
          "output_type": "stream",
          "name": "stdout",
          "text": [
            "Mounted at /content/drive\n"
          ]
        }
      ]
    },
    {
      "cell_type": "code",
      "source": [
        "path_credit_card = '/content/drive/MyDrive/머신러닝 엔지니어링/핸즈온 비지도 학습/data/creditcard.csv'\n",
        "\n",
        "data = pd.read_csv(path_credit_card)\n",
        "data.head()"
      ],
      "metadata": {
        "colab": {
          "base_uri": "https://localhost:8080/",
          "height": 299
        },
        "id": "7LVgshkhrw22",
        "outputId": "980a2378-9f8c-4c36-8a4f-57f61ae9a771"
      },
      "execution_count": 8,
      "outputs": [
        {
          "output_type": "execute_result",
          "data": {
            "text/plain": [
              "   Time        V1        V2        V3        V4        V5        V6        V7  \\\n",
              "0   0.0 -1.359807 -0.072781  2.536347  1.378155 -0.338321  0.462388  0.239599   \n",
              "1   0.0  1.191857  0.266151  0.166480  0.448154  0.060018 -0.082361 -0.078803   \n",
              "2   1.0 -1.358354 -1.340163  1.773209  0.379780 -0.503198  1.800499  0.791461   \n",
              "3   1.0 -0.966272 -0.185226  1.792993 -0.863291 -0.010309  1.247203  0.237609   \n",
              "4   2.0 -1.158233  0.877737  1.548718  0.403034 -0.407193  0.095921  0.592941   \n",
              "\n",
              "         V8        V9  ...       V21       V22       V23       V24       V25  \\\n",
              "0  0.098698  0.363787  ... -0.018307  0.277838 -0.110474  0.066928  0.128539   \n",
              "1  0.085102 -0.255425  ... -0.225775 -0.638672  0.101288 -0.339846  0.167170   \n",
              "2  0.247676 -1.514654  ...  0.247998  0.771679  0.909412 -0.689281 -0.327642   \n",
              "3  0.377436 -1.387024  ... -0.108300  0.005274 -0.190321 -1.175575  0.647376   \n",
              "4 -0.270533  0.817739  ... -0.009431  0.798278 -0.137458  0.141267 -0.206010   \n",
              "\n",
              "        V26       V27       V28  Amount  Class  \n",
              "0 -0.189115  0.133558 -0.021053  149.62      0  \n",
              "1  0.125895 -0.008983  0.014724    2.69      0  \n",
              "2 -0.139097 -0.055353 -0.059752  378.66      0  \n",
              "3 -0.221929  0.062723  0.061458  123.50      0  \n",
              "4  0.502292  0.219422  0.215153   69.99      0  \n",
              "\n",
              "[5 rows x 31 columns]"
            ],
            "text/html": [
              "\n",
              "  <div id=\"df-044b3a16-f299-4272-8ed5-f40b1cc4c33c\">\n",
              "    <div class=\"colab-df-container\">\n",
              "      <div>\n",
              "<style scoped>\n",
              "    .dataframe tbody tr th:only-of-type {\n",
              "        vertical-align: middle;\n",
              "    }\n",
              "\n",
              "    .dataframe tbody tr th {\n",
              "        vertical-align: top;\n",
              "    }\n",
              "\n",
              "    .dataframe thead th {\n",
              "        text-align: right;\n",
              "    }\n",
              "</style>\n",
              "<table border=\"1\" class=\"dataframe\">\n",
              "  <thead>\n",
              "    <tr style=\"text-align: right;\">\n",
              "      <th></th>\n",
              "      <th>Time</th>\n",
              "      <th>V1</th>\n",
              "      <th>V2</th>\n",
              "      <th>V3</th>\n",
              "      <th>V4</th>\n",
              "      <th>V5</th>\n",
              "      <th>V6</th>\n",
              "      <th>V7</th>\n",
              "      <th>V8</th>\n",
              "      <th>V9</th>\n",
              "      <th>...</th>\n",
              "      <th>V21</th>\n",
              "      <th>V22</th>\n",
              "      <th>V23</th>\n",
              "      <th>V24</th>\n",
              "      <th>V25</th>\n",
              "      <th>V26</th>\n",
              "      <th>V27</th>\n",
              "      <th>V28</th>\n",
              "      <th>Amount</th>\n",
              "      <th>Class</th>\n",
              "    </tr>\n",
              "  </thead>\n",
              "  <tbody>\n",
              "    <tr>\n",
              "      <th>0</th>\n",
              "      <td>0.0</td>\n",
              "      <td>-1.359807</td>\n",
              "      <td>-0.072781</td>\n",
              "      <td>2.536347</td>\n",
              "      <td>1.378155</td>\n",
              "      <td>-0.338321</td>\n",
              "      <td>0.462388</td>\n",
              "      <td>0.239599</td>\n",
              "      <td>0.098698</td>\n",
              "      <td>0.363787</td>\n",
              "      <td>...</td>\n",
              "      <td>-0.018307</td>\n",
              "      <td>0.277838</td>\n",
              "      <td>-0.110474</td>\n",
              "      <td>0.066928</td>\n",
              "      <td>0.128539</td>\n",
              "      <td>-0.189115</td>\n",
              "      <td>0.133558</td>\n",
              "      <td>-0.021053</td>\n",
              "      <td>149.62</td>\n",
              "      <td>0</td>\n",
              "    </tr>\n",
              "    <tr>\n",
              "      <th>1</th>\n",
              "      <td>0.0</td>\n",
              "      <td>1.191857</td>\n",
              "      <td>0.266151</td>\n",
              "      <td>0.166480</td>\n",
              "      <td>0.448154</td>\n",
              "      <td>0.060018</td>\n",
              "      <td>-0.082361</td>\n",
              "      <td>-0.078803</td>\n",
              "      <td>0.085102</td>\n",
              "      <td>-0.255425</td>\n",
              "      <td>...</td>\n",
              "      <td>-0.225775</td>\n",
              "      <td>-0.638672</td>\n",
              "      <td>0.101288</td>\n",
              "      <td>-0.339846</td>\n",
              "      <td>0.167170</td>\n",
              "      <td>0.125895</td>\n",
              "      <td>-0.008983</td>\n",
              "      <td>0.014724</td>\n",
              "      <td>2.69</td>\n",
              "      <td>0</td>\n",
              "    </tr>\n",
              "    <tr>\n",
              "      <th>2</th>\n",
              "      <td>1.0</td>\n",
              "      <td>-1.358354</td>\n",
              "      <td>-1.340163</td>\n",
              "      <td>1.773209</td>\n",
              "      <td>0.379780</td>\n",
              "      <td>-0.503198</td>\n",
              "      <td>1.800499</td>\n",
              "      <td>0.791461</td>\n",
              "      <td>0.247676</td>\n",
              "      <td>-1.514654</td>\n",
              "      <td>...</td>\n",
              "      <td>0.247998</td>\n",
              "      <td>0.771679</td>\n",
              "      <td>0.909412</td>\n",
              "      <td>-0.689281</td>\n",
              "      <td>-0.327642</td>\n",
              "      <td>-0.139097</td>\n",
              "      <td>-0.055353</td>\n",
              "      <td>-0.059752</td>\n",
              "      <td>378.66</td>\n",
              "      <td>0</td>\n",
              "    </tr>\n",
              "    <tr>\n",
              "      <th>3</th>\n",
              "      <td>1.0</td>\n",
              "      <td>-0.966272</td>\n",
              "      <td>-0.185226</td>\n",
              "      <td>1.792993</td>\n",
              "      <td>-0.863291</td>\n",
              "      <td>-0.010309</td>\n",
              "      <td>1.247203</td>\n",
              "      <td>0.237609</td>\n",
              "      <td>0.377436</td>\n",
              "      <td>-1.387024</td>\n",
              "      <td>...</td>\n",
              "      <td>-0.108300</td>\n",
              "      <td>0.005274</td>\n",
              "      <td>-0.190321</td>\n",
              "      <td>-1.175575</td>\n",
              "      <td>0.647376</td>\n",
              "      <td>-0.221929</td>\n",
              "      <td>0.062723</td>\n",
              "      <td>0.061458</td>\n",
              "      <td>123.50</td>\n",
              "      <td>0</td>\n",
              "    </tr>\n",
              "    <tr>\n",
              "      <th>4</th>\n",
              "      <td>2.0</td>\n",
              "      <td>-1.158233</td>\n",
              "      <td>0.877737</td>\n",
              "      <td>1.548718</td>\n",
              "      <td>0.403034</td>\n",
              "      <td>-0.407193</td>\n",
              "      <td>0.095921</td>\n",
              "      <td>0.592941</td>\n",
              "      <td>-0.270533</td>\n",
              "      <td>0.817739</td>\n",
              "      <td>...</td>\n",
              "      <td>-0.009431</td>\n",
              "      <td>0.798278</td>\n",
              "      <td>-0.137458</td>\n",
              "      <td>0.141267</td>\n",
              "      <td>-0.206010</td>\n",
              "      <td>0.502292</td>\n",
              "      <td>0.219422</td>\n",
              "      <td>0.215153</td>\n",
              "      <td>69.99</td>\n",
              "      <td>0</td>\n",
              "    </tr>\n",
              "  </tbody>\n",
              "</table>\n",
              "<p>5 rows × 31 columns</p>\n",
              "</div>\n",
              "      <button class=\"colab-df-convert\" onclick=\"convertToInteractive('df-044b3a16-f299-4272-8ed5-f40b1cc4c33c')\"\n",
              "              title=\"Convert this dataframe to an interactive table.\"\n",
              "              style=\"display:none;\">\n",
              "        \n",
              "  <svg xmlns=\"http://www.w3.org/2000/svg\" height=\"24px\"viewBox=\"0 0 24 24\"\n",
              "       width=\"24px\">\n",
              "    <path d=\"M0 0h24v24H0V0z\" fill=\"none\"/>\n",
              "    <path d=\"M18.56 5.44l.94 2.06.94-2.06 2.06-.94-2.06-.94-.94-2.06-.94 2.06-2.06.94zm-11 1L8.5 8.5l.94-2.06 2.06-.94-2.06-.94L8.5 2.5l-.94 2.06-2.06.94zm10 10l.94 2.06.94-2.06 2.06-.94-2.06-.94-.94-2.06-.94 2.06-2.06.94z\"/><path d=\"M17.41 7.96l-1.37-1.37c-.4-.4-.92-.59-1.43-.59-.52 0-1.04.2-1.43.59L10.3 9.45l-7.72 7.72c-.78.78-.78 2.05 0 2.83L4 21.41c.39.39.9.59 1.41.59.51 0 1.02-.2 1.41-.59l7.78-7.78 2.81-2.81c.8-.78.8-2.07 0-2.86zM5.41 20L4 18.59l7.72-7.72 1.47 1.35L5.41 20z\"/>\n",
              "  </svg>\n",
              "      </button>\n",
              "      \n",
              "  <style>\n",
              "    .colab-df-container {\n",
              "      display:flex;\n",
              "      flex-wrap:wrap;\n",
              "      gap: 12px;\n",
              "    }\n",
              "\n",
              "    .colab-df-convert {\n",
              "      background-color: #E8F0FE;\n",
              "      border: none;\n",
              "      border-radius: 50%;\n",
              "      cursor: pointer;\n",
              "      display: none;\n",
              "      fill: #1967D2;\n",
              "      height: 32px;\n",
              "      padding: 0 0 0 0;\n",
              "      width: 32px;\n",
              "    }\n",
              "\n",
              "    .colab-df-convert:hover {\n",
              "      background-color: #E2EBFA;\n",
              "      box-shadow: 0px 1px 2px rgba(60, 64, 67, 0.3), 0px 1px 3px 1px rgba(60, 64, 67, 0.15);\n",
              "      fill: #174EA6;\n",
              "    }\n",
              "\n",
              "    [theme=dark] .colab-df-convert {\n",
              "      background-color: #3B4455;\n",
              "      fill: #D2E3FC;\n",
              "    }\n",
              "\n",
              "    [theme=dark] .colab-df-convert:hover {\n",
              "      background-color: #434B5C;\n",
              "      box-shadow: 0px 1px 3px 1px rgba(0, 0, 0, 0.15);\n",
              "      filter: drop-shadow(0px 1px 2px rgba(0, 0, 0, 0.3));\n",
              "      fill: #FFFFFF;\n",
              "    }\n",
              "  </style>\n",
              "\n",
              "      <script>\n",
              "        const buttonEl =\n",
              "          document.querySelector('#df-044b3a16-f299-4272-8ed5-f40b1cc4c33c button.colab-df-convert');\n",
              "        buttonEl.style.display =\n",
              "          google.colab.kernel.accessAllowed ? 'block' : 'none';\n",
              "\n",
              "        async function convertToInteractive(key) {\n",
              "          const element = document.querySelector('#df-044b3a16-f299-4272-8ed5-f40b1cc4c33c');\n",
              "          const dataTable =\n",
              "            await google.colab.kernel.invokeFunction('convertToInteractive',\n",
              "                                                     [key], {});\n",
              "          if (!dataTable) return;\n",
              "\n",
              "          const docLinkHtml = 'Like what you see? Visit the ' +\n",
              "            '<a target=\"_blank\" href=https://colab.research.google.com/notebooks/data_table.ipynb>data table notebook</a>'\n",
              "            + ' to learn more about interactive tables.';\n",
              "          element.innerHTML = '';\n",
              "          dataTable['output_type'] = 'display_data';\n",
              "          await google.colab.output.renderOutput(dataTable, element);\n",
              "          const docLink = document.createElement('div');\n",
              "          docLink.innerHTML = docLinkHtml;\n",
              "          element.appendChild(docLink);\n",
              "        }\n",
              "      </script>\n",
              "    </div>\n",
              "  </div>\n",
              "  "
            ]
          },
          "metadata": {},
          "execution_count": 8
        }
      ]
    },
    {
      "cell_type": "markdown",
      "source": [
        "# Preprocessing"
      ],
      "metadata": {
        "id": "1GNKe0s4sPZC"
      }
    },
    {
      "cell_type": "markdown",
      "source": [
        "## Split X / y"
      ],
      "metadata": {
        "id": "YlZ0yyzksTr-"
      }
    },
    {
      "cell_type": "code",
      "source": [
        "X = data.copy().drop(['Class','Time'],axis=1)\n",
        "y = data['Class'].copy()"
      ],
      "metadata": {
        "id": "UWMTzkVwsEQo"
      },
      "execution_count": 9,
      "outputs": []
    },
    {
      "cell_type": "markdown",
      "source": [
        "## Scalering"
      ],
      "metadata": {
        "id": "XYcVGPT3sWWR"
      }
    },
    {
      "cell_type": "code",
      "source": [
        "featuresToScale = X.columns\n",
        "\n",
        "sX = StandardScaler(copy=True, with_mean=True, with_std=True)\n",
        "\n",
        "X.loc[:,featuresToScale] = sX.fit_transform(X[featuresToScale])"
      ],
      "metadata": {
        "id": "QuEMIx4osSVE"
      },
      "execution_count": 10,
      "outputs": []
    },
    {
      "cell_type": "markdown",
      "source": [
        "## Split Train / Test"
      ],
      "metadata": {
        "id": "3n6Vtc07sfvX"
      }
    },
    {
      "cell_type": "code",
      "source": [
        "X_train, X_test, y_train, y_test = train_test_split(X, y,\n",
        "                                                    test_size=0.33,\n",
        "                                                    random_state=2022,\n",
        "                                                    stratify=y)"
      ],
      "metadata": {
        "id": "pDMPaz9lsefg"
      },
      "execution_count": 11,
      "outputs": []
    },
    {
      "cell_type": "code",
      "source": [
        "X_train_AE = X_train.copy()\n",
        "X_test_AE = X_test.copy()"
      ],
      "metadata": {
        "id": "jpba1rgWsq2L"
      },
      "execution_count": 12,
      "outputs": []
    },
    {
      "cell_type": "markdown",
      "source": [
        "# Modeling"
      ],
      "metadata": {
        "id": "3eJ4s9c_svno"
      }
    },
    {
      "cell_type": "markdown",
      "source": [
        "## 평가 함수 및 그래프 함수 정의"
      ],
      "metadata": {
        "id": "F_WVUwsKsxiH"
      }
    },
    {
      "cell_type": "markdown",
      "source": [
        "### 평가 함수"
      ],
      "metadata": {
        "id": "-sJREmu5s4ma"
      }
    },
    {
      "cell_type": "code",
      "source": [
        "def anomalyScores(originalDF, reducedDF):\n",
        "    loss = np.sum((np.array(originalDF) - np.array(reducedDF))**2, axis=1)\n",
        "    loss = pd.Series(data=loss,index=originalDF.index)\n",
        "    loss = (loss-np.min(loss))/(np.max(loss)-np.min(loss))\n",
        "    return loss"
      ],
      "metadata": {
        "id": "qDCuVxafss4I"
      },
      "execution_count": 13,
      "outputs": []
    },
    {
      "cell_type": "markdown",
      "source": [
        "### 그래프 함수"
      ],
      "metadata": {
        "id": "COLR8r7Ys6kp"
      }
    },
    {
      "cell_type": "code",
      "source": [
        "def plotResults(trueLabels, anomalyScores, returnPreds = False):\n",
        "\n",
        "    preds = pd.concat([trueLabels, anomalyScores], axis=1)\n",
        "    preds.columns = ['trueLabel', 'anomalyScore']\n",
        "\n",
        "    precision, recall, thresholds = precision_recall_curve(preds['trueLabel'],\n",
        "                                                           preds['anomalyScore'])\n",
        "    \n",
        "    average_precision = average_precision_score(preds['trueLabel'],\n",
        "                                                preds['anomalyScore'])\n",
        "    \n",
        "    plt.step(recall, precision, color='k', alpha=0.7, where='post')\n",
        "    plt.fill_between(recall, precision, step='post', alpha=0.3, color='k')\n",
        "\n",
        "    plt.xlabel('Recall')\n",
        "    plt.ylabel('Precision')\n",
        "    plt.ylim([0.0, 1.05])\n",
        "    plt.xlim([0.0, 1.0])\n",
        "    \n",
        "    plt.title('Precision-Recall curve: Average Precision = {0:0.2f}'.format(average_precision))\n",
        "\n",
        "    fpr, tpr, thresholds = roc_curve(preds['trueLabel'],\n",
        "                                     preds['anomalyScore'])\n",
        "    areaUnderROC = auc(fpr, tpr)\n",
        "\n",
        "    plt.figure()\n",
        "    plt.plot(fpr, tpr, color='r', lw=2, label='ROC curve')\n",
        "    plt.plot([0, 1], [0, 1], color='k', lw=2, linestyle='--')\n",
        "    plt.xlim([0.0, 1.0])\n",
        "    plt.ylim([0.0, 1.05])\n",
        "    plt.xlabel('False Positive Rate')\n",
        "    plt.ylabel('True Positive Rate')\n",
        "    plt.title('Receiver operating characteristic: Area under the curve = {0:0.2f}'.format(areaUnderROC))\n",
        "    plt.legend(loc=\"lower right\")\n",
        "    plt.show()\n",
        "    \n",
        "    if returnPreds==True:\n",
        "      \n",
        "        return preds, average_precision  "
      ],
      "metadata": {
        "id": "LKCAfSuPs3wE"
      },
      "execution_count": 14,
      "outputs": []
    },
    {
      "cell_type": "markdown",
      "source": [
        "## 선형 활성화 함수로 구성된 2-계층 완전오토인코더"
      ],
      "metadata": {
        "id": "sv_t2naCtYQS"
      }
    },
    {
      "cell_type": "markdown",
      "source": [
        "### 모델 생성"
      ],
      "metadata": {
        "id": "xnGYxE_fuCXk"
      }
    },
    {
      "cell_type": "markdown",
      "source": [
        "은닉층의 노드 수와 입력층의 노드 수가 같은 완전 오토인코더 생성"
      ],
      "metadata": {
        "id": "DfRkoM0KuXg6"
      }
    },
    {
      "cell_type": "code",
      "source": [
        "model = Sequential()\n",
        "\n",
        "model.add(Dense(units=len(X_train_AE.columns), \n",
        "                activation='linear',\n",
        "                input_dim=len(X_train_AE.columns)))\n",
        "\n",
        "model.add(Dense(units=len(X_train_AE.columns),\n",
        "                activation='linear'))"
      ],
      "metadata": {
        "id": "2Bsqvc5PtJ-A"
      },
      "execution_count": 18,
      "outputs": []
    },
    {
      "cell_type": "markdown",
      "source": [
        "### 모델 컴파일"
      ],
      "metadata": {
        "id": "zDgVzcDPuD-w"
      }
    },
    {
      "cell_type": "code",
      "source": [
        "model.compile(optimizer='adam',\n",
        "              loss='mean_squared_error',\n",
        "              metrics=['accuracy'])"
      ],
      "metadata": {
        "id": "yYaqzbabt9T-"
      },
      "execution_count": 19,
      "outputs": []
    },
    {
      "cell_type": "markdown",
      "source": [
        "### 모델 훈련"
      ],
      "metadata": {
        "id": "9-g72KYPuG7Y"
      }
    },
    {
      "cell_type": "code",
      "source": [
        "num_epochs = 10\n",
        "batch_size = 32\n",
        "\n",
        "history = model.fit(x=X_train_AE, y=X_train_AE,\n",
        "                    epochs=num_epochs,\n",
        "                    batch_size=batch_size,\n",
        "                    shuffle=True,\n",
        "                    validation_data=(X_train_AE, X_train_AE),\n",
        "                    verbose=1)"
      ],
      "metadata": {
        "colab": {
          "base_uri": "https://localhost:8080/"
        },
        "id": "Rh-a7aK0uBo5",
        "outputId": "0f07a405-6906-4f53-e784-4e4f7e898b11"
      },
      "execution_count": 20,
      "outputs": [
        {
          "output_type": "stream",
          "name": "stdout",
          "text": [
            "Epoch 1/10\n",
            "5964/5964 [==============================] - 29s 4ms/step - loss: 0.0993 - accuracy: 0.8854 - val_loss: 8.6266e-04 - val_accuracy: 0.9902\n",
            "Epoch 2/10\n",
            "5964/5964 [==============================] - 28s 5ms/step - loss: 8.7607e-04 - accuracy: 0.9911 - val_loss: 1.3515e-06 - val_accuracy: 0.9995\n",
            "Epoch 3/10\n",
            "5964/5964 [==============================] - 28s 5ms/step - loss: 4.8089e-04 - accuracy: 0.9952 - val_loss: 4.6200e-06 - val_accuracy: 0.9989\n",
            "Epoch 4/10\n",
            "5964/5964 [==============================] - 26s 4ms/step - loss: 6.9859e-04 - accuracy: 0.9930 - val_loss: 1.1581e-04 - val_accuracy: 0.9987\n",
            "Epoch 5/10\n",
            "5964/5964 [==============================] - 27s 5ms/step - loss: 6.0680e-04 - accuracy: 0.9939 - val_loss: 0.0032 - val_accuracy: 0.9749\n",
            "Epoch 6/10\n",
            "5964/5964 [==============================] - 24s 4ms/step - loss: 5.5964e-04 - accuracy: 0.9941 - val_loss: 1.2165e-06 - val_accuracy: 0.9996\n",
            "Epoch 7/10\n",
            "5964/5964 [==============================] - 26s 4ms/step - loss: 6.2356e-04 - accuracy: 0.9943 - val_loss: 3.6978e-06 - val_accuracy: 0.9992\n",
            "Epoch 8/10\n",
            "5964/5964 [==============================] - 24s 4ms/step - loss: 6.3526e-04 - accuracy: 0.9949 - val_loss: 0.0017 - val_accuracy: 0.9783\n",
            "Epoch 9/10\n",
            "5964/5964 [==============================] - 26s 4ms/step - loss: 4.6567e-04 - accuracy: 0.9960 - val_loss: 0.0049 - val_accuracy: 0.9643\n",
            "Epoch 10/10\n",
            "5964/5964 [==============================] - 25s 4ms/step - loss: 6.1858e-04 - accuracy: 0.9948 - val_loss: 0.0010 - val_accuracy: 0.9888\n"
          ]
        }
      ]
    },
    {
      "cell_type": "markdown",
      "source": [
        "### 모델 평가"
      ],
      "metadata": {
        "id": "DfLbE1JCv6dU"
      }
    },
    {
      "cell_type": "code",
      "source": [
        "predictions = model.predict(X_test, verbose=1)\n",
        "anomalyScoresAE = anomalyScores(X_test, predictions)\n",
        "preds = plotResults(y_test, anomalyScoresAE, True)\n",
        "model.reset_states()"
      ],
      "metadata": {
        "colab": {
          "base_uri": "https://localhost:8080/",
          "height": 591
        },
        "id": "Sx9k6-X3uKIe",
        "outputId": "f841b1ce-0830-4442-e1a5-51568bc8a8f8"
      },
      "execution_count": 21,
      "outputs": [
        {
          "output_type": "stream",
          "name": "stdout",
          "text": [
            "2938/2938 [==============================] - 4s 1ms/step\n"
          ]
        },
        {
          "output_type": "display_data",
          "data": {
            "text/plain": [
              "<Figure size 432x288 with 1 Axes>"
            ],
            "image/png": "[encoded data removed]"
          },
          "metadata": {
            "needs_background": "light"
          }
        },
        {
          "output_type": "display_data",
          "data": {
            "text/plain": [
              "<Figure size 432x288 with 1 Axes>"
            ],
            "image/png": "[encoded data removed]"
          },
          "metadata": {
            "needs_background": "light"
          }
        }
      ]
    },
    {
      "cell_type": "markdown",
      "source": [
        "## 선형 활성화 함수를 가진 2-계층 과소완전 오토인코더"
      ],
      "metadata": {
        "id": "HxSwD08PwKqf"
      }
    },
    {
      "cell_type": "markdown",
      "source": [
        "### 모델 생성"
      ],
      "metadata": {
        "id": "raSpZ5ycwWBP"
      }
    },
    {
      "cell_type": "markdown",
      "source": [
        "은닉층 27개 노드"
      ],
      "metadata": {
        "id": "FpSwdz2UxI6I"
      }
    },
    {
      "cell_type": "code",
      "source": [
        "model = Sequential()\n",
        "\n",
        "model.add(Dense(units=27,\n",
        "                activation='linear',\n",
        "                input_dim=len(X_train_AE.columns)))\n",
        "\n",
        "model.add(Dense(units=len(X_train_AE.columns),\n",
        "                activation='linear'))"
      ],
      "metadata": {
        "id": "hq5xm4J0v9s0"
      },
      "execution_count": 22,
      "outputs": []
    },
    {
      "cell_type": "markdown",
      "source": [
        "### 모델 컴파일"
      ],
      "metadata": {
        "id": "-MViFo9CwjPa"
      }
    },
    {
      "cell_type": "code",
      "source": [
        "model.compile(optimizer='adam',\n",
        "                  loss='mean_squared_error',\n",
        "                  metrics=['accuracy'])"
      ],
      "metadata": {
        "id": "sqSurwCpwi0f"
      },
      "execution_count": 23,
      "outputs": []
    },
    {
      "cell_type": "code",
      "source": [
        "num_epochs = 10\n",
        "batch_size = 32\n",
        "\n",
        "history = model.fit(x=X_train_AE, y=X_train_AE,\n",
        "                    epochs=num_epochs,\n",
        "                    batch_size=batch_size,\n",
        "                    shuffle=True,\n",
        "                    validation_data=(X_train_AE, X_train_AE),\n",
        "                    verbose=1)"
      ],
      "metadata": {
        "colab": {
          "base_uri": "https://localhost:8080/"
        },
        "id": "pP8bseWYwmiI",
        "outputId": "59166dbc-4a85-411e-c5c4-cddd67fefb7e"
      },
      "execution_count": 24,
      "outputs": [
        {
          "output_type": "stream",
          "name": "stdout",
          "text": [
            "Epoch 1/10\n",
            "5964/5964 [==============================] - 28s 5ms/step - loss: 0.1324 - accuracy: 0.8260 - val_loss: 0.0361 - val_accuracy: 0.9275\n",
            "Epoch 2/10\n",
            "5964/5964 [==============================] - 26s 4ms/step - loss: 0.0379 - accuracy: 0.9451 - val_loss: 0.0338 - val_accuracy: 0.9536\n",
            "Epoch 3/10\n",
            "5964/5964 [==============================] - 26s 4ms/step - loss: 0.0348 - accuracy: 0.9571 - val_loss: 0.0315 - val_accuracy: 0.9640\n",
            "Epoch 4/10\n",
            "5964/5964 [==============================] - 26s 4ms/step - loss: 0.0335 - accuracy: 0.9631 - val_loss: 0.0360 - val_accuracy: 0.9518\n",
            "Epoch 5/10\n",
            "5964/5964 [==============================] - 38s 6ms/step - loss: 0.0326 - accuracy: 0.9665 - val_loss: 0.0313 - val_accuracy: 0.9725\n",
            "Epoch 6/10\n",
            "5964/5964 [==============================] - 25s 4ms/step - loss: 0.0327 - accuracy: 0.9685 - val_loss: 0.0314 - val_accuracy: 0.9684\n",
            "Epoch 7/10\n",
            "5964/5964 [==============================] - 41s 7ms/step - loss: 0.0323 - accuracy: 0.9687 - val_loss: 0.0316 - val_accuracy: 0.9629\n",
            "Epoch 8/10\n",
            "5964/5964 [==============================] - 28s 5ms/step - loss: 0.0328 - accuracy: 0.9673 - val_loss: 0.0323 - val_accuracy: 0.9676\n",
            "Epoch 9/10\n",
            "5964/5964 [==============================] - 26s 4ms/step - loss: 0.0324 - accuracy: 0.9679 - val_loss: 0.0318 - val_accuracy: 0.9645\n",
            "Epoch 10/10\n",
            "5964/5964 [==============================] - 28s 5ms/step - loss: 0.0332 - accuracy: 0.9669 - val_loss: 0.0315 - val_accuracy: 0.9667\n"
          ]
        }
      ]
    },
    {
      "cell_type": "markdown",
      "source": [
        "### 모델 평가"
      ],
      "metadata": {
        "id": "RIl_ZYgxwz7c"
      }
    },
    {
      "cell_type": "code",
      "source": [
        "predictions = model.predict(X_test, verbose=1)\n",
        "anomalyScoresAE = anomalyScores(X_test, predictions)\n",
        "preds = plotResults(y_test, anomalyScoresAE, True)\n",
        "model.reset_states()"
      ],
      "metadata": {
        "colab": {
          "base_uri": "https://localhost:8080/",
          "height": 591
        },
        "id": "uhYa7J6xwrVn",
        "outputId": "2c356fa3-6c84-45b8-a98f-24d58ebb560c"
      },
      "execution_count": 26,
      "outputs": [
        {
          "output_type": "stream",
          "name": "stdout",
          "text": [
            "2938/2938 [==============================] - 4s 1ms/step\n"
          ]
        },
        {
          "output_type": "display_data",
          "data": {
            "text/plain": [
              "<Figure size 432x288 with 1 Axes>"
            ],
            "image/png": "[encoded data removed]"
          },
          "metadata": {
            "needs_background": "light"
          }
        },
        {
          "output_type": "display_data",
          "data": {
            "text/plain": [
              "<Figure size 432x288 with 1 Axes>"
            ],
            "image/png": "[encoded data removed]"
          },
          "metadata": {
            "needs_background": "light"
          }
        }
      ]
    },
    {
      "cell_type": "markdown",
      "source": [
        "## 선형 활성화 함수로 구성된 4-계층 과소완전 오토인코더"
      ],
      "metadata": {
        "id": "fS8xNcM8w-GT"
      }
    },
    {
      "cell_type": "markdown",
      "source": [
        "3개 은닉층에 각각 28개 노드, 27개 노드, 28개 노드"
      ],
      "metadata": {
        "id": "BmOj1ITExLje"
      }
    },
    {
      "cell_type": "markdown",
      "source": [
        "### 모델 생성"
      ],
      "metadata": {
        "id": "YJFR1m7rxTE2"
      }
    },
    {
      "cell_type": "code",
      "source": [
        "model = Sequential()\n",
        "\n",
        "model.add(Dense(units=28,\n",
        "                activation='linear',\n",
        "                input_dim=len(X_train_AE.columns)))\n",
        "\n",
        "model.add(Dense(units=27,\n",
        "                activation='linear'))\n",
        "\n",
        "model.add(Dense(units=28,\n",
        "                activation='linear'))\n",
        "\n",
        "model.add(Dense(units=len(X_train_AE.columns),\n",
        "                activation='linear'))"
      ],
      "metadata": {
        "id": "60HBh1G9xAql"
      },
      "execution_count": 27,
      "outputs": []
    },
    {
      "cell_type": "markdown",
      "source": [
        "### 모델 컴파일"
      ],
      "metadata": {
        "id": "rmRjieq8xqac"
      }
    },
    {
      "cell_type": "code",
      "source": [
        "model.compile(optimizer='adam',\n",
        "                  loss='mean_squared_error',\n",
        "                  metrics=['accuracy'])"
      ],
      "metadata": {
        "id": "oW_NXunaxp9r"
      },
      "execution_count": 28,
      "outputs": []
    },
    {
      "cell_type": "markdown",
      "source": [
        "### 모델 훈련"
      ],
      "metadata": {
        "id": "nPTy7DblxteZ"
      }
    },
    {
      "cell_type": "code",
      "source": [
        "num_epochs = 10\n",
        "batch_size = 32\n",
        "\n",
        "history = model.fit(x=X_train_AE, y=X_train_AE,\n",
        "                    epochs=num_epochs,\n",
        "                    batch_size=batch_size,\n",
        "                    shuffle=True,\n",
        "                    validation_data=(X_train_AE, X_train_AE),\n",
        "                    verbose=1)"
      ],
      "metadata": {
        "colab": {
          "base_uri": "https://localhost:8080/"
        },
        "id": "QzgOfPobxtFQ",
        "outputId": "e3390355-cf80-4756-8f5d-bb2195bb6478"
      },
      "execution_count": 29,
      "outputs": [
        {
          "output_type": "stream",
          "name": "stdout",
          "text": [
            "Epoch 1/10\n",
            "5964/5964 [==============================] - 27s 5ms/step - loss: 0.1238 - accuracy: 0.7940 - val_loss: 0.0444 - val_accuracy: 0.9162\n",
            "Epoch 2/10\n",
            "5964/5964 [==============================] - 30s 5ms/step - loss: 0.0376 - accuracy: 0.9434 - val_loss: 0.0316 - val_accuracy: 0.9600\n",
            "Epoch 3/10\n",
            "5964/5964 [==============================] - 38s 6ms/step - loss: 0.0344 - accuracy: 0.9540 - val_loss: 0.0327 - val_accuracy: 0.9575\n",
            "Epoch 4/10\n",
            "5964/5964 [==============================] - 41s 7ms/step - loss: 0.0344 - accuracy: 0.9620 - val_loss: 0.0317 - val_accuracy: 0.9637\n",
            "Epoch 5/10\n",
            "5964/5964 [==============================] - 32s 5ms/step - loss: 0.0348 - accuracy: 0.9629 - val_loss: 0.0315 - val_accuracy: 0.9699\n",
            "Epoch 6/10\n",
            "5964/5964 [==============================] - 41s 7ms/step - loss: 0.0344 - accuracy: 0.9637 - val_loss: 0.0435 - val_accuracy: 0.9399\n",
            "Epoch 7/10\n",
            "5964/5964 [==============================] - 37s 6ms/step - loss: 0.0344 - accuracy: 0.9648 - val_loss: 0.0313 - val_accuracy: 0.9711\n",
            "Epoch 8/10\n",
            "5964/5964 [==============================] - 29s 5ms/step - loss: 0.0340 - accuracy: 0.9639 - val_loss: 0.0310 - val_accuracy: 0.9706\n",
            "Epoch 9/10\n",
            "5964/5964 [==============================] - 27s 5ms/step - loss: 0.0330 - accuracy: 0.9657 - val_loss: 0.0312 - val_accuracy: 0.9720\n",
            "Epoch 10/10\n",
            "5964/5964 [==============================] - 27s 4ms/step - loss: 0.0338 - accuracy: 0.9644 - val_loss: 0.0380 - val_accuracy: 0.9461\n"
          ]
        }
      ]
    },
    {
      "cell_type": "markdown",
      "source": [
        "### 모델 평가"
      ],
      "metadata": {
        "id": "OLlONI3fxw3V"
      }
    },
    {
      "cell_type": "code",
      "source": [
        "predictions = model.predict(X_test, verbose=1)\n",
        "anomalyScoresAE = anomalyScores(X_test, predictions)\n",
        "preds = plotResults(y_test, anomalyScoresAE, True)\n",
        "model.reset_states()"
      ],
      "metadata": {
        "colab": {
          "base_uri": "https://localhost:8080/",
          "height": 591
        },
        "id": "Idg_klxCxwQ8",
        "outputId": "f302deeb-3c42-453f-ac7d-6a2d98d56e72"
      },
      "execution_count": 30,
      "outputs": [
        {
          "output_type": "stream",
          "name": "stdout",
          "text": [
            "2938/2938 [==============================] - 5s 2ms/step\n"
          ]
        },
        {
          "output_type": "display_data",
          "data": {
            "text/plain": [
              "<Figure size 432x288 with 1 Axes>"
            ],
            "image/png": "[encoded data removed]"
          },
          "metadata": {
            "needs_background": "light"
          }
        },
        {
          "output_type": "display_data",
          "data": {
            "text/plain": [
              "<Figure size 432x288 with 1 Axes>"
            ],
            "image/png": "[encoded data removed]"
          },
          "metadata": {
            "needs_background": "light"
          }
        }
      ]
    },
    {
      "cell_type": "markdown",
      "source": [
        "## ReLu 활성화 함수를 가진 4-계층 과소완전 오토인코더"
      ],
      "metadata": {
        "id": "1O8pgHBKyL2c"
      }
    },
    {
      "cell_type": "markdown",
      "source": [
        "### 모델 생성"
      ],
      "metadata": {
        "id": "Gmn9pdf7ySrx"
      }
    },
    {
      "cell_type": "markdown",
      "source": [
        "4개의 은닉층에 각각 27개 노드, 22개 노드, 27개 노드, 29개 노드"
      ],
      "metadata": {
        "id": "BYbsZON-yXJ-"
      }
    },
    {
      "cell_type": "code",
      "source": [
        "model = Sequential()\n",
        "\n",
        "model.add(Dense(units=27,\n",
        "                activation='relu',\n",
        "                input_dim=len(X_train_AE.columns)))\n",
        "\n",
        "model.add(Dense(units=22,\n",
        "                activation='relu'))\n",
        "\n",
        "model.add(Dense(units=27,\n",
        "                activation='relu'))\n",
        "\n",
        "model.add(Dense(units=len(X_train_AE.columns), \n",
        "                activation='relu'))"
      ],
      "metadata": {
        "id": "cB22OxQCxy43"
      },
      "execution_count": 31,
      "outputs": []
    },
    {
      "cell_type": "markdown",
      "source": [
        "### 모델 컴파일"
      ],
      "metadata": {
        "id": "yXixRZFCyr8N"
      }
    },
    {
      "cell_type": "code",
      "source": [
        "model.compile(optimizer='adam',\n",
        "              loss='mean_squared_error',\n",
        "              metrics=['accuracy'])"
      ],
      "metadata": {
        "id": "fpRMexVvytGT"
      },
      "execution_count": 32,
      "outputs": []
    },
    {
      "cell_type": "markdown",
      "source": [
        "### 모델 훈련"
      ],
      "metadata": {
        "id": "4mKV6YEkyxwS"
      }
    },
    {
      "cell_type": "code",
      "source": [
        "num_epochs = 10\n",
        "batch_size = 32\n",
        "\n",
        "history = model.fit(x=X_train_AE, y=X_train_AE,\n",
        "                    epochs=num_epochs,\n",
        "                    batch_size=batch_size,\n",
        "                    shuffle=True,\n",
        "                    validation_data=(X_train_AE, X_train_AE),\n",
        "                    verbose=1)"
      ],
      "metadata": {
        "colab": {
          "base_uri": "https://localhost:8080/"
        },
        "id": "ugwskWcRyyWC",
        "outputId": "52d492e3-9d12-4f8b-f684-e56832556528"
      },
      "execution_count": 33,
      "outputs": [
        {
          "output_type": "stream",
          "name": "stdout",
          "text": [
            "Epoch 1/10\n",
            "5964/5964 [==============================] - 36s 6ms/step - loss: 0.6892 - accuracy: 0.6138 - val_loss: 0.6241 - val_accuracy: 0.7217\n",
            "Epoch 2/10\n",
            "5964/5964 [==============================] - 43s 7ms/step - loss: 0.6197 - accuracy: 0.7325 - val_loss: 0.6457 - val_accuracy: 0.7069\n",
            "Epoch 3/10\n",
            "5964/5964 [==============================] - 28s 5ms/step - loss: 0.6131 - accuracy: 0.7466 - val_loss: 0.6079 - val_accuracy: 0.7628\n",
            "Epoch 4/10\n",
            "5964/5964 [==============================] - 27s 5ms/step - loss: 0.6100 - accuracy: 0.7533 - val_loss: 0.6285 - val_accuracy: 0.7208\n",
            "Epoch 5/10\n",
            "5964/5964 [==============================] - 29s 5ms/step - loss: 0.6146 - accuracy: 0.7438 - val_loss: 0.6062 - val_accuracy: 0.7699\n",
            "Epoch 6/10\n",
            "5964/5964 [==============================] - 38s 6ms/step - loss: 0.6095 - accuracy: 0.7572 - val_loss: 0.6189 - val_accuracy: 0.7365\n",
            "Epoch 7/10\n",
            "5964/5964 [==============================] - 38s 6ms/step - loss: 0.6076 - accuracy: 0.7615 - val_loss: 0.6059 - val_accuracy: 0.7729\n",
            "Epoch 8/10\n",
            "5964/5964 [==============================] - 36s 6ms/step - loss: 0.6085 - accuracy: 0.7593 - val_loss: 0.6085 - val_accuracy: 0.7621\n",
            "Epoch 9/10\n",
            "5964/5964 [==============================] - 30s 5ms/step - loss: 0.6079 - accuracy: 0.7590 - val_loss: 0.6068 - val_accuracy: 0.7667\n",
            "Epoch 10/10\n",
            "5964/5964 [==============================] - 40s 7ms/step - loss: 0.6068 - accuracy: 0.7637 - val_loss: 0.6051 - val_accuracy: 0.7699\n"
          ]
        }
      ]
    },
    {
      "cell_type": "markdown",
      "source": [
        "### 모델 평가"
      ],
      "metadata": {
        "id": "otRPyiBXy0zB"
      }
    },
    {
      "cell_type": "code",
      "source": [
        "predictions = model.predict(X_test, verbose=1)\n",
        "anomalyScoresAE = anomalyScores(X_test, predictions)\n",
        "preds = plotResults(y_test, anomalyScoresAE, True)\n",
        "model.reset_states()"
      ],
      "metadata": {
        "colab": {
          "base_uri": "https://localhost:8080/",
          "height": 591
        },
        "id": "eOBCatQhy2CM",
        "outputId": "8dfcb7e3-5682-470c-e6ed-8f4e435f9b3f"
      },
      "execution_count": 34,
      "outputs": [
        {
          "output_type": "stream",
          "name": "stdout",
          "text": [
            "2938/2938 [==============================] - 4s 1ms/step\n"
          ]
        },
        {
          "output_type": "display_data",
          "data": {
            "text/plain": [
              "<Figure size 432x288 with 1 Axes>"
            ],
            "image/png": "[encoded data removed]"
          },
          "metadata": {
            "needs_background": "light"
          }
        },
        {
          "output_type": "display_data",
          "data": {
            "text/plain": [
              "<Figure size 432x288 with 1 Axes>"
            ],
            "image/png": "[encoded data removed]"
          },
          "metadata": {
            "needs_background": "light"
          }
        }
      ]
    },
    {
      "cell_type": "markdown",
      "source": [
        "## 선형 활성화 함수를 가진 2-계층 과대완전 오토인코더"
      ],
      "metadata": {
        "id": "wzjpXzVjzDKk"
      }
    },
    {
      "cell_type": "markdown",
      "source": [
        "### 모델 생성"
      ],
      "metadata": {
        "id": "tiVKyDdZzgsV"
      }
    },
    {
      "cell_type": "markdown",
      "source": [
        "은닉층 40개 노드"
      ],
      "metadata": {
        "id": "kEI5sdAJzj1p"
      }
    },
    {
      "cell_type": "code",
      "source": [
        "model = Sequential()\n",
        "\n",
        "model.add(Dense(units=40,\n",
        "                activation='linear',\n",
        "                input_dim=len(X_train_AE.columns)))\n",
        "\n",
        "model.add(Dense(units=len(X_train_AE.columns), \n",
        "                activation='linear'))"
      ],
      "metadata": {
        "id": "DLE9iXgKzCaI"
      },
      "execution_count": 36,
      "outputs": []
    },
    {
      "cell_type": "markdown",
      "source": [
        "### 모델 컴파일\n"
      ],
      "metadata": {
        "id": "ST904WmEztKg"
      }
    },
    {
      "cell_type": "code",
      "source": [
        "model.compile(optimizer='adam',\n",
        "                  loss='mean_squared_error',\n",
        "                  metrics=['accuracy'])"
      ],
      "metadata": {
        "id": "fXfCttm1zucI"
      },
      "execution_count": 37,
      "outputs": []
    },
    {
      "cell_type": "markdown",
      "source": [
        "### 모델 훈련"
      ],
      "metadata": {
        "id": "nVPT_s_kzwje"
      }
    },
    {
      "cell_type": "code",
      "source": [
        "num_epochs = 10\n",
        "batch_size = 32\n",
        "\n",
        "history = model.fit(x=X_train_AE, y=X_train_AE,\n",
        "                    epochs=num_epochs,\n",
        "                    batch_size=batch_size,\n",
        "                    shuffle=True,\n",
        "                    validation_data=(X_train_AE, X_train_AE),\n",
        "                    verbose=1)"
      ],
      "metadata": {
        "colab": {
          "base_uri": "https://localhost:8080/"
        },
        "id": "LOyoRkf0zxhS",
        "outputId": "cc6a3d04-da35-4b60-efdc-9dc9e3faa5db"
      },
      "execution_count": 38,
      "outputs": [
        {
          "output_type": "stream",
          "name": "stdout",
          "text": [
            "Epoch 1/10\n",
            "5964/5964 [==============================] - 27s 4ms/step - loss: 0.0396 - accuracy: 0.9442 - val_loss: 5.0134e-05 - val_accuracy: 0.9960\n",
            "Epoch 2/10\n",
            "5964/5964 [==============================] - 24s 4ms/step - loss: 9.5733e-04 - accuracy: 0.9935 - val_loss: 0.0027 - val_accuracy: 0.9909\n",
            "Epoch 3/10\n",
            "5964/5964 [==============================] - 25s 4ms/step - loss: 6.9039e-04 - accuracy: 0.9926 - val_loss: 6.0789e-05 - val_accuracy: 0.9993\n",
            "Epoch 4/10\n",
            "5964/5964 [==============================] - 25s 4ms/step - loss: 0.0011 - accuracy: 0.9911 - val_loss: 6.9337e-04 - val_accuracy: 0.9883\n",
            "Epoch 5/10\n",
            "5964/5964 [==============================] - 23s 4ms/step - loss: 7.6013e-04 - accuracy: 0.9945 - val_loss: 4.0479e-04 - val_accuracy: 0.9860\n",
            "Epoch 6/10\n",
            "5964/5964 [==============================] - 23s 4ms/step - loss: 5.9058e-04 - accuracy: 0.9935 - val_loss: 0.0018 - val_accuracy: 0.9935\n",
            "Epoch 7/10\n",
            "5964/5964 [==============================] - 23s 4ms/step - loss: 9.3048e-04 - accuracy: 0.9944 - val_loss: 0.0016 - val_accuracy: 0.9871\n",
            "Epoch 8/10\n",
            "5964/5964 [==============================] - 27s 5ms/step - loss: 6.8068e-04 - accuracy: 0.9942 - val_loss: 4.4403e-05 - val_accuracy: 0.9971\n",
            "Epoch 9/10\n",
            "5964/5964 [==============================] - 26s 4ms/step - loss: 0.0010 - accuracy: 0.9930 - val_loss: 1.5338e-06 - val_accuracy: 0.9996\n",
            "Epoch 10/10\n",
            "5964/5964 [==============================] - 25s 4ms/step - loss: 0.0012 - accuracy: 0.9955 - val_loss: 0.0011 - val_accuracy: 0.9877\n"
          ]
        }
      ]
    },
    {
      "cell_type": "markdown",
      "source": [
        "### 모델 평가"
      ],
      "metadata": {
        "id": "zoNHNqkuz0Z2"
      }
    },
    {
      "cell_type": "code",
      "source": [
        "predictions = model.predict(X_test, verbose=1)\n",
        "anomalyScoresAE = anomalyScores(X_test, predictions)\n",
        "preds = plotResults(y_test, anomalyScoresAE, True)\n",
        "model.reset_states()"
      ],
      "metadata": {
        "colab": {
          "base_uri": "https://localhost:8080/",
          "height": 591
        },
        "id": "lrcPjr75z1Aq",
        "outputId": "d48ad636-f590-46ac-92cf-afb14afedee8"
      },
      "execution_count": 39,
      "outputs": [
        {
          "output_type": "stream",
          "name": "stdout",
          "text": [
            "2938/2938 [==============================] - 4s 1ms/step\n"
          ]
        },
        {
          "output_type": "display_data",
          "data": {
            "text/plain": [
              "<Figure size 432x288 with 1 Axes>"
            ],
            "image/png": "[encoded data removed]"
          },
          "metadata": {
            "needs_background": "light"
          }
        },
        {
          "output_type": "display_data",
          "data": {
            "text/plain": [
              "<Figure size 432x288 with 1 Axes>"
            ],
            "image/png": "[encoded data removed]"
          },
          "metadata": {
            "needs_background": "light"
          }
        }
      ]
    },
    {
      "cell_type": "markdown",
      "source": [
        "## 드롭아웃과 선형 활성화 함수를 가진 2-계층 과대완전 오토인코더"
      ],
      "metadata": {
        "id": "lbKAcLiI0SOF"
      }
    },
    {
      "cell_type": "markdown",
      "source": [
        "### 모델 생성"
      ],
      "metadata": {
        "id": "VBsYdxIH0aQQ"
      }
    },
    {
      "cell_type": "code",
      "source": [
        "model = Sequential()\n",
        "\n",
        "model.add(Dense(units=40,\n",
        "                activation='linear',\n",
        "                input_dim=len(X_train_AE.columns)))\n",
        "\n",
        "model.add(Dropout(0.10))\n",
        "\n",
        "model.add(Dense(units=len(X_train_AE.columns),\n",
        "                activation='linear'))"
      ],
      "metadata": {
        "id": "sArFZMj10Z85"
      },
      "execution_count": 40,
      "outputs": []
    },
    {
      "cell_type": "markdown",
      "source": [
        "### 모델 컴파일"
      ],
      "metadata": {
        "id": "weZqxl1k0ozB"
      }
    },
    {
      "cell_type": "code",
      "source": [
        "model.compile(optimizer='adam',\n",
        "                  loss='mean_squared_error',\n",
        "                  metrics=['accuracy'])"
      ],
      "metadata": {
        "id": "8HrscRHC0pi8"
      },
      "execution_count": 41,
      "outputs": []
    },
    {
      "cell_type": "markdown",
      "source": [
        "### 모델 훈련"
      ],
      "metadata": {
        "id": "fWSuuc-v0t9C"
      }
    },
    {
      "cell_type": "code",
      "source": [
        "num_epochs = 10\n",
        "batch_size = 32\n",
        "\n",
        "history = model.fit(x=X_train_AE, y=X_train_AE,\n",
        "                    epochs=num_epochs,\n",
        "                    batch_size=batch_size,\n",
        "                    shuffle=True,\n",
        "                    validation_data=(X_train_AE, X_train_AE),\n",
        "                    verbose=1)"
      ],
      "metadata": {
        "colab": {
          "base_uri": "https://localhost:8080/"
        },
        "id": "a24K3avC0u67",
        "outputId": "7dbb9b0a-8030-4bad-ee88-1c7b84c84fb9"
      },
      "execution_count": 42,
      "outputs": [
        {
          "output_type": "stream",
          "name": "stdout",
          "text": [
            "Epoch 1/10\n",
            "5964/5964 [==============================] - 41s 7ms/step - loss: 0.1577 - accuracy: 0.7253 - val_loss: 0.0086 - val_accuracy: 0.9707\n",
            "Epoch 2/10\n",
            "5964/5964 [==============================] - 30s 5ms/step - loss: 0.0771 - accuracy: 0.7846 - val_loss: 0.0083 - val_accuracy: 0.9736\n",
            "Epoch 3/10\n",
            "5964/5964 [==============================] - 30s 5ms/step - loss: 0.0755 - accuracy: 0.7844 - val_loss: 0.0076 - val_accuracy: 0.9746\n",
            "Epoch 4/10\n",
            "5964/5964 [==============================] - 37s 6ms/step - loss: 0.0761 - accuracy: 0.7852 - val_loss: 0.0074 - val_accuracy: 0.9746\n",
            "Epoch 5/10\n",
            "5964/5964 [==============================] - 39s 6ms/step - loss: 0.0756 - accuracy: 0.7852 - val_loss: 0.0068 - val_accuracy: 0.9787\n",
            "Epoch 6/10\n",
            "5964/5964 [==============================] - 30s 5ms/step - loss: 0.0759 - accuracy: 0.7851 - val_loss: 0.0067 - val_accuracy: 0.9782\n",
            "Epoch 7/10\n",
            "5964/5964 [==============================] - 29s 5ms/step - loss: 0.0748 - accuracy: 0.7845 - val_loss: 0.0070 - val_accuracy: 0.9752\n",
            "Epoch 8/10\n",
            "5964/5964 [==============================] - 30s 5ms/step - loss: 0.0802 - accuracy: 0.7826 - val_loss: 0.0092 - val_accuracy: 0.9701\n",
            "Epoch 9/10\n",
            "5964/5964 [==============================] - 26s 4ms/step - loss: 0.0748 - accuracy: 0.7833 - val_loss: 0.0096 - val_accuracy: 0.9655\n",
            "Epoch 10/10\n",
            "5964/5964 [==============================] - 37s 6ms/step - loss: 0.0769 - accuracy: 0.7841 - val_loss: 0.0142 - val_accuracy: 0.9621\n"
          ]
        }
      ]
    },
    {
      "cell_type": "markdown",
      "source": [
        "### 모델 평가"
      ],
      "metadata": {
        "id": "Qpnj84RF0zKB"
      }
    },
    {
      "cell_type": "code",
      "source": [
        "predictions = model.predict(X_test, verbose=1)\n",
        "anomalyScoresAE = anomalyScores(X_test, predictions)\n",
        "preds = plotResults(y_test, anomalyScoresAE, True)\n",
        "model.reset_states()"
      ],
      "metadata": {
        "colab": {
          "base_uri": "https://localhost:8080/",
          "height": 591
        },
        "id": "yVNVdkd20zwT",
        "outputId": "fe9ebbe0-c2b8-4c77-8722-f710b3f32a8d"
      },
      "execution_count": 43,
      "outputs": [
        {
          "output_type": "stream",
          "name": "stdout",
          "text": [
            "2938/2938 [==============================] - 5s 2ms/step\n"
          ]
        },
        {
          "output_type": "display_data",
          "data": {
            "text/plain": [
              "<Figure size 432x288 with 1 Axes>"
            ],
            "image/png": "[encoded data removed]"
          },
          "metadata": {
            "needs_background": "light"
          }
        },
        {
          "output_type": "display_data",
          "data": {
            "text/plain": [
              "<Figure size 432x288 with 1 Axes>"
            ],
            "image/png": "[encoded data removed]"
          },
          "metadata": {
            "needs_background": "light"
          }
        }
      ]
    },
    {
      "cell_type": "markdown",
      "source": [
        "## 선형 활성화 함수를 가진 2-계층 희소 과대완전 오토인코더"
      ],
      "metadata": {
        "id": "1Z-WHsdC1wl9"
      }
    },
    {
      "cell_type": "markdown",
      "source": [
        "### 모델 생성"
      ],
      "metadata": {
        "id": "lXPYCW7Q1yVy"
      }
    },
    {
      "cell_type": "markdown",
      "source": [
        "은닉층 40개 노드"
      ],
      "metadata": {
        "id": "TOZERLMQ1zY8"
      }
    },
    {
      "cell_type": "code",
      "source": [
        "model = Sequential()\n",
        "\n",
        "model.add(Dense(units=40,\n",
        "                activation='linear',\n",
        "                activity_regularizer=regularizers.l1(10e-5), # 희소성을 고려\n",
        "                input_dim=len(X_train_AE.columns)))\n",
        "\n",
        "model.add(Dense(units=len(X_train_AE.columns),\n",
        "                activation='linear'))"
      ],
      "metadata": {
        "id": "rkJXm35h1yHr"
      },
      "execution_count": 44,
      "outputs": []
    },
    {
      "cell_type": "markdown",
      "source": [
        "### 모델 컴파일"
      ],
      "metadata": {
        "id": "Z22SuwKx3GwG"
      }
    },
    {
      "cell_type": "code",
      "source": [
        "model.compile(optimizer='adam',\n",
        "              loss='mean_squared_error',\n",
        "              metrics=['accuracy'])"
      ],
      "metadata": {
        "id": "y1UXqOfy3F3q"
      },
      "execution_count": 45,
      "outputs": []
    },
    {
      "cell_type": "markdown",
      "source": [
        "### 모델 훈련"
      ],
      "metadata": {
        "id": "-dU2xZ4s3J-6"
      }
    },
    {
      "cell_type": "code",
      "source": [
        "num_epochs = 10\n",
        "batch_size = 32\n",
        "\n",
        "history = model.fit(x=X_train_AE, y=X_train_AE,\n",
        "                    epochs=num_epochs,\n",
        "                    batch_size=batch_size,\n",
        "                    shuffle=True,\n",
        "                    validation_data=(X_train_AE, X_train_AE),\n",
        "                    verbose=1)"
      ],
      "metadata": {
        "colab": {
          "base_uri": "https://localhost:8080/"
        },
        "id": "wLx02js33Jd4",
        "outputId": "4303189b-e7ae-44d8-baa1-a20a068e4242"
      },
      "execution_count": 46,
      "outputs": [
        {
          "output_type": "stream",
          "name": "stdout",
          "text": [
            "Epoch 1/10\n",
            "5964/5964 [==============================] - 33s 5ms/step - loss: 0.0414 - accuracy: 0.9469 - val_loss: 0.0030 - val_accuracy: 0.9946\n",
            "Epoch 2/10\n",
            "5964/5964 [==============================] - 32s 5ms/step - loss: 0.0033 - accuracy: 0.9927 - val_loss: 0.0032 - val_accuracy: 0.9954\n",
            "Epoch 3/10\n",
            "5964/5964 [==============================] - 41s 7ms/step - loss: 0.0028 - accuracy: 0.9919 - val_loss: 0.0018 - val_accuracy: 0.9990\n",
            "Epoch 4/10\n",
            "5964/5964 [==============================] - 36s 6ms/step - loss: 0.0025 - accuracy: 0.9930 - val_loss: 0.0022 - val_accuracy: 0.9916\n",
            "Epoch 5/10\n",
            "5964/5964 [==============================] - 42s 7ms/step - loss: 0.0028 - accuracy: 0.9912 - val_loss: 0.0015 - val_accuracy: 0.9989\n",
            "Epoch 6/10\n",
            "5964/5964 [==============================] - 42s 7ms/step - loss: 0.0024 - accuracy: 0.9924 - val_loss: 0.0014 - val_accuracy: 0.9995\n",
            "Epoch 7/10\n",
            "5964/5964 [==============================] - 30s 5ms/step - loss: 0.0023 - accuracy: 0.9910 - val_loss: 0.0089 - val_accuracy: 0.9742\n",
            "Epoch 8/10\n",
            "5964/5964 [==============================] - 36s 6ms/step - loss: 0.0025 - accuracy: 0.9918 - val_loss: 0.0014 - val_accuracy: 0.9962\n",
            "Epoch 9/10\n",
            "5964/5964 [==============================] - 40s 7ms/step - loss: 0.0024 - accuracy: 0.9917 - val_loss: 0.0074 - val_accuracy: 0.9682\n",
            "Epoch 10/10\n",
            "5964/5964 [==============================] - 28s 5ms/step - loss: 0.0021 - accuracy: 0.9917 - val_loss: 0.0052 - val_accuracy: 0.9793\n"
          ]
        }
      ]
    },
    {
      "cell_type": "markdown",
      "source": [
        "### 모델 평가"
      ],
      "metadata": {
        "id": "C3zemvA53PZ4"
      }
    },
    {
      "cell_type": "code",
      "source": [
        "predictions = model.predict(X_test, verbose=1)\n",
        "anomalyScoresAE = anomalyScores(X_test, predictions)\n",
        "preds = plotResults(y_test, anomalyScoresAE, True)\n",
        "model.reset_states()"
      ],
      "metadata": {
        "colab": {
          "base_uri": "https://localhost:8080/",
          "height": 591
        },
        "id": "0UDiMVhF3O-1",
        "outputId": "889a7954-a2bb-4524-e9a4-d4598c66145e"
      },
      "execution_count": 47,
      "outputs": [
        {
          "output_type": "stream",
          "name": "stdout",
          "text": [
            "2938/2938 [==============================] - 4s 1ms/step\n"
          ]
        },
        {
          "output_type": "display_data",
          "data": {
            "text/plain": [
              "<Figure size 432x288 with 1 Axes>"
            ],
            "image/png": "[encoded data removed]"
          },
          "metadata": {
            "needs_background": "light"
          }
        },
        {
          "output_type": "display_data",
          "data": {
            "text/plain": [
              "<Figure size 432x288 with 1 Axes>"
            ],
            "image/png": "[encoded data removed]"
          },
          "metadata": {
            "needs_background": "light"
          }
        }
      ]
    },
    {
      "cell_type": "markdown",
      "source": [
        "## 드롭아웃과 선형 활성화 함수를 가진 2-계층 희소 과대완전 오토인코더"
      ],
      "metadata": {
        "id": "ToIJ14ag3VEN"
      }
    },
    {
      "cell_type": "markdown",
      "source": [
        "### 모델 생성"
      ],
      "metadata": {
        "id": "ZNsFMfzj3W-9"
      }
    },
    {
      "cell_type": "markdown",
      "source": [
        "은닉층 40개 노드, 드롭아웃 비율: 5%"
      ],
      "metadata": {
        "id": "Kg8JCgK93Y4O"
      }
    },
    {
      "cell_type": "code",
      "source": [
        "model = Sequential()\n",
        "\n",
        "model.add(Dense(units=40,\n",
        "                activation='linear',\n",
        "                activity_regularizer=regularizers.l1(10e-5),\n",
        "                input_dim=len(X_train_AE.columns)))\n",
        "\n",
        "model.add(Dropout(0.05))\n",
        "\n",
        "model.add(Dense(units=len(X_train_AE.columns),\n",
        "                activation='linear'))"
      ],
      "metadata": {
        "id": "rhvskbnf3SU1"
      },
      "execution_count": 49,
      "outputs": []
    },
    {
      "cell_type": "markdown",
      "source": [
        "### 모델 컴파일"
      ],
      "metadata": {
        "id": "AswBK7673mHY"
      }
    },
    {
      "cell_type": "code",
      "source": [
        "model.compile(optimizer='adam',\n",
        "              loss='mean_squared_error',\n",
        "              metrics=['accuracy'])"
      ],
      "metadata": {
        "id": "GvD-yiA-3m0K"
      },
      "execution_count": 50,
      "outputs": []
    },
    {
      "cell_type": "markdown",
      "source": [
        "### 모델 훈련"
      ],
      "metadata": {
        "id": "ak5zIIgY3pAa"
      }
    },
    {
      "cell_type": "code",
      "source": [
        "num_epochs = 10\n",
        "batch_size = 32\n",
        "\n",
        "history = model.fit(x=X_train_AE, y=X_train_AE,\n",
        "                    epochs=num_epochs,\n",
        "                    batch_size=batch_size,\n",
        "                    shuffle=True,\n",
        "                    validation_data=(X_train_AE, X_train_AE),\n",
        "                    verbose=1)"
      ],
      "metadata": {
        "colab": {
          "base_uri": "https://localhost:8080/"
        },
        "id": "pb98WhVB3qwh",
        "outputId": "4b1de247-4118-4239-e133-089a395c7e60"
      },
      "execution_count": 51,
      "outputs": [
        {
          "output_type": "stream",
          "name": "stdout",
          "text": [
            "Epoch 1/10\n",
            "5964/5964 [==============================] - 30s 5ms/step - loss: 0.1033 - accuracy: 0.8069 - val_loss: 0.0050 - val_accuracy: 0.9803\n",
            "Epoch 2/10\n",
            "5964/5964 [==============================] - 28s 5ms/step - loss: 0.0409 - accuracy: 0.8627 - val_loss: 0.0078 - val_accuracy: 0.9791\n",
            "Epoch 3/10\n",
            "5964/5964 [==============================] - 29s 5ms/step - loss: 0.0400 - accuracy: 0.8620 - val_loss: 0.0042 - val_accuracy: 0.9850\n",
            "Epoch 4/10\n",
            "5964/5964 [==============================] - 27s 5ms/step - loss: 0.0406 - accuracy: 0.8630 - val_loss: 0.0047 - val_accuracy: 0.9832\n",
            "Epoch 5/10\n",
            "5964/5964 [==============================] - 29s 5ms/step - loss: 0.0391 - accuracy: 0.8636 - val_loss: 0.0041 - val_accuracy: 0.9814\n",
            "Epoch 6/10\n",
            "5964/5964 [==============================] - 28s 5ms/step - loss: 0.0392 - accuracy: 0.8629 - val_loss: 0.0039 - val_accuracy: 0.9841\n",
            "Epoch 7/10\n",
            "5964/5964 [==============================] - 28s 5ms/step - loss: 0.0396 - accuracy: 0.8627 - val_loss: 0.0053 - val_accuracy: 0.9793\n",
            "Epoch 8/10\n",
            "5964/5964 [==============================] - 28s 5ms/step - loss: 0.0405 - accuracy: 0.8618 - val_loss: 0.0043 - val_accuracy: 0.9783\n",
            "Epoch 9/10\n",
            "5964/5964 [==============================] - 27s 5ms/step - loss: 0.0407 - accuracy: 0.8623 - val_loss: 0.0040 - val_accuracy: 0.9838\n",
            "Epoch 10/10\n",
            "5964/5964 [==============================] - 38s 6ms/step - loss: 0.0402 - accuracy: 0.8631 - val_loss: 0.0096 - val_accuracy: 0.9615\n"
          ]
        }
      ]
    },
    {
      "cell_type": "markdown",
      "source": [
        "### 모델 평가"
      ],
      "metadata": {
        "id": "VvT0qtFz3tve"
      }
    },
    {
      "cell_type": "code",
      "source": [
        "predictions = model.predict(X_test, verbose=1)\n",
        "anomalyScoresAE = anomalyScores(X_test, predictions)\n",
        "preds = plotResults(y_test, anomalyScoresAE, True)\n",
        "model.reset_states()"
      ],
      "metadata": {
        "colab": {
          "base_uri": "https://localhost:8080/",
          "height": 591
        },
        "id": "sJ0vSLlj3uhT",
        "outputId": "e71a5fc9-3747-47f9-97cf-1c055701418a"
      },
      "execution_count": 52,
      "outputs": [
        {
          "output_type": "stream",
          "name": "stdout",
          "text": [
            "2938/2938 [==============================] - 4s 1ms/step\n"
          ]
        },
        {
          "output_type": "display_data",
          "data": {
            "text/plain": [
              "<Figure size 432x288 with 1 Axes>"
            ],
            "image/png": "[encoded data removed]"
          },
          "metadata": {
            "needs_background": "light"
          }
        },
        {
          "output_type": "display_data",
          "data": {
            "text/plain": [
              "<Figure size 432x288 with 1 Axes>"
            ],
            "image/png": "[encoded data removed]"
          },
          "metadata": {
            "needs_background": "light"
          }
        }
      ]
    },
    {
      "cell_type": "markdown",
      "source": [
        "## 선형 활성화 함수를 가진 2-계층 노이즈 제거 과소완전 오토인코더"
      ],
      "metadata": {
        "id": "IJLtAG9M4DJx"
      }
    },
    {
      "cell_type": "markdown",
      "source": [
        "### 노이즈 생성"
      ],
      "metadata": {
        "id": "Z2Gejtd14JMy"
      }
    },
    {
      "cell_type": "code",
      "source": [
        "noise_factor = 0.50\n",
        "X_train_AE_noisy = X_train_AE.copy() + noise_factor * np.random.normal(loc=0.0,\n",
        "                                                                       scale=1.0,\n",
        "                                                                       size=X_train_AE.shape)\n",
        "\n",
        "X_test_AE_noisy = X_test_AE.copy() + noise_factor * np.random.normal(loc=0.0,\n",
        "                                                                     scale=1.0,\n",
        "                                                                     size=X_test_AE.shape) "
      ],
      "metadata": {
        "id": "8jtir_RM30Xc"
      },
      "execution_count": 53,
      "outputs": []
    },
    {
      "cell_type": "markdown",
      "source": [
        "### 모델 생성"
      ],
      "metadata": {
        "id": "Lt-QcMhN4V08"
      }
    },
    {
      "cell_type": "markdown",
      "source": [
        "은닉층 27개 노드"
      ],
      "metadata": {
        "id": "jsGw4GWv4ZXm"
      }
    },
    {
      "cell_type": "code",
      "source": [
        "model = Sequential()\n",
        "\n",
        "model.add(Dense(units=27,\n",
        "                activation='linear',\n",
        "                input_dim=len(X_train_AE.columns)))\n",
        "\n",
        "model.add(Dense(units=len(X_train_AE.columns), \n",
        "                activation='linear'))"
      ],
      "metadata": {
        "id": "OpRv-OkO4XJ7"
      },
      "execution_count": 54,
      "outputs": []
    },
    {
      "cell_type": "markdown",
      "source": [
        "### 모델 컴파일\n"
      ],
      "metadata": {
        "id": "T5JmtHd94izn"
      }
    },
    {
      "cell_type": "code",
      "source": [
        "model.compile(optimizer='adam',\n",
        "              loss='mean_squared_error',\n",
        "              metrics=['accuracy'])"
      ],
      "metadata": {
        "id": "kwyNwg1G4ifN"
      },
      "execution_count": 55,
      "outputs": []
    },
    {
      "cell_type": "markdown",
      "source": [
        "### 모델 훈련"
      ],
      "metadata": {
        "id": "WFpBsEyK4nGG"
      }
    },
    {
      "cell_type": "code",
      "source": [
        "num_epochs = 10\n",
        "batch_size = 32\n",
        "\n",
        "history = model.fit(x=X_train_AE_noisy, y=X_train_AE_noisy,\n",
        "                    epochs=num_epochs,\n",
        "                    batch_size=batch_size,\n",
        "                    shuffle=True,\n",
        "                    validation_data=(X_train_AE, X_train_AE),\n",
        "                    verbose=1)"
      ],
      "metadata": {
        "colab": {
          "base_uri": "https://localhost:8080/"
        },
        "id": "rrDt7l914m1x",
        "outputId": "2286a410-63e3-4b0e-a5ad-d6bda87c483e"
      },
      "execution_count": 56,
      "outputs": [
        {
          "output_type": "stream",
          "name": "stdout",
          "text": [
            "Epoch 1/10\n",
            "5964/5964 [==============================] - 27s 4ms/step - loss: 0.1403 - accuracy: 0.8101 - val_loss: 0.0355 - val_accuracy: 0.9575\n",
            "Epoch 2/10\n",
            "5964/5964 [==============================] - 25s 4ms/step - loss: 0.0529 - accuracy: 0.9104 - val_loss: 0.0331 - val_accuracy: 0.9639\n",
            "Epoch 3/10\n",
            "5964/5964 [==============================] - 25s 4ms/step - loss: 0.0505 - accuracy: 0.9138 - val_loss: 0.0327 - val_accuracy: 0.9657\n",
            "Epoch 4/10\n",
            "5964/5964 [==============================] - 26s 4ms/step - loss: 0.0504 - accuracy: 0.9166 - val_loss: 0.0325 - val_accuracy: 0.9681\n",
            "Epoch 5/10\n",
            "5964/5964 [==============================] - 37s 6ms/step - loss: 0.0496 - accuracy: 0.9154 - val_loss: 0.0328 - val_accuracy: 0.9603\n",
            "Epoch 6/10\n",
            "5964/5964 [==============================] - 25s 4ms/step - loss: 0.0498 - accuracy: 0.9126 - val_loss: 0.0312 - val_accuracy: 0.9699\n",
            "Epoch 7/10\n",
            "5964/5964 [==============================] - 26s 4ms/step - loss: 0.0499 - accuracy: 0.9177 - val_loss: 0.0313 - val_accuracy: 0.9685\n",
            "Epoch 8/10\n",
            "5964/5964 [==============================] - 25s 4ms/step - loss: 0.0493 - accuracy: 0.9129 - val_loss: 0.0318 - val_accuracy: 0.9587\n",
            "Epoch 9/10\n",
            "5964/5964 [==============================] - 25s 4ms/step - loss: 0.0494 - accuracy: 0.9133 - val_loss: 0.0311 - val_accuracy: 0.9703\n",
            "Epoch 10/10\n",
            "5964/5964 [==============================] - 26s 4ms/step - loss: 0.0497 - accuracy: 0.9172 - val_loss: 0.0311 - val_accuracy: 0.9712\n"
          ]
        }
      ]
    },
    {
      "cell_type": "markdown",
      "source": [
        "### 모델 평가"
      ],
      "metadata": {
        "id": "Dqi--RlZ4rCT"
      }
    },
    {
      "cell_type": "code",
      "source": [
        "predictions = model.predict(X_test, verbose=1)\n",
        "anomalyScoresAE = anomalyScores(X_test, predictions)\n",
        "preds = plotResults(y_test, anomalyScoresAE, True)\n",
        "model.reset_states()"
      ],
      "metadata": {
        "colab": {
          "base_uri": "https://localhost:8080/",
          "height": 591
        },
        "id": "bppmGKRp4qv2",
        "outputId": "838c1db0-a129-4eff-9508-547a3eb0f74e"
      },
      "execution_count": 57,
      "outputs": [
        {
          "output_type": "stream",
          "name": "stdout",
          "text": [
            "2938/2938 [==============================] - 4s 1ms/step\n"
          ]
        },
        {
          "output_type": "display_data",
          "data": {
            "text/plain": [
              "<Figure size 432x288 with 1 Axes>"
            ],
            "image/png": "[encoded data removed]"
          },
          "metadata": {
            "needs_background": "light"
          }
        },
        {
          "output_type": "display_data",
          "data": {
            "text/plain": [
              "<Figure size 432x288 with 1 Axes>"
            ],
            "image/png": "[encoded data removed]"
          },
          "metadata": {
            "needs_background": "light"
          }
        }
      ]
    },
    {
      "cell_type": "markdown",
      "source": [
        "## 선형 활성화 함수를 가진 2-계층 노이즈 제거 과대완전 오토인코더"
      ],
      "metadata": {
        "id": "WxWuPor34ysi"
      }
    },
    {
      "cell_type": "markdown",
      "source": [
        "### 노이즈 생성"
      ],
      "metadata": {
        "id": "D2PWTNj644lh"
      }
    },
    {
      "cell_type": "code",
      "source": [
        "noise_factor = 0.50\n",
        "X_train_AE_noisy = X_train_AE.copy() + noise_factor * np.random.normal(loc=0.0,\n",
        "                                                                       scale=1.0,\n",
        "                                                                       size=X_train_AE.shape)\n",
        "\n",
        "X_test_AE_noisy = X_test_AE.copy() + noise_factor * np.random.normal(loc=0.0,\n",
        "                                                                     scale=1.0,\n",
        "                                                                     size=X_test_AE.shape) "
      ],
      "metadata": {
        "id": "0csoJYzT47gM"
      },
      "execution_count": 58,
      "outputs": []
    },
    {
      "cell_type": "markdown",
      "source": [
        "### 모델 생성"
      ],
      "metadata": {
        "id": "CvExwktq4zq_"
      }
    },
    {
      "cell_type": "markdown",
      "source": [
        "은닉층 40개 노드, 희소성 정규화, 드롭아웃 비율 : 5%\n"
      ],
      "metadata": {
        "id": "X6Oo8X1w410_"
      }
    },
    {
      "cell_type": "code",
      "source": [
        "model = Sequential()\n",
        "\n",
        "model.add(Dense(units=40,\n",
        "                activation='linear',\n",
        "                activity_regularizer=regularizers.l1(10e-5),\n",
        "                input_dim=len(X_train_AE.columns)))\n",
        "\n",
        "model.add(Dropout(0.05))\n",
        "\n",
        "model.add(Dense(units=len(X_train_AE.columns), \n",
        "                activation='linear'))"
      ],
      "metadata": {
        "id": "h25Fpgs04tRw"
      },
      "execution_count": 59,
      "outputs": []
    },
    {
      "cell_type": "markdown",
      "source": [
        "### 모델 컴파일"
      ],
      "metadata": {
        "id": "yRRT25od5H-G"
      }
    },
    {
      "cell_type": "code",
      "source": [
        "model.compile(optimizer='adam',\n",
        "              loss='mean_squared_error',\n",
        "              metrics=['accuracy'])"
      ],
      "metadata": {
        "id": "rx8FZ3Vh5Hf8"
      },
      "execution_count": 60,
      "outputs": []
    },
    {
      "cell_type": "markdown",
      "source": [
        "### 모델 훈련"
      ],
      "metadata": {
        "id": "eUK3LjbY5Lwp"
      }
    },
    {
      "cell_type": "code",
      "source": [
        "num_epochs = 10\n",
        "batch_size = 32\n",
        "\n",
        "history = model.fit(x=X_train_AE_noisy, y=X_train_AE_noisy,\n",
        "                    epochs=num_epochs,\n",
        "                    batch_size=batch_size,\n",
        "                    shuffle=True,\n",
        "                    validation_data=(X_train_AE, X_train_AE),\n",
        "                    verbose=1)"
      ],
      "metadata": {
        "colab": {
          "base_uri": "https://localhost:8080/"
        },
        "id": "iVmwrUgZ5LDF",
        "outputId": "8a3d945e-360e-4793-9992-d47ac3988f3b"
      },
      "execution_count": 61,
      "outputs": [
        {
          "output_type": "stream",
          "name": "stdout",
          "text": [
            "Epoch 1/10\n",
            "5964/5964 [==============================] - 28s 5ms/step - loss: 0.1105 - accuracy: 0.7983 - val_loss: 0.0045 - val_accuracy: 0.9832\n",
            "Epoch 2/10\n",
            "5964/5964 [==============================] - 27s 5ms/step - loss: 0.0521 - accuracy: 0.8470 - val_loss: 0.0046 - val_accuracy: 0.9841\n",
            "Epoch 3/10\n",
            "5964/5964 [==============================] - 27s 5ms/step - loss: 0.0502 - accuracy: 0.8467 - val_loss: 0.0043 - val_accuracy: 0.9797\n",
            "Epoch 4/10\n",
            "5964/5964 [==============================] - 27s 5ms/step - loss: 0.0504 - accuracy: 0.8470 - val_loss: 0.0039 - val_accuracy: 0.9864\n",
            "Epoch 5/10\n",
            "5964/5964 [==============================] - 28s 5ms/step - loss: 0.0502 - accuracy: 0.8470 - val_loss: 0.0047 - val_accuracy: 0.9788\n",
            "Epoch 6/10\n",
            "5964/5964 [==============================] - 28s 5ms/step - loss: 0.0491 - accuracy: 0.8483 - val_loss: 0.0060 - val_accuracy: 0.9729\n",
            "Epoch 7/10\n",
            "5964/5964 [==============================] - 27s 5ms/step - loss: 0.0495 - accuracy: 0.8486 - val_loss: 0.0290 - val_accuracy: 0.9428\n",
            "Epoch 8/10\n",
            "5964/5964 [==============================] - 27s 5ms/step - loss: 0.0497 - accuracy: 0.8487 - val_loss: 0.0036 - val_accuracy: 0.9846\n",
            "Epoch 9/10\n",
            "5964/5964 [==============================] - 27s 5ms/step - loss: 0.0489 - accuracy: 0.8494 - val_loss: 0.0045 - val_accuracy: 0.9786\n",
            "Epoch 10/10\n",
            "5964/5964 [==============================] - 27s 5ms/step - loss: 0.0497 - accuracy: 0.8474 - val_loss: 0.0036 - val_accuracy: 0.9843\n"
          ]
        }
      ]
    },
    {
      "cell_type": "markdown",
      "source": [
        "### 모델 평가"
      ],
      "metadata": {
        "id": "EHUIDyws5Q-z"
      }
    },
    {
      "cell_type": "code",
      "source": [
        "predictions = model.predict(X_test, verbose=1)\n",
        "anomalyScoresAE = anomalyScores(X_test, predictions)\n",
        "preds = plotResults(y_test, anomalyScoresAE, True)\n",
        "model.reset_states()"
      ],
      "metadata": {
        "colab": {
          "base_uri": "https://localhost:8080/",
          "height": 591
        },
        "id": "NsHvDhu85P67",
        "outputId": "711fc4d5-3799-4719-b56d-986d08ca4c02"
      },
      "execution_count": 62,
      "outputs": [
        {
          "output_type": "stream",
          "name": "stdout",
          "text": [
            "2938/2938 [==============================] - 5s 2ms/step\n"
          ]
        },
        {
          "output_type": "display_data",
          "data": {
            "text/plain": [
              "<Figure size 432x288 with 1 Axes>"
            ],
            "image/png": "[encoded data removed]"
          },
          "metadata": {
            "needs_background": "light"
          }
        },
        {
          "output_type": "display_data",
          "data": {
            "text/plain": [
              "<Figure size 432x288 with 1 Axes>"
            ],
            "image/png": "[encoded data removed]"
          },
          "metadata": {
            "needs_background": "light"
          }
        }
      ]
    }
  ]
}