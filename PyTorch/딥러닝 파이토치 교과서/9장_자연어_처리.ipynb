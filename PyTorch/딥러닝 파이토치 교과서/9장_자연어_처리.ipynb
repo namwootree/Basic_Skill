{
  "nbformat": 4,
  "nbformat_minor": 0,
  "metadata": {
    "colab": {
      "provenance": [],
      "authorship_tag": "ABX9TyNiRQUy1/p5s1gURjxwPZvl",
      "include_colab_link": true
    },
    "kernelspec": {
      "name": "python3",
      "display_name": "Python 3"
    },
    "language_info": {
      "name": "python"
    },
    "widgets": {
      "application/vnd.jupyter.widget-state+json": {
        "7772fe50f30f4b8ea31e75c21ac6f5b3": {
          "model_module": "@jupyter-widgets/controls",
          "model_name": "HBoxModel",
          "model_module_version": "1.5.0",
          "state": {
            "_dom_classes": [],
            "_model_module": "@jupyter-widgets/controls",
            "_model_module_version": "1.5.0",
            "_model_name": "HBoxModel",
            "_view_count": null,
            "_view_module": "@jupyter-widgets/controls",
            "_view_module_version": "1.5.0",
            "_view_name": "HBoxView",
            "box_style": "",
            "children": [
              "IPY_MODEL_d6ba37431820478ba7b2f89142b20ffc",
              "IPY_MODEL_6eda4d27a5954b07bad9ed972f2ecea9",
              "IPY_MODEL_97c85202945a45ba874129f91c4715fd"
            ],
            "layout": "IPY_MODEL_a7ab36c6aca04f5fb518550d1c2030c0"
          }
        },
        "d6ba37431820478ba7b2f89142b20ffc": {
          "model_module": "@jupyter-widgets/controls",
          "model_name": "HTMLModel",
          "model_module_version": "1.5.0",
          "state": {
            "_dom_classes": [],
            "_model_module": "@jupyter-widgets/controls",
            "_model_module_version": "1.5.0",
            "_model_name": "HTMLModel",
            "_view_count": null,
            "_view_module": "@jupyter-widgets/controls",
            "_view_module_version": "1.5.0",
            "_view_name": "HTMLView",
            "description": "",
            "description_tooltip": null,
            "layout": "IPY_MODEL_22798f53810d490a8f499c8613037dbf",
            "placeholder": "​",
            "style": "IPY_MODEL_51dbd1426a414921bae247a908afd389",
            "value": "100%"
          }
        },
        "6eda4d27a5954b07bad9ed972f2ecea9": {
          "model_module": "@jupyter-widgets/controls",
          "model_name": "FloatProgressModel",
          "model_module_version": "1.5.0",
          "state": {
            "_dom_classes": [],
            "_model_module": "@jupyter-widgets/controls",
            "_model_module_version": "1.5.0",
            "_model_name": "FloatProgressModel",
            "_view_count": null,
            "_view_module": "@jupyter-widgets/controls",
            "_view_module_version": "1.5.0",
            "_view_name": "ProgressView",
            "bar_style": "success",
            "description": "",
            "description_tooltip": null,
            "layout": "IPY_MODEL_ac605cdfe8564be8b381b1dbe13325b8",
            "max": 150001,
            "min": 0,
            "orientation": "horizontal",
            "style": "IPY_MODEL_8574f06d793a4578a75479805b6d6da7",
            "value": 150001
          }
        },
        "97c85202945a45ba874129f91c4715fd": {
          "model_module": "@jupyter-widgets/controls",
          "model_name": "HTMLModel",
          "model_module_version": "1.5.0",
          "state": {
            "_dom_classes": [],
            "_model_module": "@jupyter-widgets/controls",
            "_model_module_version": "1.5.0",
            "_model_name": "HTMLModel",
            "_view_count": null,
            "_view_module": "@jupyter-widgets/controls",
            "_view_module_version": "1.5.0",
            "_view_name": "HTMLView",
            "description": "",
            "description_tooltip": null,
            "layout": "IPY_MODEL_0acaf3bcd04848ec9d274a0f2fe2f380",
            "placeholder": "​",
            "style": "IPY_MODEL_6e3e034326d9404494247efb446af293",
            "value": " 150001/150001 [08:45&lt;00:00, 314.30it/s]"
          }
        },
        "a7ab36c6aca04f5fb518550d1c2030c0": {
          "model_module": "@jupyter-widgets/base",
          "model_name": "LayoutModel",
          "model_module_version": "1.2.0",
          "state": {
            "_model_module": "@jupyter-widgets/base",
            "_model_module_version": "1.2.0",
            "_model_name": "LayoutModel",
            "_view_count": null,
            "_view_module": "@jupyter-widgets/base",
            "_view_module_version": "1.2.0",
            "_view_name": "LayoutView",
            "align_content": null,
            "align_items": null,
            "align_self": null,
            "border": null,
            "bottom": null,
            "display": null,
            "flex": null,
            "flex_flow": null,
            "grid_area": null,
            "grid_auto_columns": null,
            "grid_auto_flow": null,
            "grid_auto_rows": null,
            "grid_column": null,
            "grid_gap": null,
            "grid_row": null,
            "grid_template_areas": null,
            "grid_template_columns": null,
            "grid_template_rows": null,
            "height": null,
            "justify_content": null,
            "justify_items": null,
            "left": null,
            "margin": null,
            "max_height": null,
            "max_width": null,
            "min_height": null,
            "min_width": null,
            "object_fit": null,
            "object_position": null,
            "order": null,
            "overflow": null,
            "overflow_x": null,
            "overflow_y": null,
            "padding": null,
            "right": null,
            "top": null,
            "visibility": null,
            "width": null
          }
        },
        "22798f53810d490a8f499c8613037dbf": {
          "model_module": "@jupyter-widgets/base",
          "model_name": "LayoutModel",
          "model_module_version": "1.2.0",
          "state": {
            "_model_module": "@jupyter-widgets/base",
            "_model_module_version": "1.2.0",
            "_model_name": "LayoutModel",
            "_view_count": null,
            "_view_module": "@jupyter-widgets/base",
            "_view_module_version": "1.2.0",
            "_view_name": "LayoutView",
            "align_content": null,
            "align_items": null,
            "align_self": null,
            "border": null,
            "bottom": null,
            "display": null,
            "flex": null,
            "flex_flow": null,
            "grid_area": null,
            "grid_auto_columns": null,
            "grid_auto_flow": null,
            "grid_auto_rows": null,
            "grid_column": null,
            "grid_gap": null,
            "grid_row": null,
            "grid_template_areas": null,
            "grid_template_columns": null,
            "grid_template_rows": null,
            "height": null,
            "justify_content": null,
            "justify_items": null,
            "left": null,
            "margin": null,
            "max_height": null,
            "max_width": null,
            "min_height": null,
            "min_width": null,
            "object_fit": null,
            "object_position": null,
            "order": null,
            "overflow": null,
            "overflow_x": null,
            "overflow_y": null,
            "padding": null,
            "right": null,
            "top": null,
            "visibility": null,
            "width": null
          }
        },
        "51dbd1426a414921bae247a908afd389": {
          "model_module": "@jupyter-widgets/controls",
          "model_name": "DescriptionStyleModel",
          "model_module_version": "1.5.0",
          "state": {
            "_model_module": "@jupyter-widgets/controls",
            "_model_module_version": "1.5.0",
            "_model_name": "DescriptionStyleModel",
            "_view_count": null,
            "_view_module": "@jupyter-widgets/base",
            "_view_module_version": "1.2.0",
            "_view_name": "StyleView",
            "description_width": ""
          }
        },
        "ac605cdfe8564be8b381b1dbe13325b8": {
          "model_module": "@jupyter-widgets/base",
          "model_name": "LayoutModel",
          "model_module_version": "1.2.0",
          "state": {
            "_model_module": "@jupyter-widgets/base",
            "_model_module_version": "1.2.0",
            "_model_name": "LayoutModel",
            "_view_count": null,
            "_view_module": "@jupyter-widgets/base",
            "_view_module_version": "1.2.0",
            "_view_name": "LayoutView",
            "align_content": null,
            "align_items": null,
            "align_self": null,
            "border": null,
            "bottom": null,
            "display": null,
            "flex": null,
            "flex_flow": null,
            "grid_area": null,
            "grid_auto_columns": null,
            "grid_auto_flow": null,
            "grid_auto_rows": null,
            "grid_column": null,
            "grid_gap": null,
            "grid_row": null,
            "grid_template_areas": null,
            "grid_template_columns": null,
            "grid_template_rows": null,
            "height": null,
            "justify_content": null,
            "justify_items": null,
            "left": null,
            "margin": null,
            "max_height": null,
            "max_width": null,
            "min_height": null,
            "min_width": null,
            "object_fit": null,
            "object_position": null,
            "order": null,
            "overflow": null,
            "overflow_x": null,
            "overflow_y": null,
            "padding": null,
            "right": null,
            "top": null,
            "visibility": null,
            "width": null
          }
        },
        "8574f06d793a4578a75479805b6d6da7": {
          "model_module": "@jupyter-widgets/controls",
          "model_name": "ProgressStyleModel",
          "model_module_version": "1.5.0",
          "state": {
            "_model_module": "@jupyter-widgets/controls",
            "_model_module_version": "1.5.0",
            "_model_name": "ProgressStyleModel",
            "_view_count": null,
            "_view_module": "@jupyter-widgets/base",
            "_view_module_version": "1.2.0",
            "_view_name": "StyleView",
            "bar_color": null,
            "description_width": ""
          }
        },
        "0acaf3bcd04848ec9d274a0f2fe2f380": {
          "model_module": "@jupyter-widgets/base",
          "model_name": "LayoutModel",
          "model_module_version": "1.2.0",
          "state": {
            "_model_module": "@jupyter-widgets/base",
            "_model_module_version": "1.2.0",
            "_model_name": "LayoutModel",
            "_view_count": null,
            "_view_module": "@jupyter-widgets/base",
            "_view_module_version": "1.2.0",
            "_view_name": "LayoutView",
            "align_content": null,
            "align_items": null,
            "align_self": null,
            "border": null,
            "bottom": null,
            "display": null,
            "flex": null,
            "flex_flow": null,
            "grid_area": null,
            "grid_auto_columns": null,
            "grid_auto_flow": null,
            "grid_auto_rows": null,
            "grid_column": null,
            "grid_gap": null,
            "grid_row": null,
            "grid_template_areas": null,
            "grid_template_columns": null,
            "grid_template_rows": null,
            "height": null,
            "justify_content": null,
            "justify_items": null,
            "left": null,
            "margin": null,
            "max_height": null,
            "max_width": null,
            "min_height": null,
            "min_width": null,
            "object_fit": null,
            "object_position": null,
            "order": null,
            "overflow": null,
            "overflow_x": null,
            "overflow_y": null,
            "padding": null,
            "right": null,
            "top": null,
            "visibility": null,
            "width": null
          }
        },
        "6e3e034326d9404494247efb446af293": {
          "model_module": "@jupyter-widgets/controls",
          "model_name": "DescriptionStyleModel",
          "model_module_version": "1.5.0",
          "state": {
            "_model_module": "@jupyter-widgets/controls",
            "_model_module_version": "1.5.0",
            "_model_name": "DescriptionStyleModel",
            "_view_count": null,
            "_view_module": "@jupyter-widgets/base",
            "_view_module_version": "1.2.0",
            "_view_name": "StyleView",
            "description_width": ""
          }
        }
      }
    }
  },
  "cells": [
    {
      "cell_type": "markdown",
      "metadata": {
        "id": "view-in-github",
        "colab_type": "text"
      },
      "source": [
        "<a href=\"https://colab.research.google.com/github/namwootree/Basic_Skill/blob/main/PyTorch/%EB%94%A5%EB%9F%AC%EB%8B%9D%20%ED%8C%8C%EC%9D%B4%ED%86%A0%EC%B9%98%20%EA%B5%90%EA%B3%BC%EC%84%9C/9%EC%9E%A5_%EC%9E%90%EC%97%B0%EC%96%B4_%EC%B2%98%EB%A6%AC.ipynb\" target=\"_parent\"><img src=\"https://colab.research.google.com/assets/colab-badge.svg\" alt=\"Open In Colab\"/></a>"
      ]
    },
    {
      "cell_type": "markdown",
      "source": [
        "# Setting"
      ],
      "metadata": {
        "id": "65s9-rhqd1f9"
      }
    },
    {
      "cell_type": "code",
      "source": [
        "!git clone https://github.com/gilbutITbook/080289.git"
      ],
      "metadata": {
        "colab": {
          "base_uri": "https://localhost:8080/"
        },
        "id": "cl1B_awad5z8",
        "outputId": "d2f15887-1dae-40f9-d47b-67083938fe8b"
      },
      "execution_count": 5,
      "outputs": [
        {
          "output_type": "stream",
          "name": "stdout",
          "text": [
            "Cloning into '080289'...\n",
            "remote: Enumerating objects: 2273, done.\u001b[K\n",
            "remote: Counting objects: 100% (27/27), done.\u001b[K\n",
            "remote: Compressing objects: 100% (25/25), done.\u001b[K\n",
            "remote: Total 2273 (delta 3), reused 25 (delta 2), pack-reused 2246\u001b[K\n",
            "Receiving objects: 100% (2273/2273), 330.27 MiB | 23.18 MiB/s, done.\n",
            "Resolving deltas: 100% (12/12), done.\n",
            "Checking out files: 100% (2590/2590), done.\n"
          ]
        }
      ]
    },
    {
      "cell_type": "markdown",
      "source": [
        "# 자연어 처리를 위한 라이브러리"
      ],
      "metadata": {
        "id": "VNHo6AbCb2rz"
      }
    },
    {
      "cell_type": "code",
      "source": [
        "import nltk\n",
        "\n",
        "nltk.download('punkt')\n",
        "\n",
        "string1 = 'my favorite subject is math'\n",
        "string2 = 'my favorite subject is math, english, economic and computer science'"
      ],
      "metadata": {
        "colab": {
          "base_uri": "https://localhost:8080/"
        },
        "id": "B78H4wvMb2U4",
        "outputId": "90d276e5-5454-492a-b175-0471beb55b5f"
      },
      "execution_count": 2,
      "outputs": [
        {
          "output_type": "stream",
          "name": "stderr",
          "text": [
            "[nltk_data] Downloading package punkt to /root/nltk_data...\n",
            "[nltk_data]   Unzipping tokenizers/punkt.zip.\n"
          ]
        }
      ]
    },
    {
      "cell_type": "code",
      "execution_count": 3,
      "metadata": {
        "colab": {
          "base_uri": "https://localhost:8080/"
        },
        "id": "W6HU_6C0byh8",
        "outputId": "c66e3594-dcf2-494a-addb-9bac6bedac88"
      },
      "outputs": [
        {
          "output_type": "execute_result",
          "data": {
            "text/plain": [
              "['my', 'favorite', 'subject', 'is', 'math']"
            ]
          },
          "metadata": {},
          "execution_count": 3
        }
      ],
      "source": [
        "nltk.word_tokenize(string1)"
      ]
    },
    {
      "cell_type": "code",
      "source": [
        "nltk.word_tokenize(string2)"
      ],
      "metadata": {
        "colab": {
          "base_uri": "https://localhost:8080/"
        },
        "id": "puQeK6n4dsOC",
        "outputId": "2fb813cf-12a7-40bc-fc12-c62b5faeb891"
      },
      "execution_count": 4,
      "outputs": [
        {
          "output_type": "execute_result",
          "data": {
            "text/plain": [
              "['my',\n",
              " 'favorite',\n",
              " 'subject',\n",
              " 'is',\n",
              " 'math',\n",
              " ',',\n",
              " 'english',\n",
              " ',',\n",
              " 'economic',\n",
              " 'and',\n",
              " 'computer',\n",
              " 'science']"
            ]
          },
          "metadata": {},
          "execution_count": 4
        }
      ]
    },
    {
      "cell_type": "markdown",
      "source": [
        "# 전처리"
      ],
      "metadata": {
        "id": "Z_Rgtb40dxHC"
      }
    },
    {
      "cell_type": "markdown",
      "source": [
        "데이터 불러오기"
      ],
      "metadata": {
        "id": "sFhLai6qeUcO"
      }
    },
    {
      "cell_type": "code",
      "source": [
        "import pandas as pd\n",
        "\n",
        "df = pd.read_csv('/content/080289/chap09/data/class2.csv')"
      ],
      "metadata": {
        "id": "5JOxtyAodt5s"
      },
      "execution_count": 12,
      "outputs": []
    },
    {
      "cell_type": "code",
      "source": [
        "df.head()"
      ],
      "metadata": {
        "colab": {
          "base_uri": "https://localhost:8080/",
          "height": 206
        },
        "id": "5MahyNQReH0D",
        "outputId": "093b75fd-42fc-4a22-f094-6b422bcb48f5"
      },
      "execution_count": 13,
      "outputs": [
        {
          "output_type": "execute_result",
          "data": {
            "text/plain": [
              "   Unnamed: 0      id tissue class class2      x      y      r\n",
              "0           0  mdb000      C  CIRC      N  535.0  475.0  192.0\n",
              "1           1  mdb001      A  CIRA      N  433.0  268.0   58.0\n",
              "2           2  mdb002      A  CIRA      I    NaN    NaN    NaN\n",
              "3           3  mdb003      C  CIRC      B    NaN    NaN    NaN\n",
              "4           4  mdb004      F  CIRF      I  488.0  145.0   29.0"
            ],
            "text/html": [
              "\n",
              "  <div id=\"df-63686f7e-f344-408e-8569-25b8f626d0af\">\n",
              "    <div class=\"colab-df-container\">\n",
              "      <div>\n",
              "<style scoped>\n",
              "    .dataframe tbody tr th:only-of-type {\n",
              "        vertical-align: middle;\n",
              "    }\n",
              "\n",
              "    .dataframe tbody tr th {\n",
              "        vertical-align: top;\n",
              "    }\n",
              "\n",
              "    .dataframe thead th {\n",
              "        text-align: right;\n",
              "    }\n",
              "</style>\n",
              "<table border=\"1\" class=\"dataframe\">\n",
              "  <thead>\n",
              "    <tr style=\"text-align: right;\">\n",
              "      <th></th>\n",
              "      <th>Unnamed: 0</th>\n",
              "      <th>id</th>\n",
              "      <th>tissue</th>\n",
              "      <th>class</th>\n",
              "      <th>class2</th>\n",
              "      <th>x</th>\n",
              "      <th>y</th>\n",
              "      <th>r</th>\n",
              "    </tr>\n",
              "  </thead>\n",
              "  <tbody>\n",
              "    <tr>\n",
              "      <th>0</th>\n",
              "      <td>0</td>\n",
              "      <td>mdb000</td>\n",
              "      <td>C</td>\n",
              "      <td>CIRC</td>\n",
              "      <td>N</td>\n",
              "      <td>535.0</td>\n",
              "      <td>475.0</td>\n",
              "      <td>192.0</td>\n",
              "    </tr>\n",
              "    <tr>\n",
              "      <th>1</th>\n",
              "      <td>1</td>\n",
              "      <td>mdb001</td>\n",
              "      <td>A</td>\n",
              "      <td>CIRA</td>\n",
              "      <td>N</td>\n",
              "      <td>433.0</td>\n",
              "      <td>268.0</td>\n",
              "      <td>58.0</td>\n",
              "    </tr>\n",
              "    <tr>\n",
              "      <th>2</th>\n",
              "      <td>2</td>\n",
              "      <td>mdb002</td>\n",
              "      <td>A</td>\n",
              "      <td>CIRA</td>\n",
              "      <td>I</td>\n",
              "      <td>NaN</td>\n",
              "      <td>NaN</td>\n",
              "      <td>NaN</td>\n",
              "    </tr>\n",
              "    <tr>\n",
              "      <th>3</th>\n",
              "      <td>3</td>\n",
              "      <td>mdb003</td>\n",
              "      <td>C</td>\n",
              "      <td>CIRC</td>\n",
              "      <td>B</td>\n",
              "      <td>NaN</td>\n",
              "      <td>NaN</td>\n",
              "      <td>NaN</td>\n",
              "    </tr>\n",
              "    <tr>\n",
              "      <th>4</th>\n",
              "      <td>4</td>\n",
              "      <td>mdb004</td>\n",
              "      <td>F</td>\n",
              "      <td>CIRF</td>\n",
              "      <td>I</td>\n",
              "      <td>488.0</td>\n",
              "      <td>145.0</td>\n",
              "      <td>29.0</td>\n",
              "    </tr>\n",
              "  </tbody>\n",
              "</table>\n",
              "</div>\n",
              "      <button class=\"colab-df-convert\" onclick=\"convertToInteractive('df-63686f7e-f344-408e-8569-25b8f626d0af')\"\n",
              "              title=\"Convert this dataframe to an interactive table.\"\n",
              "              style=\"display:none;\">\n",
              "        \n",
              "  <svg xmlns=\"http://www.w3.org/2000/svg\" height=\"24px\"viewBox=\"0 0 24 24\"\n",
              "       width=\"24px\">\n",
              "    <path d=\"M0 0h24v24H0V0z\" fill=\"none\"/>\n",
              "    <path d=\"M18.56 5.44l.94 2.06.94-2.06 2.06-.94-2.06-.94-.94-2.06-.94 2.06-2.06.94zm-11 1L8.5 8.5l.94-2.06 2.06-.94-2.06-.94L8.5 2.5l-.94 2.06-2.06.94zm10 10l.94 2.06.94-2.06 2.06-.94-2.06-.94-.94-2.06-.94 2.06-2.06.94z\"/><path d=\"M17.41 7.96l-1.37-1.37c-.4-.4-.92-.59-1.43-.59-.52 0-1.04.2-1.43.59L10.3 9.45l-7.72 7.72c-.78.78-.78 2.05 0 2.83L4 21.41c.39.39.9.59 1.41.59.51 0 1.02-.2 1.41-.59l7.78-7.78 2.81-2.81c.8-.78.8-2.07 0-2.86zM5.41 20L4 18.59l7.72-7.72 1.47 1.35L5.41 20z\"/>\n",
              "  </svg>\n",
              "      </button>\n",
              "      \n",
              "  <style>\n",
              "    .colab-df-container {\n",
              "      display:flex;\n",
              "      flex-wrap:wrap;\n",
              "      gap: 12px;\n",
              "    }\n",
              "\n",
              "    .colab-df-convert {\n",
              "      background-color: #E8F0FE;\n",
              "      border: none;\n",
              "      border-radius: 50%;\n",
              "      cursor: pointer;\n",
              "      display: none;\n",
              "      fill: #1967D2;\n",
              "      height: 32px;\n",
              "      padding: 0 0 0 0;\n",
              "      width: 32px;\n",
              "    }\n",
              "\n",
              "    .colab-df-convert:hover {\n",
              "      background-color: #E2EBFA;\n",
              "      box-shadow: 0px 1px 2px rgba(60, 64, 67, 0.3), 0px 1px 3px 1px rgba(60, 64, 67, 0.15);\n",
              "      fill: #174EA6;\n",
              "    }\n",
              "\n",
              "    [theme=dark] .colab-df-convert {\n",
              "      background-color: #3B4455;\n",
              "      fill: #D2E3FC;\n",
              "    }\n",
              "\n",
              "    [theme=dark] .colab-df-convert:hover {\n",
              "      background-color: #434B5C;\n",
              "      box-shadow: 0px 1px 3px 1px rgba(0, 0, 0, 0.15);\n",
              "      filter: drop-shadow(0px 1px 2px rgba(0, 0, 0, 0.3));\n",
              "      fill: #FFFFFF;\n",
              "    }\n",
              "  </style>\n",
              "\n",
              "      <script>\n",
              "        const buttonEl =\n",
              "          document.querySelector('#df-63686f7e-f344-408e-8569-25b8f626d0af button.colab-df-convert');\n",
              "        buttonEl.style.display =\n",
              "          google.colab.kernel.accessAllowed ? 'block' : 'none';\n",
              "\n",
              "        async function convertToInteractive(key) {\n",
              "          const element = document.querySelector('#df-63686f7e-f344-408e-8569-25b8f626d0af');\n",
              "          const dataTable =\n",
              "            await google.colab.kernel.invokeFunction('convertToInteractive',\n",
              "                                                     [key], {});\n",
              "          if (!dataTable) return;\n",
              "\n",
              "          const docLinkHtml = 'Like what you see? Visit the ' +\n",
              "            '<a target=\"_blank\" href=https://colab.research.google.com/notebooks/data_table.ipynb>data table notebook</a>'\n",
              "            + ' to learn more about interactive tables.';\n",
              "          element.innerHTML = '';\n",
              "          dataTable['output_type'] = 'display_data';\n",
              "          await google.colab.output.renderOutput(dataTable, element);\n",
              "          const docLink = document.createElement('div');\n",
              "          docLink.innerHTML = docLinkHtml;\n",
              "          element.appendChild(docLink);\n",
              "        }\n",
              "      </script>\n",
              "    </div>\n",
              "  </div>\n",
              "  "
            ]
          },
          "metadata": {},
          "execution_count": 13
        }
      ]
    },
    {
      "cell_type": "markdown",
      "source": [
        "결측치 개수 확인"
      ],
      "metadata": {
        "id": "NEuCGGoNeXuR"
      }
    },
    {
      "cell_type": "code",
      "source": [
        "df.isnull().sum()"
      ],
      "metadata": {
        "colab": {
          "base_uri": "https://localhost:8080/"
        },
        "id": "UEbZAYsyeI5O",
        "outputId": "7e2e0baf-d75d-4508-c355-5529c16d7f9b"
      },
      "execution_count": 14,
      "outputs": [
        {
          "output_type": "execute_result",
          "data": {
            "text/plain": [
              "Unnamed: 0    0\n",
              "id            0\n",
              "tissue        0\n",
              "class         0\n",
              "class2        0\n",
              "x             2\n",
              "y             2\n",
              "r             2\n",
              "dtype: int64"
            ]
          },
          "metadata": {},
          "execution_count": 14
        }
      ]
    },
    {
      "cell_type": "code",
      "source": [
        "df.isnull().sum() / len(df)"
      ],
      "metadata": {
        "colab": {
          "base_uri": "https://localhost:8080/"
        },
        "id": "Opd_HjoKeMq5",
        "outputId": "10d8f84b-0244-4f3c-efd3-0a5eee16b90a"
      },
      "execution_count": 15,
      "outputs": [
        {
          "output_type": "execute_result",
          "data": {
            "text/plain": [
              "Unnamed: 0    0.000000\n",
              "id            0.000000\n",
              "tissue        0.000000\n",
              "class         0.000000\n",
              "class2        0.000000\n",
              "x             0.333333\n",
              "y             0.333333\n",
              "r             0.333333\n",
              "dtype: float64"
            ]
          },
          "metadata": {},
          "execution_count": 15
        }
      ]
    },
    {
      "cell_type": "markdown",
      "source": [
        "결측치 처리"
      ],
      "metadata": {
        "id": "Ld2_NlhieZyD"
      }
    },
    {
      "cell_type": "code",
      "source": [
        "df = df.dropna(how='all')"
      ],
      "metadata": {
        "id": "i46IOGaXeQt2"
      },
      "execution_count": 16,
      "outputs": []
    },
    {
      "cell_type": "code",
      "source": [
        "df1 = df.dropna()"
      ],
      "metadata": {
        "id": "-XEvJGlZefTE"
      },
      "execution_count": 17,
      "outputs": []
    },
    {
      "cell_type": "code",
      "source": [
        "df2 = df.fillna(0)"
      ],
      "metadata": {
        "id": "obgQVStEeqOM"
      },
      "execution_count": 18,
      "outputs": []
    },
    {
      "cell_type": "code",
      "source": [
        "df['x'].fillna(df['x'].mean(), inplace = True)"
      ],
      "metadata": {
        "id": "JGkUOGqter8Q"
      },
      "execution_count": 19,
      "outputs": []
    },
    {
      "cell_type": "markdown",
      "source": [
        "# 토큰화"
      ],
      "metadata": {
        "id": "w-SKgfRYe1JH"
      }
    },
    {
      "cell_type": "markdown",
      "source": [
        "문장 토큰화"
      ],
      "metadata": {
        "id": "LTYw7vhBfEtY"
      }
    },
    {
      "cell_type": "code",
      "source": [
        "from nltk import sent_tokenize\n",
        "\n",
        "text_sample = 'Natural Language Processing, or NLP, is the process of extracting the meaning, or intent, behind human language. In the field of Conversational artificial intelligence (AI), NLP allows machines and applications to understand the intent of human language inputs, and then generate appropriate responses, resulting in a natural conversation flow.'\n",
        "tokenized_sentences = sent_tokenize(text_sample)"
      ],
      "metadata": {
        "id": "o6aQ8vcRexiQ"
      },
      "execution_count": 20,
      "outputs": []
    },
    {
      "cell_type": "code",
      "source": [
        "print(tokenized_sentences)"
      ],
      "metadata": {
        "colab": {
          "base_uri": "https://localhost:8080/"
        },
        "id": "9rlac__AfLnQ",
        "outputId": "eaef29c1-eb0b-46f5-e3a6-7524282b2920"
      },
      "execution_count": 21,
      "outputs": [
        {
          "output_type": "stream",
          "name": "stdout",
          "text": [
            "['Natural Language Processing, or NLP, is the process of extracting the meaning, or intent, behind human language.', 'In the field of Conversational artificial intelligence (AI), NLP allows machines and applications to understand the intent of human language inputs, and then generate appropriate responses, resulting in a natural conversation flow.']\n"
          ]
        }
      ]
    },
    {
      "cell_type": "markdown",
      "source": [
        "단어 토큰화"
      ],
      "metadata": {
        "id": "HJNVSyt4fO-i"
      }
    },
    {
      "cell_type": "code",
      "source": [
        "from nltk import word_tokenize\n",
        "\n",
        "sentence = \" This book is for deep learning learners\"\n",
        "words = word_tokenize(sentence)"
      ],
      "metadata": {
        "id": "ERAaKxjjfNsZ"
      },
      "execution_count": 23,
      "outputs": []
    },
    {
      "cell_type": "code",
      "source": [
        "print(words)"
      ],
      "metadata": {
        "colab": {
          "base_uri": "https://localhost:8080/"
        },
        "id": "nbznYzAnfYY8",
        "outputId": "471ada24-e390-4f07-f0b3-6666b0a3d4da"
      },
      "execution_count": 24,
      "outputs": [
        {
          "output_type": "stream",
          "name": "stdout",
          "text": [
            "['This', 'book', 'is', 'for', 'deep', 'learning', 'learners']\n"
          ]
        }
      ]
    },
    {
      "cell_type": "code",
      "source": [
        "from nltk.tokenize import WordPunctTokenizer  \n",
        "\n",
        "sentence = \"it’s nothing that you don’t already know except most people aren’t aware of how their inner world works.\"\n",
        "words = WordPunctTokenizer().tokenize(sentence)"
      ],
      "metadata": {
        "id": "AAtDcyCGfa4v"
      },
      "execution_count": 25,
      "outputs": []
    },
    {
      "cell_type": "code",
      "source": [
        "print(words)"
      ],
      "metadata": {
        "colab": {
          "base_uri": "https://localhost:8080/"
        },
        "id": "HDYLC5Nvfg9O",
        "outputId": "fe621747-78b2-46c1-ad57-dfcad2e0402f"
      },
      "execution_count": 26,
      "outputs": [
        {
          "output_type": "stream",
          "name": "stdout",
          "text": [
            "['it', '’', 's', 'nothing', 'that', 'you', 'don', '’', 't', 'already', 'know', 'except', 'most', 'people', 'aren', '’', 't', 'aware', 'of', 'how', 'their', 'inner', 'world', 'works', '.']\n"
          ]
        }
      ]
    },
    {
      "cell_type": "markdown",
      "source": [
        "한글 토큰화"
      ],
      "metadata": {
        "id": "5jJpc9vOgDXy"
      }
    },
    {
      "cell_type": "code",
      "source": [
        "!pip install konlpy"
      ],
      "metadata": {
        "colab": {
          "base_uri": "https://localhost:8080/"
        },
        "id": "Wfqi4EcTgMjX",
        "outputId": "c079e7d8-6f27-4382-ac00-acc427aab688"
      },
      "execution_count": 28,
      "outputs": [
        {
          "output_type": "stream",
          "name": "stdout",
          "text": [
            "Looking in indexes: https://pypi.org/simple, https://us-python.pkg.dev/colab-wheels/public/simple/\n",
            "Collecting konlpy\n",
            "  Downloading konlpy-0.6.0-py2.py3-none-any.whl (19.4 MB)\n",
            "\u001b[K     |████████████████████████████████| 19.4 MB 6.5 MB/s \n",
            "\u001b[?25hRequirement already satisfied: lxml>=4.1.0 in /usr/local/lib/python3.7/dist-packages (from konlpy) (4.9.1)\n",
            "Collecting JPype1>=0.7.0\n",
            "  Downloading JPype1-1.4.0-cp37-cp37m-manylinux_2_5_x86_64.manylinux1_x86_64.whl (453 kB)\n",
            "\u001b[K     |████████████████████████████████| 453 kB 44.8 MB/s \n",
            "\u001b[?25hRequirement already satisfied: numpy>=1.6 in /usr/local/lib/python3.7/dist-packages (from konlpy) (1.21.6)\n",
            "Requirement already satisfied: typing-extensions in /usr/local/lib/python3.7/dist-packages (from JPype1>=0.7.0->konlpy) (4.1.1)\n",
            "Installing collected packages: JPype1, konlpy\n",
            "Successfully installed JPype1-1.4.0 konlpy-0.6.0\n"
          ]
        }
      ]
    },
    {
      "cell_type": "code",
      "source": [
        "import csv\n",
        "from konlpy.tag import Okt\n",
        "from gensim.models import word2vec\n",
        "from tqdm.notebook import tqdm"
      ],
      "metadata": {
        "id": "iGYylcucfidE"
      },
      "execution_count": 32,
      "outputs": []
    },
    {
      "cell_type": "code",
      "source": [
        "f = open(r'/content/080289/chap09/data/ratings_train.txt', 'r', encoding='utf-8')\n",
        "rdr = csv.reader(f, delimiter='\\t')\n",
        "rdw = list(rdr)\n",
        "f.close()"
      ],
      "metadata": {
        "id": "Nsp_lWNegLnA"
      },
      "execution_count": 30,
      "outputs": []
    },
    {
      "cell_type": "code",
      "source": [
        "tokenizer = Okt()\n",
        "\n",
        "result = []\n",
        "\n",
        "for line in tqdm(rdw):\n",
        "\n",
        "    malist = tokenizer.pos(line[1], norm=True, stem=True)\n",
        "\n",
        "    r = []\n",
        "\n",
        "    for word in malist:\n",
        "\n",
        "        if not word[1] in [\"Josa\",\"Eomi\",\"Punctuation\"]:\n",
        "            r.append(word[0])\n",
        "\n",
        "    rl = (\" \".join(r)).strip()\n",
        "    result.append(rl)"
      ],
      "metadata": {
        "colab": {
          "base_uri": "https://localhost:8080/",
          "height": 49,
          "referenced_widgets": [
            "7772fe50f30f4b8ea31e75c21ac6f5b3",
            "d6ba37431820478ba7b2f89142b20ffc",
            "6eda4d27a5954b07bad9ed972f2ecea9",
            "97c85202945a45ba874129f91c4715fd",
            "a7ab36c6aca04f5fb518550d1c2030c0",
            "22798f53810d490a8f499c8613037dbf",
            "51dbd1426a414921bae247a908afd389",
            "ac605cdfe8564be8b381b1dbe13325b8",
            "8574f06d793a4578a75479805b6d6da7",
            "0acaf3bcd04848ec9d274a0f2fe2f380",
            "6e3e034326d9404494247efb446af293"
          ]
        },
        "id": "alGJexVcgXzY",
        "outputId": "ef062c34-f0e7-41b3-b269-412447a5ee6d"
      },
      "execution_count": 33,
      "outputs": [
        {
          "output_type": "display_data",
          "data": {
            "text/plain": [
              "  0%|          | 0/150001 [00:00<?, ?it/s]"
            ],
            "application/vnd.jupyter.widget-view+json": {
              "version_major": 2,
              "version_minor": 0,
              "model_id": "7772fe50f30f4b8ea31e75c21ac6f5b3"
            }
          },
          "metadata": {}
        }
      ]
    },
    {
      "cell_type": "code",
      "source": [
        "result[:5]"
      ],
      "metadata": {
        "colab": {
          "base_uri": "https://localhost:8080/"
        },
        "id": "Kq1GBLVqgqWb",
        "outputId": "72b467a0-30f6-4942-b491-fa40072969cf"
      },
      "execution_count": 34,
      "outputs": [
        {
          "output_type": "execute_result",
          "data": {
            "text/plain": [
              "['document',\n",
              " '아 더빙 진짜 짜증나다 목소리',\n",
              " '흠 포스터 보고 초딩 영화 줄 오버 연기 가볍다 않다',\n",
              " '너 무재 밓었 다그 래서 보다 추천 다',\n",
              " '교도소 이야기 구먼 솔직하다 재미 없다 평점 조정']"
            ]
          },
          "metadata": {},
          "execution_count": 34
        }
      ]
    },
    {
      "cell_type": "code",
      "source": [
        "with open(\"NaverMovie.nlp\",'w', encoding='utf-8') as fp:\n",
        "    fp.write(\"\\n\".join(result))"
      ],
      "metadata": {
        "id": "MObvxo7Ii2p4"
      },
      "execution_count": 35,
      "outputs": []
    },
    {
      "cell_type": "code",
      "source": [
        "mData = word2vec.LineSentence(\"NaverMovie.nlp\")\n",
        "mModel =word2vec.Word2Vec(mData, size=200, window=10, hs=1, min_count=2, sg=1)\n",
        "mModel.save(\"NaverMovie.model\")"
      ],
      "metadata": {
        "id": "RqPoqmxrjCQn"
      },
      "execution_count": 36,
      "outputs": []
    },
    {
      "cell_type": "markdown",
      "source": [
        "# 불용어 제거"
      ],
      "metadata": {
        "id": "Ion6uG-VjF_h"
      }
    },
    {
      "cell_type": "code",
      "source": [
        "import nltk\n",
        "from nltk.corpus import stopwords\n",
        "\n",
        "nltk.download('stopwords')\n",
        "nltk.download('punkt')\n",
        "\n",
        "from nltk.tokenize import word_tokenize"
      ],
      "metadata": {
        "colab": {
          "base_uri": "https://localhost:8080/"
        },
        "id": "6HR1_Ki-jDsS",
        "outputId": "d871ce36-6984-4127-decf-8ae33bba4f15"
      },
      "execution_count": 37,
      "outputs": [
        {
          "output_type": "stream",
          "name": "stderr",
          "text": [
            "[nltk_data] Downloading package stopwords to /root/nltk_data...\n",
            "[nltk_data]   Unzipping corpora/stopwords.zip.\n",
            "[nltk_data] Downloading package punkt to /root/nltk_data...\n",
            "[nltk_data]   Package punkt is already up-to-date!\n"
          ]
        }
      ]
    },
    {
      "cell_type": "code",
      "source": [
        "sample_text = \"One of the first things that we ask ourselves is what are the pros and cons of any task we perform.\"\n",
        "text_tokens = word_tokenize(sample_text)\n",
        "\n",
        "tokens_without_sw = [word for word in text_tokens if not word in stopwords.words('english')]"
      ],
      "metadata": {
        "id": "mddN_ReVnqEx"
      },
      "execution_count": 38,
      "outputs": []
    },
    {
      "cell_type": "code",
      "source": [
        "print(\"불용어 제거 미적용:\", text_tokens, '\\n')\n",
        "print(\"불용어 제거 적용:\",tokens_without_sw)"
      ],
      "metadata": {
        "colab": {
          "base_uri": "https://localhost:8080/"
        },
        "id": "zYazdHLfn0x6",
        "outputId": "c1c7fa93-bf14-4724-85fc-82d71c9fc3d4"
      },
      "execution_count": 39,
      "outputs": [
        {
          "output_type": "stream",
          "name": "stdout",
          "text": [
            "불용어 제거 미적용: ['One', 'of', 'the', 'first', 'things', 'that', 'we', 'ask', 'ourselves', 'is', 'what', 'are', 'the', 'pros', 'and', 'cons', 'of', 'any', 'task', 'we', 'perform', '.'] \n",
            "\n",
            "불용어 제거 적용: ['One', 'first', 'things', 'ask', 'pros', 'cons', 'task', 'perform', '.']\n"
          ]
        }
      ]
    },
    {
      "cell_type": "markdown",
      "source": [
        "# 어간 추출"
      ],
      "metadata": {
        "id": "tmN-98A7oP1g"
      }
    },
    {
      "cell_type": "markdown",
      "source": [
        "포터 알고리즘"
      ],
      "metadata": {
        "id": "vR_gmkD7oT6V"
      }
    },
    {
      "cell_type": "code",
      "source": [
        "from nltk.stem import PorterStemmer\n",
        "\n",
        "stemmer = PorterStemmer()"
      ],
      "metadata": {
        "id": "Ze-mo6kfn26Z"
      },
      "execution_count": 40,
      "outputs": []
    },
    {
      "cell_type": "code",
      "source": [
        "print(stemmer.stem('obesses'),stemmer.stem('obssesed'))\n",
        "print(stemmer.stem('standardizes'),stemmer.stem('standardization'))\n",
        "print(stemmer.stem('national'), stemmer.stem('nation'))\n",
        "print(stemmer.stem('absentness'), stemmer.stem('absently'))\n",
        "print(stemmer.stem('tribalical'), stemmer.stem('tribalicalized'))"
      ],
      "metadata": {
        "colab": {
          "base_uri": "https://localhost:8080/"
        },
        "id": "b9CtgqE2p_If",
        "outputId": "94742e29-ff0a-4840-cbc6-08f0178942f8"
      },
      "execution_count": 41,
      "outputs": [
        {
          "output_type": "stream",
          "name": "stdout",
          "text": [
            "obess obsses\n",
            "standard standard\n",
            "nation nation\n",
            "absent absent\n",
            "tribal tribalic\n"
          ]
        }
      ]
    },
    {
      "cell_type": "markdown",
      "source": [
        "랭커스터 알고리즘"
      ],
      "metadata": {
        "id": "jCHPrJV-qINp"
      }
    },
    {
      "cell_type": "code",
      "source": [
        "from nltk.stem import LancasterStemmer\n",
        "\n",
        "stemmer = LancasterStemmer()"
      ],
      "metadata": {
        "id": "D62b9kxwqDMZ"
      },
      "execution_count": 42,
      "outputs": []
    },
    {
      "cell_type": "code",
      "source": [
        "print(stemmer.stem('obsesses'),stemmer.stem('obsessed'))\n",
        "print(stemmer.stem('standardizes'),stemmer.stem('standardization'))\n",
        "print(stemmer.stem('national'), stemmer.stem('nation'))\n",
        "print(stemmer.stem('absentness'), stemmer.stem('absently'))\n",
        "print(stemmer.stem('tribalical'), stemmer.stem('tribalicalized'))"
      ],
      "metadata": {
        "colab": {
          "base_uri": "https://localhost:8080/"
        },
        "id": "GhmH2-5bqL7x",
        "outputId": "25157944-ac88-4939-92ca-5a3414def427"
      },
      "execution_count": 43,
      "outputs": [
        {
          "output_type": "stream",
          "name": "stdout",
          "text": [
            "obsess obsess\n",
            "standard standard\n",
            "nat nat\n",
            "abs abs\n",
            "trib trib\n"
          ]
        }
      ]
    },
    {
      "cell_type": "markdown",
      "source": [
        "# 표제어 추출"
      ],
      "metadata": {
        "id": "A2T-dQP28g0b"
      }
    },
    {
      "cell_type": "code",
      "source": [
        "import nltk\n",
        "\n",
        "nltk.download('omw-1.4')"
      ],
      "metadata": {
        "colab": {
          "base_uri": "https://localhost:8080/"
        },
        "id": "FBVjPssHqN9B",
        "outputId": "4c8a79e8-911a-484f-ed42-d8f53d397183"
      },
      "execution_count": 52,
      "outputs": [
        {
          "output_type": "stream",
          "name": "stderr",
          "text": [
            "[nltk_data] Downloading package omw-1.4 to /root/nltk_data...\n"
          ]
        },
        {
          "output_type": "execute_result",
          "data": {
            "text/plain": [
              "True"
            ]
          },
          "metadata": {},
          "execution_count": 52
        }
      ]
    },
    {
      "cell_type": "code",
      "source": [
        "from nltk.stem import WordNetLemmatizer\n",
        "\n",
        "lemma = WordNetLemmatizer()"
      ],
      "metadata": {
        "id": "Z0DiBx5Y8leD"
      },
      "execution_count": 53,
      "outputs": []
    },
    {
      "cell_type": "code",
      "source": [
        "print(stemmer.stem('obsesses'),stemmer.stem('obsessed'))\n",
        "print(lemma.lemmatize('standardizes'),lemma.lemmatize('standardization'))\n",
        "print(lemma.lemmatize('national'), lemma.lemmatize('nation'))\n",
        "print(lemma.lemmatize('absentness'), lemma.lemmatize('absently'))\n",
        "print(lemma.lemmatize('tribalical'), lemma.lemmatize('tribalicalized'))"
      ],
      "metadata": {
        "colab": {
          "base_uri": "https://localhost:8080/"
        },
        "id": "IU7S0MF68-0f",
        "outputId": "2923cc6f-ee34-4b71-e5ae-f748d224c0d9"
      },
      "execution_count": 55,
      "outputs": [
        {
          "output_type": "stream",
          "name": "stdout",
          "text": [
            "obsess obsess\n",
            "standardizes standardization\n",
            "national nation\n",
            "absentness absently\n",
            "tribalical tribalicalized\n"
          ]
        }
      ]
    },
    {
      "cell_type": "code",
      "source": [
        "print(lemma.lemmatize('obsesses', 'v'),lemma.lemmatize('obsessed','a'))\n",
        "print(lemma.lemmatize('standardizes','v'),lemma.lemmatize('standardization','n'))\n",
        "print(lemma.lemmatize('national','a'), lemma.lemmatize('nation','n'))\n",
        "print(lemma.lemmatize('absentness','n'), lemma.lemmatize('absently','r'))\n",
        "print(lemma.lemmatize('tribalical','a'), lemma.lemmatize('tribalicalized','v'))"
      ],
      "metadata": {
        "colab": {
          "base_uri": "https://localhost:8080/"
        },
        "id": "dzUaEEYw9II7",
        "outputId": "e6cae46c-ebc9-4cb1-a168-b1d2bbed8465"
      },
      "execution_count": 56,
      "outputs": [
        {
          "output_type": "stream",
          "name": "stdout",
          "text": [
            "obsess obsessed\n",
            "standardize standardization\n",
            "national nation\n",
            "absentness absently\n",
            "tribalical tribalicalized\n"
          ]
        }
      ]
    },
    {
      "cell_type": "markdown",
      "source": [
        "# 정규화"
      ],
      "metadata": {
        "id": "XYff2W3X9y5E"
      }
    },
    {
      "cell_type": "markdown",
      "source": [
        "라이브러리 불러오기"
      ],
      "metadata": {
        "id": "BSm9hmRM-Vps"
      }
    },
    {
      "cell_type": "code",
      "source": [
        "import pandas as pd\n",
        "import torch\n",
        "import torch.nn as nn\n",
        "from torch.utils.data import Dataset, DataLoader\n",
        "\n",
        "from sklearn.model_selection import train_test_split\n",
        "from sklearn.preprocessing import StandardScaler, MinMaxScaler\n",
        "\n",
        "device = torch.device(\"cuda\" if torch.cuda.is_available() else \"cpu\")"
      ],
      "metadata": {
        "id": "y15z29Do9O79"
      },
      "execution_count": 57,
      "outputs": []
    },
    {
      "cell_type": "markdown",
      "source": [
        "데이터 불러오기"
      ],
      "metadata": {
        "id": "MvIiVFbb-dQJ"
      }
    },
    {
      "cell_type": "code",
      "source": [
        "df = pd.read_csv('/content/080289/chap09/data/diabetes.csv')\n",
        "df.head()"
      ],
      "metadata": {
        "colab": {
          "base_uri": "https://localhost:8080/",
          "height": 206
        },
        "id": "F1_VuI0L-Wqn",
        "outputId": "21980007-0aa7-4eb1-dd6d-de1067c49d29"
      },
      "execution_count": 58,
      "outputs": [
        {
          "output_type": "execute_result",
          "data": {
            "text/plain": [
              "   Pregnancies  Glucose  BloodPressure  SkinThickness  Insulin   BMI  \\\n",
              "0            6      148             72             35        0  33.6   \n",
              "1            1       85             66             29        0  26.6   \n",
              "2            8      183             64              0        0  23.3   \n",
              "3            1       89             66             23       94  28.1   \n",
              "4            0      137             40             35      168  43.1   \n",
              "\n",
              "   DiabetesPedigreeFunction  Age  Outcome  \n",
              "0                     0.627   50        1  \n",
              "1                     0.351   31        0  \n",
              "2                     0.672   32        1  \n",
              "3                     0.167   21        0  \n",
              "4                     2.288   33        1  "
            ],
            "text/html": [
              "\n",
              "  <div id=\"df-82d1392e-8345-464b-b279-1e2d2f9e27e1\">\n",
              "    <div class=\"colab-df-container\">\n",
              "      <div>\n",
              "<style scoped>\n",
              "    .dataframe tbody tr th:only-of-type {\n",
              "        vertical-align: middle;\n",
              "    }\n",
              "\n",
              "    .dataframe tbody tr th {\n",
              "        vertical-align: top;\n",
              "    }\n",
              "\n",
              "    .dataframe thead th {\n",
              "        text-align: right;\n",
              "    }\n",
              "</style>\n",
              "<table border=\"1\" class=\"dataframe\">\n",
              "  <thead>\n",
              "    <tr style=\"text-align: right;\">\n",
              "      <th></th>\n",
              "      <th>Pregnancies</th>\n",
              "      <th>Glucose</th>\n",
              "      <th>BloodPressure</th>\n",
              "      <th>SkinThickness</th>\n",
              "      <th>Insulin</th>\n",
              "      <th>BMI</th>\n",
              "      <th>DiabetesPedigreeFunction</th>\n",
              "      <th>Age</th>\n",
              "      <th>Outcome</th>\n",
              "    </tr>\n",
              "  </thead>\n",
              "  <tbody>\n",
              "    <tr>\n",
              "      <th>0</th>\n",
              "      <td>6</td>\n",
              "      <td>148</td>\n",
              "      <td>72</td>\n",
              "      <td>35</td>\n",
              "      <td>0</td>\n",
              "      <td>33.6</td>\n",
              "      <td>0.627</td>\n",
              "      <td>50</td>\n",
              "      <td>1</td>\n",
              "    </tr>\n",
              "    <tr>\n",
              "      <th>1</th>\n",
              "      <td>1</td>\n",
              "      <td>85</td>\n",
              "      <td>66</td>\n",
              "      <td>29</td>\n",
              "      <td>0</td>\n",
              "      <td>26.6</td>\n",
              "      <td>0.351</td>\n",
              "      <td>31</td>\n",
              "      <td>0</td>\n",
              "    </tr>\n",
              "    <tr>\n",
              "      <th>2</th>\n",
              "      <td>8</td>\n",
              "      <td>183</td>\n",
              "      <td>64</td>\n",
              "      <td>0</td>\n",
              "      <td>0</td>\n",
              "      <td>23.3</td>\n",
              "      <td>0.672</td>\n",
              "      <td>32</td>\n",
              "      <td>1</td>\n",
              "    </tr>\n",
              "    <tr>\n",
              "      <th>3</th>\n",
              "      <td>1</td>\n",
              "      <td>89</td>\n",
              "      <td>66</td>\n",
              "      <td>23</td>\n",
              "      <td>94</td>\n",
              "      <td>28.1</td>\n",
              "      <td>0.167</td>\n",
              "      <td>21</td>\n",
              "      <td>0</td>\n",
              "    </tr>\n",
              "    <tr>\n",
              "      <th>4</th>\n",
              "      <td>0</td>\n",
              "      <td>137</td>\n",
              "      <td>40</td>\n",
              "      <td>35</td>\n",
              "      <td>168</td>\n",
              "      <td>43.1</td>\n",
              "      <td>2.288</td>\n",
              "      <td>33</td>\n",
              "      <td>1</td>\n",
              "    </tr>\n",
              "  </tbody>\n",
              "</table>\n",
              "</div>\n",
              "      <button class=\"colab-df-convert\" onclick=\"convertToInteractive('df-82d1392e-8345-464b-b279-1e2d2f9e27e1')\"\n",
              "              title=\"Convert this dataframe to an interactive table.\"\n",
              "              style=\"display:none;\">\n",
              "        \n",
              "  <svg xmlns=\"http://www.w3.org/2000/svg\" height=\"24px\"viewBox=\"0 0 24 24\"\n",
              "       width=\"24px\">\n",
              "    <path d=\"M0 0h24v24H0V0z\" fill=\"none\"/>\n",
              "    <path d=\"M18.56 5.44l.94 2.06.94-2.06 2.06-.94-2.06-.94-.94-2.06-.94 2.06-2.06.94zm-11 1L8.5 8.5l.94-2.06 2.06-.94-2.06-.94L8.5 2.5l-.94 2.06-2.06.94zm10 10l.94 2.06.94-2.06 2.06-.94-2.06-.94-.94-2.06-.94 2.06-2.06.94z\"/><path d=\"M17.41 7.96l-1.37-1.37c-.4-.4-.92-.59-1.43-.59-.52 0-1.04.2-1.43.59L10.3 9.45l-7.72 7.72c-.78.78-.78 2.05 0 2.83L4 21.41c.39.39.9.59 1.41.59.51 0 1.02-.2 1.41-.59l7.78-7.78 2.81-2.81c.8-.78.8-2.07 0-2.86zM5.41 20L4 18.59l7.72-7.72 1.47 1.35L5.41 20z\"/>\n",
              "  </svg>\n",
              "      </button>\n",
              "      \n",
              "  <style>\n",
              "    .colab-df-container {\n",
              "      display:flex;\n",
              "      flex-wrap:wrap;\n",
              "      gap: 12px;\n",
              "    }\n",
              "\n",
              "    .colab-df-convert {\n",
              "      background-color: #E8F0FE;\n",
              "      border: none;\n",
              "      border-radius: 50%;\n",
              "      cursor: pointer;\n",
              "      display: none;\n",
              "      fill: #1967D2;\n",
              "      height: 32px;\n",
              "      padding: 0 0 0 0;\n",
              "      width: 32px;\n",
              "    }\n",
              "\n",
              "    .colab-df-convert:hover {\n",
              "      background-color: #E2EBFA;\n",
              "      box-shadow: 0px 1px 2px rgba(60, 64, 67, 0.3), 0px 1px 3px 1px rgba(60, 64, 67, 0.15);\n",
              "      fill: #174EA6;\n",
              "    }\n",
              "\n",
              "    [theme=dark] .colab-df-convert {\n",
              "      background-color: #3B4455;\n",
              "      fill: #D2E3FC;\n",
              "    }\n",
              "\n",
              "    [theme=dark] .colab-df-convert:hover {\n",
              "      background-color: #434B5C;\n",
              "      box-shadow: 0px 1px 3px 1px rgba(0, 0, 0, 0.15);\n",
              "      filter: drop-shadow(0px 1px 2px rgba(0, 0, 0, 0.3));\n",
              "      fill: #FFFFFF;\n",
              "    }\n",
              "  </style>\n",
              "\n",
              "      <script>\n",
              "        const buttonEl =\n",
              "          document.querySelector('#df-82d1392e-8345-464b-b279-1e2d2f9e27e1 button.colab-df-convert');\n",
              "        buttonEl.style.display =\n",
              "          google.colab.kernel.accessAllowed ? 'block' : 'none';\n",
              "\n",
              "        async function convertToInteractive(key) {\n",
              "          const element = document.querySelector('#df-82d1392e-8345-464b-b279-1e2d2f9e27e1');\n",
              "          const dataTable =\n",
              "            await google.colab.kernel.invokeFunction('convertToInteractive',\n",
              "                                                     [key], {});\n",
              "          if (!dataTable) return;\n",
              "\n",
              "          const docLinkHtml = 'Like what you see? Visit the ' +\n",
              "            '<a target=\"_blank\" href=https://colab.research.google.com/notebooks/data_table.ipynb>data table notebook</a>'\n",
              "            + ' to learn more about interactive tables.';\n",
              "          element.innerHTML = '';\n",
              "          dataTable['output_type'] = 'display_data';\n",
              "          await google.colab.output.renderOutput(dataTable, element);\n",
              "          const docLink = document.createElement('div');\n",
              "          docLink.innerHTML = docLinkHtml;\n",
              "          element.appendChild(docLink);\n",
              "        }\n",
              "      </script>\n",
              "    </div>\n",
              "  </div>\n",
              "  "
            ]
          },
          "metadata": {},
          "execution_count": 58
        }
      ]
    },
    {
      "cell_type": "markdown",
      "source": [
        "데이터셋 분할"
      ],
      "metadata": {
        "id": "bXUVuMQB-o5D"
      }
    },
    {
      "cell_type": "code",
      "source": [
        "X = df[df.columns[:-1]]\n",
        "y = df['Outcome']\n",
        "\n",
        "X = X.values\n",
        "y = torch.tensor(y.values)\n",
        "\n",
        "X_train, X_test, y_train, y_test = train_test_split(X, y, test_size=0.33)"
      ],
      "metadata": {
        "id": "KK6PyDw9-lDO"
      },
      "execution_count": 61,
      "outputs": []
    },
    {
      "cell_type": "markdown",
      "source": [
        "정규화"
      ],
      "metadata": {
        "id": "SpbmseLE-_4p"
      }
    },
    {
      "cell_type": "code",
      "source": [
        "ms = MinMaxScaler()\n",
        "ss = StandardScaler()"
      ],
      "metadata": {
        "id": "s_tIlUnE--xB"
      },
      "execution_count": 62,
      "outputs": []
    },
    {
      "cell_type": "code",
      "source": [
        "X_train = ss.fit_transform(X_train)\n",
        "X_test = ss.fit_transform(X_test)"
      ],
      "metadata": {
        "id": "y1G2Juck_C2r"
      },
      "execution_count": 63,
      "outputs": []
    },
    {
      "cell_type": "code",
      "source": [
        "y_train = y_train.reshape(-1, 1)\n",
        "y_test = y_test.reshape(-1, 1)\n",
        "\n",
        "y_train = ms.fit_transform(y_train)\n",
        "y_test = ms.fit_transform(y_test)"
      ],
      "metadata": {
        "id": "rvap0kvT_PlI"
      },
      "execution_count": 64,
      "outputs": []
    },
    {
      "cell_type": "markdown",
      "source": [
        "커스텀 데이터셋 생성"
      ],
      "metadata": {
        "id": "6iX9DsxZB90Y"
      }
    },
    {
      "cell_type": "code",
      "source": [
        "class customdataset(Dataset):\n",
        "\n",
        "  def __init__(self, X, y):\n",
        "\n",
        "    self.X = X\n",
        "    self.y = y\n",
        "    self.len = len(self.X)\n",
        "\n",
        "  def __getitem__(self, index):\n",
        "\n",
        "    return self.X[index], self.y[index]\n",
        "\n",
        "  def __len__(self):\n",
        "\n",
        "    return self.len"
      ],
      "metadata": {
        "id": "ZKne2Ea6_Uel"
      },
      "execution_count": 65,
      "outputs": []
    },
    {
      "cell_type": "markdown",
      "source": [
        "데이터로더"
      ],
      "metadata": {
        "id": "ameeuFFaCZsE"
      }
    },
    {
      "cell_type": "code",
      "source": [
        "train_data = customdataset(torch.FloatTensor(X_train), torch.FloatTensor(y_train))\n",
        "test_data = customdataset(torch.FloatTensor(X_test), torch.FloatTensor(y_test))\n",
        "\n",
        "train_loader = DataLoader(dataset=train_data, batch_size=64, shuffle=True)\n",
        "test_loader = DataLoader(dataset=test_data, batch_size=64, shuffle=False)"
      ],
      "metadata": {
        "id": "_3bvon_jCXyV"
      },
      "execution_count": 66,
      "outputs": []
    },
    {
      "cell_type": "markdown",
      "source": [
        "모델 생성"
      ],
      "metadata": {
        "id": "8HqS8if_DANT"
      }
    },
    {
      "cell_type": "code",
      "source": [
        "class binaryClassification(nn.Module):\n",
        "\n",
        "    def __init__(self):\n",
        "\n",
        "        super(binaryClassification, self).__init__()\n",
        "\n",
        "        self.layer_1 = nn.Linear(8, 64, bias=True) \n",
        "        self.layer_2 = nn.Linear(64, 64, bias=True)\n",
        "        self.layer_out = nn.Linear(64, 1, bias=True)         \n",
        "        self.relu = nn.ReLU()\n",
        "        self.dropout = nn.Dropout(p=0.1)\n",
        "        self.batchnorm1 = nn.BatchNorm1d(64)\n",
        "        self.batchnorm2 = nn.BatchNorm1d(64)\n",
        "        \n",
        "    def forward(self, inputs):\n",
        "\n",
        "        x = self.relu(self.layer_1(inputs))\n",
        "        x = self.batchnorm1(x)\n",
        "        x = self.relu(self.layer_2(x))\n",
        "        x = self.batchnorm2(x)\n",
        "        x = self.dropout(x)\n",
        "        x = self.layer_out(x)    \n",
        "            \n",
        "        return x"
      ],
      "metadata": {
        "id": "K4C1sSbnC85e"
      },
      "execution_count": 67,
      "outputs": []
    },
    {
      "cell_type": "markdown",
      "source": [
        "손실 함수 및 옵티마이저 설정"
      ],
      "metadata": {
        "id": "aBRMpvNODHdx"
      }
    },
    {
      "cell_type": "code",
      "source": [
        "epochs = 1000+1\n",
        "print_epoch = 100\n",
        "LEARNING_RATE = 1e-2\n",
        "\n",
        "model = binaryClassification()\n",
        "model.to(device)\n",
        "print(model)\n",
        "BCE = nn.BCEWithLogitsLoss()\n",
        "optimizer = torch.optim.SGD(model.parameters(), lr=LEARNING_RATE)"
      ],
      "metadata": {
        "colab": {
          "base_uri": "https://localhost:8080/"
        },
        "id": "LAafN6E7DFV4",
        "outputId": "cae3693c-106c-4a51-ac90-43179c493343"
      },
      "execution_count": 68,
      "outputs": [
        {
          "output_type": "stream",
          "name": "stdout",
          "text": [
            "binaryClassification(\n",
            "  (layer_1): Linear(in_features=8, out_features=64, bias=True)\n",
            "  (layer_2): Linear(in_features=64, out_features=64, bias=True)\n",
            "  (layer_out): Linear(in_features=64, out_features=1, bias=True)\n",
            "  (relu): ReLU()\n",
            "  (dropout): Dropout(p=0.1, inplace=False)\n",
            "  (batchnorm1): BatchNorm1d(64, eps=1e-05, momentum=0.1, affine=True, track_running_stats=True)\n",
            "  (batchnorm2): BatchNorm1d(64, eps=1e-05, momentum=0.1, affine=True, track_running_stats=True)\n",
            ")\n"
          ]
        }
      ]
    },
    {
      "cell_type": "markdown",
      "source": [
        "모델 성능 측정 함수 정의"
      ],
      "metadata": {
        "id": "BpBF8CTZD-15"
      }
    },
    {
      "cell_type": "code",
      "source": [
        "def accuracy(y_pred, y_test):\n",
        "\n",
        "    y_pred_tag = torch.round(torch.sigmoid(y_pred))\n",
        "    correct_results_sum = (y_pred_tag == y_test).sum().float()\n",
        "    acc = correct_results_sum/y_test.shape[0]\n",
        "    acc = torch.round(acc * 100)    \n",
        "    \n",
        "    return acc"
      ],
      "metadata": {
        "id": "_MEb00yfDMXA"
      },
      "execution_count": 69,
      "outputs": []
    },
    {
      "cell_type": "markdown",
      "source": [
        "모델 학습"
      ],
      "metadata": {
        "id": "1SM64ON6EIDm"
      }
    },
    {
      "cell_type": "code",
      "source": [
        "for epoch in range(epochs):    \n",
        "    iteration_loss = 0.\n",
        "    iteration_accuracy = 0.\n",
        "    \n",
        "    model.train()\n",
        "    for i, data in enumerate(train_loader):\n",
        "        X, y = data\n",
        "        X, y = X.to(device), y.to(device)\n",
        "        y_pred = model(X.float()).to(device)\n",
        "        loss = BCE(y_pred, y.reshape(-1,1).float())     \n",
        "      \n",
        "        iteration_loss += loss\n",
        "        iteration_accuracy += accuracy(y_pred, y)\n",
        "        optimizer.zero_grad()\n",
        "        loss.backward()\n",
        "        optimizer.step()\n",
        "    if(epoch % print_epoch == 0):\n",
        "        print('Train: epoch: {0} - loss: {1:.5f}; acc: {2:.3f}'.format(epoch, iteration_loss/(i+1), iteration_accuracy/(i+1)))\n",
        "    \n",
        "    iteration_loss = 0.\n",
        "    iteration_accuracy = 0.\n",
        "    model.eval()\n",
        "    for i, data in enumerate(test_loader):\n",
        "        X, y = data\n",
        "        X, y = X.to(device), y.to(device)\n",
        "        y_pred = model(X.float()).to(device)\n",
        "        loss = BCE(y_pred, y.reshape(-1,1).float())\n",
        "        iteration_loss += loss\n",
        "        iteration_accuracy += accuracy(y_pred, y)\n",
        "    if(epoch % print_epoch == 0):\n",
        "        print('Test: epoch: {0} - loss: {1:.5f}; acc: {2:.3f}'.format(epoch, iteration_loss/(i+1), iteration_accuracy/(i+1)))\n",
        "        print('-'*20)"
      ],
      "metadata": {
        "colab": {
          "base_uri": "https://localhost:8080/"
        },
        "id": "Dhoa4Ja2EDxl",
        "outputId": "e9d5f485-393b-49b8-927f-695fbfbdaab8"
      },
      "execution_count": 71,
      "outputs": [
        {
          "output_type": "stream",
          "name": "stdout",
          "text": [
            "Train: epoch: 0 - loss: 0.27117; acc: 87.889\n",
            "Test: epoch: 0 - loss: 0.71324; acc: 67.250\n",
            "--------------------\n",
            "Train: epoch: 100 - loss: 0.27635; acc: 87.667\n",
            "Test: epoch: 100 - loss: 0.69001; acc: 67.750\n",
            "--------------------\n",
            "Train: epoch: 200 - loss: 0.27219; acc: 89.000\n",
            "Test: epoch: 200 - loss: 0.72391; acc: 68.750\n",
            "--------------------\n",
            "Train: epoch: 300 - loss: 0.29751; acc: 83.000\n",
            "Test: epoch: 300 - loss: 0.80141; acc: 68.000\n",
            "--------------------\n",
            "Train: epoch: 400 - loss: 0.35956; acc: 80.444\n",
            "Test: epoch: 400 - loss: 0.72749; acc: 68.250\n",
            "--------------------\n",
            "Train: epoch: 500 - loss: 0.48878; acc: 80.889\n",
            "Test: epoch: 500 - loss: 0.68154; acc: 68.750\n",
            "--------------------\n",
            "Train: epoch: 600 - loss: 0.32174; acc: 87.667\n",
            "Test: epoch: 600 - loss: 0.75403; acc: 70.000\n",
            "--------------------\n",
            "Train: epoch: 700 - loss: 0.29979; acc: 88.778\n",
            "Test: epoch: 700 - loss: 0.69209; acc: 68.250\n",
            "--------------------\n",
            "Train: epoch: 800 - loss: 0.23646; acc: 90.111\n",
            "Test: epoch: 800 - loss: 0.69470; acc: 70.000\n",
            "--------------------\n",
            "Train: epoch: 900 - loss: 0.29713; acc: 88.222\n",
            "Test: epoch: 900 - loss: 0.67268; acc: 69.250\n",
            "--------------------\n",
            "Train: epoch: 1000 - loss: 0.44110; acc: 77.889\n",
            "Test: epoch: 1000 - loss: 0.69828; acc: 69.000\n",
            "--------------------\n"
          ]
        }
      ]
    }
  ]
}