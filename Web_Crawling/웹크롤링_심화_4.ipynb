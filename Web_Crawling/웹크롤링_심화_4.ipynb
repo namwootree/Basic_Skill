{
  "nbformat": 4,
  "nbformat_minor": 0,
  "metadata": {
    "colab": {
      "name": "텍스트_마이닝_심화_7_API_네이버.ipynb",
      "provenance": [],
      "collapsed_sections": [],
      "authorship_tag": "ABX9TyOOpEU6GBt5LH2xRZ1FZB6e",
      "include_colab_link": true
    },
    "kernelspec": {
      "name": "python3",
      "display_name": "Python 3"
    },
    "language_info": {
      "name": "python"
    }
  },
  "cells": [
    {
      "cell_type": "markdown",
      "metadata": {
        "id": "view-in-github",
        "colab_type": "text"
      },
      "source": [
        "<a href=\"https://colab.research.google.com/github/namwootree/Basic_Skill/blob/main/Web_Crawling/%EC%9B%B9%ED%81%AC%EB%A1%A4%EB%A7%81_%EC%8B%AC%ED%99%94_4.ipynb\" target=\"_parent\"><img src=\"https://colab.research.google.com/assets/colab-badge.svg\" alt=\"Open In Colab\"/></a>"
      ]
    },
    {
      "cell_type": "markdown",
      "source": [
        "###### 한글 폰트 설치"
      ],
      "metadata": {
        "id": "CEwaghQ20avV"
      }
    },
    {
      "cell_type": "code",
      "execution_count": null,
      "metadata": {
        "colab": {
          "base_uri": "https://localhost:8080/"
        },
        "id": "qPR6O2LG0IgI",
        "outputId": "d755dc2a-c4ef-43b8-d6d5-8cfbe501224a"
      },
      "outputs": [
        {
          "output_type": "stream",
          "name": "stdout",
          "text": [
            "Selecting previously unselected package fonts-nanum.\n",
            "(Reading database ... 156210 files and directories currently installed.)\n",
            "Preparing to unpack .../fonts-nanum_20170925-1_all.deb ...\n",
            "Unpacking fonts-nanum (20170925-1) ...\n",
            "Selecting previously unselected package fonts-nanum-eco.\n",
            "Preparing to unpack .../fonts-nanum-eco_1.000-6_all.deb ...\n",
            "Unpacking fonts-nanum-eco (1.000-6) ...\n",
            "Selecting previously unselected package fonts-nanum-extra.\n",
            "Preparing to unpack .../fonts-nanum-extra_20170925-1_all.deb ...\n",
            "Unpacking fonts-nanum-extra (20170925-1) ...\n",
            "Selecting previously unselected package fonts-nanum-coding.\n",
            "Preparing to unpack .../fonts-nanum-coding_2.5-1_all.deb ...\n",
            "Unpacking fonts-nanum-coding (2.5-1) ...\n",
            "Setting up fonts-nanum-extra (20170925-1) ...\n",
            "Setting up fonts-nanum (20170925-1) ...\n",
            "Setting up fonts-nanum-coding (2.5-1) ...\n",
            "Setting up fonts-nanum-eco (1.000-6) ...\n",
            "Processing triggers for fontconfig (2.12.6-0ubuntu2) ...\n"
          ]
        }
      ],
      "source": [
        "!apt-get update -qq\n",
        "!apt-get install fonts-nanum* -qq"
      ]
    },
    {
      "cell_type": "code",
      "source": [
        "import matplotlib.pyplot as plt  # 그래프 그리는 용도\n",
        "import matplotlib.font_manager as fm  # 폰트 관련 용도\n",
        "path = '/usr/share/fonts/truetype/nanum/NanumGothicEco.ttf'  # 설치된 나눔글꼴중 원하는 녀석의 전체 경로를 가져오자\n",
        "font_name = fm.FontProperties(fname=path, size=10).get_name()\n",
        "print(font_name)\n",
        "plt.rc('font', family=font_name)\n",
        "\n",
        "fm._rebuild()"
      ],
      "metadata": {
        "colab": {
          "base_uri": "https://localhost:8080/"
        },
        "id": "otEWQxT90hha",
        "outputId": "3b053025-d669-4fa7-9cbc-a78ca78e0d84"
      },
      "execution_count": null,
      "outputs": [
        {
          "output_type": "stream",
          "name": "stdout",
          "text": [
            "NanumGothic Eco\n"
          ]
        }
      ]
    },
    {
      "cell_type": "code",
      "source": [
        "# 라이브러리 추가\n",
        "import urllib.request # request 대체 가능\n",
        "import json\n",
        "import pandas as pd\n",
        "import seaborn as sns\n",
        "import matplotlib.pyplot as plt\n",
        "import re\n",
        "\n",
        "import json\n",
        "import glob\n",
        "import sys\n",
        "import os\n",
        "from datetime import datetime\n",
        "from random import shuffle\n"
      ],
      "metadata": {
        "id": "nZJP-5Pc0kIS"
      },
      "execution_count": null,
      "outputs": []
    },
    {
      "cell_type": "markdown",
      "source": [
        "### 0. API란? "
      ],
      "metadata": {
        "id": "KhnZGj_q0ouM"
      }
    },
    {
      "cell_type": "markdown",
      "source": [
        "- API(application programming interface)     \n",
        "  운영체제나 시스템, 애플리케이션, 라이브러리 등을 활용해 응용 프로그램을 작성할 수 있게 하는 다양한 인터페이스를 의미합니다. Window API, Java API, HTML5 API, Android API 등이 있습니다. (네이버 open api 가이드)"
      ],
      "metadata": {
        "id": "WtScat8f0rK2"
      }
    },
    {
      "cell_type": "markdown",
      "source": [
        "- 웹 API   \n",
        "  웹 API는 웹 애플리케이션 개발에서 다른 서비스에 요청을 보내고 응답을 받기 위해 정의된 명세를 말합니다. 예를 들어 블로그 API를 이용하면 블로그에 접속하지 않고도 다른 방법으로 글을 올릴 수 있습니다. 그 외에 우체국의 우편번호 API, 구글과 네이버의 지도 API등 유용한 API들이 많아서, 요즘은 홈페이지 구축이나 추가개편 시 따로 추가로 개발하지 않고 이런 오픈 API를 가져와 사용하는 추세입니다. (위키백과)"
      ],
      "metadata": {
        "id": "uA77o7A80s9v"
      }
    },
    {
      "cell_type": "markdown",
      "source": [
        "- 오픈 API    \n",
        "  API 중에서 플랫폼의 기능 또는 콘텐츠를 외부에서 웹 프로토콜(HTTP)로 호출해 사용할 수 있게 개방(open)한 API를 의미합니다. 네이버 개발자센터에서 제공하고 있는 지도, 검색을 비롯 기계 번역, 캡차, 단축 URL 등 대부분 API는 HTTP로 호출할 수 있는 오픈 API에 해당합니다. (네이버 open api 가이드)"
      ],
      "metadata": {
        "id": "CShVTNYT0vzz"
      }
    },
    {
      "cell_type": "markdown",
      "source": [
        "- 그외 API 관련 용어\n",
        "https://developers.naver.com/docs/common/openapiguide/apiterms.md#api%EC%9D%98-%EA%B8%B0%EB%B3%B8"
      ],
      "metadata": {
        "id": "DuRDt6ke0zFa"
      }
    },
    {
      "cell_type": "markdown",
      "source": [
        "### 1. 네이버 API"
      ],
      "metadata": {
        "id": "UzBiJNOp02FD"
      }
    },
    {
      "cell_type": "markdown",
      "source": [
        "네이버 오픈API는 네이버 플랫폼의 기능을 외부 개발자가 쉽게 이용할 수 있게 웹 또는 SDK 형태로 공개한 기술들입니다. 네이버 오픈API로 활용할 수 있는 기술에는 네이버 아이디로 로그인과 지도, 검색이 있으며, Clova의 음성 인식 기술과 음성 합성 기술, 얼굴 인식 기술, Papago의 기계 번역 기술 등이 있습니다."
      ],
      "metadata": {
        "id": "SOrZi_i305_n"
      }
    },
    {
      "cell_type": "markdown",
      "source": [
        "이 중에서 네이버 데이터랩 API와 Papago 기계번역 API를 활용해보겠습니다. "
      ],
      "metadata": {
        "id": "bZ5mCSua06mc"
      }
    },
    {
      "cell_type": "markdown",
      "source": [
        "##### 1-1. 네이버 데이터 랩 API"
      ],
      "metadata": {
        "id": "wHPrNT-w0_S8"
      }
    },
    {
      "cell_type": "markdown",
      "source": [
        "가장 먼저  Open API를 사용하기 위한 키를 발급받아야 합니다.   \n",
        "https://developers.naver.com/apps/#/register?defaultScope=datalab    \n",
        "위 링크에서 API 키를 발급받아 주세요"
      ],
      "metadata": {
        "id": "3u6jewD71BNW"
      }
    },
    {
      "cell_type": "code",
      "source": [
        "naver_id = input('네이버 ID를 입력해주세요 : ') # 애플리케이션 등록시 발급 받은 값 입력\n",
        "naver_key = input('네이버 API 키를 입력해주세요 : ') # 애플리케이션 등록시 발급 받은 값 입력"
      ],
      "metadata": {
        "id": "u5bzFudg0qC2"
      },
      "execution_count": null,
      "outputs": []
    },
    {
      "cell_type": "markdown",
      "source": [
        "##### 네이버 데이터 랩 소개"
      ],
      "metadata": {
        "id": "cLTI73ER1IBk"
      }
    },
    {
      "cell_type": "markdown",
      "source": [
        "- 네이버 데이터 랩은 궁금한 주제어를 설정하고, 하위 주제어에 해당하는 검색어를 콤마(,)로 구분입력하면,. 입력한 단어의 추이를 하나로 합산하여 해당 주제가 네이버에서 얼마나 검색되는지 조회할 수 있는 서비스입니다. \n",
        "https://datalab.naver.com/keyword/trendSearch.naver   "
      ],
      "metadata": {
        "id": "SgRhfc9B1LxL"
      }
    },
    {
      "cell_type": "markdown",
      "source": [
        "- 웹에서는 주제어 5개까지만 가능하지만 API를 활용하면 더 많은 주제들을 비교할 수 있습니다. \n",
        "- 네이버 데이터랩 API 개발가이드 : https://developers.naver.com/docs/datalab/search/"
      ],
      "metadata": {
        "id": "E_g3Bbbg1OD_"
      }
    },
    {
      "cell_type": "code",
      "source": [
        "# 개발가이드에 나온 샘플 \n",
        "# 정해진 요청 형식에 맞게 요청을 해야 합니다 ! \n",
        "# 원하는 데이터를 body에 반영하여 요청하면 됩니다. \n",
        "\n",
        "import os\n",
        "import sys\n",
        "import urllib.request\n",
        "client_id = naver_id\n",
        "client_secret = naver_key\n",
        "url = \"https://openapi.naver.com/v1/datalab/search\"\n",
        "body = \"{\\\"startDate\\\":\\\"2019-01-01\\\",\\\"endDate\\\":\\\"2020-03-15\\\",\\\"timeUnit\\\":\\\"month\\\",\\\"keywordGroups\\\":[{\\\"groupName\\\":\\\"한글\\\",\\\"keywords\\\":[\\\"한글\\\",\\\"korean\\\"]},{\\\"groupName\\\":\\\"영어\\\",\\\"keywords\\\":[\\\"영어\\\",\\\"english\\\"]}],\\\"device\\\":\\\"pc\\\",\\\"ages\\\":[\\\"1\\\",\\\"2\\\"],\\\"gender\\\":\\\"f\\\"}\";\n",
        "\n",
        "request = urllib.request.Request(url)\n",
        "request.add_header(\"X-Naver-Client-Id\",client_id)\n",
        "request.add_header(\"X-Naver-Client-Secret\",client_secret)\n",
        "request.add_header(\"Content-Type\",\"application/json\")\n",
        "response = urllib.request.urlopen(request, data=body.encode(\"utf-8\"))\n",
        "rescode = response.getcode()\n",
        "if(rescode==200):\n",
        "    response_body = response.read()\n",
        "    print(response_body.decode('utf-8'))\n",
        "else:\n",
        "    print(\"Error Code:\" + rescode)"
      ],
      "metadata": {
        "colab": {
          "base_uri": "https://localhost:8080/",
          "height": 241
        },
        "id": "Ci5uESqo1J-j",
        "outputId": "5f550f5e-1257-40c6-cc12-d1ee3710f7ed"
      },
      "execution_count": null,
      "outputs": [
        {
          "output_type": "error",
          "ename": "NameError",
          "evalue": "ignored",
          "traceback": [
            "\u001b[0;31m---------------------------------------------------------------------------\u001b[0m",
            "\u001b[0;31mNameError\u001b[0m                                 Traceback (most recent call last)",
            "\u001b[0;32m<ipython-input-3-8242ef3b7673>\u001b[0m in \u001b[0;36m<module>\u001b[0;34m()\u001b[0m\n\u001b[1;32m      6\u001b[0m \u001b[0;32mimport\u001b[0m \u001b[0msys\u001b[0m\u001b[0;34m\u001b[0m\u001b[0;34m\u001b[0m\u001b[0m\n\u001b[1;32m      7\u001b[0m \u001b[0;32mimport\u001b[0m \u001b[0murllib\u001b[0m\u001b[0;34m.\u001b[0m\u001b[0mrequest\u001b[0m\u001b[0;34m\u001b[0m\u001b[0;34m\u001b[0m\u001b[0m\n\u001b[0;32m----> 8\u001b[0;31m \u001b[0mclient_id\u001b[0m \u001b[0;34m=\u001b[0m \u001b[0mnaver_id\u001b[0m\u001b[0;34m\u001b[0m\u001b[0;34m\u001b[0m\u001b[0m\n\u001b[0m\u001b[1;32m      9\u001b[0m \u001b[0mclient_secret\u001b[0m \u001b[0;34m=\u001b[0m \u001b[0mnaver_key\u001b[0m\u001b[0;34m\u001b[0m\u001b[0;34m\u001b[0m\u001b[0m\n\u001b[1;32m     10\u001b[0m \u001b[0murl\u001b[0m \u001b[0;34m=\u001b[0m \u001b[0;34m\"https://openapi.naver.com/v1/datalab/search\"\u001b[0m\u001b[0;34m\u001b[0m\u001b[0;34m\u001b[0m\u001b[0m\n",
            "\u001b[0;31mNameError\u001b[0m: name 'naver_id' is not defined"
          ]
        }
      ]
    },
    {
      "cell_type": "markdown",
      "source": [
        "### 코스피 상장 회사 목록\n",
        "- 2019년 1월 1일부터 현재까지 코스피 상장 회사들의 검색량을 비교해봅시다."
      ],
      "metadata": {
        "id": "j1FNHEYo1ULa"
      }
    },
    {
      "cell_type": "markdown",
      "source": [
        "https://kind.krx.co.kr/corpgeneral/corpList.do?method=loadInitPage\n",
        "\n",
        "코드 참고: https://brunch.co.kr/@sukhyun9673/15#comment"
      ],
      "metadata": {
        "id": "rr6wxlcn1Vyj"
      }
    },
    {
      "cell_type": "code",
      "source": [
        "from urllib import request\n",
        "\n",
        "#API 설정 : API키와 header 지정 \n",
        "client_id = naver_id  \n",
        "client_secret = naver_key\n",
        "\n",
        "link = \"https://openapi.naver.com/v1/datalab/search\"\n",
        "requested = request.Request(link)\n",
        "requested.add_header(\"X-Naver-Client-Id\",client_id)\n",
        "requested.add_header(\"X-Naver-Client-Secret\",client_secret)\n",
        "requested.add_header(\"Content-Type\",\"application/json\")"
      ],
      "metadata": {
        "colab": {
          "base_uri": "https://localhost:8080/",
          "height": 241
        },
        "id": "vsFIcjMq1R8-",
        "outputId": "68dc2de4-37ff-4d83-f56c-a808b104f125"
      },
      "execution_count": null,
      "outputs": [
        {
          "output_type": "error",
          "ename": "NameError",
          "evalue": "ignored",
          "traceback": [
            "\u001b[0;31m---------------------------------------------------------------------------\u001b[0m",
            "\u001b[0;31mNameError\u001b[0m                                 Traceback (most recent call last)",
            "\u001b[0;32m<ipython-input-4-e641ae0c964f>\u001b[0m in \u001b[0;36m<module>\u001b[0;34m()\u001b[0m\n\u001b[1;32m      2\u001b[0m \u001b[0;34m\u001b[0m\u001b[0m\n\u001b[1;32m      3\u001b[0m \u001b[0;31m#API 설정 : API키와 header 지정\u001b[0m\u001b[0;34m\u001b[0m\u001b[0;34m\u001b[0m\u001b[0;34m\u001b[0m\u001b[0m\n\u001b[0;32m----> 4\u001b[0;31m \u001b[0mclient_id\u001b[0m \u001b[0;34m=\u001b[0m \u001b[0mnaver_id\u001b[0m\u001b[0;34m\u001b[0m\u001b[0;34m\u001b[0m\u001b[0m\n\u001b[0m\u001b[1;32m      5\u001b[0m \u001b[0mclient_secret\u001b[0m \u001b[0;34m=\u001b[0m \u001b[0mnaver_key\u001b[0m\u001b[0;34m\u001b[0m\u001b[0;34m\u001b[0m\u001b[0m\n\u001b[1;32m      6\u001b[0m \u001b[0;34m\u001b[0m\u001b[0m\n",
            "\u001b[0;31mNameError\u001b[0m: name 'naver_id' is not defined"
          ]
        }
      ]
    },
    {
      "cell_type": "code",
      "source": [
        "now = datetime.now().strftime(\"%Y-%m-%d\") # 현재날짜 설정\n",
        "\n",
        "# 개발가이드에 나와있는 요청 body와 같은 서식으로 딕셔너리 작성 \n",
        "body_dict = {\"startDate\":\"2019-01-01\", \n",
        "               \"endDate\": now,\n",
        "               \"timeUnit\":\"month\"}"
      ],
      "metadata": {
        "colab": {
          "base_uri": "https://localhost:8080/",
          "height": 169
        },
        "id": "w_LXU6F21bIy",
        "outputId": "9cd3fdf4-3fd2-42b9-ad18-362c5e524073"
      },
      "execution_count": null,
      "outputs": [
        {
          "output_type": "error",
          "ename": "NameError",
          "evalue": "ignored",
          "traceback": [
            "\u001b[0;31m---------------------------------------------------------------------------\u001b[0m",
            "\u001b[0;31mNameError\u001b[0m                                 Traceback (most recent call last)",
            "\u001b[0;32m<ipython-input-5-5b2c1a0132b0>\u001b[0m in \u001b[0;36m<module>\u001b[0;34m()\u001b[0m\n\u001b[0;32m----> 1\u001b[0;31m \u001b[0mㅍ\u001b[0m\u001b[0;34m\u001b[0m\u001b[0;34m\u001b[0m\u001b[0m\n\u001b[0m",
            "\u001b[0;31mNameError\u001b[0m: name 'ᄑ' is not defined"
          ]
        }
      ]
    },
    {
      "cell_type": "code",
      "source": [
        "# 다운받은 상장 법인 목록의 회사명을 검색어로 설정 \n",
        "df = pd.read_excel(\"/content/상장법인목록.xlsx\")\n",
        "names = df.회사명.values #df['회시명']\n",
        "\n",
        "\n",
        "v_list = [{\"groupName\" : i, \"keywords\" : [i]} for i in names] # API 형식으로 만들기 \n",
        "\n",
        "# 대표이름도 검색어로 설정하여 각 상장사의 검색량 얻기 \n",
        "df[\"대표자명\"] = df[\"대표자명\"].apply(lambda x: re.sub(r'\\(.*\\)', '', x))\n",
        "df[\"대표자명\"]  = df[\"대표자명\"].apply(lambda x: [re.compile('[^ㄱ-ㅣ가-힣]+').sub(\"\",x)] if len(re.compile('[^ㄱ-ㅣ가-힣]+').sub(\"\",x)) < 5 else re.findall(r\"[\\w']+\", x)) \n",
        "\n",
        "for i in range(0, df.shape[0]):\n",
        "    for j in df[\"대표자명\"].values[i]:\n",
        "        if \"대표\" not in j and j!= \"\":\n",
        "            v_list[i][\"keywords\"].append(j) # 추가 키워드로 추가 \n",
        "\n",
        "v_list"
      ],
      "metadata": {
        "id": "vDDmZ91V1czJ"
      },
      "execution_count": null,
      "outputs": []
    },
    {
      "cell_type": "markdown",
      "source": [
        "네이버 데이터랩의 검색어 트렌드는 요청된 기간 중 검색 횟수가 가장 높은 시점을 100으로 두고 나머지는 상대적 값으로 제공하고 있어서, \n",
        "랜덤으로 하나의 기준값을 정해놓고 다른 값들과 스케일 맞추는 작업 필요 "
      ],
      "metadata": {
        "id": "fIBZFCHx1jg_"
      }
    },
    {
      "cell_type": "code",
      "source": [
        "####\n",
        "# 네이버 데이터랩의 검색어 트렌드는 요청된 기간 중 검색 횟수가 가장 높은 시점을 100으로 두고 나머지는 상대적 값으로 제공하고 있어서, \n",
        "# 랜덤으로 하나의 기준값을 정해놓고 다른 값들과 스케일 맞추는 작업 필요  \n",
        "\n",
        "shuffle(v_list) #랜덤화\n",
        "standard = v_list[0] # 하나의 기준값 정하기 \n",
        "standard_keyword = standard[\"groupName\"]\n",
        "list_use = v_list[1:] # 그외의 상장사들 \n",
        "\n",
        "\n",
        "#### \n",
        "# 데이터 랩은 한번에 5개의 주제를 검색할 수 있으므로, \n",
        "# 상장사를 4개씩 분리하고, 각 리스트에 기준값을 추가 \n",
        "split_list = [list_use[i:i+4] for i in range(0, len(list_use), 4)]\n",
        "\n",
        "for i in split_list:\n",
        "    i.append(standard)\n",
        "\n",
        "split_list"
      ],
      "metadata": {
        "id": "lTHnh-G-1j2h"
      },
      "execution_count": null,
      "outputs": []
    },
    {
      "cell_type": "code",
      "source": [
        "###스케일링할 회사의 Trend Index 뽑아내기\n",
        "sample_body = body_dict\n",
        "sample_body[\"keywordGroups\"] = split_list[0]\n",
        "sample_body = json.dumps(sample_body, ensure_ascii=False)\n",
        "sample_response = request.urlopen(requested, data=sample_body.encode(\"utf-8\"))\n",
        "\n",
        "code = sample_response.getcode() #응답 코드 확인\n",
        "if code == 200: #무사히 요청이 완료됨되면\n",
        "    sample_response_body = sample_response.read()\n",
        "    sample_scraped = sample_response_body.decode(\"utf-8\")\n",
        "else: \n",
        "    print (\"Error Code:\", code)\n",
        "\n",
        "sample_result = json.loads(sample_scraped)\n",
        "\n",
        "for i in sample_result[\"results\"] :\n",
        "    if i[\"title\"] == standard_keyword:\n",
        "        sample_standard = i[\"data\"]"
      ],
      "metadata": {
        "id": "Nse0qkV71obm"
      },
      "execution_count": null,
      "outputs": []
    },
    {
      "cell_type": "code",
      "source": [
        "import numpy as np\n",
        "from tqdm  import tqdm\n",
        "#'2019-01-01' 의 값을 Standard로 사용\n",
        "scale = sample_standard[0][\"ratio\"]\n",
        "\n",
        "df = {}\n",
        "\n",
        "# df 딕셔너리에 standard값의 날짜와 ratio 추가  \n",
        "df[standard_keyword] = np.array([i[\"ratio\"] for i in sample_standard])\n",
        "length = len(df[standard_keyword])\n",
        "date = np.array([i[\"period\"] for i in sample_standard])\n",
        "\n",
        "# 5개씩 분리해놓은 split 리스트로 API 호출\n",
        "for i in tqdm(split_list):\n",
        "    body_dict[\"keywordGroups\"] = i\n",
        "    body = json.dumps(body_dict, ensure_ascii=False)\n",
        "  \n",
        "    response = request.urlopen(requested, data=body.encode(\"utf-8\"))\n",
        "    \n",
        "    code = response.getcode() #응답 코드 확인\n",
        "    if code == 200: #무사히 요청이 완료됨되면\n",
        "        response_body = response.read()\n",
        "        scraped = response_body.decode(\"utf-8\")\n",
        "    else: \n",
        "        print (\"Error Code:\", code)\n",
        "    \n",
        "    result = json.loads(scraped) # 각 split리스트의 값\n",
        "    \n",
        "    for i in result[\"results\"]: # API 결과 \n",
        "        if i[\"title\"] == standard_keyword: # API결과 중 standard 값은 따로 저장 \n",
        "            compare = i[\"data\"]\n",
        "    compare = compare[0][\"ratio\"]\n",
        "    \n",
        "    scaling = scale/compare   # 저장해놓은 standard값 / 해당 split 리스트에서의 standard값\n",
        "    \n",
        "    for i in result[\"results\"]:\n",
        "        if i[\"title\"]!=standard_keyword:\n",
        "            value = [j[\"ratio\"]*scaling for j in i[\"data\"]] # 위의 스케일링값으로 통일해서 df 딕셔너리에 결과 저장 \n",
        "            if len(value)!=length:\n",
        "                value+=np.abs(length-len(value)) * [value[-1]]\n",
        "            df[i[\"title\"]] = np.array(value)\n",
        "\n",
        "df = pd.DataFrame(df)\n",
        "df[\"date\"] = date\n",
        "df = df.set_index(\"date\")"
      ],
      "metadata": {
        "id": "9L8BN9271qqT"
      },
      "execution_count": null,
      "outputs": []
    },
    {
      "cell_type": "code",
      "source": [
        "df"
      ],
      "metadata": {
        "id": "O3fOY7Vj1wRI"
      },
      "execution_count": null,
      "outputs": []
    },
    {
      "cell_type": "code",
      "source": [
        "!pip install chart_studio\n",
        "# pandas에서 바로 plotly로 그래프를 제작해주는 라이브러리 \n",
        "!pip install cufflinks"
      ],
      "metadata": {
        "id": "DYADr5b11wnj"
      },
      "execution_count": null,
      "outputs": []
    },
    {
      "cell_type": "code",
      "source": [
        "import chart_studio.plotly as py\n",
        "import cufflinks as cf\n",
        "import seaborn as sns\n",
        "import plotly.express as px # seaborn보다 세련된 스타일\n",
        "%matplotlib inline\n",
        "\n",
        "# Make Plotly work in your Jupyter Notebook\n",
        "from plotly.offline import download_plotlyjs, init_notebook_mode, plot, iplot\n",
        "init_notebook_mode(connected=True)\n",
        "# Use Plotly locally\n",
        "cf.go_offline()\n",
        "\n",
        "import plotly.io as pio\n",
        "pio.renderers.default = 'colab'"
      ],
      "metadata": {
        "id": "As73DqZ811pt"
      },
      "execution_count": null,
      "outputs": []
    },
    {
      "cell_type": "code",
      "source": [
        "import plotly.graph_objects as go\n",
        "def plot_monthly_trend(df, company):\n",
        "  \"\"\"\n",
        "  월 별 검색어 트렌드 그래프 출력\n",
        "  \"\"\"\n",
        "  fig = px.line(df, x = df.index, y = df[company], title='월 별 검색어 트렌드', height = 500  , width = 1000, labels=dict(x='date'))\n",
        "  fig.show()"
      ],
      "metadata": {
        "id": "ea8R_ekh13lX"
      },
      "execution_count": null,
      "outputs": []
    },
    {
      "cell_type": "code",
      "source": [
        "plot_monthly_trend(df, '삼성전자')"
      ],
      "metadata": {
        "id": "iDo8CYFm14WH"
      },
      "execution_count": null,
      "outputs": []
    },
    {
      "cell_type": "code",
      "source": [
        "c_list = list(df.sort_values(by = '2020-03-01', axis=1, ascending=False).columns[:10])  # 2020년 3월 1일 가장 검색이 많았던 회사 10개 추출 "
      ],
      "metadata": {
        "id": "6vqi9uLG18ng"
      },
      "execution_count": null,
      "outputs": []
    },
    {
      "cell_type": "code",
      "source": [
        "import plotly.graph_objects as go\n",
        "def company_plot_monthly_trend(df, company_list):\n",
        "  \"\"\"\n",
        "  월 별 검색어 트렌드 그래프 출력\n",
        "  \"\"\"\n",
        "  filter = c_list\n",
        "  df[filter].iplot(title = '월 별 검색어 트렌드 비교')"
      ],
      "metadata": {
        "id": "zwFMmjZV198-"
      },
      "execution_count": null,
      "outputs": []
    },
    {
      "cell_type": "code",
      "source": [
        "company_plot_monthly_trend(df, c_list)"
      ],
      "metadata": {
        "id": "iV5p8T3A1_VN"
      },
      "execution_count": null,
      "outputs": []
    },
    {
      "cell_type": "markdown",
      "source": [
        "### 1-2. 파파고 API 활용"
      ],
      "metadata": {
        "id": "AwaAEauD2DyI"
      }
    },
    {
      "cell_type": "markdown",
      "source": [
        "파파고 API를 활용하여 간단한 번역 프로그램을 만들어 보겠습니다.     \n",
        "위에서 발급받은 clinet ID와 client secret 값을 활용하겠습니다 .  \n",
        "\n",
        "- 공식 개발 가이드 : https://developers.naver.com/docs/nmt/reference/"
      ],
      "metadata": {
        "id": "iGdCaVeJ2Gwf"
      }
    },
    {
      "cell_type": "markdown",
      "source": [
        "번역 대상 언어 코드.  \n",
        "  1.ko : 한국어  \n",
        "  2.en : 영어  \n",
        "  3.zh-CN : 중국어 간체  \n",
        "  4.zh-TW : 중국어 번체  \n",
        "  5.es : 스페인어  \n",
        "  6.fr : 프랑스어  \n",
        "  7.vi : 베트남어  \n",
        "  8.th : 태국어  \n",
        "  9.id : 인도네시아어  \n",
        "\n",
        "ko<->en, ko<->zh-CN, ko<->zh-TW, ko<->es, ko<->fr, ko<->vi, ko<->th, ko<->id, en<->ja, en<->fr 조합만 가능"
      ],
      "metadata": {
        "id": "pchkqQGf2J1G"
      }
    },
    {
      "cell_type": "code",
      "source": [
        "import os\n",
        "import sys\n",
        "import urllib.request\n",
        "client_id = naver_id # 개발자센터에서 발급받은 Client ID 값\n",
        "client_secret = naver_key # 개발자센터에서 발급받은 Client Secret 값\n",
        "encText = urllib.parse.quote(\"반갑습니다\") # 번역할 언어 \n",
        "data = \"source=ko&target=en&text=\" + encText  # 한 -> 영 번역 \n",
        "url = \"https://openapi.naver.com/v1/papago/n2mt\"\n",
        "request = urllib.request.Request(url)\n",
        "request.add_header(\"X-Naver-Client-Id\",client_id)\n",
        "request.add_header(\"X-Naver-Client-Secret\",client_secret)\n",
        "response = urllib.request.urlopen(request, data=data.encode(\"utf-8\"))\n",
        "rescode = response.getcode()\n",
        "if(rescode==200):\n",
        "    response_body = response.read()\n",
        "    print(response_body.decode('utf-8'))\n",
        "else:\n",
        "    print(\"Error Code:\" + rescode)"
      ],
      "metadata": {
        "id": "ngkWRgKE2Dh_"
      },
      "execution_count": null,
      "outputs": []
    },
    {
      "cell_type": "markdown",
      "source": [
        "다른 언어로 번역한다면? \n",
        "한국어 -> 태국어"
      ],
      "metadata": {
        "id": "dcAX0zTO2OO6"
      }
    },
    {
      "cell_type": "code",
      "source": [
        "import os\n",
        "import sys\n",
        "import urllib.request\n",
        "client_id = naver_id # 개발자센터에서 발급받은 Client ID 값\n",
        "client_secret = naver_key # 개발자센터에서 발급받은 Client Secret 값\n",
        "encText = urllib.parse.quote(\"반갑습니다\") # 번역할 언어 \n",
        "data = \"source=ko&target=th&text=\" + encText   # target을 태국어로 변경 \n",
        "url = \"https://openapi.naver.com/v1/papago/n2mt\"\n",
        "request = urllib.request.Request(url)\n",
        "request.add_header(\"X-Naver-Client-Id\",client_id)\n",
        "request.add_header(\"X-Naver-Client-Secret\",client_secret)\n",
        "response = urllib.request.urlopen(request, data=data.encode(\"utf-8\"))\n",
        "rescode = response.getcode()\n",
        "if (rescode==200):\n",
        "    response_body = response.read()\n",
        "    print(response_body.decode('utf-8'))\n",
        "else:\n",
        "    print(\"Error Code:\" + rescode)"
      ],
      "metadata": {
        "id": "4YlmVuEL2MmO"
      },
      "execution_count": null,
      "outputs": []
    },
    {
      "cell_type": "markdown",
      "source": [
        "API를 활용하여 한국어 -> 영어 번역기를 만들어 봅시다"
      ],
      "metadata": {
        "id": "VUV3UAfg2Spv"
      }
    },
    {
      "cell_type": "code",
      "source": [
        "import os\n",
        "import sys\n",
        "import urllib.request\n",
        "from pprint import pprint\n",
        "\n",
        "client_id = naver_id # 개발자센터에서 발급받은 Client ID 값\n",
        "client_secret = naver_key # 개발자센터에서 발급받은 Client Secret 값\n",
        "\n",
        "def get_translate():\n",
        "    text = input('번역하고 싶은 문장을 입력해주세요 :')\n",
        "\n",
        "    encText = urllib.parse.quote(text) \n",
        "    data = \"source=ko&target=en&text=\" + encText   \n",
        "    url = \"https://openapi.naver.com/v1/papago/n2mt\"\n",
        "    request = urllib.request.Request(url)\n",
        "    request.add_header(\"X-Naver-Client-Id\",client_id)\n",
        "    request.add_header(\"X-Naver-Client-Secret\",client_secret)\n",
        "    response = urllib.request.urlopen(request, data=data.encode(\"utf-8\"))\n",
        "    rescode = response.getcode()\n",
        "\n",
        "    if (rescode==200):\n",
        "        response_body = response.read()\n",
        "        print(json.loads(response_body)['message']['result']['translatedText'])\n",
        "    else:\n",
        "        print(\"Error Code:\" , rescode)\n"
      ],
      "metadata": {
        "id": "KVZnb2XG2S6h"
      },
      "execution_count": null,
      "outputs": []
    },
    {
      "cell_type": "code",
      "source": [
        "get_translate()"
      ],
      "metadata": {
        "id": "7D3jpA2s2VhG"
      },
      "execution_count": null,
      "outputs": []
    }
  ]
}