{
  "nbformat": 4,
  "nbformat_minor": 0,
  "metadata": {
    "colab": {
      "name": "5장 GARCH 클래스 모델을 사용한 변동성 모델링.ipynb",
      "provenance": [],
      "authorship_tag": "ABX9TyOf6U/RYG8WudGqJdyJo159",
      "include_colab_link": true
    },
    "kernelspec": {
      "name": "python3",
      "display_name": "Python 3"
    },
    "language_info": {
      "name": "python"
    }
  },
  "cells": [
    {
      "cell_type": "markdown",
      "metadata": {
        "id": "view-in-github",
        "colab_type": "text"
      },
      "source": [
        "<a href=\"https://colab.research.google.com/github/namwootree/Basic_Skill/blob/main/Time_Series/%EA%B8%88%EC%9C%B5%20%ED%8C%8C%EC%9D%B4%EC%8D%AC%20%EC%BF%A1%EB%B6%81/5%EC%9E%A5_GARCH_%ED%81%B4%EB%9E%98%EC%8A%A4_%EB%AA%A8%EB%8D%B8%EC%9D%84_%EC%82%AC%EC%9A%A9%ED%95%9C_%EB%B3%80%EB%8F%99%EC%84%B1_%EB%AA%A8%EB%8D%B8%EB%A7%81.ipynb\" target=\"_parent\"><img src=\"https://colab.research.google.com/assets/colab-badge.svg\" alt=\"Open In Colab\"/></a>"
      ]
    },
    {
      "cell_type": "markdown",
      "source": [
        "# Setting"
      ],
      "metadata": {
        "id": "S115sIu0yxdr"
      }
    },
    {
      "cell_type": "code",
      "source": [
        "!pip install yfinance"
      ],
      "metadata": {
        "colab": {
          "base_uri": "https://localhost:8080/"
        },
        "id": "PWrFcPWky2C2",
        "outputId": "d951f03f-30ac-49ab-f352-cf36ba8349c9"
      },
      "execution_count": null,
      "outputs": [
        {
          "output_type": "stream",
          "name": "stdout",
          "text": [
            "Looking in indexes: https://pypi.org/simple, https://us-python.pkg.dev/colab-wheels/public/simple/\n",
            "Collecting yfinance\n",
            "  Downloading yfinance-0.1.74-py2.py3-none-any.whl (27 kB)\n",
            "Requirement already satisfied: multitasking>=0.0.7 in /usr/local/lib/python3.7/dist-packages (from yfinance) (0.0.11)\n",
            "Collecting requests>=2.26\n",
            "  Downloading requests-2.28.1-py3-none-any.whl (62 kB)\n",
            "\u001b[K     |████████████████████████████████| 62 kB 1.4 MB/s \n",
            "\u001b[?25hRequirement already satisfied: pandas>=0.24.0 in /usr/local/lib/python3.7/dist-packages (from yfinance) (1.3.5)\n",
            "Requirement already satisfied: numpy>=1.15 in /usr/local/lib/python3.7/dist-packages (from yfinance) (1.21.6)\n",
            "Requirement already satisfied: lxml>=4.5.1 in /usr/local/lib/python3.7/dist-packages (from yfinance) (4.9.1)\n",
            "Requirement already satisfied: python-dateutil>=2.7.3 in /usr/local/lib/python3.7/dist-packages (from pandas>=0.24.0->yfinance) (2.8.2)\n",
            "Requirement already satisfied: pytz>=2017.3 in /usr/local/lib/python3.7/dist-packages (from pandas>=0.24.0->yfinance) (2022.1)\n",
            "Requirement already satisfied: six>=1.5 in /usr/local/lib/python3.7/dist-packages (from python-dateutil>=2.7.3->pandas>=0.24.0->yfinance) (1.15.0)\n",
            "Requirement already satisfied: certifi>=2017.4.17 in /usr/local/lib/python3.7/dist-packages (from requests>=2.26->yfinance) (2022.6.15)\n",
            "Requirement already satisfied: charset-normalizer<3,>=2 in /usr/local/lib/python3.7/dist-packages (from requests>=2.26->yfinance) (2.1.0)\n",
            "Requirement already satisfied: idna<4,>=2.5 in /usr/local/lib/python3.7/dist-packages (from requests>=2.26->yfinance) (2.10)\n",
            "Requirement already satisfied: urllib3<1.27,>=1.21.1 in /usr/local/lib/python3.7/dist-packages (from requests>=2.26->yfinance) (1.24.3)\n",
            "Installing collected packages: requests, yfinance\n",
            "  Attempting uninstall: requests\n",
            "    Found existing installation: requests 2.23.0\n",
            "    Uninstalling requests-2.23.0:\n",
            "      Successfully uninstalled requests-2.23.0\n",
            "Successfully installed requests-2.28.1 yfinance-0.1.74\n"
          ]
        }
      ]
    },
    {
      "cell_type": "code",
      "source": [
        "!pip install arch"
      ],
      "metadata": {
        "colab": {
          "base_uri": "https://localhost:8080/"
        },
        "id": "wpAcDo2Wy8Yk",
        "outputId": "fcbc4aec-b876-4cc6-ceec-ab0b91c6b693"
      },
      "execution_count": null,
      "outputs": [
        {
          "output_type": "stream",
          "name": "stdout",
          "text": [
            "Looking in indexes: https://pypi.org/simple, https://us-python.pkg.dev/colab-wheels/public/simple/\n",
            "Collecting arch\n",
            "  Downloading arch-5.3.1-cp37-cp37m-manylinux_2_17_x86_64.manylinux2014_x86_64.whl (903 kB)\n",
            "\u001b[K     |████████████████████████████████| 903 kB 6.7 MB/s \n",
            "\u001b[?25hRequirement already satisfied: scipy>=1.3 in /usr/local/lib/python3.7/dist-packages (from arch) (1.7.3)\n",
            "Collecting property-cached>=1.6.4\n",
            "  Downloading property_cached-1.6.4-py2.py3-none-any.whl (7.8 kB)\n",
            "Collecting statsmodels>=0.11\n",
            "  Downloading statsmodels-0.13.2-cp37-cp37m-manylinux_2_17_x86_64.manylinux2014_x86_64.whl (9.8 MB)\n",
            "\u001b[K     |████████████████████████████████| 9.8 MB 42.6 MB/s \n",
            "\u001b[?25hRequirement already satisfied: numpy>=1.17 in /usr/local/lib/python3.7/dist-packages (from arch) (1.21.6)\n",
            "Requirement already satisfied: pandas>=1.0 in /usr/local/lib/python3.7/dist-packages (from arch) (1.3.5)\n",
            "Requirement already satisfied: pytz>=2017.3 in /usr/local/lib/python3.7/dist-packages (from pandas>=1.0->arch) (2022.1)\n",
            "Requirement already satisfied: python-dateutil>=2.7.3 in /usr/local/lib/python3.7/dist-packages (from pandas>=1.0->arch) (2.8.2)\n",
            "Requirement already satisfied: six>=1.5 in /usr/local/lib/python3.7/dist-packages (from python-dateutil>=2.7.3->pandas>=1.0->arch) (1.15.0)\n",
            "Requirement already satisfied: patsy>=0.5.2 in /usr/local/lib/python3.7/dist-packages (from statsmodels>=0.11->arch) (0.5.2)\n",
            "Requirement already satisfied: packaging>=21.3 in /usr/local/lib/python3.7/dist-packages (from statsmodels>=0.11->arch) (21.3)\n",
            "Requirement already satisfied: pyparsing!=3.0.5,>=2.0.2 in /usr/local/lib/python3.7/dist-packages (from packaging>=21.3->statsmodels>=0.11->arch) (3.0.9)\n",
            "Installing collected packages: statsmodels, property-cached, arch\n",
            "  Attempting uninstall: statsmodels\n",
            "    Found existing installation: statsmodels 0.10.2\n",
            "    Uninstalling statsmodels-0.10.2:\n",
            "      Successfully uninstalled statsmodels-0.10.2\n",
            "Successfully installed arch-5.3.1 property-cached-1.6.4 statsmodels-0.13.2\n"
          ]
        }
      ]
    },
    {
      "cell_type": "code",
      "source": [
        "import numpy as np\n",
        "import pandas as pd\n",
        "import yfinance as yf\n",
        "from arch import arch_model"
      ],
      "metadata": {
        "id": "nJ8uC_JgzDo7"
      },
      "execution_count": null,
      "outputs": []
    },
    {
      "cell_type": "markdown",
      "source": [
        "# 변동성"
      ],
      "metadata": {
        "id": "12-qYKRbxbu2"
      }
    },
    {
      "cell_type": "markdown",
      "source": [
        "* 블랙-숄즈 모델은 기초 자산의 변동성에 종속되므로 옵션 가격 책정에 사용\n",
        "* 포트폴리오의 위험률, 샤프 비율 등과 같은 척도를 계산하는 데 사용되는 리스크 관리에 영향\n",
        "* CBOE 변동성 지수의 형태로 직접 거래될 수 있기 때문에 개러가 가능"
      ],
      "metadata": {
        "id": "-HcTmZvOxdaq"
      }
    },
    {
      "cell_type": "markdown",
      "source": [
        "# ARCH 모델을 사용한 주식 수익률의 변동성 설명"
      ],
      "metadata": {
        "id": "fDuh363qx0Sh"
      }
    },
    {
      "cell_type": "markdown",
      "source": [
        "* 시계열의 무조건과 조건부의 차이를 명시적으로 인식\n",
        "* 평균 프로세스에 조건부 분산을 과거 잔차의 함수로 모델링한다\n",
        "* 무조건 분산은 시간에 대해 일정하다고 가정\n",
        "* 모델의 사전 잔차 수를 자기회귀 모델과 유사하게 지정해야 함\n",
        "* 주어진 시계열에 다른 모델을 적합화한 후 얻은 잔차에만 적용해야 한다\n",
        "* 잔차는 불연속 백색 잡음의 관측값과 유사해야 한다"
      ],
      "metadata": {
        "id": "PPAqss4oyRcn"
      }
    },
    {
      "cell_type": "code",
      "execution_count": null,
      "metadata": {
        "id": "pF8ZzIQnw0Wj"
      },
      "outputs": [],
      "source": [
        "# 위험 자산과 기간 지정\n",
        "RISKY_ASSET = 'GOOG'\n",
        "START_DATE = '2018-01-01'\n",
        "END_DATE = '2021-12-31'"
      ]
    },
    {
      "cell_type": "code",
      "source": [
        "# 데이터 다운로드\n",
        "df = yf.download(RISKY_ASSET, \n",
        "                 start = START_DATE,\n",
        "                 end = END_DATE,\n",
        "                 adjusted = True)"
      ],
      "metadata": {
        "colab": {
          "base_uri": "https://localhost:8080/"
        },
        "id": "6VW2x3ytzbHj",
        "outputId": "b7e3da8b-e704-4c15-f26d-74085c1a5e66"
      },
      "execution_count": null,
      "outputs": [
        {
          "output_type": "stream",
          "name": "stdout",
          "text": [
            "\r[*********************100%***********************]  1 of 1 completed\n"
          ]
        }
      ]
    },
    {
      "cell_type": "code",
      "source": [
        "# 일별 수익률 계산\n",
        "\n",
        "# 백분율로 표시하여 수치가 매우 작아 scipy 최적화 알고리즘 불안정성 해결\n",
        "returns = 100 * df['Adj Close'].pct_change().dropna() \n",
        "returns.name = 'asset_returns'"
      ],
      "metadata": {
        "id": "jdXELVHYzqIN"
      },
      "execution_count": null,
      "outputs": []
    },
    {
      "cell_type": "code",
      "source": [
        "returns.plot(title=f'{RISKY_ASSET} returns : {START_DATE} - {END_DATE}')"
      ],
      "metadata": {
        "colab": {
          "base_uri": "https://localhost:8080/",
          "height": 311
        },
        "id": "g88MGgub0TO_",
        "outputId": "67238947-69e2-4279-8549-83dafb6088ed"
      },
      "execution_count": null,
      "outputs": [
        {
          "output_type": "execute_result",
          "data": {
            "text/plain": [
              "<matplotlib.axes._subplots.AxesSubplot at 0x7fc6fefe4990>"
            ]
          },
          "metadata": {},
          "execution_count": 7
        },
        {
          "output_type": "display_data",
          "data": {
            "text/plain": [
              "<Figure size 432x288 with 1 Axes>"
            ],
            "image/png": "[encoded data removed]"
          },
          "metadata": {
            "needs_background": "light"
          }
        }
      ]
    },
    {
      "cell_type": "code",
      "source": [
        "# ARCH 모델을 지정\n",
        "model = arch_model(returns, mean = 'Zero', vol = 'ARCH', p = 1, o = 0, q = 0)"
      ],
      "metadata": {
        "id": "PC10f-e40cxb"
      },
      "execution_count": null,
      "outputs": []
    },
    {
      "cell_type": "code",
      "source": [
        "# 모델 추정 / 요약 출력\n",
        "model_fitted = model.fit(disp='off')\n",
        "print(model_fitted.summary())"
      ],
      "metadata": {
        "colab": {
          "base_uri": "https://localhost:8080/"
        },
        "id": "zAh3CGps0tyE",
        "outputId": "4952c26f-fafb-46d2-b0a8-069e665f3f17"
      },
      "execution_count": null,
      "outputs": [
        {
          "output_type": "stream",
          "name": "stdout",
          "text": [
            "                        Zero Mean - ARCH Model Results                        \n",
            "==============================================================================\n",
            "Dep. Variable:          asset_returns   R-squared:                       0.000\n",
            "Mean Model:                 Zero Mean   Adj. R-squared:                  0.001\n",
            "Vol Model:                       ARCH   Log-Likelihood:               -1992.08\n",
            "Distribution:                  Normal   AIC:                           3988.16\n",
            "Method:            Maximum Likelihood   BIC:                           3997.99\n",
            "                                        No. Observations:                 1006\n",
            "Date:                Mon, Aug 08 2022   Df Residuals:                     1006\n",
            "Time:                        00:21:01   Df Model:                            0\n",
            "                            Volatility Model                            \n",
            "========================================================================\n",
            "                 coef    std err          t      P>|t|  95.0% Conf. Int.\n",
            "------------------------------------------------------------------------\n",
            "omega          2.4287      0.260      9.358  8.118e-21 [  1.920,  2.937]\n",
            "alpha[1]       0.2877  8.055e-02      3.571  3.555e-04 [  0.130,  0.446]\n",
            "========================================================================\n",
            "\n",
            "Covariance estimator: robust\n"
          ]
        }
      ]
    },
    {
      "cell_type": "code",
      "source": [
        "fig = model_fitted.plot(annualize='D')"
      ],
      "metadata": {
        "colab": {
          "base_uri": "https://localhost:8080/",
          "height": 281
        },
        "id": "Do8oOIBQ0471",
        "outputId": "a1efea4d-2377-4e9b-e0cf-9df4977b3379"
      },
      "execution_count": null,
      "outputs": [
        {
          "output_type": "display_data",
          "data": {
            "text/plain": [
              "<Figure size 432x288 with 2 Axes>"
            ],
            "image/png": "[encoded data removed]"
          },
          "metadata": {
            "needs_background": "light"
          }
        }
      ]
    },
    {
      "cell_type": "markdown",
      "source": [
        "# GARCH 모델을 사용한 주식 수익률의 변동성 설명"
      ],
      "metadata": {
        "id": "RRrgIoUc10D2"
      }
    },
    {
      "cell_type": "markdown",
      "source": [
        "* 시계열 분산에 적용된 ARMA 모델로 간주할 수 있음\n",
        "* 지연된 조건부 분산을 사양에 추가"
      ],
      "metadata": {
        "id": "dYwsQKg-2AKk"
      }
    },
    {
      "cell_type": "markdown",
      "source": [
        "* p : 지연 분산 수\n",
        "* q : 평균 프로세스의 지연 잔차 수\n"
      ],
      "metadata": {
        "id": "1-v3KocS2OvH"
      }
    },
    {
      "cell_type": "code",
      "source": [
        "# GARCH 모델 지정\n",
        "model = arch_model(returns,\n",
        "                   mean = 'Zero', # [제로-평균, 상수 평균, ARIMA의 모든 변형, 회귀 모델]\n",
        "                   vol = 'GARCH', # [GJR-GARCH, EGARCH, TGARCH, FIGARCH, GARCH-MIDAS, 다변량 GARCH 모델]\n",
        "                   p = 1, o = 0, q = 1)"
      ],
      "metadata": {
        "id": "rf-JAWNd1zL3"
      },
      "execution_count": null,
      "outputs": []
    },
    {
      "cell_type": "code",
      "source": [
        "# 모델 추정 / 요약 출력\n",
        "model_fitted = model.fit(disp='off')\n",
        "print(model_fitted.summary())"
      ],
      "metadata": {
        "colab": {
          "base_uri": "https://localhost:8080/"
        },
        "id": "UEPQn0Gd1HbZ",
        "outputId": "e6c5f1f7-6d81-4542-a2bc-212a4cf86653"
      },
      "execution_count": null,
      "outputs": [
        {
          "output_type": "stream",
          "name": "stdout",
          "text": [
            "                       Zero Mean - GARCH Model Results                        \n",
            "==============================================================================\n",
            "Dep. Variable:          asset_returns   R-squared:                       0.000\n",
            "Mean Model:                 Zero Mean   Adj. R-squared:                  0.001\n",
            "Vol Model:                      GARCH   Log-Likelihood:               -1961.76\n",
            "Distribution:                  Normal   AIC:                           3929.51\n",
            "Method:            Maximum Likelihood   BIC:                           3944.26\n",
            "                                        No. Observations:                 1006\n",
            "Date:                Mon, Aug 08 2022   Df Residuals:                     1006\n",
            "Time:                        00:29:54   Df Model:                            0\n",
            "                             Volatility Model                             \n",
            "==========================================================================\n",
            "                 coef    std err          t      P>|t|    95.0% Conf. Int.\n",
            "--------------------------------------------------------------------------\n",
            "omega          0.2980      0.209      1.428      0.153   [ -0.111,  0.707]\n",
            "alpha[1]       0.1015  4.331e-02      2.343  1.914e-02 [1.658e-02,  0.186]\n",
            "beta[1]        0.8048  9.582e-02      8.399  4.501e-17   [  0.617,  0.993]\n",
            "==========================================================================\n",
            "\n",
            "Covariance estimator: robust\n"
          ]
        }
      ]
    },
    {
      "cell_type": "code",
      "source": [
        "fig = model_fitted.plot(annualize='D')"
      ],
      "metadata": {
        "colab": {
          "base_uri": "https://localhost:8080/",
          "height": 281
        },
        "id": "1wVbag7N26-5",
        "outputId": "12478571-a0c1-4f31-ac51-1ce24c3aaec0"
      },
      "execution_count": null,
      "outputs": [
        {
          "output_type": "display_data",
          "data": {
            "text/plain": [
              "<Figure size 432x288 with 2 Axes>"
            ],
            "image/png": "[encoded data removed]"
          },
          "metadata": {
            "needs_background": "light"
          }
        }
      ]
    },
    {
      "cell_type": "markdown",
      "source": [
        "# 다변량 변동서 예측을 위한 CCC-GARCH 모델 구현"
      ],
      "metadata": {
        "id": "GQKephdI4YEt"
      }
    },
    {
      "cell_type": "markdown",
      "source": [
        "* 오차항 사이의 조건부 상관관계는 시간에 대해 일정하다\n",
        "* 개별 조건부 분산은 일변량 GARCH(1, 1) 모델을 따른다"
      ],
      "metadata": {
        "id": "H1XbuCp64n1x"
      }
    },
    {
      "cell_type": "code",
      "source": [
        "# 위험 자산과 기간을 설정\n",
        "RISKY_ASSETS = ['GOOG', 'MSFT', 'AAPL']\n",
        "N = len(RISKY_ASSETS)\n",
        "START_DATE = '2018-01-01'\n",
        "END_DATE = '2021-12-31'"
      ],
      "metadata": {
        "id": "zoYn6Nnq3C7w"
      },
      "execution_count": null,
      "outputs": []
    },
    {
      "cell_type": "code",
      "source": [
        "df = yf.download(RISKY_ASSETS,\n",
        "                 start=START_DATE,\n",
        "                 end=END_DATE,\n",
        "                 adjusted=True)\n",
        "\n",
        "print(f'Downloaded {df.shape[0]} rows of data.')"
      ],
      "metadata": {
        "colab": {
          "base_uri": "https://localhost:8080/"
        },
        "id": "C9oTr5IB5UM5",
        "outputId": "87c77d4a-a262-4ea5-b111-9cb524fc34c4"
      },
      "execution_count": null,
      "outputs": [
        {
          "output_type": "stream",
          "name": "stdout",
          "text": [
            "[*********************100%***********************]  3 of 3 completed\n",
            "Downloaded 1007 rows of data.\n"
          ]
        }
      ]
    },
    {
      "cell_type": "code",
      "source": [
        "df.head()"
      ],
      "metadata": {
        "colab": {
          "base_uri": "https://localhost:8080/",
          "height": 506
        },
        "id": "3Tm2eJoaBYn5",
        "outputId": "d5c54dc9-f058-416e-ef62-bf77f35c28f3"
      },
      "execution_count": null,
      "outputs": [
        {
          "output_type": "execute_result",
          "data": {
            "text/plain": [
              "            Adj Close                            Close                        \\\n",
              "                 AAPL       GOOG       MSFT       AAPL       GOOG       MSFT   \n",
              "Date                                                                           \n",
              "2018-01-02  41.018425  53.250000  81.340790  43.064999  53.250000  85.949997   \n",
              "2018-01-03  41.011284  54.124001  81.719322  43.057499  54.124001  86.349998   \n",
              "2018-01-04  41.201782  54.320000  82.438568  43.257500  54.320000  87.110001   \n",
              "2018-01-05  41.670876  55.111500  83.460655  43.750000  55.111500  88.190002   \n",
              "2018-01-08  41.516098  55.347000  83.545830  43.587502  55.347000  88.279999   \n",
              "\n",
              "                 High                              Low                        \\\n",
              "                 AAPL       GOOG       MSFT       AAPL       GOOG       MSFT   \n",
              "Date                                                                           \n",
              "2018-01-02  43.075001  53.347000  86.309998  42.314999  52.261501  85.500000   \n",
              "2018-01-03  43.637501  54.314499  86.510002  42.990002  53.160500  85.970001   \n",
              "2018-01-04  43.367500  54.678501  87.660004  43.020000  54.200100  86.570000   \n",
              "2018-01-05  43.842499  55.212502  88.410004  43.262501  54.599998  87.430000   \n",
              "2018-01-08  43.902500  55.563499  88.580002  43.482498  55.081001  87.599998   \n",
              "\n",
              "                 Open                           Volume                      \n",
              "                 AAPL       GOOG       MSFT       AAPL      GOOG      MSFT  \n",
              "Date                                                                        \n",
              "2018-01-02  42.540001  52.417000  86.129997  102223600  24752000  22483800  \n",
              "2018-01-03  43.132500  53.215500  86.059998  118071600  28604000  26061400  \n",
              "2018-01-04  43.134998  54.400002  86.589996   89738400  20092000  21912000  \n",
              "2018-01-05  43.360001  54.700001  87.660004   94640000  25582000  23407100  \n",
              "2018-01-08  43.587502  55.111500  88.199997   82271200  20952000  22113000  "
            ],
            "text/html": [
              "\n",
              "  <div id=\"df-5c72034f-e38f-47c9-8ac8-4d2475183cdf\">\n",
              "    <div class=\"colab-df-container\">\n",
              "      <div>\n",
              "<style scoped>\n",
              "    .dataframe tbody tr th:only-of-type {\n",
              "        vertical-align: middle;\n",
              "    }\n",
              "\n",
              "    .dataframe tbody tr th {\n",
              "        vertical-align: top;\n",
              "    }\n",
              "\n",
              "    .dataframe thead tr th {\n",
              "        text-align: left;\n",
              "    }\n",
              "\n",
              "    .dataframe thead tr:last-of-type th {\n",
              "        text-align: right;\n",
              "    }\n",
              "</style>\n",
              "<table border=\"1\" class=\"dataframe\">\n",
              "  <thead>\n",
              "    <tr>\n",
              "      <th></th>\n",
              "      <th colspan=\"3\" halign=\"left\">Adj Close</th>\n",
              "      <th colspan=\"3\" halign=\"left\">Close</th>\n",
              "      <th colspan=\"3\" halign=\"left\">High</th>\n",
              "      <th colspan=\"3\" halign=\"left\">Low</th>\n",
              "      <th colspan=\"3\" halign=\"left\">Open</th>\n",
              "      <th colspan=\"3\" halign=\"left\">Volume</th>\n",
              "    </tr>\n",
              "    <tr>\n",
              "      <th></th>\n",
              "      <th>AAPL</th>\n",
              "      <th>GOOG</th>\n",
              "      <th>MSFT</th>\n",
              "      <th>AAPL</th>\n",
              "      <th>GOOG</th>\n",
              "      <th>MSFT</th>\n",
              "      <th>AAPL</th>\n",
              "      <th>GOOG</th>\n",
              "      <th>MSFT</th>\n",
              "      <th>AAPL</th>\n",
              "      <th>GOOG</th>\n",
              "      <th>MSFT</th>\n",
              "      <th>AAPL</th>\n",
              "      <th>GOOG</th>\n",
              "      <th>MSFT</th>\n",
              "      <th>AAPL</th>\n",
              "      <th>GOOG</th>\n",
              "      <th>MSFT</th>\n",
              "    </tr>\n",
              "    <tr>\n",
              "      <th>Date</th>\n",
              "      <th></th>\n",
              "      <th></th>\n",
              "      <th></th>\n",
              "      <th></th>\n",
              "      <th></th>\n",
              "      <th></th>\n",
              "      <th></th>\n",
              "      <th></th>\n",
              "      <th></th>\n",
              "      <th></th>\n",
              "      <th></th>\n",
              "      <th></th>\n",
              "      <th></th>\n",
              "      <th></th>\n",
              "      <th></th>\n",
              "      <th></th>\n",
              "      <th></th>\n",
              "      <th></th>\n",
              "    </tr>\n",
              "  </thead>\n",
              "  <tbody>\n",
              "    <tr>\n",
              "      <th>2018-01-02</th>\n",
              "      <td>41.018425</td>\n",
              "      <td>53.250000</td>\n",
              "      <td>81.340790</td>\n",
              "      <td>43.064999</td>\n",
              "      <td>53.250000</td>\n",
              "      <td>85.949997</td>\n",
              "      <td>43.075001</td>\n",
              "      <td>53.347000</td>\n",
              "      <td>86.309998</td>\n",
              "      <td>42.314999</td>\n",
              "      <td>52.261501</td>\n",
              "      <td>85.500000</td>\n",
              "      <td>42.540001</td>\n",
              "      <td>52.417000</td>\n",
              "      <td>86.129997</td>\n",
              "      <td>102223600</td>\n",
              "      <td>24752000</td>\n",
              "      <td>22483800</td>\n",
              "    </tr>\n",
              "    <tr>\n",
              "      <th>2018-01-03</th>\n",
              "      <td>41.011284</td>\n",
              "      <td>54.124001</td>\n",
              "      <td>81.719322</td>\n",
              "      <td>43.057499</td>\n",
              "      <td>54.124001</td>\n",
              "      <td>86.349998</td>\n",
              "      <td>43.637501</td>\n",
              "      <td>54.314499</td>\n",
              "      <td>86.510002</td>\n",
              "      <td>42.990002</td>\n",
              "      <td>53.160500</td>\n",
              "      <td>85.970001</td>\n",
              "      <td>43.132500</td>\n",
              "      <td>53.215500</td>\n",
              "      <td>86.059998</td>\n",
              "      <td>118071600</td>\n",
              "      <td>28604000</td>\n",
              "      <td>26061400</td>\n",
              "    </tr>\n",
              "    <tr>\n",
              "      <th>2018-01-04</th>\n",
              "      <td>41.201782</td>\n",
              "      <td>54.320000</td>\n",
              "      <td>82.438568</td>\n",
              "      <td>43.257500</td>\n",
              "      <td>54.320000</td>\n",
              "      <td>87.110001</td>\n",
              "      <td>43.367500</td>\n",
              "      <td>54.678501</td>\n",
              "      <td>87.660004</td>\n",
              "      <td>43.020000</td>\n",
              "      <td>54.200100</td>\n",
              "      <td>86.570000</td>\n",
              "      <td>43.134998</td>\n",
              "      <td>54.400002</td>\n",
              "      <td>86.589996</td>\n",
              "      <td>89738400</td>\n",
              "      <td>20092000</td>\n",
              "      <td>21912000</td>\n",
              "    </tr>\n",
              "    <tr>\n",
              "      <th>2018-01-05</th>\n",
              "      <td>41.670876</td>\n",
              "      <td>55.111500</td>\n",
              "      <td>83.460655</td>\n",
              "      <td>43.750000</td>\n",
              "      <td>55.111500</td>\n",
              "      <td>88.190002</td>\n",
              "      <td>43.842499</td>\n",
              "      <td>55.212502</td>\n",
              "      <td>88.410004</td>\n",
              "      <td>43.262501</td>\n",
              "      <td>54.599998</td>\n",
              "      <td>87.430000</td>\n",
              "      <td>43.360001</td>\n",
              "      <td>54.700001</td>\n",
              "      <td>87.660004</td>\n",
              "      <td>94640000</td>\n",
              "      <td>25582000</td>\n",
              "      <td>23407100</td>\n",
              "    </tr>\n",
              "    <tr>\n",
              "      <th>2018-01-08</th>\n",
              "      <td>41.516098</td>\n",
              "      <td>55.347000</td>\n",
              "      <td>83.545830</td>\n",
              "      <td>43.587502</td>\n",
              "      <td>55.347000</td>\n",
              "      <td>88.279999</td>\n",
              "      <td>43.902500</td>\n",
              "      <td>55.563499</td>\n",
              "      <td>88.580002</td>\n",
              "      <td>43.482498</td>\n",
              "      <td>55.081001</td>\n",
              "      <td>87.599998</td>\n",
              "      <td>43.587502</td>\n",
              "      <td>55.111500</td>\n",
              "      <td>88.199997</td>\n",
              "      <td>82271200</td>\n",
              "      <td>20952000</td>\n",
              "      <td>22113000</td>\n",
              "    </tr>\n",
              "  </tbody>\n",
              "</table>\n",
              "</div>\n",
              "      <button class=\"colab-df-convert\" onclick=\"convertToInteractive('df-5c72034f-e38f-47c9-8ac8-4d2475183cdf')\"\n",
              "              title=\"Convert this dataframe to an interactive table.\"\n",
              "              style=\"display:none;\">\n",
              "        \n",
              "  <svg xmlns=\"http://www.w3.org/2000/svg\" height=\"24px\"viewBox=\"0 0 24 24\"\n",
              "       width=\"24px\">\n",
              "    <path d=\"M0 0h24v24H0V0z\" fill=\"none\"/>\n",
              "    <path d=\"M18.56 5.44l.94 2.06.94-2.06 2.06-.94-2.06-.94-.94-2.06-.94 2.06-2.06.94zm-11 1L8.5 8.5l.94-2.06 2.06-.94-2.06-.94L8.5 2.5l-.94 2.06-2.06.94zm10 10l.94 2.06.94-2.06 2.06-.94-2.06-.94-.94-2.06-.94 2.06-2.06.94z\"/><path d=\"M17.41 7.96l-1.37-1.37c-.4-.4-.92-.59-1.43-.59-.52 0-1.04.2-1.43.59L10.3 9.45l-7.72 7.72c-.78.78-.78 2.05 0 2.83L4 21.41c.39.39.9.59 1.41.59.51 0 1.02-.2 1.41-.59l7.78-7.78 2.81-2.81c.8-.78.8-2.07 0-2.86zM5.41 20L4 18.59l7.72-7.72 1.47 1.35L5.41 20z\"/>\n",
              "  </svg>\n",
              "      </button>\n",
              "      \n",
              "  <style>\n",
              "    .colab-df-container {\n",
              "      display:flex;\n",
              "      flex-wrap:wrap;\n",
              "      gap: 12px;\n",
              "    }\n",
              "\n",
              "    .colab-df-convert {\n",
              "      background-color: #E8F0FE;\n",
              "      border: none;\n",
              "      border-radius: 50%;\n",
              "      cursor: pointer;\n",
              "      display: none;\n",
              "      fill: #1967D2;\n",
              "      height: 32px;\n",
              "      padding: 0 0 0 0;\n",
              "      width: 32px;\n",
              "    }\n",
              "\n",
              "    .colab-df-convert:hover {\n",
              "      background-color: #E2EBFA;\n",
              "      box-shadow: 0px 1px 2px rgba(60, 64, 67, 0.3), 0px 1px 3px 1px rgba(60, 64, 67, 0.15);\n",
              "      fill: #174EA6;\n",
              "    }\n",
              "\n",
              "    [theme=dark] .colab-df-convert {\n",
              "      background-color: #3B4455;\n",
              "      fill: #D2E3FC;\n",
              "    }\n",
              "\n",
              "    [theme=dark] .colab-df-convert:hover {\n",
              "      background-color: #434B5C;\n",
              "      box-shadow: 0px 1px 3px 1px rgba(0, 0, 0, 0.15);\n",
              "      filter: drop-shadow(0px 1px 2px rgba(0, 0, 0, 0.3));\n",
              "      fill: #FFFFFF;\n",
              "    }\n",
              "  </style>\n",
              "\n",
              "      <script>\n",
              "        const buttonEl =\n",
              "          document.querySelector('#df-5c72034f-e38f-47c9-8ac8-4d2475183cdf button.colab-df-convert');\n",
              "        buttonEl.style.display =\n",
              "          google.colab.kernel.accessAllowed ? 'block' : 'none';\n",
              "\n",
              "        async function convertToInteractive(key) {\n",
              "          const element = document.querySelector('#df-5c72034f-e38f-47c9-8ac8-4d2475183cdf');\n",
              "          const dataTable =\n",
              "            await google.colab.kernel.invokeFunction('convertToInteractive',\n",
              "                                                     [key], {});\n",
              "          if (!dataTable) return;\n",
              "\n",
              "          const docLinkHtml = 'Like what you see? Visit the ' +\n",
              "            '<a target=\"_blank\" href=https://colab.research.google.com/notebooks/data_table.ipynb>data table notebook</a>'\n",
              "            + ' to learn more about interactive tables.';\n",
              "          element.innerHTML = '';\n",
              "          dataTable['output_type'] = 'display_data';\n",
              "          await google.colab.output.renderOutput(dataTable, element);\n",
              "          const docLink = document.createElement('div');\n",
              "          docLink.innerHTML = docLinkHtml;\n",
              "          element.appendChild(docLink);\n",
              "        }\n",
              "      </script>\n",
              "    </div>\n",
              "  </div>\n",
              "  "
            ]
          },
          "metadata": {},
          "execution_count": 30
        }
      ]
    },
    {
      "cell_type": "code",
      "source": [
        "# 일별 수익률 계싼\n",
        "returns = 100 * df['Adj Close'].pct_change().dropna()"
      ],
      "metadata": {
        "id": "m3gTDPMl6EYs"
      },
      "execution_count": null,
      "outputs": []
    },
    {
      "cell_type": "code",
      "source": [
        "returns.plot(subplots=True, title=f'Stock returns: {START_DATE} - {END_DATE}')"
      ],
      "metadata": {
        "colab": {
          "base_uri": "https://localhost:8080/",
          "height": 377
        },
        "id": "Ec83OZMq6Uq7",
        "outputId": "a1865970-1663-41d7-bacf-ee40b31a7ce0"
      },
      "execution_count": null,
      "outputs": [
        {
          "output_type": "execute_result",
          "data": {
            "text/plain": [
              "array([<matplotlib.axes._subplots.AxesSubplot object at 0x7fc6f9da4a10>,\n",
              "       <matplotlib.axes._subplots.AxesSubplot object at 0x7fc6fa42f990>,\n",
              "       <matplotlib.axes._subplots.AxesSubplot object at 0x7fc6f9cfeb10>],\n",
              "      dtype=object)"
            ]
          },
          "metadata": {},
          "execution_count": 32
        },
        {
          "output_type": "display_data",
          "data": {
            "text/plain": [
              "<Figure size 432x288 with 3 Axes>"
            ],
            "image/png": "[encoded data removed]"
          },
          "metadata": {
            "needs_background": "light"
          }
        }
      ]
    },
    {
      "cell_type": "code",
      "source": [
        "# 객체 \n",
        "coeffs = []\n",
        "cond_vol = []\n",
        "std_resids = []\n",
        "models = []"
      ],
      "metadata": {
        "id": "E6fU--X96fXP"
      },
      "execution_count": null,
      "outputs": []
    },
    {
      "cell_type": "code",
      "source": [
        "# 단변량 GARCH 모델 추정\n",
        "for asset in returns.columns:\n",
        "\n",
        "    model = arch_model(returns[asset], \n",
        "                       mean='Constant', \n",
        "                       vol='GARCH', \n",
        "                       p=1, o=0, q=1)\\\n",
        "                       .fit(update_freq=0, disp='off');\n",
        "\n",
        "    coeffs.append(model.params)\n",
        "    cond_vol.append(model.conditional_volatility)\n",
        "    std_resids.append(model.resid / model.conditional_volatility)\n",
        "    models.append(model)"
      ],
      "metadata": {
        "id": "32WDhA50_Gnr"
      },
      "execution_count": null,
      "outputs": []
    },
    {
      "cell_type": "code",
      "source": [
        "# 결과를 데이터프레임에 저장\n",
        "coeffs_df = pd.DataFrame(coeffs, index=returns.columns)\n",
        "cond_vol_df = pd.DataFrame(cond_vol).transpose() \\\n",
        "                                    .set_axis(returns.columns, \n",
        "                                              axis='columns', \n",
        "                                              inplace=False)\n",
        "                                    \n",
        "std_resids_df = pd.DataFrame(std_resids).transpose() \\\n",
        "                                        .set_axis(returns.columns, \n",
        "                                                  axis='columns', \n",
        "                                                  inplace=False)"
      ],
      "metadata": {
        "id": "HQeJZGxJ_-f9"
      },
      "execution_count": null,
      "outputs": []
    },
    {
      "cell_type": "code",
      "source": [
        "display(coeffs_df,\n",
        "        cond_vol_df.head(),\n",
        "        std_resids_df.head())"
      ],
      "metadata": {
        "colab": {
          "base_uri": "https://localhost:8080/",
          "height": 584
        },
        "id": "sYlSPZduAunl",
        "outputId": "bd0eced6-dc5e-4424-d333-0f3256ca5a33"
      },
      "execution_count": null,
      "outputs": [
        {
          "output_type": "display_data",
          "data": {
            "text/plain": [
              "            mu     omega  alpha[1]   beta[1]\n",
              "AAPL  0.254936  0.183080  0.158466  0.803953\n",
              "GOOG  0.153435  0.318013  0.111038  0.789135\n",
              "MSFT  0.190414  0.161561  0.196500  0.756290"
            ],
            "text/html": [
              "\n",
              "  <div id=\"df-df8ee956-ef95-4f07-9faa-7f0f40db55c2\">\n",
              "    <div class=\"colab-df-container\">\n",
              "      <div>\n",
              "<style scoped>\n",
              "    .dataframe tbody tr th:only-of-type {\n",
              "        vertical-align: middle;\n",
              "    }\n",
              "\n",
              "    .dataframe tbody tr th {\n",
              "        vertical-align: top;\n",
              "    }\n",
              "\n",
              "    .dataframe thead th {\n",
              "        text-align: right;\n",
              "    }\n",
              "</style>\n",
              "<table border=\"1\" class=\"dataframe\">\n",
              "  <thead>\n",
              "    <tr style=\"text-align: right;\">\n",
              "      <th></th>\n",
              "      <th>mu</th>\n",
              "      <th>omega</th>\n",
              "      <th>alpha[1]</th>\n",
              "      <th>beta[1]</th>\n",
              "    </tr>\n",
              "  </thead>\n",
              "  <tbody>\n",
              "    <tr>\n",
              "      <th>AAPL</th>\n",
              "      <td>0.254936</td>\n",
              "      <td>0.183080</td>\n",
              "      <td>0.158466</td>\n",
              "      <td>0.803953</td>\n",
              "    </tr>\n",
              "    <tr>\n",
              "      <th>GOOG</th>\n",
              "      <td>0.153435</td>\n",
              "      <td>0.318013</td>\n",
              "      <td>0.111038</td>\n",
              "      <td>0.789135</td>\n",
              "    </tr>\n",
              "    <tr>\n",
              "      <th>MSFT</th>\n",
              "      <td>0.190414</td>\n",
              "      <td>0.161561</td>\n",
              "      <td>0.196500</td>\n",
              "      <td>0.756290</td>\n",
              "    </tr>\n",
              "  </tbody>\n",
              "</table>\n",
              "</div>\n",
              "      <button class=\"colab-df-convert\" onclick=\"convertToInteractive('df-df8ee956-ef95-4f07-9faa-7f0f40db55c2')\"\n",
              "              title=\"Convert this dataframe to an interactive table.\"\n",
              "              style=\"display:none;\">\n",
              "        \n",
              "  <svg xmlns=\"http://www.w3.org/2000/svg\" height=\"24px\"viewBox=\"0 0 24 24\"\n",
              "       width=\"24px\">\n",
              "    <path d=\"M0 0h24v24H0V0z\" fill=\"none\"/>\n",
              "    <path d=\"M18.56 5.44l.94 2.06.94-2.06 2.06-.94-2.06-.94-.94-2.06-.94 2.06-2.06.94zm-11 1L8.5 8.5l.94-2.06 2.06-.94-2.06-.94L8.5 2.5l-.94 2.06-2.06.94zm10 10l.94 2.06.94-2.06 2.06-.94-2.06-.94-.94-2.06-.94 2.06-2.06.94z\"/><path d=\"M17.41 7.96l-1.37-1.37c-.4-.4-.92-.59-1.43-.59-.52 0-1.04.2-1.43.59L10.3 9.45l-7.72 7.72c-.78.78-.78 2.05 0 2.83L4 21.41c.39.39.9.59 1.41.59.51 0 1.02-.2 1.41-.59l7.78-7.78 2.81-2.81c.8-.78.8-2.07 0-2.86zM5.41 20L4 18.59l7.72-7.72 1.47 1.35L5.41 20z\"/>\n",
              "  </svg>\n",
              "      </button>\n",
              "      \n",
              "  <style>\n",
              "    .colab-df-container {\n",
              "      display:flex;\n",
              "      flex-wrap:wrap;\n",
              "      gap: 12px;\n",
              "    }\n",
              "\n",
              "    .colab-df-convert {\n",
              "      background-color: #E8F0FE;\n",
              "      border: none;\n",
              "      border-radius: 50%;\n",
              "      cursor: pointer;\n",
              "      display: none;\n",
              "      fill: #1967D2;\n",
              "      height: 32px;\n",
              "      padding: 0 0 0 0;\n",
              "      width: 32px;\n",
              "    }\n",
              "\n",
              "    .colab-df-convert:hover {\n",
              "      background-color: #E2EBFA;\n",
              "      box-shadow: 0px 1px 2px rgba(60, 64, 67, 0.3), 0px 1px 3px 1px rgba(60, 64, 67, 0.15);\n",
              "      fill: #174EA6;\n",
              "    }\n",
              "\n",
              "    [theme=dark] .colab-df-convert {\n",
              "      background-color: #3B4455;\n",
              "      fill: #D2E3FC;\n",
              "    }\n",
              "\n",
              "    [theme=dark] .colab-df-convert:hover {\n",
              "      background-color: #434B5C;\n",
              "      box-shadow: 0px 1px 3px 1px rgba(0, 0, 0, 0.15);\n",
              "      filter: drop-shadow(0px 1px 2px rgba(0, 0, 0, 0.3));\n",
              "      fill: #FFFFFF;\n",
              "    }\n",
              "  </style>\n",
              "\n",
              "      <script>\n",
              "        const buttonEl =\n",
              "          document.querySelector('#df-df8ee956-ef95-4f07-9faa-7f0f40db55c2 button.colab-df-convert');\n",
              "        buttonEl.style.display =\n",
              "          google.colab.kernel.accessAllowed ? 'block' : 'none';\n",
              "\n",
              "        async function convertToInteractive(key) {\n",
              "          const element = document.querySelector('#df-df8ee956-ef95-4f07-9faa-7f0f40db55c2');\n",
              "          const dataTable =\n",
              "            await google.colab.kernel.invokeFunction('convertToInteractive',\n",
              "                                                     [key], {});\n",
              "          if (!dataTable) return;\n",
              "\n",
              "          const docLinkHtml = 'Like what you see? Visit the ' +\n",
              "            '<a target=\"_blank\" href=https://colab.research.google.com/notebooks/data_table.ipynb>data table notebook</a>'\n",
              "            + ' to learn more about interactive tables.';\n",
              "          element.innerHTML = '';\n",
              "          dataTable['output_type'] = 'display_data';\n",
              "          await google.colab.output.renderOutput(dataTable, element);\n",
              "          const docLink = document.createElement('div');\n",
              "          docLink.innerHTML = docLinkHtml;\n",
              "          element.appendChild(docLink);\n",
              "        }\n",
              "      </script>\n",
              "    </div>\n",
              "  </div>\n",
              "  "
            ]
          },
          "metadata": {}
        },
        {
          "output_type": "display_data",
          "data": {
            "text/plain": [
              "                AAPL      GOOG      MSFT\n",
              "Date                                    \n",
              "2018-01-03  1.434090  1.580788  1.555686\n",
              "2018-01-04  1.359506  1.592417  1.416600\n",
              "2018-01-05  1.294585  1.524445  1.331439\n",
              "2018-01-08  1.286151  1.529910  1.310974\n",
              "2018-01-09  1.255044  1.474249  1.209502"
            ],
            "text/html": [
              "\n",
              "  <div id=\"df-0f3e0e8c-e245-4a33-a7fd-69e2d15f9d74\">\n",
              "    <div class=\"colab-df-container\">\n",
              "      <div>\n",
              "<style scoped>\n",
              "    .dataframe tbody tr th:only-of-type {\n",
              "        vertical-align: middle;\n",
              "    }\n",
              "\n",
              "    .dataframe tbody tr th {\n",
              "        vertical-align: top;\n",
              "    }\n",
              "\n",
              "    .dataframe thead th {\n",
              "        text-align: right;\n",
              "    }\n",
              "</style>\n",
              "<table border=\"1\" class=\"dataframe\">\n",
              "  <thead>\n",
              "    <tr style=\"text-align: right;\">\n",
              "      <th></th>\n",
              "      <th>AAPL</th>\n",
              "      <th>GOOG</th>\n",
              "      <th>MSFT</th>\n",
              "    </tr>\n",
              "    <tr>\n",
              "      <th>Date</th>\n",
              "      <th></th>\n",
              "      <th></th>\n",
              "      <th></th>\n",
              "    </tr>\n",
              "  </thead>\n",
              "  <tbody>\n",
              "    <tr>\n",
              "      <th>2018-01-03</th>\n",
              "      <td>1.434090</td>\n",
              "      <td>1.580788</td>\n",
              "      <td>1.555686</td>\n",
              "    </tr>\n",
              "    <tr>\n",
              "      <th>2018-01-04</th>\n",
              "      <td>1.359506</td>\n",
              "      <td>1.592417</td>\n",
              "      <td>1.416600</td>\n",
              "    </tr>\n",
              "    <tr>\n",
              "      <th>2018-01-05</th>\n",
              "      <td>1.294585</td>\n",
              "      <td>1.524445</td>\n",
              "      <td>1.331439</td>\n",
              "    </tr>\n",
              "    <tr>\n",
              "      <th>2018-01-08</th>\n",
              "      <td>1.286151</td>\n",
              "      <td>1.529910</td>\n",
              "      <td>1.310974</td>\n",
              "    </tr>\n",
              "    <tr>\n",
              "      <th>2018-01-09</th>\n",
              "      <td>1.255044</td>\n",
              "      <td>1.474249</td>\n",
              "      <td>1.209502</td>\n",
              "    </tr>\n",
              "  </tbody>\n",
              "</table>\n",
              "</div>\n",
              "      <button class=\"colab-df-convert\" onclick=\"convertToInteractive('df-0f3e0e8c-e245-4a33-a7fd-69e2d15f9d74')\"\n",
              "              title=\"Convert this dataframe to an interactive table.\"\n",
              "              style=\"display:none;\">\n",
              "        \n",
              "  <svg xmlns=\"http://www.w3.org/2000/svg\" height=\"24px\"viewBox=\"0 0 24 24\"\n",
              "       width=\"24px\">\n",
              "    <path d=\"M0 0h24v24H0V0z\" fill=\"none\"/>\n",
              "    <path d=\"M18.56 5.44l.94 2.06.94-2.06 2.06-.94-2.06-.94-.94-2.06-.94 2.06-2.06.94zm-11 1L8.5 8.5l.94-2.06 2.06-.94-2.06-.94L8.5 2.5l-.94 2.06-2.06.94zm10 10l.94 2.06.94-2.06 2.06-.94-2.06-.94-.94-2.06-.94 2.06-2.06.94z\"/><path d=\"M17.41 7.96l-1.37-1.37c-.4-.4-.92-.59-1.43-.59-.52 0-1.04.2-1.43.59L10.3 9.45l-7.72 7.72c-.78.78-.78 2.05 0 2.83L4 21.41c.39.39.9.59 1.41.59.51 0 1.02-.2 1.41-.59l7.78-7.78 2.81-2.81c.8-.78.8-2.07 0-2.86zM5.41 20L4 18.59l7.72-7.72 1.47 1.35L5.41 20z\"/>\n",
              "  </svg>\n",
              "      </button>\n",
              "      \n",
              "  <style>\n",
              "    .colab-df-container {\n",
              "      display:flex;\n",
              "      flex-wrap:wrap;\n",
              "      gap: 12px;\n",
              "    }\n",
              "\n",
              "    .colab-df-convert {\n",
              "      background-color: #E8F0FE;\n",
              "      border: none;\n",
              "      border-radius: 50%;\n",
              "      cursor: pointer;\n",
              "      display: none;\n",
              "      fill: #1967D2;\n",
              "      height: 32px;\n",
              "      padding: 0 0 0 0;\n",
              "      width: 32px;\n",
              "    }\n",
              "\n",
              "    .colab-df-convert:hover {\n",
              "      background-color: #E2EBFA;\n",
              "      box-shadow: 0px 1px 2px rgba(60, 64, 67, 0.3), 0px 1px 3px 1px rgba(60, 64, 67, 0.15);\n",
              "      fill: #174EA6;\n",
              "    }\n",
              "\n",
              "    [theme=dark] .colab-df-convert {\n",
              "      background-color: #3B4455;\n",
              "      fill: #D2E3FC;\n",
              "    }\n",
              "\n",
              "    [theme=dark] .colab-df-convert:hover {\n",
              "      background-color: #434B5C;\n",
              "      box-shadow: 0px 1px 3px 1px rgba(0, 0, 0, 0.15);\n",
              "      filter: drop-shadow(0px 1px 2px rgba(0, 0, 0, 0.3));\n",
              "      fill: #FFFFFF;\n",
              "    }\n",
              "  </style>\n",
              "\n",
              "      <script>\n",
              "        const buttonEl =\n",
              "          document.querySelector('#df-0f3e0e8c-e245-4a33-a7fd-69e2d15f9d74 button.colab-df-convert');\n",
              "        buttonEl.style.display =\n",
              "          google.colab.kernel.accessAllowed ? 'block' : 'none';\n",
              "\n",
              "        async function convertToInteractive(key) {\n",
              "          const element = document.querySelector('#df-0f3e0e8c-e245-4a33-a7fd-69e2d15f9d74');\n",
              "          const dataTable =\n",
              "            await google.colab.kernel.invokeFunction('convertToInteractive',\n",
              "                                                     [key], {});\n",
              "          if (!dataTable) return;\n",
              "\n",
              "          const docLinkHtml = 'Like what you see? Visit the ' +\n",
              "            '<a target=\"_blank\" href=https://colab.research.google.com/notebooks/data_table.ipynb>data table notebook</a>'\n",
              "            + ' to learn more about interactive tables.';\n",
              "          element.innerHTML = '';\n",
              "          dataTable['output_type'] = 'display_data';\n",
              "          await google.colab.output.renderOutput(dataTable, element);\n",
              "          const docLink = document.createElement('div');\n",
              "          docLink.innerHTML = docLinkHtml;\n",
              "          element.appendChild(docLink);\n",
              "        }\n",
              "      </script>\n",
              "    </div>\n",
              "  </div>\n",
              "  "
            ]
          },
          "metadata": {}
        },
        {
          "output_type": "display_data",
          "data": {
            "text/plain": [
              "                AAPL      GOOG      MSFT\n",
              "Date                                    \n",
              "2018-01-03 -0.189908  0.941227  0.176740\n",
              "2018-01-04  0.154149  0.131055  0.486890\n",
              "2018-01-05  0.682528  0.855178  0.788172\n",
              "2018-01-08 -0.487007  0.179018 -0.067400\n",
              "2018-01-09 -0.212266 -0.145746 -0.213628"
            ],
            "text/html": [
              "\n",
              "  <div id=\"df-cf6fccff-7a22-4700-94b7-bab2007c7dd8\">\n",
              "    <div class=\"colab-df-container\">\n",
              "      <div>\n",
              "<style scoped>\n",
              "    .dataframe tbody tr th:only-of-type {\n",
              "        vertical-align: middle;\n",
              "    }\n",
              "\n",
              "    .dataframe tbody tr th {\n",
              "        vertical-align: top;\n",
              "    }\n",
              "\n",
              "    .dataframe thead th {\n",
              "        text-align: right;\n",
              "    }\n",
              "</style>\n",
              "<table border=\"1\" class=\"dataframe\">\n",
              "  <thead>\n",
              "    <tr style=\"text-align: right;\">\n",
              "      <th></th>\n",
              "      <th>AAPL</th>\n",
              "      <th>GOOG</th>\n",
              "      <th>MSFT</th>\n",
              "    </tr>\n",
              "    <tr>\n",
              "      <th>Date</th>\n",
              "      <th></th>\n",
              "      <th></th>\n",
              "      <th></th>\n",
              "    </tr>\n",
              "  </thead>\n",
              "  <tbody>\n",
              "    <tr>\n",
              "      <th>2018-01-03</th>\n",
              "      <td>-0.189908</td>\n",
              "      <td>0.941227</td>\n",
              "      <td>0.176740</td>\n",
              "    </tr>\n",
              "    <tr>\n",
              "      <th>2018-01-04</th>\n",
              "      <td>0.154149</td>\n",
              "      <td>0.131055</td>\n",
              "      <td>0.486890</td>\n",
              "    </tr>\n",
              "    <tr>\n",
              "      <th>2018-01-05</th>\n",
              "      <td>0.682528</td>\n",
              "      <td>0.855178</td>\n",
              "      <td>0.788172</td>\n",
              "    </tr>\n",
              "    <tr>\n",
              "      <th>2018-01-08</th>\n",
              "      <td>-0.487007</td>\n",
              "      <td>0.179018</td>\n",
              "      <td>-0.067400</td>\n",
              "    </tr>\n",
              "    <tr>\n",
              "      <th>2018-01-09</th>\n",
              "      <td>-0.212266</td>\n",
              "      <td>-0.145746</td>\n",
              "      <td>-0.213628</td>\n",
              "    </tr>\n",
              "  </tbody>\n",
              "</table>\n",
              "</div>\n",
              "      <button class=\"colab-df-convert\" onclick=\"convertToInteractive('df-cf6fccff-7a22-4700-94b7-bab2007c7dd8')\"\n",
              "              title=\"Convert this dataframe to an interactive table.\"\n",
              "              style=\"display:none;\">\n",
              "        \n",
              "  <svg xmlns=\"http://www.w3.org/2000/svg\" height=\"24px\"viewBox=\"0 0 24 24\"\n",
              "       width=\"24px\">\n",
              "    <path d=\"M0 0h24v24H0V0z\" fill=\"none\"/>\n",
              "    <path d=\"M18.56 5.44l.94 2.06.94-2.06 2.06-.94-2.06-.94-.94-2.06-.94 2.06-2.06.94zm-11 1L8.5 8.5l.94-2.06 2.06-.94-2.06-.94L8.5 2.5l-.94 2.06-2.06.94zm10 10l.94 2.06.94-2.06 2.06-.94-2.06-.94-.94-2.06-.94 2.06-2.06.94z\"/><path d=\"M17.41 7.96l-1.37-1.37c-.4-.4-.92-.59-1.43-.59-.52 0-1.04.2-1.43.59L10.3 9.45l-7.72 7.72c-.78.78-.78 2.05 0 2.83L4 21.41c.39.39.9.59 1.41.59.51 0 1.02-.2 1.41-.59l7.78-7.78 2.81-2.81c.8-.78.8-2.07 0-2.86zM5.41 20L4 18.59l7.72-7.72 1.47 1.35L5.41 20z\"/>\n",
              "  </svg>\n",
              "      </button>\n",
              "      \n",
              "  <style>\n",
              "    .colab-df-container {\n",
              "      display:flex;\n",
              "      flex-wrap:wrap;\n",
              "      gap: 12px;\n",
              "    }\n",
              "\n",
              "    .colab-df-convert {\n",
              "      background-color: #E8F0FE;\n",
              "      border: none;\n",
              "      border-radius: 50%;\n",
              "      cursor: pointer;\n",
              "      display: none;\n",
              "      fill: #1967D2;\n",
              "      height: 32px;\n",
              "      padding: 0 0 0 0;\n",
              "      width: 32px;\n",
              "    }\n",
              "\n",
              "    .colab-df-convert:hover {\n",
              "      background-color: #E2EBFA;\n",
              "      box-shadow: 0px 1px 2px rgba(60, 64, 67, 0.3), 0px 1px 3px 1px rgba(60, 64, 67, 0.15);\n",
              "      fill: #174EA6;\n",
              "    }\n",
              "\n",
              "    [theme=dark] .colab-df-convert {\n",
              "      background-color: #3B4455;\n",
              "      fill: #D2E3FC;\n",
              "    }\n",
              "\n",
              "    [theme=dark] .colab-df-convert:hover {\n",
              "      background-color: #434B5C;\n",
              "      box-shadow: 0px 1px 3px 1px rgba(0, 0, 0, 0.15);\n",
              "      filter: drop-shadow(0px 1px 2px rgba(0, 0, 0, 0.3));\n",
              "      fill: #FFFFFF;\n",
              "    }\n",
              "  </style>\n",
              "\n",
              "      <script>\n",
              "        const buttonEl =\n",
              "          document.querySelector('#df-cf6fccff-7a22-4700-94b7-bab2007c7dd8 button.colab-df-convert');\n",
              "        buttonEl.style.display =\n",
              "          google.colab.kernel.accessAllowed ? 'block' : 'none';\n",
              "\n",
              "        async function convertToInteractive(key) {\n",
              "          const element = document.querySelector('#df-cf6fccff-7a22-4700-94b7-bab2007c7dd8');\n",
              "          const dataTable =\n",
              "            await google.colab.kernel.invokeFunction('convertToInteractive',\n",
              "                                                     [key], {});\n",
              "          if (!dataTable) return;\n",
              "\n",
              "          const docLinkHtml = 'Like what you see? Visit the ' +\n",
              "            '<a target=\"_blank\" href=https://colab.research.google.com/notebooks/data_table.ipynb>data table notebook</a>'\n",
              "            + ' to learn more about interactive tables.';\n",
              "          element.innerHTML = '';\n",
              "          dataTable['output_type'] = 'display_data';\n",
              "          await google.colab.output.renderOutput(dataTable, element);\n",
              "          const docLink = document.createElement('div');\n",
              "          docLink.innerHTML = docLinkHtml;\n",
              "          element.appendChild(docLink);\n",
              "        }\n",
              "      </script>\n",
              "    </div>\n",
              "  </div>\n",
              "  "
            ]
          },
          "metadata": {}
        }
      ]
    },
    {
      "cell_type": "code",
      "source": [
        "# 상수 조건부 상관관계 행렬 계산\n",
        "R = std_resids_df.transpose() \\\n",
        "                 .dot(std_resids_df) \\\n",
        "                 .div(len(std_resids_df))"
      ],
      "metadata": {
        "id": "gbk1XQLpBo_n"
      },
      "execution_count": null,
      "outputs": []
    },
    {
      "cell_type": "code",
      "source": [
        "R"
      ],
      "metadata": {
        "colab": {
          "base_uri": "https://localhost:8080/",
          "height": 143
        },
        "id": "M5qTxyOBB5Qr",
        "outputId": "ea30cb16-eb1b-4324-c83c-b7f6816fd776"
      },
      "execution_count": null,
      "outputs": [
        {
          "output_type": "execute_result",
          "data": {
            "text/plain": [
              "          AAPL      GOOG      MSFT\n",
              "AAPL  0.996654  0.582191  0.629925\n",
              "GOOG  0.582191  0.997600  0.704764\n",
              "MSFT  0.629925  0.704764  0.997585"
            ],
            "text/html": [
              "\n",
              "  <div id=\"df-ae68afc4-6632-4477-9464-5a889549d843\">\n",
              "    <div class=\"colab-df-container\">\n",
              "      <div>\n",
              "<style scoped>\n",
              "    .dataframe tbody tr th:only-of-type {\n",
              "        vertical-align: middle;\n",
              "    }\n",
              "\n",
              "    .dataframe tbody tr th {\n",
              "        vertical-align: top;\n",
              "    }\n",
              "\n",
              "    .dataframe thead th {\n",
              "        text-align: right;\n",
              "    }\n",
              "</style>\n",
              "<table border=\"1\" class=\"dataframe\">\n",
              "  <thead>\n",
              "    <tr style=\"text-align: right;\">\n",
              "      <th></th>\n",
              "      <th>AAPL</th>\n",
              "      <th>GOOG</th>\n",
              "      <th>MSFT</th>\n",
              "    </tr>\n",
              "  </thead>\n",
              "  <tbody>\n",
              "    <tr>\n",
              "      <th>AAPL</th>\n",
              "      <td>0.996654</td>\n",
              "      <td>0.582191</td>\n",
              "      <td>0.629925</td>\n",
              "    </tr>\n",
              "    <tr>\n",
              "      <th>GOOG</th>\n",
              "      <td>0.582191</td>\n",
              "      <td>0.997600</td>\n",
              "      <td>0.704764</td>\n",
              "    </tr>\n",
              "    <tr>\n",
              "      <th>MSFT</th>\n",
              "      <td>0.629925</td>\n",
              "      <td>0.704764</td>\n",
              "      <td>0.997585</td>\n",
              "    </tr>\n",
              "  </tbody>\n",
              "</table>\n",
              "</div>\n",
              "      <button class=\"colab-df-convert\" onclick=\"convertToInteractive('df-ae68afc4-6632-4477-9464-5a889549d843')\"\n",
              "              title=\"Convert this dataframe to an interactive table.\"\n",
              "              style=\"display:none;\">\n",
              "        \n",
              "  <svg xmlns=\"http://www.w3.org/2000/svg\" height=\"24px\"viewBox=\"0 0 24 24\"\n",
              "       width=\"24px\">\n",
              "    <path d=\"M0 0h24v24H0V0z\" fill=\"none\"/>\n",
              "    <path d=\"M18.56 5.44l.94 2.06.94-2.06 2.06-.94-2.06-.94-.94-2.06-.94 2.06-2.06.94zm-11 1L8.5 8.5l.94-2.06 2.06-.94-2.06-.94L8.5 2.5l-.94 2.06-2.06.94zm10 10l.94 2.06.94-2.06 2.06-.94-2.06-.94-.94-2.06-.94 2.06-2.06.94z\"/><path d=\"M17.41 7.96l-1.37-1.37c-.4-.4-.92-.59-1.43-.59-.52 0-1.04.2-1.43.59L10.3 9.45l-7.72 7.72c-.78.78-.78 2.05 0 2.83L4 21.41c.39.39.9.59 1.41.59.51 0 1.02-.2 1.41-.59l7.78-7.78 2.81-2.81c.8-.78.8-2.07 0-2.86zM5.41 20L4 18.59l7.72-7.72 1.47 1.35L5.41 20z\"/>\n",
              "  </svg>\n",
              "      </button>\n",
              "      \n",
              "  <style>\n",
              "    .colab-df-container {\n",
              "      display:flex;\n",
              "      flex-wrap:wrap;\n",
              "      gap: 12px;\n",
              "    }\n",
              "\n",
              "    .colab-df-convert {\n",
              "      background-color: #E8F0FE;\n",
              "      border: none;\n",
              "      border-radius: 50%;\n",
              "      cursor: pointer;\n",
              "      display: none;\n",
              "      fill: #1967D2;\n",
              "      height: 32px;\n",
              "      padding: 0 0 0 0;\n",
              "      width: 32px;\n",
              "    }\n",
              "\n",
              "    .colab-df-convert:hover {\n",
              "      background-color: #E2EBFA;\n",
              "      box-shadow: 0px 1px 2px rgba(60, 64, 67, 0.3), 0px 1px 3px 1px rgba(60, 64, 67, 0.15);\n",
              "      fill: #174EA6;\n",
              "    }\n",
              "\n",
              "    [theme=dark] .colab-df-convert {\n",
              "      background-color: #3B4455;\n",
              "      fill: #D2E3FC;\n",
              "    }\n",
              "\n",
              "    [theme=dark] .colab-df-convert:hover {\n",
              "      background-color: #434B5C;\n",
              "      box-shadow: 0px 1px 3px 1px rgba(0, 0, 0, 0.15);\n",
              "      filter: drop-shadow(0px 1px 2px rgba(0, 0, 0, 0.3));\n",
              "      fill: #FFFFFF;\n",
              "    }\n",
              "  </style>\n",
              "\n",
              "      <script>\n",
              "        const buttonEl =\n",
              "          document.querySelector('#df-ae68afc4-6632-4477-9464-5a889549d843 button.colab-df-convert');\n",
              "        buttonEl.style.display =\n",
              "          google.colab.kernel.accessAllowed ? 'block' : 'none';\n",
              "\n",
              "        async function convertToInteractive(key) {\n",
              "          const element = document.querySelector('#df-ae68afc4-6632-4477-9464-5a889549d843');\n",
              "          const dataTable =\n",
              "            await google.colab.kernel.invokeFunction('convertToInteractive',\n",
              "                                                     [key], {});\n",
              "          if (!dataTable) return;\n",
              "\n",
              "          const docLinkHtml = 'Like what you see? Visit the ' +\n",
              "            '<a target=\"_blank\" href=https://colab.research.google.com/notebooks/data_table.ipynb>data table notebook</a>'\n",
              "            + ' to learn more about interactive tables.';\n",
              "          element.innerHTML = '';\n",
              "          dataTable['output_type'] = 'display_data';\n",
              "          await google.colab.output.renderOutput(dataTable, element);\n",
              "          const docLink = document.createElement('div');\n",
              "          docLink.innerHTML = docLinkHtml;\n",
              "          element.appendChild(docLink);\n",
              "        }\n",
              "      </script>\n",
              "    </div>\n",
              "  </div>\n",
              "  "
            ]
          },
          "metadata": {},
          "execution_count": 43
        }
      ]
    },
    {
      "cell_type": "code",
      "source": [
        "# 조건부 공분산의 1단계 - 신헝 예측을 계산\n",
        "diag = []\n",
        "D = np.zeros((N, N))\n",
        "\n",
        "for model in models:\n",
        "    diag.append(model.forecast(horizon=1).variance.values[-1][0])\n",
        "\n",
        "diag = np.sqrt(np.array(diag))\n",
        "\n",
        "np.fill_diagonal(D, diag)\n",
        "\n",
        "H = np.matmul(np.matmul(D, R.values), D)"
      ],
      "metadata": {
        "colab": {
          "base_uri": "https://localhost:8080/"
        },
        "id": "3fBIYegjCGsX",
        "outputId": "901f5272-2f33-487b-fed5-d1bf65720ac1"
      },
      "execution_count": null,
      "outputs": [
        {
          "output_type": "stream",
          "name": "stderr",
          "text": [
            "/usr/local/lib/python3.7/dist-packages/arch/__future__/_utility.py:21: FutureWarning: \n",
            "The default for reindex is True. After September 2021 this will change to\n",
            "False. Set reindex to True or False to silence this message. Alternatively,\n",
            "you can use the import comment\n",
            "\n",
            "from arch.__future__ import reindexing\n",
            "\n",
            "to globally set reindex to True and silence this warning.\n",
            "\n",
            "  FutureWarning,\n"
          ]
        }
      ]
    },
    {
      "cell_type": "code",
      "source": [
        "H"
      ],
      "metadata": {
        "colab": {
          "base_uri": "https://localhost:8080/"
        },
        "id": "HoRFoFG8CW3L",
        "outputId": "9db13536-3da2-46a7-b507-88bfc25cef19"
      },
      "execution_count": null,
      "outputs": [
        {
          "output_type": "execute_result",
          "data": {
            "text/plain": [
              "array([[2.52885642, 1.30375364, 1.41531877],\n",
              "       [1.30375364, 1.97168367, 1.39752384],\n",
              "       [1.41531877, 1.39752384, 1.98472589]])"
            ]
          },
          "metadata": {},
          "execution_count": 46
        }
      ]
    },
    {
      "cell_type": "code",
      "source": [
        "returns.to_csv('returns.csv', index=True)"
      ],
      "metadata": {
        "id": "RK90LrDoDF95"
      },
      "execution_count": null,
      "outputs": []
    },
    {
      "cell_type": "code",
      "source": [
        "r = pd.read_csv('/content/returns.csv')"
      ],
      "metadata": {
        "id": "D7mRS5Q5DHt0"
      },
      "execution_count": null,
      "outputs": []
    },
    {
      "cell_type": "code",
      "source": [
        "r"
      ],
      "metadata": {
        "colab": {
          "base_uri": "https://localhost:8080/",
          "height": 424
        },
        "id": "Utz5NDiYE9LL",
        "outputId": "a6944fc6-d9b4-4080-d119-905c04dab7e1"
      },
      "execution_count": null,
      "outputs": [
        {
          "output_type": "execute_result",
          "data": {
            "text/plain": [
              "            Date      AAPL      GOOG      MSFT\n",
              "0     2018-01-03 -0.017410  1.641316  0.465366\n",
              "1     2018-01-04  0.464502  0.362130  0.880142\n",
              "2     2018-01-05  1.138527  1.457106  1.239817\n",
              "3     2018-01-08 -0.371429  0.427316  0.102054\n",
              "4     2018-01-09 -0.011467 -0.061431 -0.067969\n",
              "...          ...       ...       ...       ...\n",
              "1001  2021-12-23  0.364380  0.131676  0.447176\n",
              "1002  2021-12-27  2.297490  0.626259  2.318570\n",
              "1003  2021-12-28 -0.576724 -1.091418 -0.350423\n",
              "1004  2021-12-29  0.050199  0.038582  0.205136\n",
              "1005  2021-12-30 -0.657823 -0.342651 -0.769126\n",
              "\n",
              "[1006 rows x 4 columns]"
            ],
            "text/html": [
              "\n",
              "  <div id=\"df-c5213769-da42-4733-8701-53a9f1b51c50\">\n",
              "    <div class=\"colab-df-container\">\n",
              "      <div>\n",
              "<style scoped>\n",
              "    .dataframe tbody tr th:only-of-type {\n",
              "        vertical-align: middle;\n",
              "    }\n",
              "\n",
              "    .dataframe tbody tr th {\n",
              "        vertical-align: top;\n",
              "    }\n",
              "\n",
              "    .dataframe thead th {\n",
              "        text-align: right;\n",
              "    }\n",
              "</style>\n",
              "<table border=\"1\" class=\"dataframe\">\n",
              "  <thead>\n",
              "    <tr style=\"text-align: right;\">\n",
              "      <th></th>\n",
              "      <th>Date</th>\n",
              "      <th>AAPL</th>\n",
              "      <th>GOOG</th>\n",
              "      <th>MSFT</th>\n",
              "    </tr>\n",
              "  </thead>\n",
              "  <tbody>\n",
              "    <tr>\n",
              "      <th>0</th>\n",
              "      <td>2018-01-03</td>\n",
              "      <td>-0.017410</td>\n",
              "      <td>1.641316</td>\n",
              "      <td>0.465366</td>\n",
              "    </tr>\n",
              "    <tr>\n",
              "      <th>1</th>\n",
              "      <td>2018-01-04</td>\n",
              "      <td>0.464502</td>\n",
              "      <td>0.362130</td>\n",
              "      <td>0.880142</td>\n",
              "    </tr>\n",
              "    <tr>\n",
              "      <th>2</th>\n",
              "      <td>2018-01-05</td>\n",
              "      <td>1.138527</td>\n",
              "      <td>1.457106</td>\n",
              "      <td>1.239817</td>\n",
              "    </tr>\n",
              "    <tr>\n",
              "      <th>3</th>\n",
              "      <td>2018-01-08</td>\n",
              "      <td>-0.371429</td>\n",
              "      <td>0.427316</td>\n",
              "      <td>0.102054</td>\n",
              "    </tr>\n",
              "    <tr>\n",
              "      <th>4</th>\n",
              "      <td>2018-01-09</td>\n",
              "      <td>-0.011467</td>\n",
              "      <td>-0.061431</td>\n",
              "      <td>-0.067969</td>\n",
              "    </tr>\n",
              "    <tr>\n",
              "      <th>...</th>\n",
              "      <td>...</td>\n",
              "      <td>...</td>\n",
              "      <td>...</td>\n",
              "      <td>...</td>\n",
              "    </tr>\n",
              "    <tr>\n",
              "      <th>1001</th>\n",
              "      <td>2021-12-23</td>\n",
              "      <td>0.364380</td>\n",
              "      <td>0.131676</td>\n",
              "      <td>0.447176</td>\n",
              "    </tr>\n",
              "    <tr>\n",
              "      <th>1002</th>\n",
              "      <td>2021-12-27</td>\n",
              "      <td>2.297490</td>\n",
              "      <td>0.626259</td>\n",
              "      <td>2.318570</td>\n",
              "    </tr>\n",
              "    <tr>\n",
              "      <th>1003</th>\n",
              "      <td>2021-12-28</td>\n",
              "      <td>-0.576724</td>\n",
              "      <td>-1.091418</td>\n",
              "      <td>-0.350423</td>\n",
              "    </tr>\n",
              "    <tr>\n",
              "      <th>1004</th>\n",
              "      <td>2021-12-29</td>\n",
              "      <td>0.050199</td>\n",
              "      <td>0.038582</td>\n",
              "      <td>0.205136</td>\n",
              "    </tr>\n",
              "    <tr>\n",
              "      <th>1005</th>\n",
              "      <td>2021-12-30</td>\n",
              "      <td>-0.657823</td>\n",
              "      <td>-0.342651</td>\n",
              "      <td>-0.769126</td>\n",
              "    </tr>\n",
              "  </tbody>\n",
              "</table>\n",
              "<p>1006 rows × 4 columns</p>\n",
              "</div>\n",
              "      <button class=\"colab-df-convert\" onclick=\"convertToInteractive('df-c5213769-da42-4733-8701-53a9f1b51c50')\"\n",
              "              title=\"Convert this dataframe to an interactive table.\"\n",
              "              style=\"display:none;\">\n",
              "        \n",
              "  <svg xmlns=\"http://www.w3.org/2000/svg\" height=\"24px\"viewBox=\"0 0 24 24\"\n",
              "       width=\"24px\">\n",
              "    <path d=\"M0 0h24v24H0V0z\" fill=\"none\"/>\n",
              "    <path d=\"M18.56 5.44l.94 2.06.94-2.06 2.06-.94-2.06-.94-.94-2.06-.94 2.06-2.06.94zm-11 1L8.5 8.5l.94-2.06 2.06-.94-2.06-.94L8.5 2.5l-.94 2.06-2.06.94zm10 10l.94 2.06.94-2.06 2.06-.94-2.06-.94-.94-2.06-.94 2.06-2.06.94z\"/><path d=\"M17.41 7.96l-1.37-1.37c-.4-.4-.92-.59-1.43-.59-.52 0-1.04.2-1.43.59L10.3 9.45l-7.72 7.72c-.78.78-.78 2.05 0 2.83L4 21.41c.39.39.9.59 1.41.59.51 0 1.02-.2 1.41-.59l7.78-7.78 2.81-2.81c.8-.78.8-2.07 0-2.86zM5.41 20L4 18.59l7.72-7.72 1.47 1.35L5.41 20z\"/>\n",
              "  </svg>\n",
              "      </button>\n",
              "      \n",
              "  <style>\n",
              "    .colab-df-container {\n",
              "      display:flex;\n",
              "      flex-wrap:wrap;\n",
              "      gap: 12px;\n",
              "    }\n",
              "\n",
              "    .colab-df-convert {\n",
              "      background-color: #E8F0FE;\n",
              "      border: none;\n",
              "      border-radius: 50%;\n",
              "      cursor: pointer;\n",
              "      display: none;\n",
              "      fill: #1967D2;\n",
              "      height: 32px;\n",
              "      padding: 0 0 0 0;\n",
              "      width: 32px;\n",
              "    }\n",
              "\n",
              "    .colab-df-convert:hover {\n",
              "      background-color: #E2EBFA;\n",
              "      box-shadow: 0px 1px 2px rgba(60, 64, 67, 0.3), 0px 1px 3px 1px rgba(60, 64, 67, 0.15);\n",
              "      fill: #174EA6;\n",
              "    }\n",
              "\n",
              "    [theme=dark] .colab-df-convert {\n",
              "      background-color: #3B4455;\n",
              "      fill: #D2E3FC;\n",
              "    }\n",
              "\n",
              "    [theme=dark] .colab-df-convert:hover {\n",
              "      background-color: #434B5C;\n",
              "      box-shadow: 0px 1px 3px 1px rgba(0, 0, 0, 0.15);\n",
              "      filter: drop-shadow(0px 1px 2px rgba(0, 0, 0, 0.3));\n",
              "      fill: #FFFFFF;\n",
              "    }\n",
              "  </style>\n",
              "\n",
              "      <script>\n",
              "        const buttonEl =\n",
              "          document.querySelector('#df-c5213769-da42-4733-8701-53a9f1b51c50 button.colab-df-convert');\n",
              "        buttonEl.style.display =\n",
              "          google.colab.kernel.accessAllowed ? 'block' : 'none';\n",
              "\n",
              "        async function convertToInteractive(key) {\n",
              "          const element = document.querySelector('#df-c5213769-da42-4733-8701-53a9f1b51c50');\n",
              "          const dataTable =\n",
              "            await google.colab.kernel.invokeFunction('convertToInteractive',\n",
              "                                                     [key], {});\n",
              "          if (!dataTable) return;\n",
              "\n",
              "          const docLinkHtml = 'Like what you see? Visit the ' +\n",
              "            '<a target=\"_blank\" href=https://colab.research.google.com/notebooks/data_table.ipynb>data table notebook</a>'\n",
              "            + ' to learn more about interactive tables.';\n",
              "          element.innerHTML = '';\n",
              "          dataTable['output_type'] = 'display_data';\n",
              "          await google.colab.output.renderOutput(dataTable, element);\n",
              "          const docLink = document.createElement('div');\n",
              "          docLink.innerHTML = docLinkHtml;\n",
              "          element.appendChild(docLink);\n",
              "        }\n",
              "      </script>\n",
              "    </div>\n",
              "  </div>\n",
              "  "
            ]
          },
          "metadata": {},
          "execution_count": 55
        }
      ]
    },
    {
      "cell_type": "code",
      "source": [],
      "metadata": {
        "id": "sr4pnd2mFEIh"
      },
      "execution_count": null,
      "outputs": []
    }
  ]
}