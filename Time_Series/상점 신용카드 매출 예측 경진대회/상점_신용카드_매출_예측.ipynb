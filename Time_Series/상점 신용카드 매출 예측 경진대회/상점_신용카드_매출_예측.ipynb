{
  "nbformat": 4,
  "nbformat_minor": 0,
  "metadata": {
    "colab": {
      "name": "상점 신용카드 매출 예측.ipynb",
      "provenance": [],
      "collapsed_sections": [],
      "authorship_tag": "ABX9TyMCuRZmkxGMnnIT+UjB6ru+",
      "include_colab_link": true
    },
    "kernelspec": {
      "name": "python3",
      "display_name": "Python 3"
    },
    "language_info": {
      "name": "python"
    },
    "accelerator": "GPU",
    "gpuClass": "standard",
    "widgets": {
      "application/vnd.jupyter.widget-state+json": {
        "c4a8bd115b674cbbac26f29e8931c15c": {
          "model_module": "@jupyter-widgets/controls",
          "model_name": "HBoxModel",
          "model_module_version": "1.5.0",
          "state": {
            "_dom_classes": [],
            "_model_module": "@jupyter-widgets/controls",
            "_model_module_version": "1.5.0",
            "_model_name": "HBoxModel",
            "_view_count": null,
            "_view_module": "@jupyter-widgets/controls",
            "_view_module_version": "1.5.0",
            "_view_name": "HBoxView",
            "box_style": "",
            "children": [
              "IPY_MODEL_451c0287c3cb41e0a2c46c85ca2d31f8",
              "IPY_MODEL_3a1bb8a6fdcc4ea09f9c4706ce38cbd2",
              "IPY_MODEL_41d1bf002f4a49f184663a3688d118c5"
            ],
            "layout": "IPY_MODEL_bda2380aced3413397a47d31d671e6ee"
          }
        },
        "451c0287c3cb41e0a2c46c85ca2d31f8": {
          "model_module": "@jupyter-widgets/controls",
          "model_name": "HTMLModel",
          "model_module_version": "1.5.0",
          "state": {
            "_dom_classes": [],
            "_model_module": "@jupyter-widgets/controls",
            "_model_module_version": "1.5.0",
            "_model_name": "HTMLModel",
            "_view_count": null,
            "_view_module": "@jupyter-widgets/controls",
            "_view_module_version": "1.5.0",
            "_view_name": "HTMLView",
            "description": "",
            "description_tooltip": null,
            "layout": "IPY_MODEL_6f4a244450554dafa9092bd2326515d7",
            "placeholder": "​",
            "style": "IPY_MODEL_9cf23c43a2c547adaad49593337d9700",
            "value": "100%"
          }
        },
        "3a1bb8a6fdcc4ea09f9c4706ce38cbd2": {
          "model_module": "@jupyter-widgets/controls",
          "model_name": "FloatProgressModel",
          "model_module_version": "1.5.0",
          "state": {
            "_dom_classes": [],
            "_model_module": "@jupyter-widgets/controls",
            "_model_module_version": "1.5.0",
            "_model_name": "FloatProgressModel",
            "_view_count": null,
            "_view_module": "@jupyter-widgets/controls",
            "_view_module_version": "1.5.0",
            "_view_name": "ProgressView",
            "bar_style": "success",
            "description": "",
            "description_tooltip": null,
            "layout": "IPY_MODEL_5eb3f6a1af614cf49898cd4d6135168b",
            "max": 1967,
            "min": 0,
            "orientation": "horizontal",
            "style": "IPY_MODEL_2160595e240046f0b47372b8fb3dc4ea",
            "value": 1967
          }
        },
        "41d1bf002f4a49f184663a3688d118c5": {
          "model_module": "@jupyter-widgets/controls",
          "model_name": "HTMLModel",
          "model_module_version": "1.5.0",
          "state": {
            "_dom_classes": [],
            "_model_module": "@jupyter-widgets/controls",
            "_model_module_version": "1.5.0",
            "_model_name": "HTMLModel",
            "_view_count": null,
            "_view_module": "@jupyter-widgets/controls",
            "_view_module_version": "1.5.0",
            "_view_name": "HTMLView",
            "description": "",
            "description_tooltip": null,
            "layout": "IPY_MODEL_353495cc51134d1b91ab36bc137e5ce4",
            "placeholder": "​",
            "style": "IPY_MODEL_b8d15e5afc3042ff8a8362ef2e4f0bb2",
            "value": " 1967/1967 [01:35&lt;00:00, 13.78it/s]"
          }
        },
        "bda2380aced3413397a47d31d671e6ee": {
          "model_module": "@jupyter-widgets/base",
          "model_name": "LayoutModel",
          "model_module_version": "1.2.0",
          "state": {
            "_model_module": "@jupyter-widgets/base",
            "_model_module_version": "1.2.0",
            "_model_name": "LayoutModel",
            "_view_count": null,
            "_view_module": "@jupyter-widgets/base",
            "_view_module_version": "1.2.0",
            "_view_name": "LayoutView",
            "align_content": null,
            "align_items": null,
            "align_self": null,
            "border": null,
            "bottom": null,
            "display": null,
            "flex": null,
            "flex_flow": null,
            "grid_area": null,
            "grid_auto_columns": null,
            "grid_auto_flow": null,
            "grid_auto_rows": null,
            "grid_column": null,
            "grid_gap": null,
            "grid_row": null,
            "grid_template_areas": null,
            "grid_template_columns": null,
            "grid_template_rows": null,
            "height": null,
            "justify_content": null,
            "justify_items": null,
            "left": null,
            "margin": null,
            "max_height": null,
            "max_width": null,
            "min_height": null,
            "min_width": null,
            "object_fit": null,
            "object_position": null,
            "order": null,
            "overflow": null,
            "overflow_x": null,
            "overflow_y": null,
            "padding": null,
            "right": null,
            "top": null,
            "visibility": null,
            "width": null
          }
        },
        "6f4a244450554dafa9092bd2326515d7": {
          "model_module": "@jupyter-widgets/base",
          "model_name": "LayoutModel",
          "model_module_version": "1.2.0",
          "state": {
            "_model_module": "@jupyter-widgets/base",
            "_model_module_version": "1.2.0",
            "_model_name": "LayoutModel",
            "_view_count": null,
            "_view_module": "@jupyter-widgets/base",
            "_view_module_version": "1.2.0",
            "_view_name": "LayoutView",
            "align_content": null,
            "align_items": null,
            "align_self": null,
            "border": null,
            "bottom": null,
            "display": null,
            "flex": null,
            "flex_flow": null,
            "grid_area": null,
            "grid_auto_columns": null,
            "grid_auto_flow": null,
            "grid_auto_rows": null,
            "grid_column": null,
            "grid_gap": null,
            "grid_row": null,
            "grid_template_areas": null,
            "grid_template_columns": null,
            "grid_template_rows": null,
            "height": null,
            "justify_content": null,
            "justify_items": null,
            "left": null,
            "margin": null,
            "max_height": null,
            "max_width": null,
            "min_height": null,
            "min_width": null,
            "object_fit": null,
            "object_position": null,
            "order": null,
            "overflow": null,
            "overflow_x": null,
            "overflow_y": null,
            "padding": null,
            "right": null,
            "top": null,
            "visibility": null,
            "width": null
          }
        },
        "9cf23c43a2c547adaad49593337d9700": {
          "model_module": "@jupyter-widgets/controls",
          "model_name": "DescriptionStyleModel",
          "model_module_version": "1.5.0",
          "state": {
            "_model_module": "@jupyter-widgets/controls",
            "_model_module_version": "1.5.0",
            "_model_name": "DescriptionStyleModel",
            "_view_count": null,
            "_view_module": "@jupyter-widgets/base",
            "_view_module_version": "1.2.0",
            "_view_name": "StyleView",
            "description_width": ""
          }
        },
        "5eb3f6a1af614cf49898cd4d6135168b": {
          "model_module": "@jupyter-widgets/base",
          "model_name": "LayoutModel",
          "model_module_version": "1.2.0",
          "state": {
            "_model_module": "@jupyter-widgets/base",
            "_model_module_version": "1.2.0",
            "_model_name": "LayoutModel",
            "_view_count": null,
            "_view_module": "@jupyter-widgets/base",
            "_view_module_version": "1.2.0",
            "_view_name": "LayoutView",
            "align_content": null,
            "align_items": null,
            "align_self": null,
            "border": null,
            "bottom": null,
            "display": null,
            "flex": null,
            "flex_flow": null,
            "grid_area": null,
            "grid_auto_columns": null,
            "grid_auto_flow": null,
            "grid_auto_rows": null,
            "grid_column": null,
            "grid_gap": null,
            "grid_row": null,
            "grid_template_areas": null,
            "grid_template_columns": null,
            "grid_template_rows": null,
            "height": null,
            "justify_content": null,
            "justify_items": null,
            "left": null,
            "margin": null,
            "max_height": null,
            "max_width": null,
            "min_height": null,
            "min_width": null,
            "object_fit": null,
            "object_position": null,
            "order": null,
            "overflow": null,
            "overflow_x": null,
            "overflow_y": null,
            "padding": null,
            "right": null,
            "top": null,
            "visibility": null,
            "width": null
          }
        },
        "2160595e240046f0b47372b8fb3dc4ea": {
          "model_module": "@jupyter-widgets/controls",
          "model_name": "ProgressStyleModel",
          "model_module_version": "1.5.0",
          "state": {
            "_model_module": "@jupyter-widgets/controls",
            "_model_module_version": "1.5.0",
            "_model_name": "ProgressStyleModel",
            "_view_count": null,
            "_view_module": "@jupyter-widgets/base",
            "_view_module_version": "1.2.0",
            "_view_name": "StyleView",
            "bar_color": null,
            "description_width": ""
          }
        },
        "353495cc51134d1b91ab36bc137e5ce4": {
          "model_module": "@jupyter-widgets/base",
          "model_name": "LayoutModel",
          "model_module_version": "1.2.0",
          "state": {
            "_model_module": "@jupyter-widgets/base",
            "_model_module_version": "1.2.0",
            "_model_name": "LayoutModel",
            "_view_count": null,
            "_view_module": "@jupyter-widgets/base",
            "_view_module_version": "1.2.0",
            "_view_name": "LayoutView",
            "align_content": null,
            "align_items": null,
            "align_self": null,
            "border": null,
            "bottom": null,
            "display": null,
            "flex": null,
            "flex_flow": null,
            "grid_area": null,
            "grid_auto_columns": null,
            "grid_auto_flow": null,
            "grid_auto_rows": null,
            "grid_column": null,
            "grid_gap": null,
            "grid_row": null,
            "grid_template_areas": null,
            "grid_template_columns": null,
            "grid_template_rows": null,
            "height": null,
            "justify_content": null,
            "justify_items": null,
            "left": null,
            "margin": null,
            "max_height": null,
            "max_width": null,
            "min_height": null,
            "min_width": null,
            "object_fit": null,
            "object_position": null,
            "order": null,
            "overflow": null,
            "overflow_x": null,
            "overflow_y": null,
            "padding": null,
            "right": null,
            "top": null,
            "visibility": null,
            "width": null
          }
        },
        "b8d15e5afc3042ff8a8362ef2e4f0bb2": {
          "model_module": "@jupyter-widgets/controls",
          "model_name": "DescriptionStyleModel",
          "model_module_version": "1.5.0",
          "state": {
            "_model_module": "@jupyter-widgets/controls",
            "_model_module_version": "1.5.0",
            "_model_name": "DescriptionStyleModel",
            "_view_count": null,
            "_view_module": "@jupyter-widgets/base",
            "_view_module_version": "1.2.0",
            "_view_name": "StyleView",
            "description_width": ""
          }
        },
        "23501841cafe435ebc25f8bb84a8a931": {
          "model_module": "@jupyter-widgets/controls",
          "model_name": "HBoxModel",
          "model_module_version": "1.5.0",
          "state": {
            "_dom_classes": [],
            "_model_module": "@jupyter-widgets/controls",
            "_model_module_version": "1.5.0",
            "_model_name": "HBoxModel",
            "_view_count": null,
            "_view_module": "@jupyter-widgets/controls",
            "_view_module_version": "1.5.0",
            "_view_name": "HBoxView",
            "box_style": "",
            "children": [
              "IPY_MODEL_dcf889694c0e4c05a60571fe713723d9",
              "IPY_MODEL_523f1d020cd64769a019cc7b4755cd99",
              "IPY_MODEL_746176222aad4157bc53337365cec4bb"
            ],
            "layout": "IPY_MODEL_cb53a4fb50eb4ae9a7885330ee17978f"
          }
        },
        "dcf889694c0e4c05a60571fe713723d9": {
          "model_module": "@jupyter-widgets/controls",
          "model_name": "HTMLModel",
          "model_module_version": "1.5.0",
          "state": {
            "_dom_classes": [],
            "_model_module": "@jupyter-widgets/controls",
            "_model_module_version": "1.5.0",
            "_model_name": "HTMLModel",
            "_view_count": null,
            "_view_module": "@jupyter-widgets/controls",
            "_view_module_version": "1.5.0",
            "_view_name": "HTMLView",
            "description": "",
            "description_tooltip": null,
            "layout": "IPY_MODEL_5951683c2e9a4bf984b3348789e521a2",
            "placeholder": "​",
            "style": "IPY_MODEL_5c6c05466b334455b273b316aab463e7",
            "value": "100%"
          }
        },
        "523f1d020cd64769a019cc7b4755cd99": {
          "model_module": "@jupyter-widgets/controls",
          "model_name": "FloatProgressModel",
          "model_module_version": "1.5.0",
          "state": {
            "_dom_classes": [],
            "_model_module": "@jupyter-widgets/controls",
            "_model_module_version": "1.5.0",
            "_model_name": "FloatProgressModel",
            "_view_count": null,
            "_view_module": "@jupyter-widgets/controls",
            "_view_module_version": "1.5.0",
            "_view_name": "ProgressView",
            "bar_style": "success",
            "description": "",
            "description_tooltip": null,
            "layout": "IPY_MODEL_7733a47893b245c786a635fc811144a7",
            "max": 1967,
            "min": 0,
            "orientation": "horizontal",
            "style": "IPY_MODEL_c167c669f9114616841e942d2f6f09f1",
            "value": 1967
          }
        },
        "746176222aad4157bc53337365cec4bb": {
          "model_module": "@jupyter-widgets/controls",
          "model_name": "HTMLModel",
          "model_module_version": "1.5.0",
          "state": {
            "_dom_classes": [],
            "_model_module": "@jupyter-widgets/controls",
            "_model_module_version": "1.5.0",
            "_model_name": "HTMLModel",
            "_view_count": null,
            "_view_module": "@jupyter-widgets/controls",
            "_view_module_version": "1.5.0",
            "_view_name": "HTMLView",
            "description": "",
            "description_tooltip": null,
            "layout": "IPY_MODEL_ccfaefc85f3441a5ad6565416880f0ef",
            "placeholder": "​",
            "style": "IPY_MODEL_cf24f338e8ce40a7ba0c4928f2fa02d2",
            "value": " 1967/1967 [00:48&lt;00:00, 38.76it/s]"
          }
        },
        "cb53a4fb50eb4ae9a7885330ee17978f": {
          "model_module": "@jupyter-widgets/base",
          "model_name": "LayoutModel",
          "model_module_version": "1.2.0",
          "state": {
            "_model_module": "@jupyter-widgets/base",
            "_model_module_version": "1.2.0",
            "_model_name": "LayoutModel",
            "_view_count": null,
            "_view_module": "@jupyter-widgets/base",
            "_view_module_version": "1.2.0",
            "_view_name": "LayoutView",
            "align_content": null,
            "align_items": null,
            "align_self": null,
            "border": null,
            "bottom": null,
            "display": null,
            "flex": null,
            "flex_flow": null,
            "grid_area": null,
            "grid_auto_columns": null,
            "grid_auto_flow": null,
            "grid_auto_rows": null,
            "grid_column": null,
            "grid_gap": null,
            "grid_row": null,
            "grid_template_areas": null,
            "grid_template_columns": null,
            "grid_template_rows": null,
            "height": null,
            "justify_content": null,
            "justify_items": null,
            "left": null,
            "margin": null,
            "max_height": null,
            "max_width": null,
            "min_height": null,
            "min_width": null,
            "object_fit": null,
            "object_position": null,
            "order": null,
            "overflow": null,
            "overflow_x": null,
            "overflow_y": null,
            "padding": null,
            "right": null,
            "top": null,
            "visibility": null,
            "width": null
          }
        },
        "5951683c2e9a4bf984b3348789e521a2": {
          "model_module": "@jupyter-widgets/base",
          "model_name": "LayoutModel",
          "model_module_version": "1.2.0",
          "state": {
            "_model_module": "@jupyter-widgets/base",
            "_model_module_version": "1.2.0",
            "_model_name": "LayoutModel",
            "_view_count": null,
            "_view_module": "@jupyter-widgets/base",
            "_view_module_version": "1.2.0",
            "_view_name": "LayoutView",
            "align_content": null,
            "align_items": null,
            "align_self": null,
            "border": null,
            "bottom": null,
            "display": null,
            "flex": null,
            "flex_flow": null,
            "grid_area": null,
            "grid_auto_columns": null,
            "grid_auto_flow": null,
            "grid_auto_rows": null,
            "grid_column": null,
            "grid_gap": null,
            "grid_row": null,
            "grid_template_areas": null,
            "grid_template_columns": null,
            "grid_template_rows": null,
            "height": null,
            "justify_content": null,
            "justify_items": null,
            "left": null,
            "margin": null,
            "max_height": null,
            "max_width": null,
            "min_height": null,
            "min_width": null,
            "object_fit": null,
            "object_position": null,
            "order": null,
            "overflow": null,
            "overflow_x": null,
            "overflow_y": null,
            "padding": null,
            "right": null,
            "top": null,
            "visibility": null,
            "width": null
          }
        },
        "5c6c05466b334455b273b316aab463e7": {
          "model_module": "@jupyter-widgets/controls",
          "model_name": "DescriptionStyleModel",
          "model_module_version": "1.5.0",
          "state": {
            "_model_module": "@jupyter-widgets/controls",
            "_model_module_version": "1.5.0",
            "_model_name": "DescriptionStyleModel",
            "_view_count": null,
            "_view_module": "@jupyter-widgets/base",
            "_view_module_version": "1.2.0",
            "_view_name": "StyleView",
            "description_width": ""
          }
        },
        "7733a47893b245c786a635fc811144a7": {
          "model_module": "@jupyter-widgets/base",
          "model_name": "LayoutModel",
          "model_module_version": "1.2.0",
          "state": {
            "_model_module": "@jupyter-widgets/base",
            "_model_module_version": "1.2.0",
            "_model_name": "LayoutModel",
            "_view_count": null,
            "_view_module": "@jupyter-widgets/base",
            "_view_module_version": "1.2.0",
            "_view_name": "LayoutView",
            "align_content": null,
            "align_items": null,
            "align_self": null,
            "border": null,
            "bottom": null,
            "display": null,
            "flex": null,
            "flex_flow": null,
            "grid_area": null,
            "grid_auto_columns": null,
            "grid_auto_flow": null,
            "grid_auto_rows": null,
            "grid_column": null,
            "grid_gap": null,
            "grid_row": null,
            "grid_template_areas": null,
            "grid_template_columns": null,
            "grid_template_rows": null,
            "height": null,
            "justify_content": null,
            "justify_items": null,
            "left": null,
            "margin": null,
            "max_height": null,
            "max_width": null,
            "min_height": null,
            "min_width": null,
            "object_fit": null,
            "object_position": null,
            "order": null,
            "overflow": null,
            "overflow_x": null,
            "overflow_y": null,
            "padding": null,
            "right": null,
            "top": null,
            "visibility": null,
            "width": null
          }
        },
        "c167c669f9114616841e942d2f6f09f1": {
          "model_module": "@jupyter-widgets/controls",
          "model_name": "ProgressStyleModel",
          "model_module_version": "1.5.0",
          "state": {
            "_model_module": "@jupyter-widgets/controls",
            "_model_module_version": "1.5.0",
            "_model_name": "ProgressStyleModel",
            "_view_count": null,
            "_view_module": "@jupyter-widgets/base",
            "_view_module_version": "1.2.0",
            "_view_name": "StyleView",
            "bar_color": null,
            "description_width": ""
          }
        },
        "ccfaefc85f3441a5ad6565416880f0ef": {
          "model_module": "@jupyter-widgets/base",
          "model_name": "LayoutModel",
          "model_module_version": "1.2.0",
          "state": {
            "_model_module": "@jupyter-widgets/base",
            "_model_module_version": "1.2.0",
            "_model_name": "LayoutModel",
            "_view_count": null,
            "_view_module": "@jupyter-widgets/base",
            "_view_module_version": "1.2.0",
            "_view_name": "LayoutView",
            "align_content": null,
            "align_items": null,
            "align_self": null,
            "border": null,
            "bottom": null,
            "display": null,
            "flex": null,
            "flex_flow": null,
            "grid_area": null,
            "grid_auto_columns": null,
            "grid_auto_flow": null,
            "grid_auto_rows": null,
            "grid_column": null,
            "grid_gap": null,
            "grid_row": null,
            "grid_template_areas": null,
            "grid_template_columns": null,
            "grid_template_rows": null,
            "height": null,
            "justify_content": null,
            "justify_items": null,
            "left": null,
            "margin": null,
            "max_height": null,
            "max_width": null,
            "min_height": null,
            "min_width": null,
            "object_fit": null,
            "object_position": null,
            "order": null,
            "overflow": null,
            "overflow_x": null,
            "overflow_y": null,
            "padding": null,
            "right": null,
            "top": null,
            "visibility": null,
            "width": null
          }
        },
        "cf24f338e8ce40a7ba0c4928f2fa02d2": {
          "model_module": "@jupyter-widgets/controls",
          "model_name": "DescriptionStyleModel",
          "model_module_version": "1.5.0",
          "state": {
            "_model_module": "@jupyter-widgets/controls",
            "_model_module_version": "1.5.0",
            "_model_name": "DescriptionStyleModel",
            "_view_count": null,
            "_view_module": "@jupyter-widgets/base",
            "_view_module_version": "1.2.0",
            "_view_name": "StyleView",
            "description_width": ""
          }
        }
      }
    }
  },
  "cells": [
    {
      "cell_type": "markdown",
      "metadata": {
        "id": "view-in-github",
        "colab_type": "text"
      },
      "source": [
        "<a href=\"https://colab.research.google.com/github/namwootree/Basic_Skill/blob/main/Time_Series/%EC%83%81%EC%A0%90%20%EC%8B%A0%EC%9A%A9%EC%B9%B4%EB%93%9C%20%EB%A7%A4%EC%B6%9C%20%EC%98%88%EC%B8%A1%20%EA%B2%BD%EC%A7%84%EB%8C%80%ED%9A%8C/%EC%83%81%EC%A0%90_%EC%8B%A0%EC%9A%A9%EC%B9%B4%EB%93%9C_%EB%A7%A4%EC%B6%9C_%EC%98%88%EC%B8%A1.ipynb\" target=\"_parent\"><img src=\"https://colab.research.google.com/assets/colab-badge.svg\" alt=\"Open In Colab\"/></a>"
      ]
    },
    {
      "cell_type": "markdown",
      "source": [
        "# Theme"
      ],
      "metadata": {
        "id": "xPsQGNsyy1he"
      }
    },
    {
      "cell_type": "markdown",
      "source": [
        "[데이콘 : 상점 신용카드 매출 예측 경진대회](https://dacon.io/competitions/official/140472/overview/description)\n",
        "\n",
        "\n",
        "[Reference 1](https://dacon.io/competitions/official/140472/codeshare/419?page=2&dtype=recent)"
      ],
      "metadata": {
        "id": "SAsmGyvN7A5A"
      }
    },
    {
      "cell_type": "markdown",
      "source": [
        "핀테크 기업인 ‘FUNDA(펀다)’는 상환 기간의 매출을 예측하여 신용 점수가 낮거나 담보를 가지지 못하는 우수 상점들에 금융 기회를 제공하려 합니다.\n",
        "\n",
        "---\n",
        "\n",
        "이번 대회에서는 2년 전 부터 2019년 2월 28일까지의 카드 거래 데이터를 이용해 2019-03-01부터 2019-05-31까지의 각 상점별 3개월 총 매출을 예측하는 것입니다."
      ],
      "metadata": {
        "id": "epOviWHry50-"
      }
    },
    {
      "cell_type": "markdown",
      "source": [
        "# Setting"
      ],
      "metadata": {
        "id": "gIkbbj_Ryspy"
      }
    },
    {
      "cell_type": "markdown",
      "source": [
        "## 라이브러리 불러오기"
      ],
      "metadata": {
        "id": "EUcSfmfw05oz"
      }
    },
    {
      "cell_type": "code",
      "source": [
        "# 기본\n",
        "import itertools # 자신만의 반복자를 만드는 모듈\n",
        "import numpy as np\n",
        "import pandas as pd\n",
        "import seaborn as sns\n",
        "import matplotlib as mpl\n",
        "import matplotlib.pyplot as plt\n",
        "import joblib # 디스크 캐싱, 병렬 프로그래밍, 학습한 모델을 저장\n",
        "from sklearn.metrics import make_scorer"
      ],
      "metadata": {
        "id": "Fz9fpcCQya7t"
      },
      "execution_count": 1,
      "outputs": []
    },
    {
      "cell_type": "code",
      "source": [
        "# 시계열\n",
        "from fbprophet import Prophet\n",
        "from datetime import datetime as dt\n",
        "from statsmodels.tsa.arima_model import ARIMA\n",
        "from dateutil.relativedelta import relativedelta # 날짜 계산\n",
        "from statsmodels.tsa.api import SimpleExpSmoothing, Holt, ExponentialSmoothing"
      ],
      "metadata": {
        "colab": {
          "base_uri": "https://localhost:8080/"
        },
        "id": "cqP5n8uHzWJ0",
        "outputId": "f962ea2f-281d-4cdf-c9a9-bd5f855b7a51"
      },
      "execution_count": 2,
      "outputs": [
        {
          "output_type": "stream",
          "name": "stderr",
          "text": [
            "/usr/local/lib/python3.7/dist-packages/statsmodels/tools/_testing.py:19: FutureWarning: pandas.util.testing is deprecated. Use the functions in the public API at pandas.testing instead.\n",
            "  import pandas.util.testing as tm\n"
          ]
        }
      ]
    },
    {
      "cell_type": "code",
      "source": [
        "# 회귀분석\n",
        "from sklearn.svm import SVR\n",
        "from xgboost import XGBRegressor\n",
        "from sklearn.ensemble import RandomForestRegressor\n",
        "from sklearn.pipeline import make_pipeline, Pipeline\n",
        "from sklearn.ensemble import GradientBoostingRegressor\n",
        "from sklearn.model_selection import KFold, cross_val_score, GridSearchCV\n",
        "from sklearn.linear_model import LinearRegression, Ridge, Lasso, ElasticNet"
      ],
      "metadata": {
        "id": "A9iVglYK0Vmb"
      },
      "execution_count": 3,
      "outputs": []
    },
    {
      "cell_type": "code",
      "source": [
        "# Deep Neural Network\n",
        "from keras.layers.core import Dense, Activation, Dropout\n",
        "from keras.layers.recurrent import LSTM\n",
        "from keras.models import Sequential\n",
        "import time"
      ],
      "metadata": {
        "id": "TDFmWaxd0h5A"
      },
      "execution_count": 4,
      "outputs": []
    },
    {
      "cell_type": "code",
      "source": [
        "# 설정\n",
        "%matplotlib inline\n",
        "pd.options.display.max_columns = 400\n",
        "pd.options.display.float_format = '{:.5f}'.format\n",
        "from tqdm.notebook import tqdm"
      ],
      "metadata": {
        "id": "rHBTjT1M0nJ3"
      },
      "execution_count": 5,
      "outputs": []
    },
    {
      "cell_type": "markdown",
      "source": [
        "## 예측 오차"
      ],
      "metadata": {
        "id": "IEYjTlZ408R-"
      }
    },
    {
      "cell_type": "markdown",
      "source": [
        "MAE (Mean Absolute Error) : 절대평균오차"
      ],
      "metadata": {
        "id": "5gWGQA3A1DYy"
      }
    },
    {
      "cell_type": "code",
      "source": [
        "def mae(prediction, correct):\n",
        "\n",
        "  prediction = np.array(prediction)\n",
        "  correct = np.array(correct)\n",
        "\n",
        "  difference = correct - prediction\n",
        "  abs_val = abs(difference)\n",
        "\n",
        "  score = abs_val.mean()\n",
        "\n",
        "  return score\n",
        "\n",
        "mae_score = make_scorer(mae)\n",
        "mae_score"
      ],
      "metadata": {
        "colab": {
          "base_uri": "https://localhost:8080/"
        },
        "id": "rC5kJva20qOy",
        "outputId": "bab0aecb-c635-49bc-db4d-e8cb7529f3e6"
      },
      "execution_count": 6,
      "outputs": [
        {
          "output_type": "execute_result",
          "data": {
            "text/plain": [
              "make_scorer(mae)"
            ]
          },
          "metadata": {},
          "execution_count": 6
        }
      ]
    },
    {
      "cell_type": "markdown",
      "source": [
        "## 데이터 불러오기"
      ],
      "metadata": {
        "id": "jdr97-Fx4CmL"
      }
    },
    {
      "cell_type": "code",
      "execution_count": 7,
      "metadata": {
        "colab": {
          "base_uri": "https://localhost:8080/"
        },
        "id": "pz3fww-ryFbD",
        "outputId": "8ec7a776-e2d8-46fe-a6f9-63f8ffcd3209"
      },
      "outputs": [
        {
          "output_type": "stream",
          "name": "stdout",
          "text": [
            "Mounted at /content/drive\n"
          ]
        }
      ],
      "source": [
        "from google.colab import drive\n",
        "drive.mount('/content/drive')"
      ]
    },
    {
      "cell_type": "code",
      "source": [
        "train_path = '/content/drive/MyDrive/시계열/상점 신용카드 매출 예측 경진대회/funda_train.csv' \n",
        "sub_path = '/content/drive/MyDrive/시계열/상점 신용카드 매출 예측 경진대회/submission.csv'\n",
        "\n",
        "df_train = pd.read_csv(train_path)\n",
        "df_sub = pd.read_csv(sub_path)"
      ],
      "metadata": {
        "id": "NGiJXeQG4GrP"
      },
      "execution_count": 8,
      "outputs": []
    },
    {
      "cell_type": "markdown",
      "source": [
        "## 데이터 확인하기"
      ],
      "metadata": {
        "id": "EDby47pt4ur8"
      }
    },
    {
      "cell_type": "code",
      "source": [
        "df_train.head()"
      ],
      "metadata": {
        "colab": {
          "base_uri": "https://localhost:8080/",
          "height": 206
        },
        "id": "tlulltks4fti",
        "outputId": "ed45cb73-c63f-47c6-a176-524f2ad8d995"
      },
      "execution_count": 9,
      "outputs": [
        {
          "output_type": "execute_result",
          "data": {
            "text/plain": [
              "   store_id  card_id card_company transacted_date transacted_time  \\\n",
              "0         0        0            b      2016-06-01           13:13   \n",
              "1         0        1            h      2016-06-01           18:12   \n",
              "2         0        2            c      2016-06-01           18:52   \n",
              "3         0        3            a      2016-06-01           20:22   \n",
              "4         0        4            c      2016-06-02           11:06   \n",
              "\n",
              "   installment_term region type_of_business     amount  \n",
              "0                 0    NaN           기타 미용업 1857.14286  \n",
              "1                 0    NaN           기타 미용업  857.14286  \n",
              "2                 0    NaN           기타 미용업 2000.00000  \n",
              "3                 0    NaN           기타 미용업 7857.14286  \n",
              "4                 0    NaN           기타 미용업 2000.00000  "
            ],
            "text/html": [
              "\n",
              "  <div id=\"df-301c1c5e-f2ae-490b-bb52-4f3dac2a16e6\">\n",
              "    <div class=\"colab-df-container\">\n",
              "      <div>\n",
              "<style scoped>\n",
              "    .dataframe tbody tr th:only-of-type {\n",
              "        vertical-align: middle;\n",
              "    }\n",
              "\n",
              "    .dataframe tbody tr th {\n",
              "        vertical-align: top;\n",
              "    }\n",
              "\n",
              "    .dataframe thead th {\n",
              "        text-align: right;\n",
              "    }\n",
              "</style>\n",
              "<table border=\"1\" class=\"dataframe\">\n",
              "  <thead>\n",
              "    <tr style=\"text-align: right;\">\n",
              "      <th></th>\n",
              "      <th>store_id</th>\n",
              "      <th>card_id</th>\n",
              "      <th>card_company</th>\n",
              "      <th>transacted_date</th>\n",
              "      <th>transacted_time</th>\n",
              "      <th>installment_term</th>\n",
              "      <th>region</th>\n",
              "      <th>type_of_business</th>\n",
              "      <th>amount</th>\n",
              "    </tr>\n",
              "  </thead>\n",
              "  <tbody>\n",
              "    <tr>\n",
              "      <th>0</th>\n",
              "      <td>0</td>\n",
              "      <td>0</td>\n",
              "      <td>b</td>\n",
              "      <td>2016-06-01</td>\n",
              "      <td>13:13</td>\n",
              "      <td>0</td>\n",
              "      <td>NaN</td>\n",
              "      <td>기타 미용업</td>\n",
              "      <td>1857.14286</td>\n",
              "    </tr>\n",
              "    <tr>\n",
              "      <th>1</th>\n",
              "      <td>0</td>\n",
              "      <td>1</td>\n",
              "      <td>h</td>\n",
              "      <td>2016-06-01</td>\n",
              "      <td>18:12</td>\n",
              "      <td>0</td>\n",
              "      <td>NaN</td>\n",
              "      <td>기타 미용업</td>\n",
              "      <td>857.14286</td>\n",
              "    </tr>\n",
              "    <tr>\n",
              "      <th>2</th>\n",
              "      <td>0</td>\n",
              "      <td>2</td>\n",
              "      <td>c</td>\n",
              "      <td>2016-06-01</td>\n",
              "      <td>18:52</td>\n",
              "      <td>0</td>\n",
              "      <td>NaN</td>\n",
              "      <td>기타 미용업</td>\n",
              "      <td>2000.00000</td>\n",
              "    </tr>\n",
              "    <tr>\n",
              "      <th>3</th>\n",
              "      <td>0</td>\n",
              "      <td>3</td>\n",
              "      <td>a</td>\n",
              "      <td>2016-06-01</td>\n",
              "      <td>20:22</td>\n",
              "      <td>0</td>\n",
              "      <td>NaN</td>\n",
              "      <td>기타 미용업</td>\n",
              "      <td>7857.14286</td>\n",
              "    </tr>\n",
              "    <tr>\n",
              "      <th>4</th>\n",
              "      <td>0</td>\n",
              "      <td>4</td>\n",
              "      <td>c</td>\n",
              "      <td>2016-06-02</td>\n",
              "      <td>11:06</td>\n",
              "      <td>0</td>\n",
              "      <td>NaN</td>\n",
              "      <td>기타 미용업</td>\n",
              "      <td>2000.00000</td>\n",
              "    </tr>\n",
              "  </tbody>\n",
              "</table>\n",
              "</div>\n",
              "      <button class=\"colab-df-convert\" onclick=\"convertToInteractive('df-301c1c5e-f2ae-490b-bb52-4f3dac2a16e6')\"\n",
              "              title=\"Convert this dataframe to an interactive table.\"\n",
              "              style=\"display:none;\">\n",
              "        \n",
              "  <svg xmlns=\"http://www.w3.org/2000/svg\" height=\"24px\"viewBox=\"0 0 24 24\"\n",
              "       width=\"24px\">\n",
              "    <path d=\"M0 0h24v24H0V0z\" fill=\"none\"/>\n",
              "    <path d=\"M18.56 5.44l.94 2.06.94-2.06 2.06-.94-2.06-.94-.94-2.06-.94 2.06-2.06.94zm-11 1L8.5 8.5l.94-2.06 2.06-.94-2.06-.94L8.5 2.5l-.94 2.06-2.06.94zm10 10l.94 2.06.94-2.06 2.06-.94-2.06-.94-.94-2.06-.94 2.06-2.06.94z\"/><path d=\"M17.41 7.96l-1.37-1.37c-.4-.4-.92-.59-1.43-.59-.52 0-1.04.2-1.43.59L10.3 9.45l-7.72 7.72c-.78.78-.78 2.05 0 2.83L4 21.41c.39.39.9.59 1.41.59.51 0 1.02-.2 1.41-.59l7.78-7.78 2.81-2.81c.8-.78.8-2.07 0-2.86zM5.41 20L4 18.59l7.72-7.72 1.47 1.35L5.41 20z\"/>\n",
              "  </svg>\n",
              "      </button>\n",
              "      \n",
              "  <style>\n",
              "    .colab-df-container {\n",
              "      display:flex;\n",
              "      flex-wrap:wrap;\n",
              "      gap: 12px;\n",
              "    }\n",
              "\n",
              "    .colab-df-convert {\n",
              "      background-color: #E8F0FE;\n",
              "      border: none;\n",
              "      border-radius: 50%;\n",
              "      cursor: pointer;\n",
              "      display: none;\n",
              "      fill: #1967D2;\n",
              "      height: 32px;\n",
              "      padding: 0 0 0 0;\n",
              "      width: 32px;\n",
              "    }\n",
              "\n",
              "    .colab-df-convert:hover {\n",
              "      background-color: #E2EBFA;\n",
              "      box-shadow: 0px 1px 2px rgba(60, 64, 67, 0.3), 0px 1px 3px 1px rgba(60, 64, 67, 0.15);\n",
              "      fill: #174EA6;\n",
              "    }\n",
              "\n",
              "    [theme=dark] .colab-df-convert {\n",
              "      background-color: #3B4455;\n",
              "      fill: #D2E3FC;\n",
              "    }\n",
              "\n",
              "    [theme=dark] .colab-df-convert:hover {\n",
              "      background-color: #434B5C;\n",
              "      box-shadow: 0px 1px 3px 1px rgba(0, 0, 0, 0.15);\n",
              "      filter: drop-shadow(0px 1px 2px rgba(0, 0, 0, 0.3));\n",
              "      fill: #FFFFFF;\n",
              "    }\n",
              "  </style>\n",
              "\n",
              "      <script>\n",
              "        const buttonEl =\n",
              "          document.querySelector('#df-301c1c5e-f2ae-490b-bb52-4f3dac2a16e6 button.colab-df-convert');\n",
              "        buttonEl.style.display =\n",
              "          google.colab.kernel.accessAllowed ? 'block' : 'none';\n",
              "\n",
              "        async function convertToInteractive(key) {\n",
              "          const element = document.querySelector('#df-301c1c5e-f2ae-490b-bb52-4f3dac2a16e6');\n",
              "          const dataTable =\n",
              "            await google.colab.kernel.invokeFunction('convertToInteractive',\n",
              "                                                     [key], {});\n",
              "          if (!dataTable) return;\n",
              "\n",
              "          const docLinkHtml = 'Like what you see? Visit the ' +\n",
              "            '<a target=\"_blank\" href=https://colab.research.google.com/notebooks/data_table.ipynb>data table notebook</a>'\n",
              "            + ' to learn more about interactive tables.';\n",
              "          element.innerHTML = '';\n",
              "          dataTable['output_type'] = 'display_data';\n",
              "          await google.colab.output.renderOutput(dataTable, element);\n",
              "          const docLink = document.createElement('div');\n",
              "          docLink.innerHTML = docLinkHtml;\n",
              "          element.appendChild(docLink);\n",
              "        }\n",
              "      </script>\n",
              "    </div>\n",
              "  </div>\n",
              "  "
            ]
          },
          "metadata": {},
          "execution_count": 9
        }
      ]
    },
    {
      "cell_type": "code",
      "source": [
        "df_train.shape"
      ],
      "metadata": {
        "colab": {
          "base_uri": "https://localhost:8080/"
        },
        "id": "ZYeYdMjE40lo",
        "outputId": "6fc053d1-13d7-40c6-e853-48241a9d12b8"
      },
      "execution_count": 10,
      "outputs": [
        {
          "output_type": "execute_result",
          "data": {
            "text/plain": [
              "(6556613, 9)"
            ]
          },
          "metadata": {},
          "execution_count": 10
        }
      ]
    },
    {
      "cell_type": "code",
      "source": [
        "df_train.info()\n",
        "# store_id : 상점의 고유 아이디\n",
        "# card_id : 사용한 카드의 고유 아이디\n",
        "# card_company : 비식별화된 카드 회사\n",
        "# trasacted_date : 거래 날짜\n",
        "# transacted_time : 거래 시간( 시:분 )\n",
        "# installment_term : 할부 개월 수( 포인트 사용 시 (60개월 + 실제할부개월)을 할부개월수에 기재한다. )\n",
        "# region : 상점의 지역\n",
        "# type_of_business : 상점의 업종\n",
        "# amount : 거래액(단위는 원이 아닙니다)\n"
      ],
      "metadata": {
        "colab": {
          "base_uri": "https://localhost:8080/"
        },
        "id": "LxmGDmqI46YN",
        "outputId": "4928c93c-3902-4c38-b563-87148df9e0af"
      },
      "execution_count": 11,
      "outputs": [
        {
          "output_type": "stream",
          "name": "stdout",
          "text": [
            "<class 'pandas.core.frame.DataFrame'>\n",
            "RangeIndex: 6556613 entries, 0 to 6556612\n",
            "Data columns (total 9 columns):\n",
            " #   Column            Dtype  \n",
            "---  ------            -----  \n",
            " 0   store_id          int64  \n",
            " 1   card_id           int64  \n",
            " 2   card_company      object \n",
            " 3   transacted_date   object \n",
            " 4   transacted_time   object \n",
            " 5   installment_term  int64  \n",
            " 6   region            object \n",
            " 7   type_of_business  object \n",
            " 8   amount            float64\n",
            "dtypes: float64(1), int64(3), object(5)\n",
            "memory usage: 450.2+ MB\n"
          ]
        }
      ]
    },
    {
      "cell_type": "code",
      "source": [
        "# 각 Column 별 고유값 개수, Null 개수, type, 앞에서 부터의 5개 샘플을 확인\n",
        "\n",
        "frame_info = [(col, # 각각의 Column\n",
        "               len(df_train[col].unique()), # 고유값 개수\n",
        "               df_train[col].isnull().sum(), # Null 개수\n",
        "               df_train[col].dtype, # type\n",
        "               df_train[col].unique()[:5]) # 앞에서 부터의 5개 샘플을 확인\n",
        "               for col in df_train.columns]\n",
        "\n",
        "df_info = pd.DataFrame(frame_info,\n",
        "                       columns=['name', 'num_of_unique',\n",
        "                                'num_of_nan', 'type',\n",
        "                                'front5_values'])"
      ],
      "metadata": {
        "id": "2o5gmxj848M6"
      },
      "execution_count": 12,
      "outputs": []
    },
    {
      "cell_type": "code",
      "source": [
        "df_info"
      ],
      "metadata": {
        "colab": {
          "base_uri": "https://localhost:8080/",
          "height": 331
        },
        "id": "m2eU4IpI61lt",
        "outputId": "7e28a0f0-0734-45b8-8105-966778ca2f78"
      },
      "execution_count": 13,
      "outputs": [
        {
          "output_type": "execute_result",
          "data": {
            "text/plain": [
              "               name  num_of_unique  num_of_nan     type  \\\n",
              "0          store_id           1967           0    int64   \n",
              "1           card_id        3950001           0    int64   \n",
              "2      card_company              8           0   object   \n",
              "3   transacted_date           1003           0   object   \n",
              "4   transacted_time           1440           0   object   \n",
              "5  installment_term             34           0    int64   \n",
              "6            region            181     2042766   object   \n",
              "7  type_of_business            146     3952609   object   \n",
              "8            amount          30551           0  float64   \n",
              "\n",
              "                                       front5_values  \n",
              "0                                    [0, 1, 2, 4, 5]  \n",
              "1                                    [0, 1, 2, 3, 4]  \n",
              "2                                    [b, h, c, a, f]  \n",
              "3  [2016-06-01, 2016-06-02, 2016-06-03, 2016-06-0...  \n",
              "4                [13:13, 18:12, 18:52, 20:22, 11:06]  \n",
              "5                                   [0, 2, 3, 60, 4]  \n",
              "6              [nan, 서울 종로구, 충북 충주시, 부산 동래구, 경기 평택시]  \n",
              "7  [기타 미용업, nan, 의복 액세서리 및 모조 장신구 도매업, 한식 음식점업, 배...  \n",
              "8  [1857.142857142857, 857.1428571428571, 2000.0,...  "
            ],
            "text/html": [
              "\n",
              "  <div id=\"df-02b273ef-187c-4569-bf9f-42da1d60a0e6\">\n",
              "    <div class=\"colab-df-container\">\n",
              "      <div>\n",
              "<style scoped>\n",
              "    .dataframe tbody tr th:only-of-type {\n",
              "        vertical-align: middle;\n",
              "    }\n",
              "\n",
              "    .dataframe tbody tr th {\n",
              "        vertical-align: top;\n",
              "    }\n",
              "\n",
              "    .dataframe thead th {\n",
              "        text-align: right;\n",
              "    }\n",
              "</style>\n",
              "<table border=\"1\" class=\"dataframe\">\n",
              "  <thead>\n",
              "    <tr style=\"text-align: right;\">\n",
              "      <th></th>\n",
              "      <th>name</th>\n",
              "      <th>num_of_unique</th>\n",
              "      <th>num_of_nan</th>\n",
              "      <th>type</th>\n",
              "      <th>front5_values</th>\n",
              "    </tr>\n",
              "  </thead>\n",
              "  <tbody>\n",
              "    <tr>\n",
              "      <th>0</th>\n",
              "      <td>store_id</td>\n",
              "      <td>1967</td>\n",
              "      <td>0</td>\n",
              "      <td>int64</td>\n",
              "      <td>[0, 1, 2, 4, 5]</td>\n",
              "    </tr>\n",
              "    <tr>\n",
              "      <th>1</th>\n",
              "      <td>card_id</td>\n",
              "      <td>3950001</td>\n",
              "      <td>0</td>\n",
              "      <td>int64</td>\n",
              "      <td>[0, 1, 2, 3, 4]</td>\n",
              "    </tr>\n",
              "    <tr>\n",
              "      <th>2</th>\n",
              "      <td>card_company</td>\n",
              "      <td>8</td>\n",
              "      <td>0</td>\n",
              "      <td>object</td>\n",
              "      <td>[b, h, c, a, f]</td>\n",
              "    </tr>\n",
              "    <tr>\n",
              "      <th>3</th>\n",
              "      <td>transacted_date</td>\n",
              "      <td>1003</td>\n",
              "      <td>0</td>\n",
              "      <td>object</td>\n",
              "      <td>[2016-06-01, 2016-06-02, 2016-06-03, 2016-06-0...</td>\n",
              "    </tr>\n",
              "    <tr>\n",
              "      <th>4</th>\n",
              "      <td>transacted_time</td>\n",
              "      <td>1440</td>\n",
              "      <td>0</td>\n",
              "      <td>object</td>\n",
              "      <td>[13:13, 18:12, 18:52, 20:22, 11:06]</td>\n",
              "    </tr>\n",
              "    <tr>\n",
              "      <th>5</th>\n",
              "      <td>installment_term</td>\n",
              "      <td>34</td>\n",
              "      <td>0</td>\n",
              "      <td>int64</td>\n",
              "      <td>[0, 2, 3, 60, 4]</td>\n",
              "    </tr>\n",
              "    <tr>\n",
              "      <th>6</th>\n",
              "      <td>region</td>\n",
              "      <td>181</td>\n",
              "      <td>2042766</td>\n",
              "      <td>object</td>\n",
              "      <td>[nan, 서울 종로구, 충북 충주시, 부산 동래구, 경기 평택시]</td>\n",
              "    </tr>\n",
              "    <tr>\n",
              "      <th>7</th>\n",
              "      <td>type_of_business</td>\n",
              "      <td>146</td>\n",
              "      <td>3952609</td>\n",
              "      <td>object</td>\n",
              "      <td>[기타 미용업, nan, 의복 액세서리 및 모조 장신구 도매업, 한식 음식점업, 배...</td>\n",
              "    </tr>\n",
              "    <tr>\n",
              "      <th>8</th>\n",
              "      <td>amount</td>\n",
              "      <td>30551</td>\n",
              "      <td>0</td>\n",
              "      <td>float64</td>\n",
              "      <td>[1857.142857142857, 857.1428571428571, 2000.0,...</td>\n",
              "    </tr>\n",
              "  </tbody>\n",
              "</table>\n",
              "</div>\n",
              "      <button class=\"colab-df-convert\" onclick=\"convertToInteractive('df-02b273ef-187c-4569-bf9f-42da1d60a0e6')\"\n",
              "              title=\"Convert this dataframe to an interactive table.\"\n",
              "              style=\"display:none;\">\n",
              "        \n",
              "  <svg xmlns=\"http://www.w3.org/2000/svg\" height=\"24px\"viewBox=\"0 0 24 24\"\n",
              "       width=\"24px\">\n",
              "    <path d=\"M0 0h24v24H0V0z\" fill=\"none\"/>\n",
              "    <path d=\"M18.56 5.44l.94 2.06.94-2.06 2.06-.94-2.06-.94-.94-2.06-.94 2.06-2.06.94zm-11 1L8.5 8.5l.94-2.06 2.06-.94-2.06-.94L8.5 2.5l-.94 2.06-2.06.94zm10 10l.94 2.06.94-2.06 2.06-.94-2.06-.94-.94-2.06-.94 2.06-2.06.94z\"/><path d=\"M17.41 7.96l-1.37-1.37c-.4-.4-.92-.59-1.43-.59-.52 0-1.04.2-1.43.59L10.3 9.45l-7.72 7.72c-.78.78-.78 2.05 0 2.83L4 21.41c.39.39.9.59 1.41.59.51 0 1.02-.2 1.41-.59l7.78-7.78 2.81-2.81c.8-.78.8-2.07 0-2.86zM5.41 20L4 18.59l7.72-7.72 1.47 1.35L5.41 20z\"/>\n",
              "  </svg>\n",
              "      </button>\n",
              "      \n",
              "  <style>\n",
              "    .colab-df-container {\n",
              "      display:flex;\n",
              "      flex-wrap:wrap;\n",
              "      gap: 12px;\n",
              "    }\n",
              "\n",
              "    .colab-df-convert {\n",
              "      background-color: #E8F0FE;\n",
              "      border: none;\n",
              "      border-radius: 50%;\n",
              "      cursor: pointer;\n",
              "      display: none;\n",
              "      fill: #1967D2;\n",
              "      height: 32px;\n",
              "      padding: 0 0 0 0;\n",
              "      width: 32px;\n",
              "    }\n",
              "\n",
              "    .colab-df-convert:hover {\n",
              "      background-color: #E2EBFA;\n",
              "      box-shadow: 0px 1px 2px rgba(60, 64, 67, 0.3), 0px 1px 3px 1px rgba(60, 64, 67, 0.15);\n",
              "      fill: #174EA6;\n",
              "    }\n",
              "\n",
              "    [theme=dark] .colab-df-convert {\n",
              "      background-color: #3B4455;\n",
              "      fill: #D2E3FC;\n",
              "    }\n",
              "\n",
              "    [theme=dark] .colab-df-convert:hover {\n",
              "      background-color: #434B5C;\n",
              "      box-shadow: 0px 1px 3px 1px rgba(0, 0, 0, 0.15);\n",
              "      filter: drop-shadow(0px 1px 2px rgba(0, 0, 0, 0.3));\n",
              "      fill: #FFFFFF;\n",
              "    }\n",
              "  </style>\n",
              "\n",
              "      <script>\n",
              "        const buttonEl =\n",
              "          document.querySelector('#df-02b273ef-187c-4569-bf9f-42da1d60a0e6 button.colab-df-convert');\n",
              "        buttonEl.style.display =\n",
              "          google.colab.kernel.accessAllowed ? 'block' : 'none';\n",
              "\n",
              "        async function convertToInteractive(key) {\n",
              "          const element = document.querySelector('#df-02b273ef-187c-4569-bf9f-42da1d60a0e6');\n",
              "          const dataTable =\n",
              "            await google.colab.kernel.invokeFunction('convertToInteractive',\n",
              "                                                     [key], {});\n",
              "          if (!dataTable) return;\n",
              "\n",
              "          const docLinkHtml = 'Like what you see? Visit the ' +\n",
              "            '<a target=\"_blank\" href=https://colab.research.google.com/notebooks/data_table.ipynb>data table notebook</a>'\n",
              "            + ' to learn more about interactive tables.';\n",
              "          element.innerHTML = '';\n",
              "          dataTable['output_type'] = 'display_data';\n",
              "          await google.colab.output.renderOutput(dataTable, element);\n",
              "          const docLink = document.createElement('div');\n",
              "          docLink.innerHTML = docLinkHtml;\n",
              "          element.appendChild(docLink);\n",
              "        }\n",
              "      </script>\n",
              "    </div>\n",
              "  </div>\n",
              "  "
            ]
          },
          "metadata": {},
          "execution_count": 13
        }
      ]
    },
    {
      "cell_type": "markdown",
      "source": [
        "# 데이터 전처리"
      ],
      "metadata": {
        "id": "LDWWpp0q7tFs"
      }
    },
    {
      "cell_type": "markdown",
      "source": [
        "## 시계열 분석을 위해 date를 index로 변환"
      ],
      "metadata": {
        "id": "2yIT2B3j7xCb"
      }
    },
    {
      "cell_type": "code",
      "source": [
        "df_train = df_train.set_index('transacted_date')"
      ],
      "metadata": {
        "id": "9nUfU4cU64c2"
      },
      "execution_count": 14,
      "outputs": []
    },
    {
      "cell_type": "code",
      "source": [
        "df_train.head()"
      ],
      "metadata": {
        "colab": {
          "base_uri": "https://localhost:8080/",
          "height": 237
        },
        "id": "FhnKrCOk764E",
        "outputId": "bd5bdb74-2fb9-4b7e-b9c7-48ded2b88f94"
      },
      "execution_count": 15,
      "outputs": [
        {
          "output_type": "execute_result",
          "data": {
            "text/plain": [
              "                 store_id  card_id card_company transacted_time  \\\n",
              "transacted_date                                                   \n",
              "2016-06-01              0        0            b           13:13   \n",
              "2016-06-01              0        1            h           18:12   \n",
              "2016-06-01              0        2            c           18:52   \n",
              "2016-06-01              0        3            a           20:22   \n",
              "2016-06-02              0        4            c           11:06   \n",
              "\n",
              "                 installment_term region type_of_business     amount  \n",
              "transacted_date                                                       \n",
              "2016-06-01                      0    NaN           기타 미용업 1857.14286  \n",
              "2016-06-01                      0    NaN           기타 미용업  857.14286  \n",
              "2016-06-01                      0    NaN           기타 미용업 2000.00000  \n",
              "2016-06-01                      0    NaN           기타 미용업 7857.14286  \n",
              "2016-06-02                      0    NaN           기타 미용업 2000.00000  "
            ],
            "text/html": [
              "\n",
              "  <div id=\"df-cb6f79b9-dbe6-4c55-887d-7fdda6898fc5\">\n",
              "    <div class=\"colab-df-container\">\n",
              "      <div>\n",
              "<style scoped>\n",
              "    .dataframe tbody tr th:only-of-type {\n",
              "        vertical-align: middle;\n",
              "    }\n",
              "\n",
              "    .dataframe tbody tr th {\n",
              "        vertical-align: top;\n",
              "    }\n",
              "\n",
              "    .dataframe thead th {\n",
              "        text-align: right;\n",
              "    }\n",
              "</style>\n",
              "<table border=\"1\" class=\"dataframe\">\n",
              "  <thead>\n",
              "    <tr style=\"text-align: right;\">\n",
              "      <th></th>\n",
              "      <th>store_id</th>\n",
              "      <th>card_id</th>\n",
              "      <th>card_company</th>\n",
              "      <th>transacted_time</th>\n",
              "      <th>installment_term</th>\n",
              "      <th>region</th>\n",
              "      <th>type_of_business</th>\n",
              "      <th>amount</th>\n",
              "    </tr>\n",
              "    <tr>\n",
              "      <th>transacted_date</th>\n",
              "      <th></th>\n",
              "      <th></th>\n",
              "      <th></th>\n",
              "      <th></th>\n",
              "      <th></th>\n",
              "      <th></th>\n",
              "      <th></th>\n",
              "      <th></th>\n",
              "    </tr>\n",
              "  </thead>\n",
              "  <tbody>\n",
              "    <tr>\n",
              "      <th>2016-06-01</th>\n",
              "      <td>0</td>\n",
              "      <td>0</td>\n",
              "      <td>b</td>\n",
              "      <td>13:13</td>\n",
              "      <td>0</td>\n",
              "      <td>NaN</td>\n",
              "      <td>기타 미용업</td>\n",
              "      <td>1857.14286</td>\n",
              "    </tr>\n",
              "    <tr>\n",
              "      <th>2016-06-01</th>\n",
              "      <td>0</td>\n",
              "      <td>1</td>\n",
              "      <td>h</td>\n",
              "      <td>18:12</td>\n",
              "      <td>0</td>\n",
              "      <td>NaN</td>\n",
              "      <td>기타 미용업</td>\n",
              "      <td>857.14286</td>\n",
              "    </tr>\n",
              "    <tr>\n",
              "      <th>2016-06-01</th>\n",
              "      <td>0</td>\n",
              "      <td>2</td>\n",
              "      <td>c</td>\n",
              "      <td>18:52</td>\n",
              "      <td>0</td>\n",
              "      <td>NaN</td>\n",
              "      <td>기타 미용업</td>\n",
              "      <td>2000.00000</td>\n",
              "    </tr>\n",
              "    <tr>\n",
              "      <th>2016-06-01</th>\n",
              "      <td>0</td>\n",
              "      <td>3</td>\n",
              "      <td>a</td>\n",
              "      <td>20:22</td>\n",
              "      <td>0</td>\n",
              "      <td>NaN</td>\n",
              "      <td>기타 미용업</td>\n",
              "      <td>7857.14286</td>\n",
              "    </tr>\n",
              "    <tr>\n",
              "      <th>2016-06-02</th>\n",
              "      <td>0</td>\n",
              "      <td>4</td>\n",
              "      <td>c</td>\n",
              "      <td>11:06</td>\n",
              "      <td>0</td>\n",
              "      <td>NaN</td>\n",
              "      <td>기타 미용업</td>\n",
              "      <td>2000.00000</td>\n",
              "    </tr>\n",
              "  </tbody>\n",
              "</table>\n",
              "</div>\n",
              "      <button class=\"colab-df-convert\" onclick=\"convertToInteractive('df-cb6f79b9-dbe6-4c55-887d-7fdda6898fc5')\"\n",
              "              title=\"Convert this dataframe to an interactive table.\"\n",
              "              style=\"display:none;\">\n",
              "        \n",
              "  <svg xmlns=\"http://www.w3.org/2000/svg\" height=\"24px\"viewBox=\"0 0 24 24\"\n",
              "       width=\"24px\">\n",
              "    <path d=\"M0 0h24v24H0V0z\" fill=\"none\"/>\n",
              "    <path d=\"M18.56 5.44l.94 2.06.94-2.06 2.06-.94-2.06-.94-.94-2.06-.94 2.06-2.06.94zm-11 1L8.5 8.5l.94-2.06 2.06-.94-2.06-.94L8.5 2.5l-.94 2.06-2.06.94zm10 10l.94 2.06.94-2.06 2.06-.94-2.06-.94-.94-2.06-.94 2.06-2.06.94z\"/><path d=\"M17.41 7.96l-1.37-1.37c-.4-.4-.92-.59-1.43-.59-.52 0-1.04.2-1.43.59L10.3 9.45l-7.72 7.72c-.78.78-.78 2.05 0 2.83L4 21.41c.39.39.9.59 1.41.59.51 0 1.02-.2 1.41-.59l7.78-7.78 2.81-2.81c.8-.78.8-2.07 0-2.86zM5.41 20L4 18.59l7.72-7.72 1.47 1.35L5.41 20z\"/>\n",
              "  </svg>\n",
              "      </button>\n",
              "      \n",
              "  <style>\n",
              "    .colab-df-container {\n",
              "      display:flex;\n",
              "      flex-wrap:wrap;\n",
              "      gap: 12px;\n",
              "    }\n",
              "\n",
              "    .colab-df-convert {\n",
              "      background-color: #E8F0FE;\n",
              "      border: none;\n",
              "      border-radius: 50%;\n",
              "      cursor: pointer;\n",
              "      display: none;\n",
              "      fill: #1967D2;\n",
              "      height: 32px;\n",
              "      padding: 0 0 0 0;\n",
              "      width: 32px;\n",
              "    }\n",
              "\n",
              "    .colab-df-convert:hover {\n",
              "      background-color: #E2EBFA;\n",
              "      box-shadow: 0px 1px 2px rgba(60, 64, 67, 0.3), 0px 1px 3px 1px rgba(60, 64, 67, 0.15);\n",
              "      fill: #174EA6;\n",
              "    }\n",
              "\n",
              "    [theme=dark] .colab-df-convert {\n",
              "      background-color: #3B4455;\n",
              "      fill: #D2E3FC;\n",
              "    }\n",
              "\n",
              "    [theme=dark] .colab-df-convert:hover {\n",
              "      background-color: #434B5C;\n",
              "      box-shadow: 0px 1px 3px 1px rgba(0, 0, 0, 0.15);\n",
              "      filter: drop-shadow(0px 1px 2px rgba(0, 0, 0, 0.3));\n",
              "      fill: #FFFFFF;\n",
              "    }\n",
              "  </style>\n",
              "\n",
              "      <script>\n",
              "        const buttonEl =\n",
              "          document.querySelector('#df-cb6f79b9-dbe6-4c55-887d-7fdda6898fc5 button.colab-df-convert');\n",
              "        buttonEl.style.display =\n",
              "          google.colab.kernel.accessAllowed ? 'block' : 'none';\n",
              "\n",
              "        async function convertToInteractive(key) {\n",
              "          const element = document.querySelector('#df-cb6f79b9-dbe6-4c55-887d-7fdda6898fc5');\n",
              "          const dataTable =\n",
              "            await google.colab.kernel.invokeFunction('convertToInteractive',\n",
              "                                                     [key], {});\n",
              "          if (!dataTable) return;\n",
              "\n",
              "          const docLinkHtml = 'Like what you see? Visit the ' +\n",
              "            '<a target=\"_blank\" href=https://colab.research.google.com/notebooks/data_table.ipynb>data table notebook</a>'\n",
              "            + ' to learn more about interactive tables.';\n",
              "          element.innerHTML = '';\n",
              "          dataTable['output_type'] = 'display_data';\n",
              "          await google.colab.output.renderOutput(dataTable, element);\n",
              "          const docLink = document.createElement('div');\n",
              "          docLink.innerHTML = docLinkHtml;\n",
              "          element.appendChild(docLink);\n",
              "        }\n",
              "      </script>\n",
              "    </div>\n",
              "  </div>\n",
              "  "
            ]
          },
          "metadata": {},
          "execution_count": 15
        }
      ]
    },
    {
      "cell_type": "markdown",
      "source": [
        "## 새로운 Columns 생성\n"
      ],
      "metadata": {
        "id": "uitayvfg7_z_"
      }
    },
    {
      "cell_type": "markdown",
      "source": [
        "* 'store_id', 'region', 'type_of_business' 기존과 동일\n",
        "* day_of_week : 각 요일을 나타내는 숫자, 월요일은 0 일요일은 6\n",
        "* business_day : working day 여부, 1이면 working day 0이면 주말\n",
        "* num_of_pay : 일 결제 건수, 'card_id'의 count로 생성\n",
        "* num_of_revisit : 단골 방문 횟수, 'card_id'의 value 중 count가 2보다 큰(3 이상) value의 결제 건수\n",
        "* installment_term : 일 총 할부 개월 수, 기존 installment_term의 합\n",
        "* amount : 일 매출 액, 기존 amount의 합"
      ],
      "metadata": {
        "id": "CFsen9uWJfyz"
      }
    },
    {
      "cell_type": "code",
      "source": [
        "def preprocessing_day(DataFrame):\n",
        "  \n",
        "  # 새로운 데이터 프레임 생성\n",
        "  new_df = pd.DataFrame()\n",
        "\n",
        "\n",
        "  for store in tqdm(DataFrame.store_id.unique()):\n",
        "\n",
        "    # 데이터 셋에서 상점의 고유 아이디 별 데이터 추출\n",
        "    unique_store = DataFrame[DataFrame.store_id == store]\n",
        "    unique_store.index = pd.to_datetime(unique_store.index)\n",
        "\n",
        "    # '일 (day)'별로 사용한 카드의 고유 아이디별로 거래 횟수 확인\n",
        "    count_cols = unique_store['card_id'].resample(rule='d').count().rename('num_of_pay')\n",
        "\n",
        "\n",
        "    # 단골 방문 횟수, 'card_id'의 value 중 count가 2보다 큰(3 이상) value의 결제 건수\n",
        "    count_visit = unique_store.card_id.value_counts().reset_index()\n",
        "\n",
        "    cond_visit = (count_visit['card_id'] > 2)\n",
        "    \n",
        "    revisit_idx = count_visit.loc[cond_visit][\"index\"].values\n",
        "\n",
        "    df_revisit = unique_store[unique_store.card_id.isin(revisit_idx)]\n",
        "    df_revisit.index = pd.to_datetime(df_revisit.index)\n",
        "\n",
        "    revisit_ct = df_revisit[df_revisit.card_id.isin(revisit_idx)].card_id.resample(rule='d').count().rename('num_of_revisit')\n",
        "\n",
        "    # 할부 개월수와 매출액은 일 단위로 합\n",
        "    sum_cols = unique_store[['installment_term', 'amount']].resample(rule='d').sum()\n",
        "\n",
        "    # 새로운 Columns 병합\n",
        "    preprocessing_df = pd.concat([count_cols, revisit_ct, sum_cols], axis=1)\n",
        "\n",
        "    # 기존 Columns 불러오기\n",
        "    preprocessing_df.insert(0, 'store_id', store)\n",
        "    preprocessing_df.insert(4, 'region', unique_store[unique_store.store_id == store].region.unique()[0])\n",
        "    preprocessing_df.insert(5, 'type_of_business', unique_store[unique_store.store_id == store].type_of_business.unique()[0])\n",
        "\n",
        "    # 모두 병합\n",
        "    new_df = pd.concat([new_df, preprocessing_df], axis=0)\n",
        "\n",
        "  # 각 요일을 나타내는 숫자, 월요일은 0 일요일은 6\n",
        "  new_df.insert(1, 'day_of_week', new_df.index.dayofweek)\n",
        "\n",
        "  # working day 여부, 1이면 working day 0이면 주말\n",
        "  new_df.insert(2, 'business_day', new_df.day_of_week.replace({0:1, 2:1, 3:1, 4:1, 5:0, 6:0}).values)\n",
        "\n",
        "  # 단골 방문이 없는 경우 0으로 대체\n",
        "  new_df.num_of_revisit.fillna(0, inplace=True)\n",
        "\n",
        "  return new_df"
      ],
      "metadata": {
        "id": "Duj8g1SZ78lu"
      },
      "execution_count": 16,
      "outputs": []
    },
    {
      "cell_type": "code",
      "source": [
        "day_df = preprocessing_day(df_train)"
      ],
      "metadata": {
        "colab": {
          "base_uri": "https://localhost:8080/",
          "height": 49,
          "referenced_widgets": [
            "c4a8bd115b674cbbac26f29e8931c15c",
            "451c0287c3cb41e0a2c46c85ca2d31f8",
            "3a1bb8a6fdcc4ea09f9c4706ce38cbd2",
            "41d1bf002f4a49f184663a3688d118c5",
            "bda2380aced3413397a47d31d671e6ee",
            "6f4a244450554dafa9092bd2326515d7",
            "9cf23c43a2c547adaad49593337d9700",
            "5eb3f6a1af614cf49898cd4d6135168b",
            "2160595e240046f0b47372b8fb3dc4ea",
            "353495cc51134d1b91ab36bc137e5ce4",
            "b8d15e5afc3042ff8a8362ef2e4f0bb2"
          ]
        },
        "id": "n9UAURR4Hx48",
        "outputId": "343fdcb2-9b24-42ad-9120-eba544078da1"
      },
      "execution_count": 17,
      "outputs": [
        {
          "output_type": "display_data",
          "data": {
            "text/plain": [
              "  0%|          | 0/1967 [00:00<?, ?it/s]"
            ],
            "application/vnd.jupyter.widget-view+json": {
              "version_major": 2,
              "version_minor": 0,
              "model_id": "c4a8bd115b674cbbac26f29e8931c15c"
            }
          },
          "metadata": {}
        }
      ]
    },
    {
      "cell_type": "markdown",
      "source": [
        "## 전처리된 데이터 확인하기"
      ],
      "metadata": {
        "id": "VCFvA1O_JVq8"
      }
    },
    {
      "cell_type": "code",
      "source": [
        "day_df.head()"
      ],
      "metadata": {
        "colab": {
          "base_uri": "https://localhost:8080/",
          "height": 237
        },
        "id": "QeDFnFcaHPdt",
        "outputId": "aa822eec-abb3-4e9f-f995-6eafaaf31a2f"
      },
      "execution_count": 18,
      "outputs": [
        {
          "output_type": "execute_result",
          "data": {
            "text/plain": [
              "                 store_id  day_of_week  business_day  num_of_pay  \\\n",
              "transacted_date                                                    \n",
              "2016-06-01              0            2             1           4   \n",
              "2016-06-02              0            3             1           7   \n",
              "2016-06-03              0            4             1           3   \n",
              "2016-06-04              0            5             0           7   \n",
              "2016-06-05              0            6             0           3   \n",
              "\n",
              "                 num_of_revisit  installment_term region type_of_business  \\\n",
              "transacted_date                                                             \n",
              "2016-06-01              4.00000                 0    NaN           기타 미용업   \n",
              "2016-06-02              3.00000                 0    NaN           기타 미용업   \n",
              "2016-06-03              2.00000                 0    NaN           기타 미용업   \n",
              "2016-06-04              3.00000                 0    NaN           기타 미용업   \n",
              "2016-06-05              3.00000                 0    NaN           기타 미용업   \n",
              "\n",
              "                     amount  \n",
              "transacted_date              \n",
              "2016-06-01      12571.42857  \n",
              "2016-06-02      40571.42857  \n",
              "2016-06-03      18142.85714  \n",
              "2016-06-04      31714.28571  \n",
              "2016-06-05      10428.57143  "
            ],
            "text/html": [
              "\n",
              "  <div id=\"df-3204a45f-84ab-45a3-a480-2fd3bfb52961\">\n",
              "    <div class=\"colab-df-container\">\n",
              "      <div>\n",
              "<style scoped>\n",
              "    .dataframe tbody tr th:only-of-type {\n",
              "        vertical-align: middle;\n",
              "    }\n",
              "\n",
              "    .dataframe tbody tr th {\n",
              "        vertical-align: top;\n",
              "    }\n",
              "\n",
              "    .dataframe thead th {\n",
              "        text-align: right;\n",
              "    }\n",
              "</style>\n",
              "<table border=\"1\" class=\"dataframe\">\n",
              "  <thead>\n",
              "    <tr style=\"text-align: right;\">\n",
              "      <th></th>\n",
              "      <th>store_id</th>\n",
              "      <th>day_of_week</th>\n",
              "      <th>business_day</th>\n",
              "      <th>num_of_pay</th>\n",
              "      <th>num_of_revisit</th>\n",
              "      <th>installment_term</th>\n",
              "      <th>region</th>\n",
              "      <th>type_of_business</th>\n",
              "      <th>amount</th>\n",
              "    </tr>\n",
              "    <tr>\n",
              "      <th>transacted_date</th>\n",
              "      <th></th>\n",
              "      <th></th>\n",
              "      <th></th>\n",
              "      <th></th>\n",
              "      <th></th>\n",
              "      <th></th>\n",
              "      <th></th>\n",
              "      <th></th>\n",
              "      <th></th>\n",
              "    </tr>\n",
              "  </thead>\n",
              "  <tbody>\n",
              "    <tr>\n",
              "      <th>2016-06-01</th>\n",
              "      <td>0</td>\n",
              "      <td>2</td>\n",
              "      <td>1</td>\n",
              "      <td>4</td>\n",
              "      <td>4.00000</td>\n",
              "      <td>0</td>\n",
              "      <td>NaN</td>\n",
              "      <td>기타 미용업</td>\n",
              "      <td>12571.42857</td>\n",
              "    </tr>\n",
              "    <tr>\n",
              "      <th>2016-06-02</th>\n",
              "      <td>0</td>\n",
              "      <td>3</td>\n",
              "      <td>1</td>\n",
              "      <td>7</td>\n",
              "      <td>3.00000</td>\n",
              "      <td>0</td>\n",
              "      <td>NaN</td>\n",
              "      <td>기타 미용업</td>\n",
              "      <td>40571.42857</td>\n",
              "    </tr>\n",
              "    <tr>\n",
              "      <th>2016-06-03</th>\n",
              "      <td>0</td>\n",
              "      <td>4</td>\n",
              "      <td>1</td>\n",
              "      <td>3</td>\n",
              "      <td>2.00000</td>\n",
              "      <td>0</td>\n",
              "      <td>NaN</td>\n",
              "      <td>기타 미용업</td>\n",
              "      <td>18142.85714</td>\n",
              "    </tr>\n",
              "    <tr>\n",
              "      <th>2016-06-04</th>\n",
              "      <td>0</td>\n",
              "      <td>5</td>\n",
              "      <td>0</td>\n",
              "      <td>7</td>\n",
              "      <td>3.00000</td>\n",
              "      <td>0</td>\n",
              "      <td>NaN</td>\n",
              "      <td>기타 미용업</td>\n",
              "      <td>31714.28571</td>\n",
              "    </tr>\n",
              "    <tr>\n",
              "      <th>2016-06-05</th>\n",
              "      <td>0</td>\n",
              "      <td>6</td>\n",
              "      <td>0</td>\n",
              "      <td>3</td>\n",
              "      <td>3.00000</td>\n",
              "      <td>0</td>\n",
              "      <td>NaN</td>\n",
              "      <td>기타 미용업</td>\n",
              "      <td>10428.57143</td>\n",
              "    </tr>\n",
              "  </tbody>\n",
              "</table>\n",
              "</div>\n",
              "      <button class=\"colab-df-convert\" onclick=\"convertToInteractive('df-3204a45f-84ab-45a3-a480-2fd3bfb52961')\"\n",
              "              title=\"Convert this dataframe to an interactive table.\"\n",
              "              style=\"display:none;\">\n",
              "        \n",
              "  <svg xmlns=\"http://www.w3.org/2000/svg\" height=\"24px\"viewBox=\"0 0 24 24\"\n",
              "       width=\"24px\">\n",
              "    <path d=\"M0 0h24v24H0V0z\" fill=\"none\"/>\n",
              "    <path d=\"M18.56 5.44l.94 2.06.94-2.06 2.06-.94-2.06-.94-.94-2.06-.94 2.06-2.06.94zm-11 1L8.5 8.5l.94-2.06 2.06-.94-2.06-.94L8.5 2.5l-.94 2.06-2.06.94zm10 10l.94 2.06.94-2.06 2.06-.94-2.06-.94-.94-2.06-.94 2.06-2.06.94z\"/><path d=\"M17.41 7.96l-1.37-1.37c-.4-.4-.92-.59-1.43-.59-.52 0-1.04.2-1.43.59L10.3 9.45l-7.72 7.72c-.78.78-.78 2.05 0 2.83L4 21.41c.39.39.9.59 1.41.59.51 0 1.02-.2 1.41-.59l7.78-7.78 2.81-2.81c.8-.78.8-2.07 0-2.86zM5.41 20L4 18.59l7.72-7.72 1.47 1.35L5.41 20z\"/>\n",
              "  </svg>\n",
              "      </button>\n",
              "      \n",
              "  <style>\n",
              "    .colab-df-container {\n",
              "      display:flex;\n",
              "      flex-wrap:wrap;\n",
              "      gap: 12px;\n",
              "    }\n",
              "\n",
              "    .colab-df-convert {\n",
              "      background-color: #E8F0FE;\n",
              "      border: none;\n",
              "      border-radius: 50%;\n",
              "      cursor: pointer;\n",
              "      display: none;\n",
              "      fill: #1967D2;\n",
              "      height: 32px;\n",
              "      padding: 0 0 0 0;\n",
              "      width: 32px;\n",
              "    }\n",
              "\n",
              "    .colab-df-convert:hover {\n",
              "      background-color: #E2EBFA;\n",
              "      box-shadow: 0px 1px 2px rgba(60, 64, 67, 0.3), 0px 1px 3px 1px rgba(60, 64, 67, 0.15);\n",
              "      fill: #174EA6;\n",
              "    }\n",
              "\n",
              "    [theme=dark] .colab-df-convert {\n",
              "      background-color: #3B4455;\n",
              "      fill: #D2E3FC;\n",
              "    }\n",
              "\n",
              "    [theme=dark] .colab-df-convert:hover {\n",
              "      background-color: #434B5C;\n",
              "      box-shadow: 0px 1px 3px 1px rgba(0, 0, 0, 0.15);\n",
              "      filter: drop-shadow(0px 1px 2px rgba(0, 0, 0, 0.3));\n",
              "      fill: #FFFFFF;\n",
              "    }\n",
              "  </style>\n",
              "\n",
              "      <script>\n",
              "        const buttonEl =\n",
              "          document.querySelector('#df-3204a45f-84ab-45a3-a480-2fd3bfb52961 button.colab-df-convert');\n",
              "        buttonEl.style.display =\n",
              "          google.colab.kernel.accessAllowed ? 'block' : 'none';\n",
              "\n",
              "        async function convertToInteractive(key) {\n",
              "          const element = document.querySelector('#df-3204a45f-84ab-45a3-a480-2fd3bfb52961');\n",
              "          const dataTable =\n",
              "            await google.colab.kernel.invokeFunction('convertToInteractive',\n",
              "                                                     [key], {});\n",
              "          if (!dataTable) return;\n",
              "\n",
              "          const docLinkHtml = 'Like what you see? Visit the ' +\n",
              "            '<a target=\"_blank\" href=https://colab.research.google.com/notebooks/data_table.ipynb>data table notebook</a>'\n",
              "            + ' to learn more about interactive tables.';\n",
              "          element.innerHTML = '';\n",
              "          dataTable['output_type'] = 'display_data';\n",
              "          await google.colab.output.renderOutput(dataTable, element);\n",
              "          const docLink = document.createElement('div');\n",
              "          docLink.innerHTML = docLinkHtml;\n",
              "          element.appendChild(docLink);\n",
              "        }\n",
              "      </script>\n",
              "    </div>\n",
              "  </div>\n",
              "  "
            ]
          },
          "metadata": {},
          "execution_count": 18
        }
      ]
    },
    {
      "cell_type": "code",
      "source": [
        "day_df.isnull().sum()"
      ],
      "metadata": {
        "colab": {
          "base_uri": "https://localhost:8080/"
        },
        "id": "xhdLDo26JG0q",
        "outputId": "f98ac950-cb83-4293-a26e-a8ae52663cec"
      },
      "execution_count": 19,
      "outputs": [
        {
          "output_type": "execute_result",
          "data": {
            "text/plain": [
              "store_id                  0\n",
              "day_of_week               0\n",
              "business_day              0\n",
              "num_of_pay                0\n",
              "num_of_revisit            0\n",
              "installment_term          0\n",
              "region               629927\n",
              "type_of_business    1087791\n",
              "amount                    0\n",
              "dtype: int64"
            ]
          },
          "metadata": {},
          "execution_count": 19
        }
      ]
    },
    {
      "cell_type": "code",
      "source": [
        "df_corr = day_df.corr()\n",
        "df_corr"
      ],
      "metadata": {
        "colab": {
          "base_uri": "https://localhost:8080/",
          "height": 269
        },
        "id": "CQ4sM49nJMC7",
        "outputId": "7382bcec-4de7-4be0-9b66-4e1b4e07572e"
      },
      "execution_count": 20,
      "outputs": [
        {
          "output_type": "execute_result",
          "data": {
            "text/plain": [
              "                  store_id  day_of_week  business_day  num_of_pay  \\\n",
              "store_id           1.00000     -0.00004       0.00001     0.04237   \n",
              "day_of_week       -0.00004      1.00000      -0.79052     0.01672   \n",
              "business_day       0.00001     -0.79052       1.00000    -0.00460   \n",
              "num_of_pay         0.04237      0.01672      -0.00460     1.00000   \n",
              "num_of_revisit     0.00806     -0.03869       0.05721     0.70112   \n",
              "installment_term  -0.01218     -0.01395       0.01530     0.09414   \n",
              "amount            -0.01835     -0.02150       0.02947     0.26525   \n",
              "\n",
              "                  num_of_revisit  installment_term   amount  \n",
              "store_id                 0.00806          -0.01218 -0.01835  \n",
              "day_of_week             -0.03869          -0.01395 -0.02150  \n",
              "business_day             0.05721           0.01530  0.02947  \n",
              "num_of_pay               0.70112           0.09414  0.26525  \n",
              "num_of_revisit           1.00000           0.07113  0.26067  \n",
              "installment_term         0.07113           1.00000  0.26750  \n",
              "amount                   0.26067           0.26750  1.00000  "
            ],
            "text/html": [
              "\n",
              "  <div id=\"df-e92b3f81-a7f8-4142-be31-5ed379cc46df\">\n",
              "    <div class=\"colab-df-container\">\n",
              "      <div>\n",
              "<style scoped>\n",
              "    .dataframe tbody tr th:only-of-type {\n",
              "        vertical-align: middle;\n",
              "    }\n",
              "\n",
              "    .dataframe tbody tr th {\n",
              "        vertical-align: top;\n",
              "    }\n",
              "\n",
              "    .dataframe thead th {\n",
              "        text-align: right;\n",
              "    }\n",
              "</style>\n",
              "<table border=\"1\" class=\"dataframe\">\n",
              "  <thead>\n",
              "    <tr style=\"text-align: right;\">\n",
              "      <th></th>\n",
              "      <th>store_id</th>\n",
              "      <th>day_of_week</th>\n",
              "      <th>business_day</th>\n",
              "      <th>num_of_pay</th>\n",
              "      <th>num_of_revisit</th>\n",
              "      <th>installment_term</th>\n",
              "      <th>amount</th>\n",
              "    </tr>\n",
              "  </thead>\n",
              "  <tbody>\n",
              "    <tr>\n",
              "      <th>store_id</th>\n",
              "      <td>1.00000</td>\n",
              "      <td>-0.00004</td>\n",
              "      <td>0.00001</td>\n",
              "      <td>0.04237</td>\n",
              "      <td>0.00806</td>\n",
              "      <td>-0.01218</td>\n",
              "      <td>-0.01835</td>\n",
              "    </tr>\n",
              "    <tr>\n",
              "      <th>day_of_week</th>\n",
              "      <td>-0.00004</td>\n",
              "      <td>1.00000</td>\n",
              "      <td>-0.79052</td>\n",
              "      <td>0.01672</td>\n",
              "      <td>-0.03869</td>\n",
              "      <td>-0.01395</td>\n",
              "      <td>-0.02150</td>\n",
              "    </tr>\n",
              "    <tr>\n",
              "      <th>business_day</th>\n",
              "      <td>0.00001</td>\n",
              "      <td>-0.79052</td>\n",
              "      <td>1.00000</td>\n",
              "      <td>-0.00460</td>\n",
              "      <td>0.05721</td>\n",
              "      <td>0.01530</td>\n",
              "      <td>0.02947</td>\n",
              "    </tr>\n",
              "    <tr>\n",
              "      <th>num_of_pay</th>\n",
              "      <td>0.04237</td>\n",
              "      <td>0.01672</td>\n",
              "      <td>-0.00460</td>\n",
              "      <td>1.00000</td>\n",
              "      <td>0.70112</td>\n",
              "      <td>0.09414</td>\n",
              "      <td>0.26525</td>\n",
              "    </tr>\n",
              "    <tr>\n",
              "      <th>num_of_revisit</th>\n",
              "      <td>0.00806</td>\n",
              "      <td>-0.03869</td>\n",
              "      <td>0.05721</td>\n",
              "      <td>0.70112</td>\n",
              "      <td>1.00000</td>\n",
              "      <td>0.07113</td>\n",
              "      <td>0.26067</td>\n",
              "    </tr>\n",
              "    <tr>\n",
              "      <th>installment_term</th>\n",
              "      <td>-0.01218</td>\n",
              "      <td>-0.01395</td>\n",
              "      <td>0.01530</td>\n",
              "      <td>0.09414</td>\n",
              "      <td>0.07113</td>\n",
              "      <td>1.00000</td>\n",
              "      <td>0.26750</td>\n",
              "    </tr>\n",
              "    <tr>\n",
              "      <th>amount</th>\n",
              "      <td>-0.01835</td>\n",
              "      <td>-0.02150</td>\n",
              "      <td>0.02947</td>\n",
              "      <td>0.26525</td>\n",
              "      <td>0.26067</td>\n",
              "      <td>0.26750</td>\n",
              "      <td>1.00000</td>\n",
              "    </tr>\n",
              "  </tbody>\n",
              "</table>\n",
              "</div>\n",
              "      <button class=\"colab-df-convert\" onclick=\"convertToInteractive('df-e92b3f81-a7f8-4142-be31-5ed379cc46df')\"\n",
              "              title=\"Convert this dataframe to an interactive table.\"\n",
              "              style=\"display:none;\">\n",
              "        \n",
              "  <svg xmlns=\"http://www.w3.org/2000/svg\" height=\"24px\"viewBox=\"0 0 24 24\"\n",
              "       width=\"24px\">\n",
              "    <path d=\"M0 0h24v24H0V0z\" fill=\"none\"/>\n",
              "    <path d=\"M18.56 5.44l.94 2.06.94-2.06 2.06-.94-2.06-.94-.94-2.06-.94 2.06-2.06.94zm-11 1L8.5 8.5l.94-2.06 2.06-.94-2.06-.94L8.5 2.5l-.94 2.06-2.06.94zm10 10l.94 2.06.94-2.06 2.06-.94-2.06-.94-.94-2.06-.94 2.06-2.06.94z\"/><path d=\"M17.41 7.96l-1.37-1.37c-.4-.4-.92-.59-1.43-.59-.52 0-1.04.2-1.43.59L10.3 9.45l-7.72 7.72c-.78.78-.78 2.05 0 2.83L4 21.41c.39.39.9.59 1.41.59.51 0 1.02-.2 1.41-.59l7.78-7.78 2.81-2.81c.8-.78.8-2.07 0-2.86zM5.41 20L4 18.59l7.72-7.72 1.47 1.35L5.41 20z\"/>\n",
              "  </svg>\n",
              "      </button>\n",
              "      \n",
              "  <style>\n",
              "    .colab-df-container {\n",
              "      display:flex;\n",
              "      flex-wrap:wrap;\n",
              "      gap: 12px;\n",
              "    }\n",
              "\n",
              "    .colab-df-convert {\n",
              "      background-color: #E8F0FE;\n",
              "      border: none;\n",
              "      border-radius: 50%;\n",
              "      cursor: pointer;\n",
              "      display: none;\n",
              "      fill: #1967D2;\n",
              "      height: 32px;\n",
              "      padding: 0 0 0 0;\n",
              "      width: 32px;\n",
              "    }\n",
              "\n",
              "    .colab-df-convert:hover {\n",
              "      background-color: #E2EBFA;\n",
              "      box-shadow: 0px 1px 2px rgba(60, 64, 67, 0.3), 0px 1px 3px 1px rgba(60, 64, 67, 0.15);\n",
              "      fill: #174EA6;\n",
              "    }\n",
              "\n",
              "    [theme=dark] .colab-df-convert {\n",
              "      background-color: #3B4455;\n",
              "      fill: #D2E3FC;\n",
              "    }\n",
              "\n",
              "    [theme=dark] .colab-df-convert:hover {\n",
              "      background-color: #434B5C;\n",
              "      box-shadow: 0px 1px 3px 1px rgba(0, 0, 0, 0.15);\n",
              "      filter: drop-shadow(0px 1px 2px rgba(0, 0, 0, 0.3));\n",
              "      fill: #FFFFFF;\n",
              "    }\n",
              "  </style>\n",
              "\n",
              "      <script>\n",
              "        const buttonEl =\n",
              "          document.querySelector('#df-e92b3f81-a7f8-4142-be31-5ed379cc46df button.colab-df-convert');\n",
              "        buttonEl.style.display =\n",
              "          google.colab.kernel.accessAllowed ? 'block' : 'none';\n",
              "\n",
              "        async function convertToInteractive(key) {\n",
              "          const element = document.querySelector('#df-e92b3f81-a7f8-4142-be31-5ed379cc46df');\n",
              "          const dataTable =\n",
              "            await google.colab.kernel.invokeFunction('convertToInteractive',\n",
              "                                                     [key], {});\n",
              "          if (!dataTable) return;\n",
              "\n",
              "          const docLinkHtml = 'Like what you see? Visit the ' +\n",
              "            '<a target=\"_blank\" href=https://colab.research.google.com/notebooks/data_table.ipynb>data table notebook</a>'\n",
              "            + ' to learn more about interactive tables.';\n",
              "          element.innerHTML = '';\n",
              "          dataTable['output_type'] = 'display_data';\n",
              "          await google.colab.output.renderOutput(dataTable, element);\n",
              "          const docLink = document.createElement('div');\n",
              "          docLink.innerHTML = docLinkHtml;\n",
              "          element.appendChild(docLink);\n",
              "        }\n",
              "      </script>\n",
              "    </div>\n",
              "  </div>\n",
              "  "
            ]
          },
          "metadata": {},
          "execution_count": 20
        }
      ]
    },
    {
      "cell_type": "code",
      "source": [
        "sns.heatmap(df_corr, annot=True)"
      ],
      "metadata": {
        "colab": {
          "base_uri": "https://localhost:8080/",
          "height": 362
        },
        "id": "witcP_W0JlN7",
        "outputId": "c92c8b6e-9d59-4438-a9ae-ceab024921fe"
      },
      "execution_count": 21,
      "outputs": [
        {
          "output_type": "execute_result",
          "data": {
            "text/plain": [
              "<matplotlib.axes._subplots.AxesSubplot at 0x7fdfd6a42ad0>"
            ]
          },
          "metadata": {},
          "execution_count": 21
        },
        {
          "output_type": "display_data",
          "data": {
            "text/plain": [
              "<Figure size 432x288 with 2 Axes>"
            ],
            "image/png": "[encoded data removed]"
          },
          "metadata": {
            "needs_background": "light"
          }
        }
      ]
    },
    {
      "cell_type": "markdown",
      "source": [
        "## Modeling을 위해 Month 단위로 변환"
      ],
      "metadata": {
        "id": "EvCwnyQsKvJ0"
      }
    },
    {
      "cell_type": "markdown",
      "source": [
        "* 예측해야 하는 범위는 3개월인데 데이터는 시간 단위로 나뉘어져 있음 \n",
        "* month 주기로 resampling 후 forecast 범위를 3개월로 지정하여 해결"
      ],
      "metadata": {
        "id": "U67nhPMIK2JS"
      }
    },
    {
      "cell_type": "code",
      "source": [
        "def preprocessing_month(day_df):\n",
        "    sum_cols = ['num_of_pay', 'num_of_revisit', 'installment_term', 'amount']\n",
        "\n",
        "    df_monthly = pd.DataFrame()\n",
        "\n",
        "    for store in tqdm(day_df.store_id.unique()):\n",
        "        df_set = day_df[day_df.store_id == store]\n",
        "        \n",
        "        # nan값이 발생하는 경우를 없애기 위해 이전, 이후 달에 대한 정보를 추가한 후 제거\n",
        "        prev_date = pd.date_range(start=(df_set.index[0] - relativedelta(months=1)),\n",
        "                                  end=(df_set.index[0] - relativedelta(months=1)))\n",
        "        \n",
        "        add_date = pd.date_range(start=(df_set.index[-1] + relativedelta(months=1)),\n",
        "                                 end=(df_set.index[-1] + relativedelta(months=1)))\n",
        "        \n",
        "        df_set = pd.concat([pd.DataFrame(index=prev_date),\n",
        "                            df_set,\n",
        "                            pd.DataFrame(index=add_date)],\n",
        "                            axis=0)\n",
        "\n",
        "        df_set.loc[dt.strftime(df_set.index[0], '%Y-%m'), :] = 1\n",
        "        df_set.loc[dt.strftime(df_set.index[-1], '%Y-%m'), :] = 1\n",
        "\n",
        "        tot_day = df_set[df_set.amount != 0].day_of_week.resample(rule='m').count().rename('real_tot_day')\n",
        "        business = df_set[df_set.amount != 0].business_day.resample(rule='m').sum().rename('real_business_day')\n",
        "\n",
        "        business = business.drop([business.index[0], business.index[-1]], axis=0)\n",
        "        tot_day = tot_day.drop([tot_day.index[0], tot_day.index[-1]], axis=0)\n",
        "        df_set = df_set.drop([df_set.index[0], df_set.index[-1]], axis=0)\n",
        "\n",
        "        df = pd.concat([tot_day, business, df_set[sum_cols].resample(rule='m').sum()], axis=1)\n",
        "\n",
        "        df.insert(0, 'store_id', store)\n",
        "        df.insert(6, 'region', df_set.region.values[0])\n",
        "        df.insert(7, 'type_of_business', df_set.type_of_business.values[0])\n",
        "\n",
        "        df_monthly = pd.concat([df_monthly, df], axis=0)\n",
        "   \n",
        "    return df_monthly"
      ],
      "metadata": {
        "id": "5qJ2OaXqJzp9"
      },
      "execution_count": 22,
      "outputs": []
    },
    {
      "cell_type": "code",
      "source": [
        "month_df = preprocessing_month(day_df)"
      ],
      "metadata": {
        "colab": {
          "base_uri": "https://localhost:8080/",
          "height": 49,
          "referenced_widgets": [
            "23501841cafe435ebc25f8bb84a8a931",
            "dcf889694c0e4c05a60571fe713723d9",
            "523f1d020cd64769a019cc7b4755cd99",
            "746176222aad4157bc53337365cec4bb",
            "cb53a4fb50eb4ae9a7885330ee17978f",
            "5951683c2e9a4bf984b3348789e521a2",
            "5c6c05466b334455b273b316aab463e7",
            "7733a47893b245c786a635fc811144a7",
            "c167c669f9114616841e942d2f6f09f1",
            "ccfaefc85f3441a5ad6565416880f0ef",
            "cf24f338e8ce40a7ba0c4928f2fa02d2"
          ]
        },
        "id": "EBxoXrnVNYdv",
        "outputId": "61b237e2-c5f0-426b-f8c4-3a97d9043fdd"
      },
      "execution_count": 23,
      "outputs": [
        {
          "output_type": "display_data",
          "data": {
            "text/plain": [
              "  0%|          | 0/1967 [00:00<?, ?it/s]"
            ],
            "application/vnd.jupyter.widget-view+json": {
              "version_major": 2,
              "version_minor": 0,
              "model_id": "23501841cafe435ebc25f8bb84a8a931"
            }
          },
          "metadata": {}
        }
      ]
    },
    {
      "cell_type": "code",
      "source": [
        "month_df.isnull().sum()"
      ],
      "metadata": {
        "colab": {
          "base_uri": "https://localhost:8080/"
        },
        "id": "zQkP4iZ0Nf5D",
        "outputId": "12ec22b0-7015-49ea-d472-2f37e28bf9db"
      },
      "execution_count": 24,
      "outputs": [
        {
          "output_type": "execute_result",
          "data": {
            "text/plain": [
              "store_id                 0\n",
              "real_tot_day             0\n",
              "real_business_day        0\n",
              "num_of_pay               0\n",
              "num_of_revisit           0\n",
              "installment_term         0\n",
              "region               20900\n",
              "type_of_business     36048\n",
              "amount                   0\n",
              "dtype: int64"
            ]
          },
          "metadata": {},
          "execution_count": 24
        }
      ]
    },
    {
      "cell_type": "code",
      "source": [
        "print(\"rate of 'region' :\" , month_df.region.isnull().sum() / len(month_df))\n",
        "print(\"rate of 'type_of_business' :\" , month_df.type_of_business.isnull().sum() / len(month_df))"
      ],
      "metadata": {
        "colab": {
          "base_uri": "https://localhost:8080/"
        },
        "id": "4I_8Vuke2Xnx",
        "outputId": "3daf5cc3-90b7-42a8-b307-b2ae4cbe766a"
      },
      "execution_count": 38,
      "outputs": [
        {
          "output_type": "stream",
          "name": "stdout",
          "text": [
            "rate of 'region' : 0.34310104243618156\n",
            "rate of 'type_of_business' : 0.5917754247722236\n"
          ]
        }
      ]
    },
    {
      "cell_type": "code",
      "source": [
        "month_df = month_df.drop(['region', 'type_of_business'], axis=1)\n",
        "month_df.isnull().sum()"
      ],
      "metadata": {
        "colab": {
          "base_uri": "https://localhost:8080/"
        },
        "id": "6QcIXumS2X2-",
        "outputId": "c408c44d-9208-45e1-e7c2-c5f14760895d"
      },
      "execution_count": 39,
      "outputs": [
        {
          "output_type": "execute_result",
          "data": {
            "text/plain": [
              "store_id             0\n",
              "real_tot_day         0\n",
              "real_business_day    0\n",
              "num_of_pay           0\n",
              "num_of_revisit       0\n",
              "installment_term     0\n",
              "amount               0\n",
              "dtype: int64"
            ]
          },
          "metadata": {},
          "execution_count": 39
        }
      ]
    },
    {
      "cell_type": "code",
      "source": [
        "month_df.shape"
      ],
      "metadata": {
        "colab": {
          "base_uri": "https://localhost:8080/"
        },
        "id": "bIbTh-Mm2r76",
        "outputId": "10e3ceae-6f0d-4c7b-888f-e94f67412ddd"
      },
      "execution_count": 41,
      "outputs": [
        {
          "output_type": "execute_result",
          "data": {
            "text/plain": [
              "(60915, 7)"
            ]
          },
          "metadata": {},
          "execution_count": 41
        }
      ]
    },
    {
      "cell_type": "code",
      "source": [
        "month_df.describe()"
      ],
      "metadata": {
        "colab": {
          "base_uri": "https://localhost:8080/",
          "height": 300
        },
        "id": "RO8K4wWZ2wvr",
        "outputId": "32b40593-7cf6-4296-b1c6-94a098ca236d"
      },
      "execution_count": 42,
      "outputs": [
        {
          "output_type": "execute_result",
          "data": {
            "text/plain": [
              "         store_id  real_tot_day  real_business_day  num_of_pay  \\\n",
              "count 60915.00000   60915.00000        60915.00000 60915.00000   \n",
              "mean   1050.48428      21.06964           15.89620   107.63544   \n",
              "std     617.48320       7.75343            5.63154   101.24413   \n",
              "min       0.00000       0.00000            0.00000     0.00000   \n",
              "25%     515.00000      16.00000           12.00000    32.00000   \n",
              "50%    1039.00000      23.00000           17.00000    73.00000   \n",
              "75%    1587.00000      28.00000           21.00000   159.00000   \n",
              "max    2136.00000      31.00000           23.00000  2186.00000   \n",
              "\n",
              "       num_of_revisit  installment_term         amount  \n",
              "count     60915.00000       60915.00000    60915.00000  \n",
              "mean         40.01136          14.87540  1123187.83063  \n",
              "std          43.88133          33.42161  1753567.15171  \n",
              "min           0.00000           0.00000  -514285.71429  \n",
              "25%          11.00000           0.00000   339642.85714  \n",
              "50%          26.00000           3.00000   710714.28571  \n",
              "75%          54.00000          14.00000  1344650.00000  \n",
              "max        2154.00000        1125.00000 61429316.14286  "
            ],
            "text/html": [
              "\n",
              "  <div id=\"df-6a75fc62-56df-4eb9-b70d-531a2750e676\">\n",
              "    <div class=\"colab-df-container\">\n",
              "      <div>\n",
              "<style scoped>\n",
              "    .dataframe tbody tr th:only-of-type {\n",
              "        vertical-align: middle;\n",
              "    }\n",
              "\n",
              "    .dataframe tbody tr th {\n",
              "        vertical-align: top;\n",
              "    }\n",
              "\n",
              "    .dataframe thead th {\n",
              "        text-align: right;\n",
              "    }\n",
              "</style>\n",
              "<table border=\"1\" class=\"dataframe\">\n",
              "  <thead>\n",
              "    <tr style=\"text-align: right;\">\n",
              "      <th></th>\n",
              "      <th>store_id</th>\n",
              "      <th>real_tot_day</th>\n",
              "      <th>real_business_day</th>\n",
              "      <th>num_of_pay</th>\n",
              "      <th>num_of_revisit</th>\n",
              "      <th>installment_term</th>\n",
              "      <th>amount</th>\n",
              "    </tr>\n",
              "  </thead>\n",
              "  <tbody>\n",
              "    <tr>\n",
              "      <th>count</th>\n",
              "      <td>60915.00000</td>\n",
              "      <td>60915.00000</td>\n",
              "      <td>60915.00000</td>\n",
              "      <td>60915.00000</td>\n",
              "      <td>60915.00000</td>\n",
              "      <td>60915.00000</td>\n",
              "      <td>60915.00000</td>\n",
              "    </tr>\n",
              "    <tr>\n",
              "      <th>mean</th>\n",
              "      <td>1050.48428</td>\n",
              "      <td>21.06964</td>\n",
              "      <td>15.89620</td>\n",
              "      <td>107.63544</td>\n",
              "      <td>40.01136</td>\n",
              "      <td>14.87540</td>\n",
              "      <td>1123187.83063</td>\n",
              "    </tr>\n",
              "    <tr>\n",
              "      <th>std</th>\n",
              "      <td>617.48320</td>\n",
              "      <td>7.75343</td>\n",
              "      <td>5.63154</td>\n",
              "      <td>101.24413</td>\n",
              "      <td>43.88133</td>\n",
              "      <td>33.42161</td>\n",
              "      <td>1753567.15171</td>\n",
              "    </tr>\n",
              "    <tr>\n",
              "      <th>min</th>\n",
              "      <td>0.00000</td>\n",
              "      <td>0.00000</td>\n",
              "      <td>0.00000</td>\n",
              "      <td>0.00000</td>\n",
              "      <td>0.00000</td>\n",
              "      <td>0.00000</td>\n",
              "      <td>-514285.71429</td>\n",
              "    </tr>\n",
              "    <tr>\n",
              "      <th>25%</th>\n",
              "      <td>515.00000</td>\n",
              "      <td>16.00000</td>\n",
              "      <td>12.00000</td>\n",
              "      <td>32.00000</td>\n",
              "      <td>11.00000</td>\n",
              "      <td>0.00000</td>\n",
              "      <td>339642.85714</td>\n",
              "    </tr>\n",
              "    <tr>\n",
              "      <th>50%</th>\n",
              "      <td>1039.00000</td>\n",
              "      <td>23.00000</td>\n",
              "      <td>17.00000</td>\n",
              "      <td>73.00000</td>\n",
              "      <td>26.00000</td>\n",
              "      <td>3.00000</td>\n",
              "      <td>710714.28571</td>\n",
              "    </tr>\n",
              "    <tr>\n",
              "      <th>75%</th>\n",
              "      <td>1587.00000</td>\n",
              "      <td>28.00000</td>\n",
              "      <td>21.00000</td>\n",
              "      <td>159.00000</td>\n",
              "      <td>54.00000</td>\n",
              "      <td>14.00000</td>\n",
              "      <td>1344650.00000</td>\n",
              "    </tr>\n",
              "    <tr>\n",
              "      <th>max</th>\n",
              "      <td>2136.00000</td>\n",
              "      <td>31.00000</td>\n",
              "      <td>23.00000</td>\n",
              "      <td>2186.00000</td>\n",
              "      <td>2154.00000</td>\n",
              "      <td>1125.00000</td>\n",
              "      <td>61429316.14286</td>\n",
              "    </tr>\n",
              "  </tbody>\n",
              "</table>\n",
              "</div>\n",
              "      <button class=\"colab-df-convert\" onclick=\"convertToInteractive('df-6a75fc62-56df-4eb9-b70d-531a2750e676')\"\n",
              "              title=\"Convert this dataframe to an interactive table.\"\n",
              "              style=\"display:none;\">\n",
              "        \n",
              "  <svg xmlns=\"http://www.w3.org/2000/svg\" height=\"24px\"viewBox=\"0 0 24 24\"\n",
              "       width=\"24px\">\n",
              "    <path d=\"M0 0h24v24H0V0z\" fill=\"none\"/>\n",
              "    <path d=\"M18.56 5.44l.94 2.06.94-2.06 2.06-.94-2.06-.94-.94-2.06-.94 2.06-2.06.94zm-11 1L8.5 8.5l.94-2.06 2.06-.94-2.06-.94L8.5 2.5l-.94 2.06-2.06.94zm10 10l.94 2.06.94-2.06 2.06-.94-2.06-.94-.94-2.06-.94 2.06-2.06.94z\"/><path d=\"M17.41 7.96l-1.37-1.37c-.4-.4-.92-.59-1.43-.59-.52 0-1.04.2-1.43.59L10.3 9.45l-7.72 7.72c-.78.78-.78 2.05 0 2.83L4 21.41c.39.39.9.59 1.41.59.51 0 1.02-.2 1.41-.59l7.78-7.78 2.81-2.81c.8-.78.8-2.07 0-2.86zM5.41 20L4 18.59l7.72-7.72 1.47 1.35L5.41 20z\"/>\n",
              "  </svg>\n",
              "      </button>\n",
              "      \n",
              "  <style>\n",
              "    .colab-df-container {\n",
              "      display:flex;\n",
              "      flex-wrap:wrap;\n",
              "      gap: 12px;\n",
              "    }\n",
              "\n",
              "    .colab-df-convert {\n",
              "      background-color: #E8F0FE;\n",
              "      border: none;\n",
              "      border-radius: 50%;\n",
              "      cursor: pointer;\n",
              "      display: none;\n",
              "      fill: #1967D2;\n",
              "      height: 32px;\n",
              "      padding: 0 0 0 0;\n",
              "      width: 32px;\n",
              "    }\n",
              "\n",
              "    .colab-df-convert:hover {\n",
              "      background-color: #E2EBFA;\n",
              "      box-shadow: 0px 1px 2px rgba(60, 64, 67, 0.3), 0px 1px 3px 1px rgba(60, 64, 67, 0.15);\n",
              "      fill: #174EA6;\n",
              "    }\n",
              "\n",
              "    [theme=dark] .colab-df-convert {\n",
              "      background-color: #3B4455;\n",
              "      fill: #D2E3FC;\n",
              "    }\n",
              "\n",
              "    [theme=dark] .colab-df-convert:hover {\n",
              "      background-color: #434B5C;\n",
              "      box-shadow: 0px 1px 3px 1px rgba(0, 0, 0, 0.15);\n",
              "      filter: drop-shadow(0px 1px 2px rgba(0, 0, 0, 0.3));\n",
              "      fill: #FFFFFF;\n",
              "    }\n",
              "  </style>\n",
              "\n",
              "      <script>\n",
              "        const buttonEl =\n",
              "          document.querySelector('#df-6a75fc62-56df-4eb9-b70d-531a2750e676 button.colab-df-convert');\n",
              "        buttonEl.style.display =\n",
              "          google.colab.kernel.accessAllowed ? 'block' : 'none';\n",
              "\n",
              "        async function convertToInteractive(key) {\n",
              "          const element = document.querySelector('#df-6a75fc62-56df-4eb9-b70d-531a2750e676');\n",
              "          const dataTable =\n",
              "            await google.colab.kernel.invokeFunction('convertToInteractive',\n",
              "                                                     [key], {});\n",
              "          if (!dataTable) return;\n",
              "\n",
              "          const docLinkHtml = 'Like what you see? Visit the ' +\n",
              "            '<a target=\"_blank\" href=https://colab.research.google.com/notebooks/data_table.ipynb>data table notebook</a>'\n",
              "            + ' to learn more about interactive tables.';\n",
              "          element.innerHTML = '';\n",
              "          dataTable['output_type'] = 'display_data';\n",
              "          await google.colab.output.renderOutput(dataTable, element);\n",
              "          const docLink = document.createElement('div');\n",
              "          docLink.innerHTML = docLinkHtml;\n",
              "          element.appendChild(docLink);\n",
              "        }\n",
              "      </script>\n",
              "    </div>\n",
              "  </div>\n",
              "  "
            ]
          },
          "metadata": {},
          "execution_count": 42
        }
      ]
    },
    {
      "cell_type": "markdown",
      "source": [
        "# EDA"
      ],
      "metadata": {
        "id": "sN17ZGWK28LI"
      }
    },
    {
      "cell_type": "markdown",
      "source": [
        "## target 변수의 대칭성(정규성) 확인"
      ],
      "metadata": {
        "id": "ov2jbsfe7H0g"
      }
    },
    {
      "cell_type": "code",
      "source": [
        "fig, ax = plt.subplots(ncols=2, nrows=2, figsize=(10,10))\n",
        "\n",
        "for i, z in zip(month_df.store_id.unique()[:4], [[0,0], [0,1], [1,0], [1,1]]):\n",
        "    sns.distplot(month_df[month_df.store_id == i].amount,\n",
        "                 ax=ax[z[0], z[-1]]).set(title='Skewness : '+str(month_df[month_df.store_id == i].amount.skew()))"
      ],
      "metadata": {
        "colab": {
          "base_uri": "https://localhost:8080/",
          "height": 783
        },
        "id": "6z9ceepo26f3",
        "outputId": "88116d3e-0ced-4686-a0cf-4b6a47954681"
      },
      "execution_count": 67,
      "outputs": [
        {
          "output_type": "stream",
          "name": "stderr",
          "text": [
            "/usr/local/lib/python3.7/dist-packages/seaborn/distributions.py:2619: FutureWarning: `distplot` is a deprecated function and will be removed in a future version. Please adapt your code to use either `displot` (a figure-level function with similar flexibility) or `histplot` (an axes-level function for histograms).\n",
            "  warnings.warn(msg, FutureWarning)\n",
            "/usr/local/lib/python3.7/dist-packages/seaborn/distributions.py:2619: FutureWarning: `distplot` is a deprecated function and will be removed in a future version. Please adapt your code to use either `displot` (a figure-level function with similar flexibility) or `histplot` (an axes-level function for histograms).\n",
            "  warnings.warn(msg, FutureWarning)\n",
            "/usr/local/lib/python3.7/dist-packages/seaborn/distributions.py:2619: FutureWarning: `distplot` is a deprecated function and will be removed in a future version. Please adapt your code to use either `displot` (a figure-level function with similar flexibility) or `histplot` (an axes-level function for histograms).\n",
            "  warnings.warn(msg, FutureWarning)\n",
            "/usr/local/lib/python3.7/dist-packages/seaborn/distributions.py:2619: FutureWarning: `distplot` is a deprecated function and will be removed in a future version. Please adapt your code to use either `displot` (a figure-level function with similar flexibility) or `histplot` (an axes-level function for histograms).\n",
            "  warnings.warn(msg, FutureWarning)\n"
          ]
        },
        {
          "output_type": "display_data",
          "data": {
            "text/plain": [
              "<Figure size 720x720 with 4 Axes>"
            ],
            "image/png": "[encoded data removed]"
          },
          "metadata": {
            "needs_background": "light"
          }
        }
      ]
    },
    {
      "cell_type": "markdown",
      "source": [
        "## 각 변수의 value 분포 시각화"
      ],
      "metadata": {
        "id": "aJl0dFK18Idj"
      }
    },
    {
      "cell_type": "code",
      "source": [
        "f = pd.melt(month_df, value_vars=month_df.columns[1:])\n",
        "g = sns.FacetGrid(f, col=\"variable\",  col_wrap=3,\n",
        "                  sharex=False, sharey=False)\n",
        "g = g.map(sns.distplot, \"value\")"
      ],
      "metadata": {
        "colab": {
          "base_uri": "https://localhost:8080/",
          "height": 675
        },
        "id": "kaIKFYxk37eO",
        "outputId": "ff0f31de-b1af-4c2d-f349-2922fcf52d20"
      },
      "execution_count": 71,
      "outputs": [
        {
          "output_type": "stream",
          "name": "stderr",
          "text": [
            "/usr/local/lib/python3.7/dist-packages/seaborn/distributions.py:2619: FutureWarning: `distplot` is a deprecated function and will be removed in a future version. Please adapt your code to use either `displot` (a figure-level function with similar flexibility) or `histplot` (an axes-level function for histograms).\n",
            "  warnings.warn(msg, FutureWarning)\n",
            "/usr/local/lib/python3.7/dist-packages/seaborn/distributions.py:2619: FutureWarning: `distplot` is a deprecated function and will be removed in a future version. Please adapt your code to use either `displot` (a figure-level function with similar flexibility) or `histplot` (an axes-level function for histograms).\n",
            "  warnings.warn(msg, FutureWarning)\n",
            "/usr/local/lib/python3.7/dist-packages/seaborn/distributions.py:2619: FutureWarning: `distplot` is a deprecated function and will be removed in a future version. Please adapt your code to use either `displot` (a figure-level function with similar flexibility) or `histplot` (an axes-level function for histograms).\n",
            "  warnings.warn(msg, FutureWarning)\n",
            "/usr/local/lib/python3.7/dist-packages/seaborn/distributions.py:2619: FutureWarning: `distplot` is a deprecated function and will be removed in a future version. Please adapt your code to use either `displot` (a figure-level function with similar flexibility) or `histplot` (an axes-level function for histograms).\n",
            "  warnings.warn(msg, FutureWarning)\n",
            "/usr/local/lib/python3.7/dist-packages/seaborn/distributions.py:2619: FutureWarning: `distplot` is a deprecated function and will be removed in a future version. Please adapt your code to use either `displot` (a figure-level function with similar flexibility) or `histplot` (an axes-level function for histograms).\n",
            "  warnings.warn(msg, FutureWarning)\n",
            "/usr/local/lib/python3.7/dist-packages/seaborn/distributions.py:2619: FutureWarning: `distplot` is a deprecated function and will be removed in a future version. Please adapt your code to use either `displot` (a figure-level function with similar flexibility) or `histplot` (an axes-level function for histograms).\n",
            "  warnings.warn(msg, FutureWarning)\n"
          ]
        },
        {
          "output_type": "display_data",
          "data": {
            "text/plain": [
              "<Figure size 648x432 with 6 Axes>"
            ],
            "image/png": "[encoded data removed]"
          },
          "metadata": {
            "needs_background": "light"
          }
        }
      ]
    },
    {
      "cell_type": "markdown",
      "source": [
        "## 같은 기간 동안 여러 상점 매출의 추이 및 스케일 확인(Store_id : 0~10)\n"
      ],
      "metadata": {
        "id": "kS5ta4LF8Vb0"
      }
    },
    {
      "cell_type": "markdown",
      "source": [
        "각 store_id별로 다른 trend와 seasonality, scale을 가지는 것을 확인"
      ],
      "metadata": {
        "id": "3gRwreuF8pb5"
      }
    },
    {
      "cell_type": "code",
      "source": [
        "plt.figure(figsize=(15, 6))\n",
        "for i in month_df.store_id.unique()[:10]:\n",
        "    plt.plot(month_df[month_df.store_id == i].index, month_df[month_df.store_id == i].amount, label='store_id {}'.format(i))\n",
        "plt.legend()"
      ],
      "metadata": {
        "colab": {
          "base_uri": "https://localhost:8080/",
          "height": 403
        },
        "id": "6GQg03OI7fxZ",
        "outputId": "2552d33a-a83d-428c-b9fe-258b13631f89"
      },
      "execution_count": 72,
      "outputs": [
        {
          "output_type": "execute_result",
          "data": {
            "text/plain": [
              "<matplotlib.legend.Legend at 0x7fdfcd25c190>"
            ]
          },
          "metadata": {},
          "execution_count": 72
        },
        {
          "output_type": "display_data",
          "data": {
            "text/plain": [
              "<Figure size 1080x432 with 1 Axes>"
            ],
            "image/png": "[encoded data removed]"
          },
          "metadata": {
            "needs_background": "light"
          }
        }
      ]
    },
    {
      "cell_type": "code",
      "source": [
        ""
      ],
      "metadata": {
        "id": "8nvtCrVY9s0p"
      },
      "execution_count": null,
      "outputs": []
    }
  ]
}