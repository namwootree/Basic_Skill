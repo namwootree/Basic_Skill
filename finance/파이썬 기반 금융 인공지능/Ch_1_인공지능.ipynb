{
  "nbformat": 4,
  "nbformat_minor": 0,
  "metadata": {
    "colab": {
      "provenance": [],
      "authorship_tag": "ABX9TyOEIG5+5cZ/lggpa3yZWAO6",
      "include_colab_link": true
    },
    "kernelspec": {
      "name": "python3",
      "display_name": "Python 3"
    },
    "language_info": {
      "name": "python"
    }
  },
  "cells": [
    {
      "cell_type": "markdown",
      "metadata": {
        "id": "view-in-github",
        "colab_type": "text"
      },
      "source": [
        "<a href=\"https://colab.research.google.com/github/namwootree/Basic_Skill/blob/main/finance/%ED%8C%8C%EC%9D%B4%EC%8D%AC%20%EA%B8%B0%EB%B0%98%20%EA%B8%88%EC%9C%B5%20%EC%9D%B8%EA%B3%B5%EC%A7%80%EB%8A%A5/Ch_1_%EC%9D%B8%EA%B3%B5%EC%A7%80%EB%8A%A5.ipynb\" target=\"_parent\"><img src=\"https://colab.research.google.com/assets/colab-badge.svg\" alt=\"Open In Colab\"/></a>"
      ]
    },
    {
      "cell_type": "markdown",
      "source": [
        "# 데이터 유형"
      ],
      "metadata": {
        "id": "Sji8nDe2G6Ue"
      }
    },
    {
      "cell_type": "markdown",
      "source": [
        "**특징**\n",
        "\n",
        "* 알고리즘에 들어가는 입력 데이터이다\n",
        "\n",
        "**라벨**\n",
        "\n",
        "* 지도 학습 알고르짐 등에서 학습의 대상이 되는 출력 데이터를 말한다"
      ],
      "metadata": {
        "id": "Z4obW4TaG77a"
      }
    },
    {
      "cell_type": "markdown",
      "source": [
        "# 학습 유형\n",
        "\n",
        "**지도 학습**\n",
        "\n",
        "* 주어진 특징 데이터셋과 라벨 데이터로부터 학습하는 알고리즘\n",
        "\n",
        "* 지도 학습은 입력값과 출력값의 관계를 학습하는 것을 목표\n",
        "\n",
        "\n",
        "**비지도 학습**\n",
        "\n",
        "* 주어진 특징 데이터만 사용하여 학습하는 알고리즘\n",
        "\n",
        "* 데이터 내의 구조를 찾아내는 것을 목표\n",
        "\n",
        "**강화 학습**\n",
        "\n",
        "* 어떤 학습을 취했을 때 받을 수 있는 보상으로부터 시행착오를 통해 학습하는 알고리즘\n",
        "\n",
        "* 행동에 따른 보상이나 벌칙에 의해 최적의 행동 정책을 변화시켜 나간다"
      ],
      "metadata": {
        "id": "iKWpqLvRHHPv"
      }
    },
    {
      "cell_type": "markdown",
      "source": [
        "# 비지도 학습"
      ],
      "metadata": {
        "id": "uB5Fq3BUHqGD"
      }
    },
    {
      "cell_type": "markdown",
      "source": [
        "## Library"
      ],
      "metadata": {
        "id": "s6AmGhjPHrC7"
      }
    },
    {
      "cell_type": "code",
      "execution_count": 1,
      "metadata": {
        "id": "yrd7ZIW5EtF2"
      },
      "outputs": [],
      "source": [
        "import numpy as np\n",
        "import pandas as pd"
      ]
    },
    {
      "cell_type": "code",
      "source": [
        "from pylab import plt, mpl\n",
        "plt.style.use('seaborn')\n",
        "mpl.rcParams['savefig.dpi'] = 300\n",
        "mpl.rcParams['font.family'] = 'serif'\n",
        "np.set_printoptions(precision=4, suppress=True)"
      ],
      "metadata": {
        "id": "AxFluq8bHwHN"
      },
      "execution_count": 2,
      "outputs": []
    },
    {
      "cell_type": "code",
      "source": [
        "from sklearn.cluster import KMeans\n",
        "from sklearn.datasets import make_blobs"
      ],
      "metadata": {
        "id": "cZugQ6DLHyC2"
      },
      "execution_count": 3,
      "outputs": []
    },
    {
      "cell_type": "markdown",
      "source": [
        "## K - 평균 클러스터링"
      ],
      "metadata": {
        "id": "W1_S4C4BH2rJ"
      }
    },
    {
      "cell_type": "markdown",
      "source": [
        "* n개의 관측값을 k개의 클러스터로 분류하는 알고리즘\n",
        "\n",
        "* 각각의 관측값은 클러스터의 평균값 (중심)과 가장 가까운 클러스터에 속하게 된다"
      ],
      "metadata": {
        "id": "-36kALMlH5mb"
      }
    },
    {
      "cell_type": "code",
      "source": [
        "# 클러스터링된 샘플 데이터셋을 생성\n",
        "x, y = make_blobs(n_samples=100,\n",
        "                  centers=4,\n",
        "                  random_state=500, \n",
        "                  cluster_std=1.25)"
      ],
      "metadata": {
        "id": "qvth-I4nHzNk"
      },
      "execution_count": 15,
      "outputs": []
    },
    {
      "cell_type": "code",
      "source": [
        "print(x[:10])"
      ],
      "metadata": {
        "colab": {
          "base_uri": "https://localhost:8080/"
        },
        "id": "IbEeHZ7oIJLw",
        "outputId": "a4eb1ac2-fe55-43e1-b188-6e23cd91c4ff"
      },
      "execution_count": 8,
      "outputs": [
        {
          "output_type": "stream",
          "name": "stdout",
          "text": [
            "[[  0.6415   2.1136]\n",
            " [  3.4809   2.5586]\n",
            " [-10.3492  -3.3263]\n",
            " [ -2.4124  -1.5804]\n",
            " [ -8.2361  -3.4989]\n",
            " [ -7.8003  -0.2203]\n",
            " [  4.0447   2.3708]\n",
            " [  0.1497  -4.6458]\n",
            " [-10.3966  -0.9245]\n",
            " [ -0.2041  -3.2118]]\n"
          ]
        }
      ]
    },
    {
      "cell_type": "code",
      "source": [
        "print(y[:10])"
      ],
      "metadata": {
        "colab": {
          "base_uri": "https://localhost:8080/"
        },
        "id": "kWTHYWclIKel",
        "outputId": "f976af27-9151-4ebd-bc98-88d0bf04a271"
      },
      "execution_count": 9,
      "outputs": [
        {
          "output_type": "stream",
          "name": "stdout",
          "text": [
            "[1 1 2 3 2 2 1 3 2 3]\n"
          ]
        }
      ]
    },
    {
      "cell_type": "code",
      "source": [
        "# 클러스터 개수를 고정하여 KMeans 모형 객체를 생성\n",
        "model = KMeans(n_clusters=4, random_state=0)"
      ],
      "metadata": {
        "id": "2ipjLC8xISem"
      },
      "execution_count": 16,
      "outputs": []
    },
    {
      "cell_type": "code",
      "source": [
        "# 특징 데이터에 대해 모형 학습\n",
        "model.fit(x)"
      ],
      "metadata": {
        "colab": {
          "base_uri": "https://localhost:8080/"
        },
        "id": "7aUTNtajIT5D",
        "outputId": "6c6bbf29-5589-4b7c-8e6d-82352b4c7800"
      },
      "execution_count": 17,
      "outputs": [
        {
          "output_type": "execute_result",
          "data": {
            "text/plain": [
              "KMeans(n_clusters=4, random_state=0)"
            ]
          },
          "metadata": {},
          "execution_count": 17
        }
      ]
    },
    {
      "cell_type": "code",
      "source": [
        "# 학습된 모형으로 예측값을 생성\n",
        "# 예측값은 0부터 3까지의 숫자로 각각 하나의 클러스터를 뜻함\n",
        "y_ = model.predict(x)\n",
        "print(y_)"
      ],
      "metadata": {
        "colab": {
          "base_uri": "https://localhost:8080/"
        },
        "id": "RpPS060DIVQu",
        "outputId": "f78170dc-d572-4f57-9f88-d1ee6289685e"
      },
      "execution_count": 19,
      "outputs": [
        {
          "output_type": "stream",
          "name": "stdout",
          "text": [
            "[0 0 2 1 2 2 0 1 2 1 1 0 1 3 3 0 1 3 1 3 3 0 2 1 2 2 3 3 2 0 1 2 2 3 2 0 2\n",
            " 0 1 1 1 2 3 3 0 2 1 3 1 3 0 3 2 3 2 0 2 1 3 0 2 3 0 1 0 3 2 2 2 1 0 2 1 3\n",
            " 1 0 1 3 1 1 2 0 2 0 1 1 0 1 3 3 3 0 0 0 0 3 0 2 3 3]\n"
          ]
        }
      ]
    },
    {
      "cell_type": "code",
      "source": [
        "plt.figure(figsize=(10, 6))\n",
        "plt.scatter(x[:, 0], x[:, 1], c=y_,  cmap='coolwarm');"
      ],
      "metadata": {
        "colab": {
          "base_uri": "https://localhost:8080/",
          "height": 373
        },
        "id": "sgSHl0w7IWkS",
        "outputId": "d0661ab8-5cd8-4046-e1e3-68a2edda75b7"
      },
      "execution_count": 20,
      "outputs": [
        {
          "output_type": "display_data",
          "data": {
            "text/plain": [
              "<Figure size 720x432 with 1 Axes>"
            ],
            "image/png": "[encoded data removed]"
          },
          "metadata": {}
        }
      ]
    },
    {
      "cell_type": "markdown",
      "source": [
        "# 강화 학습"
      ],
      "metadata": {
        "id": "8Rxh5HkSIciS"
      }
    },
    {
      "cell_type": "markdown",
      "source": [
        "* 행동을 취한 이후에 관측되는 값, 즉 보수로부터 학습하는 것을 시도한다"
      ],
      "metadata": {
        "id": "bgGdqfSeMrHs"
      }
    },
    {
      "cell_type": "markdown",
      "source": [
        "* 앞면이 나올 확률은 80%이고 뒷면이 나올 확률이 20%인 동전 던지기 게임에 대한 것이다\n",
        "\n",
        "* 이 게임은 동전이 앞면이 나올지 뒷면이 나올지 내기하여 맞히면 보수를 받는 것이다\n"
      ],
      "metadata": {
        "id": "CYzUR6hwJE81"
      }
    },
    {
      "cell_type": "code",
      "source": [
        "# 상태 공간 (1 = 앞면, 0 = 뒷면)\n",
        "ssp = [1, 1, 1, 1, 0]"
      ],
      "metadata": {
        "id": "x0OjVrbYIZtF"
      },
      "execution_count": 26,
      "outputs": []
    },
    {
      "cell_type": "code",
      "source": [
        "# 행동 공간 (1 = 앞면에 걸기, 0 = 뒷면에 걸기)\n",
        "asp = [1, 0]"
      ],
      "metadata": {
        "id": "ox5i_Aw5JXzI"
      },
      "execution_count": 27,
      "outputs": []
    },
    {
      "cell_type": "code",
      "source": [
        "def epoch():\n",
        "    tr = 0\n",
        "    for _ in range(100):\n",
        "\n",
        "        # 행동 공간에서 무작위로 행동을 선택\n",
        "        a = np.random.choice(asp)\n",
        "\n",
        "        # 상태 공간에서 무작위로 상태를 선택\n",
        "        s = np.random.choice(ssp)\n",
        "\n",
        "        # 행동과 상태가 일치하면 총 보수 tr을 1만큼 증가\n",
        "        if a == s:\n",
        "            tr += 1\n",
        "\n",
        "    return tr"
      ],
      "metadata": {
        "id": "KU2-ZxzWJY_j"
      },
      "execution_count": 28,
      "outputs": []
    },
    {
      "cell_type": "code",
      "source": [
        "# 한 게임당 내기 횟수만큼 게임 반복, 한 게임당 내기 횟수는 100회\n",
        "rl = np.array([epoch() for _ in range(15)])\n",
        "rl"
      ],
      "metadata": {
        "colab": {
          "base_uri": "https://localhost:8080/"
        },
        "id": "oK9NXAFTJcp-",
        "outputId": "074878e5-56ca-47ce-eecb-3a34739de3dc"
      },
      "execution_count": 29,
      "outputs": [
        {
          "output_type": "execute_result",
          "data": {
            "text/plain": [
              "array([47, 53, 50, 61, 50, 43, 46, 53, 53, 54, 55, 44, 50, 51, 50])"
            ]
          },
          "metadata": {},
          "execution_count": 29
        }
      ]
    },
    {
      "cell_type": "code",
      "source": [
        "# 한 게임당 평균 총 보수\n",
        "rl.mean()"
      ],
      "metadata": {
        "colab": {
          "base_uri": "https://localhost:8080/"
        },
        "id": "YOeL0iVxJc1t",
        "outputId": "60884536-3384-4109-f710-c9c8b09c2496"
      },
      "execution_count": 30,
      "outputs": [
        {
          "output_type": "execute_result",
          "data": {
            "text/plain": [
              "50.666666666666664"
            ]
          },
          "metadata": {},
          "execution_count": 30
        }
      ]
    },
    {
      "cell_type": "code",
      "source": [
        "def epoch():\n",
        "    tr = 0\n",
        "    \n",
        "    # 행동 공간을 재설정\n",
        "    asp = [0, 1]\n",
        "    for _ in range(100):\n",
        "        a = np.random.choice(asp)\n",
        "        s = np.random.choice(ssp)\n",
        "        if a == s:\n",
        "            tr += 1\n",
        "        \n",
        "        # 관측된 상태값을 행동 공간에 추가\n",
        "        asp.append(s)\n",
        "        \n",
        "    return tr"
      ],
      "metadata": {
        "id": "z3UEgf9wJeQx"
      },
      "execution_count": 31,
      "outputs": []
    },
    {
      "cell_type": "code",
      "source": [
        "rl = np.array([epoch() for _ in range(15)])\n",
        "rl"
      ],
      "metadata": {
        "colab": {
          "base_uri": "https://localhost:8080/"
        },
        "id": "zPvD72PQP-Wb",
        "outputId": "341f49fb-1f3c-4292-de5f-9b83083c8759"
      },
      "execution_count": 32,
      "outputs": [
        {
          "output_type": "execute_result",
          "data": {
            "text/plain": [
              "array([71, 57, 67, 63, 64, 73, 65, 66, 61, 68, 72, 64, 74, 70, 58])"
            ]
          },
          "metadata": {},
          "execution_count": 32
        }
      ]
    },
    {
      "cell_type": "code",
      "source": [
        "rl.mean()"
      ],
      "metadata": {
        "colab": {
          "base_uri": "https://localhost:8080/"
        },
        "id": "EB6cZ56oP_LK",
        "outputId": "fa365cb3-ea90-494a-8f29-548c8b4b4890"
      },
      "execution_count": 33,
      "outputs": [
        {
          "output_type": "execute_result",
          "data": {
            "text/plain": [
              "66.2"
            ]
          },
          "metadata": {},
          "execution_count": 33
        }
      ]
    },
    {
      "cell_type": "markdown",
      "source": [
        "# 작업 유형"
      ],
      "metadata": {
        "id": "zDIgmgvUQ6fF"
      }
    },
    {
      "cell_type": "markdown",
      "source": [
        "**추정**\n",
        "\n",
        "* 라벨값이 연속적인 실수값인 경우\n",
        "\n",
        "**분류**\n",
        "\n",
        "* 라벨 데이터가 양의 자연수와 같이 이산적이고 유한한 클래스 혹은 카테고리 값으로 구성된 경우"
      ],
      "metadata": {
        "id": "QcW25xjhQ7n6"
      }
    },
    {
      "cell_type": "markdown",
      "source": [
        "# 방법론 유형"
      ],
      "metadata": {
        "id": "vD_tg6g7Rnz4"
      }
    },
    {
      "cell_type": "markdown",
      "source": [
        "**인공지능**\n",
        "\n",
        "* 모든 종류의 학습 알고리즘과 전문가 시스템 같은 기타 학습 알고리즘을 모두 아우르는 개념\n",
        "\n",
        "**머신러닝**\n",
        "\n",
        "* 알고리즘과 성공 측도에 기반하여 주어진 데이터셋으로부터 연관성 및 기타 정보를 학습한다\n",
        "\n",
        "**딥러닝**\n",
        "\n",
        "* 신경망에 기반한 알고리즘\n",
        "\n",
        "* '딥'이라는 용어는 신경망이 두 개 이상의 은닉층을 가진 경우에만 쓰인다"
      ],
      "metadata": {
        "id": "aQ0bNAAHRpGS"
      }
    },
    {
      "cell_type": "markdown",
      "source": [
        "# 신경망\n",
        "\n"
      ],
      "metadata": {
        "id": "_29GIVQqSXZH"
      }
    },
    {
      "cell_type": "markdown",
      "source": [
        "**문제 독립성**\n",
        "\n",
        "* 신경망은 추정 문제를 풀든지 라벨 분류 문제를 풀든지 간에 특징값만 주어지면 풀 수 있다\n",
        "\n",
        "**점진적 학습**\n",
        "\n",
        "* 신경망 내의 최적 가중치는 무작위 초깃값부터 시작하여 주어진 성공 측도에 대해 점진적으로 향상된다\n",
        "\n",
        "**범용 근사**\n",
        "\n",
        "* 신경망은 거의 모든 종료의 함수를 근사화할 수 있다는 강력한 수학적 정리가 존재한다"
      ],
      "metadata": {
        "id": "JD1qO32gejne"
      }
    },
    {
      "cell_type": "markdown",
      "source": [
        "## 최소자승 회귀 분석"
      ],
      "metadata": {
        "id": "Xmp2O6bIWvg5"
      }
    },
    {
      "cell_type": "code",
      "source": [
        "# 파이썬 함수로 구현한 수학 함수\n",
        "def f(x):\n",
        "    return 2 * x ** 2 - x ** 3 / 3"
      ],
      "metadata": {
        "id": "FY1QZTLOQAbX"
      },
      "execution_count": 45,
      "outputs": []
    },
    {
      "cell_type": "code",
      "source": [
        "# 입력값\n",
        "x = np.linspace(-2, 4, 25)\n",
        "x"
      ],
      "metadata": {
        "colab": {
          "base_uri": "https://localhost:8080/"
        },
        "id": "LnH092uAWz5U",
        "outputId": "ecdd1be7-e140-43cd-83b6-9289dd331b49"
      },
      "execution_count": 56,
      "outputs": [
        {
          "output_type": "execute_result",
          "data": {
            "text/plain": [
              "array([-2.  , -1.75, -1.5 , -1.25, -1.  , -0.75, -0.5 , -0.25,  0.  ,\n",
              "        0.25,  0.5 ,  0.75,  1.  ,  1.25,  1.5 ,  1.75,  2.  ,  2.25,\n",
              "        2.5 ,  2.75,  3.  ,  3.25,  3.5 ,  3.75,  4.  ])"
            ]
          },
          "metadata": {},
          "execution_count": 56
        }
      ]
    },
    {
      "cell_type": "code",
      "source": [
        "# 출력값\n",
        "y = f(x)\n",
        "y"
      ],
      "metadata": {
        "colab": {
          "base_uri": "https://localhost:8080/"
        },
        "id": "7sFNwShxW09v",
        "outputId": "ca8f82d1-9928-435c-ede0-0f4d737ba29b"
      },
      "execution_count": 57,
      "outputs": [
        {
          "output_type": "execute_result",
          "data": {
            "text/plain": [
              "array([10.6667,  7.9115,  5.625 ,  3.776 ,  2.3333,  1.2656,  0.5417,\n",
              "        0.1302,  0.    ,  0.1198,  0.4583,  0.9844,  1.6667,  2.474 ,\n",
              "        3.375 ,  4.3385,  5.3333,  6.3281,  7.2917,  8.1927,  9.    ,\n",
              "        9.6823, 10.2083, 10.5469, 10.6667])"
            ]
          },
          "metadata": {},
          "execution_count": 57
        }
      ]
    },
    {
      "cell_type": "code",
      "source": [
        "plt.figure(figsize=(10, 6))\n",
        "plt.plot(x, y, 'ro');"
      ],
      "metadata": {
        "colab": {
          "base_uri": "https://localhost:8080/",
          "height": 373
        },
        "id": "Dqh8fcyqW18G",
        "outputId": "6ef052d4-eb5e-4ad1-91c5-c651d31deaab"
      },
      "execution_count": 48,
      "outputs": [
        {
          "output_type": "display_data",
          "data": {
            "text/plain": [
              "<Figure size 720x432 with 1 Axes>"
            ],
            "image/png": "[encoded data removed]"
          },
          "metadata": {}
        }
      ]
    },
    {
      "cell_type": "code",
      "source": [
        "# 최적의 베타 계산\n",
        "beta = np.cov(x, y, ddof=0)[0, 1] / np.var(x)\n",
        "beta"
      ],
      "metadata": {
        "colab": {
          "base_uri": "https://localhost:8080/"
        },
        "id": "2yPpGpMLW3DQ",
        "outputId": "18c87732-a84f-491d-a205-43c7d4531cae"
      },
      "execution_count": 58,
      "outputs": [
        {
          "output_type": "execute_result",
          "data": {
            "text/plain": [
              "1.0541666666666667"
            ]
          },
          "metadata": {},
          "execution_count": 58
        }
      ]
    },
    {
      "cell_type": "code",
      "source": [
        "# 최적의 알파 계산\n",
        "alpha = y.mean() - beta * x.mean()\n",
        "alpha"
      ],
      "metadata": {
        "colab": {
          "base_uri": "https://localhost:8080/"
        },
        "id": "l5HhPhQ6W4pc",
        "outputId": "e8a0b814-85da-468a-cea3-d749e972ecde"
      },
      "execution_count": 59,
      "outputs": [
        {
          "output_type": "execute_result",
          "data": {
            "text/plain": [
              "3.8625000000000003"
            ]
          },
          "metadata": {},
          "execution_count": 59
        }
      ]
    },
    {
      "cell_type": "code",
      "source": [
        "# 출력값 추정치 계산\n",
        "y_ = alpha + beta * x"
      ],
      "metadata": {
        "id": "uqoGSLdPW6KU"
      },
      "execution_count": 60,
      "outputs": []
    },
    {
      "cell_type": "code",
      "source": [
        "# 평균제곱오차 계산\n",
        "MSE = ((y - y_) ** 2).mean()\n",
        "MSE"
      ],
      "metadata": {
        "colab": {
          "base_uri": "https://localhost:8080/"
        },
        "id": "Z-d99IoVW8B6",
        "outputId": "35a62242-cda7-429d-e41e-d0e6032ede52"
      },
      "execution_count": 61,
      "outputs": [
        {
          "output_type": "execute_result",
          "data": {
            "text/plain": [
              "10.721953125"
            ]
          },
          "metadata": {},
          "execution_count": 61
        }
      ]
    },
    {
      "cell_type": "code",
      "source": [
        "plt.figure(figsize=(10, 6))\n",
        "plt.plot(x, y, 'ro', label='sample data')\n",
        "plt.plot(x, y_, lw=3.0, label='linear regression')\n",
        "plt.legend();"
      ],
      "metadata": {
        "colab": {
          "base_uri": "https://localhost:8080/",
          "height": 373
        },
        "id": "48ASv38eW9ZM",
        "outputId": "2e2674d0-b866-4b28-e3de-474f7d56888f"
      },
      "execution_count": 54,
      "outputs": [
        {
          "output_type": "display_data",
          "data": {
            "text/plain": [
              "<Figure size 720x432 with 1 Axes>"
            ],
            "image/png": "[encoded data removed]"
          },
          "metadata": {}
        }
      ]
    },
    {
      "cell_type": "code",
      "source": [
        "plt.figure(figsize=(10, 6))\n",
        "plt.plot(x, y, 'ro', label='sample data')\n",
        "for deg in [1, 2, 3]:\n",
        "    \n",
        "    # 회귀 분석\n",
        "    reg = np.polyfit(x, y, deg=deg)\n",
        "\n",
        "    # 추정\n",
        "    y_ = np.polyval(reg, x)\n",
        "\n",
        "    # 평균제곱오차 계산\n",
        "    MSE = ((y - y_) ** 2).mean()\n",
        "\n",
        "    print(f'deg={deg} | MSE={MSE:.5f}')\n",
        "    plt.plot(x, np.polyval(reg, x), label=f'deg={deg}')\n",
        "    \n",
        "plt.legend();"
      ],
      "metadata": {
        "colab": {
          "base_uri": "https://localhost:8080/",
          "height": 426
        },
        "id": "Diq9-Sg7W_nC",
        "outputId": "da3948ae-0f7e-41dc-f3cb-b3f67368a56c"
      },
      "execution_count": 62,
      "outputs": [
        {
          "output_type": "stream",
          "name": "stdout",
          "text": [
            "deg=1 | MSE=10.72195\n",
            "deg=2 | MSE=2.31258\n",
            "deg=3 | MSE=0.00000\n"
          ]
        },
        {
          "output_type": "display_data",
          "data": {
            "text/plain": [
              "<Figure size 720x432 with 1 Axes>"
            ],
            "image/png": "[encoded data removed]"
          },
          "metadata": {}
        }
      ]
    },
    {
      "cell_type": "code",
      "source": [
        "# 최적의 파라미터 값\n",
        "reg"
      ],
      "metadata": {
        "colab": {
          "base_uri": "https://localhost:8080/"
        },
        "id": "tYmz0nkuXBOr",
        "outputId": "573de8f1-13c1-4e64-c71d-2431bca74458"
      },
      "execution_count": 63,
      "outputs": [
        {
          "output_type": "execute_result",
          "data": {
            "text/plain": [
              "array([-0.3333,  2.    ,  0.    , -0.    ])"
            ]
          },
          "metadata": {},
          "execution_count": 63
        }
      ]
    },
    {
      "cell_type": "markdown",
      "source": [
        "## 신경망을 사용한 추정"
      ],
      "metadata": {
        "id": "ivQR_8RfXwHT"
      }
    },
    {
      "cell_type": "markdown",
      "source": [
        "* 최소자승 회귀분석 방법은 선형회귀 결과에서 보듯이 잘 정의된 특정한 파라미터값을 한 번에 계산\n",
        "\n",
        "* 신경망 방법은 점진적인 학습 방법을 사용\n",
        "\n",
        "* 즉, 신경망 내부의 가중치라는 일련의 파라미터 값이 처음에는 무작위로 초기화되었다가 신경망 출력과 실제 출력값 사이의 차이를 이용해 점진적으로 조정해나간다"
      ],
      "metadata": {
        "id": "tPRXweTPYqYR"
      }
    },
    {
      "cell_type": "markdown",
      "source": [
        "### 사이킷런"
      ],
      "metadata": {
        "id": "lG98YT2_Xyga"
      }
    },
    {
      "cell_type": "code",
      "source": [
        "from sklearn.neural_network import MLPRegressor"
      ],
      "metadata": {
        "id": "R3BkRDqLXj3f"
      },
      "execution_count": 64,
      "outputs": []
    },
    {
      "cell_type": "code",
      "source": [
        "# MLPRegressor 객체 초기화\n",
        "model = MLPRegressor(hidden_layer_sizes=3 * [256],\n",
        "                     learning_rate_init=0.03,\n",
        "                     max_iter=5000,\n",
        "                     random_state=1000)"
      ],
      "metadata": {
        "id": "yvzwr9zRX09n"
      },
      "execution_count": 67,
      "outputs": []
    },
    {
      "cell_type": "code",
      "source": [
        "# 학습\n",
        "%time model.fit(x.reshape(-1, 1), y)"
      ],
      "metadata": {
        "colab": {
          "base_uri": "https://localhost:8080/"
        },
        "id": "oQnSNl8jX23w",
        "outputId": "c719c57e-d8eb-46e5-caca-2242ef212297"
      },
      "execution_count": 68,
      "outputs": [
        {
          "output_type": "stream",
          "name": "stdout",
          "text": [
            "CPU times: user 1.3 s, sys: 947 ms, total: 2.25 s\n",
            "Wall time: 1.2 s\n"
          ]
        },
        {
          "output_type": "execute_result",
          "data": {
            "text/plain": [
              "MLPRegressor(hidden_layer_sizes=[256, 256, 256], learning_rate_init=0.03,\n",
              "             max_iter=5000, random_state=1000)"
            ]
          },
          "metadata": {},
          "execution_count": 68
        }
      ]
    },
    {
      "cell_type": "code",
      "source": [
        "# 추정\n",
        "y_ = model.predict(x.reshape(-1, 1))"
      ],
      "metadata": {
        "id": "Nm0AG6CLX6Af"
      },
      "execution_count": 69,
      "outputs": []
    },
    {
      "cell_type": "code",
      "source": [
        "MSE = ((y - y_) ** 2).mean()\n",
        "MSE"
      ],
      "metadata": {
        "colab": {
          "base_uri": "https://localhost:8080/"
        },
        "id": "37Y2ZmgnX9R0",
        "outputId": "2a51677b-f91a-4e4f-f8dd-09b5873bd941"
      },
      "execution_count": 70,
      "outputs": [
        {
          "output_type": "execute_result",
          "data": {
            "text/plain": [
              "0.006775846547442415"
            ]
          },
          "metadata": {},
          "execution_count": 70
        }
      ]
    },
    {
      "cell_type": "code",
      "source": [
        "plt.figure(figsize=(10, 6))\n",
        "plt.plot(x, y, 'ro', label='sample data')\n",
        "plt.plot(x, y_, lw=3.0, label='dnn estimation')\n",
        "plt.legend();"
      ],
      "metadata": {
        "colab": {
          "base_uri": "https://localhost:8080/",
          "height": 373
        },
        "id": "w--Pnq4HX-QH",
        "outputId": "a9a2284c-88c1-4404-b798-890372a3977d"
      },
      "execution_count": 71,
      "outputs": [
        {
          "output_type": "display_data",
          "data": {
            "text/plain": [
              "<Figure size 720x432 with 1 Axes>"
            ],
            "image/png": "[encoded data removed]"
          },
          "metadata": {}
        }
      ]
    },
    {
      "cell_type": "markdown",
      "source": [
        "### 케라스"
      ],
      "metadata": {
        "id": "vaivWuBKY-99"
      }
    },
    {
      "cell_type": "code",
      "source": [
        "import tensorflow as tf\n",
        "tf.random.set_seed(100)"
      ],
      "metadata": {
        "id": "hBPEeJBPYALN"
      },
      "execution_count": 72,
      "outputs": []
    },
    {
      "cell_type": "code",
      "source": [
        "from keras.layers import Dense\n",
        "from keras.models import Sequential\n",
        "from keras.losses import MeanSquaredError"
      ],
      "metadata": {
        "id": "zVVenyxlZJet"
      },
      "execution_count": 76,
      "outputs": []
    },
    {
      "cell_type": "code",
      "source": [
        "# 모델 객체 초기화\n",
        "model = Sequential()\n",
        "\n",
        "# 은닉층 추가\n",
        "model.add(Dense(256, activation='relu', input_dim=1))\n",
        "\n",
        "# 출력층 추가\n",
        "model.add(Dense(1, activation='linear'))"
      ],
      "metadata": {
        "id": "68Y0EbbRZKil"
      },
      "execution_count": 74,
      "outputs": []
    },
    {
      "cell_type": "code",
      "source": [
        "# 컴파일\n",
        "model.compile(loss='mse', optimizer='rmsprop')"
      ],
      "metadata": {
        "id": "YWEmk38PZMhs"
      },
      "execution_count": 75,
      "outputs": []
    },
    {
      "cell_type": "code",
      "source": [
        "mse = MeanSquaredError()\n",
        "mse(y, y_).numpy()"
      ],
      "metadata": {
        "colab": {
          "base_uri": "https://localhost:8080/"
        },
        "id": "Mz86sdm8ZMxE",
        "outputId": "0294d9d7-d352-478d-f549-d1bb0a631686"
      },
      "execution_count": 80,
      "outputs": [
        {
          "output_type": "execute_result",
          "data": {
            "text/plain": [
              "0.006775846547442415"
            ]
          },
          "metadata": {},
          "execution_count": 80
        }
      ]
    },
    {
      "cell_type": "code",
      "source": [
        "plt.figure(figsize=(10, 6))\n",
        "plt.plot(x, y, 'ro', label='sample data')\n",
        "for _ in range(1, 6):\n",
        "\n",
        "    # 정해진 횟수만큼 신경망 훈련\n",
        "    model.fit(x, y, epochs=100, verbose=False)\n",
        "\n",
        "    # 추정\n",
        "    y_ =  model.predict(x)\n",
        "\n",
        "    # 현재의 평균제곱오차 계산\n",
        "    mse = MeanSquaredError()\n",
        "    MSE = mse(y, y_).numpy()\n",
        "\n",
        "    # 현재의 추정 결과 플롯\n",
        "    print(f'round={_} | MSE={MSE:.5f}')\n",
        "    plt.plot(x, y_, '--', label=f'round={_}')\n",
        "    \n",
        "plt.legend();"
      ],
      "metadata": {
        "colab": {
          "base_uri": "https://localhost:8080/",
          "height": 551
        },
        "id": "or92SJySZcRF",
        "outputId": "08bfd908-6f37-4dd4-9645-927507733ae4"
      },
      "execution_count": 82,
      "outputs": [
        {
          "output_type": "stream",
          "name": "stdout",
          "text": [
            "1/1 [==============================] - 0s 44ms/step\n",
            "round=1 | MSE=24.46632\n",
            "1/1 [==============================] - 0s 30ms/step\n",
            "round=2 | MSE=27.57814\n",
            "1/1 [==============================] - 0s 19ms/step\n",
            "round=3 | MSE=28.35812\n",
            "1/1 [==============================] - 0s 18ms/step\n",
            "round=4 | MSE=28.42177\n",
            "1/1 [==============================] - 0s 23ms/step\n",
            "round=5 | MSE=28.43365\n"
          ]
        },
        {
          "output_type": "display_data",
          "data": {
            "text/plain": [
              "<Figure size 720x432 with 1 Axes>"
            ],
            "image/png": "[encoded data removed]"
          },
          "metadata": {}
        }
      ]
    },
    {
      "cell_type": "markdown",
      "source": [
        "# 무작위 샘플과 최소자승 회귀분석 및 신경망 "
      ],
      "metadata": {
        "id": "x3kIpSaXbC7z"
      }
    },
    {
      "cell_type": "markdown",
      "source": [
        "* 신경망은 200,000개의 학습 가능한 파라미터를 가지고 있어서 아주 높은 유연성을 보여준다\n",
        "\n",
        "* 하지만 최소자승 회귀분석은 단지 15 + 1 파리미터만 사용한다"
      ],
      "metadata": {
        "id": "L5XvNa_0bjdH"
      }
    },
    {
      "cell_type": "code",
      "source": [
        "model = Sequential()\n",
        "model.add(Dense(256, activation='relu', input_dim=1))\n",
        "for _ in range(3):\n",
        "    model.add(Dense(256, activation='relu'))\n",
        "model.add(Dense(1, activation='linear'))\n",
        "model.compile(loss='mse', optimizer='rmsprop')np.random.seed(0)\n",
        "x = np.linspace(-1, 1)\n",
        "y = np.random.random(len(x)) * 2 - 1"
      ],
      "metadata": {
        "id": "uBqLdeAQZ1L4"
      },
      "execution_count": 83,
      "outputs": []
    },
    {
      "cell_type": "code",
      "source": [
        "len(x)"
      ],
      "metadata": {
        "colab": {
          "base_uri": "https://localhost:8080/"
        },
        "id": "NvA2ZEJNbHBn",
        "outputId": "e67a0305-15a9-44d1-fbce-f5f88547567b"
      },
      "execution_count": 84,
      "outputs": [
        {
          "output_type": "execute_result",
          "data": {
            "text/plain": [
              "50"
            ]
          },
          "metadata": {},
          "execution_count": 84
        }
      ]
    },
    {
      "cell_type": "code",
      "source": [
        "plt.figure(figsize=(10, 6))\n",
        "plt.plot(x, y, 'ro', label='sample data')\n",
        "for deg in [1, 5, 9, 11, 13, 15]:\n",
        "    reg = np.polyfit(x, y, deg=deg)\n",
        "    y_ = np.polyval(reg, x)\n",
        "    MSE = ((y - y_) ** 2).mean()\n",
        "    print(f'deg={deg:2d} | MSE={MSE:.5f}')\n",
        "    plt.plot(x, np.polyval(reg, x), label=f'deg={deg}')\n",
        "plt.legend();"
      ],
      "metadata": {
        "colab": {
          "base_uri": "https://localhost:8080/",
          "height": 480
        },
        "id": "9AxpzPZ4bH5f",
        "outputId": "4a2b30f3-4154-4fe7-bcfc-81435be4d694"
      },
      "execution_count": 85,
      "outputs": [
        {
          "output_type": "stream",
          "name": "stdout",
          "text": [
            "deg= 1 | MSE=0.28153\n",
            "deg= 5 | MSE=0.27331\n",
            "deg= 9 | MSE=0.25442\n",
            "deg=11 | MSE=0.23458\n",
            "deg=13 | MSE=0.22989\n",
            "deg=15 | MSE=0.21672\n"
          ]
        },
        {
          "output_type": "display_data",
          "data": {
            "text/plain": [
              "<Figure size 720x432 with 1 Axes>"
            ],
            "image/png": "[encoded data removed]"
          },
          "metadata": {}
        }
      ]
    },
    {
      "cell_type": "code",
      "source": [
        "model = Sequential()\n",
        "model.add(Dense(256, activation='relu', input_dim=1))\n",
        "for _ in range(3):\n",
        "    model.add(Dense(256, activation='relu'))\n",
        "model.add(Dense(1, activation='linear'))\n",
        "model.compile(loss='mse', optimizer='rmsprop')"
      ],
      "metadata": {
        "id": "XRvADoVmbJiA"
      },
      "execution_count": 86,
      "outputs": []
    },
    {
      "cell_type": "code",
      "source": [
        "model.summary()"
      ],
      "metadata": {
        "colab": {
          "base_uri": "https://localhost:8080/"
        },
        "id": "_go-5zRTbUI_",
        "outputId": "5c9fa4ef-2724-4898-d4f7-30b6ee26871a"
      },
      "execution_count": 87,
      "outputs": [
        {
          "output_type": "stream",
          "name": "stdout",
          "text": [
            "Model: \"sequential_1\"\n",
            "_________________________________________________________________\n",
            " Layer (type)                Output Shape              Param #   \n",
            "=================================================================\n",
            " dense_2 (Dense)             (None, 256)               512       \n",
            "                                                                 \n",
            " dense_3 (Dense)             (None, 256)               65792     \n",
            "                                                                 \n",
            " dense_4 (Dense)             (None, 256)               65792     \n",
            "                                                                 \n",
            " dense_5 (Dense)             (None, 256)               65792     \n",
            "                                                                 \n",
            " dense_6 (Dense)             (None, 1)                 257       \n",
            "                                                                 \n",
            "=================================================================\n",
            "Total params: 198,145\n",
            "Trainable params: 198,145\n",
            "Non-trainable params: 0\n",
            "_________________________________________________________________\n"
          ]
        }
      ]
    },
    {
      "cell_type": "code",
      "source": [
        "%%time\n",
        "plt.figure(figsize=(10, 6))\n",
        "plt.plot(x, y, 'ro', label='sample data')\n",
        "for _ in range(1, 8):\n",
        "    model.fit(x, y, epochs=500, verbose=False)\n",
        "    y_ =  model.predict(x)\n",
        "    MSE = ((y - y_.flatten()) ** 2).mean()\n",
        "    print(f'round={_} | MSE={MSE:.5f}')\n",
        "    plt.plot(x, y_, '--', label=f'round={_}')\n",
        "plt.legend();"
      ],
      "metadata": {
        "colab": {
          "base_uri": "https://localhost:8080/",
          "height": 676
        },
        "id": "uyluc4kLbV2f",
        "outputId": "2301a7b3-e3fd-4c25-ffb6-a4b46a309f14"
      },
      "execution_count": 88,
      "outputs": [
        {
          "output_type": "stream",
          "name": "stdout",
          "text": [
            "2/2 [==============================] - 0s 8ms/step\n",
            "round=1 | MSE=0.13002\n",
            "2/2 [==============================] - 0s 8ms/step\n",
            "round=2 | MSE=0.09045\n",
            "2/2 [==============================] - 0s 9ms/step\n",
            "round=3 | MSE=0.05891\n",
            "2/2 [==============================] - 0s 8ms/step\n",
            "round=4 | MSE=0.04494\n",
            "2/2 [==============================] - 0s 10ms/step\n",
            "round=5 | MSE=0.03354\n",
            "2/2 [==============================] - 0s 8ms/step\n",
            "round=6 | MSE=0.03068\n",
            "2/2 [==============================] - 0s 7ms/step\n",
            "round=7 | MSE=0.00564\n",
            "CPU times: user 55.6 s, sys: 3.43 s, total: 59 s\n",
            "Wall time: 56.1 s\n"
          ]
        },
        {
          "output_type": "execute_result",
          "data": {
            "text/plain": [
              "<matplotlib.legend.Legend at 0x7f1209b0afa0>"
            ]
          },
          "metadata": {},
          "execution_count": 88
        },
        {
          "output_type": "display_data",
          "data": {
            "text/plain": [
              "<Figure size 720x432 with 1 Axes>"
            ],
            "image/png": "[encoded data removed]"
          },
          "metadata": {}
        }
      ]
    },
    {
      "cell_type": "markdown",
      "source": [
        "# 신경망을 사용한 분류"
      ],
      "metadata": {
        "id": "_SAo6dvbcMgk"
      }
    },
    {
      "cell_type": "code",
      "source": [
        "f = 5\n",
        "n = 10"
      ],
      "metadata": {
        "id": "w6q4o-EKcodi"
      },
      "execution_count": 116,
      "outputs": []
    },
    {
      "cell_type": "code",
      "source": [
        "np.random.seed(100)"
      ],
      "metadata": {
        "id": "mWEwIVE-dN5X"
      },
      "execution_count": 117,
      "outputs": []
    },
    {
      "cell_type": "code",
      "source": [
        "# 무작위 특징 데이터 생성\n",
        "x = np.random.randint(0, 2, (n, f))\n",
        "x"
      ],
      "metadata": {
        "colab": {
          "base_uri": "https://localhost:8080/"
        },
        "id": "Ftj-HNhqdO-c",
        "outputId": "36ad1813-e9e5-424a-92a0-8fce77045a8e"
      },
      "execution_count": 118,
      "outputs": [
        {
          "output_type": "execute_result",
          "data": {
            "text/plain": [
              "array([[0, 0, 1, 1, 1],\n",
              "       [1, 0, 0, 0, 0],\n",
              "       [0, 1, 0, 0, 0],\n",
              "       [0, 1, 0, 0, 1],\n",
              "       [0, 1, 0, 0, 0],\n",
              "       [1, 1, 1, 0, 0],\n",
              "       [1, 0, 0, 1, 1],\n",
              "       [1, 1, 1, 0, 0],\n",
              "       [1, 1, 1, 1, 1],\n",
              "       [1, 1, 1, 0, 1]])"
            ]
          },
          "metadata": {},
          "execution_count": 118
        }
      ]
    },
    {
      "cell_type": "code",
      "source": [
        "# 무작위 라벨 데이터 생성\n",
        "y = np.random.randint(0, 2, n)\n",
        "y"
      ],
      "metadata": {
        "colab": {
          "base_uri": "https://localhost:8080/"
        },
        "id": "calZz8mPdPxD",
        "outputId": "e242346e-77c9-422a-a5d2-9636dc664dbc"
      },
      "execution_count": 119,
      "outputs": [
        {
          "output_type": "execute_result",
          "data": {
            "text/plain": [
              "array([1, 1, 0, 0, 1, 1, 0, 1, 0, 1])"
            ]
          },
          "metadata": {},
          "execution_count": 119
        }
      ]
    },
    {
      "cell_type": "code",
      "source": [
        "model = Sequential()\n",
        "model.add(Dense(256, activation='relu', input_dim=f))\n",
        "model.add(Dense(1, activation='sigmoid'))"
      ],
      "metadata": {
        "id": "rueRQ-uTdQ7W"
      },
      "execution_count": 120,
      "outputs": []
    },
    {
      "cell_type": "code",
      "source": [
        "model.compile(loss='binary_crossentropy',\n",
        "              optimizer='rmsprop',\n",
        "              metrics=['acc'])"
      ],
      "metadata": {
        "id": "fY_cOSUMdTLE"
      },
      "execution_count": 121,
      "outputs": []
    },
    {
      "cell_type": "code",
      "source": [
        "h = model.fit(x, y, epochs=50, verbose=False)"
      ],
      "metadata": {
        "id": "LTijJ3yjdVbm"
      },
      "execution_count": 122,
      "outputs": []
    },
    {
      "cell_type": "code",
      "source": [
        "y_ = np.where(model.predict(x).flatten() > 0.5, 1, 0)\n",
        "y_"
      ],
      "metadata": {
        "colab": {
          "base_uri": "https://localhost:8080/"
        },
        "id": "-Y0EpISTdW2K",
        "outputId": "991e9feb-7a20-4067-b077-b4950c143678"
      },
      "execution_count": 123,
      "outputs": [
        {
          "output_type": "stream",
          "name": "stdout",
          "text": [
            "1/1 [==============================] - 0s 55ms/step\n"
          ]
        },
        {
          "output_type": "execute_result",
          "data": {
            "text/plain": [
              "array([1, 1, 0, 0, 0, 1, 0, 1, 0, 1])"
            ]
          },
          "metadata": {},
          "execution_count": 123
        }
      ]
    },
    {
      "cell_type": "code",
      "source": [
        "# 예측값과 실제값 비교\n",
        "y == y_"
      ],
      "metadata": {
        "colab": {
          "base_uri": "https://localhost:8080/"
        },
        "id": "JEGFbhZ3dYIz",
        "outputId": "af9efbff-f134-40dd-d68a-d6a34b952a99"
      },
      "execution_count": 124,
      "outputs": [
        {
          "output_type": "execute_result",
          "data": {
            "text/plain": [
              "array([ True,  True,  True,  True, False,  True,  True,  True,  True,\n",
              "        True])"
            ]
          },
          "metadata": {},
          "execution_count": 124
        }
      ]
    },
    {
      "cell_type": "code",
      "source": [
        "res = pd.DataFrame(h.history)"
      ],
      "metadata": {
        "id": "6PA8GY29dZ1v"
      },
      "execution_count": 125,
      "outputs": []
    },
    {
      "cell_type": "code",
      "source": [
        "# 학습 횟수에 따른 손실 함수 정확도 값을 플롯\n",
        "res.plot(figsize=(10, 6));"
      ],
      "metadata": {
        "colab": {
          "base_uri": "https://localhost:8080/",
          "height": 373
        },
        "id": "hck9y8FLdb-c",
        "outputId": "d909088c-ebe2-41d4-b295-9f8635cacb17"
      },
      "execution_count": 126,
      "outputs": [
        {
          "output_type": "display_data",
          "data": {
            "text/plain": [
              "<Figure size 720x432 with 1 Axes>"
            ],
            "image/png": "[encoded data removed]"
          },
          "metadata": {}
        }
      ]
    },
    {
      "cell_type": "markdown",
      "source": [
        "# 데이터 중요성"
      ],
      "metadata": {
        "id": "AuT6CL76i_ub"
      }
    },
    {
      "cell_type": "markdown",
      "source": [
        "## 소규모 데이터셋"
      ],
      "metadata": {
        "id": "vFCt81p_jCSP"
      }
    },
    {
      "cell_type": "code",
      "source": [
        "f = 10\n",
        "n = 250"
      ],
      "metadata": {
        "id": "lay06Tpidc9H"
      },
      "execution_count": 127,
      "outputs": []
    },
    {
      "cell_type": "code",
      "source": [
        "np.random.seed(100)"
      ],
      "metadata": {
        "id": "htcwAkwGjGcg"
      },
      "execution_count": 128,
      "outputs": []
    },
    {
      "cell_type": "code",
      "source": [
        "x = np.random.randint(0, 2, (n, f))\n",
        "x[:4]"
      ],
      "metadata": {
        "colab": {
          "base_uri": "https://localhost:8080/"
        },
        "id": "wyoqTRt5jHbW",
        "outputId": "f8b60d99-1cb9-4da6-d207-83c8aabfc81f"
      },
      "execution_count": 129,
      "outputs": [
        {
          "output_type": "execute_result",
          "data": {
            "text/plain": [
              "array([[0, 0, 1, 1, 1, 1, 0, 0, 0, 0],\n",
              "       [0, 1, 0, 0, 0, 0, 1, 0, 0, 1],\n",
              "       [0, 1, 0, 0, 0, 1, 1, 1, 0, 0],\n",
              "       [1, 0, 0, 1, 1, 1, 1, 1, 0, 0]])"
            ]
          },
          "metadata": {},
          "execution_count": 129
        }
      ]
    },
    {
      "cell_type": "code",
      "source": [
        "y = np.random.randint(0, 2, n)\n",
        "y[:4]"
      ],
      "metadata": {
        "colab": {
          "base_uri": "https://localhost:8080/"
        },
        "id": "zs0JhAuHjInb",
        "outputId": "9b551981-b66e-4210-988f-d6d29d91c5f1"
      },
      "execution_count": 130,
      "outputs": [
        {
          "output_type": "execute_result",
          "data": {
            "text/plain": [
              "array([0, 1, 0, 0])"
            ]
          },
          "metadata": {},
          "execution_count": 130
        }
      ]
    },
    {
      "cell_type": "code",
      "source": [
        "# 패턴의 수\n",
        "2 ** f"
      ],
      "metadata": {
        "colab": {
          "base_uri": "https://localhost:8080/"
        },
        "id": "vYaLD34rjJux",
        "outputId": "0d828547-856c-4d64-882f-a2ed9e6bedd5"
      },
      "execution_count": 131,
      "outputs": [
        {
          "output_type": "execute_result",
          "data": {
            "text/plain": [
              "1024"
            ]
          },
          "metadata": {},
          "execution_count": 131
        }
      ]
    },
    {
      "cell_type": "code",
      "source": [
        "fcols = [f'f{_}' for _ in range(f)]\n",
        "fcols"
      ],
      "metadata": {
        "colab": {
          "base_uri": "https://localhost:8080/"
        },
        "id": "YM7rw7isjK3x",
        "outputId": "c3705926-348b-45a4-c058-189986549c58"
      },
      "execution_count": 132,
      "outputs": [
        {
          "output_type": "execute_result",
          "data": {
            "text/plain": [
              "['f0', 'f1', 'f2', 'f3', 'f4', 'f5', 'f6', 'f7', 'f8', 'f9']"
            ]
          },
          "metadata": {},
          "execution_count": 132
        }
      ]
    },
    {
      "cell_type": "code",
      "source": [
        "data = pd.DataFrame(x, columns=fcols)\n",
        "data['l'] = y"
      ],
      "metadata": {
        "id": "Fke_-dWqjMDi"
      },
      "execution_count": 133,
      "outputs": []
    },
    {
      "cell_type": "code",
      "source": [
        "data.info()"
      ],
      "metadata": {
        "colab": {
          "base_uri": "https://localhost:8080/"
        },
        "id": "gGNcRlGUjNSG",
        "outputId": "3249e1b5-13c9-46b7-d296-a0ab01e3c0c0"
      },
      "execution_count": 134,
      "outputs": [
        {
          "output_type": "stream",
          "name": "stdout",
          "text": [
            "<class 'pandas.core.frame.DataFrame'>\n",
            "RangeIndex: 250 entries, 0 to 249\n",
            "Data columns (total 11 columns):\n",
            " #   Column  Non-Null Count  Dtype\n",
            "---  ------  --------------  -----\n",
            " 0   f0      250 non-null    int64\n",
            " 1   f1      250 non-null    int64\n",
            " 2   f2      250 non-null    int64\n",
            " 3   f3      250 non-null    int64\n",
            " 4   f4      250 non-null    int64\n",
            " 5   f5      250 non-null    int64\n",
            " 6   f6      250 non-null    int64\n",
            " 7   f7      250 non-null    int64\n",
            " 8   f8      250 non-null    int64\n",
            " 9   f9      250 non-null    int64\n",
            " 10  l       250 non-null    int64\n",
            "dtypes: int64(11)\n",
            "memory usage: 21.6 KB\n"
          ]
        }
      ]
    },
    {
      "cell_type": "code",
      "source": [
        "# 데이터를 컬럼에 따라 그룹화\n",
        "grouped = data.groupby(list(data.columns))"
      ],
      "metadata": {
        "id": "GZ27ho8ajOpY"
      },
      "execution_count": 135,
      "outputs": []
    },
    {
      "cell_type": "code",
      "source": [
        "# 그룹화된 데이터를 라벨 컬럼에 대해 정리\n",
        "freq = grouped['l'].size().unstack(fill_value=0)"
      ],
      "metadata": {
        "id": "jr7_NMPUjQcd"
      },
      "execution_count": 136,
      "outputs": []
    },
    {
      "cell_type": "code",
      "source": [
        "# 0과 1의 빈도를 누적\n",
        "freq['sum'] = freq[0] + freq[1]"
      ],
      "metadata": {
        "id": "REd5golkjR3N"
      },
      "execution_count": 137,
      "outputs": []
    },
    {
      "cell_type": "code",
      "source": [
        "freq.head(10)"
      ],
      "metadata": {
        "colab": {
          "base_uri": "https://localhost:8080/",
          "height": 394
        },
        "id": "PZ1muxT4jTAR",
        "outputId": "d4139304-6120-4665-f19c-7992f3420caa"
      },
      "execution_count": 138,
      "outputs": [
        {
          "output_type": "execute_result",
          "data": {
            "text/plain": [
              "l                              0  1  sum\n",
              "f0 f1 f2 f3 f4 f5 f6 f7 f8 f9           \n",
              "0  0  0  0  0  0  0  1  1  1   0  1    1\n",
              "                  1  0  1  0   1  1    2\n",
              "                           1   0  1    1\n",
              "               1  0  0  0  0   1  0    1\n",
              "                           1   0  1    1\n",
              "                     1  1  1   0  1    1\n",
              "                  1  0  0  0   0  1    1\n",
              "                        1  0   0  1    1\n",
              "            1  0  0  0  1  1   1  0    1\n",
              "                  1  1  0  0   1  0    1"
            ],
            "text/html": [
              "\n",
              "  <div id=\"df-d56d9c30-e0bd-4c38-a182-bbf182e02907\">\n",
              "    <div class=\"colab-df-container\">\n",
              "      <div>\n",
              "<style scoped>\n",
              "    .dataframe tbody tr th:only-of-type {\n",
              "        vertical-align: middle;\n",
              "    }\n",
              "\n",
              "    .dataframe tbody tr th {\n",
              "        vertical-align: top;\n",
              "    }\n",
              "\n",
              "    .dataframe thead th {\n",
              "        text-align: right;\n",
              "    }\n",
              "</style>\n",
              "<table border=\"1\" class=\"dataframe\">\n",
              "  <thead>\n",
              "    <tr style=\"text-align: right;\">\n",
              "      <th></th>\n",
              "      <th></th>\n",
              "      <th></th>\n",
              "      <th></th>\n",
              "      <th></th>\n",
              "      <th></th>\n",
              "      <th></th>\n",
              "      <th></th>\n",
              "      <th></th>\n",
              "      <th>l</th>\n",
              "      <th>0</th>\n",
              "      <th>1</th>\n",
              "      <th>sum</th>\n",
              "    </tr>\n",
              "    <tr>\n",
              "      <th>f0</th>\n",
              "      <th>f1</th>\n",
              "      <th>f2</th>\n",
              "      <th>f3</th>\n",
              "      <th>f4</th>\n",
              "      <th>f5</th>\n",
              "      <th>f6</th>\n",
              "      <th>f7</th>\n",
              "      <th>f8</th>\n",
              "      <th>f9</th>\n",
              "      <th></th>\n",
              "      <th></th>\n",
              "      <th></th>\n",
              "    </tr>\n",
              "  </thead>\n",
              "  <tbody>\n",
              "    <tr>\n",
              "      <th rowspan=\"10\" valign=\"top\">0</th>\n",
              "      <th rowspan=\"10\" valign=\"top\">0</th>\n",
              "      <th rowspan=\"10\" valign=\"top\">0</th>\n",
              "      <th rowspan=\"10\" valign=\"top\">0</th>\n",
              "      <th rowspan=\"8\" valign=\"top\">0</th>\n",
              "      <th rowspan=\"3\" valign=\"top\">0</th>\n",
              "      <th>0</th>\n",
              "      <th>1</th>\n",
              "      <th>1</th>\n",
              "      <th>1</th>\n",
              "      <td>0</td>\n",
              "      <td>1</td>\n",
              "      <td>1</td>\n",
              "    </tr>\n",
              "    <tr>\n",
              "      <th rowspan=\"2\" valign=\"top\">1</th>\n",
              "      <th rowspan=\"2\" valign=\"top\">0</th>\n",
              "      <th rowspan=\"2\" valign=\"top\">1</th>\n",
              "      <th>0</th>\n",
              "      <td>1</td>\n",
              "      <td>1</td>\n",
              "      <td>2</td>\n",
              "    </tr>\n",
              "    <tr>\n",
              "      <th>1</th>\n",
              "      <td>0</td>\n",
              "      <td>1</td>\n",
              "      <td>1</td>\n",
              "    </tr>\n",
              "    <tr>\n",
              "      <th rowspan=\"5\" valign=\"top\">1</th>\n",
              "      <th rowspan=\"3\" valign=\"top\">0</th>\n",
              "      <th rowspan=\"2\" valign=\"top\">0</th>\n",
              "      <th rowspan=\"2\" valign=\"top\">0</th>\n",
              "      <th>0</th>\n",
              "      <td>1</td>\n",
              "      <td>0</td>\n",
              "      <td>1</td>\n",
              "    </tr>\n",
              "    <tr>\n",
              "      <th>1</th>\n",
              "      <td>0</td>\n",
              "      <td>1</td>\n",
              "      <td>1</td>\n",
              "    </tr>\n",
              "    <tr>\n",
              "      <th>1</th>\n",
              "      <th>1</th>\n",
              "      <th>1</th>\n",
              "      <td>0</td>\n",
              "      <td>1</td>\n",
              "      <td>1</td>\n",
              "    </tr>\n",
              "    <tr>\n",
              "      <th rowspan=\"2\" valign=\"top\">1</th>\n",
              "      <th rowspan=\"2\" valign=\"top\">0</th>\n",
              "      <th>0</th>\n",
              "      <th>0</th>\n",
              "      <td>0</td>\n",
              "      <td>1</td>\n",
              "      <td>1</td>\n",
              "    </tr>\n",
              "    <tr>\n",
              "      <th>1</th>\n",
              "      <th>0</th>\n",
              "      <td>0</td>\n",
              "      <td>1</td>\n",
              "      <td>1</td>\n",
              "    </tr>\n",
              "    <tr>\n",
              "      <th rowspan=\"2\" valign=\"top\">1</th>\n",
              "      <th rowspan=\"2\" valign=\"top\">0</th>\n",
              "      <th>0</th>\n",
              "      <th>0</th>\n",
              "      <th>1</th>\n",
              "      <th>1</th>\n",
              "      <td>1</td>\n",
              "      <td>0</td>\n",
              "      <td>1</td>\n",
              "    </tr>\n",
              "    <tr>\n",
              "      <th>1</th>\n",
              "      <th>1</th>\n",
              "      <th>0</th>\n",
              "      <th>0</th>\n",
              "      <td>1</td>\n",
              "      <td>0</td>\n",
              "      <td>1</td>\n",
              "    </tr>\n",
              "  </tbody>\n",
              "</table>\n",
              "</div>\n",
              "      <button class=\"colab-df-convert\" onclick=\"convertToInteractive('df-d56d9c30-e0bd-4c38-a182-bbf182e02907')\"\n",
              "              title=\"Convert this dataframe to an interactive table.\"\n",
              "              style=\"display:none;\">\n",
              "        \n",
              "  <svg xmlns=\"http://www.w3.org/2000/svg\" height=\"24px\"viewBox=\"0 0 24 24\"\n",
              "       width=\"24px\">\n",
              "    <path d=\"M0 0h24v24H0V0z\" fill=\"none\"/>\n",
              "    <path d=\"M18.56 5.44l.94 2.06.94-2.06 2.06-.94-2.06-.94-.94-2.06-.94 2.06-2.06.94zm-11 1L8.5 8.5l.94-2.06 2.06-.94-2.06-.94L8.5 2.5l-.94 2.06-2.06.94zm10 10l.94 2.06.94-2.06 2.06-.94-2.06-.94-.94-2.06-.94 2.06-2.06.94z\"/><path d=\"M17.41 7.96l-1.37-1.37c-.4-.4-.92-.59-1.43-.59-.52 0-1.04.2-1.43.59L10.3 9.45l-7.72 7.72c-.78.78-.78 2.05 0 2.83L4 21.41c.39.39.9.59 1.41.59.51 0 1.02-.2 1.41-.59l7.78-7.78 2.81-2.81c.8-.78.8-2.07 0-2.86zM5.41 20L4 18.59l7.72-7.72 1.47 1.35L5.41 20z\"/>\n",
              "  </svg>\n",
              "      </button>\n",
              "      \n",
              "  <style>\n",
              "    .colab-df-container {\n",
              "      display:flex;\n",
              "      flex-wrap:wrap;\n",
              "      gap: 12px;\n",
              "    }\n",
              "\n",
              "    .colab-df-convert {\n",
              "      background-color: #E8F0FE;\n",
              "      border: none;\n",
              "      border-radius: 50%;\n",
              "      cursor: pointer;\n",
              "      display: none;\n",
              "      fill: #1967D2;\n",
              "      height: 32px;\n",
              "      padding: 0 0 0 0;\n",
              "      width: 32px;\n",
              "    }\n",
              "\n",
              "    .colab-df-convert:hover {\n",
              "      background-color: #E2EBFA;\n",
              "      box-shadow: 0px 1px 2px rgba(60, 64, 67, 0.3), 0px 1px 3px 1px rgba(60, 64, 67, 0.15);\n",
              "      fill: #174EA6;\n",
              "    }\n",
              "\n",
              "    [theme=dark] .colab-df-convert {\n",
              "      background-color: #3B4455;\n",
              "      fill: #D2E3FC;\n",
              "    }\n",
              "\n",
              "    [theme=dark] .colab-df-convert:hover {\n",
              "      background-color: #434B5C;\n",
              "      box-shadow: 0px 1px 3px 1px rgba(0, 0, 0, 0.15);\n",
              "      filter: drop-shadow(0px 1px 2px rgba(0, 0, 0, 0.3));\n",
              "      fill: #FFFFFF;\n",
              "    }\n",
              "  </style>\n",
              "\n",
              "      <script>\n",
              "        const buttonEl =\n",
              "          document.querySelector('#df-d56d9c30-e0bd-4c38-a182-bbf182e02907 button.colab-df-convert');\n",
              "        buttonEl.style.display =\n",
              "          google.colab.kernel.accessAllowed ? 'block' : 'none';\n",
              "\n",
              "        async function convertToInteractive(key) {\n",
              "          const element = document.querySelector('#df-d56d9c30-e0bd-4c38-a182-bbf182e02907');\n",
              "          const dataTable =\n",
              "            await google.colab.kernel.invokeFunction('convertToInteractive',\n",
              "                                                     [key], {});\n",
              "          if (!dataTable) return;\n",
              "\n",
              "          const docLinkHtml = 'Like what you see? Visit the ' +\n",
              "            '<a target=\"_blank\" href=https://colab.research.google.com/notebooks/data_table.ipynb>data table notebook</a>'\n",
              "            + ' to learn more about interactive tables.';\n",
              "          element.innerHTML = '';\n",
              "          dataTable['output_type'] = 'display_data';\n",
              "          await google.colab.output.renderOutput(dataTable, element);\n",
              "          const docLink = document.createElement('div');\n",
              "          docLink.innerHTML = docLinkHtml;\n",
              "          element.appendChild(docLink);\n",
              "        }\n",
              "      </script>\n",
              "    </div>\n",
              "  </div>\n",
              "  "
            ]
          },
          "metadata": {},
          "execution_count": 138
        }
      ]
    },
    {
      "cell_type": "code",
      "source": [
        "freq['sum'].describe().astype(int)"
      ],
      "metadata": {
        "colab": {
          "base_uri": "https://localhost:8080/"
        },
        "id": "ZHKuqNHEjT4O",
        "outputId": "dcc8ea49-42f1-48ec-bddb-9d37345c333b"
      },
      "execution_count": 139,
      "outputs": [
        {
          "output_type": "execute_result",
          "data": {
            "text/plain": [
              "count    227\n",
              "mean       1\n",
              "std        0\n",
              "min        1\n",
              "25%        1\n",
              "50%        1\n",
              "75%        1\n",
              "max        2\n",
              "Name: sum, dtype: int64"
            ]
          },
          "metadata": {},
          "execution_count": 139
        }
      ]
    },
    {
      "cell_type": "code",
      "source": [
        "from sklearn.neural_network import MLPClassifier\n",
        "from sklearn.metrics import accuracy_score"
      ],
      "metadata": {
        "id": "iyu9jLPtjVMC"
      },
      "execution_count": 140,
      "outputs": []
    },
    {
      "cell_type": "code",
      "source": [
        "model = MLPClassifier(hidden_layer_sizes=[128, 128, 128],\n",
        "                      max_iter=1000, random_state=100)"
      ],
      "metadata": {
        "id": "w2RnMysVjwns"
      },
      "execution_count": 141,
      "outputs": []
    },
    {
      "cell_type": "code",
      "source": [
        "model.fit(data[fcols], data['l'])"
      ],
      "metadata": {
        "colab": {
          "base_uri": "https://localhost:8080/"
        },
        "id": "CXRHghdwjxiv",
        "outputId": "e12c53ad-e3c2-48ee-8581-67c185d6d96f"
      },
      "execution_count": 142,
      "outputs": [
        {
          "output_type": "execute_result",
          "data": {
            "text/plain": [
              "MLPClassifier(hidden_layer_sizes=[128, 128, 128], max_iter=1000,\n",
              "              random_state=100)"
            ]
          },
          "metadata": {},
          "execution_count": 142
        }
      ]
    },
    {
      "cell_type": "code",
      "source": [
        "accuracy_score(data['l'], model.predict(data[fcols]))"
      ],
      "metadata": {
        "colab": {
          "base_uri": "https://localhost:8080/"
        },
        "id": "UX1keYVrjyhA",
        "outputId": "fdab6478-035d-4e02-9bd3-04c046ab41ea"
      },
      "execution_count": 143,
      "outputs": [
        {
          "output_type": "execute_result",
          "data": {
            "text/plain": [
              "0.952"
            ]
          },
          "metadata": {},
          "execution_count": 143
        }
      ]
    },
    {
      "cell_type": "code",
      "source": [
        "split = int(len(data) * 0.7)"
      ],
      "metadata": {
        "id": "FOoPEWzLj0G-"
      },
      "execution_count": 144,
      "outputs": []
    },
    {
      "cell_type": "code",
      "source": [
        "train = data[:split]\n",
        "test = data[split:]"
      ],
      "metadata": {
        "id": "03yM7XqSj1i5"
      },
      "execution_count": 145,
      "outputs": []
    },
    {
      "cell_type": "code",
      "source": [
        "model.fit(train[fcols], train['l'])"
      ],
      "metadata": {
        "colab": {
          "base_uri": "https://localhost:8080/"
        },
        "id": "u3Jm12VIj3yn",
        "outputId": "1a6ba2e5-fe1f-4bf3-e811-b07a21f19e28"
      },
      "execution_count": 146,
      "outputs": [
        {
          "output_type": "execute_result",
          "data": {
            "text/plain": [
              "MLPClassifier(hidden_layer_sizes=[128, 128, 128], max_iter=1000,\n",
              "              random_state=100)"
            ]
          },
          "metadata": {},
          "execution_count": 146
        }
      ]
    },
    {
      "cell_type": "code",
      "source": [
        "accuracy_score(train['l'], model.predict(train[fcols]))"
      ],
      "metadata": {
        "colab": {
          "base_uri": "https://localhost:8080/"
        },
        "id": "Ay-4SUqfj5Ja",
        "outputId": "b5e47362-c3a0-4a0c-f8e2-ee37bd8da174"
      },
      "execution_count": 147,
      "outputs": [
        {
          "output_type": "execute_result",
          "data": {
            "text/plain": [
              "0.9714285714285714"
            ]
          },
          "metadata": {},
          "execution_count": 147
        }
      ]
    },
    {
      "cell_type": "code",
      "source": [
        "accuracy_score(test['l'], model.predict(test[fcols]))"
      ],
      "metadata": {
        "colab": {
          "base_uri": "https://localhost:8080/"
        },
        "id": "kKxdCMgOj6Sh",
        "outputId": "15684698-15ae-4359-d9b5-73e589e08da3"
      },
      "execution_count": 148,
      "outputs": [
        {
          "output_type": "execute_result",
          "data": {
            "text/plain": [
              "0.38666666666666666"
            ]
          },
          "metadata": {},
          "execution_count": 148
        }
      ]
    },
    {
      "cell_type": "markdown",
      "source": [
        "## 대규모 데이터셋"
      ],
      "metadata": {
        "id": "OL2D0ic3j9v7"
      }
    },
    {
      "cell_type": "code",
      "source": [
        "factor = 50"
      ],
      "metadata": {
        "id": "Zs-6MCl0j7iP"
      },
      "execution_count": 149,
      "outputs": []
    },
    {
      "cell_type": "code",
      "source": [
        "big = pd.DataFrame(np.random.randint(0, 2, (factor * n, f)),\n",
        "                   columns=fcols)"
      ],
      "metadata": {
        "id": "-I65Ewa1j_yJ"
      },
      "execution_count": 150,
      "outputs": []
    },
    {
      "cell_type": "code",
      "source": [
        "big['l'] = np.random.randint(0, 2, factor * n)"
      ],
      "metadata": {
        "id": "l4pVHiHEkA6f"
      },
      "execution_count": 151,
      "outputs": []
    },
    {
      "cell_type": "code",
      "source": [
        "train = big[:split]\n",
        "test = big[split:]"
      ],
      "metadata": {
        "id": "7KjZTwiKkBzK"
      },
      "execution_count": 152,
      "outputs": []
    },
    {
      "cell_type": "code",
      "source": [
        "model.fit(train[fcols], train['l'])"
      ],
      "metadata": {
        "colab": {
          "base_uri": "https://localhost:8080/"
        },
        "id": "L1vXMsAckC-Z",
        "outputId": "74aed084-e097-4204-f1fd-33f4634928f1"
      },
      "execution_count": 153,
      "outputs": [
        {
          "output_type": "execute_result",
          "data": {
            "text/plain": [
              "MLPClassifier(hidden_layer_sizes=[128, 128, 128], max_iter=1000,\n",
              "              random_state=100)"
            ]
          },
          "metadata": {},
          "execution_count": 153
        }
      ]
    },
    {
      "cell_type": "code",
      "source": [
        "accuracy_score(train['l'], model.predict(train[fcols]))"
      ],
      "metadata": {
        "colab": {
          "base_uri": "https://localhost:8080/"
        },
        "id": "9-QBbuVwkEcS",
        "outputId": "ec10cf2f-21a7-4776-9406-9772971995d5"
      },
      "execution_count": 154,
      "outputs": [
        {
          "output_type": "execute_result",
          "data": {
            "text/plain": [
              "0.9657142857142857"
            ]
          },
          "metadata": {},
          "execution_count": 154
        }
      ]
    },
    {
      "cell_type": "code",
      "source": [
        "accuracy_score(test['l'], model.predict(test[fcols]))"
      ],
      "metadata": {
        "colab": {
          "base_uri": "https://localhost:8080/"
        },
        "id": "x-GiFlaVkFwt",
        "outputId": "bb65b2e2-d532-4614-fe86-c9339e98a861"
      },
      "execution_count": 155,
      "outputs": [
        {
          "output_type": "execute_result",
          "data": {
            "text/plain": [
              "0.5043407707910751"
            ]
          },
          "metadata": {},
          "execution_count": 155
        }
      ]
    }
  ]
}